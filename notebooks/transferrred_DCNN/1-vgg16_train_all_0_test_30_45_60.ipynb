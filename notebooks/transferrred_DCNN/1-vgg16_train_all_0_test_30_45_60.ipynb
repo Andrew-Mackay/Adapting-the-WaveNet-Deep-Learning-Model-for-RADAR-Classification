{
 "cells": [
  {
   "cell_type": "markdown",
   "metadata": {},
   "source": [
    "# Transferred DCNN (VGG16)."
   ]
  },
  {
   "cell_type": "markdown",
   "metadata": {
    "colab_type": "text",
    "id": "LnU4VGgjH1mW"
   },
   "source": [
    "## Train datasets contain all users at 0 deg, Test datasets contain only 30, 45 and 60 deg. \n",
    "* Compare the effect of aspect angle on classification.\n"
   ]
  },
  {
   "cell_type": "markdown",
   "metadata": {
    "colab_type": "text",
    "id": "2sqmYc1yQb-k"
   },
   "source": [
    "### Summary\n",
    "*   Dataset 7 used \n",
    "*   3 second window\n",
    "*   All movements\n",
    "*   Cnn 64_128 model"
   ]
  },
  {
   "cell_type": "markdown",
   "metadata": {},
   "source": [
    "Results to be compared with /baseline_model/train_all_0_30_45_60.ipynb"
   ]
  },
  {
   "cell_type": "markdown",
   "metadata": {},
   "source": [
    "## Train or Load Toggle\n",
    "This variable sets whether to load results or train the model.\n",
    "* If set to True then the model will be trained, history saved, new graphs generated and saved and new analysis produced.\n",
    "* If set to False then a pre-trained version of the model will be loaded along with a history object."
   ]
  },
  {
   "cell_type": "code",
   "execution_count": 1,
   "metadata": {},
   "outputs": [],
   "source": [
    "TRAIN_MODEL = True"
   ]
  },
  {
   "cell_type": "markdown",
   "metadata": {
    "colab_type": "text",
    "id": "bZxhO7V0ZHUE"
   },
   "source": [
    "## Notebook setup"
   ]
  },
  {
   "cell_type": "markdown",
   "metadata": {
    "colab_type": "text",
    "id": "x5jAnxaaZLzZ"
   },
   "source": [
    "Allow editing of modules using editor (auto reloading)"
   ]
  },
  {
   "cell_type": "code",
   "execution_count": 1,
   "metadata": {
    "colab": {},
    "colab_type": "code",
    "id": "TGNeUj-JDXhs"
   },
   "outputs": [],
   "source": [
    "# Needed to allow editing using PyCharm\n",
    "%load_ext autoreload\n",
    "%autoreload 2"
   ]
  },
  {
   "cell_type": "markdown",
   "metadata": {
    "colab_type": "text",
    "id": "QwLbqieVYIJt"
   },
   "source": [
    "Needed for compatibility when using both CoLab and Local Jupyter notebook. It sets the appropriate file path for the data and also installs local packages such as models and data_loading."
   ]
  },
  {
   "cell_type": "code",
   "execution_count": 31,
   "metadata": {
    "colab": {
     "base_uri": "https://localhost:8080/",
     "height": 166
    },
    "colab_type": "code",
    "executionInfo": {
     "elapsed": 5837,
     "status": "ok",
     "timestamp": 1540488820681,
     "user": {
      "displayName": "Andrew Mackay",
      "photoUrl": "https://lh3.googleusercontent.com/-24hiGmdxZDE/AAAAAAAAAAI/AAAAAAAAL_I/RW7nqM11LkM/s64/photo.jpg",
      "userId": "06804410358976473893"
     },
     "user_tz": -60
    },
    "id": "3XeU0HtoDXh6",
    "outputId": "961d06a0-85ab-4646-89b2-f068a720caca"
   },
   "outputs": [],
   "source": [
    "import os\n",
    "if os.getcwd() == '/content':\n",
    "    from google.colab import drive\n",
    "    drive.mount('/content/gdrive')\n",
    "    BASE_PATH = '/content/gdrive/My Drive/Level-4-Project/'\n",
    "    !cd gdrive/My\\ Drive/Level-4-Project/ && pip install --editable .\n",
    "    os.chdir('gdrive/My Drive/Level-4-Project/')\n",
    "    \n",
    "elif os.getcwd() == 'D:\\\\Google Drive\\\\Level-4-Project\\\\notebooks\\\\baseline_models':\n",
    "    BASE_PATH = \"D:/Google Drive/Level-4-Project/\"\n",
    "    \n",
    "else:\n",
    "    BASE_PATH = \"/export/home/2192793m/Level-4-Project/\"\n",
    "    \n",
    "DATA_PATH = BASE_PATH + 'data/processed/dataset_7/'\n",
    "MODEL_PATH = BASE_PATH + 'models/baseline_model/train_all_0_test_30_45_60/'\n",
    "RESULTS_PATH = BASE_PATH + 'results/baseline_model/train_all_0_test_30_45_60/'\n",
    "REPORT_PATH = BASE_PATH + 'reports/baseline_model/train_all_0_test_30_45_60/'\n",
    "    \n",
    "from src.models.transferred_DCNN import vgg_16\n",
    "from src.data import load_data\n",
    "from src.visualization import multiple_plots, visualize_2, visualize"
   ]
  },
  {
   "cell_type": "markdown",
   "metadata": {
    "colab_type": "text",
    "id": "rgYwaq1eZb5u"
   },
   "source": [
    "Import remaining packages"
   ]
  },
  {
   "cell_type": "code",
   "execution_count": 3,
   "metadata": {
    "colab": {},
    "colab_type": "code",
    "id": "x8rzmlEhpe_R"
   },
   "outputs": [],
   "source": [
    "import numpy as np\n",
    "import sys\n",
    "from keras.preprocessing.image import ImageDataGenerator\n",
    "from keras.optimizers import SGD\n",
    "from keras.utils import np_utils\n",
    "import sys\n",
    "from sklearn.metrics import classification_report, confusion_matrix\n",
    "import csv\n",
    "from keras.models import load_model\n",
    "from keras.applications.vgg16 import VGG16\n",
    "from keras.layers import Dense, Dropout, Flatten\n",
    "from keras.models import Model\n",
    "import pickle"
   ]
  },
  {
   "cell_type": "code",
   "execution_count": 4,
   "metadata": {
    "colab": {},
    "colab_type": "code",
    "id": "PsHOJ9lEpe_V"
   },
   "outputs": [],
   "source": [
    "# Needed as originally code was for theano backend but now using tensor flow\n",
    "from keras import backend as K\n",
    "K.set_image_dim_ordering('th')"
   ]
  },
  {
   "cell_type": "markdown",
   "metadata": {
    "colab_type": "text",
    "id": "Oqq9LWY5ZiIB"
   },
   "source": [
    "## Experiment Setup and Parameter Definition"
   ]
  },
  {
   "cell_type": "code",
   "execution_count": 5,
   "metadata": {
    "colab": {},
    "colab_type": "code",
    "id": "5r9302zCpe_j"
   },
   "outputs": [],
   "source": [
    "target_names = [\"walking\", \"pushing\", \"sitting\", \"pulling\", \"circling\", \"clapping\", \"bending\"]\n",
    "nb_classes = len(target_names)\n",
    "batch_size = 100\n",
    "nb_epoch = 20\n",
    "nb_epoch = 1\n",
    "\n",
    "# input image dimensions\n",
    "img_rows, img_cols = 75, 75"
   ]
  },
  {
   "cell_type": "code",
   "execution_count": 6,
   "metadata": {},
   "outputs": [],
   "source": [
    "datasets = {\n",
    "    \"train_data\": DATA_PATH + \"train_data.pkl\",\n",
    "    \"train_labels\": DATA_PATH + \"train_labels.pkl\",\n",
    "    \"test_data_30\": DATA_PATH + \"test_data_30.pkl\",\n",
    "    \"test_labels_30\": DATA_PATH + \"test_labels_30.pkl\",\n",
    "    \"test_data_45\": DATA_PATH + \"test_data_45.pkl\",\n",
    "    \"test_labels_45\": DATA_PATH + \"test_labels_45.pkl\",\n",
    "    \"test_data_60\": DATA_PATH + \"test_data_60.pkl\",\n",
    "    \"test_labels_60\": DATA_PATH + \"test_labels_60.pkl\"\n",
    "}\n",
    "loaded_data = load_data.load_data_specific_files(datasets)\n",
    "# convert class vectors to binary class matrices\n",
    "Y_train = np_utils.to_categorical(loaded_data[\"train_labels\"], nb_classes)\n",
    "Y_test = np_utils.to_categorical(loaded_data[\"test_labels_60\"], nb_classes)\n",
    "X_train = loaded_data[\"train_data\"].astype('float32')\n",
    "X_test = loaded_data[\"test_data_60\"].astype('float32')\n",
    "X_train /= 255\n",
    "X_test /= 255 \n",
    "# Stack three times to fit VGG16 (RGB) treated as grayscale\n",
    "x_train = np.hstack((x_train, x_train, x_train))\n",
    "x_test = np.hstack((x_test, x_test, x_test))"
   ]
  },
  {
   "cell_type": "code",
   "execution_count": 7,
   "metadata": {},
   "outputs": [],
   "source": [
    "results = {'30':{}, '45':{}, '60':{}}\n",
    "for key, value in results.items():\n",
    "    value[\"acc\"] = None\n",
    "    value[\"loss\"] = None\n",
    "    value[\"classification_report\"] = None\n",
    "    value[\"confusion_matrix\"] = None"
   ]
  },
  {
   "cell_type": "markdown",
   "metadata": {
    "colab_type": "text",
    "id": "mjJ4B23bZz47"
   },
   "source": [
    "## Training and Evaluating Models"
   ]
  },
  {
   "cell_type": "code",
   "execution_count": 8,
   "metadata": {
    "colab": {
     "base_uri": "https://localhost:8080/",
     "height": 4652
    },
    "colab_type": "code",
    "executionInfo": {
     "elapsed": 3199567,
     "status": "ok",
     "timestamp": 1540492029819,
     "user": {
      "displayName": "Andrew Mackay",
      "photoUrl": "https://lh3.googleusercontent.com/-24hiGmdxZDE/AAAAAAAAAAI/AAAAAAAAL_I/RW7nqM11LkM/s64/photo.jpg",
      "userId": "06804410358976473893"
     },
     "user_tz": -60
    },
    "id": "pKdiTJP6pe_n",
    "outputId": "5343ab33-16a5-4298-8b64-728a950ea309"
   },
   "outputs": [
    {
     "name": "stdout",
     "output_type": "stream",
     "text": [
      "Train on 44951 samples, validate on 9104 samples\n",
      "Epoch 1/1\n",
      "44951/44951 [==============================] - 491s 11ms/step - loss: 0.5357 - acc: 0.8024 - val_loss: 2.9350 - val_acc: 0.4351\n"
     ]
    }
   ],
   "source": [
    "if TRAIN_MODEL:\n",
    "    model = vgg_16.make_model(img_rows, img_cols, nb_classes)\n",
    "    # train the model using SGD + momentum.\n",
    "    sgd = SGD(lr=0.01, decay=1e-6, momentum=0.9, nesterov=True)\n",
    "    model.compile(loss='categorical_crossentropy',\n",
    "                  optimizer=sgd,\n",
    "                  metrics=['accuracy'])\n",
    "\n",
    "    history = model.fit(\n",
    "        X_train,\n",
    "        Y_train,\n",
    "        batch_size=batch_size,\n",
    "        epochs=nb_epoch,\n",
    "        validation_data=(X_test, Y_test),\n",
    "        shuffle=True, \n",
    "        verbose=1)\n",
    "    model.save(MODELS_PATH + \"model.h5\")\n",
    "    pickle.dump(history, open(RESULTS_PATH + \"history.pkl\", \"wb\"))\n",
    "    \n",
    "else:\n",
    "    model = load_model(MODELS_PATH + \"model.h5\")\n",
    "    history = pickle.load(open(RESULTS_PATH + \"history.pkl\", \"rb\"))"
   ]
  },
  {
   "cell_type": "code",
   "execution_count": 22,
   "metadata": {},
   "outputs": [
    {
     "name": "stdout",
     "output_type": "stream",
     "text": [
      "[[6]\n",
      " [6]\n",
      " [6]\n",
      " ...\n",
      " [2]\n",
      " [2]\n",
      " [2]]\n",
      "9104/9104 [==============================] - 27s 3ms/step\n",
      "[[6]\n",
      " [6]\n",
      " [6]\n",
      " ...\n",
      " [2]\n",
      " [2]\n",
      " [2]]\n",
      "6828/6828 [==============================] - 21s 3ms/step\n"
     ]
    },
    {
     "name": "stderr",
     "output_type": "stream",
     "text": [
      "C:\\Users\\macka\\Anaconda3\\envs\\dataScience\\lib\\site-packages\\sklearn\\metrics\\classification.py:1145: UndefinedMetricWarning: Recall and F-score are ill-defined and being set to 0.0 in labels with no true samples.\n",
      "  'recall', 'true', average, warn_for)\n"
     ]
    },
    {
     "name": "stdout",
     "output_type": "stream",
     "text": [
      "[[6]\n",
      " [6]\n",
      " [6]\n",
      " ...\n",
      " [2]\n",
      " [2]\n",
      " [2]]\n",
      "9104/9104 [==============================] - 27s 3ms/step\n"
     ]
    }
   ],
   "source": [
    "for angle, value in results.items(): \n",
    "    X_test = loaded_data[\"test_data_\" + angle]\n",
    "    y_test = loaded_data[\"test_labels_\" +angle]\n",
    "    y_test = np.reshape(y_test, (len(y_test), 1))\n",
    "    Y_test = np_utils.to_categorical(y_test, nb_classes)\n",
    "    evaluation = model.evaluate(X_test, Y_test, batch_size=batch_size, verbose=1)\n",
    "    value[\"loss\"] = evaluation[0]\n",
    "    value[\"accuracy\"] = evaluation[1]\n",
    "\n",
    "    y_pred = model.predict_classes(X_test)\n",
    "    value[\"classification_report\"] = classification_report(\n",
    "        np.argmax(Y_test,axis=1),\n",
    "        y_pred,target_names=target_names)\n",
    "    value[\"confusion_matrix\"] = confusion_matrix(\n",
    "        np.argmax(Y_test,axis=1), y_pred)"
   ]
  },
  {
   "cell_type": "markdown",
   "metadata": {
    "colab_type": "text",
    "id": "uU-i7-ijaNu-"
   },
   "source": [
    "## Analysis and Saving of Results"
   ]
  },
  {
   "cell_type": "code",
   "execution_count": 34,
   "metadata": {
    "colab": {},
    "colab_type": "code",
    "id": "8jKEtnEG14Iy"
   },
   "outputs": [],
   "source": [
    "save_graph = True"
   ]
  },
  {
   "cell_type": "markdown",
   "metadata": {
    "colab_type": "text",
    "id": "7aCG-luMe2_h"
   },
   "source": [
    "### Plot and Save graph"
   ]
  },
  {
   "cell_type": "code",
   "execution_count": 28,
   "metadata": {},
   "outputs": [
    {
     "data": {
      "image/png": "[encoded data removed]",
      "text/plain": [
       "<Figure size 432x288 with 1 Axes>"
      ]
     },
     "metadata": {
      "needs_background": "light"
     },
     "output_type": "display_data"
    }
   ],
   "source": [
    "if not load_models:\n",
    "    visualize.plot_evaluation_bar(\n",
    "        results,\n",
    "        ['30°', '45°', '60°'],\n",
    "        \"Effect of Aspect Angle on Classification\",\n",
    "        'Aspect Angle',\n",
    "        'Test Accuracy',\n",
    "        save=save_graph,\n",
    "        path=REPORT_PATH + \"aspect_angle_comparison.svg\")"
   ]
  },
  {
   "cell_type": "markdown",
   "metadata": {
    "colab_type": "text",
    "id": "478w01d1xuFs"
   },
   "source": [
    "### Save Classification Report and Confusion Matricies"
   ]
  },
  {
   "cell_type": "code",
   "execution_count": 35,
   "metadata": {
    "colab": {},
    "colab_type": "code",
    "id": "WE2MBBFdxnlR"
   },
   "outputs": [],
   "source": [
    "if save_report:\n",
    "    file = open(REPORT_PATH + 'Classification_and_Confusion.txt', 'w') \n",
    "\n",
    "    for folder_name, value in results.items():    \n",
    "        file.write(\"--------------------------------------------------\\n\") \n",
    "        file.write(\"Test set name: \" + folder_name + \"\\n\") \n",
    "        file.write(\"Accuracy: \" + str(np.round(value[\"accuracy\"], 2)) + \"\\n\")\n",
    "        file.write(\"Loss: \" + str(np.round(value[\"loss\"], 2)) + \"\\n\")\n",
    "        file.write(\"Classification Report:\\n\") \n",
    "        file.write(value['classification_report'])\n",
    "        file.write(\"Confusion Matrix:\\n\") \n",
    "        file.write(np.array2string(value['confusion_matrix']) + \"\\n\")\n",
    "\n",
    "    file.close() "
   ]
  },
  {
   "cell_type": "code",
   "execution_count": null,
   "metadata": {
    "colab": {},
    "colab_type": "code",
    "id": "80JwFEpNyFGt"
   },
   "outputs": [],
   "source": []
  }
 ],
 "metadata": {
  "accelerator": "GPU",
  "colab": {
   "collapsed_sections": [],
   "name": "experiment_1.ipynb",
   "provenance": [
    {
     "file_id": "1ixohIMt5Ugu13JiFmh4rQfM4MVOcdn78",
     "timestamp": 1540411548970
    }
   ],
   "toc_visible": true,
   "version": "0.3.2"
  },
  "kernelspec": {
   "display_name": "Python 3",
   "language": "python",
   "name": "python3"
  },
  "language_info": {
   "codemirror_mode": {
    "name": "ipython",
    "version": 3
   },
   "file_extension": ".py",
   "mimetype": "text/x-python",
   "name": "python",
   "nbconvert_exporter": "python",
   "pygments_lexer": "ipython3",
   "version": "3.6.6"
  }
 },
 "nbformat": 4,
 "nbformat_minor": 1
}
