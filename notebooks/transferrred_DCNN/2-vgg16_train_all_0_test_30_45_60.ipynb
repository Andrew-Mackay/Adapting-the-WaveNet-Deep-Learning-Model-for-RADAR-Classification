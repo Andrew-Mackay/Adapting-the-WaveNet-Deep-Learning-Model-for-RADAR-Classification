{
 "cells": [
  {
   "cell_type": "markdown",
   "metadata": {
    "colab_type": "text",
    "id": "LnU4VGgjH1mW"
   },
   "source": [
    "# Train datasets contain all users at 0 deg, Test datasets contain only 30, 45 and 60 deg. \n",
    "* Compare the effect of aspect angle on classification.\n"
   ]
  },
  {
   "cell_type": "markdown",
   "metadata": {
    "colab_type": "text",
    "id": "2sqmYc1yQb-k"
   },
   "source": [
    "### Summary\n",
    "*   Dataset 7 used \n",
    "*   3 second window\n",
    "*   All movements\n",
    "*   Transferred VGG16"
   ]
  },
  {
   "cell_type": "markdown",
   "metadata": {
    "colab_type": "text",
    "id": "OOMcOj6pu-9T"
   },
   "source": [
    "## Train or Load Toggle\n",
    "This variable sets whether to load results or train the model.\n",
    "* If set to True then the model will be trained, history saved, new graphs generated and saved and new analysis produced.\n",
    "* If set to False then a pre-trained version of the model will be loaded along with a history object."
   ]
  },
  {
   "cell_type": "code",
   "execution_count": 1,
   "metadata": {
    "colab": {},
    "colab_type": "code",
    "id": "0HY_RL0Zu-9V"
   },
   "outputs": [],
   "source": [
    "TRAIN_MODEL = True"
   ]
  },
  {
   "cell_type": "markdown",
   "metadata": {
    "colab_type": "text",
    "id": "bZxhO7V0ZHUE"
   },
   "source": [
    "## Notebook setup"
   ]
  },
  {
   "cell_type": "markdown",
   "metadata": {
    "colab_type": "text",
    "id": "x5jAnxaaZLzZ"
   },
   "source": [
    "Allow editing of modules using editor (auto reloading)"
   ]
  },
  {
   "cell_type": "code",
   "execution_count": 2,
   "metadata": {
    "colab": {},
    "colab_type": "code",
    "id": "TGNeUj-JDXhs"
   },
   "outputs": [],
   "source": [
    "# Needed to allow editing using PyCharm\n",
    "%load_ext autoreload\n",
    "%autoreload 2"
   ]
  },
  {
   "cell_type": "markdown",
   "metadata": {
    "colab_type": "text",
    "id": "QwLbqieVYIJt"
   },
   "source": [
    "Needed for compatibility when using both CoLab and Local Jupyter notebook. It sets the appropriate file path for the data and also installs local packages such as models and data_loading."
   ]
  },
  {
   "cell_type": "code",
   "execution_count": 3,
   "metadata": {
    "colab": {
     "base_uri": "https://localhost:8080/",
     "height": 185
    },
    "colab_type": "code",
    "executionInfo": {
     "elapsed": 7867,
     "status": "ok",
     "timestamp": 1543923578228,
     "user": {
      "displayName": "Andrew Mackay",
      "photoUrl": "https://lh3.googleusercontent.com/-24hiGmdxZDE/AAAAAAAAAAI/AAAAAAAAL_I/RW7nqM11LkM/s64/photo.jpg",
      "userId": "06804410358976473893"
     },
     "user_tz": 0
    },
    "id": "3XeU0HtoDXh6",
    "outputId": "8a831d57-5822-4ec7-a1df-fbefef2c97ed"
   },
   "outputs": [
    {
     "name": "stderr",
     "output_type": "stream",
     "text": [
      "Using TensorFlow backend.\n"
     ]
    }
   ],
   "source": [
    "import os\n",
    "path = os.getcwd()\n",
    "if path == '/content':\n",
    "    from google.colab import drive\n",
    "    drive.mount('/content/gdrive')\n",
    "    BASE_PATH = '/content/gdrive/My Drive/Level-4-Project/'\n",
    "    !cd gdrive/My\\ Drive/Level-4-Project/ && pip install --editable .\n",
    "    os.chdir('gdrive/My Drive/Level-4-Project/')\n",
    "    \n",
    "elif path == 'D:\\\\Google Drive\\\\Level-4-Project\\\\notebooks\\\\transferrred_DCNN':\n",
    "    BASE_PATH = \"D:/Google Drive/Level-4-Project/\"\n",
    "    \n",
    "elif path == \"/export/home/2192793m\":\n",
    "    BASE_PATH = \"/export/home/2192793m/Level-4-Project/\"    \n",
    "    \n",
    "DATA_PATH = BASE_PATH + 'data/processed/3/dataset_7/'\n",
    "MODEL_PATH = BASE_PATH + 'models/transferred_DCNN/train_all_0_test_30_45_60/'\n",
    "RESULTS_PATH = BASE_PATH + 'results/transferred_DCNN/train_all_0_test_30_45_60/'\n",
    "REPORT_PATH = BASE_PATH + 'reports/transferred_DCNN/train_all_0_test_30_45_60/'    \n",
    "from src.models.transferred_DCNN import vgg_16\n",
    "from src.data import load_data\n",
    "from src.visualization import multiple_plots, visualize, plot_confusion_matrix"
   ]
  },
  {
   "cell_type": "markdown",
   "metadata": {
    "colab_type": "text",
    "id": "rgYwaq1eZb5u"
   },
   "source": [
    "Import remaining packages"
   ]
  },
  {
   "cell_type": "code",
   "execution_count": 4,
   "metadata": {
    "colab": {},
    "colab_type": "code",
    "id": "x8rzmlEhpe_R"
   },
   "outputs": [],
   "source": [
    "import numpy as np\n",
    "import sys\n",
    "from keras.preprocessing.image import ImageDataGenerator\n",
    "from keras.optimizers import SGD\n",
    "from keras.utils import np_utils\n",
    "import sys\n",
    "from sklearn.metrics import classification_report, confusion_matrix\n",
    "import csv\n",
    "from keras.models import load_model\n",
    "import pickle"
   ]
  },
  {
   "cell_type": "code",
   "execution_count": 5,
   "metadata": {
    "colab": {},
    "colab_type": "code",
    "id": "PsHOJ9lEpe_V"
   },
   "outputs": [],
   "source": [
    "# Needed as originally code was for theano backend but now using tensor flow\n",
    "from keras import backend as K\n",
    "K.set_image_dim_ordering('th')"
   ]
  },
  {
   "cell_type": "markdown",
   "metadata": {
    "colab_type": "text",
    "id": "Oqq9LWY5ZiIB"
   },
   "source": [
    "## Experiment Setup and Parameter Definition"
   ]
  },
  {
   "cell_type": "code",
   "execution_count": 6,
   "metadata": {
    "colab": {},
    "colab_type": "code",
    "id": "5r9302zCpe_j"
   },
   "outputs": [],
   "source": [
    "target_names = [\"walking\", \"pushing\", \"sitting\", \"pulling\", \"circling\", \"clapping\", \"bending\"]\n",
    "nb_classes = len(target_names)\n",
    "batch_size = 100\n",
    "nb_epoch = 20\n",
    "\n",
    "# input image dimensions\n",
    "img_rows, img_cols = 75, 75"
   ]
  },
  {
   "cell_type": "code",
   "execution_count": 7,
   "metadata": {
    "colab": {},
    "colab_type": "code",
    "id": "H9kyxJP6u--T"
   },
   "outputs": [],
   "source": [
    "datasets = {\n",
    "    \"train_data\": DATA_PATH + \"train_data.pkl\",\n",
    "    \"train_labels\": DATA_PATH + \"train_labels.pkl\",\n",
    "    \"test_data_30\": DATA_PATH + \"test_data_30.pkl\",\n",
    "    \"test_labels_30\": DATA_PATH + \"test_labels_30.pkl\",\n",
    "    \"test_data_45\": DATA_PATH + \"test_data_45.pkl\",\n",
    "    \"test_labels_45\": DATA_PATH + \"test_labels_45.pkl\",\n",
    "    \"test_data_60\": DATA_PATH + \"test_data_60.pkl\",\n",
    "    \"test_labels_60\": DATA_PATH + \"test_labels_60.pkl\"\n",
    "}\n",
    "loaded_data = load_data.load_data_specific_files(datasets)\n",
    "# convert class vectors to binary class matrices\n",
    "Y_train = np_utils.to_categorical(loaded_data[\"train_labels\"], nb_classes)\n",
    "Y_test = np_utils.to_categorical(loaded_data[\"test_labels_60\"], nb_classes)\n",
    "X_train = loaded_data[\"train_data\"].astype('float32')\n",
    "X_test = loaded_data[\"test_data_60\"].astype('float32')\n",
    "X_train /= 255\n",
    "X_test /= 255 \n",
    "# Stack three times to fit VGG16 (RGB) treated as grayscale\n",
    "X_train = np.hstack((X_train, X_train, X_train))\n",
    "X_test = np.hstack((X_test, X_test, X_test))"
   ]
  },
  {
   "cell_type": "code",
   "execution_count": 9,
   "metadata": {
    "colab": {},
    "colab_type": "code",
    "id": "kUcfrikku--e"
   },
   "outputs": [],
   "source": [
    "results = {'30':{}, '45':{}, '60':{}}\n",
    "for key, value in results.items():\n",
    "    value[\"acc\"] = None\n",
    "    value[\"loss\"] = None\n",
    "    value[\"classification_report\"] = None\n",
    "    value[\"confusion_matrix\"] = None"
   ]
  },
  {
   "cell_type": "markdown",
   "metadata": {
    "colab_type": "text",
    "id": "mjJ4B23bZz47"
   },
   "source": [
    "## Training and Evaluating Models"
   ]
  },
  {
   "cell_type": "code",
   "execution_count": 8,
   "metadata": {
    "colab": {},
    "colab_type": "code",
    "id": "pKdiTJP6pe_n"
   },
   "outputs": [
    {
     "name": "stdout",
     "output_type": "stream",
     "text": [
      "Train on 44951 samples, validate on 9104 samples\n",
      "Epoch 1/1\n",
      "44951/44951 [==============================] - 979s 22ms/step - loss: 0.6126 - acc: 0.7723 - val_loss: 2.1725 - val_acc: 0.4948\n"
     ]
    }
   ],
   "source": [
    "if TRAIN_MODEL:\n",
    "    model = vgg_16.make_model(img_rows, img_cols, nb_classes)\n",
    "    # train the model using SGD + momentum.\n",
    "    # Changed lr from 0.01 to 0.0001\n",
    "    sgd = SGD(lr=0.0001, decay=1e-6, momentum=0.9, nesterov=True)\n",
    "    model.compile(loss='categorical_crossentropy',\n",
    "                  optimizer=sgd,\n",
    "                  metrics=['accuracy'])\n",
    "\n",
    "    history = model.fit(\n",
    "        X_train,\n",
    "        Y_train,\n",
    "        batch_size=batch_size,\n",
    "        epochs=nb_epoch,\n",
    "        validation_data=(X_test, Y_test),\n",
    "        shuffle=True, \n",
    "        verbose=1)\n",
    "    model.save(MODEL_PATH + \"model.h5\")\n",
    "    with open(RESULTS_PATH + \"history.pkl\", \"wb\") as file:\n",
    "        pickle.dump(history, file)\n",
    "    \n",
    "else:\n",
    "    model = load_model(MODEL_PATH + \"model.h5\")\n",
    "    with open(RESULTS_PATH + \"history.pkl\", \"rb\") as file:\n",
    "        history = pickle.load(file)"
   ]
  },
  {
   "cell_type": "code",
   "execution_count": 12,
   "metadata": {
    "colab": {
     "base_uri": "https://localhost:8080/",
     "height": 129
    },
    "colab_type": "code",
    "executionInfo": {
     "elapsed": 82186,
     "status": "ok",
     "timestamp": 1543923673185,
     "user": {
      "displayName": "Andrew Mackay",
      "photoUrl": "https://lh3.googleusercontent.com/-24hiGmdxZDE/AAAAAAAAAAI/AAAAAAAAL_I/RW7nqM11LkM/s64/photo.jpg",
      "userId": "06804410358976473893"
     },
     "user_tz": 0
    },
    "id": "HuCizzilu--x",
    "outputId": "f5fd0f52-6847-4368-ebf3-5d927c00728c",
    "scrolled": true
   },
   "outputs": [
    {
     "name": "stdout",
     "output_type": "stream",
     "text": [
      "9104/9104 [==============================] - 62s 7ms/step\n",
      "6828/6828 [==============================] - 49s 7ms/step\n"
     ]
    },
    {
     "name": "stderr",
     "output_type": "stream",
     "text": [
      "C:\\Users\\macka\\Anaconda3\\envs\\dataScience\\lib\\site-packages\\sklearn\\metrics\\classification.py:1145: UndefinedMetricWarning: Recall and F-score are ill-defined and being set to 0.0 in labels with no true samples.\n",
      "  'recall', 'true', average, warn_for)\n"
     ]
    },
    {
     "name": "stdout",
     "output_type": "stream",
     "text": [
      "9104/9104 [==============================] - 62s 7ms/step\n"
     ]
    }
   ],
   "source": [
    "for angle, value in results.items(): \n",
    "    X_test = loaded_data[\"test_data_\" + angle]\n",
    "    # Stack three times to fit VGG16 (RGB) treated as grayscale\n",
    "    X_test = np.hstack((X_test, X_test, X_test))\n",
    "    y_test = loaded_data[\"test_labels_\" +angle]\n",
    "    y_test = np.reshape(y_test, (len(y_test), 1))\n",
    "    Y_test = np_utils.to_categorical(y_test, nb_classes)\n",
    "    evaluation = model.evaluate(X_test, Y_test, batch_size=batch_size, verbose=1)\n",
    "    value[\"loss\"] = evaluation[0]\n",
    "    value[\"accuracy\"] = evaluation[1]\n",
    "\n",
    "#     y_pred = model.predict_classes(X_test)\n",
    "    y_pred = model.predict(X_test)\n",
    "    y_pred = np.argmax(y_pred,axis=1)\n",
    "    value[\"classification_report\"] = classification_report(\n",
    "        np.argmax(Y_test,axis=1),\n",
    "        y_pred,target_names=target_names)\n",
    "    value[\"confusion_matrix\"] = confusion_matrix(\n",
    "        np.argmax(Y_test,axis=1), y_pred)"
   ]
  },
  {
   "cell_type": "markdown",
   "metadata": {
    "colab_type": "text",
    "id": "uU-i7-ijaNu-"
   },
   "source": [
    "## Analysis and Saving of Results"
   ]
  },
  {
   "cell_type": "code",
   "execution_count": 13,
   "metadata": {
    "colab": {},
    "colab_type": "code",
    "id": "8jKEtnEG14Iy"
   },
   "outputs": [],
   "source": [
    "save_graph = True\n",
    "save_report = True"
   ]
  },
  {
   "cell_type": "markdown",
   "metadata": {
    "colab_type": "text",
    "id": "7aCG-luMe2_h"
   },
   "source": [
    "### Plot and Save graph"
   ]
  },
  {
   "cell_type": "code",
   "execution_count": 14,
   "metadata": {
    "colab": {
     "base_uri": "https://localhost:8080/",
     "height": 376
    },
    "colab_type": "code",
    "executionInfo": {
     "elapsed": 77285,
     "status": "ok",
     "timestamp": 1543923673510,
     "user": {
      "displayName": "Andrew Mackay",
      "photoUrl": "https://lh3.googleusercontent.com/-24hiGmdxZDE/AAAAAAAAAAI/AAAAAAAAL_I/RW7nqM11LkM/s64/photo.jpg",
      "userId": "06804410358976473893"
     },
     "user_tz": 0
    },
    "id": "BwArLGZ7u-_G",
    "outputId": "f065169d-f75c-461f-cdcf-95fe8bdbdb58"
   },
   "outputs": [
    {
     "data": {
      "image/png": "[encoded data removed]",
      "text/plain": [
       "<Figure size 432x288 with 1 Axes>"
      ]
     },
     "metadata": {
      "needs_background": "light"
     },
     "output_type": "display_data"
    }
   ],
   "source": [
    "visualize.plot_evaluation_bar(\n",
    "    results,\n",
    "    ['30°', '45°', '60°'],\n",
    "    \"Effect of Aspect Angle on Classification\",\n",
    "    'Aspect Angle',\n",
    "    'Test Accuracy',\n",
    "    save=save_graph,\n",
    "    path=REPORT_PATH + \"aspect_angle_comparison.svg\")"
   ]
  },
  {
   "cell_type": "markdown",
   "metadata": {
    "colab_type": "text",
    "id": "WuOYZi0pF2Yd"
   },
   "source": [
    "### Confusion Matricies"
   ]
  },
  {
   "cell_type": "markdown",
   "metadata": {
    "colab_type": "text",
    "id": "BTP4CfFxF8PQ"
   },
   "source": [
    "#### 30 Degrees Aspect Angle"
   ]
  },
  {
   "cell_type": "code",
   "execution_count": 16,
   "metadata": {
    "colab": {
     "base_uri": "https://localhost:8080/",
     "height": 401
    },
    "colab_type": "code",
    "executionInfo": {
     "elapsed": 6442,
     "status": "ok",
     "timestamp": 1543924761717,
     "user": {
      "displayName": "Andrew Mackay",
      "photoUrl": "https://lh3.googleusercontent.com/-24hiGmdxZDE/AAAAAAAAAAI/AAAAAAAAL_I/RW7nqM11LkM/s64/photo.jpg",
      "userId": "06804410358976473893"
     },
     "user_tz": 0
    },
    "id": "V5mLdDGdE1WH",
    "outputId": "9ea05246-80b4-476b-c459-f5a597ffd95d"
   },
   "outputs": [
    {
     "data": {
      "image/png": "[encoded data removed]",
      "text/plain": [
       "<Figure size 432x288 with 2 Axes>"
      ]
     },
     "metadata": {
      "needs_background": "light"
     },
     "output_type": "display_data"
    }
   ],
   "source": [
    "plot_confusion_matrix.plot_confusion_matrix(\n",
    "    results[\"30\"]['confusion_matrix'],\n",
    "    target_names,\n",
    "    title=\"30 Degrees Aspect Angle\",\n",
    "    save=save_graph,\n",
    "    path=REPORT_PATH + \"confusion_matrix_30.svg\")"
   ]
  },
  {
   "cell_type": "markdown",
   "metadata": {
    "colab_type": "text",
    "id": "d0E9P4sdGBXz"
   },
   "source": [
    "#### 45 Degrees Aspect Angle"
   ]
  },
  {
   "cell_type": "code",
   "execution_count": 17,
   "metadata": {
    "colab": {
     "base_uri": "https://localhost:8080/",
     "height": 401
    },
    "colab_type": "code",
    "executionInfo": {
     "elapsed": 10086,
     "status": "ok",
     "timestamp": 1543924798710,
     "user": {
      "displayName": "Andrew Mackay",
      "photoUrl": "https://lh3.googleusercontent.com/-24hiGmdxZDE/AAAAAAAAAAI/AAAAAAAAL_I/RW7nqM11LkM/s64/photo.jpg",
      "userId": "06804410358976473893"
     },
     "user_tz": 0
    },
    "id": "ZBFaFJ-5E1un",
    "outputId": "f1a67f51-1006-4522-f915-f963d99dfc34"
   },
   "outputs": [
    {
     "data": {
      "image/png": "[encoded data removed]",
      "text/plain": [
       "<Figure size 432x288 with 2 Axes>"
      ]
     },
     "metadata": {
      "needs_background": "light"
     },
     "output_type": "display_data"
    }
   ],
   "source": [
    "plot_confusion_matrix.plot_confusion_matrix(\n",
    "    results[\"45\"]['confusion_matrix'],\n",
    "    target_names,\n",
    "    title=\"45 Degrees Aspect Angle\",\n",
    "    save=save_graph,\n",
    "    path=REPORT_PATH + \"confusion_matrix_45.svg\")"
   ]
  },
  {
   "cell_type": "markdown",
   "metadata": {
    "colab_type": "text",
    "id": "kHprk2a6GFTK"
   },
   "source": [
    "#### 60 Degrees Aspect Angle"
   ]
  },
  {
   "cell_type": "code",
   "execution_count": 18,
   "metadata": {
    "colab": {
     "base_uri": "https://localhost:8080/",
     "height": 401
    },
    "colab_type": "code",
    "executionInfo": {
     "elapsed": 6444,
     "status": "ok",
     "timestamp": 1543924792820,
     "user": {
      "displayName": "Andrew Mackay",
      "photoUrl": "https://lh3.googleusercontent.com/-24hiGmdxZDE/AAAAAAAAAAI/AAAAAAAAL_I/RW7nqM11LkM/s64/photo.jpg",
      "userId": "06804410358976473893"
     },
     "user_tz": 0
    },
    "id": "mj09XTq2FTAV",
    "outputId": "92d817d1-d65c-4f2f-e89c-7c13429ef81a"
   },
   "outputs": [
    {
     "data": {
      "image/png": "[encoded data removed]",
      "text/plain": [
       "<Figure size 432x288 with 2 Axes>"
      ]
     },
     "metadata": {
      "needs_background": "light"
     },
     "output_type": "display_data"
    }
   ],
   "source": [
    "plot_confusion_matrix.plot_confusion_matrix(\n",
    "    results[\"60\"]['confusion_matrix'],\n",
    "    target_names,\n",
    "    title=\"60 Degrees Aspect Angle\",\n",
    "    save=save_graph,\n",
    "    path=REPORT_PATH + \"confusion_matrix_60.svg\")"
   ]
  },
  {
   "cell_type": "markdown",
   "metadata": {
    "colab_type": "text",
    "id": "478w01d1xuFs"
   },
   "source": [
    "### Save Classification Report and Confusion Matricies"
   ]
  },
  {
   "cell_type": "code",
   "execution_count": 19,
   "metadata": {
    "colab": {
     "base_uri": "https://localhost:8080/",
     "height": 903
    },
    "colab_type": "code",
    "executionInfo": {
     "elapsed": 572,
     "status": "ok",
     "timestamp": 1543924679276,
     "user": {
      "displayName": "Andrew Mackay",
      "photoUrl": "https://lh3.googleusercontent.com/-24hiGmdxZDE/AAAAAAAAAAI/AAAAAAAAL_I/RW7nqM11LkM/s64/photo.jpg",
      "userId": "06804410358976473893"
     },
     "user_tz": 0
    },
    "id": "WE2MBBFdxnlR",
    "outputId": "7f7f725c-bedc-4b8b-d506-31ab1d39b868"
   },
   "outputs": [
    {
     "name": "stdout",
     "output_type": "stream",
     "text": [
      "Test set name: 30 degrees\n",
      "              precision    recall  f1-score   support\n",
      "\n",
      "     walking       0.53      0.72      0.61      1138\n",
      "     pushing       0.94      0.24      0.39      2276\n",
      "     sitting       0.58      1.00      0.73      1138\n",
      "     pulling       0.08      0.09      0.09      1138\n",
      "    circling       0.37      0.32      0.34      1138\n",
      "    clapping       0.73      1.00      0.84      1138\n",
      "     bending       0.54      0.56      0.55      1138\n",
      "\n",
      "   micro avg       0.52      0.52      0.52      9104\n",
      "   macro avg       0.54      0.56      0.51      9104\n",
      "weighted avg       0.59      0.52      0.49      9104\n",
      " \n",
      "\n",
      "\n",
      "\n",
      "Test set name: 45 degrees\n",
      "              precision    recall  f1-score   support\n",
      "\n",
      "     walking       0.00      0.00      0.00         0\n",
      "     pushing       0.76      0.22      0.35      1138\n",
      "     sitting       0.38      0.95      0.54      1138\n",
      "     pulling       0.77      0.03      0.06      1138\n",
      "    circling       0.02      0.00      0.00      1138\n",
      "    clapping       0.68      1.00      0.81      1138\n",
      "     bending       0.38      0.30      0.34      1138\n",
      "\n",
      "   micro avg       0.42      0.42      0.42      6828\n",
      "   macro avg       0.43      0.36      0.30      6828\n",
      "weighted avg       0.50      0.42      0.35      6828\n",
      " \n",
      "\n",
      "\n",
      "\n",
      "Test set name: 60 degrees\n",
      "              precision    recall  f1-score   support\n",
      "\n",
      "     walking       0.26      0.19      0.22      1138\n",
      "     pushing       0.19      0.02      0.04      2276\n",
      "     sitting       0.27      0.99      0.42      1138\n",
      "     pulling       0.01      0.01      0.01      1138\n",
      "    circling       0.00      0.00      0.00      1138\n",
      "    clapping       0.86      1.00      0.92      1138\n",
      "     bending       0.62      0.38      0.47      1138\n",
      "\n",
      "   micro avg       0.33      0.33      0.33      9104\n",
      "   macro avg       0.32      0.37      0.30      9104\n",
      "weighted avg       0.30      0.33      0.26      9104\n",
      " \n",
      "\n",
      "\n",
      "\n"
     ]
    }
   ],
   "source": [
    "if save_report:\n",
    "    with open(REPORT_PATH + 'Classification_and_Confusion.txt', 'w') as file:\n",
    "\n",
    "        for folder_name, value in results.items():    \n",
    "            file.write(\"--------------------------------------------------\\n\") \n",
    "            file.write(\"Test set name: \" + folder_name + \"\\n\") \n",
    "            print(\"Test set name:\", folder_name, \"degrees\")\n",
    "            file.write(\"Accuracy: \" + str(np.round(value[\"accuracy\"], 2)) + \"\\n\")\n",
    "            file.write(\"Loss: \" + str(np.round(value[\"loss\"], 2)) + \"\\n\")\n",
    "            file.write(\"Classification Report:\\n\") \n",
    "            file.write(value['classification_report'])\n",
    "            print(value['classification_report'], \"\\n\\n\\n\")\n",
    "            file.write(\"Confusion Matrix:\\n\") \n",
    "            file.write(np.array2string(value['confusion_matrix']) + \"\\n\")\n",
    "\n"
   ]
  },
  {
   "cell_type": "code",
   "execution_count": 0,
   "metadata": {
    "colab": {},
    "colab_type": "code",
    "id": "80JwFEpNyFGt"
   },
   "outputs": [],
   "source": []
  }
 ],
 "metadata": {
  "accelerator": "GPU",
  "colab": {
   "collapsed_sections": [],
   "name": "train_all_0_test_30_45_60.ipynb",
   "provenance": [
    {
     "file_id": "1ixohIMt5Ugu13JiFmh4rQfM4MVOcdn78",
     "timestamp": 1540411548970
    }
   ],
   "toc_visible": true,
   "version": "0.3.2"
  },
  "kernelspec": {
   "display_name": "Python 3",
   "language": "python",
   "name": "python3"
  },
  "language_info": {
   "codemirror_mode": {
    "name": "ipython",
    "version": 3
   },
   "file_extension": ".py",
   "mimetype": "text/x-python",
   "name": "python",
   "nbconvert_exporter": "python",
   "pygments_lexer": "ipython3",
   "version": "3.6.6"
  }
 },
 "nbformat": 4,
 "nbformat_minor": 1
}
