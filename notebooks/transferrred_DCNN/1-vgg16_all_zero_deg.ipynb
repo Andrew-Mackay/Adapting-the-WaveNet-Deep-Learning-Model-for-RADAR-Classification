{
 "cells": [
  {
   "cell_type": "markdown",
   "metadata": {
    "colab_type": "text",
    "id": "LnU4VGgjH1mW"
   },
   "source": [
    "# Using a Transferred DCNN (VGG16). "
   ]
  },
  {
   "cell_type": "markdown",
   "metadata": {
    "colab_type": "text",
    "id": "vRyozSxpQIn1"
   },
   "source": [
    "*   Training data from 5 subjects\n",
    "*   Test data from remaining subject\n",
    "*   0 degree aspect angle"
   ]
  },
  {
   "cell_type": "markdown",
   "metadata": {
    "colab_type": "text",
    "id": "2sqmYc1yQb-k"
   },
   "source": [
    "*   Take a DCNN trained on image classification\n",
    "*   Adapt to spectrogram classification\n",
    "  \n",
    "\n",
    "\n"
   ]
  },
  {
   "cell_type": "markdown",
   "metadata": {
    "id": "GnQp4LN6hYvM",
    "colab_type": "text"
   },
   "source": [
    "Inspired by \"Micro-Doppler Based Classification of Human Aquatic Activities via Transfer Learning of Convolutional Neural Networks\""
   ]
  },
  {
   "cell_type": "markdown",
   "metadata": {
    "colab_type": "text",
    "id": "bZxhO7V0ZHUE"
   },
   "source": [
    "## Notebook setup"
   ]
  },
  {
   "cell_type": "markdown",
   "metadata": {
    "colab_type": "text",
    "id": "x5jAnxaaZLzZ"
   },
   "source": [
    "Allow editing of modules using editor (auto reloading)"
   ]
  },
  {
   "cell_type": "code",
   "execution_count": 0,
   "metadata": {
    "colab_type": "code",
    "id": "TGNeUj-JDXhs",
    "colab": {}
   },
   "outputs": [],
   "source": [
    "# Needed to allow editing using PyCharm\n",
    "%load_ext autoreload\n",
    "%autoreload 2"
   ]
  },
  {
   "cell_type": "markdown",
   "metadata": {
    "colab_type": "text",
    "id": "QwLbqieVYIJt"
   },
   "source": [
    "Needed for compatibility when using both CoLab and Local Jupyter notebook. It sets the appropriate file path for the data and also installs local packages such as models and data_loading."
   ]
  },
  {
   "cell_type": "code",
   "execution_count": 2,
   "metadata": {
    "colab_type": "code",
    "executionInfo": {
     "status": "ok",
     "timestamp": 1.542102526832E12,
     "user_tz": 0.0,
     "elapsed": 53516.0,
     "user": {
      "displayName": "Andrew Mackay",
      "photoUrl": "https://lh3.googleusercontent.com/-24hiGmdxZDE/AAAAAAAAAAI/AAAAAAAAL_I/RW7nqM11LkM/s64/photo.jpg",
      "userId": "06804410358976473893"
     }
    },
    "id": "3XeU0HtoDXh6",
    "outputId": "77a3ff46-116e-4068-eab4-c4366511f4bb",
    "colab": {
     "base_uri": "https://localhost:8080/",
     "height": 224.0
    }
   },
   "outputs": [
    {
     "name": "stdout",
     "output_type": "stream",
     "text": [
      "Go to this URL in a browser: https://accounts.google.com/o/oauth2/auth?client_id=947318989803-6bn6qk8qdgf4n4g3pfee6491hc0brc4i.apps.googleusercontent.com&redirect_uri=urn%3Aietf%3Awg%3Aoauth%3A2.0%3Aoob&scope=email%20https%3A%2F%2Fwww.googleapis.com%2Fauth%2Fdocs.test%20https%3A%2F%2Fwww.googleapis.com%2Fauth%2Fdrive%20https%3A%2F%2Fwww.googleapis.com%2Fauth%2Fdrive.photos.readonly%20https%3A%2F%2Fwww.googleapis.com%2Fauth%2Fpeopleapi.readonly&response_type=code\n",
      "\n",
      "Enter your authorization code:\n",
      "··········\n",
      "Mounted at /content/gdrive\n",
      "Obtaining file:///content/gdrive/My%20Drive/Level-4-Project\n",
      "Installing collected packages: src\n",
      "  Running setup.py develop for src\n",
      "Successfully installed src\n"
     ]
    },
    {
     "name": "stderr",
     "output_type": "stream",
     "text": [
      "Using TensorFlow backend.\n"
     ]
    }
   ],
   "source": [
    "import os\n",
    "if os.getcwd() == '/content':\n",
    "    from google.colab import drive\n",
    "    drive.mount('/content/gdrive')\n",
    "    BASE_PATH = '/content/gdrive/My Drive/Level-4-Project/'\n",
    "    !cd gdrive/My\\ Drive/Level-4-Project/ && pip install --editable .\n",
    "    os.chdir('gdrive/My Drive/Level-4-Project/')\n",
    "    \n",
    "elif os.getcwd() == 'D:\\\\Google Drive\\\\Level-4-Project\\\\notebooks\\\\transferred_DCNN_experiments':\n",
    "    BASE_PATH = \"D:/Google Drive/Level-4-Project/\"\n",
    "    \n",
    "else:\n",
    "    BASE_PATH = \"/export/home/2192793m/Level-4-Project/\"\n",
    "    \n",
    "DATA_PATH = BASE_PATH + 'data/cifar_initialised'\n",
    "MODEL_PATH = BASE_PATH + 'models/transferred_DCNN/'\n",
    "FIGURE_PATH = BASE_PATH + 'reports/figures/transferred_DCNN/'\n",
    "REPORT_PATH = BASE_PATH + 'reports/transferred_DCNN/'\n",
    "    \n",
    "from src.models.original_models import cnn_various_depths\n",
    "from src.data import load_data\n",
    "from src.visualization import visualize, multiple_plots"
   ]
  },
  {
   "cell_type": "markdown",
   "metadata": {
    "colab_type": "text",
    "id": "rgYwaq1eZb5u"
   },
   "source": [
    "Import remaining packages"
   ]
  },
  {
   "cell_type": "code",
   "execution_count": 0,
   "metadata": {
    "colab_type": "code",
    "id": "x8rzmlEhpe_R",
    "colab": {}
   },
   "outputs": [],
   "source": [
    "import numpy as np\n",
    "import sys\n",
    "from six.moves import cPickle\n",
    "from keras.preprocessing.image import ImageDataGenerator\n",
    "from keras.optimizers import SGD\n",
    "from keras.utils import np_utils\n",
    "import sys\n",
    "from sklearn.metrics import classification_report, confusion_matrix\n",
    "import csv\n",
    "from keras.models import load_model\n",
    "from keras.applications.vgg16 import VGG16\n",
    "from keras.layers import Dense, Dropout, Flatten\n",
    "from keras.models import Model\n",
    "from sklearn.model_selection import StratifiedKFold"
   ]
  },
  {
   "cell_type": "code",
   "execution_count": 0,
   "metadata": {
    "colab_type": "code",
    "id": "PsHOJ9lEpe_V",
    "colab": {}
   },
   "outputs": [],
   "source": [
    "# Needed as originally code was for theano backend but now using tensor flow\n",
    "from keras import backend as K\n",
    "K.set_image_dim_ordering('th')"
   ]
  },
  {
   "cell_type": "markdown",
   "metadata": {
    "colab_type": "text",
    "id": "Oqq9LWY5ZiIB"
   },
   "source": [
    "## Experiment Setup and Parameter Definition"
   ]
  },
  {
   "cell_type": "markdown",
   "metadata": {
    "id": "mYkW_YEvleQs",
    "colab_type": "text"
   },
   "source": [
    "### Experiment Togggles"
   ]
  },
  {
   "cell_type": "code",
   "execution_count": 0,
   "metadata": {
    "colab_type": "code",
    "id": "8jKEtnEG14Iy",
    "colab": {}
   },
   "outputs": [],
   "source": [
    "load_models = False  # if True, load saved models instead of retraining\n",
    "train_model_using_k_fold = True\n",
    "save_graph = False\n",
    "save_models = False\n",
    "save_reports = False"
   ]
  },
  {
   "cell_type": "markdown",
   "metadata": {
    "id": "iErZqcpRli6G",
    "colab_type": "text"
   },
   "source": [
    "### Parameter Definition"
   ]
  },
  {
   "cell_type": "code",
   "execution_count": 0,
   "metadata": {
    "colab_type": "code",
    "id": "5r9302zCpe_j",
    "colab": {}
   },
   "outputs": [],
   "source": [
    "batch_size = 100\n",
    "nb_classes = 7\n",
    "nb_epoch = 3\n",
    "nb_train_samples = 35595\n",
    "n_folds = 3 # number of folds for k-fold cross validation\n",
    "\n",
    "# input image dimensions (images are spectrograms)\n",
    "img_rows, img_cols = 75, 75"
   ]
  },
  {
   "cell_type": "markdown",
   "metadata": {
    "id": "0Z1HMYoqlnrn",
    "colab_type": "text"
   },
   "source": [
    "### Data Loading"
   ]
  },
  {
   "cell_type": "code",
   "execution_count": 0,
   "metadata": {
    "id": "489sXHQHhYwp",
    "colab_type": "code",
    "colab": {}
   },
   "outputs": [],
   "source": [
    "# the data, shuffled and split between train and test sets\n",
    "(data_train, labels_train), (data_test, labels_test) = load_data.load_data(DATA_PATH, nb_train_samples)"
   ]
  },
  {
   "cell_type": "code",
   "execution_count": 0,
   "metadata": {
    "id": "2hBzAaWpevp0",
    "colab_type": "code",
    "colab": {}
   },
   "outputs": [],
   "source": [
    "target_names = ['ArmFasterTowards', 'ArmSlowerTowards', 'CirclingArm', 'Clapping', 'PickingUp', 'Sitting', 'Walking']"
   ]
  },
  {
   "cell_type": "markdown",
   "metadata": {
    "id": "QtChKhYxhYww",
    "colab_type": "text"
   },
   "source": [
    "Stack three times to fit VGG16 (RGB) treated as grayscale"
   ]
  },
  {
   "cell_type": "code",
   "execution_count": 0,
   "metadata": {
    "id": "LuPs8R-3hYw5",
    "colab_type": "code",
    "colab": {}
   },
   "outputs": [],
   "source": [
    "data_train = np.hstack((data_train, data_train, data_train))\n",
    "data_test = np.hstack((data_test, data_test, data_test))"
   ]
  },
  {
   "cell_type": "code",
   "execution_count": 0,
   "metadata": {
    "id": "-OhWJVLK3q0D",
    "colab_type": "code",
    "colab": {}
   },
   "outputs": [],
   "source": [
    "def make_model(img_rows, img_cols, nb_classes):\n",
    "    model = VGG16(weights = \"imagenet\", include_top=False, input_shape=(3, img_rows, img_cols))\n",
    "    x = model.output\n",
    "    x = Flatten()(x)\n",
    "    # x = Dense(512, activation=\"relu\")(x)\n",
    "    x = Dense(1024, activation=\"relu\")(x)\n",
    "    x = Dropout(0.5)(x)\n",
    "    # x = Dense(512, activation=\"relu\")(x)\n",
    "    x = Dense(1024, activation=\"relu\")(x)\n",
    "    predictions = Dense(nb_classes, activation=\"softmax\")(x)\n",
    "    model = Model(input = model.input, output = predictions)\n",
    "    sgd = SGD(lr=0.0001, decay=1e-6, momentum=0.9, nesterov=True)\n",
    "    model.compile(loss = \"categorical_crossentropy\", optimizer = sgd, metrics=[\"accuracy\"])\n",
    "    return model"
   ]
  },
  {
   "cell_type": "code",
   "execution_count": 0,
   "metadata": {
    "id": "bO1vuRKzgA_7",
    "colab_type": "code",
    "colab": {}
   },
   "outputs": [],
   "source": [
    "# set type and normalize the data\n",
    "def process_train_test_data(data_train, data_test):\n",
    "    data_train = data_train.astype('float32')\n",
    "    data_test = data_test.astype('float32')\n",
    "    data_train /= 255\n",
    "    data_test /= 255\n",
    "    return data_train, data_test"
   ]
  },
  {
   "cell_type": "code",
   "execution_count": 0,
   "metadata": {
    "id": "uucb5oHMgYRS",
    "colab_type": "code",
    "colab": {}
   },
   "outputs": [],
   "source": [
    "# convert class vectors to binary class matrices\n",
    "def process_train_test_labels(labels_train, labels_test, nb_classes):\n",
    "    labels_train = np_utils.to_categorical(labels_train, nb_classes)\n",
    "    labels_test = np_utils.to_categorical(labels_test, nb_classes)\n",
    "    return labels_train, labels_test"
   ]
  },
  {
   "cell_type": "markdown",
   "metadata": {
    "colab_type": "text",
    "id": "mjJ4B23bZz47"
   },
   "source": [
    "## Training and Evaluating Models"
   ]
  },
  {
   "cell_type": "code",
   "execution_count": 0,
   "metadata": {
    "id": "9v9Gj7Te46Ma",
    "colab_type": "code",
    "colab": {}
   },
   "outputs": [],
   "source": [
    "def train_and_evaluate_model(model, data_train, labels_train, data_test, labels_test, target_names, nb_classes):\n",
    "    labels_train, labels_test = process_train_test_labels(labels_train, labels_test, nb_classes)\n",
    "    data_train, data_test = process_train_test_data(data_train, data_test)\n",
    "    \n",
    "    history = model.fit(\n",
    "        data_train,\n",
    "        labels_train,\n",
    "        batch_size=batch_size,\n",
    "        epochs=nb_epoch,\n",
    "        validation_data=(data_test, labels_test),\n",
    "        shuffle=True, \n",
    "        verbose=1)\n",
    "    # make prediction on test set\n",
    "    y_pred = np.argmax(model.predict(data_test),axis=1)\n",
    "    classification_rep = classification_report(np.argmax(labels_test,axis=1), y_pred, target_names=target_names)\n",
    "    confusion = confusion_matrix(np.argmax(labels_test,axis=1), y_pred)  \n",
    "    # return the results\n",
    "    return {\n",
    "        \"history\":history,\n",
    "        \"classification_report\":classification_rep,\n",
    "        \"confusion_matrix\":confusion,\n",
    "        \"model\": model\n",
    "    }"
   ]
  },
  {
   "cell_type": "markdown",
   "metadata": {
    "id": "fLyrRvRahsY_",
    "colab_type": "text"
   },
   "source": [
    "### K-Fold Cross Validation"
   ]
  },
  {
   "cell_type": "code",
   "execution_count": 27,
   "metadata": {
    "id": "OFexW_Lh3aud",
    "colab_type": "code",
    "colab": {
     "base_uri": "https://localhost:8080/",
     "height": 541.0
    },
    "outputId": "937c5f99-c115-4bb2-8d9b-b77ddcfa0e32",
    "executionInfo": {
     "status": "ok",
     "timestamp": 1.542105287157E12,
     "user_tz": 0.0,
     "elapsed": 1037904.0,
     "user": {
      "displayName": "Andrew Mackay",
      "photoUrl": "https://lh3.googleusercontent.com/-24hiGmdxZDE/AAAAAAAAAAI/AAAAAAAAL_I/RW7nqM11LkM/s64/photo.jpg",
      "userId": "06804410358976473893"
     }
    }
   },
   "outputs": [
    {
     "name": "stdout",
     "output_type": "stream",
     "text": [
      "(42714, 3, 75, 75) (42714, 1)\n",
      "Running Fold 1 / 3\n"
     ]
    },
    {
     "name": "stderr",
     "output_type": "stream",
     "text": [
      "/usr/local/lib/python3.6/dist-packages/ipykernel_launcher.py:11: UserWarning: Update your `Model` call to the Keras 2 API: `Model(inputs=Tensor(\"in..., outputs=Tensor(\"de...)`\n",
      "  # This is added back by InteractiveShellApp.init_path()\n"
     ]
    },
    {
     "name": "stdout",
     "output_type": "stream",
     "text": [
      "Train on 23730 samples, validate on 11865 samples\n",
      "Epoch 1/3\n",
      "23730/23730 [==============================] - 111s 5ms/step - loss: 1.1403 - acc: 0.5853 - val_loss: 0.1108 - val_acc: 0.9641\n",
      "Epoch 2/3\n",
      "23730/23730 [==============================] - 108s 5ms/step - loss: 0.1039 - acc: 0.9672 - val_loss: 0.0246 - val_acc: 0.9919\n",
      "Epoch 3/3\n",
      "23730/23730 [==============================] - 108s 5ms/step - loss: 0.0397 - acc: 0.9877 - val_loss: 0.0102 - val_acc: 0.9965\n",
      "Running Fold 2 / 3\n",
      "Train on 23730 samples, validate on 11865 samples\n",
      "Epoch 1/3\n",
      "23730/23730 [==============================] - 108s 5ms/step - loss: 1.0151 - acc: 0.6399 - val_loss: 0.0911 - val_acc: 0.9714\n",
      "Epoch 2/3\n",
      "23730/23730 [==============================] - 107s 5ms/step - loss: 0.0880 - acc: 0.9721 - val_loss: 0.0214 - val_acc: 0.9944\n",
      "Epoch 3/3\n",
      "23730/23730 [==============================] - 107s 5ms/step - loss: 0.0334 - acc: 0.9897 - val_loss: 0.0091 - val_acc: 0.9973\n",
      "Running Fold 3 / 3\n",
      "Train on 23730 samples, validate on 11865 samples\n",
      "Epoch 1/3\n",
      "23730/23730 [==============================] - 109s 5ms/step - loss: 1.0086 - acc: 0.6346 - val_loss: 0.1164 - val_acc: 0.9619\n",
      "Epoch 2/3\n",
      "23730/23730 [==============================] - 107s 5ms/step - loss: 0.0938 - acc: 0.9710 - val_loss: 0.0275 - val_acc: 0.9910\n",
      "Epoch 3/3\n",
      "23730/23730 [==============================] - 107s 5ms/step - loss: 0.0388 - acc: 0.9887 - val_loss: 0.0157 - val_acc: 0.9944\n"
     ]
    }
   ],
   "source": [
    "if train_model_using_k_fold:\n",
    "    # combine train and test sets as k-folds splits these instead\n",
    "    data_train = np.vstack((data_train, data_test))\n",
    "    labels_train = np.vstack((labels_train, labels_test))\n",
    "    skf = StratifiedKFold(n_splits=n_folds, random_state=None, shuffle=True)\n",
    "    fold_num = 1\n",
    "    results = {}\n",
    "    for train_index, test_index in skf.split(X_train, y_train):\n",
    "        print (\"Running Fold\", fold_num, \"/\", n_folds)\n",
    "        model = None # Clearing the NN.\n",
    "        model = make_model(img_rows, img_cols, nb_classes)\n",
    "        fold_results = train_and_evaluate_model(\n",
    "            model,\n",
    "            data_train[train_index],\n",
    "            labels_train[train_index],\n",
    "            data_train[test_index],\n",
    "            labels_train[test_index],\n",
    "            target_names,\n",
    "            nb_classes)\n",
    "        results[fold_num] = fold_results\n",
    "        fold_num+=1"
   ]
  },
  {
   "cell_type": "markdown",
   "metadata": {
    "id": "z1vqiS5eioer",
    "colab_type": "text"
   },
   "source": [
    "### Train model on all training data"
   ]
  },
  {
   "cell_type": "code",
   "execution_count": 0,
   "metadata": {
    "id": "Nq-5HBEiiniv",
    "colab_type": "code",
    "colab": {}
   },
   "outputs": [],
   "source": [
    "if not train_model_using_k_fold:\n",
    "    model = make_model(img_rows, img_cols, nb_classes)\n",
    "    results = train_and_evaluate_model(\n",
    "        model,\n",
    "        data_train,\n",
    "        labels_train,\n",
    "        data_test,\n",
    "        labels_test,\n",
    "        target_names,\n",
    "        nb_classes)"
   ]
  },
  {
   "cell_type": "markdown",
   "metadata": {
    "colab_type": "text",
    "id": "uU-i7-ijaNu-"
   },
   "source": [
    "## Analysis and Saving of Results"
   ]
  },
  {
   "cell_type": "code",
   "execution_count": 32,
   "metadata": {
    "id": "AFmXojhepbiv",
    "colab_type": "code",
    "colab": {
     "base_uri": "https://localhost:8080/",
     "height": 802.0
    },
    "outputId": "d7cbcd6f-bd55-4e9b-f9ea-342e7add73b8",
    "executionInfo": {
     "status": "ok",
     "timestamp": 1.542105576653E12,
     "user_tz": 0.0,
     "elapsed": 723.0,
     "user": {
      "displayName": "Andrew Mackay",
      "photoUrl": "https://lh3.googleusercontent.com/-24hiGmdxZDE/AAAAAAAAAAI/AAAAAAAAL_I/RW7nqM11LkM/s64/photo.jpg",
      "userId": "06804410358976473893"
     }
    }
   },
   "outputs": [
    {
     "name": "stdout",
     "output_type": "stream",
     "text": [
      "Fold:  1\n",
      "                  precision    recall  f1-score   support\n",
      "\n",
      "ArmFasterTowards       0.99      1.00      1.00      1695\n",
      "ArmSlowerTowards       1.00      1.00      1.00      1695\n",
      "     CirclingArm       1.00      0.99      0.99      1695\n",
      "        Clapping       1.00      1.00      1.00      1695\n",
      "       PickingUp       1.00      0.99      0.99      1695\n",
      "         Sitting       0.99      1.00      0.99      1695\n",
      "         Walking       1.00      1.00      1.00      1695\n",
      "\n",
      "     avg / total       1.00      1.00      1.00     11865\n",
      "\n",
      "- - - - - - - - - - - - - - - - - - - -\n",
      "Fold:  2\n",
      "                  precision    recall  f1-score   support\n",
      "\n",
      "ArmFasterTowards       1.00      1.00      1.00      1695\n",
      "ArmSlowerTowards       1.00      1.00      1.00      1695\n",
      "     CirclingArm       1.00      1.00      1.00      1695\n",
      "        Clapping       1.00      1.00      1.00      1695\n",
      "       PickingUp       0.99      0.99      0.99      1695\n",
      "         Sitting       1.00      0.99      1.00      1695\n",
      "         Walking       1.00      1.00      1.00      1695\n",
      "\n",
      "     avg / total       1.00      1.00      1.00     11865\n",
      "\n",
      "- - - - - - - - - - - - - - - - - - - -\n",
      "Fold:  3\n",
      "                  precision    recall  f1-score   support\n",
      "\n",
      "ArmFasterTowards       0.99      1.00      1.00      1695\n",
      "ArmSlowerTowards       0.99      1.00      0.99      1695\n",
      "     CirclingArm       1.00      0.99      0.99      1695\n",
      "        Clapping       1.00      1.00      1.00      1695\n",
      "       PickingUp       0.98      0.99      0.99      1695\n",
      "         Sitting       1.00      0.98      0.99      1695\n",
      "         Walking       1.00      1.00      1.00      1695\n",
      "\n",
      "     avg / total       0.99      0.99      0.99     11865\n",
      "\n",
      "- - - - - - - - - - - - - - - - - - - -\n"
     ]
    }
   ],
   "source": [
    "if train_model_using_k_fold: \n",
    "    for fold, result in results.items():\n",
    "        print(\"Fold: \", fold)\n",
    "        print(result[\"classification_report\"])\n",
    "        print(\"- - - - - - - - - - - - - - - - - - - -\")"
   ]
  },
  {
   "cell_type": "code",
   "execution_count": 0,
   "metadata": {
    "colab_type": "code",
    "id": "ybENutN_r37x",
    "colab": {}
   },
   "outputs": [],
   "source": [
    "if not train_model_using_k_fold: \n",
    "    print(results[\"classification_report\"])"
   ]
  },
  {
   "cell_type": "markdown",
   "metadata": {
    "colab_type": "text",
    "id": "7aCG-luMe2_h"
   },
   "source": [
    "### Plot and Save graph"
   ]
  },
  {
   "cell_type": "code",
   "execution_count": 15,
   "metadata": {
    "colab_type": "code",
    "executionInfo": {
     "status": "error",
     "timestamp": 1.542058603936E12,
     "user_tz": 0.0,
     "elapsed": 767.0,
     "user": {
      "displayName": "Andrew Mackay",
      "photoUrl": "https://lh3.googleusercontent.com/-24hiGmdxZDE/AAAAAAAAAAI/AAAAAAAAL_I/RW7nqM11LkM/s64/photo.jpg",
      "userId": "06804410358976473893"
     }
    },
    "id": "oNLxC8quhbYf",
    "outputId": "b4ce7006-a241-4440-a4e4-2860bd8c1416",
    "colab": {
     "base_uri": "https://localhost:8080/",
     "height": 193.0
    }
   },
   "outputs": [
    {
     "ename": "NameError",
     "evalue": "ignored",
     "traceback": [
      "\u001b[0;31m---------------------------------------------------------------------------\u001b[0m",
      "\u001b[0;31mNameError\u001b[0m                                 Traceback (most recent call last)",
      "\u001b[0;32m<ipython-input-15-af295e294256>\u001b[0m in \u001b[0;36m<module>\u001b[0;34m()\u001b[0m\n\u001b[1;32m      1\u001b[0m \u001b[0;32mif\u001b[0m \u001b[0;32mnot\u001b[0m \u001b[0mload_models\u001b[0m\u001b[0;34m:\u001b[0m\u001b[0;34m\u001b[0m\u001b[0m\n\u001b[0;32m----> 2\u001b[0;31m     \u001b[0mvisualize\u001b[0m\u001b[0;34m.\u001b[0m\u001b[0mplot_train_test_acc\u001b[0m\u001b[0;34m(\u001b[0m\u001b[0mhistory\u001b[0m\u001b[0;34m)\u001b[0m\u001b[0;34m\u001b[0m\u001b[0m\n\u001b[0m",
      "\u001b[0;31mNameError\u001b[0m: name 'history' is not defined"
     ],
     "output_type": "error"
    }
   ],
   "source": [
    "if not load_models:\n",
    "    visualize.plot_train_test_acc(history)\n"
   ]
  },
  {
   "cell_type": "markdown",
   "metadata": {
    "colab_type": "text",
    "id": "oKjaNI1Dezgg"
   },
   "source": [
    "### Save Models"
   ]
  },
  {
   "cell_type": "code",
   "execution_count": 0,
   "metadata": {
    "colab_type": "code",
    "id": "_PO4Wg4h3pJz",
    "colab": {}
   },
   "outputs": [],
   "source": [
    "if not load_models and save_models:\n",
    "    model.save(MODEL_PATH + name + '.h5')"
   ]
  },
  {
   "cell_type": "markdown",
   "metadata": {
    "colab_type": "text",
    "id": "478w01d1xuFs"
   },
   "source": [
    "### Save Classification Report and Confusion Matricies"
   ]
  },
  {
   "cell_type": "code",
   "execution_count": 0,
   "metadata": {
    "colab_type": "code",
    "id": "WE2MBBFdxnlR",
    "colab": {}
   },
   "outputs": [],
   "source": [
    "if save_reports:\n",
    "    file = open(REPORT_PATH + 'Classification_and_Confusion.txt', 'w') \n",
    "\n",
    "    file.write(\"--------------------------------------------------\\n\") \n",
    "    file.write(\"Model Name: \" + name + \"\\n\") \n",
    "    file.write(\"Classification Report:\\n\") \n",
    "    file.write(classification_rep)\n",
    "    file.write(\"Confusion Matrix:\\n\") \n",
    "    file.write(np.array2string(confusion) + \"\\n\")\n",
    "\n",
    "    file.close() "
   ]
  },
  {
   "cell_type": "code",
   "execution_count": 0,
   "metadata": {
    "colab_type": "code",
    "id": "80JwFEpNyFGt",
    "colab": {}
   },
   "outputs": [],
   "source": [
    ""
   ]
  }
 ],
 "metadata": {
  "colab": {
   "name": "vgg16_all_zero_deg.ipynb",
   "version": "0.3.2",
   "provenance": [
    {
     "file_id": "1ixohIMt5Ugu13JiFmh4rQfM4MVOcdn78",
     "timestamp": 1.54041154897E12
    }
   ],
   "collapsed_sections": [],
   "toc_visible": true
  },
  "kernelspec": {
   "name": "python3",
   "display_name": "Python 3"
  },
  "accelerator": "GPU"
 },
 "nbformat": 4,
 "nbformat_minor": 0
}
