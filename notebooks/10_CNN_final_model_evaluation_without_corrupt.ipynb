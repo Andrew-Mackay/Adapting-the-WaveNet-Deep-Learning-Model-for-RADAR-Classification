{
 "cells": [
  {
   "cell_type": "markdown",
   "metadata": {
    "colab_type": "text",
    "id": "chTLQ4gzP4zb"
   },
   "source": [
    "# Evaluation of the final CNN model\n",
    "\n",
    "The original final evaluation was misleading as the ealry stopping parameter had been used incorrectly. This notebook fixes this issue.\n",
    "\n",
    "The model was chosen in 7_CNN_model_comparison.ipynb and the hyperparameters chosen from 8_CNN_hyperparameter.ipynb.\n",
    "The early stopping patience to use was decided using notebook 9.\n",
    "\n",
    "First the model is trained on subjects A, B, D, E, F.\n",
    "The model is then evaluated on the test subject C. Up until this point the model has not been exposed to this data."
   ]
  },
  {
   "cell_type": "markdown",
   "metadata": {
    "colab_type": "text",
    "id": "bZxhO7V0ZHUE"
   },
   "source": [
    "## Notebook setup"
   ]
  },
  {
   "cell_type": "markdown",
   "metadata": {
    "colab_type": "text",
    "id": "x5jAnxaaZLzZ"
   },
   "source": [
    "Allow editing of modules using editor (auto reloading)"
   ]
  },
  {
   "cell_type": "code",
   "execution_count": 0,
   "metadata": {
    "colab": {},
    "colab_type": "code",
    "id": "TGNeUj-JDXhs"
   },
   "outputs": [],
   "source": [
    "# Plot graphs inline\n",
    "%matplotlib inline"
   ]
  },
  {
   "cell_type": "markdown",
   "metadata": {
    "colab_type": "text",
    "id": "QwLbqieVYIJt"
   },
   "source": [
    "The following cell is needed for compatibility when using both CoLab and Local Jupyter notebook. It sets the appropriate file path for the data and also installs local packages such as models and data_loading."
   ]
  },
  {
   "cell_type": "code",
   "execution_count": 1,
   "metadata": {
    "colab": {
     "base_uri": "https://localhost:8080/",
     "height": 122
    },
    "colab_type": "code",
    "executionInfo": {
     "elapsed": 23891,
     "status": "ok",
     "timestamp": 1552492028582,
     "user": {
      "displayName": "Andrew Mackay",
      "photoUrl": "https://lh3.googleusercontent.com/-24hiGmdxZDE/AAAAAAAAAAI/AAAAAAAAL_I/RW7nqM11LkM/s64/photo.jpg",
      "userId": "06804410358976473893"
     },
     "user_tz": 0
    },
    "id": "3XeU0HtoDXh6",
    "outputId": "5c89fc61-e59c-45a0-e1a1-8846957c2fc5"
   },
   "outputs": [],
   "source": [
    "import os\n",
    "path = os.getcwd()\n",
    "if path == '/content':\n",
    "    from google.colab import drive\n",
    "    drive.mount('/content/gdrive')\n",
    "    BASE_PATH = '/content/gdrive/My Drive/Level-4-Project/'\n",
    "    os.chdir('gdrive/My Drive/Level-4-Project/')\n",
    "    \n",
    "elif path == 'D:\\\\Google Drive\\\\Level-4-Project\\\\notebooks':\n",
    "    BASE_PATH = \"D:/Google Drive/Level-4-Project/\"\n",
    "    \n",
    "elif path == \"/export/home/2192793m\":\n",
    "    BASE_PATH = \"/export/home/2192793m/Level-4-Project/\"\n",
    "    \n",
    "DATA_PATH = BASE_PATH + 'data/processed/doppler_spectrograms_without_corrupt/3/'\n",
    "\n",
    "RESULTS_PATH = BASE_PATH + 'results/CNN_final_model_evaluation_without_corrupt/'\n",
    "HYPERPARAMETER_PATH = BASE_PATH + 'results/CNN_hyperparameter_search/'\n",
    "MODEL_PATH = BASE_PATH + 'models/CNN_final_model_evaluation/'\n",
    "\n",
    "if not os.path.exists(RESULTS_PATH):\n",
    "    os.makedirs(RESULTS_PATH)\n",
    "    \n",
    "if not os.path.exists(MODEL_PATH):\n",
    "    os.makedirs(MODEL_PATH)"
   ]
  },
  {
   "cell_type": "markdown",
   "metadata": {
    "colab_type": "text",
    "id": "rgYwaq1eZb5u"
   },
   "source": [
    "Import remaining packages"
   ]
  },
  {
   "cell_type": "code",
   "execution_count": 2,
   "metadata": {
    "colab": {
     "base_uri": "https://localhost:8080/",
     "height": 34
    },
    "colab_type": "code",
    "executionInfo": {
     "elapsed": 2738,
     "status": "ok",
     "timestamp": 1552492059051,
     "user": {
      "displayName": "Andrew Mackay",
      "photoUrl": "https://lh3.googleusercontent.com/-24hiGmdxZDE/AAAAAAAAAAI/AAAAAAAAL_I/RW7nqM11LkM/s64/photo.jpg",
      "userId": "06804410358976473893"
     },
     "user_tz": 0
    },
    "id": "x8rzmlEhpe_R",
    "outputId": "da6f8e28-99ac-4851-a8cb-480154b605f4"
   },
   "outputs": [
    {
     "name": "stderr",
     "output_type": "stream",
     "text": [
      "Using TensorFlow backend.\n"
     ]
    }
   ],
   "source": [
    "import numpy as np\n",
    "from keras.optimizers import SGD, Adam\n",
    "from keras.utils import np_utils\n",
    "from sklearn.metrics import classification_report, confusion_matrix\n",
    "import pickle\n",
    "from keras.models import Sequential\n",
    "from keras.layers import Dense, Dropout, Flatten\n",
    "from keras.layers import Convolution2D, MaxPooling2D\n",
    "import matplotlib.pyplot as plt\n",
    "from keras.callbacks import EarlyStopping"
   ]
  },
  {
   "cell_type": "code",
   "execution_count": 3,
   "metadata": {
    "colab": {
     "base_uri": "https://localhost:8080/",
     "height": 255
    },
    "colab_type": "code",
    "executionInfo": {
     "elapsed": 11805,
     "status": "ok",
     "timestamp": 1552492069549,
     "user": {
      "displayName": "Andrew Mackay",
      "photoUrl": "https://lh3.googleusercontent.com/-24hiGmdxZDE/AAAAAAAAAAI/AAAAAAAAL_I/RW7nqM11LkM/s64/photo.jpg",
      "userId": "06804410358976473893"
     },
     "user_tz": 0
    },
    "id": "tk_HAyYKYrI8",
    "outputId": "563b7aef-6c90-4099-c6b6-5b24276fd7ca"
   },
   "outputs": [],
   "source": [
    "# ! pip install scikit-optimize\n",
    "# !pip install git+https://GitHub.com/scikit-optimize/scikit-optimize/\n",
    "from skopt import load"
   ]
  },
  {
   "cell_type": "code",
   "execution_count": 0,
   "metadata": {
    "colab": {},
    "colab_type": "code",
    "id": "PsHOJ9lEpe_V"
   },
   "outputs": [],
   "source": [
    "# Needed as originally code was for theano backend but now using tensor flow\n",
    "from keras import backend as K\n",
    "K.set_image_dim_ordering('th')"
   ]
  },
  {
   "cell_type": "markdown",
   "metadata": {
    "colab_type": "text",
    "id": "ssk69nuAiB68"
   },
   "source": [
    "## Experiment Setup"
   ]
  },
  {
   "cell_type": "code",
   "execution_count": 4,
   "metadata": {
    "colab": {},
    "colab_type": "code",
    "id": "H_1QDAZ3sBek"
   },
   "outputs": [],
   "source": [
    "SAVE_RESULTS_TEST_C = False\n",
    "SAVE_GRAPHS_TEST_C = True\n",
    "\n",
    "SAVE_RESULTS_20 = False\n",
    "SAVE_GRAPHS_20 = True\n",
    "\n",
    "SAVE_RESULTS_6_FOLD = False\n",
    "SAVE_GRAPHS_6_FOLD = True"
   ]
  },
  {
   "cell_type": "code",
   "execution_count": 0,
   "metadata": {
    "colab": {},
    "colab_type": "code",
    "id": "3ndLxKnSZEu-"
   },
   "outputs": [],
   "source": [
    "# Patience chosen from notebook 9\n",
    "nb_epoch = 100\n",
    "# nb_epoch = 1 #testing\n",
    "patience = 7"
   ]
  },
  {
   "cell_type": "code",
   "execution_count": 5,
   "metadata": {
    "colab": {},
    "colab_type": "code",
    "id": "5r9302zCpe_j"
   },
   "outputs": [],
   "source": [
    "target_names = [\"walking\", \"pushing\", \"sitting\", \"pulling\", \"circling\", \"clapping\", \"bending\"]\n",
    "nb_classes = len(target_names)\n",
    "\n",
    "# input image dimensions\n",
    "img_rows, img_cols = 75, 75\n",
    "\n",
    "users = [\"A\", \"B\", \"C\", \"D\", \"E\", \"F\"] "
   ]
  },
  {
   "cell_type": "code",
   "execution_count": 0,
   "metadata": {
    "colab": {},
    "colab_type": "code",
    "id": "C1f1naWmkElm"
   },
   "outputs": [],
   "source": [
    "def load_data(user_letter):\n",
    "    with open(DATA_PATH + user_letter + \"_data.pkl\", 'rb') as data_file:\n",
    "        data = pickle.load(data_file)\n",
    "        data = data.reshape(data.shape[0], 1, 75, 75)\n",
    "        \n",
    "    with open(DATA_PATH + user_letter + \"_labels.pkl\", 'rb') as labels_file:\n",
    "        labels = pickle.load(labels_file)\n",
    "        labels = np.reshape(labels, (len(labels), 1))\n",
    "\n",
    "        \n",
    "    return data, labels"
   ]
  },
  {
   "cell_type": "code",
   "execution_count": 0,
   "metadata": {
    "colab": {},
    "colab_type": "code",
    "id": "g_bsC10bq026"
   },
   "outputs": [],
   "source": [
    "datasets = {}\n",
    "for user in users:\n",
    "    data, labels = load_data(user)\n",
    "    datasets[user] = {\"data\":data, \"labels\":labels}"
   ]
  },
  {
   "cell_type": "markdown",
   "metadata": {
    "colab_type": "text",
    "id": "qK0TcJIfsz7q"
   },
   "source": [
    "## Define Model"
   ]
  },
  {
   "cell_type": "code",
   "execution_count": 0,
   "metadata": {
    "colab": {},
    "colab_type": "code",
    "id": "_e0io4rM1O6N"
   },
   "outputs": [],
   "source": [
    "def make_model(nb_filters, img_rows, img_cols, nb_classes, activation,\n",
    "               dropout, num_dense_nodes, num_dense_layers,\n",
    "               kernel_size, pooling_size):\n",
    "    \n",
    "    kernel_size = (kernel_size, kernel_size)\n",
    "    pooling_size = (pooling_size, pooling_size)\n",
    "    \n",
    "    model = Sequential(name=nb_filters)\n",
    "    nb_filters = nb_filters.split(\"-\")\n",
    "    size_1 = int(nb_filters[0])\n",
    "    size_2 = int(nb_filters[1])\n",
    "\n",
    "    model.add(Convolution2D(size_1, kernel_size, padding='same', input_shape=(1, img_rows, img_cols), activation=activation))\n",
    "    model.add(Convolution2D(size_1, kernel_size, activation=activation))\n",
    "    model.add(MaxPooling2D(pool_size=pooling_size))\n",
    "    model.add(Dropout(dropout))\n",
    "\n",
    "    model.add(Convolution2D(size_2, kernel_size, padding='same', activation=activation))\n",
    "    model.add(Convolution2D(size_2, kernel_size, activation=activation))\n",
    "    model.add(MaxPooling2D(pool_size=pooling_size))\n",
    "    model.add(Dropout(dropout))\n",
    "\n",
    "    model.add(Flatten())\n",
    "    for i in range(num_dense_layers):\n",
    "        model.add(Dense(num_dense_nodes, activation=activation))\n",
    "    model.add(Dropout(dropout))\n",
    "    model.add(Dense(nb_classes, activation='softmax'))\n",
    "    return model"
   ]
  },
  {
   "cell_type": "markdown",
   "metadata": {
    "colab_type": "text",
    "id": "dUGILJ8_sBfA"
   },
   "source": [
    "## Train Model Function"
   ]
  },
  {
   "cell_type": "code",
   "execution_count": 0,
   "metadata": {
    "colab": {},
    "colab_type": "code",
    "id": "jCCTt2KdsBfC"
   },
   "outputs": [],
   "source": [
    "def train_model(train_data, train_labels, test_data, test_labels, hyperparameters, epochs, patience):\n",
    "    parameters = hyperparameters\n",
    "    model = make_model(\"8-16\", img_rows, img_cols, nb_classes, parameters[2],\n",
    "               parameters[3], parameters[4], parameters[5],\n",
    "               parameters[6], parameters[7])\n",
    "    \n",
    "    optimizer = parameters[0] \n",
    "    learning_rate = parameters[1]\n",
    "    if optimizer == 'adam':\n",
    "        selected_optimizer = Adam(lr=learning_rate)\n",
    "\n",
    "    elif optimizer == 'sgd_standard':\n",
    "        selected_optimizer = SGD(lr=learning_rate)\n",
    "\n",
    "    else:\n",
    "        # nestrov momentum\n",
    "        selected_optimizer = SGD(lr=learning_rate, decay=1e-6, momentum=0.9,\n",
    "                                 nesterov=True)\n",
    "\n",
    "    model.compile(loss='categorical_crossentropy',\n",
    "                  optimizer=selected_optimizer,\n",
    "                  metrics=['accuracy'])\n",
    "    \n",
    "    callback_list = []\n",
    "    if patience != -1:\n",
    "        early_stopping = EarlyStopping(monitor='val_acc', patience=patience)\n",
    "        callback_list.append(early_stopping)\n",
    "        \n",
    "    history = model.fit(train_data, train_labels,\n",
    "                        batch_size=parameters[8],\n",
    "                        epochs=epochs,\n",
    "                        shuffle=True, \n",
    "                        validation_data=(test_data, test_labels),\n",
    "                        callbacks=callback_list,\n",
    "                        verbose=0)\n",
    "    \n",
    "    return history, model"
   ]
  },
  {
   "cell_type": "markdown",
   "metadata": {
    "colab_type": "text",
    "id": "VcVxk4D8sBfG"
   },
   "source": [
    "## Evaluate Model function"
   ]
  },
  {
   "cell_type": "code",
   "execution_count": 0,
   "metadata": {
    "colab": {},
    "colab_type": "code",
    "id": "g3V7RXOcsBfH"
   },
   "outputs": [],
   "source": [
    "def evaluate_model(model, test_data, test_labels, batch_size, target_names):\n",
    "    evaluation = model.evaluate(test_data, test_labels,\n",
    "                                batch_size=batch_size, verbose=1)\n",
    "\n",
    "    loss = evaluation[0]\n",
    "    accuracy = evaluation[1]\n",
    "\n",
    "    test_pred = model.predict_classes(test_data)\n",
    "    report = classification_report(np.argmax(test_labels,axis=1),\n",
    "                                   test_pred, target_names=target_names)\n",
    "    conf_matrix = confusion_matrix(np.argmax(test_labels,axis=1), test_pred)\n",
    "    return {\n",
    "        \"loss\": loss,\n",
    "        \"accuracy\": accuracy,\n",
    "        \"classification_report\": report,\n",
    "        \"confusion_matrix\": conf_matrix\n",
    "    }"
   ]
  },
  {
   "cell_type": "markdown",
   "metadata": {
    "colab_type": "text",
    "id": "DEBqFCS9uImJ"
   },
   "source": [
    "### Load hyperparameter results"
   ]
  },
  {
   "cell_type": "code",
   "execution_count": 0,
   "metadata": {
    "colab": {},
    "colab_type": "code",
    "id": "TwrjNudLsBfO"
   },
   "outputs": [],
   "source": [
    "# needed for loading results (objective needs to be defined)\n",
    "def objective():\n",
    "    return 0"
   ]
  },
  {
   "cell_type": "code",
   "execution_count": 14,
   "metadata": {
    "colab": {
     "base_uri": "https://localhost:8080/",
     "height": 71
    },
    "colab_type": "code",
    "executionInfo": {
     "elapsed": 2371,
     "status": "ok",
     "timestamp": 1552492117338,
     "user": {
      "displayName": "Andrew Mackay",
      "photoUrl": "https://lh3.googleusercontent.com/-24hiGmdxZDE/AAAAAAAAAAI/AAAAAAAAL_I/RW7nqM11LkM/s64/photo.jpg",
      "userId": "06804410358976473893"
     },
     "user_tz": 0
    },
    "id": "237ErDR_uKsk",
    "outputId": "00fe753f-d840-4cf9-b696-e075c84678fa"
   },
   "outputs": [
    {
     "name": "stderr",
     "output_type": "stream",
     "text": [
      "/usr/local/lib/python3.6/dist-packages/sklearn/base.py:253: UserWarning: Trying to unpickle estimator LabelBinarizer from version 0.20.1 when using version 0.20.3. This might lead to breaking code or invalid results. Use at your own risk.\n",
      "  UserWarning)\n"
     ]
    }
   ],
   "source": [
    "dimensions = ['optimizer', 'learning_rate', 'activation', 'dropout',\n",
    "              'num_dense_nodes', 'num_dense_layers', 'kernel_size',\n",
    "              'pooling_size', 'batch_size']\n",
    "\n",
    "res_gp = load(HYPERPARAMETER_PATH + \"res_gp_complete.pkl\")\n",
    "parameters = res_gp.x"
   ]
  },
  {
   "cell_type": "code",
   "execution_count": 15,
   "metadata": {
    "colab": {
     "base_uri": "https://localhost:8080/",
     "height": 170
    },
    "colab_type": "code",
    "executionInfo": {
     "elapsed": 826,
     "status": "ok",
     "timestamp": 1552492120432,
     "user": {
      "displayName": "Andrew Mackay",
      "photoUrl": "https://lh3.googleusercontent.com/-24hiGmdxZDE/AAAAAAAAAAI/AAAAAAAAL_I/RW7nqM11LkM/s64/photo.jpg",
      "userId": "06804410358976473893"
     },
     "user_tz": 0
    },
    "id": "REWSu0eOVxMR",
    "outputId": "3e15f2a0-72ac-4df0-d436-afcb18ae9219"
   },
   "outputs": [
    {
     "name": "stdout",
     "output_type": "stream",
     "text": [
      "optimizer: adam\n",
      "learning_rate: 0.0012375685948764468\n",
      "activation: relu\n",
      "dropout: 0.597428888669298\n",
      "num_dense_nodes: 1024\n",
      "num_dense_layers: 3\n",
      "kernel_size: 3\n",
      "pooling_size: 2\n",
      "batch_size: 576\n"
     ]
    }
   ],
   "source": [
    "for index, parameter in enumerate(parameters):\n",
    "    print(dimensions[index] + \":\", parameter)"
   ]
  },
  {
   "cell_type": "markdown",
   "metadata": {
    "colab_type": "text",
    "id": "2sK8LErIsBfm"
   },
   "source": [
    "# Evaluating on subject C"
   ]
  },
  {
   "cell_type": "code",
   "execution_count": 0,
   "metadata": {
    "colab": {},
    "colab_type": "code",
    "id": "Ha1tZshusBfn"
   },
   "outputs": [],
   "source": [
    "def split_train_validation_test(test_user, total_folds=5, validation_fold=0):\n",
    "    # split by user then action\n",
    "    labels = np.arange(0, 7)\n",
    "    actions = {}\n",
    "    for user in users:\n",
    "        actions[user] = {}\n",
    "        for label in labels:\n",
    "            actions[user][str(label)] = []\n",
    "        \n",
    "    for user in users:\n",
    "        data = datasets[user][\"data\"]\n",
    "        labels = datasets[user][\"labels\"]\n",
    "        for index, label in enumerate(labels):\n",
    "            actions[user][str(label[0])].append(data[index])\n",
    "        \n",
    "    # convert to numpy array\n",
    "    labels = np.arange(0, 7)\n",
    "    for user in users:\n",
    "        for label in labels:\n",
    "            actions[user][str(label)] = np.array(actions[user][str(label)])\n",
    "            \n",
    "    train_labels = []\n",
    "    train_data = []\n",
    "    validation_labels = []\n",
    "    validation_data = []\n",
    "    test_labels = []\n",
    "    test_data = []\n",
    "    # each user A->F\n",
    "    for user in users:\n",
    "        # 0 -> 6\n",
    "        for label in labels:            \n",
    "            if user == test_user:\n",
    "                testing_data = actions[user][str(label)]\n",
    "                testing_labels = np.full(testing_data.shape[0], label)\n",
    "                test_data.append(testing_data)\n",
    "                test_labels.append(testing_labels)  \n",
    "                \n",
    "            else:\n",
    "                # for example, if using 5 folds splits data into 5 subsets\n",
    "                split_actions = np.array_split(actions[user][str(label)], total_folds)\n",
    "                training_data = []\n",
    "                validating_data = []\n",
    "                for fold in range(total_folds):\n",
    "                    if fold == validation_fold:\n",
    "                        validating_data.append(split_actions[fold])\n",
    "                    else:\n",
    "                        training_data.append(split_actions[fold])\n",
    "\n",
    "                training_data = np.concatenate(training_data, axis=0)\n",
    "                training_labels = np.full(training_data.shape[0], label)\n",
    "                validating_data = np.concatenate(validating_data, axis=0)\n",
    "                validating_labels = np.full(validating_data.shape[0], label)\n",
    "\n",
    "                train_data.append(training_data)\n",
    "                train_labels.append(training_labels)\n",
    "                validation_data.append(validating_data)\n",
    "                validation_labels.append(validating_labels)   \n",
    "            \n",
    "    train_labels = np.concatenate(train_labels, axis=0)\n",
    "    train_data = np.concatenate(train_data, axis=0)\n",
    "    validation_labels = np.concatenate(validation_labels, axis=0)\n",
    "    validation_data = np.concatenate(validation_data, axis=0)\n",
    "    test_labels = np.concatenate(test_labels, axis=0)\n",
    "    test_data = np.concatenate(test_data, axis=0)\n",
    "    \n",
    "    train_labels = np_utils.to_categorical(train_labels, nb_classes)\n",
    "    validation_labels = np_utils.to_categorical(validation_labels, nb_classes)\n",
    "    test_labels = np_utils.to_categorical(test_labels, nb_classes)\n",
    "    \n",
    "    train_data = train_data.astype('float32')/255\n",
    "    validation_data = validation_data.astype('float32')/255\n",
    "    test_data = test_data.astype('float32')/255\n",
    "    \n",
    "    return {\n",
    "        \"train_data\": train_data,\n",
    "        \"train_labels\": train_labels,\n",
    "        \"validation_data\": validation_data,\n",
    "        \"validation_labels\": validation_labels,\n",
    "        \"test_data\": test_data,\n",
    "        \"test_labels\": test_labels\n",
    "       }"
   ]
  },
  {
   "cell_type": "markdown",
   "metadata": {
    "colab_type": "text",
    "id": "xUFmx9viVI7z"
   },
   "source": [
    "## Train Model"
   ]
  },
  {
   "cell_type": "code",
   "execution_count": 0,
   "metadata": {
    "colab": {},
    "colab_type": "code",
    "id": "kKw8W26uW029"
   },
   "outputs": [],
   "source": [
    "data_split = split_train_validation_test(\"C\") # subject c is test subject\n",
    "\n",
    "# 80% of each subject (excluding C)\n",
    "train_data = data_split[\"train_data\"]\n",
    "train_labels = data_split[\"train_labels\"]\n",
    "\n",
    "# 20% taken from each subject (excluding C)\n",
    "validation_data = data_split[\"validation_data\"]\n",
    "validation_labels = data_split[\"validation_labels\"]\n",
    "\n",
    "# subject C\n",
    "test_data = data_split[\"test_data\"]\n",
    "test_labels = data_split[\"test_labels\"]"
   ]
  },
  {
   "cell_type": "code",
   "execution_count": 0,
   "metadata": {
    "colab": {
     "base_uri": "https://localhost:8080/",
     "height": 72
    },
    "colab_type": "code",
    "executionInfo": {
     "elapsed": 1265,
     "status": "ok",
     "timestamp": 1552482689528,
     "user": {
      "displayName": "Andrew Mackay",
      "photoUrl": "https://lh3.googleusercontent.com/-24hiGmdxZDE/AAAAAAAAAAI/AAAAAAAAL_I/RW7nqM11LkM/s64/photo.jpg",
      "userId": "06804410358976473893"
     },
     "user_tz": 0
    },
    "id": "JMYZIHC4sBfw",
    "outputId": "e52be7e3-5b0e-40f5-aefa-94bdfc4ed459"
   },
   "outputs": [
    {
     "name": "stdout",
     "output_type": "stream",
     "text": [
      "(28301, 1, 75, 75)\n",
      "(7088, 1, 75, 75)\n",
      "(7966, 1, 75, 75)\n"
     ]
    }
   ],
   "source": [
    "print(train_data.shape)\n",
    "print(validation_data.shape)\n",
    "print(test_data.shape)"
   ]
  },
  {
   "cell_type": "code",
   "execution_count": 0,
   "metadata": {
    "colab": {
     "base_uri": "https://localhost:8080/",
     "height": 201
    },
    "colab_type": "code",
    "executionInfo": {
     "elapsed": 190805,
     "status": "ok",
     "timestamp": 1552482924611,
     "user": {
      "displayName": "Andrew Mackay",
      "photoUrl": "https://lh3.googleusercontent.com/-24hiGmdxZDE/AAAAAAAAAAI/AAAAAAAAL_I/RW7nqM11LkM/s64/photo.jpg",
      "userId": "06804410358976473893"
     },
     "user_tz": 0
    },
    "id": "QCDgL2pgsBfz",
    "outputId": "b03d53f1-ba0c-448b-aab6-c3d264a86be8"
   },
   "outputs": [
    {
     "name": "stdout",
     "output_type": "stream",
     "text": [
      "WARNING:tensorflow:From /usr/local/lib/python3.6/dist-packages/tensorflow/python/framework/op_def_library.py:263: colocate_with (from tensorflow.python.framework.ops) is deprecated and will be removed in a future version.\n",
      "Instructions for updating:\n",
      "Colocations handled automatically by placer.\n",
      "WARNING:tensorflow:From /usr/local/lib/python3.6/dist-packages/keras/backend/tensorflow_backend.py:3445: calling dropout (from tensorflow.python.ops.nn_ops) with keep_prob is deprecated and will be removed in a future version.\n",
      "Instructions for updating:\n",
      "Please use `rate` instead of `keep_prob`. Rate should be set to `rate = 1 - keep_prob`.\n",
      "WARNING:tensorflow:From /usr/local/lib/python3.6/dist-packages/tensorflow/python/ops/math_ops.py:3066: to_int32 (from tensorflow.python.ops.math_ops) is deprecated and will be removed in a future version.\n",
      "Instructions for updating:\n",
      "Use tf.cast instead.\n"
     ]
    }
   ],
   "source": [
    "history, model = train_model(train_data, train_labels,\n",
    "                             validation_data, validation_labels,\n",
    "                             parameters, nb_epoch, patience)"
   ]
  },
  {
   "cell_type": "markdown",
   "metadata": {
    "colab_type": "text",
    "id": "-UiKUBcWZTMl"
   },
   "source": [
    "## Evaluate Model"
   ]
  },
  {
   "cell_type": "code",
   "execution_count": 0,
   "metadata": {
    "colab": {
     "base_uri": "https://localhost:8080/",
     "height": 35
    },
    "colab_type": "code",
    "executionInfo": {
     "elapsed": 181362,
     "status": "ok",
     "timestamp": 1552482927153,
     "user": {
      "displayName": "Andrew Mackay",
      "photoUrl": "https://lh3.googleusercontent.com/-24hiGmdxZDE/AAAAAAAAAAI/AAAAAAAAL_I/RW7nqM11LkM/s64/photo.jpg",
      "userId": "06804410358976473893"
     },
     "user_tz": 0
    },
    "id": "Nhg74UlvZO0R",
    "outputId": "8942eabe-ad3f-47a4-af0b-1369aa4cb04d"
   },
   "outputs": [
    {
     "name": "stdout",
     "output_type": "stream",
     "text": [
      "7966/7966 [==============================] - 1s 138us/step\n"
     ]
    }
   ],
   "source": [
    "results = evaluate_model(model, test_data, test_labels, parameters[8], target_names)\n",
    "results[\"history\"] = history.history"
   ]
  },
  {
   "cell_type": "markdown",
   "metadata": {
    "colab_type": "text",
    "id": "s_fDcgsnZWmO"
   },
   "source": [
    "## Save Results"
   ]
  },
  {
   "cell_type": "code",
   "execution_count": 0,
   "metadata": {
    "colab": {},
    "colab_type": "code",
    "id": "FvfALPe4ZViU"
   },
   "outputs": [],
   "source": [
    "if SAVE_RESULTS_TEST_C:\n",
    "    with open(RESULTS_PATH + \"results_test_c.pkl\", 'wb') as results_file:\n",
    "        pickle.dump(results, results_file)"
   ]
  },
  {
   "cell_type": "markdown",
   "metadata": {
    "colab_type": "text",
    "id": "jvU7qrKvZilk"
   },
   "source": [
    "## Load Results"
   ]
  },
  {
   "cell_type": "code",
   "execution_count": 6,
   "metadata": {
    "colab": {},
    "colab_type": "code",
    "id": "F2uKXbW7dx8-"
   },
   "outputs": [],
   "source": [
    "with open(RESULTS_PATH + \"results_test_c.pkl\", 'rb') as results_file:\n",
    "    results = pickle.load(results_file)"
   ]
  },
  {
   "cell_type": "markdown",
   "metadata": {
    "colab_type": "text",
    "id": "Xo1MQX8HZdEM"
   },
   "source": [
    "## Visualize Results"
   ]
  },
  {
   "cell_type": "code",
   "execution_count": 7,
   "metadata": {
    "colab": {
     "base_uri": "https://localhost:8080/",
     "height": 35
    },
    "colab_type": "code",
    "executionInfo": {
     "elapsed": 1098,
     "status": "ok",
     "timestamp": 1552483012684,
     "user": {
      "displayName": "Andrew Mackay",
      "photoUrl": "https://lh3.googleusercontent.com/-24hiGmdxZDE/AAAAAAAAAAI/AAAAAAAAL_I/RW7nqM11LkM/s64/photo.jpg",
      "userId": "06804410358976473893"
     },
     "user_tz": 0
    },
    "id": "IIXL7VSfsBgJ",
    "outputId": "97a990bd-3549-47d5-b50c-5f660726db84"
   },
   "outputs": [
    {
     "name": "stdout",
     "output_type": "stream",
     "text": [
      "Accuracy: 69.93472267567978\n"
     ]
    }
   ],
   "source": [
    "print(\"Accuracy:\",results[\"accuracy\"]*100)"
   ]
  },
  {
   "cell_type": "markdown",
   "metadata": {
    "colab_type": "text",
    "id": "ZAQT0GUGehoN"
   },
   "source": [
    "### Accuracy"
   ]
  },
  {
   "cell_type": "code",
   "execution_count": 8,
   "metadata": {
    "colab": {
     "base_uri": "https://localhost:8080/",
     "height": 376
    },
    "colab_type": "code",
    "executionInfo": {
     "elapsed": 1495,
     "status": "ok",
     "timestamp": 1552483036953,
     "user": {
      "displayName": "Andrew Mackay",
      "photoUrl": "https://lh3.googleusercontent.com/-24hiGmdxZDE/AAAAAAAAAAI/AAAAAAAAL_I/RW7nqM11LkM/s64/photo.jpg",
      "userId": "06804410358976473893"
     },
     "user_tz": 0
    },
    "id": "3TG23dv0ZiER",
    "outputId": "fa7495af-e40a-4e88-a729-c4f28aec925b"
   },
   "outputs": [
    {
     "data": {
      "image/png": "[encoded data removed]",
      "text/plain": [
       "<Figure size 432x288 with 1 Axes>"
      ]
     },
     "metadata": {
      "needs_background": "light"
     },
     "output_type": "display_data"
    }
   ],
   "source": [
    "training_acc = results[\"history\"]['acc']\n",
    "test_acc = results[\"history\"]['val_acc']\n",
    "\n",
    "# Create count of the number of epochs\n",
    "epoch_count = range(1, len(training_acc) + 1)\n",
    "\n",
    "# Visualize loss history\n",
    "plt.plot(epoch_count, training_acc, 'b--')\n",
    "plt.plot(epoch_count, test_acc, 'r-')\n",
    "plt.legend(['Training Accuracy', 'Test Accuracy'])\n",
    "plt.xlabel('Epoch')\n",
    "plt.ylabel('Accuracy')\n",
    "plt.title(\"Comparison of Training vs Test Accuracy\")\n",
    "plt.grid()\n",
    "if SAVE_GRAPHS_TEST_C:\n",
    "    plt.savefig(RESULTS_PATH + \"training_vs_test_acc.pdf\", format='pdf')\n",
    "plt.show()"
   ]
  },
  {
   "cell_type": "markdown",
   "metadata": {
    "colab_type": "text",
    "id": "8w4V_UCpek2w"
   },
   "source": [
    "### Loss"
   ]
  },
  {
   "cell_type": "code",
   "execution_count": 9,
   "metadata": {
    "colab": {
     "base_uri": "https://localhost:8080/",
     "height": 376
    },
    "colab_type": "code",
    "executionInfo": {
     "elapsed": 1272,
     "status": "ok",
     "timestamp": 1552483046883,
     "user": {
      "displayName": "Andrew Mackay",
      "photoUrl": "https://lh3.googleusercontent.com/-24hiGmdxZDE/AAAAAAAAAAI/AAAAAAAAL_I/RW7nqM11LkM/s64/photo.jpg",
      "userId": "06804410358976473893"
     },
     "user_tz": 0
    },
    "id": "9gOHRHu1eoZa",
    "outputId": "ec3ea17d-ca51-4464-e483-291dab4d8b08"
   },
   "outputs": [
    {
     "data": {
      "image/png": "[encoded data removed]",
      "text/plain": [
       "<Figure size 432x288 with 1 Axes>"
      ]
     },
     "metadata": {
      "needs_background": "light"
     },
     "output_type": "display_data"
    }
   ],
   "source": [
    "training_loss = results[\"history\"]['loss']\n",
    "test_loss = results[\"history\"]['val_loss']\n",
    "\n",
    "# Create count of the number of epochs\n",
    "epoch_count = range(1, len(training_loss) + 1)\n",
    "\n",
    "# Visualize loss history\n",
    "plt.plot(epoch_count, training_loss, 'b--')\n",
    "plt.plot(epoch_count, test_loss, 'r-')\n",
    "plt.legend(['Training Loss', 'Test Loss'])\n",
    "plt.xlabel('Epoch')\n",
    "plt.ylabel('Loss')\n",
    "plt.title(\"Comparison of Training vs Test Loss\")\n",
    "plt.grid()\n",
    "if SAVE_GRAPHS_TEST_C:\n",
    "    plt.savefig(RESULTS_PATH + \"training_vs_test_loss.pdf\", format='pdf')\n",
    "plt.show()"
   ]
  },
  {
   "cell_type": "markdown",
   "metadata": {
    "colab_type": "text",
    "id": "Lj9PbHEyepnH"
   },
   "source": [
    "### Confusion Matrix"
   ]
  },
  {
   "cell_type": "code",
   "execution_count": 10,
   "metadata": {
    "colab": {},
    "colab_type": "code",
    "id": "CGvi00vuZf9G"
   },
   "outputs": [],
   "source": [
    "def plot_confusion_matrix(cm, classes, save=False, path='/'):\n",
    "    plt.imshow(cm, interpolation='nearest', cmap=plt.cm.Blues)\n",
    "    plt.title(\"Confusion Matrix\")\n",
    "    plt.colorbar()\n",
    "    tick_marks = np.arange(len(classes))\n",
    "    plt.xticks(tick_marks, classes, rotation=45)\n",
    "    plt.yticks(tick_marks, classes)\n",
    "    plt.ylabel('True label')\n",
    "    plt.xlabel('Predicted label')\n",
    "    plt.tight_layout()\n",
    "    if save:\n",
    "        plt.savefig(path, format='pdf')\n",
    "    plt.show()"
   ]
  },
  {
   "cell_type": "code",
   "execution_count": 11,
   "metadata": {
    "colab": {
     "base_uri": "https://localhost:8080/",
     "height": 401
    },
    "colab_type": "code",
    "executionInfo": {
     "elapsed": 1588,
     "status": "ok",
     "timestamp": 1552483070759,
     "user": {
      "displayName": "Andrew Mackay",
      "photoUrl": "https://lh3.googleusercontent.com/-24hiGmdxZDE/AAAAAAAAAAI/AAAAAAAAL_I/RW7nqM11LkM/s64/photo.jpg",
      "userId": "06804410358976473893"
     },
     "user_tz": 0
    },
    "id": "cHUVuo_rcOis",
    "outputId": "96c566a4-d8cb-4a0c-cd3f-4978c241464e",
    "scrolled": true
   },
   "outputs": [
    {
     "data": {
      "image/png": "[encoded data removed]",
      "text/plain": [
       "<Figure size 432x288 with 2 Axes>"
      ]
     },
     "metadata": {
      "needs_background": "light"
     },
     "output_type": "display_data"
    }
   ],
   "source": [
    "plot_confusion_matrix(results[\"confusion_matrix\"], target_names,\n",
    "                      save=SAVE_GRAPHS_TEST_C, path=RESULTS_PATH + \"confusion_matrix.pdf\")"
   ]
  },
  {
   "cell_type": "code",
   "execution_count": 0,
   "metadata": {
    "colab": {},
    "colab_type": "code",
    "id": "k0_K54rdsBgm"
   },
   "outputs": [],
   "source": [
    "K.clear_session()"
   ]
  },
  {
   "cell_type": "markdown",
   "metadata": {
    "colab_type": "text",
    "id": "qPZEQaFJsBgq"
   },
   "source": [
    "# Evaluating on subset of the data (all subjects) 5-Fold\n",
    "use 60% for training, 20% for validation (early stopping) and the final 20% for testing."
   ]
  },
  {
   "cell_type": "code",
   "execution_count": 0,
   "metadata": {
    "colab": {},
    "colab_type": "code",
    "id": "XPOIc2KOsBgt"
   },
   "outputs": [],
   "source": [
    "# pass in percentage to make test set\n",
    "# fold = 0,1,2,3,4\n",
    "def split_data(test_fold, validation_fold, total_folds):\n",
    "    # split by user then action\n",
    "    labels = np.arange(0, 7)\n",
    "    actions = {}\n",
    "    for user in users:\n",
    "        actions[user] = {}\n",
    "        for label in labels:\n",
    "            actions[user][str(label)] = []\n",
    "        \n",
    "    for user in users:\n",
    "        data = datasets[user][\"data\"]\n",
    "        labels = datasets[user][\"labels\"]\n",
    "        for index, label in enumerate(labels):\n",
    "            actions[user][str(label[0])].append(data[index])        \n",
    "        \n",
    "    labels = np.arange(0, 7)\n",
    "    for user in users:\n",
    "        for label in labels:\n",
    "            actions[user][str(label)] = np.array(actions[user][str(label)])\n",
    "            \n",
    "    train_labels = []\n",
    "    train_data = []\n",
    "    validation_labels = []\n",
    "    validation_data = []\n",
    "    test_labels = []\n",
    "    test_data = []\n",
    "    # each user A->F\n",
    "    for user in users:\n",
    "        # 0 -> 6\n",
    "        for label in labels:\n",
    "            # for example, if using 5 folds splits data into 5 subsets\n",
    "            split_actions = np.array_split(actions[user][str(label)], total_folds)\n",
    "            training_data = []\n",
    "            validating_data = []\n",
    "            testing_data = []\n",
    "            for fold in range(total_folds):\n",
    "                if fold == test_fold:\n",
    "                    testing_data.append(split_actions[fold])\n",
    "                    \n",
    "                elif fold == validation_fold:\n",
    "                    validating_data.append(split_actions[fold])\n",
    "                    \n",
    "                else:\n",
    "                    training_data.append(split_actions[fold])\n",
    "                    \n",
    "            training_data = np.concatenate(training_data, axis=0)\n",
    "            training_labels = np.full(training_data.shape[0], label)\n",
    "            validating_data = np.concatenate(validating_data, axis=0)\n",
    "            validating_labels = np.full(validating_data.shape[0], label)\n",
    "            testing_data = np.concatenate(testing_data, axis=0)\n",
    "            testing_labels = np.full(testing_data.shape[0], label)\n",
    "            \n",
    "            train_data.append(training_data)\n",
    "            train_labels.append(training_labels)\n",
    "            validation_data.append(validating_data)\n",
    "            validation_labels.append(validating_labels)\n",
    "            test_data.append(testing_data)\n",
    "            test_labels.append(testing_labels)   \n",
    "            \n",
    "    train_labels = np.concatenate(train_labels, axis=0)\n",
    "    train_data = np.concatenate(train_data, axis=0)\n",
    "    validation_labels = np.concatenate(validation_labels, axis=0)\n",
    "    validation_data = np.concatenate(validation_data, axis=0)\n",
    "    test_labels = np.concatenate(test_labels, axis=0)\n",
    "    test_data = np.concatenate(test_data, axis=0)\n",
    "    \n",
    "    train_labels = np_utils.to_categorical(train_labels, nb_classes)\n",
    "    validation_labels = np_utils.to_categorical(validation_labels, nb_classes)\n",
    "    test_labels = np_utils.to_categorical(test_labels, nb_classes)\n",
    "    \n",
    "    train_data = train_data.astype('float32')/255\n",
    "    validation_data = validation_data.astype('float32')/255\n",
    "    test_data = test_data.astype('float32')/255\n",
    "    \n",
    "    return {\n",
    "        \"train_data\": train_data,\n",
    "        \"train_labels\": train_labels,\n",
    "        \"validation_data\": validation_data,\n",
    "        \"validation_labels\": validation_labels,\n",
    "        \"test_data\": test_data,\n",
    "        \"test_labels\": test_labels\n",
    "       }"
   ]
  },
  {
   "cell_type": "code",
   "execution_count": 12,
   "metadata": {
    "colab": {},
    "colab_type": "code",
    "id": "yCqMeR0zsBgw"
   },
   "outputs": [],
   "source": [
    "k_fold_results = {}\n",
    "number_of_folds = 5\n",
    "for fold in range(number_of_folds):\n",
    "    k_fold_results[str(fold)] = {}"
   ]
  },
  {
   "cell_type": "code",
   "execution_count": 19,
   "metadata": {
    "colab": {
     "base_uri": "https://localhost:8080/",
     "height": 360
    },
    "colab_type": "code",
    "executionInfo": {
     "elapsed": 1183944,
     "status": "ok",
     "timestamp": 1552493339426,
     "user": {
      "displayName": "Andrew Mackay",
      "photoUrl": "https://lh3.googleusercontent.com/-24hiGmdxZDE/AAAAAAAAAAI/AAAAAAAAL_I/RW7nqM11LkM/s64/photo.jpg",
      "userId": "06804410358976473893"
     },
     "user_tz": 0
    },
    "id": "dtu3aOQ8sBg1",
    "outputId": "e6fbe5f9-de7d-45bd-d30b-c0f6f82f8866",
    "scrolled": true
   },
   "outputs": [
    {
     "name": "stdout",
     "output_type": "stream",
     "text": [
      "Fold: 0\n",
      "WARNING:tensorflow:From /usr/local/lib/python3.6/dist-packages/tensorflow/python/framework/op_def_library.py:263: colocate_with (from tensorflow.python.framework.ops) is deprecated and will be removed in a future version.\n",
      "Instructions for updating:\n",
      "Colocations handled automatically by placer.\n",
      "WARNING:tensorflow:From /usr/local/lib/python3.6/dist-packages/keras/backend/tensorflow_backend.py:3445: calling dropout (from tensorflow.python.ops.nn_ops) with keep_prob is deprecated and will be removed in a future version.\n",
      "Instructions for updating:\n",
      "Please use `rate` instead of `keep_prob`. Rate should be set to `rate = 1 - keep_prob`.\n",
      "WARNING:tensorflow:From /usr/local/lib/python3.6/dist-packages/tensorflow/python/ops/math_ops.py:3066: to_int32 (from tensorflow.python.ops.math_ops) is deprecated and will be removed in a future version.\n",
      "Instructions for updating:\n",
      "Use tf.cast instead.\n",
      "8684/8684 [==============================] - 1s 94us/step\n",
      "Fold: 1\n",
      "8684/8684 [==============================] - 1s 96us/step\n",
      "Fold: 2\n",
      "8684/8684 [==============================] - 1s 95us/step\n",
      "Fold: 3\n",
      "8654/8654 [==============================] - 1s 96us/step\n",
      "Fold: 4\n",
      "8649/8649 [==============================] - 1s 96us/step\n"
     ]
    }
   ],
   "source": [
    "average_accuracy = 0\n",
    "average_loss = 0\n",
    "for fold in range(number_of_folds):\n",
    "    test_fold = fold\n",
    "    validation_fold = (test_fold + 1) % number_of_folds\n",
    "    print(\"Fold:\", fold)\n",
    "    \n",
    "    data_split = split_data(test_fold, validation_fold, number_of_folds)\n",
    "    \n",
    "    train_data = data_split[\"train_data\"]\n",
    "    train_labels = data_split[\"train_labels\"]\n",
    "    validation_data = data_split[\"validation_data\"]\n",
    "    validation_labels = data_split[\"validation_labels\"]\n",
    "    test_data = data_split[\"test_data\"]\n",
    "    test_labels = data_split[\"test_labels\"]\n",
    "\n",
    "    history, model = train_model(train_data, train_labels,\n",
    "                                 validation_data, validation_labels,\n",
    "                                 parameters, nb_epoch, patience)\n",
    "    \n",
    "    results = evaluate_model(model, test_data, test_labels, parameters[8], target_names)\n",
    "    average_accuracy += results[\"accuracy\"]\n",
    "    average_loss += results[\"loss\"]\n",
    "    k_fold_results[str(fold)][\"accuracy\"] = results[\"accuracy\"]\n",
    "    k_fold_results[str(fold)][\"loss\"] = results[\"loss\"]\n",
    "    \n",
    "k_fold_results[\"average_accuracy\"] = average_accuracy/number_of_folds\n",
    "k_fold_results[\"average_loss\"] = average_loss/number_of_folds"
   ]
  },
  {
   "cell_type": "markdown",
   "metadata": {
    "colab_type": "text",
    "id": "gpNlLduW1a-t"
   },
   "source": [
    "## Save Results"
   ]
  },
  {
   "cell_type": "code",
   "execution_count": 0,
   "metadata": {
    "colab": {},
    "colab_type": "code",
    "id": "wMAawsyJ1a-w"
   },
   "outputs": [],
   "source": [
    "if SAVE_RESULTS_20:\n",
    "    with open(RESULTS_PATH + \"results_test_20.pkl\", 'wb') as results_file:\n",
    "        pickle.dump(k_fold_results, results_file)"
   ]
  },
  {
   "cell_type": "markdown",
   "metadata": {
    "colab_type": "text",
    "id": "bXVJBhXg1a-3"
   },
   "source": [
    "## Load Results"
   ]
  },
  {
   "cell_type": "code",
   "execution_count": 13,
   "metadata": {
    "colab": {},
    "colab_type": "code",
    "id": "lAjlWXID1a-5"
   },
   "outputs": [],
   "source": [
    "with open(RESULTS_PATH + \"results_test_20.pkl\", 'rb') as results_file:\n",
    "    k_fold_results = pickle.load(results_file)"
   ]
  },
  {
   "cell_type": "markdown",
   "metadata": {
    "colab_type": "text",
    "id": "zG96Vl0C1a_D"
   },
   "source": [
    "## Visualize Results"
   ]
  },
  {
   "cell_type": "code",
   "execution_count": 14,
   "metadata": {
    "colab": {
     "base_uri": "https://localhost:8080/",
     "height": 51
    },
    "colab_type": "code",
    "executionInfo": {
     "elapsed": 1116,
     "status": "ok",
     "timestamp": 1552493352727,
     "user": {
      "displayName": "Andrew Mackay",
      "photoUrl": "https://lh3.googleusercontent.com/-24hiGmdxZDE/AAAAAAAAAAI/AAAAAAAAL_I/RW7nqM11LkM/s64/photo.jpg",
      "userId": "06804410358976473893"
     },
     "user_tz": 0
    },
    "id": "WgXYn1ONsBhc",
    "outputId": "15514915-708d-4113-d082-f10cde991819"
   },
   "outputs": [
    {
     "name": "stdout",
     "output_type": "stream",
     "text": [
      "Average Accuracy: 94.95711698203738\n",
      "Average Loss: 0.17136900369661043\n"
     ]
    }
   ],
   "source": [
    "print(\"Average Accuracy:\", k_fold_results[\"average_accuracy\"]*100)\n",
    "print(\"Average Loss:\", k_fold_results[\"average_loss\"])"
   ]
  },
  {
   "cell_type": "markdown",
   "metadata": {
    "colab_type": "text",
    "id": "XmZhUB_lsBhf"
   },
   "source": [
    "### Accuracy Fold Distribution"
   ]
  },
  {
   "cell_type": "code",
   "execution_count": 15,
   "metadata": {
    "colab": {
     "base_uri": "https://localhost:8080/",
     "height": 362
    },
    "colab_type": "code",
    "executionInfo": {
     "elapsed": 903,
     "status": "ok",
     "timestamp": 1552493383632,
     "user": {
      "displayName": "Andrew Mackay",
      "photoUrl": "https://lh3.googleusercontent.com/-24hiGmdxZDE/AAAAAAAAAAI/AAAAAAAAL_I/RW7nqM11LkM/s64/photo.jpg",
      "userId": "06804410358976473893"
     },
     "user_tz": 0
    },
    "id": "JG4lyQXfsBhg",
    "outputId": "fce84baa-a39e-454a-f0ba-e8449999db35"
   },
   "outputs": [
    {
     "data": {
      "image/png": "[encoded data removed]",
      "text/plain": [
       "<Figure size 432x288 with 1 Axes>"
      ]
     },
     "metadata": {
      "needs_background": "light"
     },
     "output_type": "display_data"
    }
   ],
   "source": [
    "accuracies = []\n",
    "for fold in range(number_of_folds):\n",
    "    accuracies.append(k_fold_results[str(fold)][\"accuracy\"]*100)\n",
    "\n",
    "plt.boxplot(accuracies, zorder=3)\n",
    "plt.title(\"Fold Performance Distribution Comparison\")\n",
    "# plt.xlabel(\"Model\")\n",
    "plt.ylabel(\"Classification Accuracy (%)\")\n",
    "plt.grid(axis='y', zorder=0)\n",
    "if SAVE_GRAPHS_20:\n",
    "     plt.savefig(RESULTS_PATH + \"boxplot_20.pdf\", format='pdf')"
   ]
  },
  {
   "cell_type": "code",
   "execution_count": 0,
   "metadata": {
    "colab": {},
    "colab_type": "code",
    "id": "V8GVpM3GsBhm"
   },
   "outputs": [],
   "source": [
    "K.clear_session()"
   ]
  },
  {
   "cell_type": "markdown",
   "metadata": {
    "colab_type": "text",
    "id": "EuOkMVMvsBhq"
   },
   "source": [
    "# Six-Fold Cross-Validation\n",
    "Same method as employed when comparing the original model except this time user all users."
   ]
  },
  {
   "cell_type": "code",
   "execution_count": 0,
   "metadata": {
    "colab": {},
    "colab_type": "code",
    "id": "Enp87uIpsBhr"
   },
   "outputs": [],
   "source": [
    "results_six_fold = {}\n",
    "for user in users:\n",
    "    results_six_fold[user] = {}"
   ]
  },
  {
   "cell_type": "code",
   "execution_count": 26,
   "metadata": {
    "colab": {
     "base_uri": "https://localhost:8080/",
     "height": 153
    },
    "colab_type": "code",
    "executionInfo": {
     "elapsed": 1559456,
     "status": "ok",
     "timestamp": 1552494955394,
     "user": {
      "displayName": "Andrew Mackay",
      "photoUrl": "https://lh3.googleusercontent.com/-24hiGmdxZDE/AAAAAAAAAAI/AAAAAAAAL_I/RW7nqM11LkM/s64/photo.jpg",
      "userId": "06804410358976473893"
     },
     "user_tz": 0
    },
    "id": "dZmmBc_qsBht",
    "outputId": "9d1cf763-acda-40da-f14e-a1f114ae0c86"
   },
   "outputs": [
    {
     "name": "stdout",
     "output_type": "stream",
     "text": [
      "7966/7966 [==============================] - 1s 133us/step\n",
      "7966/7966 [==============================] - 1s 92us/step\n",
      "7966/7966 [==============================] - 1s 94us/step\n",
      "7966/7966 [==============================] - 1s 93us/step\n",
      "5121/5121 [==============================] - 1s 159us/step\n",
      "6370/6370 [==============================] - 1s 97us/step\n",
      "Average Loss: 1.348568635080411\n",
      "Average Accuracy: 0.7938664939102966\n"
     ]
    }
   ],
   "source": [
    "average_accuracy = 0\n",
    "average_loss = 0\n",
    "for user in users:\n",
    "    data_split = split_train_validation_test(user)\n",
    "    train_data = data_split[\"train_data\"]\n",
    "    train_labels = data_split[\"train_labels\"]\n",
    "    validation_data = data_split[\"validation_data\"]\n",
    "    validation_labels = data_split[\"validation_labels\"]\n",
    "    test_data = data_split[\"test_data\"]\n",
    "    test_labels = data_split[\"test_labels\"]\n",
    "    \n",
    "    history, model = train_model(train_data, train_labels, validation_data, validation_labels, parameters, nb_epoch, patience)\n",
    "    \n",
    "    results = evaluate_model(model, test_data, test_labels, parameters[8], target_names)\n",
    "    average_accuracy += results[\"accuracy\"]\n",
    "    average_loss += results[\"loss\"]\n",
    "    results_six_fold[user][\"accuracy\"] = results[\"accuracy\"]\n",
    "    results_six_fold[user][\"loss\"] = results[\"loss\"]\n",
    "\n",
    "results_six_fold[\"avg_loss\"] = average_loss/len(users)\n",
    "results_six_fold[\"avg_acc\"] = average_accuracy/len(users)\n",
    "print(\"Average Loss:\", average_loss/len(users))\n",
    "print(\"Average Accuracy:\", average_accuracy/len(users))"
   ]
  },
  {
   "cell_type": "markdown",
   "metadata": {
    "colab_type": "text",
    "id": "FJoBqNfPsBhx"
   },
   "source": [
    "## Save Results"
   ]
  },
  {
   "cell_type": "code",
   "execution_count": 0,
   "metadata": {
    "colab": {},
    "colab_type": "code",
    "id": "hnAwgC5DsBhy"
   },
   "outputs": [],
   "source": [
    "if SAVE_RESULTS_6_FOLD:\n",
    "    with open(RESULTS_PATH + \"results_6_fold.pkl\", 'wb') as results_file:\n",
    "        pickle.dump(results_six_fold, results_file)"
   ]
  },
  {
   "cell_type": "markdown",
   "metadata": {
    "colab_type": "text",
    "id": "c5OTSf4csBh2"
   },
   "source": [
    "## Load Results"
   ]
  },
  {
   "cell_type": "code",
   "execution_count": 16,
   "metadata": {
    "colab": {},
    "colab_type": "code",
    "id": "OL-r8gzfsBh3"
   },
   "outputs": [],
   "source": [
    "with open(RESULTS_PATH + \"results_6_fold.pkl\", 'rb') as results_file:\n",
    "    results_six_fold = pickle.load(results_file)"
   ]
  },
  {
   "cell_type": "markdown",
   "metadata": {
    "colab_type": "text",
    "id": "WIcBEAsKsBh7"
   },
   "source": [
    "## Visualize Results"
   ]
  },
  {
   "cell_type": "code",
   "execution_count": 17,
   "metadata": {
    "colab": {
     "base_uri": "https://localhost:8080/",
     "height": 51
    },
    "colab_type": "code",
    "executionInfo": {
     "elapsed": 4110,
     "status": "ok",
     "timestamp": 1552495401438,
     "user": {
      "displayName": "Andrew Mackay",
      "photoUrl": "https://lh3.googleusercontent.com/-24hiGmdxZDE/AAAAAAAAAAI/AAAAAAAAL_I/RW7nqM11LkM/s64/photo.jpg",
      "userId": "06804410358976473893"
     },
     "user_tz": 0
    },
    "id": "LxKxFnrYsBh8",
    "outputId": "bbcc4693-1f2f-45fa-d3b5-c68c91239d9f"
   },
   "outputs": [
    {
     "name": "stdout",
     "output_type": "stream",
     "text": [
      "Average Accuracy: 79.38664939102966\n",
      "Average Loss: 1.348568635080411\n"
     ]
    }
   ],
   "source": [
    "print(\"Average Accuracy:\", results_six_fold[\"avg_acc\"]*100)\n",
    "print(\"Average Loss:\", results_six_fold[\"avg_loss\"])"
   ]
  },
  {
   "cell_type": "code",
   "execution_count": 18,
   "metadata": {
    "colab": {
     "base_uri": "https://localhost:8080/",
     "height": 376
    },
    "colab_type": "code",
    "executionInfo": {
     "elapsed": 3774,
     "status": "ok",
     "timestamp": 1552495415719,
     "user": {
      "displayName": "Andrew Mackay",
      "photoUrl": "https://lh3.googleusercontent.com/-24hiGmdxZDE/AAAAAAAAAAI/AAAAAAAAL_I/RW7nqM11LkM/s64/photo.jpg",
      "userId": "06804410358976473893"
     },
     "user_tz": 0
    },
    "id": "G1nkUBDDsBiF",
    "outputId": "9e4c5e65-9c2c-4d6e-a51d-128218e7c99a",
    "scrolled": true
   },
   "outputs": [
    {
     "data": {
      "image/png": "[encoded data removed]",
      "text/plain": [
       "<Figure size 432x288 with 1 Axes>"
      ]
     },
     "metadata": {
      "needs_background": "light"
     },
     "output_type": "display_data"
    }
   ],
   "source": [
    "accuracies = []\n",
    "for user in users:\n",
    "    accuracies.append(results_six_fold[user][\"accuracy\"]*100)\n",
    "\n",
    "plt.boxplot(accuracies, zorder=3)\n",
    "plt.title(\"Fold Performance Distribution Comparison\")\n",
    "plt.xlabel(\"Model\")\n",
    "plt.ylabel(\"Classification Accuracy (%)\")\n",
    "plt.grid(axis='y', zorder=0)\n",
    "if SAVE_GRAPHS_6_FOLD:\n",
    "     plt.savefig(RESULTS_PATH + \"boxplot_6_fold.pdf\", format='pdf')"
   ]
  },
  {
   "cell_type": "code",
   "execution_count": 19,
   "metadata": {
    "colab": {
     "base_uri": "https://localhost:8080/",
     "height": 376
    },
    "colab_type": "code",
    "executionInfo": {
     "elapsed": 2788,
     "status": "ok",
     "timestamp": 1552495525338,
     "user": {
      "displayName": "Andrew Mackay",
      "photoUrl": "https://lh3.googleusercontent.com/-24hiGmdxZDE/AAAAAAAAAAI/AAAAAAAAL_I/RW7nqM11LkM/s64/photo.jpg",
      "userId": "06804410358976473893"
     },
     "user_tz": 0
    },
    "id": "q-xScbY7sBiK",
    "outputId": "602a753f-256a-40bc-ea6d-8c27f05949d9",
    "scrolled": false
   },
   "outputs": [
    {
     "data": {
      "image/png": "[encoded data removed]",
      "text/plain": [
       "<Figure size 432x288 with 1 Axes>"
      ]
     },
     "metadata": {
      "needs_background": "light"
     },
     "output_type": "display_data"
    }
   ],
   "source": [
    "plt.bar(range(len(users)), accuracies, zorder=3)\n",
    "plt.xticks(range(len(users)), users)\n",
    "plt.xlabel(\"Subject (fold)\")\n",
    "plt.ylabel(\"Classification Accuracy (%)\")\n",
    "plt.title(\" Fold Accuracy Distribution\")\n",
    "plt.grid(axis='y', zorder=0)\n",
    "if SAVE_GRAPHS_6_FOLD:\n",
    "    plt.savefig(RESULTS_PATH + \"fold_accuracy_distribution_6_fold.pdf\", format='pdf')\n",
    "plt.show()"
   ]
  },
  {
   "cell_type": "markdown",
   "metadata": {
    "colab_type": "text",
    "id": "DH8NXUtIsBiO"
   },
   "source": [
    "# Original Model Parameters"
   ]
  },
  {
   "cell_type": "code",
   "execution_count": 20,
   "metadata": {
    "colab": {},
    "colab_type": "code",
    "id": "nzg7iLoPsBiP"
   },
   "outputs": [],
   "source": [
    "SAVE_RESULTS_TEST_C_BASE = False\n",
    "SAVE_GRAPHS_TEST_C_BASE = True\n",
    "\n",
    "SAVE_RESULTS_20_BASE = False\n",
    "SAVE_GRAPHS_20_BASE = True\n",
    "\n",
    "SAVE_RESULTS_6_FOLD_BASE = False\n",
    "SAVE_GRAPHS_6_FOLD_BASE = True"
   ]
  },
  {
   "cell_type": "code",
   "execution_count": 21,
   "metadata": {
    "colab": {},
    "colab_type": "code",
    "id": "cVUpSOIysBiT"
   },
   "outputs": [],
   "source": [
    "nb_epochs = 20\n",
    "batch_size = 64"
   ]
  },
  {
   "cell_type": "code",
   "execution_count": 0,
   "metadata": {
    "colab": {},
    "colab_type": "code",
    "id": "8OImgCdJsBiV"
   },
   "outputs": [],
   "source": [
    "def make_base_model():   \n",
    "    model = Sequential(name=\"Base\")\n",
    "\n",
    "    model.add(Convolution2D(64, (3, 3), padding='same',\n",
    "                            input_shape=(1, img_rows, img_cols), activation='relu'))\n",
    "    model.add(Convolution2D(64, (3, 3), activation='relu'))\n",
    "    model.add(MaxPooling2D(pool_size=(2, 2)))\n",
    "    model.add(Dropout(0.25))\n",
    "\n",
    "    model.add(Convolution2D(128, (3, 3), padding='same', activation='relu'))\n",
    "    model.add(Convolution2D(128, (3, 3), activation='relu'))\n",
    "    model.add(MaxPooling2D(pool_size=(2, 2)))\n",
    "    model.add(Dropout(0.25))\n",
    "\n",
    "    model.add(Flatten())\n",
    "    model.add(Dense(512, activation='relu'))\n",
    "    model.add(Dropout(0.5))\n",
    "    model.add(Dense(nb_classes, activation='softmax'))\n",
    "    \n",
    "    optimizer = SGD(lr=0.01, decay=1e-6, momentum=0.9,\n",
    "                    nesterov=True)\n",
    "\n",
    "    model.compile(loss='categorical_crossentropy',\n",
    "                  optimizer=optimizer,\n",
    "                  metrics=['accuracy'])\n",
    "    return model"
   ]
  },
  {
   "cell_type": "markdown",
   "metadata": {
    "colab_type": "text",
    "id": "9ZEvUvdGsBic"
   },
   "source": [
    "## Evaluate on Subject C"
   ]
  },
  {
   "cell_type": "code",
   "execution_count": 0,
   "metadata": {
    "colab": {},
    "colab_type": "code",
    "id": "3dnZntKrsBic"
   },
   "outputs": [],
   "source": [
    "data_split = split_train_validation_test(\"C\") # subject c is test subject\n",
    "\n",
    "# 80% of each subject (excluding C)\n",
    "train_data = data_split[\"train_data\"]\n",
    "train_labels = data_split[\"train_labels\"]\n",
    "\n",
    "# 20% taken from each subject (excluding C)\n",
    "validation_data = data_split[\"validation_data\"]\n",
    "validation_labels = data_split[\"validation_labels\"]\n",
    "\n",
    "# subject C\n",
    "test_data = data_split[\"test_data\"]\n",
    "test_labels = data_split[\"test_labels\"]"
   ]
  },
  {
   "cell_type": "code",
   "execution_count": 0,
   "metadata": {
    "colab": {},
    "colab_type": "code",
    "id": "lQNuCdRysBif"
   },
   "outputs": [],
   "source": [
    "model = make_base_model()\n",
    "\n",
    "history = model.fit(train_data, train_labels,\n",
    "                    batch_size=batch_size,\n",
    "                    epochs=nb_epochs,\n",
    "                    shuffle=True, \n",
    "                    validation_data=(validation_data, validation_labels),\n",
    "                    verbose=0)"
   ]
  },
  {
   "cell_type": "code",
   "execution_count": 0,
   "metadata": {
    "colab": {
     "base_uri": "https://localhost:8080/",
     "height": 35
    },
    "colab_type": "code",
    "executionInfo": {
     "elapsed": 1194556,
     "status": "ok",
     "timestamp": 1552484379791,
     "user": {
      "displayName": "Andrew Mackay",
      "photoUrl": "https://lh3.googleusercontent.com/-24hiGmdxZDE/AAAAAAAAAAI/AAAAAAAAL_I/RW7nqM11LkM/s64/photo.jpg",
      "userId": "06804410358976473893"
     },
     "user_tz": 0
    },
    "id": "qCJVE9hNsBim",
    "outputId": "8cf5725b-1360-40f5-e321-c5bebf335cea"
   },
   "outputs": [
    {
     "name": "stdout",
     "output_type": "stream",
     "text": [
      "7966/7966 [==============================] - 5s 665us/step\n"
     ]
    }
   ],
   "source": [
    "results = evaluate_model(model, test_data, test_labels, batch_size, target_names)\n",
    "results[\"history\"] = history.history"
   ]
  },
  {
   "cell_type": "markdown",
   "metadata": {
    "colab_type": "text",
    "id": "gtkdinzjtTv0"
   },
   "source": [
    "## Save Results"
   ]
  },
  {
   "cell_type": "code",
   "execution_count": 0,
   "metadata": {
    "colab": {},
    "colab_type": "code",
    "id": "GTLXfvAhtOU7"
   },
   "outputs": [],
   "source": [
    "if SAVE_RESULTS_TEST_C_BASE:\n",
    "    with open(RESULTS_PATH + \"results_test_c_base.pkl\", 'wb') as results_file:\n",
    "        pickle.dump(results, results_file)"
   ]
  },
  {
   "cell_type": "markdown",
   "metadata": {
    "colab_type": "text",
    "id": "ijkgdcz-tOVH"
   },
   "source": [
    "## Load Results"
   ]
  },
  {
   "cell_type": "code",
   "execution_count": 22,
   "metadata": {
    "colab": {},
    "colab_type": "code",
    "id": "xPDwwpo0tOVK"
   },
   "outputs": [],
   "source": [
    "with open(RESULTS_PATH + \"results_test_c_base.pkl\", 'rb') as results_file:\n",
    "    results = pickle.load(results_file)"
   ]
  },
  {
   "cell_type": "markdown",
   "metadata": {
    "colab_type": "text",
    "id": "f9XGRt0PtOVX"
   },
   "source": [
    "## Visualize Results"
   ]
  },
  {
   "cell_type": "code",
   "execution_count": 23,
   "metadata": {
    "colab": {
     "base_uri": "https://localhost:8080/",
     "height": 35
    },
    "colab_type": "code",
    "executionInfo": {
     "elapsed": 707,
     "status": "ok",
     "timestamp": 1552484385184,
     "user": {
      "displayName": "Andrew Mackay",
      "photoUrl": "https://lh3.googleusercontent.com/-24hiGmdxZDE/AAAAAAAAAAI/AAAAAAAAL_I/RW7nqM11LkM/s64/photo.jpg",
      "userId": "06804410358976473893"
     },
     "user_tz": 0
    },
    "id": "Uw-srbUAsBi_",
    "outputId": "82f3b9ac-558e-48a6-abf1-d0356ebc2d32"
   },
   "outputs": [
    {
     "name": "stdout",
     "output_type": "stream",
     "text": [
      "Accuracy: 78.30780818478533\n"
     ]
    }
   ],
   "source": [
    "print(\"Accuracy:\", results[\"accuracy\"]*100)"
   ]
  },
  {
   "cell_type": "code",
   "execution_count": 0,
   "metadata": {
    "colab": {},
    "colab_type": "code",
    "id": "Dde-vCn5sBjb"
   },
   "outputs": [],
   "source": [
    "K.clear_session()"
   ]
  },
  {
   "cell_type": "markdown",
   "metadata": {
    "colab_type": "text",
    "id": "oVIApBO7sBjf"
   },
   "source": [
    "# Evaluating on subset of the data (all subjects) 5-Fold\n",
    "use 60% for training, 20% for validation (early stopping) and the final 20% for testing."
   ]
  },
  {
   "cell_type": "code",
   "execution_count": 24,
   "metadata": {
    "colab": {},
    "colab_type": "code",
    "id": "QT5KP8pksBjg"
   },
   "outputs": [],
   "source": [
    "k_fold_results = {}\n",
    "number_of_folds = 5\n",
    "for fold in range(number_of_folds):\n",
    "    k_fold_results[str(fold)] = {}"
   ]
  },
  {
   "cell_type": "code",
   "execution_count": 37,
   "metadata": {
    "colab": {
     "base_uri": "https://localhost:8080/",
     "height": 187
    },
    "colab_type": "code",
    "executionInfo": {
     "elapsed": 5487306,
     "status": "ok",
     "timestamp": 1552501106529,
     "user": {
      "displayName": "Andrew Mackay",
      "photoUrl": "https://lh3.googleusercontent.com/-24hiGmdxZDE/AAAAAAAAAAI/AAAAAAAAL_I/RW7nqM11LkM/s64/photo.jpg",
      "userId": "06804410358976473893"
     },
     "user_tz": 0
    },
    "id": "u5_dId2vsBjj",
    "outputId": "7e3a9986-ebb7-4ce3-8720-af83c220f75d",
    "scrolled": true
   },
   "outputs": [
    {
     "name": "stdout",
     "output_type": "stream",
     "text": [
      "Fold: 0\n",
      "8684/8684 [==============================] - 5s 619us/step\n",
      "Fold: 1\n",
      "8684/8684 [==============================] - 5s 620us/step\n",
      "Fold: 2\n",
      "8684/8684 [==============================] - 5s 620us/step\n",
      "Fold: 3\n",
      "8654/8654 [==============================] - 5s 627us/step\n",
      "Fold: 4\n",
      "8649/8649 [==============================] - 5s 626us/step\n"
     ]
    }
   ],
   "source": [
    "average_accuracy = 0\n",
    "average_loss = 0\n",
    "for fold in range(number_of_folds):\n",
    "    test_fold = fold\n",
    "    validation_fold = (test_fold + 1) % number_of_folds\n",
    "    print(\"Fold:\", fold)\n",
    "    \n",
    "    data_split = split_data(test_fold, validation_fold, number_of_folds)\n",
    "    \n",
    "    train_data = data_split[\"train_data\"]\n",
    "    train_labels = data_split[\"train_labels\"]\n",
    "    validation_data = data_split[\"validation_data\"]\n",
    "    validation_labels = data_split[\"validation_labels\"]\n",
    "    test_data = data_split[\"test_data\"]\n",
    "    test_labels = data_split[\"test_labels\"]\n",
    "    \n",
    "    model = make_base_model()\n",
    "\n",
    "    history = model.fit(train_data, train_labels,\n",
    "                        batch_size=batch_size,\n",
    "                        epochs=nb_epochs,\n",
    "                        shuffle=True, \n",
    "                        validation_data=(validation_data, validation_labels),\n",
    "                        verbose=0)\n",
    "    \n",
    "    results = evaluate_model(model, test_data, test_labels, batch_size, target_names)\n",
    "    average_accuracy += results[\"accuracy\"]\n",
    "    average_loss += results[\"loss\"]\n",
    "    k_fold_results[str(fold)][\"accuracy\"] = results[\"accuracy\"]\n",
    "    k_fold_results[str(fold)][\"loss\"] = results[\"loss\"]\n",
    "    \n",
    "k_fold_results[\"average_accuracy\"] = average_accuracy/number_of_folds\n",
    "k_fold_results[\"average_loss\"] = average_loss/number_of_folds"
   ]
  },
  {
   "cell_type": "markdown",
   "metadata": {
    "colab_type": "text",
    "id": "6yz4eV0h07l3"
   },
   "source": [
    "## Save Results"
   ]
  },
  {
   "cell_type": "code",
   "execution_count": 0,
   "metadata": {
    "colab": {},
    "colab_type": "code",
    "id": "XmQDR76R1HYA"
   },
   "outputs": [],
   "source": [
    "if SAVE_RESULTS_20_BASE:\n",
    "    with open(RESULTS_PATH + \"results_test_20_base.pkl\", 'wb') as results_file:\n",
    "        pickle.dump(k_fold_results, results_file)"
   ]
  },
  {
   "cell_type": "markdown",
   "metadata": {
    "colab_type": "text",
    "id": "ecH9-LzN07wB"
   },
   "source": [
    "## Load Results"
   ]
  },
  {
   "cell_type": "code",
   "execution_count": 25,
   "metadata": {
    "colab": {},
    "colab_type": "code",
    "id": "6sRKOOMg1NNW"
   },
   "outputs": [],
   "source": [
    "with open(RESULTS_PATH + \"results_test_20_base.pkl\", 'rb') as results_file:\n",
    "    k_fold_results = pickle.load(results_file)"
   ]
  },
  {
   "cell_type": "markdown",
   "metadata": {
    "colab_type": "text",
    "id": "wot77Dja08UF"
   },
   "source": [
    "## Visualize Results"
   ]
  },
  {
   "cell_type": "markdown",
   "metadata": {
    "colab_type": "text",
    "id": "I3Y7gER3sBj7"
   },
   "source": [
    "### Accuracy Fold Distribution"
   ]
  },
  {
   "cell_type": "code",
   "execution_count": 26,
   "metadata": {
    "colab": {
     "base_uri": "https://localhost:8080/",
     "height": 51
    },
    "colab_type": "code",
    "executionInfo": {
     "elapsed": 2045,
     "status": "ok",
     "timestamp": 1552501604153,
     "user": {
      "displayName": "Andrew Mackay",
      "photoUrl": "https://lh3.googleusercontent.com/-24hiGmdxZDE/AAAAAAAAAAI/AAAAAAAAL_I/RW7nqM11LkM/s64/photo.jpg",
      "userId": "06804410358976473893"
     },
     "user_tz": 0
    },
    "id": "tqU3R6EHsBj5",
    "outputId": "817ee511-e591-4822-a929-00821f645416"
   },
   "outputs": [
    {
     "name": "stdout",
     "output_type": "stream",
     "text": [
      "Average Accuracy: 97.10634334520206\n",
      "Average Loss: 0.11314814092131883\n"
     ]
    }
   ],
   "source": [
    "print(\"Average Accuracy:\", k_fold_results[\"average_accuracy\"]*100)\n",
    "print(\"Average Loss:\", k_fold_results[\"average_loss\"])"
   ]
  },
  {
   "cell_type": "code",
   "execution_count": 27,
   "metadata": {
    "colab": {
     "base_uri": "https://localhost:8080/",
     "height": 362
    },
    "colab_type": "code",
    "executionInfo": {
     "elapsed": 2398,
     "status": "ok",
     "timestamp": 1552501610887,
     "user": {
      "displayName": "Andrew Mackay",
      "photoUrl": "https://lh3.googleusercontent.com/-24hiGmdxZDE/AAAAAAAAAAI/AAAAAAAAL_I/RW7nqM11LkM/s64/photo.jpg",
      "userId": "06804410358976473893"
     },
     "user_tz": 0
    },
    "id": "L_gtcCrxsBj8",
    "outputId": "d296789b-32e0-4978-ad50-0630aed524dd"
   },
   "outputs": [
    {
     "data": {
      "image/png": "[encoded data removed]",
      "text/plain": [
       "<Figure size 432x288 with 1 Axes>"
      ]
     },
     "metadata": {
      "needs_background": "light"
     },
     "output_type": "display_data"
    }
   ],
   "source": [
    "accuracies = []\n",
    "for fold in range(number_of_folds):\n",
    "    accuracies.append(k_fold_results[str(fold)][\"accuracy\"]*100)\n",
    "\n",
    "plt.boxplot(accuracies, zorder=3)\n",
    "plt.title(\"Fold Performance Distribution Comparison\")\n",
    "# plt.xlabel(\"Model\")\n",
    "plt.ylabel(\"Classification Accuracy (%)\")\n",
    "plt.grid(axis='y', zorder=0)\n",
    "if SAVE_GRAPHS_20_BASE:\n",
    "     plt.savefig(RESULTS_PATH + \"boxplot_20_base.pdf\", format='pdf')"
   ]
  },
  {
   "cell_type": "code",
   "execution_count": 0,
   "metadata": {
    "colab": {},
    "colab_type": "code",
    "id": "kKVhIMYMsBj-"
   },
   "outputs": [],
   "source": [
    "K.clear_session()"
   ]
  },
  {
   "cell_type": "markdown",
   "metadata": {
    "colab_type": "text",
    "id": "_s0EB8RxsBkE"
   },
   "source": [
    "# Six-Fold Cross-Validation\n",
    "Same method as employed when comparing the original model except this time user all users."
   ]
  },
  {
   "cell_type": "code",
   "execution_count": 0,
   "metadata": {
    "colab": {},
    "colab_type": "code",
    "id": "8CeNbtdisBkE"
   },
   "outputs": [],
   "source": [
    "results_six_fold = {}\n",
    "for user in users:\n",
    "    results_six_fold[user] = {}"
   ]
  },
  {
   "cell_type": "code",
   "execution_count": 46,
   "metadata": {
    "colab": {
     "base_uri": "https://localhost:8080/",
     "height": 207
    },
    "colab_type": "code",
    "executionInfo": {
     "elapsed": 7099418,
     "status": "ok",
     "timestamp": 1552508734285,
     "user": {
      "displayName": "Andrew Mackay",
      "photoUrl": "https://lh3.googleusercontent.com/-24hiGmdxZDE/AAAAAAAAAAI/AAAAAAAAL_I/RW7nqM11LkM/s64/photo.jpg",
      "userId": "06804410358976473893"
     },
     "user_tz": 0
    },
    "id": "Xg-3mxa6sBkH",
    "outputId": "c53397b1-1022-41b8-d060-24b979011ccd"
   },
   "outputs": [
    {
     "name": "stdout",
     "output_type": "stream",
     "text": [
      "7966/7966 [==============================] - 5s 628us/step\n",
      "7966/7966 [==============================] - 5s 620us/step\n"
     ]
    },
    {
     "name": "stderr",
     "output_type": "stream",
     "text": [
      "/usr/local/lib/python3.6/dist-packages/sklearn/metrics/classification.py:1143: UndefinedMetricWarning: Precision and F-score are ill-defined and being set to 0.0 in labels with no predicted samples.\n",
      "  'precision', 'predicted', average, warn_for)\n"
     ]
    },
    {
     "name": "stdout",
     "output_type": "stream",
     "text": [
      "7966/7966 [==============================] - 5s 619us/step\n",
      "7966/7966 [==============================] - 5s 621us/step\n",
      "5121/5121 [==============================] - 3s 634us/step\n",
      "6370/6370 [==============================] - 4s 645us/step\n",
      "Average Loss: 1.9231071929770376\n",
      "Average Accuracy: 0.7848044614928873\n"
     ]
    }
   ],
   "source": [
    "average_accuracy = 0\n",
    "average_loss = 0\n",
    "for user in users:\n",
    "    data_split = split_train_validation_test(user)\n",
    "    train_data = data_split[\"train_data\"]\n",
    "    train_labels = data_split[\"train_labels\"]\n",
    "    validation_data = data_split[\"validation_data\"]\n",
    "    validation_labels = data_split[\"validation_labels\"]\n",
    "    test_data = data_split[\"test_data\"]\n",
    "    test_labels = data_split[\"test_labels\"]\n",
    "    \n",
    "    model = make_base_model()\n",
    "\n",
    "    history = model.fit(train_data, train_labels,\n",
    "                        batch_size=batch_size,\n",
    "                        epochs=nb_epochs,\n",
    "                        shuffle=True, \n",
    "                        validation_data=(validation_data, validation_labels),\n",
    "                        verbose=0)\n",
    "    \n",
    "    results = evaluate_model(model, test_data, test_labels, batch_size, target_names)\n",
    "    average_accuracy += results[\"accuracy\"]\n",
    "    average_loss += results[\"loss\"]\n",
    "    results_six_fold[user][\"accuracy\"] = results[\"accuracy\"]\n",
    "    results_six_fold[user][\"loss\"] = results[\"loss\"]\n",
    "\n",
    "results_six_fold[\"avg_loss\"] = average_loss/len(users)\n",
    "results_six_fold[\"avg_acc\"] = average_accuracy/len(users)\n",
    "print(\"Average Loss:\", average_loss/len(users))\n",
    "print(\"Average Accuracy:\", average_accuracy/len(users))"
   ]
  },
  {
   "cell_type": "markdown",
   "metadata": {
    "colab_type": "text",
    "id": "bvM5zfQNsBkJ"
   },
   "source": [
    "## Save Results"
   ]
  },
  {
   "cell_type": "code",
   "execution_count": 0,
   "metadata": {
    "colab": {},
    "colab_type": "code",
    "id": "ivkx9iXKsBkK"
   },
   "outputs": [],
   "source": [
    "if SAVE_RESULTS_6_FOLD_BASE:\n",
    "    with open(RESULTS_PATH + \"results_6_fold_base.pkl\", 'wb') as results_file:\n",
    "        pickle.dump(results_six_fold, results_file)"
   ]
  },
  {
   "cell_type": "markdown",
   "metadata": {
    "colab_type": "text",
    "id": "B1ijhm7MsBkL"
   },
   "source": [
    "## Load Results"
   ]
  },
  {
   "cell_type": "code",
   "execution_count": 28,
   "metadata": {
    "colab": {},
    "colab_type": "code",
    "id": "x6BSW-J7sBkN"
   },
   "outputs": [],
   "source": [
    "with open(RESULTS_PATH + \"results_6_fold_base.pkl\", 'rb') as results_file:\n",
    "    results_six_fold = pickle.load(results_file)"
   ]
  },
  {
   "cell_type": "markdown",
   "metadata": {
    "colab_type": "text",
    "id": "vpVGmOQisBkQ"
   },
   "source": [
    "## Visualize Results"
   ]
  },
  {
   "cell_type": "code",
   "execution_count": 29,
   "metadata": {
    "colab": {
     "base_uri": "https://localhost:8080/",
     "height": 51
    },
    "colab_type": "code",
    "executionInfo": {
     "elapsed": 563,
     "status": "ok",
     "timestamp": 1552509776439,
     "user": {
      "displayName": "Andrew Mackay",
      "photoUrl": "https://lh3.googleusercontent.com/-24hiGmdxZDE/AAAAAAAAAAI/AAAAAAAAL_I/RW7nqM11LkM/s64/photo.jpg",
      "userId": "06804410358976473893"
     },
     "user_tz": 0
    },
    "id": "VpVcD6BGsBkT",
    "outputId": "b47d73e7-f5f6-435e-9620-98c1d65b5baa"
   },
   "outputs": [
    {
     "name": "stdout",
     "output_type": "stream",
     "text": [
      "Average Accuracy: 78.48044614928872\n",
      "Average Loss: 1.9231071929770376\n"
     ]
    }
   ],
   "source": [
    "print(\"Average Accuracy:\", results_six_fold[\"avg_acc\"]*100)\n",
    "print(\"Average Loss:\", results_six_fold[\"avg_loss\"])"
   ]
  },
  {
   "cell_type": "code",
   "execution_count": 30,
   "metadata": {
    "colab": {
     "base_uri": "https://localhost:8080/",
     "height": 376
    },
    "colab_type": "code",
    "executionInfo": {
     "elapsed": 1047,
     "status": "ok",
     "timestamp": 1552509895361,
     "user": {
      "displayName": "Andrew Mackay",
      "photoUrl": "https://lh3.googleusercontent.com/-24hiGmdxZDE/AAAAAAAAAAI/AAAAAAAAL_I/RW7nqM11LkM/s64/photo.jpg",
      "userId": "06804410358976473893"
     },
     "user_tz": 0
    },
    "id": "SGlz-i9IsBkZ",
    "outputId": "22267f6c-0893-420b-a503-fbebfa177bc1",
    "scrolled": true
   },
   "outputs": [
    {
     "data": {
      "image/png": "[encoded data removed]",
      "text/plain": [
       "<Figure size 432x288 with 1 Axes>"
      ]
     },
     "metadata": {
      "needs_background": "light"
     },
     "output_type": "display_data"
    }
   ],
   "source": [
    "accuracies = []\n",
    "for user in users:\n",
    "    accuracies.append(results_six_fold[user][\"accuracy\"]*100)\n",
    "\n",
    "plt.boxplot(accuracies, zorder=3)\n",
    "plt.title(\"Fold Performance Distribution Comparison\")\n",
    "plt.xlabel(\"Model\")\n",
    "plt.ylabel(\"Classification Accuracy (%)\")\n",
    "plt.grid(axis='y', zorder=0)\n",
    "if SAVE_GRAPHS_6_FOLD:\n",
    "     plt.savefig(RESULTS_PATH + \"boxplot_6_fold_base.pdf\", format='pdf')"
   ]
  },
  {
   "cell_type": "code",
   "execution_count": 31,
   "metadata": {
    "colab": {
     "base_uri": "https://localhost:8080/",
     "height": 376
    },
    "colab_type": "code",
    "executionInfo": {
     "elapsed": 1795,
     "status": "ok",
     "timestamp": 1552509902729,
     "user": {
      "displayName": "Andrew Mackay",
      "photoUrl": "https://lh3.googleusercontent.com/-24hiGmdxZDE/AAAAAAAAAAI/AAAAAAAAL_I/RW7nqM11LkM/s64/photo.jpg",
      "userId": "06804410358976473893"
     },
     "user_tz": 0
    },
    "id": "Y1eZivnDsBkc",
    "outputId": "a307e7e3-c27f-4b4f-9f90-2097435c9ae8",
    "scrolled": false
   },
   "outputs": [
    {
     "data": {
      "image/png": "[encoded data removed]",
      "text/plain": [
       "<Figure size 432x288 with 1 Axes>"
      ]
     },
     "metadata": {
      "needs_background": "light"
     },
     "output_type": "display_data"
    }
   ],
   "source": [
    "plt.bar(range(len(users)), accuracies, zorder=3)\n",
    "plt.xticks(range(len(users)), users)\n",
    "plt.xlabel(\"Subject (fold)\")\n",
    "plt.ylabel(\"Classification Accuracy (%)\")\n",
    "plt.title(\" Fold Accuracy Distribution\")\n",
    "plt.grid(axis='y', zorder=0)\n",
    "if SAVE_GRAPHS_6_FOLD_BASE:\n",
    "    plt.savefig(RESULTS_PATH + \"fold_accuracy_distribution_6_fold_base.pdf\", format='pdf')\n",
    "plt.show()"
   ]
  },
  {
   "cell_type": "code",
   "execution_count": 0,
   "metadata": {
    "colab": {},
    "colab_type": "code",
    "id": "4V5slF-uzRe8"
   },
   "outputs": [],
   "source": []
  }
 ],
 "metadata": {
  "accelerator": "GPU",
  "colab": {
   "collapsed_sections": [],
   "name": "10_CNN_final_model_evaluation_without_corrupt.ipynb",
   "provenance": [],
   "version": "0.3.2"
  },
  "kernelspec": {
   "display_name": "Python 3",
   "language": "python",
   "name": "python3"
  },
  "language_info": {
   "codemirror_mode": {
    "name": "ipython",
    "version": 3
   },
   "file_extension": ".py",
   "mimetype": "text/x-python",
   "name": "python",
   "nbconvert_exporter": "python",
   "pygments_lexer": "ipython3",
   "version": "3.6.6"
  }
 },
 "nbformat": 4,
 "nbformat_minor": 1
}
