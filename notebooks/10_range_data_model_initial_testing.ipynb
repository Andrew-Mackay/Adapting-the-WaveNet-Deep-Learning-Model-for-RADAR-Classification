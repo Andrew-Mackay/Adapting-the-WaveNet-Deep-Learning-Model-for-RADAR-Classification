{
 "cells": [
  {
   "cell_type": "markdown",
   "metadata": {
    "colab_type": "text",
    "id": "znku3TNhZY2m"
   },
   "source": [
    "# Exploring how models designed for the range dataset perform.\n",
    "\n",
    "First testing of models, comparing dilation depth and number of stacks as well as causal vs non causal for model 3.\n",
    "\n",
    "The idea of this notebook is just to develop models and get a rough idea of how well they perform.\n",
    "\n",
    "It is also used to get an idea for performance, training time/epoch.\n"
   ]
  },
  {
   "cell_type": "markdown",
   "metadata": {
    "colab_type": "text",
    "id": "bZxhO7V0ZHUE"
   },
   "source": [
    "## Notebook setup"
   ]
  },
  {
   "cell_type": "code",
   "execution_count": 1,
   "metadata": {
    "colab": {},
    "colab_type": "code",
    "id": "TGNeUj-JDXhs"
   },
   "outputs": [],
   "source": [
    "# Needed to allow editing using PyCharm etc\n",
    "%load_ext autoreload\n",
    "%autoreload 2\n",
    "%matplotlib inline\n"
   ]
  },
  {
   "cell_type": "markdown",
   "metadata": {
    "colab_type": "text",
    "id": "QwLbqieVYIJt"
   },
   "source": [
    "The following cell is needed for compatibility when using both CoLab and Local Jupyter notebook. It sets the appropriate file path for the data and also installs local packages such as models and data_loading."
   ]
  },
  {
   "cell_type": "code",
   "execution_count": 2,
   "metadata": {
    "colab": {
     "base_uri": "https://localhost:8080/",
     "height": 34
    },
    "colab_type": "code",
    "executionInfo": {
     "elapsed": 418,
     "status": "ok",
     "timestamp": 1549533102992,
     "user": {
      "displayName": "Andrew Mackay",
      "photoUrl": "https://lh3.googleusercontent.com/-24hiGmdxZDE/AAAAAAAAAAI/AAAAAAAAL_I/RW7nqM11LkM/s64/photo.jpg",
      "userId": "06804410358976473893"
     },
     "user_tz": 0
    },
    "id": "3XeU0HtoDXh6",
    "outputId": "5af52900-2ecd-4ebc-c5e5-9a56c18ecbdf"
   },
   "outputs": [],
   "source": [
    "import os\n",
    "path = os.getcwd()\n",
    "if path == '/content':\n",
    "    from google.colab import drive\n",
    "    drive.mount('/content/gdrive')\n",
    "    BASE_PATH = '/content/gdrive/My Drive/Level-4-Project/'\n",
    "#     !cd gdrive/My\\ Drive/Level-4-Project/ && pip install --editable .\n",
    "    os.chdir('gdrive/My Drive/Level-4-Project/')\n",
    "    \n",
    "elif path == 'D:\\\\Google Drive\\\\Level-4-Project\\\\notebooks':\n",
    "    BASE_PATH = \"D:/Google Drive/Level-4-Project/\"\n",
    "    \n",
    "elif path == \"/export/home/2192793m\":\n",
    "    BASE_PATH = \"/export/home/2192793m/Level-4-Project/\"\n",
    "    \n",
    "    \n",
    "DATA_PATH_MTI = BASE_PATH + 'data/processed/range_FFT/3/MTI_applied/' # not used\n",
    "DATA_PATH_NO_MTI = BASE_PATH + 'data/processed/range_FFT/3/MTI_not_applied/'\n",
    "\n",
    "RESULTS_PATH = BASE_PATH + 'results/range_data_model_initial_testing/'\n",
    "if not os.path.exists(RESULTS_PATH):\n",
    "    os.makedirs(RESULTS_PATH)\n",
    "    \n",
    "MODEL_PATH = BASE_PATH + 'models/range_data_model_initial_testing/'\n",
    "if not os.path.exists(MODEL_PATH):\n",
    "    os.makedirs(MODEL_PATH)"
   ]
  },
  {
   "cell_type": "code",
   "execution_count": 3,
   "metadata": {
    "colab": {
     "base_uri": "https://localhost:8080/",
     "height": 34
    },
    "colab_type": "code",
    "executionInfo": {
     "elapsed": 1598,
     "status": "ok",
     "timestamp": 1549533110258,
     "user": {
      "displayName": "Andrew Mackay",
      "photoUrl": "https://lh3.googleusercontent.com/-24hiGmdxZDE/AAAAAAAAAAI/AAAAAAAAL_I/RW7nqM11LkM/s64/photo.jpg",
      "userId": "06804410358976473893"
     },
     "user_tz": 0
    },
    "id": "QW7Fa5jTCDXo",
    "outputId": "d1f5b91d-7f01-42c5-e88c-b53346a2edc0"
   },
   "outputs": [
    {
     "name": "stderr",
     "output_type": "stream",
     "text": [
      "Using TensorFlow backend.\n"
     ]
    }
   ],
   "source": [
    "from keras import backend as K \n",
    "import pandas as pd\n",
    "import numpy as np\n",
    "import matplotlib.pyplot as plt\n",
    "import pickle\n",
    "from sklearn.metrics import classification_report, confusion_matrix\n",
    "from keras import metrics\n",
    "from keras import optimizers\n",
    "from keras.callbacks import History, ModelCheckpoint, CSVLogger\n",
    "from keras.models import load_model\n",
    "from keras.utils import Sequence, to_categorical\n",
    "from keras.layers import Input, Conv1D, Multiply, Add, Reshape, Activation, AveragePooling1D, Lambda, Flatten, Dense,GlobalAveragePooling1D\n",
    "from keras.models import load_model, Model\n",
    "from keras.callbacks import History, ModelCheckpoint\n",
    "import sys\n",
    "import tensorflow as tf"
   ]
  },
  {
   "cell_type": "code",
   "execution_count": 4,
   "metadata": {
    "colab": {},
    "colab_type": "code",
    "id": "sPhrf-cqQv3M"
   },
   "outputs": [],
   "source": [
    "OVERWRITE_RESULTS = False\n",
    "OVERWRITE_GRAPHS = True"
   ]
  },
  {
   "cell_type": "markdown",
   "metadata": {
    "colab_type": "text",
    "id": "vxIKU3-fTUy7"
   },
   "source": [
    "## Data Setup"
   ]
  },
  {
   "cell_type": "code",
   "execution_count": 5,
   "metadata": {
    "colab": {
     "base_uri": "https://localhost:8080/",
     "height": 178
    },
    "colab_type": "code",
    "executionInfo": {
     "elapsed": 17086,
     "status": "error",
     "timestamp": 1549531688676,
     "user": {
      "displayName": "Andrew Mackay",
      "photoUrl": "https://lh3.googleusercontent.com/-24hiGmdxZDE/AAAAAAAAAAI/AAAAAAAAL_I/RW7nqM11LkM/s64/photo.jpg",
      "userId": "06804410358976473893"
     },
     "user_tz": 0
    },
    "id": "sj59Pvxv5CX9",
    "outputId": "f6f2bdf7-9b7a-4f80-bee2-e990facddbca"
   },
   "outputs": [],
   "source": [
    "# Load in data dictionary.\n",
    "# This does not load in any actual data,\n",
    "# just the dictionary with the names of the files and their associated labels\n",
    "with open(DATA_PATH_NO_MTI + \"index.pkl\", \"rb\") as file:\n",
    "    data = pickle.load(file)"
   ]
  },
  {
   "cell_type": "code",
   "execution_count": 6,
   "metadata": {
    "colab": {},
    "colab_type": "code",
    "id": "WYNFp-60ZFe2"
   },
   "outputs": [],
   "source": [
    "#Remove user C as this user is reserved for the test set\n",
    "try:\n",
    "    del data[\"C\"]\n",
    "except KeyError:\n",
    "    print (\"Key 'C' not found\")"
   ]
  },
  {
   "cell_type": "code",
   "execution_count": 7,
   "metadata": {
    "colab": {},
    "colab_type": "code",
    "id": "TQIwQ8EACdIQ"
   },
   "outputs": [],
   "source": [
    "def convert_label_to_int(label):\n",
    "    if label == \"walking\":\n",
    "        return 0\n",
    "    if label == \"pushing\":\n",
    "        return 1\n",
    "    if label == \"sitting\":\n",
    "        return 2\n",
    "    if label == \"pulling\":\n",
    "        return 3\n",
    "    if label == \"circling\":\n",
    "        return 4\n",
    "    if label == \"clapping\":\n",
    "        return 5\n",
    "    if label == \"bending\":\n",
    "        return 6"
   ]
  },
  {
   "cell_type": "code",
   "execution_count": 9,
   "metadata": {
    "colab": {},
    "colab_type": "code",
    "id": "zN4lXwZg7vv_"
   },
   "outputs": [],
   "source": [
    "labels = {}\n",
    "partition = {'train':[], 'validation':[]} # contains list of training and validation ID's\n",
    "validation_user = \"B\" # use user B for validation\n",
    "\n",
    "for user_letter, actions in data.items():\n",
    "    for action, results in actions.items():\n",
    "        for result in results:\n",
    "            for row in result:\n",
    "                if user_letter == validation_user:\n",
    "                    partition[\"validation\"].append(row)\n",
    "                    labels[row] = convert_label_to_int(action)\n",
    "\n",
    "                else:\n",
    "                    partition[\"train\"].append(row)\n",
    "                    labels[row] = convert_label_to_int(action)"
   ]
  },
  {
   "cell_type": "code",
   "execution_count": 8,
   "metadata": {
    "colab": {},
    "colab_type": "code",
    "id": "n4fd5mwu11f9"
   },
   "outputs": [],
   "source": [
    "target_names = [\"walking\", \"pushing\", \"sitting\", \"pulling\", \"circling\", \"clapping\", \"bending\"]\n",
    "nb_classes = len(target_names)"
   ]
  },
  {
   "cell_type": "markdown",
   "metadata": {
    "colab_type": "text",
    "id": "0ah1RGSSTYfQ"
   },
   "source": [
    "## DataGenerator"
   ]
  },
  {
   "cell_type": "code",
   "execution_count": 13,
   "metadata": {
    "colab": {},
    "colab_type": "code",
    "id": "_gOcp1JeSop2"
   },
   "outputs": [],
   "source": [
    "'''Based on code from https://stanford.edu/~shervine/blog/keras-how-to-generate-data-on-the-fly'''\n",
    "\n",
    "class DataGenerator(Sequence):\n",
    "    \"\"\"Generates data for Keras\"\"\"\n",
    "    def __init__(self, list_IDs, labels, batch_size=32, dim=(3000),\n",
    "                 n_classes=7, shuffle=False, data_directory='data/',\n",
    "                 bin_range=(0,60)):\n",
    "        \"\"\"Initialization\"\"\"\n",
    "        self.dim = dim\n",
    "        self.batch_size = batch_size\n",
    "        self.labels = labels\n",
    "        self.list_IDs = list_IDs\n",
    "        self.n_classes = n_classes\n",
    "        self.shuffle = shuffle\n",
    "        self.data_directory = data_directory\n",
    "        self.bin_range=bin_range\n",
    "        self.indexes = None\n",
    "        self.on_epoch_end()\n",
    "\n",
    "    def __len__(self):\n",
    "        \"\"\"Denotes the number of batches per epoch\"\"\"\n",
    "        return int(np.floor(len(self.list_IDs) / self.batch_size))\n",
    "\n",
    "    def __getitem__(self, index):\n",
    "        \"\"\"Generate one batch of data\"\"\"\n",
    "\n",
    "        # Generate indexes of the batch\n",
    "        indexes = self.indexes[index*self.batch_size:(index+1)*self.batch_size]\n",
    "\n",
    "        # Find list of IDs\n",
    "        list_IDs_temp = [self.list_IDs[k] for k in indexes]\n",
    "\n",
    "        # Generate data\n",
    "        X, y = self.__data_generation(list_IDs_temp)\n",
    "\n",
    "        return X, y\n",
    "\n",
    "    def on_epoch_end(self):\n",
    "        \"\"\"Updates indexes after each epoch\"\"\"\n",
    "        self.indexes = np.arange(len(self.list_IDs))\n",
    "        if self.shuffle:\n",
    "            np.random.shuffle(self.indexes)\n",
    "\n",
    "    def __data_generation(self, list_IDs_temp):\n",
    "        \"\"\"Generates data containing batch_size samples\"\"\"\n",
    "        # Initialization\n",
    "        X = np.empty((self.batch_size, *self.dim))\n",
    "\n",
    "        y = np.empty((self.batch_size), dtype=int)\n",
    "\n",
    "        # Generate data\n",
    "        for i, ID in enumerate(list_IDs_temp):\n",
    "            # Store sample\n",
    "            X[i,] = abs(np.load(self.data_directory + ID))[:,self.bin_range[0]:self.bin_range[1]]\n",
    "            # Store class\n",
    "            y[i] = self.labels[ID]\n",
    "\n",
    "        return X, to_categorical(y, num_classes=self.n_classes)"
   ]
  },
  {
   "cell_type": "markdown",
   "metadata": {
    "colab_type": "text",
    "id": "HTPN9Kow7oIs"
   },
   "source": [
    "## Function to aid the exploration of models."
   ]
  },
  {
   "cell_type": "code",
   "execution_count": 12,
   "metadata": {
    "colab": {},
    "colab_type": "code",
    "id": "ICZnKLII7ncn"
   },
   "outputs": [],
   "source": [
    "def test_model(model, params, epochs, csvlog_path, verbose=True, load_weights=False, weights_path=''):\n",
    "    # Generators\n",
    "    training_generator = DataGenerator(partition['train'], labels, **params, shuffle=True)\n",
    "    validation_generator = DataGenerator(partition['validation'], labels, **params, shuffle=False)\n",
    "    \n",
    "    weights_path = MODEL_PATH + weights_path\n",
    "\n",
    "    start_epoch = 0\n",
    "    if load_weights:\n",
    "        model = load_model(weights_path)\n",
    "        last_epoch = weights_path.split(\"-\")[-3]\n",
    "        start_epoch = int(last_epoch)\n",
    "        \n",
    "    model_path = csvlog_path.split(\".\")[-2] # remove the .csv\n",
    "    if not load_weights:\n",
    "        model.compile('adam', loss='categorical_crossentropy', metrics=['accuracy'])\n",
    "        \n",
    "    checkpoint = ModelCheckpoint(MODEL_PATH + model_path + \"_epoch-{epoch:02d}-{val_acc:.2f}.hdf5\",\n",
    "                                 monitor='val_acc', verbose=0, save_best_only=False,\n",
    "                                 save_weights_only=False, mode='auto', period=1)\n",
    "\n",
    "    csv_logger = CSVLogger(RESULTS_PATH + csvlog_path, append=True)\n",
    "    callbacks_list = [checkpoint, csv_logger]\n",
    "    # Train model on dataset\n",
    "    model.fit_generator(generator=training_generator,\n",
    "                        validation_data=validation_generator,\n",
    "                        use_multiprocessing=False,\n",
    "                        workers=1,\n",
    "                        epochs=epochs,\n",
    "                        callbacks=callbacks_list,\n",
    "                        initial_epoch=start_epoch,\n",
    "                        verbose=verbose)"
   ]
  },
  {
   "cell_type": "markdown",
   "metadata": {
    "colab_type": "text",
    "id": "u3MQ0FACt9aa"
   },
   "source": [
    "### Visualize Results"
   ]
  },
  {
   "cell_type": "code",
   "execution_count": 10,
   "metadata": {
    "colab": {},
    "colab_type": "code",
    "id": "__yOu1WH_iBb"
   },
   "outputs": [],
   "source": [
    "def visualize_results(csvlog_path, save=False, save_file_name=\"\"):\n",
    "    df = pd.read_csv(RESULTS_PATH + csvlog_path)\n",
    "    epoch = df['epoch'] +1\n",
    "    train = df[\"acc\"] * 100 # convert to %\n",
    "    val = df['val_acc'] * 100 # convert to %\n",
    "    plt.figure()\n",
    "    plt.plot(epoch, train, 'b--', marker='x', label='Training (Subjects A, D, E and F)')\n",
    "    plt.plot(epoch, val, 'r-', marker='x', label='Validation (Subject B)')\n",
    "    plt.xticks(epoch)\n",
    "    plt.legend(loc='best')\n",
    "    plt.xlabel('Epoch')\n",
    "    plt.ylabel('Classification Accuracy (%)')\n",
    "    plt.grid()\n",
    "    if save:\n",
    "        plt.savefig(RESULTS_PATH + save_file_name, format='pdf')\n",
    "    plt.show()"
   ]
  },
  {
   "cell_type": "markdown",
   "metadata": {
    "colab_type": "text",
    "id": "bewhCsv0sNKE"
   },
   "source": [
    "## Fixed Parameters"
   ]
  },
  {
   "cell_type": "code",
   "execution_count": 11,
   "metadata": {
    "colab": {},
    "colab_type": "code",
    "id": "CxXVIaedsPxK"
   },
   "outputs": [],
   "source": [
    "# Try all bins to start with\n",
    "bin_range = (0,63)\n",
    "data_shape = (3000, 63)\n",
    "n_filters = 64\n",
    "activation = 'softmax'\n",
    "kernel_size = 2\n",
    "pool_size_1 = 4\n",
    "pool_size_2 = 8\n",
    "batch_size = 16\n",
    "epochs = 5\n",
    "# epochs = 1"
   ]
  },
  {
   "cell_type": "markdown",
   "metadata": {
    "colab_type": "text",
    "id": "88LpWZJeTfj2"
   },
   "source": [
    "## Model 1: Wavenet model adapted based on interpretation from Wavenet Paper\n",
    "\n",
    "Keras implementation of wavenet model taken from https://github.com/basveeling/wavenet and https://github.com/mjpyeon/wavenet-classifier\n",
    "\n",
    "This model has then been adapted to the classification task based on the intrustions from the paper \"WAVENET: A GENERATIVE MODEL FOR RAW AUDIO\" (https://arxiv.org/pdf/1609.03499.pdf)\n",
    "\n",
    "Specifically:\n",
    "\"For this task we added a mean-pooling layer after the dilated convolutions that aggregated the activations to coarser frames spanning 10 milliseconds (160× downsampling).  The pooling layer was followed by a few non-causal convolutions.\""
   ]
  },
  {
   "cell_type": "markdown",
   "metadata": {
    "colab_type": "text",
    "id": "StWO3HS4bY5A"
   },
   "source": [
    "### Model"
   ]
  },
  {
   "cell_type": "code",
   "execution_count": 32,
   "metadata": {
    "colab": {},
    "colab_type": "code",
    "id": "RMveaN0ITfAP"
   },
   "outputs": [],
   "source": [
    "class WaveNetClassifier:\n",
    "    def __init__(self, input_shape, output_shape, kernel_size=2, dilation_depth=9, nb_stacks=1, nb_filters=40,\n",
    "                 pool_size_1=80, pool_size_2=100, use_skip_connections=True):\n",
    "\n",
    "        self.activation = 'softmax'\n",
    "        self.pool_size_1 = pool_size_1\n",
    "        self.pool_size_2 = pool_size_2\n",
    "        self.nb_stacks = nb_stacks\n",
    "        self.kernel_size = kernel_size\n",
    "        self.dilation_depth = dilation_depth\n",
    "        self.nb_filters = nb_filters\n",
    "        self.use_skip_connections = use_skip_connections\n",
    "        self.input_shape = input_shape\n",
    "        self.output_shape = output_shape\n",
    "\n",
    "        if len(input_shape) == 1:\n",
    "            self.expand_dims = True\n",
    "        elif len(input_shape) == 2:\n",
    "            self.expand_dims = False\n",
    "        else:\n",
    "            print('ERROR: wrong input shape')\n",
    "            sys.exit()\n",
    "\n",
    "        self.model = self.build_model()\n",
    "\n",
    "    def residual_block(self, x, i, stack_nb):\n",
    "        original_x = x\n",
    "        tanh_out = Conv1D(self.nb_filters, self.kernel_size, dilation_rate=2 ** i, padding='causal',\n",
    "                          name='dilated_conv_%d_tanh_s%d' % (2 ** i, stack_nb), activation='tanh')(x)\n",
    "        sigm_out = Conv1D(self.nb_filters, self.kernel_size, dilation_rate=2 ** i, padding='causal',\n",
    "                          name='dilated_conv_%d_sigm_s%d' % (2 ** i, stack_nb), activation='sigmoid')(x)\n",
    "        x = Multiply(name='gated_activation_%d_s%d' % (i, stack_nb))([tanh_out, sigm_out])\n",
    "\n",
    "        res_x = Conv1D(self.nb_filters, 1, padding='same')(x)\n",
    "        skip_x = Conv1D(self.nb_filters, 1, padding='same')(x)\n",
    "        res_x = Add()([original_x, res_x])\n",
    "        return res_x, skip_x\n",
    "\n",
    "    def build_model(self):\n",
    "        input_layer = Input(shape=self.input_shape, name='input_part')\n",
    "        out = input_layer\n",
    "        skip_connections = []\n",
    "        out = Conv1D(self.nb_filters, self.kernel_size,\n",
    "                     dilation_rate=1,\n",
    "                     padding='causal',\n",
    "                     name='initial_causal_conv'\n",
    "                     )(out)\n",
    "        for stack_nb in range(self.nb_stacks):\n",
    "            for i in range(0, self.dilation_depth + 1):\n",
    "                out, skip_out = self.residual_block(out, i, stack_nb)\n",
    "                skip_connections.append(skip_out)\n",
    "\n",
    "        if self.use_skip_connections:\n",
    "            out = Add()(skip_connections)\n",
    "        out = Activation('relu')(out)\n",
    "        # added a mean-pooling layer after the dilated convolutions that aggregated the activations to coarser frames\n",
    "        # spanning 10 milliseconds (160× downsampling)\n",
    "        # mean pooling layer adjust pool_size_1 to change downsampling\n",
    "        out = AveragePooling1D(self.pool_size_1, padding='same', name='mean_pooling_layer_downsampling')(out)\n",
    "\n",
    "        # few non-causal convolutions\n",
    "        out = Conv1D(self.nb_filters, self.pool_size_1, strides=2, padding='same', activation='relu')(out)\n",
    "        out = Conv1D(self.nb_filters, self.pool_size_2, strides=2, padding='same', activation='relu')(out)\n",
    "        out = Conv1D(self.output_shape, self.pool_size_2, strides=2, padding='same', activation='relu')(out)\n",
    "        out = Conv1D(self.output_shape, self.pool_size_2, strides=2, padding='same', activation='relu')(out)\n",
    "\n",
    "\n",
    "        out = Flatten()(out)\n",
    "        out = Dense(512, activation='relu')(out)\n",
    "        out = Dense(self.output_shape, activation='softmax')(out)\n",
    "\n",
    "        return Model(input_layer, out)\n",
    "\n",
    "    def get_model(self):\n",
    "        return self.model\n",
    "\n",
    "    def get_summary(self):\n",
    "        self.model.summary()\n",
    "\n",
    "    def get_receptive_field(self):\n",
    "        return self.nb_stacks * (self.kernel_size + (2*(self.kernel_size - 1) * ((2**self.dilation_depth) - 1))) - (self.nb_stacks - 1)\n"
   ]
  },
  {
   "cell_type": "markdown",
   "metadata": {
    "colab_type": "text",
    "id": "TpaVFTd0BVYl"
   },
   "source": [
    "### Dilation depth: 4, Stack = 1 (No MTI)\n",
    "Receptive Field: 32"
   ]
  },
  {
   "cell_type": "code",
   "execution_count": 33,
   "metadata": {
    "colab": {},
    "colab_type": "code",
    "id": "PGNLieoovEV-"
   },
   "outputs": [],
   "source": [
    "dilation_depth = 4\n",
    "nb_stacks = 1\n",
    "wnc = WaveNetClassifier((data_shape), (nb_classes), kernel_size=kernel_size,\n",
    "                        dilation_depth=dilation_depth, nb_stacks=nb_stacks,\n",
    "                        nb_filters=n_filters,\n",
    "                        pool_size_1=pool_size_1, pool_size_2=pool_size_2)\n",
    "\n",
    "wnc.build_model()\n",
    "model = wnc.get_model()\n",
    "# Parameters\n",
    "params = {'dim': data_shape,\n",
    "          'batch_size': batch_size,\n",
    "          'n_classes': nb_classes,\n",
    "          'data_directory': DATA_PATH_NO_MTI,\n",
    "          'bin_range': bin_range}\n",
    "\n",
    "csvlog_path = \"model_1_NO_MTI_dd_\" + str(dilation_depth) + \"_stacks_\" +str(nb_stacks) + \".csv\"\n",
    "if OVERWRITE_RESULTS:\n",
    "    test_model(model, params, epochs, csvlog_path, verbose=True)\n"
   ]
  },
  {
   "cell_type": "code",
   "execution_count": 35,
   "metadata": {
    "colab": {},
    "colab_type": "code",
    "id": "sJ8WJ-QLEiBH"
   },
   "outputs": [
    {
     "data": {
      "image/png": "[encoded data removed]",
      "text/plain": [
       "<Figure size 432x288 with 1 Axes>"
      ]
     },
     "metadata": {
      "needs_background": "light"
     },
     "output_type": "display_data"
    }
   ],
   "source": [
    "save_graph_path = csvlog_path.split('.')[-2] + \".pdf\"\n",
    "visualize_results(csvlog_path, save=OVERWRITE_GRAPHS, save_file_name=save_graph_path)"
   ]
  },
  {
   "cell_type": "code",
   "execution_count": 36,
   "metadata": {
    "colab": {},
    "colab_type": "code",
    "id": "Tq1EpqRvJzEY"
   },
   "outputs": [],
   "source": [
    "K.clear_session()"
   ]
  },
  {
   "cell_type": "markdown",
   "metadata": {
    "colab_type": "text",
    "id": "FBIDfyL7vGeQ"
   },
   "source": [
    "### Dilation Depth 8, Stack 3 (No MTI)\n",
    "Receptive Field: 1534"
   ]
  },
  {
   "cell_type": "code",
   "execution_count": 37,
   "metadata": {
    "colab": {},
    "colab_type": "code",
    "id": "ZE9QxUIevLfI"
   },
   "outputs": [],
   "source": [
    "dilation_depth = 8\n",
    "nb_stacks = 3\n",
    "wnc = WaveNetClassifier((data_shape), (nb_classes), kernel_size=kernel_size,\n",
    "                        dilation_depth=dilation_depth, nb_stacks=nb_stacks,\n",
    "                        nb_filters=n_filters,\n",
    "                        pool_size_1=pool_size_1, pool_size_2=pool_size_2)\n",
    "\n",
    "wnc.build_model()\n",
    "model = wnc.get_model()\n",
    "# Parameters\n",
    "params = {'dim': data_shape,\n",
    "          'batch_size': batch_size,\n",
    "          'n_classes': nb_classes,\n",
    "          'data_directory': DATA_PATH_NO_MTI,\n",
    "          'bin_range': bin_range}\n",
    "\n",
    "csvlog_path = \"model_1_NO_MTI_dd_\" + str(dilation_depth) + \"_stacks_\" +str(nb_stacks) + \".csv\"\n",
    "if OVERWRITE_RESULTS:\n",
    "    test_model(model, params, epochs, csvlog_path, load_weights=False, weights_path='')"
   ]
  },
  {
   "cell_type": "code",
   "execution_count": 38,
   "metadata": {
    "colab": {},
    "colab_type": "code",
    "id": "6bVByrIs2_Ao"
   },
   "outputs": [
    {
     "data": {
      "image/png": "[encoded data removed]",
      "text/plain": [
       "<Figure size 432x288 with 1 Axes>"
      ]
     },
     "metadata": {
      "needs_background": "light"
     },
     "output_type": "display_data"
    }
   ],
   "source": [
    "save_graph_path = csvlog_path.split('.')[-2] + \".pdf\"\n",
    "visualize_results(csvlog_path, save=OVERWRITE_GRAPHS, save_file_name=save_graph_path)"
   ]
  },
  {
   "cell_type": "code",
   "execution_count": 39,
   "metadata": {
    "colab": {},
    "colab_type": "code",
    "id": "489ZH2gPJ1dc"
   },
   "outputs": [],
   "source": [
    "K.clear_session()"
   ]
  },
  {
   "cell_type": "markdown",
   "metadata": {
    "colab_type": "text",
    "id": "jFpqQgIk3jY0"
   },
   "source": [
    "### Dilation Depth 8, Stack 5 (No MTI)\n",
    "Receptive Field: 2556"
   ]
  },
  {
   "cell_type": "code",
   "execution_count": 40,
   "metadata": {
    "colab": {},
    "colab_type": "code",
    "id": "Qdm69lzm3o9a"
   },
   "outputs": [],
   "source": [
    "dilation_depth = 8\n",
    "nb_stacks = 5\n",
    "wnc = WaveNetClassifier((data_shape), (nb_classes), kernel_size=kernel_size,\n",
    "                        dilation_depth=dilation_depth, nb_stacks=nb_stacks,\n",
    "                        nb_filters=n_filters,\n",
    "                        pool_size_1=pool_size_1, pool_size_2=pool_size_2)\n",
    "\n",
    "wnc.build_model()\n",
    "model = wnc.get_model()\n",
    "# Parameters\n",
    "params = {'dim': data_shape,\n",
    "          'batch_size': batch_size,\n",
    "          'n_classes': nb_classes,\n",
    "          'data_directory': DATA_PATH_NO_MTI,\n",
    "          'bin_range': bin_range}\n",
    "\n",
    "csvlog_path = \"model_1_NO_MTI_dd_\" + str(dilation_depth) + \"_stacks_\" +str(nb_stacks) + \".csv\"\n",
    "if OVERWRITE_RESULTS:\n",
    "    test_model(model, params, epochs, csvlog_path, load_weights=False, weights_path='')"
   ]
  },
  {
   "cell_type": "code",
   "execution_count": 41,
   "metadata": {
    "colab": {},
    "colab_type": "code",
    "id": "UBYVaKhN3qEw"
   },
   "outputs": [
    {
     "data": {
      "image/png": "[encoded data removed]",
      "text/plain": [
       "<Figure size 432x288 with 1 Axes>"
      ]
     },
     "metadata": {
      "needs_background": "light"
     },
     "output_type": "display_data"
    }
   ],
   "source": [
    "save_graph_path = csvlog_path.split('.')[-2] + \".pdf\"\n",
    "visualize_results(csvlog_path, save=OVERWRITE_GRAPHS, save_file_name=save_graph_path)"
   ]
  },
  {
   "cell_type": "code",
   "execution_count": 43,
   "metadata": {
    "colab": {},
    "colab_type": "code",
    "id": "WIRc9kDBJ3Vs"
   },
   "outputs": [],
   "source": [
    "K.clear_session()"
   ]
  },
  {
   "cell_type": "markdown",
   "metadata": {
    "colab_type": "text",
    "id": "2VcVHTFpZZQf"
   },
   "source": [
    "## Model 2: Wavenet based classification model designed by Kevin Mader orignally used for kaggle competition (\"Quick Draw!\")\n",
    "\n",
    "This version of the wavenet based classifier was implemented by Kevin Mader\n",
    "for the Kaggle \"Quick, Draw!\" Doodle Recognition Challenge and achieved a score of 0.63\n",
    "https://www.kaggle.com/kmader/quickdraw-with-wavenet-classifier\n",
    "\n",
    "This is based on the work done here: https://github.com/mjpyeon/wavenet-classifier which is likely from https://github.com/basveeling/wavenet\n",
    "\n",
    "This model includes an additional average pooling layer and a Global average pooling layer compared to model 1."
   ]
  },
  {
   "cell_type": "markdown",
   "metadata": {
    "colab_type": "text",
    "id": "YFDO2twQfUMR"
   },
   "source": [
    "### Model"
   ]
  },
  {
   "cell_type": "code",
   "execution_count": 42,
   "metadata": {
    "colab": {},
    "colab_type": "code",
    "id": "wQ4wnOUqaIeG"
   },
   "outputs": [],
   "source": [
    "class WaveNetClassifier:\n",
    "\n",
    "    def __init__(self, input_shape, output_shape, n_filters=64, dilation_depth=8, nb_stacks=1,\n",
    "                 activation='softmax', kernel_size=2, pool_size_1=4, pool_size_2=8):\n",
    "        self.input_shape = input_shape\n",
    "        self.output_shape = output_shape\n",
    "        self.n_filters = n_filters\n",
    "        self.dilation_depth = dilation_depth\n",
    "        self.nb_stacks=nb_stacks\n",
    "        self.activation = activation\n",
    "        self.kernel_size = kernel_size\n",
    "        self.pool_size_1 = pool_size_1\n",
    "        self.pool_size_2 = pool_size_2\n",
    "        self.model = self.make_model()\n",
    "\n",
    "    def residual_block(self, x, i, stack_nb):\n",
    "        tanh_out = Conv1D(self.n_filters,\n",
    "                          self.kernel_size,\n",
    "                          dilation_rate=2 ** i,\n",
    "                          padding='causal',\n",
    "                          name='dilated_conv_%d_tanh_s%d' % (2 ** i, stack_nb),\n",
    "                          activation='tanh'\n",
    "                          )(x)\n",
    "        sigm_out = Conv1D(self.n_filters,\n",
    "                          self.kernel_size,\n",
    "                          dilation_rate=2 ** i,\n",
    "                          padding='causal',\n",
    "                          name='dilated_conv_%d_sigm_s%d' % (2 ** i, stack_nb),\n",
    "                          activation='sigmoid'\n",
    "                          )(x)\n",
    "        z = Multiply(name='gated_activation_%d_s%d' % (i, stack_nb))([tanh_out, sigm_out])\n",
    "        skip = Conv1D(self.n_filters, 1, name='skip_%d_s%d' % (i, stack_nb))(z)\n",
    "        res = Add(name='residual_block_%d_s%d' % (i, stack_nb))([skip, x])\n",
    "        return res, skip\n",
    "\n",
    "\n",
    "    def make_model(self):\n",
    "        x = Input(shape=self.input_shape, name='original_input')\n",
    "        skip_connections = []\n",
    "        out = Conv1D(self.n_filters, self.kernel_size, dilation_rate=1, padding='causal', name='dilated_conv_1')(x)\n",
    "        for stack_nb in range(self.nb_stacks):\n",
    "            for i in range(1, self.dilation_depth + 1):\n",
    "                out, skip = self.residual_block(out, i, stack_nb)\n",
    "                skip_connections.append(skip)\n",
    "        out = Add(name='skip_connections')(skip_connections)\n",
    "        out = Activation('relu')(out)\n",
    "\n",
    "        out = Conv1D(self.n_filters, self.pool_size_1, strides=1, padding='same',\n",
    "                     activation='relu', name='conv_5ms')(out)\n",
    "        out = AveragePooling1D(self.pool_size_1, padding='same', name='downsample_to_200Hz')(out)\n",
    "\n",
    "        out = Conv1D(self.n_filters, self.pool_size_2, padding='same',\n",
    "                     activation='relu', name='conv_500ms')(out)\n",
    "        out = Conv1D(self.output_shape, self.pool_size_2, padding='same',\n",
    "                     activation='relu', name='conv_500ms_target_shape')(\n",
    "            out)\n",
    "        out = AveragePooling1D(self.pool_size_2, padding='same', name='downsample_to_2Hz')(out)\n",
    "        out = Conv1D(self.output_shape, (int)(self.input_shape[0] / (self.pool_size_1 * self.pool_size_2)), padding='same',\n",
    "                     name='final_conv')(out)\n",
    "        out = GlobalAveragePooling1D(name='final_pooling')(out)\n",
    "        out = Activation(self.activation, name='final_activation')(out)\n",
    "\n",
    "        return Model(x, out)\n",
    "\n",
    "    def get_model(self):\n",
    "        return self.model\n",
    "\n",
    "    def get_summary(self):\n",
    "        self.model.summary()\n",
    "        \n",
    "    def get_receptive_field(self):\n",
    "        return self.nb_stacks * (self.kernel_size + (2*(self.kernel_size - 1) * ((2**self.dilation_depth) - 1))) - (self.nb_stacks - 1)"
   ]
  },
  {
   "cell_type": "markdown",
   "metadata": {
    "colab_type": "text",
    "id": "ohrV1COY19mk"
   },
   "source": [
    "### Dilation depth: 4, Stack = 1 (No MTI)\n",
    "Receptive Field: 32"
   ]
  },
  {
   "cell_type": "code",
   "execution_count": 44,
   "metadata": {
    "colab": {
     "base_uri": "https://localhost:8080/",
     "height": 84
    },
    "colab_type": "code",
    "executionInfo": {
     "elapsed": 2915140,
     "status": "ok",
     "timestamp": 1549230892946,
     "user": {
      "displayName": "Andrew Mackay",
      "photoUrl": "https://lh3.googleusercontent.com/-24hiGmdxZDE/AAAAAAAAAAI/AAAAAAAAL_I/RW7nqM11LkM/s64/photo.jpg",
      "userId": "06804410358976473893"
     },
     "user_tz": 0
    },
    "id": "CQ_YnmeZ8FbW",
    "outputId": "ba5ca233-0dd3-4e55-a340-16021ded9790"
   },
   "outputs": [],
   "source": [
    "dilation_depth = 4\n",
    "nb_stacks = 1\n",
    "wnc = WaveNetClassifier((data_shape), (nb_classes), kernel_size=kernel_size,\n",
    "                        dilation_depth=dilation_depth, nb_stacks=nb_stacks,\n",
    "                        n_filters=n_filters, pool_size_1=pool_size_1,\n",
    "                        pool_size_2=pool_size_2)\n",
    "\n",
    "wnc.make_model()\n",
    "model = wnc.get_model()\n",
    "# Parameters\n",
    "params = {'dim': data_shape,\n",
    "          'batch_size': batch_size,\n",
    "          'n_classes': nb_classes,\n",
    "          'data_directory': DATA_PATH_NO_MTI,\n",
    "          'bin_range': bin_range}\n",
    "\n",
    "csvlog_path = \"model_2_NO_MTI_dd_\" + str(dilation_depth) + \"_stacks_\" +str(nb_stacks) + \".csv\"\n",
    "if OVERWRITE_RESULTS:\n",
    "    test_model(model, params, epochs, csvlog_path, load_weights=False, weights_path='')"
   ]
  },
  {
   "cell_type": "code",
   "execution_count": 45,
   "metadata": {
    "colab": {},
    "colab_type": "code",
    "id": "q7nRIMEp4AP8"
   },
   "outputs": [
    {
     "data": {
      "image/png": "[encoded data removed]",
      "text/plain": [
       "<Figure size 432x288 with 1 Axes>"
      ]
     },
     "metadata": {
      "needs_background": "light"
     },
     "output_type": "display_data"
    }
   ],
   "source": [
    "save_graph_path = csvlog_path.split('.')[-2] + \".pdf\"\n",
    "visualize_results(csvlog_path, save=OVERWRITE_GRAPHS, save_file_name=save_graph_path)"
   ]
  },
  {
   "cell_type": "code",
   "execution_count": 46,
   "metadata": {
    "colab": {},
    "colab_type": "code",
    "id": "R8y3wCRgJ5-P"
   },
   "outputs": [],
   "source": [
    "K.clear_session()"
   ]
  },
  {
   "cell_type": "markdown",
   "metadata": {
    "colab_type": "text",
    "id": "kvtS5GiJ4IlX"
   },
   "source": [
    "### Dilation Depth 8, Stack 3 (No MTI)\n",
    "Receptive Field: 1534"
   ]
  },
  {
   "cell_type": "code",
   "execution_count": 47,
   "metadata": {
    "colab": {},
    "colab_type": "code",
    "id": "g4NMLSWk8m6K"
   },
   "outputs": [],
   "source": [
    "dilation_depth = 8\n",
    "nb_stacks = 3\n",
    "wnc = WaveNetClassifier((data_shape), (nb_classes), kernel_size=kernel_size,\n",
    "                        dilation_depth=dilation_depth, nb_stacks=nb_stacks,\n",
    "                        n_filters=n_filters, pool_size_1=pool_size_1,\n",
    "                        pool_size_2=pool_size_2)\n",
    "\n",
    "wnc.make_model()\n",
    "model = wnc.get_model()\n",
    "# Parameters\n",
    "params = {'dim': data_shape,\n",
    "          'batch_size': batch_size,\n",
    "          'n_classes': nb_classes,\n",
    "          'data_directory': DATA_PATH_NO_MTI,\n",
    "          'bin_range': bin_range}\n",
    "\n",
    "csvlog_path = \"model_2_NO_MTI_dd_\" + str(dilation_depth) + \"_stacks_\" +str(nb_stacks) + \".csv\"\n",
    "if OVERWRITE_RESULTS:\n",
    "    test_model(model, params, epochs, csvlog_path, load_weights=False, weights_path='')"
   ]
  },
  {
   "cell_type": "code",
   "execution_count": 48,
   "metadata": {
    "colab": {},
    "colab_type": "code",
    "id": "nUX4wre64U45"
   },
   "outputs": [
    {
     "ename": "EmptyDataError",
     "evalue": "No columns to parse from file",
     "output_type": "error",
     "traceback": [
      "\u001b[1;31m---------------------------------------------------------------------------\u001b[0m",
      "\u001b[1;31mEmptyDataError\u001b[0m                            Traceback (most recent call last)",
      "\u001b[1;32m<ipython-input-48-530ce5bd92e1>\u001b[0m in \u001b[0;36m<module>\u001b[1;34m\u001b[0m\n\u001b[0;32m      1\u001b[0m \u001b[0msave_graph_path\u001b[0m \u001b[1;33m=\u001b[0m \u001b[0mcsvlog_path\u001b[0m\u001b[1;33m.\u001b[0m\u001b[0msplit\u001b[0m\u001b[1;33m(\u001b[0m\u001b[1;34m'.'\u001b[0m\u001b[1;33m)\u001b[0m\u001b[1;33m[\u001b[0m\u001b[1;33m-\u001b[0m\u001b[1;36m2\u001b[0m\u001b[1;33m]\u001b[0m \u001b[1;33m+\u001b[0m \u001b[1;34m\".pdf\"\u001b[0m\u001b[1;33m\u001b[0m\u001b[0m\n\u001b[1;32m----> 2\u001b[1;33m \u001b[0mvisualize_results\u001b[0m\u001b[1;33m(\u001b[0m\u001b[0mcsvlog_path\u001b[0m\u001b[1;33m,\u001b[0m \u001b[0msave\u001b[0m\u001b[1;33m=\u001b[0m\u001b[0mOVERWRITE_GRAPHS\u001b[0m\u001b[1;33m,\u001b[0m \u001b[0msave_file_name\u001b[0m\u001b[1;33m=\u001b[0m\u001b[0msave_graph_path\u001b[0m\u001b[1;33m)\u001b[0m\u001b[1;33m\u001b[0m\u001b[0m\n\u001b[0m",
      "\u001b[1;32m<ipython-input-30-124dc5f831c0>\u001b[0m in \u001b[0;36mvisualize_results\u001b[1;34m(csvlog_path, save, save_file_name)\u001b[0m\n\u001b[0;32m      1\u001b[0m \u001b[1;32mdef\u001b[0m \u001b[0mvisualize_results\u001b[0m\u001b[1;33m(\u001b[0m\u001b[0mcsvlog_path\u001b[0m\u001b[1;33m,\u001b[0m \u001b[0msave\u001b[0m\u001b[1;33m=\u001b[0m\u001b[1;32mFalse\u001b[0m\u001b[1;33m,\u001b[0m \u001b[0msave_file_name\u001b[0m\u001b[1;33m=\u001b[0m\u001b[1;34m\"\"\u001b[0m\u001b[1;33m)\u001b[0m\u001b[1;33m:\u001b[0m\u001b[1;33m\u001b[0m\u001b[0m\n\u001b[1;32m----> 2\u001b[1;33m     \u001b[0mdf\u001b[0m \u001b[1;33m=\u001b[0m \u001b[0mpd\u001b[0m\u001b[1;33m.\u001b[0m\u001b[0mread_csv\u001b[0m\u001b[1;33m(\u001b[0m\u001b[0mRESULTS_PATH\u001b[0m \u001b[1;33m+\u001b[0m \u001b[0mcsvlog_path\u001b[0m\u001b[1;33m)\u001b[0m\u001b[1;33m\u001b[0m\u001b[0m\n\u001b[0m\u001b[0;32m      3\u001b[0m     \u001b[0mepoch\u001b[0m \u001b[1;33m=\u001b[0m \u001b[0mdf\u001b[0m\u001b[1;33m[\u001b[0m\u001b[1;34m'epoch'\u001b[0m\u001b[1;33m]\u001b[0m \u001b[1;33m+\u001b[0m\u001b[1;36m1\u001b[0m\u001b[1;33m\u001b[0m\u001b[0m\n\u001b[0;32m      4\u001b[0m     \u001b[0mtrain\u001b[0m \u001b[1;33m=\u001b[0m \u001b[0mdf\u001b[0m\u001b[1;33m[\u001b[0m\u001b[1;34m\"acc\"\u001b[0m\u001b[1;33m]\u001b[0m \u001b[1;33m*\u001b[0m \u001b[1;36m100\u001b[0m \u001b[1;31m# convert to %\u001b[0m\u001b[1;33m\u001b[0m\u001b[0m\n\u001b[0;32m      5\u001b[0m     \u001b[0mval\u001b[0m \u001b[1;33m=\u001b[0m \u001b[0mdf\u001b[0m\u001b[1;33m[\u001b[0m\u001b[1;34m'val_acc'\u001b[0m\u001b[1;33m]\u001b[0m \u001b[1;33m*\u001b[0m \u001b[1;36m100\u001b[0m \u001b[1;31m# convert to %\u001b[0m\u001b[1;33m\u001b[0m\u001b[0m\n",
      "\u001b[1;32m~\\Anaconda3\\envs\\dataScience\\lib\\site-packages\\pandas\\io\\parsers.py\u001b[0m in \u001b[0;36mparser_f\u001b[1;34m(filepath_or_buffer, sep, delimiter, header, names, index_col, usecols, squeeze, prefix, mangle_dupe_cols, dtype, engine, converters, true_values, false_values, skipinitialspace, skiprows, nrows, na_values, keep_default_na, na_filter, verbose, skip_blank_lines, parse_dates, infer_datetime_format, keep_date_col, date_parser, dayfirst, iterator, chunksize, compression, thousands, decimal, lineterminator, quotechar, quoting, escapechar, comment, encoding, dialect, tupleize_cols, error_bad_lines, warn_bad_lines, skipfooter, doublequote, delim_whitespace, low_memory, memory_map, float_precision)\u001b[0m\n\u001b[0;32m    676\u001b[0m                     skip_blank_lines=skip_blank_lines)\n\u001b[0;32m    677\u001b[0m \u001b[1;33m\u001b[0m\u001b[0m\n\u001b[1;32m--> 678\u001b[1;33m         \u001b[1;32mreturn\u001b[0m \u001b[0m_read\u001b[0m\u001b[1;33m(\u001b[0m\u001b[0mfilepath_or_buffer\u001b[0m\u001b[1;33m,\u001b[0m \u001b[0mkwds\u001b[0m\u001b[1;33m)\u001b[0m\u001b[1;33m\u001b[0m\u001b[0m\n\u001b[0m\u001b[0;32m    679\u001b[0m \u001b[1;33m\u001b[0m\u001b[0m\n\u001b[0;32m    680\u001b[0m     \u001b[0mparser_f\u001b[0m\u001b[1;33m.\u001b[0m\u001b[0m__name__\u001b[0m \u001b[1;33m=\u001b[0m \u001b[0mname\u001b[0m\u001b[1;33m\u001b[0m\u001b[0m\n",
      "\u001b[1;32m~\\Anaconda3\\envs\\dataScience\\lib\\site-packages\\pandas\\io\\parsers.py\u001b[0m in \u001b[0;36m_read\u001b[1;34m(filepath_or_buffer, kwds)\u001b[0m\n\u001b[0;32m    438\u001b[0m \u001b[1;33m\u001b[0m\u001b[0m\n\u001b[0;32m    439\u001b[0m     \u001b[1;31m# Create the parser.\u001b[0m\u001b[1;33m\u001b[0m\u001b[1;33m\u001b[0m\u001b[0m\n\u001b[1;32m--> 440\u001b[1;33m     \u001b[0mparser\u001b[0m \u001b[1;33m=\u001b[0m \u001b[0mTextFileReader\u001b[0m\u001b[1;33m(\u001b[0m\u001b[0mfilepath_or_buffer\u001b[0m\u001b[1;33m,\u001b[0m \u001b[1;33m**\u001b[0m\u001b[0mkwds\u001b[0m\u001b[1;33m)\u001b[0m\u001b[1;33m\u001b[0m\u001b[0m\n\u001b[0m\u001b[0;32m    441\u001b[0m \u001b[1;33m\u001b[0m\u001b[0m\n\u001b[0;32m    442\u001b[0m     \u001b[1;32mif\u001b[0m \u001b[0mchunksize\u001b[0m \u001b[1;32mor\u001b[0m \u001b[0miterator\u001b[0m\u001b[1;33m:\u001b[0m\u001b[1;33m\u001b[0m\u001b[0m\n",
      "\u001b[1;32m~\\Anaconda3\\envs\\dataScience\\lib\\site-packages\\pandas\\io\\parsers.py\u001b[0m in \u001b[0;36m__init__\u001b[1;34m(self, f, engine, **kwds)\u001b[0m\n\u001b[0;32m    785\u001b[0m             \u001b[0mself\u001b[0m\u001b[1;33m.\u001b[0m\u001b[0moptions\u001b[0m\u001b[1;33m[\u001b[0m\u001b[1;34m'has_index_names'\u001b[0m\u001b[1;33m]\u001b[0m \u001b[1;33m=\u001b[0m \u001b[0mkwds\u001b[0m\u001b[1;33m[\u001b[0m\u001b[1;34m'has_index_names'\u001b[0m\u001b[1;33m]\u001b[0m\u001b[1;33m\u001b[0m\u001b[0m\n\u001b[0;32m    786\u001b[0m \u001b[1;33m\u001b[0m\u001b[0m\n\u001b[1;32m--> 787\u001b[1;33m         \u001b[0mself\u001b[0m\u001b[1;33m.\u001b[0m\u001b[0m_make_engine\u001b[0m\u001b[1;33m(\u001b[0m\u001b[0mself\u001b[0m\u001b[1;33m.\u001b[0m\u001b[0mengine\u001b[0m\u001b[1;33m)\u001b[0m\u001b[1;33m\u001b[0m\u001b[0m\n\u001b[0m\u001b[0;32m    788\u001b[0m \u001b[1;33m\u001b[0m\u001b[0m\n\u001b[0;32m    789\u001b[0m     \u001b[1;32mdef\u001b[0m \u001b[0mclose\u001b[0m\u001b[1;33m(\u001b[0m\u001b[0mself\u001b[0m\u001b[1;33m)\u001b[0m\u001b[1;33m:\u001b[0m\u001b[1;33m\u001b[0m\u001b[0m\n",
      "\u001b[1;32m~\\Anaconda3\\envs\\dataScience\\lib\\site-packages\\pandas\\io\\parsers.py\u001b[0m in \u001b[0;36m_make_engine\u001b[1;34m(self, engine)\u001b[0m\n\u001b[0;32m   1012\u001b[0m     \u001b[1;32mdef\u001b[0m \u001b[0m_make_engine\u001b[0m\u001b[1;33m(\u001b[0m\u001b[0mself\u001b[0m\u001b[1;33m,\u001b[0m \u001b[0mengine\u001b[0m\u001b[1;33m=\u001b[0m\u001b[1;34m'c'\u001b[0m\u001b[1;33m)\u001b[0m\u001b[1;33m:\u001b[0m\u001b[1;33m\u001b[0m\u001b[0m\n\u001b[0;32m   1013\u001b[0m         \u001b[1;32mif\u001b[0m \u001b[0mengine\u001b[0m \u001b[1;33m==\u001b[0m \u001b[1;34m'c'\u001b[0m\u001b[1;33m:\u001b[0m\u001b[1;33m\u001b[0m\u001b[0m\n\u001b[1;32m-> 1014\u001b[1;33m             \u001b[0mself\u001b[0m\u001b[1;33m.\u001b[0m\u001b[0m_engine\u001b[0m \u001b[1;33m=\u001b[0m \u001b[0mCParserWrapper\u001b[0m\u001b[1;33m(\u001b[0m\u001b[0mself\u001b[0m\u001b[1;33m.\u001b[0m\u001b[0mf\u001b[0m\u001b[1;33m,\u001b[0m \u001b[1;33m**\u001b[0m\u001b[0mself\u001b[0m\u001b[1;33m.\u001b[0m\u001b[0moptions\u001b[0m\u001b[1;33m)\u001b[0m\u001b[1;33m\u001b[0m\u001b[0m\n\u001b[0m\u001b[0;32m   1015\u001b[0m         \u001b[1;32melse\u001b[0m\u001b[1;33m:\u001b[0m\u001b[1;33m\u001b[0m\u001b[0m\n\u001b[0;32m   1016\u001b[0m             \u001b[1;32mif\u001b[0m \u001b[0mengine\u001b[0m \u001b[1;33m==\u001b[0m \u001b[1;34m'python'\u001b[0m\u001b[1;33m:\u001b[0m\u001b[1;33m\u001b[0m\u001b[0m\n",
      "\u001b[1;32m~\\Anaconda3\\envs\\dataScience\\lib\\site-packages\\pandas\\io\\parsers.py\u001b[0m in \u001b[0;36m__init__\u001b[1;34m(self, src, **kwds)\u001b[0m\n\u001b[0;32m   1706\u001b[0m         \u001b[0mkwds\u001b[0m\u001b[1;33m[\u001b[0m\u001b[1;34m'usecols'\u001b[0m\u001b[1;33m]\u001b[0m \u001b[1;33m=\u001b[0m \u001b[0mself\u001b[0m\u001b[1;33m.\u001b[0m\u001b[0musecols\u001b[0m\u001b[1;33m\u001b[0m\u001b[0m\n\u001b[0;32m   1707\u001b[0m \u001b[1;33m\u001b[0m\u001b[0m\n\u001b[1;32m-> 1708\u001b[1;33m         \u001b[0mself\u001b[0m\u001b[1;33m.\u001b[0m\u001b[0m_reader\u001b[0m \u001b[1;33m=\u001b[0m \u001b[0mparsers\u001b[0m\u001b[1;33m.\u001b[0m\u001b[0mTextReader\u001b[0m\u001b[1;33m(\u001b[0m\u001b[0msrc\u001b[0m\u001b[1;33m,\u001b[0m \u001b[1;33m**\u001b[0m\u001b[0mkwds\u001b[0m\u001b[1;33m)\u001b[0m\u001b[1;33m\u001b[0m\u001b[0m\n\u001b[0m\u001b[0;32m   1709\u001b[0m \u001b[1;33m\u001b[0m\u001b[0m\n\u001b[0;32m   1710\u001b[0m         \u001b[0mpassed_names\u001b[0m \u001b[1;33m=\u001b[0m \u001b[0mself\u001b[0m\u001b[1;33m.\u001b[0m\u001b[0mnames\u001b[0m \u001b[1;32mis\u001b[0m \u001b[1;32mNone\u001b[0m\u001b[1;33m\u001b[0m\u001b[0m\n",
      "\u001b[1;32mpandas\\_libs\\parsers.pyx\u001b[0m in \u001b[0;36mpandas._libs.parsers.TextReader.__cinit__\u001b[1;34m()\u001b[0m\n",
      "\u001b[1;31mEmptyDataError\u001b[0m: No columns to parse from file"
     ]
    }
   ],
   "source": [
    "save_graph_path = csvlog_path.split('.')[-2] + \".pdf\"\n",
    "visualize_results(csvlog_path, save=OVERWRITE_GRAPHS, save_file_name=save_graph_path)"
   ]
  },
  {
   "cell_type": "code",
   "execution_count": null,
   "metadata": {
    "colab": {},
    "colab_type": "code",
    "id": "6OLip78-J79_"
   },
   "outputs": [],
   "source": [
    "K.clear_session()"
   ]
  },
  {
   "cell_type": "markdown",
   "metadata": {
    "colab_type": "text",
    "id": "mk8UUfQS4ZDc"
   },
   "source": [
    "### Dilation Depth 8, Stack 5 (No MTI)\n",
    "Receptive Field: 2556"
   ]
  },
  {
   "cell_type": "code",
   "execution_count": 0,
   "metadata": {
    "colab": {},
    "colab_type": "code",
    "id": "H3ovzzjD4ajh"
   },
   "outputs": [],
   "source": [
    "dilation_depth = 8\n",
    "nb_stacks = 5\n",
    "wnc = WaveNetClassifier((data_shape), (nb_classes), kernel_size=kernel_size,\n",
    "                        dilation_depth=dilation_depth, nb_stacks=nb_stacks,\n",
    "                        n_filters=n_filters, pool_size_1=pool_size_1,\n",
    "                        pool_size_2=pool_size_2)\n",
    "\n",
    "wnc.make_model()\n",
    "model = wnc.get_model()\n",
    "# Parameters\n",
    "params = {'dim': data_shape,\n",
    "          'batch_size': batch_size,\n",
    "          'n_classes': nb_classes,\n",
    "          'data_directory': DATA_PATH_NO_MTI,\n",
    "          'bin_range': bin_range}\n",
    "\n",
    "csvlog_path = \"model_2_NO_MTI_dd_\" + str(dilation_depth) + \"_stacks_\" +str(nb_stacks) + \".csv\"\n",
    "if OVERWRITE_RESULTS:\n",
    "    test_model(model, params, epochs, csvlog_path, load_weights=False, weights_path='')"
   ]
  },
  {
   "cell_type": "code",
   "execution_count": 0,
   "metadata": {
    "colab": {},
    "colab_type": "code",
    "id": "JI1K8fF44df1"
   },
   "outputs": [],
   "source": [
    "save_graph_path = csvlog_path.split('.')[-2] + \".pdf\"\n",
    "visualize_results(csvlog_path, save=OVERWRITE_GRAPHS, save_file_name=save_graph_path)"
   ]
  },
  {
   "cell_type": "code",
   "execution_count": 0,
   "metadata": {
    "colab": {},
    "colab_type": "code",
    "id": "U-gUkRb3J9Hs"
   },
   "outputs": [],
   "source": [
    "K.clear_session()"
   ]
  },
  {
   "cell_type": "markdown",
   "metadata": {
    "colab_type": "text",
    "id": "WxcRL2YPs23e"
   },
   "source": [
    "## Model 3: Dilated CNN"
   ]
  },
  {
   "cell_type": "markdown",
   "metadata": {
    "colab_type": "text",
    "id": "kByDeDp5_T23"
   },
   "source": [
    "### Model"
   ]
  },
  {
   "cell_type": "code",
   "execution_count": 0,
   "metadata": {
    "colab": {},
    "colab_type": "code",
    "id": "hYBbdTQQynF8"
   },
   "outputs": [],
   "source": [
    "class DilatedCNNClassifier:\n",
    "    def __init__(self, input_shape, output_shape, kernel_size=2, dilation_depth=9, nb_stacks=1, nb_filters=40,\n",
    "                 pool_size_1=80, pool_size_2=100, causal=True):\n",
    "        \"\"\"\n",
    "        Parameters:\n",
    "          input_shape: (tuple) tuple of input shape. (e.g. If input is 6s raw waveform with sampling rate = 16kHz, (96000,) is the input_shape)\n",
    "          output_shape: (tuple)tuple of output shape. (e.g. If we want classify the signal into 100 classes, (100,) is the output_shape)\n",
    "          kernel_size: (integer) kernel size of convolution operations in residual blocks\n",
    "          dilation_depth: (integer) type total depth of residual blocks\n",
    "          n_filters: (integer) # of filters of convolution operations in residual blocks\n",
    "          load: (bool) load previous WaveNetClassifier or not\n",
    "          load_dir: (string) the directory where the previous model exists\n",
    "        \"\"\"\n",
    "        self.activation = 'softmax'\n",
    "        self.scale_ratio = 1\n",
    "        self.pool_size_1 = pool_size_1\n",
    "        self.pool_size_2 = pool_size_2\n",
    "        self.nb_stacks = nb_stacks\n",
    "        self.kernel_size = kernel_size\n",
    "        self.dilation_depth = dilation_depth\n",
    "        self.nb_filters = nb_filters\n",
    "        self.causal = causal\n",
    "        self.input_shape = input_shape\n",
    "        self.output_shape = output_shape\n",
    "\n",
    "        if len(input_shape) == 1:\n",
    "            self.expand_dims = True\n",
    "        elif len(input_shape) == 2:\n",
    "            self.expand_dims = False\n",
    "        else:\n",
    "            print('ERROR: wrong input shape')\n",
    "            sys.exit()\n",
    "\n",
    "        self.model = self.build_model()\n",
    "\n",
    "    def build_model(self):\n",
    "        input_layer = Input(shape=self.input_shape, name='input_part')\n",
    "        out = input_layer\n",
    "        if self.causal:\n",
    "            padding = 'causal'\n",
    "        else:\n",
    "            padding = 'same'\n",
    "        out = Conv1D(self.nb_filters, self.kernel_size,\n",
    "                     dilation_rate=1,\n",
    "                     padding=padding,\n",
    "                     name='initial_conv'\n",
    "                     )(out)\n",
    "        for stack_nb in range(self.nb_stacks):\n",
    "            for i in range(0, self.dilation_depth + 1):\n",
    "                out = Conv1D(self.nb_filters, self.kernel_size, dilation_rate=2 ** i, padding=padding,\n",
    "                  name='dilated_conv_%d_relu_s%d' % (2 ** i, stack_nb), activation='relu')(out)\n",
    "\n",
    "        out = Activation('relu')(out)\n",
    "        # added a mean-pooling layer after the dilated convolutions that aggregated the activations to coarser frames\n",
    "        # spanning 10 milliseconds (160× downsampling)\n",
    "        # mean pooling layer adjust pool_size_1 to change downsampling\n",
    "        out = AveragePooling1D(self.pool_size_1, padding='same', name='mean_pooling_layer_downsampling')(out)\n",
    "\n",
    "\n",
    "        # few non-causal convolutions\n",
    "        out = Conv1D(self.nb_filters, self.pool_size_1, strides=2, padding='same', activation='relu')(out)\n",
    "        out = Conv1D(self.nb_filters, self.pool_size_2, strides=2, padding='same', activation='relu')(out)\n",
    "        out = Conv1D(self.output_shape, self.pool_size_2, strides=2, padding='same', activation='relu')(out)\n",
    "        out = Conv1D(self.output_shape, self.pool_size_2, strides=2, padding='same', activation='relu')(out)\n",
    "\n",
    "\n",
    "        out = Flatten()(out)\n",
    "        out = Dense(512, activation='relu')(out)\n",
    "        out = Dense(self.output_shape, activation='softmax')(out)\n",
    "\n",
    "        return Model(input_layer, out)\n",
    "\n",
    "    def get_model(self):\n",
    "        return self.model\n",
    "\n",
    "    def get_summary(self):\n",
    "        self.model.summary()\n",
    "\n",
    "    def get_receptive_field(self):\n",
    "        return self.nb_stacks * (self.kernel_size + (2*(self.kernel_size - 1) * ((2**self.dilation_depth) - 1))) - (self.nb_stacks - 1)"
   ]
  },
  {
   "cell_type": "markdown",
   "metadata": {
    "colab_type": "text",
    "id": "4-fa5fy041Ua"
   },
   "source": [
    "### Dilation depth: 4, Stack = 1 (No MTI) Causal\n",
    "Receptive Field: 32"
   ]
  },
  {
   "cell_type": "code",
   "execution_count": 0,
   "metadata": {
    "colab": {
     "base_uri": "https://localhost:8080/",
     "height": 50
    },
    "colab_type": "code",
    "executionInfo": {
     "elapsed": 2873974,
     "status": "error",
     "timestamp": 1549124313099,
     "user": {
      "displayName": "Andrew Mackay",
      "photoUrl": "https://lh3.googleusercontent.com/-24hiGmdxZDE/AAAAAAAAAAI/AAAAAAAAL_I/RW7nqM11LkM/s64/photo.jpg",
      "userId": "06804410358976473893"
     },
     "user_tz": 0
    },
    "id": "QDZg6hra43ll",
    "outputId": "409a1480-cced-4933-cc7e-92b2c4173a5f"
   },
   "outputs": [
    {
     "name": "stdout",
     "output_type": "stream",
     "text": [
      "Epoch 1/1\n",
      " 998/1816 [===============>..............] - ETA: 15:22 - loss: 1.9518 - acc: 0.1584"
     ]
    }
   ],
   "source": [
    "dilation_depth = 4\n",
    "nb_stacks = 1\n",
    "dilatedCNN = DilatedCNNClassifier((data_shape), (nb_classes), kernel_size=kernel_size,\n",
    "                        dilation_depth=dilation_depth, nb_stacks=nb_stacks,\n",
    "                        nb_filters=n_filters, pool_size_1=pool_size_1,\n",
    "                           pool_size_2=pool_size_2,\n",
    "                        )\n",
    "\n",
    "dilatedCNN.build_model()\n",
    "model = dilatedCNN.get_model()\n",
    "# Parameters\n",
    "params = {'dim': data_shape,\n",
    "          'batch_size': batch_size,\n",
    "          'n_classes': nb_classes,\n",
    "          'data_directory': DATA_PATH_NO_MTI,\n",
    "          'bin_range': bin_range}\n",
    "\n",
    "csvlog_path = \"model_3_NO_MTI_causal_dd_\" + str(dilation_depth) + \"_stacks_\" +str(nb_stacks) + \".csv\"\n",
    "if OVERWRITE_RESULTS:\n",
    "    test_model(model, params, epochs, csvlog_path, verbose=1)"
   ]
  },
  {
   "cell_type": "code",
   "execution_count": 0,
   "metadata": {
    "colab": {},
    "colab_type": "code",
    "id": "JhMV7gUc456Q"
   },
   "outputs": [],
   "source": [
    "save_graph_path = csvlog_path.split('.')[-2] + \".pdf\"\n",
    "visualize_results(csvlog_path, \"acc\", save=OVERWRITE_GRAPHS, save_file_name=save_graph_path)"
   ]
  },
  {
   "cell_type": "code",
   "execution_count": 0,
   "metadata": {
    "colab": {},
    "colab_type": "code",
    "id": "2RJTaPctJ-w1"
   },
   "outputs": [],
   "source": [
    "K.clear_session()"
   ]
  },
  {
   "cell_type": "markdown",
   "metadata": {
    "colab_type": "text",
    "id": "FnoRbpwj5XZ0"
   },
   "source": [
    "### Dilation Depth 8, Stack 3 (No MTI) Causal\n",
    "Receptive Field: 1534"
   ]
  },
  {
   "cell_type": "code",
   "execution_count": 0,
   "metadata": {
    "colab": {},
    "colab_type": "code",
    "id": "XCBO96VI5j0q"
   },
   "outputs": [],
   "source": [
    "dilation_depth = 8\n",
    "nb_stacks = 3\n",
    "dilatedCNN = DilatedCNNClassifier((data_shape), (nb_classes), kernel_size=kernel_size,\n",
    "                        dilation_depth=dilation_depth, nb_stacks=nb_stacks,\n",
    "                        nb_filters=n_filters,\n",
    "                        pool_size_1=pool_size_1, pool_size_2=pool_size_2,\n",
    "                        )\n",
    "\n",
    "dilatedCNN.build_model()\n",
    "model = dilatedCNN.get_model()\n",
    "# Parameters\n",
    "params = {'dim': data_shape,\n",
    "          'batch_size': batch_size,\n",
    "          'n_classes': nb_classes,\n",
    "          'data_directory': DATA_PATH_NO_MTI,\n",
    "          'bin_range': bin_range}\n",
    "\n",
    "csvlog_path = \"model_3_NO_MTI_causal_dd_\" + str(dilation_depth) + \"_stacks_\" +str(nb_stacks) + \".csv\"\n",
    "if OVERWRITE_RESULTS:\n",
    "    test_model(model, params, epochs, csvlog_path, verbose=1)"
   ]
  },
  {
   "cell_type": "code",
   "execution_count": 0,
   "metadata": {
    "colab": {},
    "colab_type": "code",
    "id": "12LVJPN95mdY"
   },
   "outputs": [],
   "source": [
    "save_graph_path = csvlog_path.split('.')[-2] + \".pdf\"\n",
    "visualize_results(csvlog_path, save=OVERWRITE_GRAPHS, save_file_name=save_graph_path)"
   ]
  },
  {
   "cell_type": "code",
   "execution_count": 0,
   "metadata": {
    "colab": {},
    "colab_type": "code",
    "id": "ypIqtSoUKABT"
   },
   "outputs": [],
   "source": [
    "K.clear_session()"
   ]
  },
  {
   "cell_type": "markdown",
   "metadata": {
    "colab_type": "text",
    "id": "uJiZKP0252tN"
   },
   "source": [
    "### Dilation Depth 8, Stack 5 (No MTI) Causal\n",
    "Receptive Field: 2556"
   ]
  },
  {
   "cell_type": "code",
   "execution_count": 0,
   "metadata": {
    "colab": {},
    "colab_type": "code",
    "id": "ndAEwo4755wv"
   },
   "outputs": [],
   "source": [
    "dilation_depth = 8\n",
    "nb_stacks = 5\n",
    "dilatedCNN = DilatedCNNClassifier((data_shape), (nb_classes), kernel_size=kernel_size,\n",
    "                        dilation_depth=dilation_depth, nb_stacks=nb_stacks,\n",
    "                        nb_filters=n_filters,\n",
    "                        pool_size_1=pool_size_1, pool_size_2=pool_size_2,\n",
    "                        )\n",
    "\n",
    "dilatedCNN.build_model()\n",
    "model = dilatedCNN.get_model()\n",
    "# Parameters\n",
    "params = {'dim': data_shape,\n",
    "          'batch_size': batch_size,\n",
    "          'n_classes': nb_classes,\n",
    "          'data_directory': DATA_PATH_NO_MTI,\n",
    "          'bin_range': bin_range}\n",
    "\n",
    "csvlog_path = \"model_3_NO_MTI_causal_dd_\" + str(dilation_depth) + \"_stacks_\" +str(nb_stacks) + \".csv\"\n",
    "if OVERWRITE_RESULTS:\n",
    "    test_model(model, params, epochs, csvlog_path, verbose=1)"
   ]
  },
  {
   "cell_type": "code",
   "execution_count": 0,
   "metadata": {
    "colab": {},
    "colab_type": "code",
    "id": "0mvf_q1a58Gk"
   },
   "outputs": [],
   "source": [
    "save_graph_path = csvlog_path.split('.')[-2] + \".pdf\"\n",
    "visualize_results(csvlog_path, save=OVERWRITE_GRAPHS, save_file_name=save_graph_path)"
   ]
  },
  {
   "cell_type": "code",
   "execution_count": 0,
   "metadata": {
    "colab": {},
    "colab_type": "code",
    "id": "qVGQYgtfKBsX"
   },
   "outputs": [],
   "source": [
    "K.clear_session()"
   ]
  },
  {
   "cell_type": "markdown",
   "metadata": {
    "colab_type": "text",
    "id": "Xa29PVUr6kKW"
   },
   "source": [
    "### Dilation depth: 4, Stack = 1 (No MTI) Non Causal\n",
    "Receptive Field: 32"
   ]
  },
  {
   "cell_type": "code",
   "execution_count": 0,
   "metadata": {
    "colab": {},
    "colab_type": "code",
    "id": "y205i9Sm_2XS"
   },
   "outputs": [],
   "source": [
    "dilation_depth = 4\n",
    "nb_stacks = 1\n",
    "causal=False\n",
    "dilatedCNN = DilatedCNNClassifier((data_shape), (nb_classes), kernel_size=kernel_size,\n",
    "                        dilation_depth=dilation_depth, nb_stacks=nb_stacks,\n",
    "                        nb_filters=n_filters, causal=causal,\n",
    "                        pool_size_1=pool_size_1, pool_size_2=pool_size_2,\n",
    "                        )\n",
    "\n",
    "dilatedCNN.build_model()\n",
    "model = dilatedCNN.get_model()\n",
    "# Parameters\n",
    "params = {'dim': data_shape,\n",
    "          'batch_size': batch_size,\n",
    "          'n_classes': nb_classes,\n",
    "          'data_directory': DATA_PATH_NO_MTI,\n",
    "          'bin_range': bin_range}\n",
    "\n",
    "csvlog_path = \"model_3_NO_MTI_non_causal_dd_\" + str(dilation_depth) + \"_stacks_\" +str(nb_stacks) + \".csv\"\n",
    "if OVERWRITE_RESULTS:\n",
    "    test_model(model, params, epochs, csvlog_path, verbose=1)"
   ]
  },
  {
   "cell_type": "code",
   "execution_count": 0,
   "metadata": {
    "colab": {},
    "colab_type": "code",
    "id": "byWQKfe27ItZ"
   },
   "outputs": [],
   "source": [
    "save_graph_path = csvlog_path.split('.')[-2] + \".pdf\"\n",
    "visualize_results(csvlog_path, save=OVERWRITE_GRAPHS, save_file_name=save_graph_path)"
   ]
  },
  {
   "cell_type": "code",
   "execution_count": 0,
   "metadata": {
    "colab": {},
    "colab_type": "code",
    "id": "IbNNg7nGKDVD"
   },
   "outputs": [],
   "source": [
    "K.clear_session()"
   ]
  },
  {
   "cell_type": "markdown",
   "metadata": {
    "colab_type": "text",
    "id": "e3slqBuv656w"
   },
   "source": [
    "### Dilation Depth 8, Stack 3 (No MTI) Non Causal\n",
    "Receptive Field: 1534"
   ]
  },
  {
   "cell_type": "code",
   "execution_count": 0,
   "metadata": {
    "colab": {},
    "colab_type": "code",
    "id": "VLdbffbs67K1"
   },
   "outputs": [],
   "source": [
    "dilation_depth = 8\n",
    "nb_stacks = 3\n",
    "causal=False\n",
    "dilatedCNN = DilatedCNNClassifier((data_shape), (nb_classes), kernel_size=kernel_size,\n",
    "                        dilation_depth=dilation_depth, nb_stacks=nb_stacks,\n",
    "                        nb_filters=n_filters, causal=causal,\n",
    "                        pool_size_1=pool_size_1, pool_size_2=pool_size_2,\n",
    "                        )\n",
    "\n",
    "dilatedCNN.build_model()\n",
    "model = dilatedCNN.get_model()\n",
    "# Parameters\n",
    "params = {'dim': data_shape,\n",
    "          'batch_size': batch_size,\n",
    "          'n_classes': nb_classes,\n",
    "          'data_directory': DATA_PATH_NO_MTI,\n",
    "          'bin_range': bin_range}\n",
    "\n",
    "csvlog_path = \"model_3_NO_MTI_non_causal_dd_\" + str(dilation_depth) + \"_stacks_\" +str(nb_stacks) + \".csv\"\n",
    "if OVERWRITE_RESULTS:\n",
    "    test_model(model, params, epochs, csvlog_path, verbose=1)"
   ]
  },
  {
   "cell_type": "code",
   "execution_count": 0,
   "metadata": {
    "colab": {},
    "colab_type": "code",
    "id": "S317LGPh7LTY"
   },
   "outputs": [],
   "source": [
    "save_graph_path = csvlog_path.split('.')[-2] + \".pdf\"\n",
    "visualize_results(csvlog_path, save=OVERWRITE_GRAPHS, save_file_name=save_graph_path)"
   ]
  },
  {
   "cell_type": "code",
   "execution_count": 0,
   "metadata": {
    "colab": {},
    "colab_type": "code",
    "id": "rwa4UIvDKEoS"
   },
   "outputs": [],
   "source": [
    "K.clear_session()"
   ]
  },
  {
   "cell_type": "markdown",
   "metadata": {
    "colab_type": "text",
    "id": "bEulkedx7CGI"
   },
   "source": [
    "### Dilation Depth 8, Stack 5 (No MTI) Non Causal\n",
    "Receptive Field: 2556"
   ]
  },
  {
   "cell_type": "code",
   "execution_count": 0,
   "metadata": {
    "colab": {},
    "colab_type": "code",
    "id": "_xR5S_zi7DM4"
   },
   "outputs": [],
   "source": [
    "dilation_depth = 8\n",
    "nb_stacks = 5\n",
    "causal=False\n",
    "dilatedCNN = DilatedCNNClassifier((data_shape), (nb_classes), kernel_size=kernel_size,\n",
    "                        dilation_depth=dilation_depth, nb_stacks=nb_stacks,\n",
    "                        nb_filters=n_filters, causal=causal,\n",
    "                        pool_size_1=pool_size_1, pool_size_2=pool_size_2,\n",
    "                        )\n",
    "\n",
    "dilatedCNN.build_model()\n",
    "model = dilatedCNN.get_model()\n",
    "# Parameters\n",
    "params = {'dim': data_shape,\n",
    "          'batch_size': batch_size,\n",
    "          'n_classes': nb_classes,\n",
    "          'data_directory': DATA_PATH_NO_MTI,\n",
    "          'bin_range': bin_range}\n",
    "\n",
    "csvlog_path = \"model_3_NO_MTI_non_causal_dd_\" + str(dilation_depth) + \"_stacks_\" +str(nb_stacks) + \".csv\"\n",
    "if OVERWRITE_RESULTS:\n",
    "    test_model(model, params, epochs, csvlog_path, verbose=1)"
   ]
  },
  {
   "cell_type": "code",
   "execution_count": 0,
   "metadata": {
    "colab": {},
    "colab_type": "code",
    "id": "XjLHLeIS7N3p"
   },
   "outputs": [],
   "source": [
    "save_graph_path = csvlog_path.split('.')[-2] + \".pdf\"\n",
    "visualize_results(csvlog_path, save=OVERWRITE_GRAPHS, save_file_name=save_graph_path)"
   ]
  },
  {
   "cell_type": "code",
   "execution_count": 0,
   "metadata": {
    "colab": {},
    "colab_type": "code",
    "id": "uXdiSTHYKF48"
   },
   "outputs": [],
   "source": [
    "K.clear_session()"
   ]
  },
  {
   "cell_type": "markdown",
   "metadata": {
    "colab_type": "text",
    "id": "t8koIagdAzPN"
   },
   "source": [
    "## All Graphs"
   ]
  },
  {
   "cell_type": "markdown",
   "metadata": {
    "colab_type": "text",
    "id": "PkijXSynA6uL"
   },
   "source": [
    "### Model 1"
   ]
  },
  {
   "cell_type": "code",
   "execution_count": 14,
   "metadata": {
    "colab": {
     "base_uri": "https://localhost:8080/",
     "height": 361
    },
    "colab_type": "code",
    "executionInfo": {
     "elapsed": 777,
     "status": "ok",
     "timestamp": 1549532286137,
     "user": {
      "displayName": "Andrew Mackay",
      "photoUrl": "https://lh3.googleusercontent.com/-24hiGmdxZDE/AAAAAAAAAAI/AAAAAAAAL_I/RW7nqM11LkM/s64/photo.jpg",
      "userId": "06804410358976473893"
     },
     "user_tz": 0
    },
    "id": "yDmu3e_W8hN1",
    "outputId": "fafee835-6d55-4225-89b5-53e5da223f3d"
   },
   "outputs": [
    {
     "data": {
      "image/png": "[encoded data removed]",
      "text/plain": [
       "<Figure size 432x288 with 1 Axes>"
      ]
     },
     "metadata": {
      "needs_background": "light"
     },
     "output_type": "display_data"
    }
   ],
   "source": [
    "csvlog_path = \"model_1_NO_MTI_dd_4_stacks_1.csv\"\n",
    "save_graph_path = csvlog_path.split('.')[-2] + \".pdf\"\n",
    "visualize_results(csvlog_path, save=OVERWRITE_GRAPHS, save_file_name=save_graph_path)"
   ]
  },
  {
   "cell_type": "code",
   "execution_count": 15,
   "metadata": {
    "colab": {
     "base_uri": "https://localhost:8080/",
     "height": 361
    },
    "colab_type": "code",
    "executionInfo": {
     "elapsed": 2495,
     "status": "ok",
     "timestamp": 1549531764270,
     "user": {
      "displayName": "Andrew Mackay",
      "photoUrl": "https://lh3.googleusercontent.com/-24hiGmdxZDE/AAAAAAAAAAI/AAAAAAAAL_I/RW7nqM11LkM/s64/photo.jpg",
      "userId": "06804410358976473893"
     },
     "user_tz": 0
    },
    "id": "wAHsh5lF8mKE",
    "outputId": "decafe26-8c50-4518-f039-83d422b3722f"
   },
   "outputs": [
    {
     "data": {
      "image/png": "[encoded data removed]",
      "text/plain": [
       "<Figure size 432x288 with 1 Axes>"
      ]
     },
     "metadata": {
      "needs_background": "light"
     },
     "output_type": "display_data"
    }
   ],
   "source": [
    "csvlog_path = \"model_1_NO_MTI_dd_8_stacks_3.csv\"\n",
    "save_graph_path = csvlog_path.split('.')[-2] + \".pdf\"\n",
    "visualize_results(csvlog_path, save=OVERWRITE_GRAPHS, save_file_name=save_graph_path)"
   ]
  },
  {
   "cell_type": "code",
   "execution_count": 16,
   "metadata": {
    "colab": {
     "base_uri": "https://localhost:8080/",
     "height": 361
    },
    "colab_type": "code",
    "executionInfo": {
     "elapsed": 1752,
     "status": "ok",
     "timestamp": 1549531768795,
     "user": {
      "displayName": "Andrew Mackay",
      "photoUrl": "https://lh3.googleusercontent.com/-24hiGmdxZDE/AAAAAAAAAAI/AAAAAAAAL_I/RW7nqM11LkM/s64/photo.jpg",
      "userId": "06804410358976473893"
     },
     "user_tz": 0
    },
    "id": "y_Qyb5zL8mWn",
    "outputId": "4552436c-d2de-4150-b2f4-a4f200f31243"
   },
   "outputs": [
    {
     "data": {
      "image/png": "[encoded data removed]",
      "text/plain": [
       "<Figure size 432x288 with 1 Axes>"
      ]
     },
     "metadata": {
      "needs_background": "light"
     },
     "output_type": "display_data"
    }
   ],
   "source": [
    "csvlog_path = \"model_1_NO_MTI_dd_8_stacks_5.csv\"\n",
    "save_graph_path = csvlog_path.split('.')[-2] + \".pdf\"\n",
    "visualize_results(csvlog_path, save=OVERWRITE_GRAPHS, save_file_name=save_graph_path)"
   ]
  },
  {
   "cell_type": "markdown",
   "metadata": {
    "colab_type": "text",
    "id": "_87zciZ8BUlS"
   },
   "source": [
    "### Model 2"
   ]
  },
  {
   "cell_type": "code",
   "execution_count": 17,
   "metadata": {
    "colab": {},
    "colab_type": "code",
    "id": "Op98ZbpK8_Sd"
   },
   "outputs": [
    {
     "data": {
      "image/png": "[encoded data removed]",
      "text/plain": [
       "<Figure size 432x288 with 1 Axes>"
      ]
     },
     "metadata": {
      "needs_background": "light"
     },
     "output_type": "display_data"
    }
   ],
   "source": [
    "csvlog_path = \"model_2_NO_MTI_dd_4_stacks_1.csv\"\n",
    "save_graph_path = csvlog_path.split('.')[-2] + \".pdf\"\n",
    "visualize_results(csvlog_path, save=OVERWRITE_GRAPHS, save_file_name=save_graph_path)"
   ]
  },
  {
   "cell_type": "code",
   "execution_count": 18,
   "metadata": {
    "colab": {},
    "colab_type": "code",
    "id": "eIK7kM5k8_aX"
   },
   "outputs": [
    {
     "data": {
      "image/png": "[encoded data removed]",
      "text/plain": [
       "<Figure size 432x288 with 1 Axes>"
      ]
     },
     "metadata": {
      "needs_background": "light"
     },
     "output_type": "display_data"
    }
   ],
   "source": [
    "csvlog_path = \"model_2_NO_MTI_dd_8_stacks_3.csv\"\n",
    "save_graph_path = csvlog_path.split('.')[-2] + \".pdf\"\n",
    "visualize_results(csvlog_path, save=OVERWRITE_GRAPHS, save_file_name=save_graph_path)"
   ]
  },
  {
   "cell_type": "code",
   "execution_count": 19,
   "metadata": {
    "colab": {},
    "colab_type": "code",
    "id": "IShmckGd8_is"
   },
   "outputs": [
    {
     "data": {
      "image/png": "[encoded data removed]",
      "text/plain": [
       "<Figure size 432x288 with 1 Axes>"
      ]
     },
     "metadata": {
      "needs_background": "light"
     },
     "output_type": "display_data"
    }
   ],
   "source": [
    "csvlog_path = \"model_2_NO_MTI_dd_8_stacks_5.csv\"\n",
    "save_graph_path = csvlog_path.split('.')[-2] + \".pdf\"\n",
    "visualize_results(csvlog_path, save=OVERWRITE_GRAPHS, save_file_name=save_graph_path)"
   ]
  },
  {
   "cell_type": "markdown",
   "metadata": {
    "colab_type": "text",
    "id": "f1JLrONSB059"
   },
   "source": [
    "### Model 3"
   ]
  },
  {
   "cell_type": "markdown",
   "metadata": {
    "colab_type": "text",
    "id": "5-7Vt5JI8Rir"
   },
   "source": [
    "#### Causal"
   ]
  },
  {
   "cell_type": "code",
   "execution_count": 20,
   "metadata": {
    "colab": {},
    "colab_type": "code",
    "id": "z_F9Dvw89FzU"
   },
   "outputs": [
    {
     "data": {
      "image/png": "[encoded data removed]",
      "text/plain": [
       "<Figure size 432x288 with 1 Axes>"
      ]
     },
     "metadata": {
      "needs_background": "light"
     },
     "output_type": "display_data"
    }
   ],
   "source": [
    "csvlog_path = \"model_3_NO_MTI_causal_dd_4_stacks_1.csv\"\n",
    "save_graph_path = csvlog_path.split('.')[-2] + \".pdf\"\n",
    "visualize_results(csvlog_path, save=OVERWRITE_GRAPHS, save_file_name=save_graph_path)"
   ]
  },
  {
   "cell_type": "code",
   "execution_count": 21,
   "metadata": {
    "colab": {},
    "colab_type": "code",
    "id": "a6jygEuZ9F7F"
   },
   "outputs": [
    {
     "data": {
      "image/png": "[encoded data removed]",
      "text/plain": [
       "<Figure size 432x288 with 1 Axes>"
      ]
     },
     "metadata": {
      "needs_background": "light"
     },
     "output_type": "display_data"
    }
   ],
   "source": [
    "csvlog_path = \"model_3_NO_MTI_causal_dd_8_stacks_3.csv\"\n",
    "save_graph_path = csvlog_path.split('.')[-2] + \".pdf\"\n",
    "visualize_results(csvlog_path, save=OVERWRITE_GRAPHS, save_file_name=save_graph_path)"
   ]
  },
  {
   "cell_type": "code",
   "execution_count": 22,
   "metadata": {
    "colab": {},
    "colab_type": "code",
    "id": "5jDnyWUI9GDP"
   },
   "outputs": [
    {
     "data": {
      "image/png": "[encoded data removed]",
      "text/plain": [
       "<Figure size 432x288 with 1 Axes>"
      ]
     },
     "metadata": {
      "needs_background": "light"
     },
     "output_type": "display_data"
    }
   ],
   "source": [
    "csvlog_path = \"model_3_NO_MTI_causal_dd_8_stacks_5.csv\"\n",
    "save_graph_path = csvlog_path.split('.')[-2] + \".pdf\"\n",
    "visualize_results(csvlog_path, save=OVERWRITE_GRAPHS, save_file_name=save_graph_path)"
   ]
  },
  {
   "cell_type": "markdown",
   "metadata": {
    "colab_type": "text",
    "id": "-iNdZ18A8TJg"
   },
   "source": [
    "#### Non Causal"
   ]
  },
  {
   "cell_type": "code",
   "execution_count": 23,
   "metadata": {
    "colab": {},
    "colab_type": "code",
    "id": "h7ASEE6o9GLh"
   },
   "outputs": [
    {
     "data": {
      "image/png": "[encoded data removed]",
      "text/plain": [
       "<Figure size 432x288 with 1 Axes>"
      ]
     },
     "metadata": {
      "needs_background": "light"
     },
     "output_type": "display_data"
    }
   ],
   "source": [
    "csvlog_path = \"model_3_NO_MTI_non_causal_dd_4_stacks_1.csv\"\n",
    "save_graph_path = csvlog_path.split('.')[-2] + \".pdf\"\n",
    "visualize_results(csvlog_path, save=OVERWRITE_GRAPHS, save_file_name=save_graph_path)"
   ]
  },
  {
   "cell_type": "code",
   "execution_count": 24,
   "metadata": {
    "colab": {},
    "colab_type": "code",
    "id": "q4j2Gqvt9GUW"
   },
   "outputs": [
    {
     "data": {
      "image/png": "[encoded data removed]",
      "text/plain": [
       "<Figure size 432x288 with 1 Axes>"
      ]
     },
     "metadata": {
      "needs_background": "light"
     },
     "output_type": "display_data"
    }
   ],
   "source": [
    "csvlog_path = \"model_3_NO_MTI_non_causal_dd_8_stacks_3.csv\"\n",
    "save_graph_path = csvlog_path.split('.')[-2] + \".pdf\"\n",
    "visualize_results(csvlog_path, save=OVERWRITE_GRAPHS, save_file_name=save_graph_path)"
   ]
  },
  {
   "cell_type": "code",
   "execution_count": 25,
   "metadata": {
    "colab": {},
    "colab_type": "code",
    "id": "hHmRmXwx9Gc-"
   },
   "outputs": [
    {
     "data": {
      "image/png": "[encoded data removed]",
      "text/plain": [
       "<Figure size 432x288 with 1 Axes>"
      ]
     },
     "metadata": {
      "needs_background": "light"
     },
     "output_type": "display_data"
    }
   ],
   "source": [
    "csvlog_path = \"model_3_NO_MTI_non_causal_dd_8_stacks_5.csv\"\n",
    "save_graph_path = csvlog_path.split('.')[-2] + \".pdf\"\n",
    "visualize_results(csvlog_path, save=OVERWRITE_GRAPHS, save_file_name=save_graph_path)"
   ]
  },
  {
   "cell_type": "markdown",
   "metadata": {
    "colab_type": "text",
    "id": "ZiZN8xHp8VT_"
   },
   "source": [
    "## Receptive Field for kernel size investigation"
   ]
  },
  {
   "cell_type": "code",
   "execution_count": 26,
   "metadata": {
    "colab": {
     "base_uri": "https://localhost:8080/",
     "height": 393
    },
    "colab_type": "code",
    "executionInfo": {
     "elapsed": 902,
     "status": "ok",
     "timestamp": 1549288827590,
     "user": {
      "displayName": "Andrew Mackay",
      "photoUrl": "https://lh3.googleusercontent.com/-24hiGmdxZDE/AAAAAAAAAAI/AAAAAAAAL_I/RW7nqM11LkM/s64/photo.jpg",
      "userId": "06804410358976473893"
     },
     "user_tz": 0
    },
    "id": "3tNIG9ImCJTU",
    "outputId": "0bb10c2d-0c66-400b-e72d-333757a71c01"
   },
   "outputs": [
    {
     "data": {
      "text/plain": [
       "Text(0.5, 1.0, 'Dilation Depth vs Receptive Field Comparison for Kernel Sizes')"
      ]
     },
     "execution_count": 26,
     "metadata": {},
     "output_type": "execute_result"
    },
    {
     "data": {
      "image/png": "[encoded data removed]",
      "text/plain": [
       "<Figure size 432x288 with 1 Axes>"
      ]
     },
     "metadata": {
      "needs_background": "light"
     },
     "output_type": "display_data"
    }
   ],
   "source": [
    "x = [1,2,3,4, 5, 6]\n",
    "plt.plot(x,[2,4,8,16,32, 64], label=\"Kernel Size: 2\")\n",
    "plt.plot(x,[3,7,15,31, 63, 127], label=\"Kernel Size: 3\")\n",
    "plt.plot(x,[4,10,22,46, 94, 190], label=\"Kernel Size: 4\")\n",
    "plt.xlabel(\"Dilation Depth\")\n",
    "plt.ylabel(\"Receptive Field\")\n",
    "plt.legend()\n",
    "plt.title(\"Dilation Depth vs Receptive Field Comparison for Kernel Sizes\")"
   ]
  },
  {
   "cell_type": "code",
   "execution_count": 27,
   "metadata": {
    "colab": {},
    "colab_type": "code",
    "id": "Ulr_oBNxCTFC"
   },
   "outputs": [],
   "source": [
    "def compute_receptive_field(kernel, dilation_depth):\n",
    "    return kernel + (2*(kernel-1)*((2**dilation_depth) - 1))"
   ]
  },
  {
   "cell_type": "code",
   "execution_count": 28,
   "metadata": {
    "colab": {},
    "colab_type": "code",
    "id": "p_ULTYyH01VZ"
   },
   "outputs": [],
   "source": [
    "results = {\"2\":[], \"3\":[], \"4\":[], \"5\":[]}\n",
    "dilation_depths = np.arange(1, 5)"
   ]
  },
  {
   "cell_type": "code",
   "execution_count": 29,
   "metadata": {
    "colab": {
     "base_uri": "https://localhost:8080/",
     "height": 34
    },
    "colab_type": "code",
    "executionInfo": {
     "elapsed": 3653,
     "status": "ok",
     "timestamp": 1549289429363,
     "user": {
      "displayName": "Andrew Mackay",
      "photoUrl": "https://lh3.googleusercontent.com/-24hiGmdxZDE/AAAAAAAAAAI/AAAAAAAAL_I/RW7nqM11LkM/s64/photo.jpg",
      "userId": "06804410358976473893"
     },
     "user_tz": 0
    },
    "id": "I_EAyXDO13jG",
    "outputId": "9c1acf30-2558-49d4-87ac-5c84e1a7a4db"
   },
   "outputs": [
    {
     "data": {
      "text/plain": [
       "array([1, 2, 3, 4])"
      ]
     },
     "execution_count": 29,
     "metadata": {},
     "output_type": "execute_result"
    }
   ],
   "source": [
    "dilation_depths"
   ]
  },
  {
   "cell_type": "code",
   "execution_count": 30,
   "metadata": {
    "colab": {},
    "colab_type": "code",
    "id": "icNW9WNB0IUx"
   },
   "outputs": [],
   "source": [
    "for kernel_size in range(2,6):\n",
    "    for dilation_depth in dilation_depths:\n",
    "        results[str(kernel_size)].append(compute_receptive_field(kernel_size, dilation_depth))"
   ]
  },
  {
   "cell_type": "code",
   "execution_count": 31,
   "metadata": {
    "colab": {
     "base_uri": "https://localhost:8080/",
     "height": 393
    },
    "colab_type": "code",
    "executionInfo": {
     "elapsed": 3539,
     "status": "ok",
     "timestamp": 1549289430200,
     "user": {
      "displayName": "Andrew Mackay",
      "photoUrl": "https://lh3.googleusercontent.com/-24hiGmdxZDE/AAAAAAAAAAI/AAAAAAAAL_I/RW7nqM11LkM/s64/photo.jpg",
      "userId": "06804410358976473893"
     },
     "user_tz": 0
    },
    "id": "8Ft0Y-240Izi",
    "outputId": "3955f3e1-bb84-4c5a-9b10-b27f86541167"
   },
   "outputs": [
    {
     "data": {
      "text/plain": [
       "Text(0.5, 1.0, 'Dilation Depth vs Receptive Field Comparison for Kernel Sizes')"
      ]
     },
     "execution_count": 31,
     "metadata": {},
     "output_type": "execute_result"
    },
    {
     "data": {
      "image/png": "[encoded data removed]",
      "text/plain": [
       "<Figure size 432x288 with 1 Axes>"
      ]
     },
     "metadata": {
      "needs_background": "light"
     },
     "output_type": "display_data"
    }
   ],
   "source": [
    "plt.plot(dilation_depths,results[\"2\"], label=\"Kernel Size: 2\")\n",
    "plt.plot(dilation_depths,results[\"3\"], label=\"Kernel Size: 3\")\n",
    "plt.plot(dilation_depths,results[\"4\"], label=\"Kernel Size: 4\")\n",
    "plt.plot(dilation_depths,results[\"5\"], label=\"Kernel Size: 5\")\n",
    "\n",
    "plt.xlabel(\"Dilation Depth\")\n",
    "plt.ylabel(\"Receptive Field\")\n",
    "plt.legend()\n",
    "plt.title(\"Dilation Depth vs Receptive Field Comparison for Kernel Sizes\")"
   ]
  },
  {
   "cell_type": "code",
   "execution_count": 0,
   "metadata": {
    "colab": {},
    "colab_type": "code",
    "id": "4dtpp-ta1twB"
   },
   "outputs": [],
   "source": []
  }
 ],
 "metadata": {
  "accelerator": "GPU",
  "colab": {
   "collapsed_sections": [],
   "name": "10_range_data_model_initial_testing.ipynb",
   "provenance": [],
   "toc_visible": true,
   "version": "0.3.2"
  },
  "kernelspec": {
   "display_name": "Python 3",
   "language": "python",
   "name": "python3"
  },
  "language_info": {
   "codemirror_mode": {
    "name": "ipython",
    "version": 3
   },
   "file_extension": ".py",
   "mimetype": "text/x-python",
   "name": "python",
   "nbconvert_exporter": "python",
   "pygments_lexer": "ipython3",
   "version": "3.6.6"
  }
 },
 "nbformat": 4,
 "nbformat_minor": 1
}
