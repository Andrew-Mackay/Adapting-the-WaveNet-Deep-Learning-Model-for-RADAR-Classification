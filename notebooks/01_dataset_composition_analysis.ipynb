{
 "cells": [
  {
   "cell_type": "markdown",
   "metadata": {
    "colab_type": "text",
    "id": "7d3Tf3AXkKwz"
   },
   "source": [
    "# Exploring the Composition of the Dataset\n",
    "The notebook explores the composition of the dataset to get a better understanding of the number of measurements and identify potential class imbalances.\n",
    "\n"
   ]
  },
  {
   "cell_type": "code",
   "execution_count": null,
   "metadata": {},
   "outputs": [],
   "source": [
    "# Plot graphs inline\n",
    "%matplotlib inline"
   ]
  },
  {
   "cell_type": "markdown",
   "metadata": {
    "colab_type": "text",
    "id": "pJdeqo2c_zZI"
   },
   "source": [
    "## Notebook Setup"
   ]
  },
  {
   "cell_type": "code",
   "execution_count": 0,
   "metadata": {
    "colab": {},
    "colab_type": "code",
    "id": "h-6B7f68kJlc"
   },
   "outputs": [],
   "source": [
    "import os\n",
    "\n",
    "# CoLab\n",
    "if os.getcwd() == '/content':\n",
    "    from google.colab import drive\n",
    "    drive.mount('/content/gdrive')\n",
    "    BASE_PATH = '/content/gdrive/My Drive/Level-4-Project/'\n",
    "    os.chdir('gdrive/My Drive/Level-4-Project/')\n",
    "\n",
    "# Laptop \n",
    "elif os.getcwd() == 'D:\\\\Google Drive\\\\Level-4-Project\\\\notebooks':\n",
    "    BASE_PATH = \"D:/Google Drive/Level-4-Project/\"\n",
    " \n",
    "# GPU cluster   \n",
    "else:\n",
    "    BASE_PATH = \"/export/home/2192793m/Level-4-Project/\"\n",
    "    \n",
    "RAW_PATH = BASE_PATH + 'data/raw/'\n",
    "RESULTS_PATH = BASE_PATH + \"results/dataset_composition_analysis/\"\n",
    "if not os.path.exists(RESULTS_PATH):\n",
    "    os.makedirs(RESULTS_PATH)"
   ]
  },
  {
   "cell_type": "code",
   "execution_count": 0,
   "metadata": {
    "colab": {},
    "colab_type": "code",
    "id": "PmGlJWMpkJlo"
   },
   "outputs": [],
   "source": [
    "import pandas as pd\n",
    "import matplotlib.pyplot as plt"
   ]
  },
  {
   "cell_type": "code",
   "execution_count": 0,
   "metadata": {
    "colab": {},
    "colab_type": "code",
    "id": "jENpKKCcvscE"
   },
   "outputs": [],
   "source": [
    "SAVE_GRAPHS = False  # Set to true to allow overriding of graphs"
   ]
  },
  {
   "cell_type": "markdown",
   "metadata": {
    "colab_type": "text",
    "id": "klVUBneIyAiT"
   },
   "source": [
    "The following cell contains functions to be applied to every row in a particular column of the dataframe."
   ]
  },
  {
   "cell_type": "code",
   "execution_count": 0,
   "metadata": {
    "colab": {},
    "colab_type": "code",
    "id": "TWXeNXTUvscI"
   },
   "outputs": [],
   "source": [
    "def find_label(movement):\n",
    "    \"\"\"\n",
    "    Convert movement description to one word label\n",
    "    :param movement: movement description from experiment notes\n",
    "    :type movement: str\n",
    "    :return: one word label\n",
    "    :rtype: str\n",
    "    \"\"\"\n",
    "    if movement == \"Walking\":\n",
    "        return \"walking\"\n",
    "    if movement == \"Moving arm faster towards radar, slower away\":\n",
    "        return \"pushing\"\n",
    "    if movement == \"Sitting and standing\":\n",
    "        return \"sitting\"\n",
    "    if movement == \"Moving arm slower towards radar, faster away\":\n",
    "        return \"pulling\"\n",
    "    if movement == \"Circling arm forwards\":\n",
    "        return \"circling\"\n",
    "    if movement == \"Clapping\":\n",
    "        return \"clapping\"\n",
    "    if movement == \"Bending to pick up and back up\":\n",
    "        return \"bending\"\n",
    "\n",
    "\n",
    "def identify_angle(angle):\n",
    "    \"\"\"\n",
    "    Strips \" deg\" from input\n",
    "    For example:\n",
    "    \"0 deg\" would return \"0\"\n",
    "    :param angle: angle in format \"0 deg\"\n",
    "    :type angle: str\n",
    "    :return: angle\n",
    "    :rtype: str\n",
    "    \"\"\"\n",
    "    return angle.split()[0]\n",
    "\n",
    "\n",
    "def is_on_place(angle):\n",
    "    \"\"\"\n",
    "    Identifies if measurement has \"on place\" flag for it's aspect angle\n",
    "    :param angle: angle in format \"0 deg\"\n",
    "    :type angle: str\n",
    "    :return: if angle measurement is \"on place\"\n",
    "    :rtype: bool\n",
    "    \"\"\"\n",
    "    if len(angle.split()) > 2:\n",
    "        return True\n",
    "    return False\n",
    "\n",
    "\n",
    "def assign_user_label(name):\n",
    "    \"\"\"\n",
    "    Takes in subjects name and returns a letter to represent that subject\n",
    "    :param name: \n",
    "    :type name: str\n",
    "    :return: Letter to represent subject\n",
    "    :rtype: str \n",
    "    \"\"\"\n",
    "    if name == \"Aleksandar\":\n",
    "        return \"A\"\n",
    "    if name == \"Francesco\":\n",
    "        return \"B\"\n",
    "    if name == \"Nadezhda\":\n",
    "        return \"C\"\n",
    "    if name == \"Leila\":\n",
    "        return \"D\"\n",
    "    if name == \"Hadi\":\n",
    "        return \"E\"\n",
    "    if name == \"Ivelina\":\n",
    "        return \"F\""
   ]
  },
  {
   "cell_type": "markdown",
   "metadata": {},
   "source": [
    "Load in data labels and convert columns to suitable formats"
   ]
  },
  {
   "cell_type": "code",
   "execution_count": 0,
   "metadata": {
    "colab": {},
    "colab_type": "code",
    "id": "bLv3Yv6xkJl0"
   },
   "outputs": [],
   "source": [
    "df_labels = pd.read_csv(RAW_PATH + 'Labels.csv')\n",
    "df_labels.rename(columns={'dataset ID': 'dataset_id'}, inplace=True)\n",
    "df_labels[\"label\"] = df_labels.movement.apply(find_label)\n",
    "df_labels[\"user_label\"] = df_labels.person.apply(assign_user_label)\n",
    "df_labels[\"aspect_angle\"] = df_labels.angle.apply(identify_angle)\n",
    "df_labels[\"on_place\"] = df_labels.angle.apply(is_on_place)"
   ]
  },
  {
   "cell_type": "markdown",
   "metadata": {
    "colab_type": "text",
    "id": "kvLJcKLgLEd6"
   },
   "source": [
    "## The Dataset"
   ]
  },
  {
   "cell_type": "code",
   "execution_count": 0,
   "metadata": {
    "colab": {
     "base_uri": "https://localhost:8080/",
     "height": 1895
    },
    "colab_type": "code",
    "executionInfo": {
     "elapsed": 488,
     "status": "ok",
     "timestamp": 1546962279123,
     "user": {
      "displayName": "Andrew Mackay",
      "photoUrl": "https://lh3.googleusercontent.com/-24hiGmdxZDE/AAAAAAAAAAI/AAAAAAAAL_I/RW7nqM11LkM/s64/photo.jpg",
      "userId": "06804410358976473893"
     },
     "user_tz": 0
    },
    "id": "IVQABSrsIpOV",
    "outputId": "c96ff7bb-152a-4416-f361-86341457f097"
   },
   "outputs": [
    {
     "data": {
      "text/html": [
       "<div>\n",
       "<style scoped>\n",
       "    .dataframe tbody tr th:only-of-type {\n",
       "        vertical-align: middle;\n",
       "    }\n",
       "\n",
       "    .dataframe tbody tr th {\n",
       "        vertical-align: top;\n",
       "    }\n",
       "\n",
       "    .dataframe thead th {\n",
       "        text-align: right;\n",
       "    }\n",
       "</style>\n",
       "<table border=\"1\" class=\"dataframe\">\n",
       "  <thead>\n",
       "    <tr style=\"text-align: right;\">\n",
       "      <th></th>\n",
       "      <th>dataset_id</th>\n",
       "      <th>label</th>\n",
       "      <th>user_label</th>\n",
       "      <th>aspect_angle</th>\n",
       "    </tr>\n",
       "  </thead>\n",
       "  <tbody>\n",
       "    <tr>\n",
       "      <th>0</th>\n",
       "      <td>1</td>\n",
       "      <td>walking</td>\n",
       "      <td>A</td>\n",
       "      <td>0</td>\n",
       "    </tr>\n",
       "    <tr>\n",
       "      <th>1</th>\n",
       "      <td>2</td>\n",
       "      <td>walking</td>\n",
       "      <td>A</td>\n",
       "      <td>0</td>\n",
       "    </tr>\n",
       "    <tr>\n",
       "      <th>2</th>\n",
       "      <td>3</td>\n",
       "      <td>walking</td>\n",
       "      <td>A</td>\n",
       "      <td>30</td>\n",
       "    </tr>\n",
       "    <tr>\n",
       "      <th>3</th>\n",
       "      <td>4</td>\n",
       "      <td>walking</td>\n",
       "      <td>A</td>\n",
       "      <td>30</td>\n",
       "    </tr>\n",
       "    <tr>\n",
       "      <th>4</th>\n",
       "      <td>5</td>\n",
       "      <td>walking</td>\n",
       "      <td>A</td>\n",
       "      <td>60</td>\n",
       "    </tr>\n",
       "    <tr>\n",
       "      <th>5</th>\n",
       "      <td>6</td>\n",
       "      <td>walking</td>\n",
       "      <td>A</td>\n",
       "      <td>60</td>\n",
       "    </tr>\n",
       "    <tr>\n",
       "      <th>6</th>\n",
       "      <td>7</td>\n",
       "      <td>pushing</td>\n",
       "      <td>A</td>\n",
       "      <td>0</td>\n",
       "    </tr>\n",
       "    <tr>\n",
       "      <th>7</th>\n",
       "      <td>8</td>\n",
       "      <td>pushing</td>\n",
       "      <td>A</td>\n",
       "      <td>0</td>\n",
       "    </tr>\n",
       "    <tr>\n",
       "      <th>8</th>\n",
       "      <td>9</td>\n",
       "      <td>pushing</td>\n",
       "      <td>A</td>\n",
       "      <td>30</td>\n",
       "    </tr>\n",
       "    <tr>\n",
       "      <th>9</th>\n",
       "      <td>10</td>\n",
       "      <td>pushing</td>\n",
       "      <td>A</td>\n",
       "      <td>30</td>\n",
       "    </tr>\n",
       "    <tr>\n",
       "      <th>10</th>\n",
       "      <td>11</td>\n",
       "      <td>pushing</td>\n",
       "      <td>A</td>\n",
       "      <td>60</td>\n",
       "    </tr>\n",
       "    <tr>\n",
       "      <th>11</th>\n",
       "      <td>12</td>\n",
       "      <td>pushing</td>\n",
       "      <td>A</td>\n",
       "      <td>60</td>\n",
       "    </tr>\n",
       "    <tr>\n",
       "      <th>12</th>\n",
       "      <td>13</td>\n",
       "      <td>sitting</td>\n",
       "      <td>A</td>\n",
       "      <td>0</td>\n",
       "    </tr>\n",
       "    <tr>\n",
       "      <th>13</th>\n",
       "      <td>14</td>\n",
       "      <td>sitting</td>\n",
       "      <td>A</td>\n",
       "      <td>0</td>\n",
       "    </tr>\n",
       "    <tr>\n",
       "      <th>14</th>\n",
       "      <td>15</td>\n",
       "      <td>pulling</td>\n",
       "      <td>A</td>\n",
       "      <td>0</td>\n",
       "    </tr>\n",
       "    <tr>\n",
       "      <th>15</th>\n",
       "      <td>16</td>\n",
       "      <td>pulling</td>\n",
       "      <td>A</td>\n",
       "      <td>0</td>\n",
       "    </tr>\n",
       "    <tr>\n",
       "      <th>16</th>\n",
       "      <td>17</td>\n",
       "      <td>circling</td>\n",
       "      <td>A</td>\n",
       "      <td>0</td>\n",
       "    </tr>\n",
       "    <tr>\n",
       "      <th>17</th>\n",
       "      <td>18</td>\n",
       "      <td>circling</td>\n",
       "      <td>A</td>\n",
       "      <td>0</td>\n",
       "    </tr>\n",
       "    <tr>\n",
       "      <th>18</th>\n",
       "      <td>19</td>\n",
       "      <td>clapping</td>\n",
       "      <td>A</td>\n",
       "      <td>0</td>\n",
       "    </tr>\n",
       "    <tr>\n",
       "      <th>19</th>\n",
       "      <td>20</td>\n",
       "      <td>clapping</td>\n",
       "      <td>A</td>\n",
       "      <td>0</td>\n",
       "    </tr>\n",
       "    <tr>\n",
       "      <th>20</th>\n",
       "      <td>21</td>\n",
       "      <td>bending</td>\n",
       "      <td>A</td>\n",
       "      <td>0</td>\n",
       "    </tr>\n",
       "    <tr>\n",
       "      <th>21</th>\n",
       "      <td>22</td>\n",
       "      <td>bending</td>\n",
       "      <td>A</td>\n",
       "      <td>0</td>\n",
       "    </tr>\n",
       "    <tr>\n",
       "      <th>22</th>\n",
       "      <td>23</td>\n",
       "      <td>walking</td>\n",
       "      <td>B</td>\n",
       "      <td>0</td>\n",
       "    </tr>\n",
       "    <tr>\n",
       "      <th>23</th>\n",
       "      <td>24</td>\n",
       "      <td>walking</td>\n",
       "      <td>B</td>\n",
       "      <td>0</td>\n",
       "    </tr>\n",
       "    <tr>\n",
       "      <th>24</th>\n",
       "      <td>25</td>\n",
       "      <td>pushing</td>\n",
       "      <td>B</td>\n",
       "      <td>0</td>\n",
       "    </tr>\n",
       "    <tr>\n",
       "      <th>25</th>\n",
       "      <td>26</td>\n",
       "      <td>pushing</td>\n",
       "      <td>B</td>\n",
       "      <td>0</td>\n",
       "    </tr>\n",
       "    <tr>\n",
       "      <th>26</th>\n",
       "      <td>27</td>\n",
       "      <td>sitting</td>\n",
       "      <td>B</td>\n",
       "      <td>0</td>\n",
       "    </tr>\n",
       "    <tr>\n",
       "      <th>27</th>\n",
       "      <td>28</td>\n",
       "      <td>sitting</td>\n",
       "      <td>B</td>\n",
       "      <td>0</td>\n",
       "    </tr>\n",
       "    <tr>\n",
       "      <th>28</th>\n",
       "      <td>29</td>\n",
       "      <td>circling</td>\n",
       "      <td>B</td>\n",
       "      <td>0</td>\n",
       "    </tr>\n",
       "    <tr>\n",
       "      <th>29</th>\n",
       "      <td>30</td>\n",
       "      <td>circling</td>\n",
       "      <td>B</td>\n",
       "      <td>0</td>\n",
       "    </tr>\n",
       "    <tr>\n",
       "      <th>...</th>\n",
       "      <td>...</td>\n",
       "      <td>...</td>\n",
       "      <td>...</td>\n",
       "      <td>...</td>\n",
       "    </tr>\n",
       "    <tr>\n",
       "      <th>93</th>\n",
       "      <td>94</td>\n",
       "      <td>walking</td>\n",
       "      <td>E</td>\n",
       "      <td>0</td>\n",
       "    </tr>\n",
       "    <tr>\n",
       "      <th>94</th>\n",
       "      <td>95</td>\n",
       "      <td>pushing</td>\n",
       "      <td>E</td>\n",
       "      <td>0</td>\n",
       "    </tr>\n",
       "    <tr>\n",
       "      <th>95</th>\n",
       "      <td>96</td>\n",
       "      <td>pushing</td>\n",
       "      <td>E</td>\n",
       "      <td>0</td>\n",
       "    </tr>\n",
       "    <tr>\n",
       "      <th>96</th>\n",
       "      <td>97</td>\n",
       "      <td>sitting</td>\n",
       "      <td>E</td>\n",
       "      <td>0</td>\n",
       "    </tr>\n",
       "    <tr>\n",
       "      <th>97</th>\n",
       "      <td>98</td>\n",
       "      <td>circling</td>\n",
       "      <td>E</td>\n",
       "      <td>0</td>\n",
       "    </tr>\n",
       "    <tr>\n",
       "      <th>98</th>\n",
       "      <td>99</td>\n",
       "      <td>clapping</td>\n",
       "      <td>E</td>\n",
       "      <td>0</td>\n",
       "    </tr>\n",
       "    <tr>\n",
       "      <th>99</th>\n",
       "      <td>100</td>\n",
       "      <td>bending</td>\n",
       "      <td>E</td>\n",
       "      <td>0</td>\n",
       "    </tr>\n",
       "    <tr>\n",
       "      <th>100</th>\n",
       "      <td>101</td>\n",
       "      <td>pulling</td>\n",
       "      <td>E</td>\n",
       "      <td>0</td>\n",
       "    </tr>\n",
       "    <tr>\n",
       "      <th>101</th>\n",
       "      <td>102</td>\n",
       "      <td>circling</td>\n",
       "      <td>A</td>\n",
       "      <td>45</td>\n",
       "    </tr>\n",
       "    <tr>\n",
       "      <th>102</th>\n",
       "      <td>103</td>\n",
       "      <td>circling</td>\n",
       "      <td>A</td>\n",
       "      <td>60</td>\n",
       "    </tr>\n",
       "    <tr>\n",
       "      <th>103</th>\n",
       "      <td>104</td>\n",
       "      <td>clapping</td>\n",
       "      <td>A</td>\n",
       "      <td>30</td>\n",
       "    </tr>\n",
       "    <tr>\n",
       "      <th>104</th>\n",
       "      <td>105</td>\n",
       "      <td>clapping</td>\n",
       "      <td>A</td>\n",
       "      <td>45</td>\n",
       "    </tr>\n",
       "    <tr>\n",
       "      <th>105</th>\n",
       "      <td>106</td>\n",
       "      <td>clapping</td>\n",
       "      <td>A</td>\n",
       "      <td>60</td>\n",
       "    </tr>\n",
       "    <tr>\n",
       "      <th>106</th>\n",
       "      <td>107</td>\n",
       "      <td>bending</td>\n",
       "      <td>A</td>\n",
       "      <td>30</td>\n",
       "    </tr>\n",
       "    <tr>\n",
       "      <th>107</th>\n",
       "      <td>108</td>\n",
       "      <td>bending</td>\n",
       "      <td>A</td>\n",
       "      <td>45</td>\n",
       "    </tr>\n",
       "    <tr>\n",
       "      <th>108</th>\n",
       "      <td>109</td>\n",
       "      <td>bending</td>\n",
       "      <td>A</td>\n",
       "      <td>60</td>\n",
       "    </tr>\n",
       "    <tr>\n",
       "      <th>109</th>\n",
       "      <td>110</td>\n",
       "      <td>walking</td>\n",
       "      <td>F</td>\n",
       "      <td>0</td>\n",
       "    </tr>\n",
       "    <tr>\n",
       "      <th>110</th>\n",
       "      <td>111</td>\n",
       "      <td>walking</td>\n",
       "      <td>F</td>\n",
       "      <td>0</td>\n",
       "    </tr>\n",
       "    <tr>\n",
       "      <th>111</th>\n",
       "      <td>112</td>\n",
       "      <td>pushing</td>\n",
       "      <td>F</td>\n",
       "      <td>0</td>\n",
       "    </tr>\n",
       "    <tr>\n",
       "      <th>112</th>\n",
       "      <td>113</td>\n",
       "      <td>pushing</td>\n",
       "      <td>F</td>\n",
       "      <td>0</td>\n",
       "    </tr>\n",
       "    <tr>\n",
       "      <th>113</th>\n",
       "      <td>114</td>\n",
       "      <td>sitting</td>\n",
       "      <td>F</td>\n",
       "      <td>0</td>\n",
       "    </tr>\n",
       "    <tr>\n",
       "      <th>114</th>\n",
       "      <td>115</td>\n",
       "      <td>sitting</td>\n",
       "      <td>F</td>\n",
       "      <td>0</td>\n",
       "    </tr>\n",
       "    <tr>\n",
       "      <th>115</th>\n",
       "      <td>116</td>\n",
       "      <td>circling</td>\n",
       "      <td>F</td>\n",
       "      <td>0</td>\n",
       "    </tr>\n",
       "    <tr>\n",
       "      <th>116</th>\n",
       "      <td>117</td>\n",
       "      <td>circling</td>\n",
       "      <td>F</td>\n",
       "      <td>0</td>\n",
       "    </tr>\n",
       "    <tr>\n",
       "      <th>117</th>\n",
       "      <td>118</td>\n",
       "      <td>clapping</td>\n",
       "      <td>F</td>\n",
       "      <td>0</td>\n",
       "    </tr>\n",
       "    <tr>\n",
       "      <th>118</th>\n",
       "      <td>119</td>\n",
       "      <td>clapping</td>\n",
       "      <td>F</td>\n",
       "      <td>0</td>\n",
       "    </tr>\n",
       "    <tr>\n",
       "      <th>119</th>\n",
       "      <td>120</td>\n",
       "      <td>bending</td>\n",
       "      <td>F</td>\n",
       "      <td>0</td>\n",
       "    </tr>\n",
       "    <tr>\n",
       "      <th>120</th>\n",
       "      <td>121</td>\n",
       "      <td>bending</td>\n",
       "      <td>F</td>\n",
       "      <td>0</td>\n",
       "    </tr>\n",
       "    <tr>\n",
       "      <th>121</th>\n",
       "      <td>122</td>\n",
       "      <td>pulling</td>\n",
       "      <td>F</td>\n",
       "      <td>0</td>\n",
       "    </tr>\n",
       "    <tr>\n",
       "      <th>122</th>\n",
       "      <td>123</td>\n",
       "      <td>pulling</td>\n",
       "      <td>F</td>\n",
       "      <td>0</td>\n",
       "    </tr>\n",
       "  </tbody>\n",
       "</table>\n",
       "<p>123 rows × 4 columns</p>\n",
       "</div>"
      ],
      "text/plain": [
       "     dataset_id     label user_label aspect_angle\n",
       "0             1   walking          A            0\n",
       "1             2   walking          A            0\n",
       "2             3   walking          A           30\n",
       "3             4   walking          A           30\n",
       "4             5   walking          A           60\n",
       "5             6   walking          A           60\n",
       "6             7   pushing          A            0\n",
       "7             8   pushing          A            0\n",
       "8             9   pushing          A           30\n",
       "9            10   pushing          A           30\n",
       "10           11   pushing          A           60\n",
       "11           12   pushing          A           60\n",
       "12           13   sitting          A            0\n",
       "13           14   sitting          A            0\n",
       "14           15   pulling          A            0\n",
       "15           16   pulling          A            0\n",
       "16           17  circling          A            0\n",
       "17           18  circling          A            0\n",
       "18           19  clapping          A            0\n",
       "19           20  clapping          A            0\n",
       "20           21   bending          A            0\n",
       "21           22   bending          A            0\n",
       "22           23   walking          B            0\n",
       "23           24   walking          B            0\n",
       "24           25   pushing          B            0\n",
       "25           26   pushing          B            0\n",
       "26           27   sitting          B            0\n",
       "27           28   sitting          B            0\n",
       "28           29  circling          B            0\n",
       "29           30  circling          B            0\n",
       "..          ...       ...        ...          ...\n",
       "93           94   walking          E            0\n",
       "94           95   pushing          E            0\n",
       "95           96   pushing          E            0\n",
       "96           97   sitting          E            0\n",
       "97           98  circling          E            0\n",
       "98           99  clapping          E            0\n",
       "99          100   bending          E            0\n",
       "100         101   pulling          E            0\n",
       "101         102  circling          A           45\n",
       "102         103  circling          A           60\n",
       "103         104  clapping          A           30\n",
       "104         105  clapping          A           45\n",
       "105         106  clapping          A           60\n",
       "106         107   bending          A           30\n",
       "107         108   bending          A           45\n",
       "108         109   bending          A           60\n",
       "109         110   walking          F            0\n",
       "110         111   walking          F            0\n",
       "111         112   pushing          F            0\n",
       "112         113   pushing          F            0\n",
       "113         114   sitting          F            0\n",
       "114         115   sitting          F            0\n",
       "115         116  circling          F            0\n",
       "116         117  circling          F            0\n",
       "117         118  clapping          F            0\n",
       "118         119  clapping          F            0\n",
       "119         120   bending          F            0\n",
       "120         121   bending          F            0\n",
       "121         122   pulling          F            0\n",
       "122         123   pulling          F            0\n",
       "\n",
       "[123 rows x 4 columns]"
      ]
     },
     "execution_count": 6,
     "metadata": {
      "tags": []
     },
     "output_type": "execute_result"
    }
   ],
   "source": [
    "df_labels[['dataset_id', 'label', 'user_label', 'aspect_angle']]"
   ]
  },
  {
   "cell_type": "markdown",
   "metadata": {
    "colab_type": "text",
    "id": "U8UbpQ_ALI2C"
   },
   "source": [
    "## Subject"
   ]
  },
  {
   "cell_type": "code",
   "execution_count": 0,
   "metadata": {
    "colab": {
     "base_uri": "https://localhost:8080/",
     "height": 390
    },
    "colab_type": "code",
    "executionInfo": {
     "elapsed": 546,
     "status": "ok",
     "timestamp": 1546962800151,
     "user": {
      "displayName": "Andrew Mackay",
      "photoUrl": "https://lh3.googleusercontent.com/-24hiGmdxZDE/AAAAAAAAAAI/AAAAAAAAL_I/RW7nqM11LkM/s64/photo.jpg",
      "userId": "06804410358976473893"
     },
     "user_tz": 0
    },
    "id": "3NiHfZx6JnxP",
    "outputId": "5174aa5a-c8f1-4955-efad-fb2fe0ca0406"
   },
   "outputs": [
    {
     "data": {
      "image/png": "[encoded data removed]",
      "text/plain": [
       "<Figure size 432x288 with 1 Axes>"
      ]
     },
     "metadata": {
      "needs_background": "light",
      "tags": []
     },
     "output_type": "display_data"
    }
   ],
   "source": [
    "df_labels.groupby(['user_label'])['dataset_id'].count().plot(kind='bar', zorder=3)\n",
    "plt.title(\"Number of Measurements per Subject\")\n",
    "plt.xlabel(\"Subject\")\n",
    "plt.ylabel(\"Number of Measurements\")\n",
    "plt.grid(axis='y', zorder=0)\n",
    "plt.xticks(rotation=0)\n",
    "if SAVE_GRAPHS:\n",
    "    plt.savefig(RESULTS_PATH + \"measurements_per_subject.pdf\", format='pdf')\n",
    "plt.show()"
   ]
  },
  {
   "cell_type": "markdown",
   "metadata": {
    "colab_type": "text",
    "id": "lEFTia0JLNFo"
   },
   "source": [
    "## Action"
   ]
  },
  {
   "cell_type": "code",
   "execution_count": 0,
   "metadata": {
    "colab": {
     "base_uri": "https://localhost:8080/",
     "height": 420
    },
    "colab_type": "code",
    "executionInfo": {
     "elapsed": 538,
     "status": "ok",
     "timestamp": 1546962804917,
     "user": {
      "displayName": "Andrew Mackay",
      "photoUrl": "https://lh3.googleusercontent.com/-24hiGmdxZDE/AAAAAAAAAAI/AAAAAAAAL_I/RW7nqM11LkM/s64/photo.jpg",
      "userId": "06804410358976473893"
     },
     "user_tz": 0
    },
    "id": "VKBBnLTZKUSL",
    "outputId": "8afb3977-a3f9-4d1f-aac2-91b77a5f5a85"
   },
   "outputs": [
    {
     "data": {
      "image/png": "[encoded data removed]",
      "text/plain": [
       "<Figure size 432x288 with 1 Axes>"
      ]
     },
     "metadata": {
      "needs_background": "light",
      "tags": []
     },
     "output_type": "display_data"
    }
   ],
   "source": [
    "df_labels.groupby(['label'])['dataset_id'].count().plot(kind='bar', zorder=3)\n",
    "plt.title(\"Number of Measurements per Action\")\n",
    "plt.xlabel(\"Action\")\n",
    "plt.ylabel(\"Number of Measurements\")\n",
    "plt.grid(axis='y', zorder=0)\n",
    "if SAVE_GRAPHS:\n",
    "    plt.savefig(RESULTS_PATH + \"measurements_per_action.pdf\", format='pdf')\n",
    "plt.show()"
   ]
  },
  {
   "cell_type": "markdown",
   "metadata": {
    "colab_type": "text",
    "id": "saMDt8GfLPyg"
   },
   "source": [
    "## Aspect Angle (Degrees)"
   ]
  },
  {
   "cell_type": "code",
   "execution_count": 0,
   "metadata": {
    "colab": {
     "base_uri": "https://localhost:8080/",
     "height": 393
    },
    "colab_type": "code",
    "executionInfo": {
     "elapsed": 595,
     "status": "ok",
     "timestamp": 1546962828099,
     "user": {
      "displayName": "Andrew Mackay",
      "photoUrl": "https://lh3.googleusercontent.com/-24hiGmdxZDE/AAAAAAAAAAI/AAAAAAAAL_I/RW7nqM11LkM/s64/photo.jpg",
      "userId": "06804410358976473893"
     },
     "user_tz": 0
    },
    "id": "1O6_Kf0VKy2Q",
    "outputId": "a3cb06fb-b6ac-4174-8cea-be60731f64cd"
   },
   "outputs": [
    {
     "data": {
      "image/png": "[encoded data removed]",
      "text/plain": [
       "<Figure size 432x288 with 1 Axes>"
      ]
     },
     "metadata": {
      "needs_background": "light",
      "tags": []
     },
     "output_type": "display_data"
    }
   ],
   "source": [
    "df_labels.groupby(['aspect_angle'])['dataset_id'].count().plot(kind='bar', zorder=3)\n",
    "plt.title(\"Number of Measurements per Aspect Angle\")\n",
    "plt.xlabel(\"Aspect Angle (°)\")\n",
    "plt.ylabel(\"Number of Measurements\")\n",
    "plt.grid(axis='y', zorder=0)\n",
    "plt.xticks(rotation=0)\n",
    "if SAVE_GRAPHS:\n",
    "    plt.savefig(RESULTS_PATH + \"measurements_per_aspect_angle.pdf\", format='pdf')\n",
    "plt.show()"
   ]
  },
  {
   "cell_type": "markdown",
   "metadata": {
    "colab_type": "text",
    "id": "QKZhI_AELkeU"
   },
   "source": [
    "## Subject and Aspect Angle\n",
    "It appears that users C, D, E and F only have data for zero degrees"
   ]
  },
  {
   "cell_type": "code",
   "execution_count": 0,
   "metadata": {
    "colab": {
     "base_uri": "https://localhost:8080/",
     "height": 412
    },
    "colab_type": "code",
    "executionInfo": {
     "elapsed": 713,
     "status": "ok",
     "timestamp": 1546964110891,
     "user": {
      "displayName": "Andrew Mackay",
      "photoUrl": "https://lh3.googleusercontent.com/-24hiGmdxZDE/AAAAAAAAAAI/AAAAAAAAL_I/RW7nqM11LkM/s64/photo.jpg",
      "userId": "06804410358976473893"
     },
     "user_tz": 0
    },
    "id": "9jbtAhgvLjbS",
    "outputId": "83ad64e7-d2bc-4a71-85cb-8a74c0d6ba3e",
    "scrolled": true
   },
   "outputs": [
    {
     "data": {
      "image/png": "[encoded data removed]",
      "text/plain": [
       "<Figure size 432x288 with 1 Axes>"
      ]
     },
     "metadata": {
      "needs_background": "light",
      "tags": []
     },
     "output_type": "display_data"
    }
   ],
   "source": [
    "df_labels.groupby(['user_label', 'aspect_angle'])['dataset_id'].count().plot(kind='bar', zorder=3)\n",
    "plt.title(\"Number of Measurements per Subject\")\n",
    "plt.xlabel(\"Subject + Aspect Angle (°)\")\n",
    "plt.ylabel(\"Number of Measurements\")\n",
    "plt.grid(axis='y', zorder=0)\n",
    "if SAVE_GRAPHS:\n",
    "    plt.savefig(RESULTS_PATH + \"measurements_per_subject_and_aspect_angle.pdf\", format='pdf')\n",
    "plt.show()"
   ]
  },
  {
   "cell_type": "markdown",
   "metadata": {
    "colab_type": "text",
    "id": "BZvhXupTvsc2"
   },
   "source": [
    "## Subject Comparison for 0° Aspect Angle"
   ]
  },
  {
   "cell_type": "code",
   "execution_count": 0,
   "metadata": {
    "colab": {},
    "colab_type": "code",
    "id": "fkUHVsBRvsc3"
   },
   "outputs": [],
   "source": [
    "zero_degrees = df_labels.loc[df_labels[\"aspect_angle\"] == '0']"
   ]
  },
  {
   "cell_type": "code",
   "execution_count": 0,
   "metadata": {
    "colab": {},
    "colab_type": "code",
    "id": "JS3gpEmNvsc6",
    "outputId": "0236152f-2520-47c2-e4b6-dabd367c12ce"
   },
   "outputs": [
    {
     "data": {
      "image/png": "[encoded data removed]",
      "text/plain": [
       "<Figure size 432x288 with 1 Axes>"
      ]
     },
     "metadata": {
      "needs_background": "light",
      "tags": []
     },
     "output_type": "display_data"
    }
   ],
   "source": [
    "zero_degrees.groupby(['user_label'])['dataset_id'].count().plot(kind='bar', zorder=3)\n",
    "plt.title(\"Number of Measurements per Subject for 0° Aspect Angle \")\n",
    "plt.xlabel(\"Subject\")\n",
    "plt.ylabel(\"Number of Measurements\")\n",
    "plt.xticks(rotation=0)\n",
    "plt.grid(axis='y', zorder=0)\n",
    "if SAVE_GRAPHS:\n",
    "    plt.savefig(RESULTS_PATH + \"measurements_per_subject_at_0_aspect_angle.pdf\", format='pdf')\n",
    "plt.show()"
   ]
  },
  {
   "cell_type": "code",
   "execution_count": 0,
   "metadata": {
    "colab": {},
    "colab_type": "code",
    "id": "Px-y_-u0vsdA",
    "outputId": "dc814adf-9225-42b2-c13d-7a5276d5f70c"
   },
   "outputs": [
    {
     "data": {
      "image/png": "[encoded data removed]",
      "text/plain": [
       "<Figure size 432x288 with 1 Axes>"
      ]
     },
     "metadata": {
      "needs_background": "light",
      "tags": []
     },
     "output_type": "display_data"
    }
   ],
   "source": [
    "zero_degrees.groupby(['user_label', 'label'])['dataset_id'].count().plot(kind='bar', zorder=3)\n",
    "plt.title(\"Number of Measurements per Subject for 0° Aspect Angle \")\n",
    "plt.xlabel(\"Subject\")\n",
    "plt.ylabel(\"Number of Measurements\")\n",
    "plt.xticks(rotation=90)\n",
    "plt.grid(axis='y', zorder=0)\n",
    "if SAVE_GRAPHS:\n",
    "    plt.savefig(RESULTS_PATH + \"measurements_per_subject_at_0_aspect_angle.pdf\", format='pdf')\n",
    "plt.tight_layout()\n",
    "plt.show()"
   ]
  },
  {
   "cell_type": "markdown",
   "metadata": {
    "colab_type": "text",
    "id": "PmnYdJz2MKWY"
   },
   "source": [
    "## User C "
   ]
  },
  {
   "cell_type": "code",
   "execution_count": 0,
   "metadata": {
    "colab": {},
    "colab_type": "code",
    "id": "8cTXgkalNBIv"
   },
   "outputs": [],
   "source": [
    "user_c = df_labels.loc[df_labels[\"user_label\"] == \"C\", :]"
   ]
  },
  {
   "cell_type": "code",
   "execution_count": 0,
   "metadata": {
    "colab": {
     "base_uri": "https://localhost:8080/",
     "height": 420
    },
    "colab_type": "code",
    "executionInfo": {
     "elapsed": 506,
     "status": "ok",
     "timestamp": 1546964168967,
     "user": {
      "displayName": "Andrew Mackay",
      "photoUrl": "https://lh3.googleusercontent.com/-24hiGmdxZDE/AAAAAAAAAAI/AAAAAAAAL_I/RW7nqM11LkM/s64/photo.jpg",
      "userId": "06804410358976473893"
     },
     "user_tz": 0
    },
    "id": "fYuQDeoVMja9",
    "outputId": "f7f09a01-0604-4757-ef32-3cc0319f8368"
   },
   "outputs": [
    {
     "data": {
      "image/png": "[encoded data removed]",
      "text/plain": [
       "<Figure size 432x288 with 1 Axes>"
      ]
     },
     "metadata": {
      "needs_background": "light",
      "tags": []
     },
     "output_type": "display_data"
    }
   ],
   "source": [
    "user_c.groupby(['label'])['dataset_id'].count().plot(kind='bar', zorder=3)\n",
    "plt.title(\"Action Distribution for Subject C\")\n",
    "plt.xlabel(\"Action\")\n",
    "plt.ylabel(\"Number of Measurements\")\n",
    "plt.grid(axis='y', zorder=0)\n",
    "plt.yticks([1, 2])\n",
    "if SAVE_GRAPHS:\n",
    "    plt.savefig(RESULTS_PATH + \"subject_c_action_distribution.pdf\", format='pdf')\n",
    "plt.show()"
   ]
  },
  {
   "cell_type": "code",
   "execution_count": 0,
   "metadata": {
    "colab": {},
    "colab_type": "code",
    "id": "JqatsK8oP1r0"
   },
   "outputs": [],
   "source": []
  }
 ],
 "metadata": {
  "colab": {
   "collapsed_sections": [],
   "name": "01_dataset_composition_analysis.ipynb",
   "provenance": [],
   "version": "0.3.2"
  },
  "kernelspec": {
   "display_name": "Python 3",
   "language": "python",
   "name": "python3"
  },
  "language_info": {
   "codemirror_mode": {
    "name": "ipython",
    "version": 3
   },
   "file_extension": ".py",
   "mimetype": "text/x-python",
   "name": "python",
   "nbconvert_exporter": "python",
   "pygments_lexer": "ipython3",
   "version": "3.6.6"
  }
 },
 "nbformat": 4,
 "nbformat_minor": 1
}
