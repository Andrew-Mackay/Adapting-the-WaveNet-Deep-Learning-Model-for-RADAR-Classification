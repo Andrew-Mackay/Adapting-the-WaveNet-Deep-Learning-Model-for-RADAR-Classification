{
 "cells": [
  {
   "cell_type": "markdown",
   "metadata": {
    "colab_type": "text",
    "id": "y5_hkZDGFs6w"
   },
   "source": [
    "# Creation of Doppler spectrograms from raw data"
   ]
  },
  {
   "cell_type": "code",
   "execution_count": 1,
   "metadata": {
    "colab": {},
    "colab_type": "code",
    "id": "h3sAhsZQkJk0"
   },
   "outputs": [],
   "source": [
    "# Uncomment to set matplotlib backend (much more efficient as no longer showing plot)\n",
    "# import matplotlib\n",
    "# matplotlib.use('Agg')"
   ]
  },
  {
   "cell_type": "code",
   "execution_count": 2,
   "metadata": {
    "colab": {},
    "colab_type": "code",
    "id": "PYVEJvtQkJlH"
   },
   "outputs": [],
   "source": [
    "# Plot graphs inline\n",
    "%matplotlib inline"
   ]
  },
  {
   "cell_type": "code",
   "execution_count": 3,
   "metadata": {
    "colab": {},
    "colab_type": "code",
    "id": "h-6B7f68kJlc"
   },
   "outputs": [],
   "source": [
    "import os\n",
    "if os.getcwd() == '/content':\n",
    "    from google.colab import drive\n",
    "    drive.mount('/content/gdrive')\n",
    "    BASE_PATH = '/content/gdrive/My Drive/Level-4-Project/'\n",
    "    os.chdir('gdrive/My Drive/Level-4-Project/')\n",
    "    \n",
    "elif os.getcwd() == 'D:\\\\Google Drive\\\\Level-4-Project\\\\notebooks':\n",
    "    BASE_PATH = \"D:/Google Drive/Level-4-Project/\"\n",
    "    \n",
    "else:\n",
    "    BASE_PATH = \"/export/home/2192793m/Level-4-Project/\"\n",
    "    \n",
    "INTERIM_PATH = BASE_PATH + 'data/interim/'\n",
    "PROCESSED_PATH = BASE_PATH + 'data/interim/doppler_spectrograms/'\n",
    "if not os.path.exists(PROCESSED_PATH):\n",
    "    os.makedirs(PROCESSED_PATH)"
   ]
  },
  {
   "cell_type": "code",
   "execution_count": 4,
   "metadata": {
    "colab": {},
    "colab_type": "code",
    "id": "dTQ5EtETkJlu"
   },
   "outputs": [],
   "source": [
    "import pandas as pd\n",
    "import numpy as np\n",
    "import matplotlib.pyplot as plt\n",
    "from matplotlib import mlab\n",
    "from matplotlib import colors\n",
    "from scipy.signal import butter, lfilter"
   ]
  },
  {
   "cell_type": "code",
   "execution_count": 5,
   "metadata": {
    "colab": {},
    "colab_type": "code",
    "id": "Zj2uWVoDkJlR"
   },
   "outputs": [],
   "source": [
    "WINDOW_LENGTH = 3  # 3 second window"
   ]
  },
  {
   "cell_type": "markdown",
   "metadata": {
    "colab_type": "text",
    "id": "kWRH8tAIB2iD"
   },
   "source": [
    "### Function to aid processing Labels.csv"
   ]
  },
  {
   "cell_type": "code",
   "execution_count": 6,
   "metadata": {
    "colab": {},
    "colab_type": "code",
    "id": "s_OeCwmKBHDJ"
   },
   "outputs": [],
   "source": [
    "def find_label(movement):\n",
    "    \"\"\"\n",
    "    Convert movement description to one word label\n",
    "    :param movement: movement description from experiment notes\n",
    "    :type movement: str\n",
    "    :return: one word label\n",
    "    :rtype: str\n",
    "    \"\"\"\n",
    "    if movement == \"Walking\":\n",
    "        return \"walking\"\n",
    "    if movement == \"Moving arm faster towards radar, slower away\":\n",
    "        return \"pushing\"\n",
    "    if movement == \"Sitting and standing\":\n",
    "        return \"sitting\"\n",
    "    if movement == \"Moving arm slower towards radar, faster away\":\n",
    "        return \"pulling\"\n",
    "    if movement == \"Circling arm forwards\":\n",
    "        return \"circling\"\n",
    "    if movement == \"Clapping\":\n",
    "        return \"clapping\"\n",
    "    if movement == \"Bending to pick up and back up\":\n",
    "        return \"bending\"\n",
    "\n",
    "\n",
    "def identify_angle(angle):\n",
    "    \"\"\"\n",
    "    Strips \" deg\" from input\n",
    "    For example:\n",
    "    \"0 deg\" would return \"0\"\n",
    "    :param angle: angle in format \"0 deg\"\n",
    "    :type angle: str\n",
    "    :return: angle\n",
    "    :rtype: str\n",
    "    \"\"\"\n",
    "    return angle.split()[0]\n",
    "\n",
    "\n",
    "def is_on_place(angle):\n",
    "    \"\"\"\n",
    "    Identifies if measurement has \"on place\" flag for it's aspect angle\n",
    "    :param angle: angle in format \"0 deg\"\n",
    "    :type angle: str\n",
    "    :return: if angle measurement is \"on place\"\n",
    "    :rtype: bool\n",
    "    \"\"\"\n",
    "    if len(angle.split()) > 2:\n",
    "        return True\n",
    "    return False\n",
    "\n",
    "\n",
    "def assign_user_label(name):\n",
    "    \"\"\"\n",
    "    Takes in subjects name and returns a letter to represent that subject\n",
    "    :param name: \n",
    "    :type name: str\n",
    "    :return: Letter to represent subject\n",
    "    :rtype: str \n",
    "    \"\"\"\n",
    "    if name == \"Aleksandar\":\n",
    "        return \"A\"\n",
    "    if name == \"Francesco\":\n",
    "        return \"B\"\n",
    "    if name == \"Nadezhda\":\n",
    "        return \"C\"\n",
    "    if name == \"Leila\":\n",
    "        return \"D\"\n",
    "    if name == \"Hadi\":\n",
    "        return \"E\"\n",
    "    if name == \"Ivelina\":\n",
    "        return \"F\""
   ]
  },
  {
   "cell_type": "markdown",
   "metadata": {
    "colab_type": "text",
    "id": "PnjLnmTQB9CA"
   },
   "source": [
    "### Function to make a directory for the spectrograms to go in"
   ]
  },
  {
   "cell_type": "code",
   "execution_count": 7,
   "metadata": {
    "colab": {},
    "colab_type": "code",
    "id": "7fZEdtz7BRqc"
   },
   "outputs": [],
   "source": [
    "def make_directory(interim_path, window_size, user_label, angle_label, action_label):\n",
    "    \"\"\"\n",
    "    Make a directory path for the spectrograms to go in and return that path\n",
    "    :param interim_path: Path to interim directory\n",
    "    :type interim_path: str\n",
    "    :param window_size: Size of window used\n",
    "    :type window_size: int\n",
    "    :param user_label: Subject letter (A-F)\n",
    "    :type user_label: str\n",
    "    :param angle_label: Aspect Angle (0, 30, 45 or 60)\n",
    "    :type angle_label: str\n",
    "    :param action_label: Action type\n",
    "    :type action_label: str\n",
    "    :return: directory path to put spectrogram in\n",
    "    :rtype: str\n",
    "    \"\"\"\n",
    "    #  interim/window_size/user_label/angle_label/action_label\n",
    "    window_directory = interim_path + str(window_size)\n",
    "    if not os.path.exists(window_directory):\n",
    "        os.makedirs(window_directory)\n",
    "\n",
    "    user_directory = window_directory + \"/\" + user_label\n",
    "    if not os.path.exists(user_directory):\n",
    "        os.makedirs(user_directory)\n",
    "\n",
    "    angle_directory = user_directory + \"/\" + angle_label\n",
    "    if not os.path.exists(angle_directory):\n",
    "        os.makedirs(angle_directory)\n",
    "\n",
    "    action_directory = angle_directory + \"/\" + action_label\n",
    "    if not os.path.exists(action_directory):\n",
    "        os.makedirs(action_directory)\n",
    "\n",
    "    return action_directory"
   ]
  },
  {
   "cell_type": "markdown",
   "metadata": {
    "colab_type": "text",
    "id": "-QH1mK5ECCYV"
   },
   "source": [
    "### Function to compute spectrograms from the raw data"
   ]
  },
  {
   "cell_type": "code",
   "execution_count": 8,
   "metadata": {
    "colab": {},
    "colab_type": "code",
    "id": "WAX_-MT6c_zY"
   },
   "outputs": [],
   "source": [
    "def make_spectrograms(df, window_length):\n",
    "    \"\"\"\n",
    "    Create an array of spectrograms from a 60 second radar recording \n",
    "    (based off of the code in \"03_data_processing_demonstration.ipynb\")\n",
    "    :param df: Data frame containing the radar measurements\n",
    "    :type df: DataFrame\n",
    "    :param window_length: Length to make the spectrograms\n",
    "    :type window_length: int\n",
    "    :return: array of spectrograms\n",
    "    :rtype: array of spectrograms\n",
    "    \"\"\"\n",
    "    # Grab RADAR settings from top of file\n",
    "    center_frequency = float(df.iloc[1])  # 5800000000Hz (5.6 GHz)\n",
    "    sweep_time = float(df.iloc[2]) / 1000  # convert to seconds (0.001 seconds)\n",
    "    number_of_time_samples = float(df.iloc[3])  # 128\n",
    "    bandwidth = float(df.iloc[4])  # 400000000Hz (400 MHz)\n",
    "    sampling_frequency = number_of_time_samples / sweep_time\n",
    "    '''\n",
    "    record length = 60s\n",
    "              = 60000 chirps with sweep time of 1ms\n",
    "              = (7680000 measurements / 128 time samples) with sweep time of 1ms\n",
    "    '''\n",
    "    record_length = (len(df.iloc[5:])/number_of_time_samples) * sweep_time\n",
    "\n",
    "    number_of_chirps = record_length / sweep_time  # 60000\n",
    "\n",
    "    # Put data values into an array\n",
    "    data = df.iloc[5:].apply(complex).values\n",
    "\n",
    "    # Reshape into chirps over time\n",
    "    data_time = np.reshape(data, (int(number_of_chirps), int(number_of_time_samples)))\n",
    "    data_time = np.rot90(data_time)\n",
    "\n",
    "\n",
    "    win = np.ones((int(number_of_time_samples), data_time.shape[1]))\n",
    "    # Apply fast fourier transform to give Range FFT\n",
    "    fft_applied = np.fft.fftshift(np.fft.fft((data_time * win), axis=0), 0)\n",
    "\n",
    "    # take relevant half (other half appears to contain only noise)\n",
    "    data_range = fft_applied[1:int(number_of_time_samples / 2), :]\n",
    "\n",
    "    '''\n",
    "    Moving Target Indicator (MTI) Filter:\n",
    "        * Suppress echos from clutter\n",
    "        * Clutter is stationary or close to stationary\n",
    "        * The MTI filter is a high pass filter that filters\n",
    "          out the low Doppler frequencies\n",
    "    Information taken from\n",
    "    http://www.diva-portal.se/smash/get/diva2:1143293/FULLTEXT01.pdf section 5.1\n",
    "    '''\n",
    "    x = data_range.shape[1]\n",
    "    # set ns to nearest even number to x\n",
    "    if x % 2 == 0:\n",
    "        ns = x\n",
    "    else:\n",
    "        ns = x - 1\n",
    "    data_range_MTI = np.zeros((data_range.shape[0], ns), dtype=np.complex128)\n",
    "    # create filter\n",
    "    (b, a) = butter(4, 0.01, btype=\"high\")\n",
    "    # apply filter\n",
    "    for i in range(data_range.shape[0]):\n",
    "        data_range_MTI[i, :ns] = lfilter(b, a, data_range[i, :ns], axis=0)\n",
    "   \n",
    "    \n",
    "    # Spectrogram processing for 2nd FFT to get Doppler FFT\n",
    "    bin_indl = 5\n",
    "    bin_indu = 25\n",
    "    time_window_length = 200\n",
    "    overlap_factor = 0.95\n",
    "    overlap_length = np.round(time_window_length * overlap_factor)\n",
    "    pad_factor = 4\n",
    "    fft_points = pad_factor * time_window_length\n",
    "\n",
    "    data_spec_MTI2 = 0\n",
    "    for rbin in range(bin_indl - 1, bin_indu):\n",
    "        s, f, t = mlab.specgram(data_range_MTI[rbin, :],\n",
    "                                Fs=1,\n",
    "                                window=np.hamming(time_window_length),\n",
    "                                noverlap=overlap_length,\n",
    "                                NFFT=time_window_length,\n",
    "                                mode='complex',\n",
    "                                pad_to=fft_points)\n",
    "\n",
    "        data_spec_MTI2 = data_spec_MTI2 + abs(s)\n",
    "\n",
    "    window_size = int(window_length * 100)\n",
    "    iterations = data_spec_MTI2.shape[1] - window_size\n",
    "    step_size = 10  # 0.1 seconds\n",
    "    spectrograms = []\n",
    "    for i in range(0, iterations, step_size):\n",
    "        center = int(data_spec_MTI2.shape[0]/2)\n",
    "        data_spec_small = data_spec_MTI2[(center-150):(center+150), i:(i + window_size)]\n",
    "        spectrograms.append(data_spec_small)\n",
    "\n",
    "    return spectrograms"
   ]
  },
  {
   "cell_type": "markdown",
   "metadata": {
    "colab_type": "text",
    "id": "Qn5ztmz_CRe_"
   },
   "source": [
    "## Create spectrograms from the raw data files"
   ]
  },
  {
   "cell_type": "code",
   "execution_count": 9,
   "metadata": {
    "colab": {},
    "colab_type": "code",
    "id": "bLv3Yv6xkJl0"
   },
   "outputs": [],
   "source": [
    "df_labels = pd.read_csv(INTERIM_PATH + 'Labels.csv')\n",
    "df_labels.rename(columns={'dataset ID': 'dataset_id'}, inplace=True)\n",
    "df_labels[\"label\"] = df_labels.movement.apply(find_label)\n",
    "df_labels[\"user_label\"] = df_labels.person.apply(assign_user_label)\n",
    "df_labels[\"aspect_angle\"] = df_labels.angle.apply(identify_angle)\n",
    "df_labels[\"on_place\"] = df_labels.angle.apply(is_on_place)"
   ]
  },
  {
   "cell_type": "code",
   "execution_count": 10,
   "metadata": {
    "colab": {},
    "colab_type": "code",
    "id": "5qmhqx3ukJmF"
   },
   "outputs": [],
   "source": [
    "image_width = 150\n",
    "image_height = 150\n",
    "minimum_value = 35\n",
    "norm = colors.Normalize(vmin=minimum_value, vmax=None, clip=True)"
   ]
  },
  {
   "cell_type": "code",
   "execution_count": 11,
   "metadata": {
    "colab": {},
    "colab_type": "code",
    "id": "Ulc8rbMDkJmU",
    "outputId": "6b572686-e162-479c-a909-13d8cea26b17",
    "scrolled": false
   },
   "outputs": [],
   "source": [
    "number_of_rows = df_labels.shape[0]\n",
    "current_row = 1\n",
    "for row in df_labels.itertuples():\n",
    "    print(\"Processing row\", current_row, \"of\", number_of_rows)\n",
    "    file_name = INTERIM_PATH + \"Dataset_\" + str(row.dataset_id) + \".dat\"\n",
    "    file_path = make_directory(\n",
    "        PROCESSED_PATH, WINDOW_LENGTH, row.user_label, row.aspect_angle, row.label)\n",
    "    \n",
    "    radar_df = pd.read_csv(file_name, header=None)[1]\n",
    "    \n",
    "    spectrograms = make_spectrograms(radar_df, WINDOW_LENGTH)\n",
    "\n",
    "    count = 1\n",
    "    for spectrogram in spectrograms:\n",
    "        fig = plt.figure(frameon=False)\n",
    "        fig.set_size_inches(image_width, image_height)\n",
    "        ax = plt.Axes(fig, [0., 0., 1., 1.])\n",
    "        ax.set_axis_off()\n",
    "        fig.add_axes(ax)\n",
    "        ax.imshow(20 * np.log10(abs(spectrogram)), cmap='jet', norm=norm)\n",
    "        fig.savefig(file_path + \"/\" + str(current_row) + \"_\" + str(count)+\".png\", dpi=1)\n",
    "        plt.close(fig)\n",
    "        count += 1\n",
    "\n",
    "    current_row += 1"
   ]
  },
  {
   "cell_type": "code",
   "execution_count": 0,
   "metadata": {
    "colab": {},
    "colab_type": "code",
    "id": "c6-Qx383kJmn"
   },
   "outputs": [],
   "source": []
  }
 ],
 "metadata": {
  "colab": {
   "collapsed_sections": [
    "kWRH8tAIB2iD",
    "PnjLnmTQB9CA"
   ],
   "name": "4_interim_dataset_creation_doppler_spectrogram.ipynb",
   "provenance": [],
   "version": "0.3.2"
  },
  "kernelspec": {
   "display_name": "Python 3",
   "language": "python",
   "name": "python3"
  },
  "language_info": {
   "codemirror_mode": {
    "name": "ipython",
    "version": 3
   },
   "file_extension": ".py",
   "mimetype": "text/x-python",
   "name": "python",
   "nbconvert_exporter": "python",
   "pygments_lexer": "ipython3",
   "version": "3.6.6"
  }
 },
 "nbformat": 4,
 "nbformat_minor": 1
}
