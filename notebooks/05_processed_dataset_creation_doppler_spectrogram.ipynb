{
 "cells": [
  {
   "cell_type": "markdown",
   "metadata": {
    "colab_type": "text",
    "id": "YivRzYk_TaGP"
   },
   "source": [
    "Creation of Doppler datasets for CNN models from spectogram images"
   ]
  },
  {
   "cell_type": "code",
   "execution_count": 17,
   "metadata": {
    "colab": {},
    "colab_type": "code",
    "id": "-wfhl6Z5TW4l"
   },
   "outputs": [
    {
     "name": "stdout",
     "output_type": "stream",
     "text": [
      "The autoreload extension is already loaded. To reload it, use:\n",
      "  %reload_ext autoreload\n"
     ]
    }
   ],
   "source": [
    "# Needed for notebook version\n",
    "%matplotlib inline\n",
    "# Needed to allow editing using PyCharm\n",
    "%load_ext autoreload\n",
    "%autoreload 2"
   ]
  },
  {
   "cell_type": "code",
   "execution_count": 18,
   "metadata": {
    "colab": {
     "base_uri": "https://localhost:8080/",
     "height": 146.0
    },
    "colab_type": "code",
    "executionInfo": {
     "elapsed": 13406.0,
     "status": "ok",
     "timestamp": 1.548846005674E12,
     "user": {
      "displayName": "Andrew Mackay",
      "photoUrl": "https://lh3.googleusercontent.com/-24hiGmdxZDE/AAAAAAAAAAI/AAAAAAAAL_I/RW7nqM11LkM/s64/photo.jpg",
      "userId": "06804410358976473893"
     },
     "user_tz": 0.0
    },
    "id": "uDyGC6hrTW5K",
    "outputId": "f81c1c5c-f371-490c-ee33-d80dc6043dc0"
   },
   "outputs": [],
   "source": [
    "import os\n",
    "if os.getcwd() == '/content':\n",
    "    from google.colab import drive\n",
    "    drive.mount('/content/gdrive')\n",
    "    BASE_PATH = '/content/gdrive/My Drive/Level-4-Project/'\n",
    "    !cd gdrive/My\\ Drive/Level-4-Project/ && pip install --editable .\n",
    "    os.chdir('gdrive/My Drive/Level-4-Project/')\n",
    "    \n",
    "elif os.getcwd() == 'D:\\\\Google Drive\\\\Level-4-Project\\\\notebooks' or os.getcwd() == 'D:\\\\Google Drive\\\\Level-4-Project\\\\src\\\\features':\n",
    "    BASE_PATH = \"D:/Google Drive/Level-4-Project/\"\n",
    "    \n",
    "else:\n",
    "    BASE_PATH = \"/export/home/2192793m/Level-4-Project/\"\n",
    "    \n",
    "INTERIM_PATH = BASE_PATH + 'data/interim/doppler_spectrograms/'\n",
    "PROCESSED_PATH = BASE_PATH + 'data/processed/doppler_spectrograms/'\n",
    "if not os.path.exists(PROCESSED_PATH):\n",
    "    os.makedirs(PROCESSED_PATH)"
   ]
  },
  {
   "cell_type": "code",
   "execution_count": 19,
   "metadata": {
    "colab": {},
    "colab_type": "code",
    "id": "QCbpTiwPTW5h"
   },
   "outputs": [],
   "source": [
    "import numpy as np\n",
    "import matplotlib.pyplot as plt\n",
    "import pickle\n",
    "from PIL import Image\n",
    "import glob"
   ]
  },
  {
   "cell_type": "code",
   "execution_count": 20,
   "metadata": {
    "colab": {},
    "colab_type": "code",
    "id": "HDhkSG2yTW6K"
   },
   "outputs": [],
   "source": [
    "IMAGE_SIZE = (75, 75)"
   ]
  },
  {
   "cell_type": "code",
   "execution_count": 21,
   "metadata": {
    "colab": {},
    "colab_type": "code",
    "id": "UJwXpovMTW6l"
   },
   "outputs": [],
   "source": [
    "def process_image(path):\n",
    "    img = Image.open(path)  # open image 150x150\n",
    "    img = img.resize(IMAGE_SIZE, Image.ANTIALIAS) # resize to 75x75\n",
    "    img = img.convert('L')  # convert to grayscale\n",
    "    img = (np.array(img))  # convert to numpy array \n",
    "    return img"
   ]
  },
  {
   "cell_type": "code",
   "execution_count": 22,
   "metadata": {
    "colab": {},
    "colab_type": "code",
    "id": "ld_iaqSgTW67"
   },
   "outputs": [],
   "source": [
    "def convert_label_to_int(label):\n",
    "    if label == \"walking\":\n",
    "        return 0\n",
    "    if label == \"pushing\":\n",
    "        return 1\n",
    "    if label == \"sitting\":\n",
    "        return 2\n",
    "    if label == \"pulling\":\n",
    "        return 3\n",
    "    if label == \"circling\":\n",
    "        return 4\n",
    "    if label == \"clapping\":\n",
    "        return 5\n",
    "    if label == \"bending\":\n",
    "        return 6"
   ]
  },
  {
   "cell_type": "code",
   "execution_count": 23,
   "metadata": {
    "colab": {},
    "colab_type": "code",
    "id": "g8_tkMhyTW7K"
   },
   "outputs": [],
   "source": [
    "# Specify window time length here\n",
    "WINDOW_LENGTH = \"3\"\n",
    "# WINDOW_LENGTH = \"2\"\n",
    "# WINDOW_LENGTH = \"1_5\"\n",
    "# WINDOW_LENGTH = \"1\""
   ]
  },
  {
   "cell_type": "markdown",
   "metadata": {
    "colab_type": "text",
    "id": "3sOwa5peTW7g"
   },
   "source": [
    "# Split by User\n",
    "* Datasets for 1, 1.5, 2 and 3 seconds\n",
    "* 0 degrees\n",
    "* All movemnets\n",
    "* Train on all but one user, test on remaining user"
   ]
  },
  {
   "cell_type": "code",
   "execution_count": 24,
   "metadata": {
    "colab": {},
    "colab_type": "code",
    "id": "pkxWjMAnTW7l"
   },
   "outputs": [],
   "source": [
    "user_a_data = []\n",
    "user_a_labels = []\n",
    "user_b_data = []\n",
    "user_b_labels = []\n",
    "user_c_data = []\n",
    "user_c_labels = []\n",
    "user_d_data = []\n",
    "user_d_labels = []\n",
    "user_e_data = []\n",
    "user_e_labels = []\n",
    "user_f_data = []\n",
    "user_f_labels = []"
   ]
  },
  {
   "cell_type": "code",
   "execution_count": 27,
   "metadata": {
    "colab": {},
    "colab_type": "code",
    "id": "XlJ_ame2TW75"
   },
   "outputs": [
    {
     "name": "stdout",
     "output_type": "stream",
     "text": [
      "D:/Google Drive/Level-4-Project/data/interim/doppler_spectrograms/3\\A\\0\\bending\\21_1.png\n"
     ]
    }
   ],
   "source": [
    "for path in glob.glob(INTERIM_PATH + WINDOW_LENGTH + \"/*/0/*/*.png\"):\n",
    "    split_path = path.split(\"/\")\n",
    "    user = split_path[-4]\n",
    "    label = split_path[-2]\n",
    "    if user == \"A\":\n",
    "        user_a_labels.append(convert_label_to_int(label))\n",
    "        user_a_data.append(process_image(path))\n",
    "    \n",
    "    elif user == \"B\":\n",
    "        user_b_labels.append(convert_label_to_int(label))\n",
    "        user_b_data.append(process_image(path))\n",
    "        \n",
    "    elif user == \"C\":\n",
    "        user_c_labels.append(convert_label_to_int(label))\n",
    "        user_c_data.append(process_image(path))        \n",
    "\n",
    "    elif user == \"D\":\n",
    "        user_d_labels.append(convert_label_to_int(label))\n",
    "        user_d_data.append(process_image(path)) \n",
    "        \n",
    "    elif user == \"E\":\n",
    "        user_e_labels.append(convert_label_to_int(label))\n",
    "        user_e_data.append(process_image(path)) \n",
    "        \n",
    "    elif user == \"F\":\n",
    "        user_f_labels.append(convert_label_to_int(label))\n",
    "        user_f_data.append(process_image(path)) "
   ]
  },
  {
   "cell_type": "code",
   "execution_count": 10,
   "metadata": {
    "colab": {},
    "colab_type": "code",
    "id": "v47byR_wXCSm"
   },
   "outputs": [],
   "source": [
    "def save_user_set(user_letter, user_data, user_labels, window_length):\n",
    "    save_path = PROCESSED_PATH + window_length + '/'\n",
    "    if not os.path.exists(save_path):\n",
    "        os.makedirs(save_path)\n",
    "    \n",
    "    with open(save_path + user_letter + \"_data.pkl\", \"wb\") as data_file:\n",
    "        pickle.dump(np.array(user_data, np.uint8), data_file)\n",
    "        \n",
    "    with open(save_path + user_letter + \"_labels.pkl\", \"wb\") as labels_file:\n",
    "        pickle.dump(np.array(user_labels, np.uint8), labels_file)"
   ]
  },
  {
   "cell_type": "markdown",
   "metadata": {
    "colab_type": "text",
    "id": "_9mmkJ2XWYfu"
   },
   "source": [
    "## Save Users Datasets"
   ]
  },
  {
   "cell_type": "code",
   "execution_count": 11,
   "metadata": {
    "colab": {},
    "colab_type": "code",
    "id": "YRntBfgsZTkA"
   },
   "outputs": [],
   "source": [
    "save_user_set('A', user_a_data, user_a_labels, WINDOW_LENGTH)"
   ]
  },
  {
   "cell_type": "code",
   "execution_count": 12,
   "metadata": {
    "colab": {},
    "colab_type": "code",
    "id": "PlC_l7BwZoQj"
   },
   "outputs": [],
   "source": [
    "save_user_set('B', user_b_data, user_b_labels, WINDOW_LENGTH)"
   ]
  },
  {
   "cell_type": "code",
   "execution_count": 13,
   "metadata": {
    "colab": {},
    "colab_type": "code",
    "id": "UIiENAilZo8_"
   },
   "outputs": [],
   "source": [
    "save_user_set('C', user_c_data, user_c_labels, WINDOW_LENGTH)"
   ]
  },
  {
   "cell_type": "code",
   "execution_count": 14,
   "metadata": {
    "colab": {},
    "colab_type": "code",
    "id": "Ej5rbj9aZpTU"
   },
   "outputs": [],
   "source": [
    "save_user_set('D', user_d_data, user_d_labels, WINDOW_LENGTH)"
   ]
  },
  {
   "cell_type": "code",
   "execution_count": 15,
   "metadata": {
    "colab": {},
    "colab_type": "code",
    "id": "lBopuK7cZp_d"
   },
   "outputs": [],
   "source": [
    "save_user_set('E', user_e_data, user_e_labels, WINDOW_LENGTH)"
   ]
  },
  {
   "cell_type": "code",
   "execution_count": 16,
   "metadata": {
    "colab": {},
    "colab_type": "code",
    "id": "gRR_JtW_ZqU9"
   },
   "outputs": [],
   "source": [
    "save_user_set('F', user_f_data, user_f_labels, WINDOW_LENGTH)"
   ]
  },
  {
   "cell_type": "code",
   "execution_count": 0,
   "metadata": {
    "colab": {},
    "colab_type": "code",
    "id": "khuN2hr8TW_a"
   },
   "outputs": [],
   "source": []
  }
 ],
 "metadata": {
  "colab": {
   "collapsed_sections": [],
   "name": "5_processed_dataset_creation_doppler_spectrogram.ipynb",
   "provenance": [],
   "version": "0.3.2"
  },
  "kernelspec": {
   "display_name": "Python 3",
   "language": "python",
   "name": "python3"
  },
  "language_info": {
   "codemirror_mode": {
    "name": "ipython",
    "version": 3
   },
   "file_extension": ".py",
   "mimetype": "text/x-python",
   "name": "python",
   "nbconvert_exporter": "python",
   "pygments_lexer": "ipython3",
   "version": "3.6.6"
  }
 },
 "nbformat": 4,
 "nbformat_minor": 1
}
