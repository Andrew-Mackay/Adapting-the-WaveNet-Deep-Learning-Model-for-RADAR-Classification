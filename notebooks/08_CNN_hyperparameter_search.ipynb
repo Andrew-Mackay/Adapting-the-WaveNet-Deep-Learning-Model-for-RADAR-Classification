{
 "cells": [
  {
   "cell_type": "markdown",
   "metadata": {
    "colab_type": "text",
    "id": "chTLQ4gzP4zb"
   },
   "source": [
    "# Hyperparameter search over CNN model based on 5-fold cross-validation\n",
    "Performs a search over the hyperparameter space for the CNN model to try and find a more optimal parameter configuration.\n",
    "\n",
    "User c is completely removed as this is the test set.\n",
    "\n",
    "The remaining users A,B,D,E and F make up each fold.\n",
    "\n",
    "For example, fold 1 will train on users B,D,E and F then evaluate on A (and so on for each fold)."
   ]
  },
  {
   "cell_type": "markdown",
   "metadata": {
    "colab_type": "text",
    "id": "bZxhO7V0ZHUE"
   },
   "source": [
    "## Notebook setup"
   ]
  },
  {
   "cell_type": "markdown",
   "metadata": {
    "colab_type": "text",
    "id": "x5jAnxaaZLzZ"
   },
   "source": [
    "Allow editing of modules using editor (auto reloading)"
   ]
  },
  {
   "cell_type": "code",
   "execution_count": 1,
   "metadata": {
    "colab": {},
    "colab_type": "code",
    "id": "TGNeUj-JDXhs"
   },
   "outputs": [],
   "source": [
    "# Plot graphs inline\n",
    "%matplotlib inline"
   ]
  },
  {
   "cell_type": "markdown",
   "metadata": {
    "colab_type": "text",
    "id": "QwLbqieVYIJt"
   },
   "source": [
    "The following cell is needed for compatibility when using both CoLab and Local Jupyter notebook. It sets the appropriate file path for the data."
   ]
  },
  {
   "cell_type": "code",
   "execution_count": 2,
   "metadata": {
    "colab": {
     "base_uri": "https://localhost:8080/",
     "height": 121.0
    },
    "colab_type": "code",
    "executionInfo": {
     "elapsed": 24113.0,
     "status": "ok",
     "timestamp": 1.549270871541E12,
     "user": {
      "displayName": "Andrew Mackay",
      "photoUrl": "https://lh3.googleusercontent.com/-24hiGmdxZDE/AAAAAAAAAAI/AAAAAAAAL_I/RW7nqM11LkM/s64/photo.jpg",
      "userId": "06804410358976473893"
     },
     "user_tz": 0.0
    },
    "id": "3XeU0HtoDXh6",
    "outputId": "1b60d85a-0177-4fb5-f217-e79045886e92"
   },
   "outputs": [],
   "source": [
    "import os\n",
    "path = os.getcwd()\n",
    "if path == '/content':\n",
    "    from google.colab import drive\n",
    "    drive.mount('/content/gdrive')\n",
    "    BASE_PATH = '/content/gdrive/My Drive/Level-4-Project/'\n",
    "    os.chdir('gdrive/My Drive/Level-4-Project/')\n",
    "    \n",
    "elif path == 'D:\\\\Google Drive\\\\Level-4-Project\\\\notebooks':\n",
    "    BASE_PATH = \"D:/Google Drive/Level-4-Project/\"\n",
    "    \n",
    "elif path == \"/export/home/2192793m\":\n",
    "    BASE_PATH = \"/export/home/2192793m/Level-4-Project/\"\n",
    "    \n",
    "DATA_PATH = BASE_PATH + 'data/processed/doppler_spectrograms/3/'\n",
    "\n",
    "RESULTS_PATH = BASE_PATH + 'results/CNN_hyperparameter_search/'\n",
    "if not os.path.exists(RESULTS_PATH):\n",
    "    os.makedirs(RESULTS_PATH)"
   ]
  },
  {
   "cell_type": "markdown",
   "metadata": {
    "colab_type": "text",
    "id": "rgYwaq1eZb5u"
   },
   "source": [
    "Import remaining packages"
   ]
  },
  {
   "cell_type": "code",
   "execution_count": 3,
   "metadata": {
    "colab": {
     "base_uri": "https://localhost:8080/",
     "height": 34.0
    },
    "colab_type": "code",
    "executionInfo": {
     "elapsed": 4051.0,
     "status": "ok",
     "timestamp": 1.549270872737E12,
     "user": {
      "displayName": "Andrew Mackay",
      "photoUrl": "https://lh3.googleusercontent.com/-24hiGmdxZDE/AAAAAAAAAAI/AAAAAAAAL_I/RW7nqM11LkM/s64/photo.jpg",
      "userId": "06804410358976473893"
     },
     "user_tz": 0.0
    },
    "id": "x8rzmlEhpe_R",
    "outputId": "8681c085-e41a-4e6b-ceda-e23976ef82ae"
   },
   "outputs": [
    {
     "name": "stderr",
     "output_type": "stream",
     "text": [
      "Using TensorFlow backend.\n"
     ]
    }
   ],
   "source": [
    "import numpy as np\n",
    "from keras.optimizers import SGD, Adam\n",
    "from keras.utils import np_utils\n",
    "import pickle\n",
    "from keras.models import Sequential\n",
    "from keras.layers import Dense, Dropout, Flatten\n",
    "from keras.layers import Convolution2D, MaxPooling2D\n",
    "import matplotlib.pyplot as plt"
   ]
  },
  {
   "cell_type": "code",
   "execution_count": 4,
   "metadata": {
    "colab": {
     "base_uri": "https://localhost:8080/",
     "height": 252.0
    },
    "colab_type": "code",
    "executionInfo": {
     "elapsed": 12708.0,
     "status": "ok",
     "timestamp": 1.549270882241E12,
     "user": {
      "displayName": "Andrew Mackay",
      "photoUrl": "https://lh3.googleusercontent.com/-24hiGmdxZDE/AAAAAAAAAAI/AAAAAAAAL_I/RW7nqM11LkM/s64/photo.jpg",
      "userId": "06804410358976473893"
     },
     "user_tz": 0.0
    },
    "id": "tk_HAyYKYrI8",
    "outputId": "fd614d8d-ad72-4341-d75b-c83befe436be"
   },
   "outputs": [],
   "source": [
    "# needed for CheckpointSaver (not in release yet but very useful)\n",
    "# https://github.com/scikit-optimize/scikit-optimize/issues/678\n",
    "# ! pip install git+https://github.com/scikit-optimize/scikit-optimize/ \n",
    "    \n",
    "from skopt import gp_minimize\n",
    "from skopt.space import Real, Integer, Categorical\n",
    "from skopt.utils import use_named_args\n",
    "from skopt.callbacks import CheckpointSaver\n",
    "from skopt import dump, load"
   ]
  },
  {
   "cell_type": "code",
   "execution_count": 5,
   "metadata": {
    "colab": {},
    "colab_type": "code",
    "id": "PsHOJ9lEpe_V"
   },
   "outputs": [],
   "source": [
    "# Needed as originally code was for theano backend but now using tensor flow\n",
    "from keras import backend as K\n",
    "K.set_image_dim_ordering('th')"
   ]
  },
  {
   "cell_type": "code",
   "execution_count": 6,
   "metadata": {},
   "outputs": [],
   "source": [
    "RUN_SEARCH = False\n",
    "SAVE_GRAPHS = False"
   ]
  },
  {
   "cell_type": "markdown",
   "metadata": {
    "colab_type": "text",
    "id": "ssk69nuAiB68"
   },
   "source": [
    "## Experiment Setup"
   ]
  },
  {
   "cell_type": "code",
   "execution_count": 7,
   "metadata": {
    "colab": {},
    "colab_type": "code",
    "id": "5r9302zCpe_j"
   },
   "outputs": [],
   "source": [
    "target_names = [\"walking\", \"pushing\", \"sitting\", \"pulling\",\n",
    "                \"circling\", \"clapping\", \"bending\"]\n",
    "nb_classes = len(target_names)\n",
    "\n",
    "# input image dimensions\n",
    "img_rows, img_cols = 75, 75\n",
    "# user c excluded as this is reserved for final evaluation\n",
    "users = [\"A\", \"B\", \"D\", \"E\", \"F\"] "
   ]
  },
  {
   "cell_type": "code",
   "execution_count": 8,
   "metadata": {
    "colab": {},
    "colab_type": "code",
    "id": "C1f1naWmkElm"
   },
   "outputs": [],
   "source": [
    "def load_data(user_letter):\n",
    "    \"\"\"\n",
    "    load the data and labels associated with a particular user/subject (interchangeable)\n",
    "    :param user_letter: Letter representing subject/user (A-F)\n",
    "    :type user_letter: str\n",
    "    :return: data and labels\n",
    "    :rtype: tuple of the form (data, labels)\n",
    "    \"\"\"\n",
    "    with open(DATA_PATH + user_letter + \"_data.pkl\", 'rb') as data_file:\n",
    "        data = pickle.load(data_file)\n",
    "        data = data.reshape(data.shape[0], 1, 75, 75)\n",
    "        \n",
    "    with open(DATA_PATH + user_letter + \"_labels.pkl\", 'rb') as labels_file:\n",
    "        labels = pickle.load(labels_file)\n",
    "        labels = np.reshape(labels, (len(labels), 1))\n",
    "\n",
    "        \n",
    "    return data, labels"
   ]
  },
  {
   "cell_type": "code",
   "execution_count": 9,
   "metadata": {
    "colab": {},
    "colab_type": "code",
    "id": "g_bsC10bq026"
   },
   "outputs": [],
   "source": [
    "datasets = {}\n",
    "for user in users:\n",
    "    data, labels = load_data(user)\n",
    "    datasets[user] = {\"data\":data, \"labels\":labels}"
   ]
  },
  {
   "cell_type": "code",
   "execution_count": 10,
   "metadata": {
    "colab": {},
    "colab_type": "code",
    "id": "ymyzQSDQiRL3"
   },
   "outputs": [],
   "source": [
    "def split_train_validation(validation_user):\n",
    "    \"\"\"\n",
    "    Splits the data into a train and validation set.\n",
    "    The validation set is composed of the subject specified, the training set of the remaining subjects.\n",
    "    :param validation_user: Subject to use for validation set (A-F)\n",
    "    :type validation_user: str\n",
    "    :return: data and labels for the train and validation set\n",
    "    :rtype: dictionary with keys \"train_data\", \"train_labels\", \"validation_data\" and \"validation_labels\"\n",
    "    \"\"\"\n",
    "    train_data = None\n",
    "    train_labels = None\n",
    "    first_round = True\n",
    "    validation_data = []\n",
    "    validation_labels = []\n",
    "    for user in users:\n",
    "        data = datasets[user][\"data\"]\n",
    "        labels = datasets[user][\"labels\"]\n",
    "        if user == validation_user:\n",
    "            validation_data = data\n",
    "            validation_labels = labels\n",
    "            \n",
    "        else:\n",
    "            if first_round:\n",
    "                train_data = data\n",
    "                train_labels = labels\n",
    "                first_round = False\n",
    "            else:\n",
    "                train_data = np.concatenate((train_data, data))\n",
    "                train_labels = np.concatenate((train_labels, labels))\n",
    "            \n",
    "    train_labels = np_utils.to_categorical(train_labels, nb_classes)\n",
    "    validation_labels = np_utils.to_categorical(validation_labels, nb_classes)\n",
    "    train_data = train_data.astype('float32')\n",
    "    validation_data = validation_data.astype('float32')\n",
    "    train_data /= 255\n",
    "    validation_data /= 255 \n",
    "    \n",
    "    return {\n",
    "        \"train_data\": train_data,\n",
    "        \"train_labels\": train_labels,\n",
    "        \"validation_data\": validation_data,\n",
    "        \"validation_labels\": validation_labels\n",
    "       }"
   ]
  },
  {
   "cell_type": "markdown",
   "metadata": {
    "colab_type": "text",
    "id": "qK0TcJIfsz7q"
   },
   "source": [
    "## Define Model"
   ]
  },
  {
   "cell_type": "code",
   "execution_count": 11,
   "metadata": {
    "colab": {},
    "colab_type": "code",
    "id": "_e0io4rM1O6N"
   },
   "outputs": [],
   "source": [
    "def make_model(nb_filters, img_rows, img_cols, nb_classes, activation,\n",
    "               dropout, num_dense_nodes, num_dense_layers,\n",
    "               kernel_size, pooling_size):\n",
    "    \"\"\"\n",
    "    Make and return the CNN model\n",
    "    :param nb_filters: Number of filters to use in layers 1,2 and 3,4 respectively\n",
    "    :type nb_filters: str containing the number of filters for the first two layers followed by \n",
    "    the last two layers, for example: \"16-32\"\n",
    "    :param img_rows: image height\n",
    "    :type img_rows: int\n",
    "    :param img_cols: image width\n",
    "    :type img_cols: int\n",
    "    :param nb_classes: Number of classes to be predicted\n",
    "    :type nb_classes: int\n",
    "    :param activation: Activation function to use after each conv and dense layer\n",
    "    :type activation: Keras activation function\n",
    "    :param dropout: dropout rate for dropout layers\n",
    "    :type dropout: float\n",
    "    :param num_dense_nodes: number of dense nodes in dense layer\n",
    "    :type num_dense_nodes: int\n",
    "    :param num_dense_layers: number of dense layers\n",
    "    :type num_dense_layers: int\n",
    "    :param kernel_size: kernel size to use\n",
    "    :type kernel_size: int but will be converted to tuple (int, int) \n",
    "                        internally as kernel is a square\n",
    "    :param pooling_size: pool size\n",
    "    :type pooling_size: int but will be converted to tuple (int, int)\n",
    "                        internally as requires vertical and horizontal\n",
    "    :return: CNN model\n",
    "    :rtype: Keras sequential model\n",
    "    \"\"\"\n",
    "    kernel_size = (kernel_size, kernel_size)\n",
    "    pooling_size = (pooling_size, pooling_size)\n",
    "    \n",
    "    model = Sequential(name=nb_filters)\n",
    "    nb_filters = nb_filters.split(\"-\")\n",
    "    size_1 = int(nb_filters[0])\n",
    "    size_2 = int(nb_filters[1])\n",
    "\n",
    "    model.add(Convolution2D(size_1, kernel_size, padding='same',\n",
    "                            input_shape=(1, img_rows, img_cols),\n",
    "                            activation=activation))\n",
    "    model.add(Convolution2D(size_1, kernel_size, activation=activation))\n",
    "    model.add(MaxPooling2D(pool_size=pooling_size))\n",
    "    model.add(Dropout(dropout))\n",
    "\n",
    "    model.add(Convolution2D(size_2, kernel_size, padding='same',\n",
    "                            activation=activation))\n",
    "    model.add(Convolution2D(size_2, kernel_size, activation=activation))\n",
    "    model.add(MaxPooling2D(pool_size=pooling_size))\n",
    "    model.add(Dropout(dropout))\n",
    "\n",
    "    model.add(Flatten())\n",
    "    for i in range(num_dense_layers):\n",
    "        model.add(Dense(num_dense_nodes, activation=activation))\n",
    "    model.add(Dropout(dropout))\n",
    "    model.add(Dense(nb_classes, activation='softmax'))\n",
    "    return model"
   ]
  },
  {
   "cell_type": "markdown",
   "metadata": {
    "colab_type": "text",
    "id": "rhFcRSbwZCCw"
   },
   "source": [
    "## Hyperparameter Search"
   ]
  },
  {
   "cell_type": "markdown",
   "metadata": {
    "colab_type": "text",
    "id": "DeW2AmQ2ZGFC"
   },
   "source": [
    "### Fixed Parameters"
   ]
  },
  {
   "cell_type": "code",
   "execution_count": 12,
   "metadata": {
    "colab": {},
    "colab_type": "code",
    "id": "3ndLxKnSZEu-"
   },
   "outputs": [],
   "source": [
    "nb_epoch = 30  # 30"
   ]
  },
  {
   "cell_type": "markdown",
   "metadata": {
    "colab_type": "text",
    "id": "CsyeQlBQZUle"
   },
   "source": [
    "### Parameters to Search"
   ]
  },
  {
   "cell_type": "code",
   "execution_count": 13,
   "metadata": {
    "colab": {},
    "colab_type": "code",
    "id": "OAqGS4oWZXE-"
   },
   "outputs": [],
   "source": [
    "space = [\n",
    "    Categorical(['adam', 'sgd_standard', 'sgd_nestrov'], name='optimizer'),\n",
    "    Real(0.0001, 0.1, \"log-uniform\", name='learning_rate'),\n",
    "    Categorical(['relu', 'sigmoid', 'tanh'], name='activation'),\n",
    "    Real(0.1, 0.9, name='dropout'),\n",
    "    Integer(16, 1024, name='num_dense_nodes'),\n",
    "    Integer(1, 3, name='num_dense_layers'),\n",
    "    Integer(2, 5, name='kernel_size'),\n",
    "    Integer(2, 4, name='pooling_size'),\n",
    "    Integer(8, 1024, name='batch_size')\n",
    "]"
   ]
  },
  {
   "cell_type": "markdown",
   "metadata": {
    "colab_type": "text",
    "id": "GmvMHPqiZP6x"
   },
   "source": [
    "### Objective Function to Minimize"
   ]
  },
  {
   "cell_type": "code",
   "execution_count": 14,
   "metadata": {
    "colab": {},
    "colab_type": "code",
    "id": "AzWFM-axZS2V"
   },
   "outputs": [],
   "source": [
    "@use_named_args(space)\n",
    "def objective(**params):\n",
    "    \"\"\"\n",
    "    Objective function to be minimised during search. Returns negative average validation accuracy from five folds.\n",
    "    Negative returned as function is minimised.\n",
    "    :return: -(average validation accuracy from five-fold cross-validation)\n",
    "    :rtype: float\n",
    "    \"\"\"\n",
    "    average_accuracy = 0\n",
    "    average_loss = 0\n",
    "    for user in users:\n",
    "        data_split = split_train_validation(user)\n",
    "        train_data = data_split[\"train_data\"]\n",
    "        train_labels = data_split[\"train_labels\"]\n",
    "        validation_data = data_split[\"validation_data\"]\n",
    "        validation_labels = data_split[\"validation_labels\"]\n",
    "\n",
    "        model = make_model(\"8-16\", img_rows, img_cols, nb_classes,\n",
    "                           params[\"activation\"], params['dropout'],\n",
    "                           params['num_dense_nodes'],\n",
    "                           params['num_dense_layers'], params['kernel_size'],\n",
    "                           params['pooling_size'])\n",
    "        if params['optimizer'] == 'adam':\n",
    "            selected_optimizer = Adam(lr=params['learning_rate'])\n",
    "            \n",
    "        elif params['optimizer'] == 'sgd_standard':\n",
    "            selected_optimizer = SGD(lr=params['learning_rate'])\n",
    "            \n",
    "        else:\n",
    "            # nestrov momentum\n",
    "            selected_optimizer = SGD(lr=params['learning_rate'], decay=1e-6, \n",
    "                                     momentum=0.9, nesterov=True)\n",
    "            \n",
    "        model.compile(loss='categorical_crossentropy',\n",
    "                      optimizer=selected_optimizer,\n",
    "                      metrics=['accuracy'])\n",
    "\n",
    "        model.fit(\n",
    "            train_data,\n",
    "            train_labels,\n",
    "            batch_size=params['batch_size'],\n",
    "            epochs=nb_epoch,\n",
    "            shuffle=True, \n",
    "            verbose=1)\n",
    "\n",
    "        evaluation = model.evaluate(validation_data, validation_labels,\n",
    "                                    batch_size=params['batch_size'], verbose=0)\n",
    "\n",
    "        average_loss += evaluation[0]\n",
    "        average_accuracy += evaluation[1]\n",
    "        \n",
    "    return -(average_accuracy/len(users))  # return negative as minimizing"
   ]
  },
  {
   "cell_type": "markdown",
   "metadata": {
    "colab_type": "text",
    "id": "oU1PMTWxbA8A"
   },
   "source": [
    "### Callbacks"
   ]
  },
  {
   "cell_type": "code",
   "execution_count": 15,
   "metadata": {
    "colab": {},
    "colab_type": "code",
    "id": "kZIFbhblcFTD"
   },
   "outputs": [],
   "source": [
    "checkpoint = CheckpointSaver(RESULTS_PATH + \"res_gp_checkpoint.pkl\")\n",
    "callbacks_list = [checkpoint]"
   ]
  },
  {
   "cell_type": "markdown",
   "metadata": {
    "colab_type": "text",
    "id": "rfd4x0jxsY6S"
   },
   "source": [
    "### Load checkpoint\n",
    "Used if search was interupted before it could finish"
   ]
  },
  {
   "cell_type": "code",
   "execution_count": 16,
   "metadata": {
    "colab": {},
    "colab_type": "code",
    "id": "hTA-T_0QsiY2"
   },
   "outputs": [],
   "source": [
    "LOAD_CHECKPOINT = False"
   ]
  },
  {
   "cell_type": "code",
   "execution_count": 17,
   "metadata": {
    "colab": {},
    "colab_type": "code",
    "id": "_jozj15HsfmA"
   },
   "outputs": [],
   "source": [
    "if LOAD_CHECKPOINT:\n",
    "    res = load(RESULTS_PATH + \"res_gp_checkpoint.pkl\")\n",
    "    x0 = res.x_iters\n",
    "    y0 = res.func_vals\n",
    "    \n",
    "else:\n",
    "    x0 = None\n",
    "    y0 = None"
   ]
  },
  {
   "cell_type": "markdown",
   "metadata": {
    "colab_type": "text",
    "id": "wAFCZnjYU36e"
   },
   "source": [
    "### Perform Search"
   ]
  },
  {
   "cell_type": "code",
   "execution_count": 18,
   "metadata": {
    "colab": {
     "base_uri": "https://localhost:8080/",
     "height": 2406.0
    },
    "colab_type": "code",
    "executionInfo": {
     "elapsed": 385275.0,
     "status": "error",
     "timestamp": 1.549104003467E12,
     "user": {
      "displayName": "Andrew Mackay",
      "photoUrl": "https://lh3.googleusercontent.com/-24hiGmdxZDE/AAAAAAAAAAI/AAAAAAAAL_I/RW7nqM11LkM/s64/photo.jpg",
      "userId": "06804410358976473893"
     },
     "user_tz": 0.0
    },
    "id": "H8_tpC-DZnyh",
    "outputId": "271edac0-d3ac-4240-c1c9-2540599aa5af"
   },
   "outputs": [],
   "source": [
    "if RUN_SEARCH:\n",
    "    res_gp = gp_minimize(objective, space, x0=x0, y0=y0,\n",
    "                         n_calls=122, n_random_starts=10,\n",
    "                         random_state=0, callback=callbacks_list)"
   ]
  },
  {
   "cell_type": "markdown",
   "metadata": {
    "colab_type": "text",
    "id": "gsCe4ugZt2Yt"
   },
   "source": [
    "### Save gp results"
   ]
  },
  {
   "cell_type": "code",
   "execution_count": 19,
   "metadata": {
    "colab": {},
    "colab_type": "code",
    "id": "lS-st190t2GS"
   },
   "outputs": [],
   "source": [
    "if RUN_SEARCH:\n",
    "    dump(res_gp, RESULTS_PATH + \"res_gp_complete.pkl\")"
   ]
  },
  {
   "cell_type": "markdown",
   "metadata": {
    "colab_type": "text",
    "id": "DEBqFCS9uImJ"
   },
   "source": [
    "### Load gp results"
   ]
  },
  {
   "cell_type": "code",
   "execution_count": 20,
   "metadata": {
    "colab": {},
    "colab_type": "code",
    "id": "237ErDR_uKsk"
   },
   "outputs": [],
   "source": [
    "res_gp = load(RESULTS_PATH + \"res_gp_complete.pkl\")"
   ]
  },
  {
   "cell_type": "markdown",
   "metadata": {
    "colab_type": "text",
    "id": "pDOtEG4rZx-9"
   },
   "source": [
    "## Results"
   ]
  },
  {
   "cell_type": "markdown",
   "metadata": {},
   "source": [
    "Best Hyperparameters Discovered"
   ]
  },
  {
   "cell_type": "code",
   "execution_count": 21,
   "metadata": {},
   "outputs": [
    {
     "name": "stdout",
     "output_type": "stream",
     "text": [
      "optimizer: adam\n",
      "learning_rate: 0.0012375685948764468\n",
      "activation: relu\n",
      "dropout: 0.597428888669298\n",
      "num_dense_nodes: 1024\n",
      "num_dense_layers: 3\n",
      "kernel_size: 3\n",
      "pooling_size: 2\n",
      "batch_size: 576\n"
     ]
    }
   ],
   "source": [
    "dimensions = ['optimizer', 'learning_rate', 'activation', 'dropout',\n",
    "              'num_dense_nodes', 'num_dense_layers', 'kernel_size',\n",
    "              'pooling_size','batch_size']\n",
    "parameters = res_gp.x\n",
    "for index, parameter in enumerate(parameters):\n",
    "    print(dimensions[index] + \":\", parameter)"
   ]
  },
  {
   "cell_type": "code",
   "execution_count": 22,
   "metadata": {
    "colab": {},
    "colab_type": "code",
    "id": "iTZfDeBLvG50"
   },
   "outputs": [
    {
     "name": "stdout",
     "output_type": "stream",
     "text": [
      "Highest average accuracy over 5-folds achieved: 78.4%\n"
     ]
    }
   ],
   "source": [
    "print(\"Highest average accuracy over 5-folds achieved:\", str(round(-res_gp.fun*100, 2))+\"%\")"
   ]
  },
  {
   "cell_type": "code",
   "execution_count": 23,
   "metadata": {},
   "outputs": [
    {
     "data": {
      "image/png": "[encoded data removed]",
      "text/plain": [
       "<Figure size 432x288 with 1 Axes>"
      ]
     },
     "metadata": {
      "needs_background": "light"
     },
     "output_type": "display_data"
    }
   ],
   "source": [
    "# adapted from skopt.plots.plot_convergence\n",
    "n_calls = len(res_gp.x_iters)\n",
    "mins = [np.min(res_gp.func_vals[:i])\n",
    "        for i in range(1, n_calls + 1)]\n",
    "plt.plot(range(1, n_calls + 1), -np.array(mins)*100, marker='.')\n",
    "plt.title(\"Convergence Plot\")\n",
    "plt.ylabel(\"Classification Accuracy (%)\")\n",
    "plt.xlabel(\"Number of Calls\")\n",
    "plt.ylim(0,100)\n",
    "plt.grid()\n",
    "if SAVE_GRAPHS:\n",
    "    plt.savefig(RESULTS_PATH + \"convergence_plot.pdf\", format='pdf')"
   ]
  },
  {
   "cell_type": "code",
   "execution_count": 24,
   "metadata": {
    "colab": {
     "base_uri": "https://localhost:8080/",
     "height": 364.0
    },
    "colab_type": "code",
    "executionInfo": {
     "elapsed": 790.0,
     "status": "ok",
     "timestamp": 1.549270903225E12,
     "user": {
      "displayName": "Andrew Mackay",
      "photoUrl": "https://lh3.googleusercontent.com/-24hiGmdxZDE/AAAAAAAAAAI/AAAAAAAAL_I/RW7nqM11LkM/s64/photo.jpg",
      "userId": "06804410358976473893"
     },
     "user_tz": 0.0
    },
    "id": "ilGWuq3DCKpr",
    "outputId": "8fc64abc-b7f8-43c9-8c7e-ee6e1c79f374"
   },
   "outputs": [
    {
     "data": {
      "image/png": "[encoded data removed]",
      "text/plain": [
       "<Figure size 432x288 with 1 Axes>"
      ]
     },
     "metadata": {
      "needs_background": "light"
     },
     "output_type": "display_data"
    }
   ],
   "source": [
    "plt.scatter(range(1, n_calls + 1), -(np.array(res_gp.func_vals)*100), marker='x')\n",
    "plt.scatter([np.argmin(res_gp.func_vals)+1],[-res_gp.fun*100],\n",
    "            marker='x', color='red',\n",
    "            label=\"Best Accuracy: \" + str(round(-res_gp.fun*100, 2))+\"%\")\n",
    "plt.legend(bbox_to_anchor=(0.5,0.35), loc=\"upper left\")\n",
    "plt.ylabel(\"Classification Accuracy (%)\")\n",
    "plt.xlabel(\"Number of Calls\")\n",
    "plt.ylim(0,100)\n",
    "plt.grid()\n",
    "plt.title(\"Hyperparameter Search\")\n",
    "if SAVE_GRAPHS:\n",
    "    plt.savefig(RESULTS_PATH + \"hyperparameter_search.pdf\", format='pdf')"
   ]
  },
  {
   "cell_type": "code",
   "execution_count": null,
   "metadata": {},
   "outputs": [],
   "source": []
  }
 ],
 "metadata": {
  "colab": {
   "collapsed_sections": [],
   "name": "8_CNN_hyperparameter_search.ipynb",
   "provenance": [],
   "version": "0.3.2"
  },
  "kernelspec": {
   "display_name": "Python 3",
   "language": "python",
   "name": "python3"
  },
  "language_info": {
   "codemirror_mode": {
    "name": "ipython",
    "version": 3
   },
   "file_extension": ".py",
   "mimetype": "text/x-python",
   "name": "python",
   "nbconvert_exporter": "python",
   "pygments_lexer": "ipython3",
   "version": "3.6.6"
  }
 },
 "nbformat": 4,
 "nbformat_minor": 1
}
