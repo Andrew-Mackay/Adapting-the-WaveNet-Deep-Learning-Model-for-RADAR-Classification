{
 "cells": [
  {
   "cell_type": "markdown",
   "metadata": {
    "colab_type": "text",
    "id": "YivRzYk_TaGP"
   },
   "source": [
    "# Creation of Doppler datasets for CNN models from spectogram images\n",
    "removes corrupt files from subject F (last 20%)"
   ]
  },
  {
   "cell_type": "code",
   "execution_count": 1,
   "metadata": {
    "colab": {},
    "colab_type": "code",
    "id": "uDyGC6hrTW5K"
   },
   "outputs": [],
   "source": [
    "import os\n",
    "if os.getcwd() == '/content':\n",
    "    from google.colab import drive\n",
    "    drive.mount('/content/gdrive')\n",
    "    BASE_PATH = '/content/gdrive/My Drive/Level-4-Project/'\n",
    "    os.chdir('gdrive/My Drive/Level-4-Project/')\n",
    "    \n",
    "elif os.getcwd() == 'D:\\\\Google Drive\\\\Level-4-Project\\\\notebooks' or os.getcwd() == 'D:\\\\Google Drive\\\\Level-4-Project\\\\src\\\\features':\n",
    "    BASE_PATH = \"D:/Google Drive/Level-4-Project/\"\n",
    "    \n",
    "else:\n",
    "    BASE_PATH = \"/export/home/2192793m/Level-4-Project/\"\n",
    "    \n",
    "INTERIM_PATH = BASE_PATH + 'data/interim/doppler_spectrograms/'\n",
    "PROCESSED_PATH = BASE_PATH + 'data/processed/doppler_spectrograms_without_corrupt/'\n",
    "if not os.path.exists(PROCESSED_PATH):\n",
    "    os.makedirs(PROCESSED_PATH)"
   ]
  },
  {
   "cell_type": "code",
   "execution_count": 2,
   "metadata": {
    "colab": {},
    "colab_type": "code",
    "id": "QCbpTiwPTW5h"
   },
   "outputs": [],
   "source": [
    "import numpy as np\n",
    "import matplotlib.pyplot as plt\n",
    "import pickle\n",
    "from PIL import Image\n",
    "import glob"
   ]
  },
  {
   "cell_type": "code",
   "execution_count": 3,
   "metadata": {
    "colab": {},
    "colab_type": "code",
    "id": "HDhkSG2yTW6K"
   },
   "outputs": [],
   "source": [
    "IMAGE_SIZE = (75, 75)"
   ]
  },
  {
   "cell_type": "code",
   "execution_count": 4,
   "metadata": {
    "colab": {},
    "colab_type": "code",
    "id": "UJwXpovMTW6l"
   },
   "outputs": [],
   "source": [
    "def process_image(path):\n",
    "    \"\"\"\n",
    "    Open a spectrogram image, resize it and convert to greyscale\n",
    "    :param path: path to image\n",
    "    :type path: str\n",
    "    :return: converted image\n",
    "    :rtype: image as a numpy array\n",
    "    \"\"\"\n",
    "    img = Image.open(path)  # open image 150x150\n",
    "    img = img.resize(IMAGE_SIZE, Image.ANTIALIAS)  # resize to 75x75\n",
    "    img = img.convert('L')  # convert to greyscale\n",
    "    img = (np.array(img))  # convert to numpy array \n",
    "    return img"
   ]
  },
  {
   "cell_type": "code",
   "execution_count": 5,
   "metadata": {
    "colab": {},
    "colab_type": "code",
    "id": "ld_iaqSgTW67"
   },
   "outputs": [],
   "source": [
    "def convert_label_to_int(label):\n",
    "    \"\"\"\n",
    "    Returns an integer to represent a given action\n",
    "    :param label: Action\n",
    "    :type label: str\n",
    "    :return: number associated with the action\n",
    "    :rtype: int\n",
    "    \"\"\"\n",
    "    if label == \"walking\":\n",
    "        return 0\n",
    "    if label == \"pushing\":\n",
    "        return 1\n",
    "    if label == \"sitting\":\n",
    "        return 2\n",
    "    if label == \"pulling\":\n",
    "        return 3\n",
    "    if label == \"circling\":\n",
    "        return 4\n",
    "    if label == \"clapping\":\n",
    "        return 5\n",
    "    if label == \"bending\":\n",
    "        return 6"
   ]
  },
  {
   "cell_type": "code",
   "execution_count": 6,
   "metadata": {
    "colab": {},
    "colab_type": "code",
    "id": "g8_tkMhyTW7K"
   },
   "outputs": [],
   "source": [
    "# Specify window time length here\n",
    "WINDOW_LENGTH = \"3\"\n",
    "# WINDOW_LENGTH = \"2\"\n",
    "# WINDOW_LENGTH = \"1_5\"\n",
    "# WINDOW_LENGTH = \"1\""
   ]
  },
  {
   "cell_type": "markdown",
   "metadata": {
    "colab_type": "text",
    "id": "3sOwa5peTW7g"
   },
   "source": [
    "# Split by User\n",
    "* Datasets for 1, 1.5, 2 and 3 seconds\n",
    "* 0 degrees\n",
    "* All movemnets\n",
    "* Train on all but one user, test on remaining user"
   ]
  },
  {
   "cell_type": "code",
   "execution_count": 7,
   "metadata": {
    "colab": {},
    "colab_type": "code",
    "id": "pkxWjMAnTW7l"
   },
   "outputs": [],
   "source": [
    "user_a_data = []\n",
    "user_a_labels = []\n",
    "user_b_data = []\n",
    "user_b_labels = []\n",
    "user_c_data = []\n",
    "user_c_labels = []\n",
    "user_d_data = []\n",
    "user_d_labels = []\n",
    "user_e_data = []\n",
    "user_e_labels = []\n",
    "user_f_data = []\n",
    "user_f_labels = []"
   ]
  },
  {
   "cell_type": "code",
   "execution_count": 8,
   "metadata": {
    "colab": {},
    "colab_type": "code",
    "id": "XlJ_ame2TW75"
   },
   "outputs": [],
   "source": [
    "for path in glob.glob(INTERIM_PATH + WINDOW_LENGTH + \"/*/0/*/*.png\"):\n",
    "    split_path = path.split(\"\\\\\")\n",
    "    user = split_path[-4]\n",
    "    label = split_path[-2]\n",
    "    \n",
    "    if user == \"A\":\n",
    "        user_a_labels.append(convert_label_to_int(label))\n",
    "        user_a_data.append(process_image(path))\n",
    "    \n",
    "    elif user == \"B\":\n",
    "        user_b_labels.append(convert_label_to_int(label))\n",
    "        user_b_data.append(process_image(path))\n",
    "        \n",
    "    elif user == \"C\":\n",
    "        user_c_labels.append(convert_label_to_int(label))\n",
    "        user_c_data.append(process_image(path))        \n",
    "\n",
    "    elif user == \"D\":\n",
    "        user_d_labels.append(convert_label_to_int(label))\n",
    "        user_d_data.append(process_image(path)) \n",
    "        \n",
    "    elif user == \"E\":\n",
    "        user_e_labels.append(convert_label_to_int(label))\n",
    "        user_e_data.append(process_image(path)) \n",
    "        \n",
    "    elif user == \"F\":\n",
    "        # remove final 20% of each recording\n",
    "        # 570 files per recording\n",
    "        # 570 * 0.2 = 114\n",
    "        # 570 - 114 = 456\n",
    "        # remove 456 onwards as corrupt\n",
    "        file_num = split_path[-1].split('.')[-2]\n",
    "        sub_num = int(file_num.split(\"_\")[-1])\n",
    "        if sub_num < 456:\n",
    "            user_f_labels.append(convert_label_to_int(label))\n",
    "            user_f_data.append(process_image(path)) "
   ]
  },
  {
   "cell_type": "code",
   "execution_count": 9,
   "metadata": {
    "colab": {},
    "colab_type": "code",
    "id": "v47byR_wXCSm"
   },
   "outputs": [],
   "source": [
    "def save_user_set(user_letter, user_data, user_labels, window_length):\n",
    "    \"\"\"\n",
    "    Save the data and labels associated with a subject (user and subject are the same thing).\n",
    "    :param user_letter: Letter for the subject\n",
    "    :type user_letter: str\n",
    "    :param user_data: all images belonging to the subject\n",
    "    :type user_data: array of images represented as numpy arrays\n",
    "    :param user_labels: all labels referring to the user_data\n",
    "    :type user_labels: array of integers representing the labels in the same order as user_data\n",
    "    :param window_length: Length of the spectrograms in seconds\n",
    "    :type window_length: int\n",
    "    \"\"\"\n",
    "    save_path = PROCESSED_PATH + window_length + '/'\n",
    "    if not os.path.exists(save_path):\n",
    "        os.makedirs(save_path)\n",
    "    \n",
    "    with open(save_path + user_letter + \"_data.pkl\", \"wb\") as data_file:\n",
    "        pickle.dump(np.array(user_data, np.uint8), data_file)\n",
    "        \n",
    "    with open(save_path + user_letter + \"_labels.pkl\", \"wb\") as labels_file:\n",
    "        pickle.dump(np.array(user_labels, np.uint8), labels_file)"
   ]
  },
  {
   "cell_type": "markdown",
   "metadata": {
    "colab_type": "text",
    "id": "_9mmkJ2XWYfu"
   },
   "source": [
    "## Save Users Datasets"
   ]
  },
  {
   "cell_type": "code",
   "execution_count": 10,
   "metadata": {
    "colab": {},
    "colab_type": "code",
    "id": "YRntBfgsZTkA"
   },
   "outputs": [],
   "source": [
    "save_user_set('A', user_a_data, user_a_labels, WINDOW_LENGTH)"
   ]
  },
  {
   "cell_type": "code",
   "execution_count": 11,
   "metadata": {
    "colab": {},
    "colab_type": "code",
    "id": "PlC_l7BwZoQj"
   },
   "outputs": [],
   "source": [
    "save_user_set('B', user_b_data, user_b_labels, WINDOW_LENGTH)"
   ]
  },
  {
   "cell_type": "code",
   "execution_count": 12,
   "metadata": {
    "colab": {},
    "colab_type": "code",
    "id": "UIiENAilZo8_"
   },
   "outputs": [],
   "source": [
    "save_user_set('C', user_c_data, user_c_labels, WINDOW_LENGTH)"
   ]
  },
  {
   "cell_type": "code",
   "execution_count": 13,
   "metadata": {
    "colab": {},
    "colab_type": "code",
    "id": "Ej5rbj9aZpTU"
   },
   "outputs": [],
   "source": [
    "save_user_set('D', user_d_data, user_d_labels, WINDOW_LENGTH)"
   ]
  },
  {
   "cell_type": "code",
   "execution_count": 14,
   "metadata": {
    "colab": {},
    "colab_type": "code",
    "id": "lBopuK7cZp_d"
   },
   "outputs": [],
   "source": [
    "save_user_set('E', user_e_data, user_e_labels, WINDOW_LENGTH)"
   ]
  },
  {
   "cell_type": "code",
   "execution_count": 15,
   "metadata": {
    "colab": {},
    "colab_type": "code",
    "id": "gRR_JtW_ZqU9"
   },
   "outputs": [],
   "source": [
    "save_user_set('F', user_f_data, user_f_labels, WINDOW_LENGTH)"
   ]
  },
  {
   "cell_type": "code",
   "execution_count": 0,
   "metadata": {
    "colab": {},
    "colab_type": "code",
    "id": "khuN2hr8TW_a"
   },
   "outputs": [],
   "source": []
  }
 ],
 "metadata": {
  "colab": {
   "collapsed_sections": [],
   "name": "05_processed_dataset_creation_doppler_spectrogram_without_corrupt.ipynb",
   "provenance": [],
   "version": "0.3.2"
  },
  "kernelspec": {
   "display_name": "Python 3",
   "language": "python",
   "name": "python3"
  },
  "language_info": {
   "codemirror_mode": {
    "name": "ipython",
    "version": 3
   },
   "file_extension": ".py",
   "mimetype": "text/x-python",
   "name": "python",
   "nbconvert_exporter": "python",
   "pygments_lexer": "ipython3",
   "version": "3.6.6"
  }
 },
 "nbformat": 4,
 "nbformat_minor": 1
}
