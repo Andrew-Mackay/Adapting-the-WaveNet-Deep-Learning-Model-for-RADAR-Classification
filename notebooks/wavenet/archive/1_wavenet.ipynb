{
 "cells": [
  {
   "cell_type": "markdown",
   "metadata": {
    "colab_type": "text",
    "id": "4MApneK4_Q0A"
   },
   "source": [
    "https://github.com/mjpyeon/wavenet-classifier/blob/master/WaveNetClassifier.py"
   ]
  },
  {
   "cell_type": "markdown",
   "metadata": {
    "colab_type": "text",
    "id": "bZxhO7V0ZHUE"
   },
   "source": [
    "## Notebook setup"
   ]
  },
  {
   "cell_type": "markdown",
   "metadata": {
    "colab_type": "text",
    "id": "x5jAnxaaZLzZ"
   },
   "source": [
    "Allow editing of modules using editor (auto reloading)"
   ]
  },
  {
   "cell_type": "code",
   "execution_count": 1,
   "metadata": {
    "colab": {},
    "colab_type": "code",
    "id": "TGNeUj-JDXhs"
   },
   "outputs": [],
   "source": [
    "# Needed to allow editing using PyCharm etc\n",
    "%load_ext autoreload\n",
    "%autoreload 2"
   ]
  },
  {
   "cell_type": "markdown",
   "metadata": {
    "colab_type": "text",
    "id": "QwLbqieVYIJt"
   },
   "source": [
    "The following cell is needed for compatibility when using both CoLab and Local Jupyter notebook. It sets the appropriate file path for the data and also installs local packages such as models and data_loading."
   ]
  },
  {
   "cell_type": "code",
   "execution_count": 2,
   "metadata": {
    "colab": {},
    "colab_type": "code",
    "id": "3XeU0HtoDXh6"
   },
   "outputs": [],
   "source": [
    "import os\n",
    "path = os.getcwd()\n",
    "if path == '/content':\n",
    "    from google.colab import drive\n",
    "    drive.mount('/content/gdrive')\n",
    "    BASE_PATH = '/content/gdrive/My Drive/Level-4-Project/'\n",
    "    !cd gdrive/My\\ Drive/Level-4-Project/ && pip install --editable .\n",
    "    os.chdir('gdrive/My Drive/Level-4-Project/')\n",
    "    \n",
    "elif path == 'D:\\\\Google Drive\\\\Level-4-Project\\\\notebooks\\\\wavenet':\n",
    "    BASE_PATH = \"D:/Google Drive/Level-4-Project/\"\n",
    "    \n",
    "elif path == \"/export/home/2192793m\":\n",
    "    BASE_PATH = \"/export/home/2192793m/Level-4-Project/\"\n",
    "    \n",
    "DATA_PATH = BASE_PATH + 'data/processed/wavenet/processed.pkl'\n",
    "    \n",
    "from src.data import load_data\n",
    "from src.visualization import multiple_plots, visualize, plot_confusion_matrix\n",
    "from src.features import make_spectrograms, process_labels, make_directory"
   ]
  },
  {
   "cell_type": "code",
   "execution_count": 3,
   "metadata": {
    "colab": {},
    "colab_type": "code",
    "id": "QW7Fa5jTCDXo"
   },
   "outputs": [],
   "source": [
    "import pandas as pd\n",
    "import numpy as np\n",
    "import matplotlib.pyplot as plt\n",
    "from matplotlib import mlab\n",
    "from matplotlib import colors\n",
    "from scipy.signal import butter, freqz, lfilter, spectrogram\n",
    "import time\n",
    "from sklearn import preprocessing"
   ]
  },
  {
   "cell_type": "markdown",
   "metadata": {
    "colab_type": "text",
    "id": "rgYwaq1eZb5u"
   },
   "source": [
    "Import remaining packages"
   ]
  },
  {
   "cell_type": "code",
   "execution_count": 4,
   "metadata": {
    "colab": {
     "base_uri": "https://localhost:8080/",
     "height": 35.0
    },
    "colab_type": "code",
    "executionInfo": {
     "elapsed": 1936.0,
     "status": "ok",
     "timestamp": 1.544445079269E12,
     "user": {
      "displayName": "Andrew Mackay",
      "photoUrl": "https://lh3.googleusercontent.com/-24hiGmdxZDE/AAAAAAAAAAI/AAAAAAAAL_I/RW7nqM11LkM/s64/photo.jpg",
      "userId": "06804410358976473893"
     },
     "user_tz": 0.0
    },
    "id": "x8rzmlEhpe_R",
    "outputId": "474f9cd1-6c3c-4356-a11d-68488170c6c7"
   },
   "outputs": [
    {
     "name": "stderr",
     "output_type": "stream",
     "text": [
      "Using TensorFlow backend.\n"
     ]
    }
   ],
   "source": [
    "import numpy as np\n",
    "import sys\n",
    "from keras.preprocessing.image import ImageDataGenerator\n",
    "from keras.optimizers import SGD\n",
    "from keras.utils import np_utils\n",
    "import sys\n",
    "from sklearn.metrics import classification_report, confusion_matrix\n",
    "import csv\n",
    "from keras.models import load_model\n",
    "import pickle"
   ]
  },
  {
   "cell_type": "code",
   "execution_count": 5,
   "metadata": {
    "colab": {},
    "colab_type": "code",
    "id": "hJexwRZx8ida"
   },
   "outputs": [],
   "source": [
    "# wavenet imports\n",
    "import pandas as pd\n",
    "import sys\n",
    "import tensorflow as tf\n",
    "from keras.layers import Input, Dense, Lambda, Flatten, Reshape, Activation, Dropout, Add, TimeDistributed, Multiply, Conv1D, Conv2D, MaxPooling1D, AveragePooling1D\n",
    "from keras.models import Model, Sequential, load_model\n",
    "from keras import backend as K\n",
    "from keras import metrics\n",
    "from keras import optimizers\n",
    "from keras.callbacks import History, ModelCheckpoint\n",
    "from keras.layers import Conv1D, Input, Activation, AveragePooling1D, Add, Multiply, GlobalAveragePooling1D\n"
   ]
  },
  {
   "cell_type": "code",
   "execution_count": 6,
   "metadata": {
    "colab": {},
    "colab_type": "code",
    "id": "qmtIKHMzCdOo"
   },
   "outputs": [],
   "source": [
    "with open(DATA_PATH, \"rb\") as file:\n",
    "    data = pickle.load(file)"
   ]
  },
  {
   "cell_type": "code",
   "execution_count": 7,
   "metadata": {
    "colab": {},
    "colab_type": "code",
    "id": "TQIwQ8EACdIQ"
   },
   "outputs": [],
   "source": [
    "def convert_label_to_int(label):\n",
    "    if label == \"walking\":\n",
    "        return 0\n",
    "    if label == \"pushing\":\n",
    "        return 1\n",
    "    if label == \"sitting\":\n",
    "        return 2\n",
    "    if label == \"pulling\":\n",
    "        return 3\n",
    "    if label == \"circling\":\n",
    "        return 4\n",
    "    if label == \"clapping\":\n",
    "        return 5\n",
    "    if label == \"bending\":\n",
    "        return 6"
   ]
  },
  {
   "cell_type": "code",
   "execution_count": 9,
   "metadata": {},
   "outputs": [],
   "source": [
    "train_x = []\n",
    "train_y = []\n",
    "test_x = []\n",
    "test_y = []\n",
    "test_user = \"A\"\n",
    "for user_letter, actions in data.items():\n",
    "    for action, results in actions.items():\n",
    "        for result in results:\n",
    "            for row in result:\n",
    "                if user_letter == test_user:\n",
    "                    test_x.append(row)\n",
    "                    test_y.append(convert_label_to_int(action))\n",
    "                else:\n",
    "                    train_x.append(row)\n",
    "                    train_y.append(convert_label_to_int(action)) \n",
    "train_x = np.array(train_x)\n",
    "train_y = np.array(train_y)\n",
    "test_x = np.array(test_x)\n",
    "test_y = np.array(test_y)      "
   ]
  },
  {
   "cell_type": "code",
   "execution_count": 10,
   "metadata": {},
   "outputs": [],
   "source": [
    "target_names = [\"walking\", \"pushing\", \"sitting\", \"pulling\", \"circling\", \"clapping\", \"bending\"]\n",
    "nb_classes = len(target_names)\n",
    "# batch_size = 100\n",
    "# nb_epoch = 100\n",
    "\n",
    "# input image dimensions\n",
    "# img_rows, img_cols = 75, 75"
   ]
  },
  {
   "cell_type": "code",
   "execution_count": 11,
   "metadata": {},
   "outputs": [],
   "source": [
    "train_y = np_utils.to_categorical(train_y, nb_classes)\n",
    "test_y = np_utils.to_categorical(test_y, nb_classes)"
   ]
  },
  {
   "cell_type": "code",
   "execution_count": 12,
   "metadata": {},
   "outputs": [],
   "source": [
    "train_x = abs(train_x)\n",
    "test_x = abs(test_x)"
   ]
  },
  {
   "cell_type": "code",
   "execution_count": 13,
   "metadata": {},
   "outputs": [
    {
     "name": "stdout",
     "output_type": "stream",
     "text": [
      "(3705, 200, 300)\n",
      "(3705, 7)\n",
      "(798, 200, 300)\n",
      "(798, 7)\n"
     ]
    }
   ],
   "source": [
    "print(train_x.shape)\n",
    "print(train_y.shape)\n",
    "print(test_x.shape)\n",
    "print(test_y.shape)"
   ]
  },
  {
   "cell_type": "code",
   "execution_count": 14,
   "metadata": {},
   "outputs": [],
   "source": [
    "# reduce data amount\n",
    "train_x = train_x[:500,:,:]\n",
    "train_y = train_y[:500,:]"
   ]
  },
  {
   "cell_type": "code",
   "execution_count": 15,
   "metadata": {},
   "outputs": [
    {
     "name": "stdout",
     "output_type": "stream",
     "text": [
      "(500, 200, 300)\n",
      "(500, 7)\n",
      "(798, 200, 300)\n",
      "(798, 7)\n"
     ]
    }
   ],
   "source": [
    "print(train_x.shape)\n",
    "print(train_y.shape)\n",
    "print(test_x.shape)\n",
    "print(test_y.shape)"
   ]
  },
  {
   "cell_type": "code",
   "execution_count": 16,
   "metadata": {},
   "outputs": [],
   "source": [
    "# need to normalize the data?"
   ]
  },
  {
   "cell_type": "code",
   "execution_count": 17,
   "metadata": {},
   "outputs": [
    {
     "data": {
      "text/plain": [
       "<matplotlib.image.AxesImage at 0x2992b823470>"
      ]
     },
     "execution_count": 17,
     "metadata": {},
     "output_type": "execute_result"
    },
    {
     "data": {
      "image/png": "[encoded data removed]",
      "text/plain": [
       "<Figure size 432x288 with 1 Axes>"
      ]
     },
     "metadata": {
      "needs_background": "light"
     },
     "output_type": "display_data"
    }
   ],
   "source": [
    "plt.imshow(abs(train_x[5]))"
   ]
  },
  {
   "cell_type": "code",
   "execution_count": 18,
   "metadata": {
    "colab": {},
    "colab_type": "code",
    "id": "eQZAXGCNAUiQ"
   },
   "outputs": [],
   "source": [
    "n_filters = 64\n",
    "dilation_depth = 8\n",
    "activation = 'softmax'\n",
    "scale_ratio = 1\n",
    "kernel_size = 2\n",
    "pool_size_1 = 4\n",
    "pool_size_2 = 8\n",
    "batch_size = 4096\n",
    "STROKE_COUNT = 196\n",
    "TRAIN_SAMPLES = train_x.shape[0]\n",
    "VALID_SAMPLES = test_x.shape[0]\n",
    "TEST_SAMPLES = test_x.shape[0]"
   ]
  },
  {
   "cell_type": "code",
   "execution_count": 19,
   "metadata": {
    "colab": {},
    "colab_type": "code",
    "id": "fEWSMSXm_A9e"
   },
   "outputs": [],
   "source": [
    "def residual_block(x, i):\n",
    "    tanh_out = Conv1D(n_filters, \n",
    "                      kernel_size, \n",
    "                      dilation_rate = kernel_size**i, \n",
    "                      padding='causal', \n",
    "                      name='dilated_conv_%d_tanh' % (kernel_size ** i), \n",
    "                      activation='tanh'\n",
    "                      )(x)\n",
    "    sigm_out = Conv1D(n_filters, \n",
    "                      kernel_size, \n",
    "                      dilation_rate = kernel_size**i, \n",
    "                      padding='causal', \n",
    "                      name='dilated_conv_%d_sigm' % (kernel_size ** i), \n",
    "                      activation='sigmoid'\n",
    "                      )(x)\n",
    "    z = Multiply(name='gated_activation_%d' % (i))([tanh_out, sigm_out])\n",
    "    skip = Conv1D(n_filters, 1, name='skip_%d'%(i))(z)\n",
    "    res = Add(name='residual_block_%d' % (i))([skip, x])\n",
    "    return res, skip"
   ]
  },
  {
   "cell_type": "code",
   "execution_count": 20,
   "metadata": {
    "colab": {},
    "colab_type": "code",
    "id": "nsykbHN3_k9w"
   },
   "outputs": [],
   "source": [
    "input_shape = train_x.shape[1:]\n",
    "output_shape = train_y.shape[1:]"
   ]
  },
  {
   "cell_type": "code",
   "execution_count": 21,
   "metadata": {
    "colab": {},
    "colab_type": "code",
    "id": "8gaffscj_nk8"
   },
   "outputs": [],
   "source": [
    "x = Input(shape=input_shape, name='original_input')"
   ]
  },
  {
   "cell_type": "code",
   "execution_count": 22,
   "metadata": {
    "colab": {},
    "colab_type": "code",
    "id": "fhGZ_Vsa_x0d"
   },
   "outputs": [],
   "source": [
    "skip_connections = []\n",
    "out = Conv1D(n_filters, 2, dilation_rate=1, padding='causal', name='dilated_conv_1')(x)\n",
    "for i in range(1, dilation_depth + 1):\n",
    "    out, skip = residual_block(out,i)\n",
    "    skip_connections.append(skip)\n",
    "out = Add(name='skip_connections')(skip_connections)\n",
    "out = Activation('relu')(out)"
   ]
  },
  {
   "cell_type": "code",
   "execution_count": 23,
   "metadata": {
    "colab": {},
    "colab_type": "code",
    "id": "3_ZDkki9ArWf"
   },
   "outputs": [],
   "source": [
    "out = Conv1D(n_filters, pool_size_1, strides = 1, padding='same', name='conv_5ms', activation = 'relu')(out)\n",
    "out = AveragePooling1D(pool_size_1, padding='same', name='downsample_to_200Hz')(out)"
   ]
  },
  {
   "cell_type": "code",
   "execution_count": 24,
   "metadata": {
    "colab": {
     "base_uri": "https://localhost:8080/",
     "height": 2438.0
    },
    "colab_type": "code",
    "executionInfo": {
     "elapsed": 549.0,
     "status": "ok",
     "timestamp": 1.544443595409E12,
     "user": {
      "displayName": "Andrew Mackay",
      "photoUrl": "https://lh3.googleusercontent.com/-24hiGmdxZDE/AAAAAAAAAAI/AAAAAAAAL_I/RW7nqM11LkM/s64/photo.jpg",
      "userId": "06804410358976473893"
     },
     "user_tz": 0.0
    },
    "id": "2XRWny4I-qAm",
    "outputId": "f0b5fcee-b511-4b6c-a459-4aa8e8ca6935"
   },
   "outputs": [
    {
     "name": "stdout",
     "output_type": "stream",
     "text": [
      "__________________________________________________________________________________________________\n",
      "Layer (type)                    Output Shape         Param #     Connected to                     \n",
      "==================================================================================================\n",
      "original_input (InputLayer)     (None, 200, 300)     0                                            \n",
      "__________________________________________________________________________________________________\n",
      "dilated_conv_1 (Conv1D)         (None, 200, 64)      38464       original_input[0][0]             \n",
      "__________________________________________________________________________________________________\n",
      "dilated_conv_2_tanh (Conv1D)    (None, 200, 64)      8256        dilated_conv_1[0][0]             \n",
      "__________________________________________________________________________________________________\n",
      "dilated_conv_2_sigm (Conv1D)    (None, 200, 64)      8256        dilated_conv_1[0][0]             \n",
      "__________________________________________________________________________________________________\n",
      "gated_activation_1 (Multiply)   (None, 200, 64)      0           dilated_conv_2_tanh[0][0]        \n",
      "                                                                 dilated_conv_2_sigm[0][0]        \n",
      "__________________________________________________________________________________________________\n",
      "skip_1 (Conv1D)                 (None, 200, 64)      4160        gated_activation_1[0][0]         \n",
      "__________________________________________________________________________________________________\n",
      "residual_block_1 (Add)          (None, 200, 64)      0           skip_1[0][0]                     \n",
      "                                                                 dilated_conv_1[0][0]             \n",
      "__________________________________________________________________________________________________\n",
      "dilated_conv_4_tanh (Conv1D)    (None, 200, 64)      8256        residual_block_1[0][0]           \n",
      "__________________________________________________________________________________________________\n",
      "dilated_conv_4_sigm (Conv1D)    (None, 200, 64)      8256        residual_block_1[0][0]           \n",
      "__________________________________________________________________________________________________\n",
      "gated_activation_2 (Multiply)   (None, 200, 64)      0           dilated_conv_4_tanh[0][0]        \n",
      "                                                                 dilated_conv_4_sigm[0][0]        \n",
      "__________________________________________________________________________________________________\n",
      "skip_2 (Conv1D)                 (None, 200, 64)      4160        gated_activation_2[0][0]         \n",
      "__________________________________________________________________________________________________\n",
      "residual_block_2 (Add)          (None, 200, 64)      0           skip_2[0][0]                     \n",
      "                                                                 residual_block_1[0][0]           \n",
      "__________________________________________________________________________________________________\n",
      "dilated_conv_8_tanh (Conv1D)    (None, 200, 64)      8256        residual_block_2[0][0]           \n",
      "__________________________________________________________________________________________________\n",
      "dilated_conv_8_sigm (Conv1D)    (None, 200, 64)      8256        residual_block_2[0][0]           \n",
      "__________________________________________________________________________________________________\n",
      "gated_activation_3 (Multiply)   (None, 200, 64)      0           dilated_conv_8_tanh[0][0]        \n",
      "                                                                 dilated_conv_8_sigm[0][0]        \n",
      "__________________________________________________________________________________________________\n",
      "skip_3 (Conv1D)                 (None, 200, 64)      4160        gated_activation_3[0][0]         \n",
      "__________________________________________________________________________________________________\n",
      "residual_block_3 (Add)          (None, 200, 64)      0           skip_3[0][0]                     \n",
      "                                                                 residual_block_2[0][0]           \n",
      "__________________________________________________________________________________________________\n",
      "dilated_conv_16_tanh (Conv1D)   (None, 200, 64)      8256        residual_block_3[0][0]           \n",
      "__________________________________________________________________________________________________\n",
      "dilated_conv_16_sigm (Conv1D)   (None, 200, 64)      8256        residual_block_3[0][0]           \n",
      "__________________________________________________________________________________________________\n",
      "gated_activation_4 (Multiply)   (None, 200, 64)      0           dilated_conv_16_tanh[0][0]       \n",
      "                                                                 dilated_conv_16_sigm[0][0]       \n",
      "__________________________________________________________________________________________________\n",
      "skip_4 (Conv1D)                 (None, 200, 64)      4160        gated_activation_4[0][0]         \n",
      "__________________________________________________________________________________________________\n",
      "residual_block_4 (Add)          (None, 200, 64)      0           skip_4[0][0]                     \n",
      "                                                                 residual_block_3[0][0]           \n",
      "__________________________________________________________________________________________________\n",
      "dilated_conv_32_tanh (Conv1D)   (None, 200, 64)      8256        residual_block_4[0][0]           \n",
      "__________________________________________________________________________________________________\n",
      "dilated_conv_32_sigm (Conv1D)   (None, 200, 64)      8256        residual_block_4[0][0]           \n",
      "__________________________________________________________________________________________________\n",
      "gated_activation_5 (Multiply)   (None, 200, 64)      0           dilated_conv_32_tanh[0][0]       \n",
      "                                                                 dilated_conv_32_sigm[0][0]       \n",
      "__________________________________________________________________________________________________\n",
      "skip_5 (Conv1D)                 (None, 200, 64)      4160        gated_activation_5[0][0]         \n",
      "__________________________________________________________________________________________________\n",
      "residual_block_5 (Add)          (None, 200, 64)      0           skip_5[0][0]                     \n",
      "                                                                 residual_block_4[0][0]           \n",
      "__________________________________________________________________________________________________\n",
      "dilated_conv_64_tanh (Conv1D)   (None, 200, 64)      8256        residual_block_5[0][0]           \n",
      "__________________________________________________________________________________________________\n",
      "dilated_conv_64_sigm (Conv1D)   (None, 200, 64)      8256        residual_block_5[0][0]           \n",
      "__________________________________________________________________________________________________\n",
      "gated_activation_6 (Multiply)   (None, 200, 64)      0           dilated_conv_64_tanh[0][0]       \n",
      "                                                                 dilated_conv_64_sigm[0][0]       \n",
      "__________________________________________________________________________________________________\n",
      "skip_6 (Conv1D)                 (None, 200, 64)      4160        gated_activation_6[0][0]         \n",
      "__________________________________________________________________________________________________\n",
      "residual_block_6 (Add)          (None, 200, 64)      0           skip_6[0][0]                     \n",
      "                                                                 residual_block_5[0][0]           \n",
      "__________________________________________________________________________________________________\n",
      "dilated_conv_128_tanh (Conv1D)  (None, 200, 64)      8256        residual_block_6[0][0]           \n",
      "__________________________________________________________________________________________________\n",
      "dilated_conv_128_sigm (Conv1D)  (None, 200, 64)      8256        residual_block_6[0][0]           \n",
      "__________________________________________________________________________________________________\n",
      "gated_activation_7 (Multiply)   (None, 200, 64)      0           dilated_conv_128_tanh[0][0]      \n",
      "                                                                 dilated_conv_128_sigm[0][0]      \n",
      "__________________________________________________________________________________________________\n",
      "skip_7 (Conv1D)                 (None, 200, 64)      4160        gated_activation_7[0][0]         \n",
      "__________________________________________________________________________________________________\n",
      "residual_block_7 (Add)          (None, 200, 64)      0           skip_7[0][0]                     \n",
      "                                                                 residual_block_6[0][0]           \n",
      "__________________________________________________________________________________________________\n",
      "dilated_conv_256_tanh (Conv1D)  (None, 200, 64)      8256        residual_block_7[0][0]           \n",
      "__________________________________________________________________________________________________\n",
      "dilated_conv_256_sigm (Conv1D)  (None, 200, 64)      8256        residual_block_7[0][0]           \n",
      "__________________________________________________________________________________________________\n",
      "gated_activation_8 (Multiply)   (None, 200, 64)      0           dilated_conv_256_tanh[0][0]      \n",
      "                                                                 dilated_conv_256_sigm[0][0]      \n",
      "__________________________________________________________________________________________________\n",
      "skip_8 (Conv1D)                 (None, 200, 64)      4160        gated_activation_8[0][0]         \n",
      "__________________________________________________________________________________________________\n",
      "skip_connections (Add)          (None, 200, 64)      0           skip_1[0][0]                     \n",
      "                                                                 skip_2[0][0]                     \n",
      "                                                                 skip_3[0][0]                     \n",
      "                                                                 skip_4[0][0]                     \n",
      "                                                                 skip_5[0][0]                     \n",
      "                                                                 skip_6[0][0]                     \n",
      "                                                                 skip_7[0][0]                     \n",
      "                                                                 skip_8[0][0]                     \n",
      "__________________________________________________________________________________________________\n",
      "activation_1 (Activation)       (None, 200, 64)      0           skip_connections[0][0]           \n",
      "__________________________________________________________________________________________________\n",
      "conv_5ms (Conv1D)               (None, 200, 64)      16448       activation_1[0][0]               \n",
      "__________________________________________________________________________________________________\n",
      "downsample_to_200Hz (AveragePoo (None, 50, 64)       0           conv_5ms[0][0]                   \n",
      "__________________________________________________________________________________________________\n",
      "conv_500ms (Conv1D)             (None, 50, 64)       32832       downsample_to_200Hz[0][0]        \n",
      "__________________________________________________________________________________________________\n",
      "conv_500ms_target_shape (Conv1D (None, 50, 7)        3591        conv_500ms[0][0]                 \n",
      "__________________________________________________________________________________________________\n",
      "downsample_to_2Hz (AveragePooli (None, 7, 7)         0           conv_500ms_target_shape[0][0]    \n",
      "__________________________________________________________________________________________________\n",
      "final_conv (Conv1D)             (None, 7, 7)         301         downsample_to_2Hz[0][0]          \n",
      "__________________________________________________________________________________________________\n",
      "final_pooling (GlobalAveragePoo (None, 7)            0           final_conv[0][0]                 \n",
      "__________________________________________________________________________________________________\n",
      "final_activation (Activation)   (None, 7)            0           final_pooling[0][0]              \n",
      "==================================================================================================\n",
      "Total params: 257,012\n",
      "Trainable params: 257,012\n",
      "Non-trainable params: 0\n",
      "__________________________________________________________________________________________________\n"
     ]
    }
   ],
   "source": [
    "out = Conv1D(n_filters, pool_size_2, padding='same', activation='relu', name='conv_500ms')(out)\n",
    "out = Conv1D(output_shape[0], pool_size_2, padding='same', activation='relu', name='conv_500ms_target_shape')(out)\n",
    "out = AveragePooling1D(pool_size_2, padding='same',name = 'downsample_to_2Hz')(out)\n",
    "out = Conv1D(output_shape[0], (int) (input_shape[0] / (pool_size_1*pool_size_2)), padding='same', name='final_conv')(out)\n",
    "out = GlobalAveragePooling1D(name='final_pooling')(out)\n",
    "out = Activation(activation, name='final_activation')(out)\n",
    "\n",
    "stroke_read_model = Model(x, out)  \n",
    "stroke_read_model.compile(optimizer='adam', \n",
    "                          loss='categorical_crossentropy', \n",
    "                          metrics=['accuracy'])\n",
    "stroke_read_model.summary()"
   ]
  },
  {
   "cell_type": "code",
   "execution_count": 25,
   "metadata": {
    "colab": {},
    "colab_type": "code",
    "id": "bQAVtTpUAdop"
   },
   "outputs": [
    {
     "name": "stdout",
     "output_type": "stream",
     "text": [
      "Train on 500 samples, validate on 798 samples\n",
      "Epoch 1/50\n",
      "500/500 [==============================] - 17s 35ms/step - loss: 1.8918 - acc: 0.2180 - val_loss: 2.2069 - val_acc: 0.1429\n",
      "Epoch 2/50\n",
      "500/500 [==============================] - 5s 9ms/step - loss: 1.7150 - acc: 0.2280 - val_loss: 2.4530 - val_acc: 0.1429\n",
      "Epoch 3/50\n",
      "500/500 [==============================] - 5s 9ms/step - loss: 1.6523 - acc: 0.2280 - val_loss: 2.5508 - val_acc: 0.1441\n",
      "Epoch 4/50\n",
      "500/500 [==============================] - 4s 9ms/step - loss: 1.6036 - acc: 0.2280 - val_loss: 2.5529 - val_acc: 0.1729\n",
      "Epoch 5/50\n",
      "500/500 [==============================] - 4s 9ms/step - loss: 1.5644 - acc: 0.3080 - val_loss: 2.5488 - val_acc: 0.2519\n",
      "Epoch 6/50\n",
      "500/500 [==============================] - 5s 9ms/step - loss: 1.5215 - acc: 0.4800 - val_loss: 2.6086 - val_acc: 0.1830\n",
      "Epoch 7/50\n",
      "500/500 [==============================] - 5s 9ms/step - loss: 1.4940 - acc: 0.3520 - val_loss: 2.6529 - val_acc: 0.2619\n",
      "Epoch 8/50\n",
      "500/500 [==============================] - 4s 9ms/step - loss: 1.4373 - acc: 0.5560 - val_loss: 2.7271 - val_acc: 0.2870\n",
      "Epoch 9/50\n",
      "500/500 [==============================] - 5s 9ms/step - loss: 1.3723 - acc: 0.4780 - val_loss: 2.8399 - val_acc: 0.2707\n",
      "Epoch 10/50\n",
      "500/500 [==============================] - 5s 10ms/step - loss: 1.3123 - acc: 0.4480 - val_loss: 2.9399 - val_acc: 0.2870\n",
      "Epoch 11/50\n",
      "500/500 [==============================] - 5s 9ms/step - loss: 1.2703 - acc: 0.4880 - val_loss: 3.2470 - val_acc: 0.2506\n",
      "Epoch 12/50\n",
      "500/500 [==============================] - 5s 9ms/step - loss: 1.3112 - acc: 0.5220 - val_loss: 3.0463 - val_acc: 0.4474\n",
      "Epoch 13/50\n",
      "500/500 [==============================] - 5s 9ms/step - loss: 1.1639 - acc: 0.7820 - val_loss: 3.0782 - val_acc: 0.4386\n",
      "Epoch 14/50\n",
      "500/500 [==============================] - 5s 9ms/step - loss: 1.1429 - acc: 0.7620 - val_loss: 3.1179 - val_acc: 0.4486\n",
      "Epoch 15/50\n",
      "500/500 [==============================] - 5s 9ms/step - loss: 1.0147 - acc: 0.7860 - val_loss: 3.3413 - val_acc: 0.4123\n",
      "Epoch 16/50\n",
      "500/500 [==============================] - 4s 9ms/step - loss: 1.0211 - acc: 0.6840 - val_loss: 3.3202 - val_acc: 0.5238\n",
      "Epoch 17/50\n",
      "500/500 [==============================] - 5s 9ms/step - loss: 0.8951 - acc: 0.8380 - val_loss: 3.5452 - val_acc: 0.5188\n",
      "Epoch 18/50\n",
      "500/500 [==============================] - 5s 9ms/step - loss: 0.8752 - acc: 0.8280 - val_loss: 3.7910 - val_acc: 0.5564\n",
      "Epoch 19/50\n",
      "500/500 [==============================] - 5s 9ms/step - loss: 0.7742 - acc: 0.8820 - val_loss: 4.0703 - val_acc: 0.5000\n",
      "Epoch 20/50\n",
      "500/500 [==============================] - 5s 9ms/step - loss: 0.7404 - acc: 0.8660 - val_loss: 4.0846 - val_acc: 0.5476\n",
      "Epoch 21/50\n",
      "500/500 [==============================] - 5s 9ms/step - loss: 0.6308 - acc: 0.8820 - val_loss: 4.3161 - val_acc: 0.5388\n",
      "Epoch 22/50\n",
      "500/500 [==============================] - 4s 9ms/step - loss: 0.6095 - acc: 0.8580 - val_loss: 4.6336 - val_acc: 0.5627\n",
      "Epoch 23/50\n",
      "500/500 [==============================] - 5s 10ms/step - loss: 0.5066 - acc: 0.9020 - val_loss: 4.8651 - val_acc: 0.5501\n",
      "Epoch 24/50\n",
      "500/500 [==============================] - 5s 9ms/step - loss: 0.4804 - acc: 0.9020 - val_loss: 4.9756 - val_acc: 0.5752\n",
      "Epoch 25/50\n",
      "500/500 [==============================] - 5s 9ms/step - loss: 0.3868 - acc: 0.9200 - val_loss: 4.9963 - val_acc: 0.5802\n",
      "Epoch 26/50\n",
      "500/500 [==============================] - 4s 9ms/step - loss: 0.3787 - acc: 0.9160 - val_loss: 5.0885 - val_acc: 0.5639\n",
      "Epoch 27/50\n",
      "500/500 [==============================] - 5s 9ms/step - loss: 0.3252 - acc: 0.9180 - val_loss: 5.0338 - val_acc: 0.5714\n",
      "Epoch 28/50\n",
      "500/500 [==============================] - 5s 10ms/step - loss: 0.2907 - acc: 0.9180 - val_loss: 4.9127 - val_acc: 0.5990\n",
      "Epoch 29/50\n",
      "500/500 [==============================] - 5s 10ms/step - loss: 0.2518 - acc: 0.9560 - val_loss: 4.9310 - val_acc: 0.5852\n",
      "Epoch 30/50\n",
      "500/500 [==============================] - 5s 9ms/step - loss: 0.2106 - acc: 0.9600 - val_loss: 4.9678 - val_acc: 0.5727\n",
      "Epoch 31/50\n",
      "500/500 [==============================] - 5s 9ms/step - loss: 0.1946 - acc: 0.9420 - val_loss: 4.8902 - val_acc: 0.5965\n",
      "Epoch 32/50\n",
      "500/500 [==============================] - 5s 9ms/step - loss: 0.1690 - acc: 0.9540 - val_loss: 4.8876 - val_acc: 0.5990\n",
      "Epoch 33/50\n",
      "500/500 [==============================] - 4s 9ms/step - loss: 0.1502 - acc: 0.9720 - val_loss: 4.9242 - val_acc: 0.5877\n",
      "Epoch 34/50\n",
      "500/500 [==============================] - 5s 9ms/step - loss: 0.1280 - acc: 0.9760 - val_loss: 4.8485 - val_acc: 0.6028\n",
      "Epoch 35/50\n",
      "500/500 [==============================] - 5s 9ms/step - loss: 0.1165 - acc: 0.9800 - val_loss: 4.8714 - val_acc: 0.5990\n",
      "Epoch 36/50\n",
      "500/500 [==============================] - 4s 9ms/step - loss: 0.0931 - acc: 0.9840 - val_loss: 4.9008 - val_acc: 0.5890\n",
      "Epoch 37/50\n",
      "500/500 [==============================] - 5s 9ms/step - loss: 0.0824 - acc: 0.9920 - val_loss: 4.8398 - val_acc: 0.6115\n",
      "Epoch 38/50\n",
      "500/500 [==============================] - 4s 9ms/step - loss: 0.0781 - acc: 0.9920 - val_loss: 4.9044 - val_acc: 0.5940\n",
      "Epoch 39/50\n",
      "500/500 [==============================] - 4s 9ms/step - loss: 0.0610 - acc: 0.9900 - val_loss: 4.8542 - val_acc: 0.6028\n",
      "Epoch 40/50\n",
      "500/500 [==============================] - 5s 9ms/step - loss: 0.0554 - acc: 0.9940 - val_loss: 4.8177 - val_acc: 0.6228\n",
      "Epoch 41/50\n",
      "500/500 [==============================] - 5s 9ms/step - loss: 0.0424 - acc: 0.9980 - val_loss: 4.8920 - val_acc: 0.5940\n",
      "Epoch 42/50\n",
      "500/500 [==============================] - 5s 9ms/step - loss: 0.0373 - acc: 1.0000 - val_loss: 4.8811 - val_acc: 0.5977\n",
      "Epoch 43/50\n",
      "500/500 [==============================] - 5s 9ms/step - loss: 0.0315 - acc: 1.0000 - val_loss: 4.8230 - val_acc: 0.6203\n",
      "Epoch 44/50\n",
      "500/500 [==============================] - 4s 9ms/step - loss: 0.0237 - acc: 1.0000 - val_loss: 4.8456 - val_acc: 0.6078\n",
      "Epoch 45/50\n",
      "500/500 [==============================] - 5s 9ms/step - loss: 0.0209 - acc: 1.0000 - val_loss: 4.8805 - val_acc: 0.6040\n",
      "Epoch 46/50\n",
      "500/500 [==============================] - 4s 9ms/step - loss: 0.0190 - acc: 1.0000 - val_loss: 4.8500 - val_acc: 0.6103\n",
      "Epoch 47/50\n",
      "500/500 [==============================] - 5s 9ms/step - loss: 0.0127 - acc: 1.0000 - val_loss: 4.8334 - val_acc: 0.6203\n",
      "Epoch 48/50\n",
      "500/500 [==============================] - 4s 9ms/step - loss: 0.0116 - acc: 1.0000 - val_loss: 4.8598 - val_acc: 0.6115\n",
      "Epoch 49/50\n",
      "500/500 [==============================] - 5s 9ms/step - loss: 0.0107 - acc: 1.0000 - val_loss: 4.8951 - val_acc: 0.5990\n",
      "Epoch 50/50\n",
      "500/500 [==============================] - 4s 9ms/step - loss: 0.0089 - acc: 1.0000 - val_loss: 4.8842 - val_acc: 0.6015\n"
     ]
    }
   ],
   "source": [
    "history = stroke_read_model.fit(train_x, train_y,\n",
    "                      validation_data = (test_x, test_y), \n",
    "                      batch_size = batch_size,\n",
    "                      epochs = 50)"
   ]
  },
  {
   "cell_type": "code",
   "execution_count": 29,
   "metadata": {
    "scrolled": true
   },
   "outputs": [
    {
     "data": {
      "image/png": "[encoded data removed]",
      "text/plain": [
       "<Figure size 432x288 with 1 Axes>"
      ]
     },
     "metadata": {
      "needs_background": "light"
     },
     "output_type": "display_data"
    }
   ],
   "source": [
    "visualize.plot_train_test_acc(history=history)"
   ]
  },
  {
   "cell_type": "code",
   "execution_count": null,
   "metadata": {},
   "outputs": [],
   "source": []
  }
 ],
 "metadata": {
  "accelerator": "GPU",
  "colab": {
   "collapsed_sections": [],
   "name": "1_wavenet.ipynb",
   "provenance": [
    {
     "file_id": "1ixohIMt5Ugu13JiFmh4rQfM4MVOcdn78",
     "timestamp": 1.54041154897E12
    }
   ],
   "toc_visible": true,
   "version": "0.3.2"
  },
  "kernelspec": {
   "display_name": "Python 3",
   "language": "python",
   "name": "python3"
  },
  "language_info": {
   "codemirror_mode": {
    "name": "ipython",
    "version": 3
   },
   "file_extension": ".py",
   "mimetype": "text/x-python",
   "name": "python",
   "nbconvert_exporter": "python",
   "pygments_lexer": "ipython3",
   "version": "3.6.6"
  }
 },
 "nbformat": 4,
 "nbformat_minor": 1
}
