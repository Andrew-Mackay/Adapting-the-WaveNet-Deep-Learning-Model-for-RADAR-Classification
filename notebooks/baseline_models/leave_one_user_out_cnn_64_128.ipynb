{
 "cells": [
  {
   "cell_type": "markdown",
   "metadata": {
    "colab_type": "text",
    "id": "LnU4VGgjH1mW"
   },
   "source": [
    "# 6 datasets tested. Train datasets contain all users except 1, Test datasets contain the missed out user. "
   ]
  },
  {
   "cell_type": "markdown",
   "metadata": {
    "colab_type": "text",
    "id": "2sqmYc1yQb-k"
   },
   "source": [
    "*   1, 1.5, 2 and 3 second windows tested\n",
    "*   0 degree aspect angle\n",
    "*   All movements\n",
    "*   Cnn 64_128 model\n",
    "*   Datsets:\n",
    "    * 1: Miss out A\n",
    "    * 2: Miss out B\n",
    "    * 3: Miss out C\n",
    "    * 4: Miss out D\n",
    "    * 5: Miss out E\n",
    "    * 6: Miss out F"
   ]
  },
  {
   "cell_type": "markdown",
   "metadata": {},
   "source": [
    "## Train or Load Toggle\n",
    "This variable sets whether to load results or train the model.\n",
    "* If set to True then the model will be trained, history saved, new graphs generated and saved and new analysis produced.\n",
    "* If set to False then a pre-trained version of the model will be loaded along with a history object."
   ]
  },
  {
   "cell_type": "code",
   "execution_count": 1,
   "metadata": {},
   "outputs": [],
   "source": [
    "TRAIN_MODEL_3s = False\n",
    "TRAIN_MODEL_2s = True\n",
    "TRAIN_MODEL_1_5_s = False\n",
    "TRAIN_MODEL_1s = False"
   ]
  },
  {
   "cell_type": "markdown",
   "metadata": {
    "colab_type": "text",
    "id": "bZxhO7V0ZHUE"
   },
   "source": [
    "## Notebook setup"
   ]
  },
  {
   "cell_type": "markdown",
   "metadata": {
    "colab_type": "text",
    "id": "x5jAnxaaZLzZ"
   },
   "source": [
    "Allow editing of modules using editor (auto reloading)"
   ]
  },
  {
   "cell_type": "code",
   "execution_count": 2,
   "metadata": {
    "colab": {},
    "colab_type": "code",
    "id": "TGNeUj-JDXhs"
   },
   "outputs": [],
   "source": [
    "# Needed to allow editing using PyCharm\n",
    "%load_ext autoreload\n",
    "%autoreload 2"
   ]
  },
  {
   "cell_type": "markdown",
   "metadata": {
    "colab_type": "text",
    "id": "QwLbqieVYIJt"
   },
   "source": [
    "Needed for compatibility when using both CoLab and Local Jupyter notebook. It sets the appropriate file path for the data and also installs local packages such as models and data_loading."
   ]
  },
  {
   "cell_type": "code",
   "execution_count": 3,
   "metadata": {
    "colab": {
     "base_uri": "https://localhost:8080/",
     "height": 166
    },
    "colab_type": "code",
    "executionInfo": {
     "elapsed": 5837,
     "status": "ok",
     "timestamp": 1540488820681,
     "user": {
      "displayName": "Andrew Mackay",
      "photoUrl": "https://lh3.googleusercontent.com/-24hiGmdxZDE/AAAAAAAAAAI/AAAAAAAAL_I/RW7nqM11LkM/s64/photo.jpg",
      "userId": "06804410358976473893"
     },
     "user_tz": -60
    },
    "id": "3XeU0HtoDXh6",
    "outputId": "961d06a0-85ab-4646-89b2-f068a720caca"
   },
   "outputs": [
    {
     "name": "stderr",
     "output_type": "stream",
     "text": [
      "Using TensorFlow backend.\n"
     ]
    }
   ],
   "source": [
    "import os\n",
    "if os.getcwd() == '/content':\n",
    "    from google.colab import drive\n",
    "    drive.mount('/content/gdrive')\n",
    "    BASE_PATH = '/content/gdrive/My Drive/Level-4-Project/'\n",
    "    !cd gdrive/My\\ Drive/Level-4-Project/ && pip install --editable .\n",
    "    os.chdir('gdrive/My Drive/Level-4-Project/')\n",
    "    \n",
    "elif os.getcwd() == 'D:\\\\Google Drive\\\\Level-4-Project\\\\notebooks\\\\baseline_models':\n",
    "    BASE_PATH = \"D:/Google Drive/Level-4-Project/\"\n",
    "    \n",
    "else:\n",
    "    BASE_PATH = \"/export/home/2192793m/Level-4-Project/\"\n",
    "    \n",
    "DATA_PATH = BASE_PATH + 'data/processed/'\n",
    "DATA_SETS = [\"dataset_1/\", \"dataset_2/\", \"dataset_3/\", \"dataset_4/\", \"dataset_5/\", \"dataset_6/\"]\n",
    "\n",
    "MODELS_PATH = BASE_PATH + 'models/baseline_model/leave_one_user_out_cnn_64_128/'\n",
    "RESULTS_PATH = BASE_PATH + 'results/baseline_model/leave_one_user_out_cnn_64_128/'\n",
    "REPORT_PATH = BASE_PATH + 'reports/baseline_model/leave_one_user_out_cnn_64_128/'\n",
    "    \n",
    "from src.models.original_models import cnn_64_128\n",
    "from src.data import load_data\n",
    "from src.visualization import multiple_plots, visualize"
   ]
  },
  {
   "cell_type": "markdown",
   "metadata": {
    "colab_type": "text",
    "id": "rgYwaq1eZb5u"
   },
   "source": [
    "Import remaining packages"
   ]
  },
  {
   "cell_type": "code",
   "execution_count": 4,
   "metadata": {
    "colab": {},
    "colab_type": "code",
    "id": "x8rzmlEhpe_R"
   },
   "outputs": [],
   "source": [
    "import numpy as np\n",
    "import sys\n",
    "from keras.preprocessing.image import ImageDataGenerator\n",
    "from keras.optimizers import SGD\n",
    "from keras.utils import np_utils\n",
    "import sys\n",
    "from sklearn.metrics import classification_report, confusion_matrix\n",
    "import csv\n",
    "from keras.models import load_model\n",
    "import pickle"
   ]
  },
  {
   "cell_type": "code",
   "execution_count": 5,
   "metadata": {
    "colab": {},
    "colab_type": "code",
    "id": "PsHOJ9lEpe_V"
   },
   "outputs": [],
   "source": [
    "# Needed as originally code was for theano backend but now using tensor flow\n",
    "from keras import backend as K\n",
    "K.set_image_dim_ordering('th')"
   ]
  },
  {
   "cell_type": "markdown",
   "metadata": {
    "colab_type": "text",
    "id": "Oqq9LWY5ZiIB"
   },
   "source": [
    "## Experiment Setup and Parameter Definition"
   ]
  },
  {
   "cell_type": "code",
   "execution_count": 6,
   "metadata": {
    "colab": {},
    "colab_type": "code",
    "id": "5r9302zCpe_j"
   },
   "outputs": [],
   "source": [
    "target_names = [\"walking\", \"pushing\", \"sitting\", \"pulling\", \"circling\", \"clapping\", \"bending\"]\n",
    "nb_classes = len(target_names)\n",
    "batch_size = 100\n",
    "nb_epoch = 20\n",
    "nb_epoch = 1\n",
    "\n",
    "# input image dimensions\n",
    "img_rows, img_cols = 75, 75"
   ]
  },
  {
   "cell_type": "markdown",
   "metadata": {},
   "source": [
    "load_datasets takes in the window size (1, 1.5, 2 or 3) as a string combines with an array datasets of the form [\"dataset_1/\", \"dataset_2/\",...].\n",
    "\n",
    "Returned is a dictionary indexed by dataset name which contains the training and testing sets."
   ]
  },
  {
   "cell_type": "code",
   "execution_count": 7,
   "metadata": {},
   "outputs": [],
   "source": [
    "def load_datasets(window_size, datasets):\n",
    "    datasets = {}\n",
    "    # Loop through each dataset 1,2,3,4,5,6\n",
    "    for dataset in DATA_SETS:\n",
    "        # load the training and testing sets\n",
    "        loaded_data = load_data.load_dataset(DATA_PATH + window_size + \"/\" + dataset)\n",
    "        # convert class vectors to binary class matrices\n",
    "        y_train = np_utils.to_categorical(loaded_data[\"train_labels\"], nb_classes)\n",
    "        y_test = np_utils.to_categorical(loaded_data[\"test_labels\"], nb_classes)\n",
    "        x_train = loaded_data[\"train_data\"].astype('float32')\n",
    "        x_test = loaded_data[\"test_data\"].astype('float32')\n",
    "        x_train /= 255\n",
    "        x_test /= 255 \n",
    "        # [:-1] removes backslash from string\n",
    "        datasets[dataset[:-1]] = {\n",
    "            \"train_labels\": y_train,\n",
    "            \"test_labels\": y_test,\n",
    "            \"train_data\": x_train,\n",
    "            \"test_data\": x_test\n",
    "        }\n",
    "    return datasets"
   ]
  },
  {
   "cell_type": "markdown",
   "metadata": {
    "colab_type": "text",
    "id": "mjJ4B23bZz47"
   },
   "source": [
    "## Training and Evaluating Models"
   ]
  },
  {
   "cell_type": "code",
   "execution_count": 8,
   "metadata": {
    "colab": {
     "base_uri": "https://localhost:8080/",
     "height": 4652
    },
    "colab_type": "code",
    "executionInfo": {
     "elapsed": 3199567,
     "status": "ok",
     "timestamp": 1540492029819,
     "user": {
      "displayName": "Andrew Mackay",
      "photoUrl": "https://lh3.googleusercontent.com/-24hiGmdxZDE/AAAAAAAAAAI/AAAAAAAAL_I/RW7nqM11LkM/s64/photo.jpg",
      "userId": "06804410358976473893"
     },
     "user_tz": -60
    },
    "id": "pKdiTJP6pe_n",
    "outputId": "5343ab33-16a5-4298-8b64-728a950ea309"
   },
   "outputs": [],
   "source": [
    "def train_model(train_data, train_labels, test_data, test_labels):\n",
    "    model = cnn_64_128.make_model(img_rows, img_cols, nb_classes)\n",
    "    # train the model using SGD + momentum.\n",
    "    sgd = SGD(lr=0.01, decay=1e-6, momentum=0.9, nesterov=True)\n",
    "    model.compile(loss='categorical_crossentropy',\n",
    "                  optimizer=sgd,\n",
    "                  metrics=['accuracy'])\n",
    "\n",
    "    history = model.fit(\n",
    "        train_data,\n",
    "        train_labels,\n",
    "        batch_size=batch_size,\n",
    "        epochs=nb_epoch,\n",
    "        validation_data=(test_data, test_labels),\n",
    "        shuffle=True, \n",
    "        verbose=1)\n",
    "    y_pred = model.predict_classes(test_data)\n",
    "    report = classification_report(np.argmax(data[\"test_labels\"],axis=1), y_pred,target_names=target_names)\n",
    "    conf_matrix = confusion_matrix(np.argmax(data[\"test_labels\"],axis=1), y_pred)\n",
    "    return {\"model\": model, \"history\": history, \"classification_report\": report, \"confusion_matrix\": confusion_matrix}"
   ]
  },
  {
   "cell_type": "code",
   "execution_count": 10,
   "metadata": {},
   "outputs": [],
   "source": [
    "def save_results(results, window_length):\n",
    "    for dataset_name, result in results.items():\n",
    "        model = result.pop[\"model\"]\n",
    "        model.save(MODELS_PATH + window_length + \"/\" + datset_name + '.h5')\n",
    "    pickle.dump(results, open(RESULTS_PATH + window_length + \"_results.pkl\", \"wb\"))"
   ]
  },
  {
   "cell_type": "code",
   "execution_count": 12,
   "metadata": {},
   "outputs": [],
   "source": [
    "def load_results(window_length):\n",
    "    results = pickle.load(open(RESULTS_PATH + window_length + \"_results.pkl\", \"rb\"))\n",
    "    for dataset_name, result in results.items():\n",
    "        result[\"model\"] = load_model(MODELS_PATH + window_length + \"/\" + datset_name + '.h5')"
   ]
  },
  {
   "cell_type": "markdown",
   "metadata": {},
   "source": [
    "### 3 second window"
   ]
  },
  {
   "cell_type": "code",
   "execution_count": 13,
   "metadata": {},
   "outputs": [
    {
     "name": "stdout",
     "output_type": "stream",
     "text": [
      "No saved file exists\n"
     ]
    }
   ],
   "source": [
    "results_3_seconds = {}\n",
    "if TRAIN_MODEL_3s:\n",
    "    datasets = load_datasets(\"3\", DATA_SETS)\n",
    "    results_3_seconds = {}\n",
    "    for dataset_name, data in datasets.items():\n",
    "        result = train_model(data[\"train_data\"], data[\"train_labels\"], data[\"test_data\"], data[\"test_labels\"])\n",
    "        results_3_seconds[dataset_name] = result\n",
    "    save_results(results_3_seconds, \"3\")\n",
    "    \n",
    "else:\n",
    "    try:\n",
    "        results_3_seconds = load_results(\"3\")\n",
    "    except:\n",
    "        print(\"No saved file exists\")"
   ]
  },
  {
   "cell_type": "markdown",
   "metadata": {},
   "source": [
    "### 2 second window"
   ]
  },
  {
   "cell_type": "code",
   "execution_count": null,
   "metadata": {},
   "outputs": [
    {
     "name": "stdout",
     "output_type": "stream",
     "text": [
      "Train on 37635 samples, validate on 8106 samples\n",
      "Epoch 1/1\n",
      "37635/37635 [==============================] - 428s 11ms/step - loss: 0.6589 - acc: 0.7530 - val_loss: 0.1589 - val_acc: 0.9333\n",
      "Train on 37635 samples, validate on 8106 samples\n",
      "Epoch 1/1\n",
      "27300/37635 [====================>.........] - ETA: 1:58 - loss: 0.7068 - acc: 0.7365"
     ]
    }
   ],
   "source": [
    "results_2_seconds = {}\n",
    "if TRAIN_MODEL_2s:\n",
    "    datasets = load_datasets(\"2\", DATA_SETS)\n",
    "    results_2_seconds = {}\n",
    "    for dataset_name, data in datasets.items():\n",
    "        result = train_model(data[\"train_data\"], data[\"train_labels\"], data[\"test_data\"], data[\"test_labels\"])\n",
    "        results_2_seconds[dataset_name] = result\n",
    "    save_results(results_2_seconds, \"2\")\n",
    "\n",
    "else:\n",
    "    try:\n",
    "        results_2_seconds = load_results(\"2\")\n",
    "    except:\n",
    "        print(\"No saved file exists\")"
   ]
  },
  {
   "cell_type": "markdown",
   "metadata": {},
   "source": [
    "### 1.5 second window"
   ]
  },
  {
   "cell_type": "code",
   "execution_count": null,
   "metadata": {},
   "outputs": [],
   "source": [
    "results_1_5_seconds = {}\n",
    "if TRAIN_MODEL_1_5s:\n",
    "    datasets = load_datasets(\"1_5\", DATA_SETS)\n",
    "    results_1_5_seconds = {}\n",
    "    for dataset_name, data in datasets.items():\n",
    "        result = train_model(data[\"train_data\"], data[\"train_labels\"], data[\"test_data\"], data[\"test_labels\"])\n",
    "        results_1_5_seconds[dataset_name] = result\n",
    "    save_results(results_1_5_seconds, \"1_5\")\n",
    "else:\n",
    "    try:\n",
    "        results_1_5_seconds = load_results(\"1_5\")\n",
    "    except:\n",
    "        print(\"No saved file exists\")"
   ]
  },
  {
   "cell_type": "markdown",
   "metadata": {},
   "source": [
    "### 1 second window"
   ]
  },
  {
   "cell_type": "code",
   "execution_count": null,
   "metadata": {},
   "outputs": [],
   "source": [
    "results_1_seconds = {}\n",
    "if TRAIN_MODEL_1s:\n",
    "    datasets = load_datasets(\"1\", DATA_SETS)\n",
    "    results_1_seconds = {}\n",
    "    for dataset_name, data in datasets.items():\n",
    "        result = train_model(data[\"train_data\"], data[\"train_labels\"], data[\"test_data\"], data[\"test_labels\"])\n",
    "        results_1_seconds[dataset_name] = result\n",
    "    save_results(results_1_seconds, \"1\")\n",
    "else:\n",
    "    try:\n",
    "        results_1_seconds = load_results(\"1\")\n",
    "    except:\n",
    "        print(\"No saved file exists\")"
   ]
  },
  {
   "cell_type": "markdown",
   "metadata": {
    "colab_type": "text",
    "id": "uU-i7-ijaNu-"
   },
   "source": [
    "## Analysis and Saving of Results"
   ]
  },
  {
   "cell_type": "code",
   "execution_count": 17,
   "metadata": {
    "colab": {},
    "colab_type": "code",
    "id": "8jKEtnEG14Iy"
   },
   "outputs": [],
   "source": [
    "save_graph = True\n",
    "save_models = True\n",
    "save_reports = True"
   ]
  },
  {
   "cell_type": "code",
   "execution_count": 14,
   "metadata": {},
   "outputs": [
    {
     "name": "stdout",
     "output_type": "stream",
     "text": [
      "Test on A\n"
     ]
    }
   ],
   "source": [
    "# Renaming keys to make more meaninful (helps for reprots and graphing)\n",
    "keys = list(datasets.keys())\n",
    "for key in keys:\n",
    "    print(key)\n",
    "    if key == \"dataset_1\":\n",
    "        datasets[\"Test on A\"] = datasets.pop(key)\n",
    "    elif key == \"dataset_2\":\n",
    "        datasets[\"Test on B\"] = datasets.pop(key)\n",
    "    elif key == \"dataset_3\":\n",
    "        datasets[\"Test on C\"] = datasets.pop(key)\n",
    "    elif key == \"dataset_4\":\n",
    "        datasets[\"Test on D\"] = datasets.pop(key)\n",
    "    elif key == \"dataset_5\":\n",
    "        datasets[\"Test on E\"] = datasets.pop(key)\n",
    "    elif key == \"dataset_6\":\n",
    "        datasets[\"Test on F\"] = datasets.pop(key)"
   ]
  },
  {
   "cell_type": "markdown",
   "metadata": {
    "colab_type": "text",
    "id": "7aCG-luMe2_h"
   },
   "source": [
    "### Plot and Save graph"
   ]
  },
  {
   "cell_type": "code",
   "execution_count": 15,
   "metadata": {
    "colab": {
     "base_uri": "https://localhost:8080/",
     "height": 376
    },
    "colab_type": "code",
    "executionInfo": {
     "elapsed": 1214,
     "status": "ok",
     "timestamp": 1540492032555,
     "user": {
      "displayName": "Andrew Mackay",
      "photoUrl": "https://lh3.googleusercontent.com/-24hiGmdxZDE/AAAAAAAAAAI/AAAAAAAAL_I/RW7nqM11LkM/s64/photo.jpg",
      "userId": "06804410358976473893"
     },
     "user_tz": -60
    },
    "id": "oNLxC8quhbYf",
    "outputId": "451e06bc-22d2-4481-a68e-5be4d14cd717"
   },
   "outputs": [
    {
     "data": {
      "image/png": "[encoded data removed]",
      "text/plain": [
       "<Figure size 432x288 with 1 Axes>"
      ]
     },
     "metadata": {
      "needs_background": "light"
     },
     "output_type": "display_data"
    }
   ],
   "source": [
    "if not load_models:\n",
    "    multiple_plots.plot_multiple_val_acc(\n",
    "        datasets,\n",
    "        \"Leave One User Out Comparison\",\n",
    "        save=save_graph,\n",
    "        path=REPORT_PATH + \"leave_one_user_out_comparison.svg\")"
   ]
  },
  {
   "cell_type": "markdown",
   "metadata": {
    "colab_type": "text",
    "id": "oKjaNI1Dezgg"
   },
   "source": [
    "### Save Models"
   ]
  },
  {
   "cell_type": "code",
   "execution_count": 19,
   "metadata": {
    "colab": {},
    "colab_type": "code",
    "id": "_PO4Wg4h3pJz"
   },
   "outputs": [],
   "source": [
    "if not load_models and save_models:\n",
    "    for name, model_data in datasets.items():\n",
    "        model_data['model'].save(MODEL_PATH + name + '.h5')"
   ]
  },
  {
   "cell_type": "markdown",
   "metadata": {
    "colab_type": "text",
    "id": "478w01d1xuFs"
   },
   "source": [
    "### Save Classification Report and Confusion Matricies"
   ]
  },
  {
   "cell_type": "code",
   "execution_count": 20,
   "metadata": {
    "colab": {},
    "colab_type": "code",
    "id": "WE2MBBFdxnlR"
   },
   "outputs": [],
   "source": [
    "if save_reports:\n",
    "    file = open(REPORT_PATH + 'Classification_and_Confusion.txt', 'w') \n",
    "\n",
    "    for name, model_data in datasets.items():\n",
    "        file.write(\"--------------------------------------------------\\n\") \n",
    "        file.write(\"Model Name: \" + name + \"\\n\") \n",
    "        file.write(\"Classification Report:\\n\") \n",
    "        file.write(model_data['classification_report'])\n",
    "        file.write(\"Confusion Matrix:\\n\") \n",
    "        file.write(np.array2string(model_data['confusion_matrix']) + \"\\n\")\n",
    "\n",
    "    file.close() "
   ]
  },
  {
   "cell_type": "code",
   "execution_count": null,
   "metadata": {
    "colab": {},
    "colab_type": "code",
    "id": "80JwFEpNyFGt"
   },
   "outputs": [],
   "source": []
  }
 ],
 "metadata": {
  "accelerator": "GPU",
  "colab": {
   "collapsed_sections": [],
   "name": "experiment_1.ipynb",
   "provenance": [
    {
     "file_id": "1ixohIMt5Ugu13JiFmh4rQfM4MVOcdn78",
     "timestamp": 1540411548970
    }
   ],
   "toc_visible": true,
   "version": "0.3.2"
  },
  "kernelspec": {
   "display_name": "Python 3",
   "language": "python",
   "name": "python3"
  },
  "language_info": {
   "codemirror_mode": {
    "name": "ipython",
    "version": 3
   },
   "file_extension": ".py",
   "mimetype": "text/x-python",
   "name": "python",
   "nbconvert_exporter": "python",
   "pygments_lexer": "ipython3",
   "version": "3.6.6"
  }
 },
 "nbformat": 4,
 "nbformat_minor": 1
}
