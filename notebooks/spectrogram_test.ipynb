{
 "cells": [
  {
   "cell_type": "code",
   "execution_count": 1,
   "metadata": {},
   "outputs": [],
   "source": [
    "import pandas as pd\n",
    "import numpy as np\n",
    "import matplotlib.pyplot as plt"
   ]
  },
  {
   "cell_type": "code",
   "execution_count": 2,
   "metadata": {},
   "outputs": [],
   "source": [
    "df = pd.read_table(\n",
    "    \"C:/Users/macka/Google Drive/Level-4-Project/data/raw/Dataset_97.dat\",\n",
    "    sep=\"\\n\",\n",
    "    header=None)"
   ]
  },
  {
   "cell_type": "code",
   "execution_count": 4,
   "metadata": {},
   "outputs": [],
   "source": [
    "def convert_to_complex(complex_string):\n",
    "    return complex(complex_string[0].replace('i', 'j'))"
   ]
  },
  {
   "cell_type": "code",
   "execution_count": 5,
   "metadata": {},
   "outputs": [],
   "source": [
    "center_frequency = float(df.iloc[0])\n",
    "sweep_time = float(df.iloc[1])/1000  # convert to seconds\n",
    "number_of_time_samples = float(df.iloc[2])\n",
    "bandwidth = float(df.iloc[3])\n",
    "sampling_frequency = number_of_time_samples/sweep_time\n",
    "record_length = 60\n",
    "number_of_chirps = record_length/sweep_time\n",
    "data = df.iloc[4:]\n",
    "data = data.apply(convert_to_complex, axis=1)\n",
    "data = data.values"
   ]
  },
  {
   "cell_type": "code",
   "execution_count": 6,
   "metadata": {},
   "outputs": [
    {
     "name": "stdout",
     "output_type": "stream",
     "text": [
      "[2045.+2060.j 2020.+2082.j 2038.+2033.j ... 2026.+2048.j 2030.+2022.j\n",
      " 2050.+2036.j]\n"
     ]
    }
   ],
   "source": [
    "data_time = np.reshape(data, (int(number_of_time_samples), int(number_of_chirps)))\n",
    "print(data)"
   ]
  },
  {
   "cell_type": "code",
   "execution_count": 7,
   "metadata": {},
   "outputs": [
    {
     "name": "stdout",
     "output_type": "stream",
     "text": [
      "(128, 60000)\n"
     ]
    }
   ],
   "source": [
    "win = np.ones((int(number_of_time_samples), data_time.shape[1]))\n",
    "print(win.shape)"
   ]
  },
  {
   "cell_type": "code",
   "execution_count": 8,
   "metadata": {},
   "outputs": [
    {
     "name": "stdout",
     "output_type": "stream",
     "text": [
      "(128, 60000) (128, 60000)\n"
     ]
    }
   ],
   "source": [
    "print(data_time.shape, win.shape)"
   ]
  },
  {
   "cell_type": "code",
   "execution_count": 9,
   "metadata": {},
   "outputs": [
    {
     "name": "stdout",
     "output_type": "stream",
     "text": [
      "(128, 60000)\n"
     ]
    }
   ],
   "source": [
    "test = data_time * win\n",
    "print(test.shape)"
   ]
  },
  {
   "cell_type": "code",
   "execution_count": 10,
   "metadata": {},
   "outputs": [],
   "source": [
    "tmp = np.fft.fft(test)"
   ]
  },
  {
   "cell_type": "code",
   "execution_count": 14,
   "metadata": {},
   "outputs": [
    {
     "name": "stdout",
     "output_type": "stream",
     "text": [
      "(128, 60000)\n"
     ]
    }
   ],
   "source": [
    "print(tmp.shape)"
   ]
  },
  {
   "cell_type": "code",
   "execution_count": 13,
   "metadata": {},
   "outputs": [
    {
     "name": "stdout",
     "output_type": "stream",
     "text": [
      "[[ 1.22590840e+08+1.23041124e+08j  6.56788955e+02+1.19851769e+03j\n",
      "   6.14697811e+02-3.92389818e+01j ... -1.21085594e+03+1.23730485e+03j\n",
      "   2.34203355e+01+1.63289393e+03j  4.72906823e+02-1.44505885e+03j]\n",
      " [ 1.22589212e+08+1.23044295e+08j -3.83607202e+02-3.74986715e+03j\n",
      "  -3.51943663e+03+1.51621968e+03j ... -2.39445581e+03+1.53152490e+03j\n",
      "  -3.68122723e+02-1.13781211e+03j -1.94455218e+03+1.68015244e+02j]\n",
      " [ 1.22588214e+08+1.23039001e+08j -6.59278826e+02-3.14566512e+03j\n",
      "  -2.97043167e+03-1.60025049e+02j ...  4.69886437e+02-9.16159351e+02j\n",
      "   7.88450810e+01-1.05365553e+03j  5.66411531e+02-1.27356496e+03j]\n",
      " ...\n",
      " [ 1.22589104e+08+1.23034012e+08j -3.66063154e+02+2.10992275e+03j\n",
      "  -1.34397149e+03-1.91029858e+03j ... -2.44582841e+03+7.46704942e+02j\n",
      "  -1.22474142e+03-1.87174149e+03j  1.03122383e+03-6.14689895e+03j]\n",
      " [ 1.22587131e+08+1.23033531e+08j -6.41712035e+02-1.78074853e+03j\n",
      "   3.94301490e+02-4.09918879e+02j ... -1.76596770e+03+1.62465362e+03j\n",
      "  -2.28084291e+03-1.17708679e+03j -2.29959414e+02-2.20353889e+03j]\n",
      " [ 1.22590815e+08+1.23038508e+08j  1.64652341e+03-7.82714486e+03j\n",
      "   6.09772688e+02-1.08583982e+03j ...  1.33415986e+03+1.18549653e+03j\n",
      "  -1.40322436e+03+8.03677650e+02j  1.99353452e+02-6.83277031e+02j]]\n"
     ]
    }
   ],
   "source": [
    "print(tmp)"
   ]
  },
  {
   "cell_type": "code",
   "execution_count": 11,
   "metadata": {},
   "outputs": [],
   "source": [
    "fftshifted = np.fft.fftshift(tmp, 0)"
   ]
  },
  {
   "cell_type": "code",
   "execution_count": 12,
   "metadata": {},
   "outputs": [
    {
     "name": "stdout",
     "output_type": "stream",
     "text": [
      "(128, 60000)\n"
     ]
    }
   ],
   "source": [
    "print(fftshifted.shape)"
   ]
  },
  {
   "cell_type": "code",
   "execution_count": 15,
   "metadata": {},
   "outputs": [
    {
     "name": "stdout",
     "output_type": "stream",
     "text": [
      "(64, 60000)\n"
     ]
    }
   ],
   "source": [
    "data_range = fftshifted[int(number_of_time_samples/2):int(number_of_time_samples), :]\n",
    "print(data_range.shape)"
   ]
  },
  {
   "cell_type": "code",
   "execution_count": 16,
   "metadata": {},
   "outputs": [],
   "source": [
    "def nearest_odd_number(x):\n",
    "    if(np.floor(x) % 2 == 0):\n",
    "        return int(np.floor(x) + 1)\n",
    "    else:\n",
    "        return int(np.floor(x))"
   ]
  },
  {
   "cell_type": "code",
   "execution_count": 18,
   "metadata": {},
   "outputs": [
    {
     "name": "stdout",
     "output_type": "stream",
     "text": [
      "60000 60000\n"
     ]
    }
   ],
   "source": [
    "# IIR Notch filter\n",
    "x = data_range.shape[1]\n",
    "ns = nearest_odd_number(x) - 1\n",
    "print(x, ns)"
   ]
  },
  {
   "cell_type": "code",
   "execution_count": 19,
   "metadata": {},
   "outputs": [
    {
     "name": "stdout",
     "output_type": "stream",
     "text": [
      "(64, 60000)\n"
     ]
    }
   ],
   "source": [
    "data_range_MTI = np.zeros((data_range.shape[0], ns))\n",
    "print(data_range.shape)"
   ]
  },
  {
   "cell_type": "code",
   "execution_count": 20,
   "metadata": {},
   "outputs": [],
   "source": [
    "from scipy.signal import butter, freqz, lfilter"
   ]
  },
  {
   "cell_type": "code",
   "execution_count": 21,
   "metadata": {},
   "outputs": [],
   "source": [
    "(b, a) = butter(4, 0.01, btype=\"high\")"
   ]
  },
  {
   "cell_type": "code",
   "execution_count": 22,
   "metadata": {},
   "outputs": [],
   "source": [
    "(f1, h) = freqz(b, a, ns)"
   ]
  },
  {
   "cell_type": "code",
   "execution_count": 23,
   "metadata": {},
   "outputs": [
    {
     "name": "stdout",
     "output_type": "stream",
     "text": [
      "[0.00000000e+00 5.23598776e-05 1.04719755e-04 ... 3.14143557e+00\n",
      " 3.14148793e+00 3.14154029e+00] [-1.18712144e-10+0.00000000e+00j -4.74844288e-10+2.01816381e-12j\n",
      " -7.12246027e-10+6.18486026e-12j ...  1.00000000e+00+3.22408008e-06j\n",
      "  1.00000000e+00+2.14938672e-06j  1.00000000e+00+1.07469336e-06j]\n"
     ]
    }
   ],
   "source": [
    "print(f1, h)"
   ]
  },
  {
   "cell_type": "code",
   "execution_count": 24,
   "metadata": {},
   "outputs": [
    {
     "name": "stderr",
     "output_type": "stream",
     "text": [
      "C:\\Users\\macka\\Anaconda3\\envs\\dataScience\\lib\\site-packages\\ipykernel_launcher.py:2: ComplexWarning: Casting complex values to real discards the imaginary part\n",
      "  \n"
     ]
    }
   ],
   "source": [
    "for i in range(data_range.shape[0]):\n",
    "    data_range_MTI[i, :ns] = lfilter(b, a, data_range[i, :ns])"
   ]
  },
  {
   "cell_type": "code",
   "execution_count": 25,
   "metadata": {},
   "outputs": [
    {
     "name": "stdout",
     "output_type": "stream",
     "text": [
      "[0.00000000e+00 1.06666667e+00 2.13333333e+00 ... 6.39957333e+04\n",
      " 6.39968000e+04 6.39978667e+04]\n",
      "60000\n"
     ]
    }
   ],
   "source": [
    "freq = np.arange(0, ns-1)\n",
    "freq = freq * sampling_frequency/(2*ns)\n",
    "print(freq)\n",
    "print(ns)"
   ]
  },
  {
   "cell_type": "code",
   "execution_count": 26,
   "metadata": {},
   "outputs": [
    {
     "name": "stdout",
     "output_type": "stream",
     "text": [
      "[0.00000e+00 4.00000e-04 8.00000e-04 ... 2.39984e+01 2.39988e+01\n",
      " 2.39992e+01]\n"
     ]
    }
   ],
   "source": [
    "range_axis = (freq * 3e8*sweep_time)/(2*bandwidth)\n",
    "print(range_axis)"
   ]
  },
  {
   "cell_type": "code",
   "execution_count": 27,
   "metadata": {},
   "outputs": [
    {
     "name": "stdout",
     "output_type": "stream",
     "text": [
      "(63, 60000) (63, 60000)\n"
     ]
    }
   ],
   "source": [
    "data_range_MTI = data_range_MTI[1:, :]\n",
    "data_range = data_range[1:, :]\n",
    "print(data_range.shape, data_range_MTI.shape)"
   ]
  },
  {
   "cell_type": "code",
   "execution_count": 29,
   "metadata": {},
   "outputs": [
    {
     "data": {
      "text/plain": [
       "<matplotlib.image.AxesImage at 0x1fa10f73c50>"
      ]
     },
     "execution_count": 29,
     "metadata": {},
     "output_type": "execute_result"
    },
    {
     "data": {
      "image/png": "[encoded data removed]",
      "text/plain": [
       "<Figure size 432x288 with 1 Axes>"
      ]
     },
     "metadata": {
      "needs_background": "light"
     },
     "output_type": "display_data"
    }
   ],
   "source": [
    "plt.imshow(20 * np.log10(abs(data_range_MTI[:, :4000])))"
   ]
  },
  {
   "cell_type": "code",
   "execution_count": null,
   "metadata": {},
   "outputs": [],
   "source": [
    "# POTENTIALLY ADD WIFI CLEANING"
   ]
  }
 ],
 "metadata": {
  "kernelspec": {
   "display_name": "Python 3",
   "language": "python",
   "name": "python3"
  },
  "language_info": {
   "codemirror_mode": {
    "name": "ipython",
    "version": 3
   },
   "file_extension": ".py",
   "mimetype": "text/x-python",
   "name": "python",
   "nbconvert_exporter": "python",
   "pygments_lexer": "ipython3",
   "version": "3.6.6"
  }
 },
 "nbformat": 4,
 "nbformat_minor": 2
}
