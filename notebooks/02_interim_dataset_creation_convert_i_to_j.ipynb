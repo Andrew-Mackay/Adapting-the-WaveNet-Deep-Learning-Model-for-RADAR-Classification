{
 "cells": [
  {
   "cell_type": "markdown",
   "metadata": {
    "id": "i8Ph3TWg-40d",
    "colab_type": "text"
   },
   "source": [
    "# Replace i with j in raw dataset\n",
    "The raw RADAR data is made up of complex numbers. As it uses the mathematical convention of using  i to represent the imaginary component this is not compatible with python which uses the engineering convention of j."
   ]
  },
  {
   "cell_type": "markdown",
   "metadata": {
    "id": "pJdeqo2c_zZI",
    "colab_type": "text"
   },
   "source": [
    "## Notebook Setup"
   ]
  },
  {
   "cell_type": "markdown",
   "metadata": {
    "colab_type": "text",
    "id": "x5jAnxaaZLzZ"
   },
   "source": [
    "Allow editing of modules using editor (auto reloading)"
   ]
  },
  {
   "cell_type": "code",
   "execution_count": 0,
   "metadata": {
    "id": "gpXr0Luz7qPv",
    "colab_type": "code",
    "colab": {}
   },
   "outputs": [],
   "source": [
    "# Needed for notebook version\n",
    "%matplotlib inline\n",
    "# Needed to allow editing using PyCharm\n",
    "%load_ext autoreload\n",
    "%autoreload 2"
   ]
  },
  {
   "cell_type": "markdown",
   "metadata": {
    "colab_type": "text",
    "id": "co_EfxIm_7Qp"
   },
   "source": [
    "Allow editing of modules using editor (auto reloading)"
   ]
  },
  {
   "cell_type": "code",
   "execution_count": 0,
   "metadata": {
    "id": "YLQG7nxb7qP_",
    "colab_type": "code",
    "outputId": "85b8e0bf-3f1d-40fe-bcb2-630ba1f4de20",
    "executionInfo": {
     "status": "ok",
     "timestamp": 1.544140238214E12,
     "user_tz": 0.0,
     "elapsed": 6380.0,
     "user": {
      "displayName": "Andrew Mackay",
      "photoUrl": "https://lh3.googleusercontent.com/-24hiGmdxZDE/AAAAAAAAAAI/AAAAAAAAL_I/RW7nqM11LkM/s64/photo.jpg",
      "userId": "06804410358976473893"
     }
    },
    "colab": {
     "base_uri": "https://localhost:8080/",
     "height": 148.0
    }
   },
   "outputs": [
    {
     "name": "stdout",
     "output_type": "stream",
     "text": [
      "Drive already mounted at /content/gdrive; to attempt to forcibly remount, call drive.mount(\"/content/gdrive\", force_remount=True).\n",
      "Obtaining file:///content/gdrive/My%20Drive/Level-4-Project\n",
      "Installing collected packages: src\n",
      "  Found existing installation: src 0.1.0\n",
      "    Can't uninstall 'src'. No files were found to uninstall.\n",
      "  Running setup.py develop for src\n",
      "Successfully installed src\n"
     ]
    }
   ],
   "source": [
    "import os\n",
    "\n",
    "# CoLab\n",
    "if os.getcwd() == '/content':\n",
    "    from google.colab import drive\n",
    "    drive.mount('/content/gdrive')\n",
    "    BASE_PATH = '/content/gdrive/My Drive/Level-4-Project/'\n",
    "    !cd gdrive/My\\ Drive/Level-4-Project/ && pip install --editable .\n",
    "    os.chdir('gdrive/My Drive/Level-4-Project/')\n",
    "\n",
    "# Laptop\n",
    "elif os.getcwd() == 'D:\\\\Google Drive\\\\Level-4-Project\\\\notebooks' or os.getcwd() == 'D:\\\\Google Drive\\\\Level-4-Project\\\\src\\\\features':\n",
    "    BASE_PATH = \"D:/Google Drive/Level-4-Project/\"\n",
    "    \n",
    "# GPU cluster\n",
    "else:\n",
    "    BASE_PATH = \"/export/home/2192793m/Level-4-Project/\"\n",
    "    \n",
    "RAW_PATH = BASE_PATH + 'data/raw/'\n",
    "INTERIM_PATH = BASE_PATH + 'data/interim/'"
   ]
  },
  {
   "cell_type": "code",
   "execution_count": 0,
   "metadata": {
    "id": "M4XW1qxt7qQE",
    "colab_type": "code",
    "colab": {}
   },
   "outputs": [],
   "source": [
    "from src.features import make_spectrograms, process_labels, make_directory"
   ]
  },
  {
   "cell_type": "code",
   "execution_count": 0,
   "metadata": {
    "id": "5q3V_jO-7qQJ",
    "colab_type": "code",
    "colab": {}
   },
   "outputs": [],
   "source": [
    "import pandas as pd\n",
    "import matplotlib.pyplot as plt\n",
    "from scipy.signal import butter\n",
    "import time\n",
    "from shutil import copy"
   ]
  },
  {
   "cell_type": "code",
   "execution_count": 0,
   "metadata": {
    "id": "97nH7dP-7qQO",
    "colab_type": "code",
    "colab": {}
   },
   "outputs": [],
   "source": [
    "df_labels = pd.read_csv(RAW_PATH + 'Labels.csv')\n",
    "df_labels.rename(columns={'dataset ID': 'dataset_id'}, inplace=True)"
   ]
  },
  {
   "cell_type": "code",
   "execution_count": 0,
   "metadata": {
    "id": "lAgw-j2L7qQW",
    "colab_type": "code",
    "colab": {}
   },
   "outputs": [],
   "source": [
    "df_labels = process_labels.process_labels(df_labels)"
   ]
  },
  {
   "cell_type": "code",
   "execution_count": 0,
   "metadata": {
    "id": "yHggJnsdDXO1",
    "colab_type": "code",
    "colab": {}
   },
   "outputs": [],
   "source": [
    "# Switches out i for j to ensure python compatibility\n",
    "def convert_to_complex(complex_string):\n",
    "    return complex(complex_string[0].replace('i', 'j'))"
   ]
  },
  {
   "cell_type": "code",
   "execution_count": 0,
   "metadata": {
    "scrolled": false,
    "id": "tGU8q3As7qQn",
    "colab_type": "code",
    "outputId": "548b9fb3-202a-4b4f-d87e-864f5458b430",
    "executionInfo": {
     "status": "ok",
     "timestamp": 1.544144497604E12,
     "user_tz": 0.0,
     "elapsed": 4251903.0,
     "user": {
      "displayName": "Andrew Mackay",
      "photoUrl": "https://lh3.googleusercontent.com/-24hiGmdxZDE/AAAAAAAAAAI/AAAAAAAAL_I/RW7nqM11LkM/s64/photo.jpg",
      "userId": "06804410358976473893"
     }
    },
    "colab": {
     "base_uri": "https://localhost:8080/",
     "height": 3436.0
    }
   },
   "outputs": [
    {
     "name": "stdout",
     "output_type": "stream",
     "text": [
      "---Row took 0 minutes ---\n",
      "---Row took 0 minutes ---\n",
      "---Row took 0 minutes ---\n",
      "---Row took 0 minutes ---\n",
      "---Row took 0 minutes ---\n",
      "---Row took 0 minutes ---\n",
      "---Row took 0 minutes ---\n",
      "---Row took 0 minutes ---\n",
      "---Row took 0 minutes ---\n",
      "---Row took 0 minutes ---\n",
      "---Row took 0 minutes ---\n",
      "---Row took 0 minutes ---\n",
      "---Row took 0 minutes ---\n",
      "---Row took 0 minutes ---\n",
      "---Row took 0 minutes ---\n",
      "---Row took 0 minutes ---\n",
      "---Row took 0 minutes ---\n",
      "---Row took 0 minutes ---\n",
      "---Row took 0 minutes ---\n",
      "---Row took 0 minutes ---\n",
      "---Row took 0 minutes ---\n",
      "---Row took 0 minutes ---\n",
      "---Row took 0 minutes ---\n",
      "---Row took 0 minutes ---\n",
      "---Row took 0 minutes ---\n",
      "---Row took 0 minutes ---\n",
      "---Row took 0 minutes ---\n",
      "---Row took 0 minutes ---\n",
      "---Row took 0 minutes ---\n",
      "---Row took 0 minutes ---\n",
      "---Row took 0 minutes ---\n",
      "---Row took 0 minutes ---\n",
      "---Row took 0 minutes ---\n",
      "---Row took 0 minutes ---\n",
      "---Row took 0 minutes ---\n",
      "---Row took 0 minutes ---\n",
      "---Row took 0 minutes ---\n",
      "---Row took 0 minutes ---\n",
      "---Row took 0 minutes ---\n",
      "---Row took 0 minutes ---\n",
      "---Row took 0 minutes ---\n",
      "---Row took 0 minutes ---\n",
      "---Row took 0 minutes ---\n",
      "---Row took 0 minutes ---\n",
      "---Row took 0 minutes ---\n",
      "---Row took 0 minutes ---\n",
      "---Row took 0 minutes ---\n",
      "---Row took 0 minutes ---\n",
      "---Row took 0 minutes ---\n",
      "---Row took 0 minutes ---\n",
      "---Row took 0 minutes ---\n",
      "---Row took 0 minutes ---\n",
      "---Row took 0 minutes ---\n",
      "---Row took 0 minutes ---\n",
      "---Row took 0 minutes ---\n",
      "---Row took 0 minutes ---\n",
      "---Row took 0 minutes ---\n",
      "---Row took 0 minutes ---\n",
      "---Row took 0 minutes ---\n",
      "---Row took 0 minutes ---\n",
      "---Row took 0 minutes ---\n",
      "---Row took 0 minutes ---\n",
      "---Row took 0 minutes ---\n",
      "---Row took 0 minutes ---\n",
      "---Row took 0 minutes ---\n",
      "---Row took 0 minutes ---\n",
      "---Row took 0 minutes ---\n",
      "---Row took 0 minutes ---\n",
      "---Row took 0 minutes ---\n",
      "---Row took 0 minutes ---\n",
      "---Row took 0 minutes ---\n",
      "---Row took 0 minutes ---\n",
      "---Row took 0 minutes ---\n",
      "---Row took 0 minutes ---\n",
      "---Row took 0 minutes ---\n",
      "---Row took 0 minutes ---\n",
      "---Row took 0 minutes ---\n",
      "---Row took 0 minutes ---\n",
      "---Row took 0 minutes ---\n",
      "---Row took 0 minutes ---\n",
      "---Row took 0 minutes ---\n",
      "---Row took 0 minutes ---\n",
      "---Row took 0 minutes ---\n",
      "---Row took 0 minutes ---\n",
      "---Row took 0 minutes ---\n",
      "---Row took 0 minutes ---\n",
      "---Row took 0 minutes ---\n",
      "---Row took 0 minutes ---\n",
      "---Row took 0 minutes ---\n",
      "---Row took 0 minutes ---\n",
      "---Row took 0 minutes ---\n",
      "---Row took 0 minutes ---\n",
      "---Row took 0 minutes ---\n",
      "Processing row 94 of 123\n",
      "94\n",
      "---Row took 2 minutes ---\n",
      "Processing row 95 of 123\n",
      "95\n",
      "---Row took 2 minutes ---\n",
      "Processing row 96 of 123\n",
      "96\n",
      "---Row took 2 minutes ---\n",
      "Processing row 97 of 123\n",
      "97\n",
      "---Row took 2 minutes ---\n",
      "Processing row 98 of 123\n",
      "98\n",
      "---Row took 2 minutes ---\n",
      "Processing row 99 of 123\n",
      "99\n",
      "---Row took 2 minutes ---\n",
      "Processing row 100 of 123\n",
      "100\n",
      "---Row took 2 minutes ---\n",
      "Processing row 101 of 123\n",
      "101\n",
      "---Row took 2 minutes ---\n",
      "Processing row 102 of 123\n",
      "102\n",
      "---Row took 2 minutes ---\n",
      "Processing row 103 of 123\n",
      "103\n",
      "---Row took 2 minutes ---\n",
      "Processing row 104 of 123\n",
      "104\n",
      "---Row took 2 minutes ---\n",
      "Processing row 105 of 123\n",
      "105\n",
      "---Row took 2 minutes ---\n",
      "Processing row 106 of 123\n",
      "106\n",
      "---Row took 2 minutes ---\n",
      "Processing row 107 of 123\n",
      "107\n",
      "---Row took 2 minutes ---\n",
      "Processing row 108 of 123\n",
      "108\n",
      "---Row took 2 minutes ---\n",
      "Processing row 109 of 123\n",
      "109\n",
      "---Row took 2 minutes ---\n",
      "Processing row 110 of 123\n",
      "110\n",
      "---Row took 2 minutes ---\n",
      "Processing row 111 of 123\n",
      "111\n",
      "---Row took 2 minutes ---\n",
      "Processing row 112 of 123\n",
      "112\n",
      "---Row took 2 minutes ---\n",
      "Processing row 113 of 123\n",
      "113\n",
      "---Row took 2 minutes ---\n",
      "Processing row 114 of 123\n",
      "114\n",
      "---Row took 2 minutes ---\n",
      "Processing row 115 of 123\n",
      "115\n",
      "---Row took 2 minutes ---\n",
      "Processing row 116 of 123\n",
      "116\n",
      "---Row took 2 minutes ---\n",
      "Processing row 117 of 123\n",
      "117\n",
      "---Row took 2 minutes ---\n",
      "Processing row 118 of 123\n",
      "118\n",
      "---Row took 2 minutes ---\n",
      "Processing row 119 of 123\n",
      "119\n",
      "---Row took 2 minutes ---\n",
      "Processing row 120 of 123\n",
      "120\n",
      "---Row took 2 minutes ---\n",
      "Processing row 121 of 123\n",
      "121\n",
      "---Row took 2 minutes ---\n",
      "Processing row 122 of 123\n",
      "122\n",
      "---Row took 2 minutes ---\n",
      "Processing row 123 of 123\n",
      "123\n",
      "---Row took 2 minutes ---\n"
     ]
    }
   ],
   "source": [
    "number_of_rows = df_labels.shape[0]\n",
    "current_row = 1\n",
    "for row in df_labels.itertuples():\n",
    "    start_time = time.time()\n",
    "\n",
    "    if row.dataset_id >= 94:\n",
    "        print(\"Processing row\", current_row, \"of\", number_of_rows)\n",
    "        print(str(row.dataset_id))\n",
    "        file_name = RAW_PATH + \"Dataset_\" + str(row.dataset_id) + \".dat\"\n",
    "        radar_df = pd.read_table(file_name, sep=\"\\n\", header=None)\n",
    "        converted = radar_df[4:].apply(convert_to_complex, axis=1)\n",
    "        reshaped = converted.values.reshape(converted.shape[0], 1)\n",
    "        radar_df[4:] = reshaped\n",
    "\n",
    "\n",
    "        radar_df.to_csv(INTERIM_PATH + \"Dataset_\" + str(row.dataset_id) + \".dat\")\n",
    "\n",
    "    current_row += 1\n",
    "    time_for_row = (time.time() - start_time)/60\n",
    "    print(\"---Row took %s minutes ---\" % (int(time_for_row)))\n",
    "    "
   ]
  },
  {
   "cell_type": "code",
   "execution_count": 0,
   "metadata": {
    "id": "gVQ0U7neWHow",
    "colab_type": "code",
    "colab": {}
   },
   "outputs": [],
   "source": [
    "# Copy Labels.csv file from raw to interim\n",
    "copy(RAW_PATH + 'Labels.csv', INTERIM_PATH)"
   ]
  }
 ],
 "metadata": {
  "colab": {
   "name": "2_interim_dataset_creation.ipynb",
   "version": "0.3.2",
   "provenance": [],
   "collapsed_sections": []
  },
  "kernelspec": {
   "display_name": "Python 3",
   "language": "python",
   "name": "python3"
  }
 },
 "nbformat": 4,
 "nbformat_minor": 0
}
