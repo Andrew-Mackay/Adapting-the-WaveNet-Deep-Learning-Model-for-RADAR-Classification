{
 "cells": [
  {
   "cell_type": "markdown",
   "metadata": {
    "colab_type": "text",
    "id": "i8Ph3TWg-40d"
   },
   "source": [
    "# Replace i with j in raw dataset\n",
    "The raw RADAR data is made up of complex numbers. As it uses the mathematical convention of using  i to represent the imaginary component this is not compatible with python which uses the engineering convention of j."
   ]
  },
  {
   "cell_type": "markdown",
   "metadata": {
    "colab_type": "text",
    "id": "pJdeqo2c_zZI"
   },
   "source": [
    "## Notebook Setup"
   ]
  },
  {
   "cell_type": "markdown",
   "metadata": {
    "colab_type": "text",
    "id": "co_EfxIm_7Qp"
   },
   "source": [
    "\n",
    "Allow editing of modules using editor (auto reloading)"
   ]
  },
  {
   "cell_type": "code",
   "execution_count": 1,
   "metadata": {
    "colab": {
     "base_uri": "https://localhost:8080/",
     "height": 148
    },
    "colab_type": "code",
    "executionInfo": {
     "elapsed": 6380,
     "status": "ok",
     "timestamp": 1544140238214,
     "user": {
      "displayName": "Andrew Mackay",
      "photoUrl": "https://lh3.googleusercontent.com/-24hiGmdxZDE/AAAAAAAAAAI/AAAAAAAAL_I/RW7nqM11LkM/s64/photo.jpg",
      "userId": "06804410358976473893"
     },
     "user_tz": 0
    },
    "id": "YLQG7nxb7qP_",
    "outputId": "85b8e0bf-3f1d-40fe-bcb2-630ba1f4de20"
   },
   "outputs": [],
   "source": [
    "import os\n",
    "\n",
    "# CoLab\n",
    "if os.getcwd() == '/content':\n",
    "    from google.colab import drive\n",
    "    drive.mount('/content/gdrive')\n",
    "    BASE_PATH = '/content/gdrive/My Drive/Level-4-Project/'\n",
    "    os.chdir('gdrive/My Drive/Level-4-Project/')\n",
    "\n",
    "# Laptop\n",
    "elif os.getcwd() == 'D:\\\\Google Drive\\\\Level-4-Project\\\\notebooks'\\\n",
    "        or os.getcwd() == 'D:\\\\Google Drive\\\\Level-4-Project\\\\src\\\\features':\n",
    "    BASE_PATH = \"D:/Google Drive/Level-4-Project/\"\n",
    "    \n",
    "# GPU cluster\n",
    "else:\n",
    "    BASE_PATH = \"/export/home/2192793m/Level-4-Project/\"\n",
    "    \n",
    "RAW_PATH = BASE_PATH + 'data/raw/'\n",
    "INTERIM_PATH = BASE_PATH + 'data/interim/'"
   ]
  },
  {
   "cell_type": "code",
   "execution_count": 2,
   "metadata": {
    "colab": {},
    "colab_type": "code",
    "id": "5q3V_jO-7qQJ"
   },
   "outputs": [],
   "source": [
    "import pandas as pd\n",
    "from shutil import copy"
   ]
  },
  {
   "cell_type": "code",
   "execution_count": 3,
   "metadata": {
    "colab": {},
    "colab_type": "code",
    "id": "97nH7dP-7qQO"
   },
   "outputs": [],
   "source": [
    "df_labels = pd.read_csv(RAW_PATH + 'Labels.csv')\n",
    "df_labels.rename(columns={'dataset ID': 'dataset_id'}, inplace=True)"
   ]
  },
  {
   "cell_type": "code",
   "execution_count": 4,
   "metadata": {
    "colab": {},
    "colab_type": "code",
    "id": "yHggJnsdDXO1"
   },
   "outputs": [],
   "source": [
    "def convert_to_complex(complex_string):\n",
    "    \"\"\"\n",
    "    Converts string of format \"a + bi\" to a python complex number.\n",
    "    To do this, i is replaced with j before conversion.\n",
    "    :param complex_string: complex number in format \"a + bi\"\n",
    "    :type complex_string: str\n",
    "    :return: data point in complex form\n",
    "    :rtype: complex\n",
    "    \"\"\"\n",
    "    return complex(complex_string[0].replace('i', 'j'))"
   ]
  },
  {
   "cell_type": "code",
   "execution_count": 5,
   "metadata": {},
   "outputs": [],
   "source": [
    "# Set to desired row to start processing from (used to resume from program crash)\n",
    "resume_from_row = 0"
   ]
  },
  {
   "cell_type": "code",
   "execution_count": 6,
   "metadata": {
    "colab": {
     "base_uri": "https://localhost:8080/",
     "height": 3436
    },
    "colab_type": "code",
    "executionInfo": {
     "elapsed": 4251903,
     "status": "ok",
     "timestamp": 1544144497604,
     "user": {
      "displayName": "Andrew Mackay",
      "photoUrl": "https://lh3.googleusercontent.com/-24hiGmdxZDE/AAAAAAAAAAI/AAAAAAAAL_I/RW7nqM11LkM/s64/photo.jpg",
      "userId": "06804410358976473893"
     },
     "user_tz": 0
    },
    "id": "tGU8q3As7qQn",
    "outputId": "548b9fb3-202a-4b4f-d87e-864f5458b430",
    "scrolled": false
   },
   "outputs": [],
   "source": [
    "number_of_rows = df_labels.shape[0]\n",
    "current_row = 1\n",
    "for row in df_labels.itertuples():\n",
    "    if row.dataset_id >= resume_from_row:\n",
    "        print(\"Processing row\", current_row, \"of\", number_of_rows)\n",
    "        print(str(row.dataset_id))\n",
    "        file_name = RAW_PATH + \"Dataset_\" + str(row.dataset_id) + \".dat\"\n",
    "        radar_df = pd.read_table(file_name, sep=\"\\n\", header=None)\n",
    "        converted = radar_df[4:].apply(convert_to_complex, axis=1)\n",
    "        reshaped = converted.values.reshape(converted.shape[0], 1)\n",
    "        radar_df[4:] = reshaped\n",
    "\n",
    "        radar_df.to_csv(INTERIM_PATH + \"Dataset_\" + str(row.dataset_id) + \".dat\")\n",
    "\n",
    "    current_row += 1"
   ]
  },
  {
   "cell_type": "code",
   "execution_count": 7,
   "metadata": {
    "colab": {},
    "colab_type": "code",
    "id": "gVQ0U7neWHow"
   },
   "outputs": [],
   "source": [
    "# Copy Labels.csv file from raw folder to interim folder\n",
    "copy(RAW_PATH + 'Labels.csv', INTERIM_PATH)"
   ]
  },
  {
   "cell_type": "code",
   "execution_count": null,
   "metadata": {},
   "outputs": [],
   "source": []
  }
 ],
 "metadata": {
  "colab": {
   "collapsed_sections": [],
   "name": "2_interim_dataset_creation.ipynb",
   "provenance": [],
   "version": "0.3.2"
  },
  "kernelspec": {
   "display_name": "Python 3",
   "language": "python",
   "name": "python3"
  },
  "language_info": {
   "codemirror_mode": {
    "name": "ipython",
    "version": 3
   },
   "file_extension": ".py",
   "mimetype": "text/x-python",
   "name": "python",
   "nbconvert_exporter": "python",
   "pygments_lexer": "ipython3",
   "version": "3.6.6"
  }
 },
 "nbformat": 4,
 "nbformat_minor": 1
}
