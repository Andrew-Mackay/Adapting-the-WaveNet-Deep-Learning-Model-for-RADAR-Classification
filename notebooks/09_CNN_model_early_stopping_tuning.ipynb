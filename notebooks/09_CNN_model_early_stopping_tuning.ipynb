{
 "cells": [
  {
   "cell_type": "markdown",
   "metadata": {
    "colab_type": "text",
    "id": "chTLQ4gzP4zb"
   },
   "source": [
    "# Tuning the early stopping patience hyperparameter based on 5-fold cross-validation\n",
    "\n",
    "The original version of this notebook was incorrect as it used early stopping based on the data that was being used for validation.\n",
    "\n",
    "User c is completely removed as this is the test set.\n",
    "\n",
    "The remaining users A,B,D,E and F make up each fold.\n",
    "\n",
    "For example, fold 1 will train on users B,D,E and F then evaluate on A (and so on for each fold).\n",
    "The training data is made up of 80% taken from the four subjects not being used for testing. The validation data the early stopping uses is the remaining 20% then the model is evaluated on the test subject.\n",
    "\n",
    "Choice of model (8-16) justified from \"7_CNN_model_comparison.ipynb\"\n",
    "Other hyperparameters chosen from notebook 8."
   ]
  },
  {
   "cell_type": "markdown",
   "metadata": {
    "colab_type": "text",
    "id": "bZxhO7V0ZHUE"
   },
   "source": [
    "## Notebook setup"
   ]
  },
  {
   "cell_type": "markdown",
   "metadata": {
    "colab_type": "text",
    "id": "x5jAnxaaZLzZ"
   },
   "source": [
    "Allow editing of modules using editor (auto reloading)"
   ]
  },
  {
   "cell_type": "code",
   "execution_count": 1,
   "metadata": {
    "colab": {},
    "colab_type": "code",
    "id": "TGNeUj-JDXhs"
   },
   "outputs": [],
   "source": [
    "# Needed to allow editing using PyCharm etc\n",
    "%load_ext autoreload\n",
    "%autoreload 2"
   ]
  },
  {
   "cell_type": "markdown",
   "metadata": {
    "colab_type": "text",
    "id": "QwLbqieVYIJt"
   },
   "source": [
    "The following cell is needed for compatibility when using both CoLab and Local Jupyter notebook. It sets the appropriate file path for the data and also installs local packages such as models and data_loading."
   ]
  },
  {
   "cell_type": "code",
   "execution_count": 2,
   "metadata": {
    "colab": {
     "base_uri": "https://localhost:8080/",
     "height": 121.0
    },
    "colab_type": "code",
    "executionInfo": {
     "elapsed": 24113.0,
     "status": "ok",
     "timestamp": 1.549270871541E12,
     "user": {
      "displayName": "Andrew Mackay",
      "photoUrl": "https://lh3.googleusercontent.com/-24hiGmdxZDE/AAAAAAAAAAI/AAAAAAAAL_I/RW7nqM11LkM/s64/photo.jpg",
      "userId": "06804410358976473893"
     },
     "user_tz": 0.0
    },
    "id": "3XeU0HtoDXh6",
    "outputId": "1b60d85a-0177-4fb5-f217-e79045886e92"
   },
   "outputs": [],
   "source": [
    "import os\n",
    "path = os.getcwd()\n",
    "if path == '/content':\n",
    "    from google.colab import drive\n",
    "    drive.mount('/content/gdrive')\n",
    "    BASE_PATH = '/content/gdrive/My Drive/Level-4-Project/'\n",
    "#     !cd gdrive/My\\ Drive/Level-4-Project/ && pip install --editable .\n",
    "    os.chdir('gdrive/My Drive/Level-4-Project/')\n",
    "    \n",
    "elif path == 'D:\\\\Google Drive\\\\Level-4-Project\\\\notebooks':\n",
    "    BASE_PATH = \"D:/Google Drive/Level-4-Project/\"\n",
    "    \n",
    "elif path == \"/export/home/2192793m\":\n",
    "    BASE_PATH = \"/export/home/2192793m/Level-4-Project/\"\n",
    "    \n",
    "DATA_PATH = BASE_PATH + 'data/processed/doppler_spectrograms/3/'\n",
    "\n",
    "HYPERPARAMETER_PATH = BASE_PATH + 'results/CNN_hyperparameter_search/'\n",
    "\n",
    "RESULTS_PATH = BASE_PATH + 'results/CNN_early_stopping_tuning/'\n",
    "if not os.path.exists(RESULTS_PATH):\n",
    "    os.makedirs(RESULTS_PATH) "
   ]
  },
  {
   "cell_type": "code",
   "execution_count": 3,
   "metadata": {},
   "outputs": [],
   "source": [
    "SAVE_RESULTS = False\n",
    "SAVE_GRAPHS = True"
   ]
  },
  {
   "cell_type": "markdown",
   "metadata": {
    "colab_type": "text",
    "id": "rgYwaq1eZb5u"
   },
   "source": [
    "Import remaining packages"
   ]
  },
  {
   "cell_type": "code",
   "execution_count": null,
   "metadata": {
    "colab": {
     "base_uri": "https://localhost:8080/",
     "height": 34.0
    },
    "colab_type": "code",
    "executionInfo": {
     "elapsed": 4051.0,
     "status": "ok",
     "timestamp": 1.549270872737E12,
     "user": {
      "displayName": "Andrew Mackay",
      "photoUrl": "https://lh3.googleusercontent.com/-24hiGmdxZDE/AAAAAAAAAAI/AAAAAAAAL_I/RW7nqM11LkM/s64/photo.jpg",
      "userId": "06804410358976473893"
     },
     "user_tz": 0.0
    },
    "id": "x8rzmlEhpe_R",
    "outputId": "8681c085-e41a-4e6b-ceda-e23976ef82ae"
   },
   "outputs": [],
   "source": [
    "import numpy as np\n",
    "from keras.optimizers import SGD, Adam\n",
    "from keras.utils import np_utils\n",
    "import pickle\n",
    "from keras.models import Sequential\n",
    "from keras.layers import Dense, Dropout, Flatten\n",
    "from keras.layers import Convolution2D, MaxPooling2D\n",
    "from keras.callbacks import EarlyStopping\n",
    "import matplotlib.pyplot as plt"
   ]
  },
  {
   "cell_type": "code",
   "execution_count": null,
   "metadata": {},
   "outputs": [],
   "source": [
    "# ! pip install scikit-optimize\n",
    "from skopt import load"
   ]
  },
  {
   "cell_type": "code",
   "execution_count": 6,
   "metadata": {
    "colab": {},
    "colab_type": "code",
    "id": "PsHOJ9lEpe_V"
   },
   "outputs": [],
   "source": [
    "# Needed as originally code was for theano backend but now using tensor flow\n",
    "from keras import backend as K\n",
    "K.set_image_dim_ordering('th')"
   ]
  },
  {
   "cell_type": "markdown",
   "metadata": {
    "colab_type": "text",
    "id": "ssk69nuAiB68"
   },
   "source": [
    "## Experiment Setup"
   ]
  },
  {
   "cell_type": "code",
   "execution_count": 7,
   "metadata": {
    "colab": {},
    "colab_type": "code",
    "id": "5r9302zCpe_j"
   },
   "outputs": [],
   "source": [
    "target_names = [\"walking\", \"pushing\", \"sitting\", \"pulling\",\n",
    "                \"circling\", \"clapping\", \"bending\"]\n",
    "nb_classes = len(target_names)\n",
    "\n",
    "# input image dimensions\n",
    "img_rows, img_cols = 75, 75\n",
    "# user c excluded as this is reserved for final evaluation\n",
    "users = [\"A\", \"B\", \"D\", \"E\", \"F\"] "
   ]
  },
  {
   "cell_type": "code",
   "execution_count": 11,
   "metadata": {
    "colab": {},
    "colab_type": "code",
    "id": "C1f1naWmkElm"
   },
   "outputs": [],
   "source": [
    "def load_data(user_letter):\n",
    "    with open(DATA_PATH + user_letter + \"_data.pkl\", 'rb') as data_file:\n",
    "        data = pickle.load(data_file)\n",
    "        data = data.reshape(data.shape[0], 1, 75, 75)\n",
    "        \n",
    "    with open(DATA_PATH + user_letter + \"_labels.pkl\", 'rb') as labels_file:\n",
    "        labels = pickle.load(labels_file)\n",
    "        labels = np.reshape(labels, (len(labels), 1))\n",
    "     \n",
    "    return data, labels"
   ]
  },
  {
   "cell_type": "code",
   "execution_count": 10,
   "metadata": {
    "colab": {},
    "colab_type": "code",
    "id": "g_bsC10bq026"
   },
   "outputs": [],
   "source": [
    "datasets = {}\n",
    "for user in users:\n",
    "    data, labels = load_data(user)\n",
    "    datasets[user] = {\"data\":data, \"labels\":labels}"
   ]
  },
  {
   "cell_type": "code",
   "execution_count": 12,
   "metadata": {},
   "outputs": [],
   "source": [
    "def split_train_validation_test(test_user, total_folds=5, validation_fold=0):\n",
    "    '''\n",
    "    split the data into:\n",
    "        a test set composed of all data from test subject\n",
    "        a train set composed of 80% (depending on total folds) of remaining subjects\n",
    "        a validation set composed of the remaing 20%\n",
    "    ''' \n",
    "    \n",
    "    # split by user then action\n",
    "    labels = np.arange(0, 7)\n",
    "    actions = {}\n",
    "    for user in users:\n",
    "        actions[user] = {}\n",
    "        for label in labels:\n",
    "            actions[user][str(label)] = []\n",
    "        \n",
    "    for user in users:\n",
    "        data = datasets[user][\"data\"]\n",
    "        labels = datasets[user][\"labels\"]\n",
    "        for index, label in enumerate(labels):\n",
    "            actions[user][str(label[0])].append(data[index])\n",
    "        \n",
    "    # convert to numpy array\n",
    "    labels = np.arange(0, 7)\n",
    "    for user in users:\n",
    "        for label in labels:\n",
    "            actions[user][str(label)] = np.array(actions[user][str(label)])\n",
    "            \n",
    "    train_labels = []\n",
    "    train_data = []\n",
    "    validation_labels = []\n",
    "    validation_data = []\n",
    "    test_labels = []\n",
    "    test_data = []\n",
    "    # each user A->F\n",
    "    for user in users:\n",
    "        # 0 -> 6\n",
    "        for label in labels:\n",
    "            # number of data points for this user at this label\n",
    "            length = actions[user][str(label)].shape[0]\n",
    "            \n",
    "            if user == test_user:\n",
    "                testing_data = actions[user][str(label)]\n",
    "                testing_labels = np.full(testing_data.shape[0], label)\n",
    "                test_data.append(testing_data)\n",
    "                test_labels.append(testing_labels)  \n",
    "                \n",
    "            else:\n",
    "                # for example, if using 5 folds splits data into 5 subsets\n",
    "                split_actions = np.array_split(actions[user][str(label)], total_folds)\n",
    "                training_data = []\n",
    "                validating_data = []\n",
    "                for fold in range(total_folds):\n",
    "                    if fold == validation_fold:\n",
    "                        validating_data.append(split_actions[fold])\n",
    "                    else:\n",
    "                        training_data.append(split_actions[fold])\n",
    "\n",
    "                training_data = np.concatenate(training_data, axis=0)\n",
    "                training_labels = np.full(training_data.shape[0], label)\n",
    "                validating_data = np.concatenate(validating_data, axis=0)\n",
    "                validating_labels = np.full(validating_data.shape[0], label)\n",
    "\n",
    "                train_data.append(training_data)\n",
    "                train_labels.append(training_labels)\n",
    "                validation_data.append(validating_data)\n",
    "                validation_labels.append(validating_labels)   \n",
    "            \n",
    "    train_labels = np.concatenate(train_labels, axis=0)\n",
    "    train_data = np.concatenate(train_data, axis=0)\n",
    "    validation_labels = np.concatenate(validation_labels, axis=0)\n",
    "    validation_data = np.concatenate(validation_data, axis=0)\n",
    "    test_labels = np.concatenate(test_labels, axis=0)\n",
    "    test_data = np.concatenate(test_data, axis=0)\n",
    "    \n",
    "    train_labels = np_utils.to_categorical(train_labels, nb_classes)\n",
    "    validation_labels = np_utils.to_categorical(validation_labels, nb_classes)\n",
    "    test_labels = np_utils.to_categorical(test_labels, nb_classes)\n",
    "    \n",
    "    train_data = train_data.astype('float32')/255\n",
    "    validation_data = validation_data.astype('float32')/255\n",
    "    test_data = test_data.astype('float32')/255\n",
    "    \n",
    "    return {\n",
    "        \"train_data\": train_data,\n",
    "        \"train_labels\": train_labels,\n",
    "        \"validation_data\": validation_data,\n",
    "        \"validation_labels\": validation_labels,\n",
    "        \"test_data\": test_data,\n",
    "        \"test_labels\": test_labels\n",
    "       }"
   ]
  },
  {
   "cell_type": "markdown",
   "metadata": {
    "colab_type": "text",
    "id": "qK0TcJIfsz7q"
   },
   "source": [
    "## Define Model"
   ]
  },
  {
   "cell_type": "code",
   "execution_count": 13,
   "metadata": {
    "colab": {},
    "colab_type": "code",
    "id": "_e0io4rM1O6N"
   },
   "outputs": [],
   "source": [
    "def make_model(nb_filters, img_rows, img_cols, nb_classes, activation,\n",
    "               dropout, num_dense_nodes, num_dense_layers,\n",
    "               kernel_size, pooling_size):\n",
    "    \n",
    "    kernel_size = (kernel_size, kernel_size)\n",
    "    pooling_size = (pooling_size, pooling_size)\n",
    "    \n",
    "    model = Sequential(name=nb_filters)\n",
    "    nb_filters = nb_filters.split(\"-\")\n",
    "    size_1 = int(nb_filters[0])\n",
    "    size_2 = int(nb_filters[1])\n",
    "\n",
    "    model.add(Convolution2D(size_1, kernel_size, padding='same',\n",
    "                            input_shape=(1, img_rows, img_cols),\n",
    "                            activation=activation))\n",
    "    model.add(Convolution2D(size_1, kernel_size, activation=activation))\n",
    "    model.add(MaxPooling2D(pool_size=pooling_size))\n",
    "    model.add(Dropout(dropout))\n",
    "\n",
    "    model.add(Convolution2D(size_2, kernel_size, padding='same',\n",
    "                            activation=activation))\n",
    "    model.add(Convolution2D(size_2, kernel_size, activation=activation))\n",
    "    model.add(MaxPooling2D(pool_size=pooling_size))\n",
    "    model.add(Dropout(dropout))\n",
    "\n",
    "    model.add(Flatten())\n",
    "    for i in range(num_dense_layers):\n",
    "        model.add(Dense(num_dense_nodes, activation=activation))\n",
    "    model.add(Dropout(dropout))\n",
    "    model.add(Dense(nb_classes, activation='softmax'))\n",
    "    return model"
   ]
  },
  {
   "cell_type": "markdown",
   "metadata": {
    "colab_type": "text",
    "id": "rhFcRSbwZCCw"
   },
   "source": [
    "## Hyperparameter Search"
   ]
  },
  {
   "cell_type": "markdown",
   "metadata": {
    "colab_type": "text",
    "id": "DeW2AmQ2ZGFC"
   },
   "source": [
    "### Fixed Parameters"
   ]
  },
  {
   "cell_type": "code",
   "execution_count": 14,
   "metadata": {
    "colab": {},
    "colab_type": "code",
    "id": "3ndLxKnSZEu-"
   },
   "outputs": [],
   "source": [
    "nb_epoch = 100  # large enough to ensure early stopping\n",
    "# nb_epoch = 1 # testing"
   ]
  },
  {
   "cell_type": "markdown",
   "metadata": {
    "colab_type": "text",
    "id": "DEBqFCS9uImJ"
   },
   "source": [
    "### Load gp results"
   ]
  },
  {
   "cell_type": "code",
   "execution_count": 15,
   "metadata": {
    "colab": {},
    "colab_type": "code",
    "id": "AzWFM-axZS2V"
   },
   "outputs": [],
   "source": [
    "# needed for loading results (objective needs to be defined)\n",
    "def objective():\n",
    "    return 0"
   ]
  },
  {
   "cell_type": "code",
   "execution_count": 16,
   "metadata": {
    "colab": {},
    "colab_type": "code",
    "id": "237ErDR_uKsk"
   },
   "outputs": [],
   "source": [
    "res_gp = load(HYPERPARAMETER_PATH + \"res_gp_complete.pkl\")"
   ]
  },
  {
   "cell_type": "markdown",
   "metadata": {
    "colab_type": "text",
    "id": "pDOtEG4rZx-9"
   },
   "source": [
    "## Results from hyperparameter search in notebook 8"
   ]
  },
  {
   "cell_type": "markdown",
   "metadata": {},
   "source": [
    "Best Hyperparameters Discovered"
   ]
  },
  {
   "cell_type": "code",
   "execution_count": 17,
   "metadata": {},
   "outputs": [
    {
     "name": "stdout",
     "output_type": "stream",
     "text": [
      "optimizer: adam\n",
      "learning_rate: 0.0012375685948764468\n",
      "activation: relu\n",
      "dropout: 0.597428888669298\n",
      "num_dense_nodes: 1024\n",
      "num_dense_layers: 3\n",
      "kernel_size: 3\n",
      "pooling_size: 2\n",
      "batch_size: 576\n"
     ]
    }
   ],
   "source": [
    "dimensions = ['optimizer', 'learning_rate', 'activation', 'dropout',\n",
    "              'num_dense_nodes', 'num_dense_layers', 'kernel_size',\n",
    "              'pooling_size','batch_size']\n",
    "parameters = res_gp.x\n",
    "for index, parameter in enumerate(parameters):\n",
    "    print(dimensions[index] + \":\", parameter)"
   ]
  },
  {
   "cell_type": "code",
   "execution_count": 14,
   "metadata": {},
   "outputs": [],
   "source": [
    "early_stopping_patience = np.arange(-1, 11)"
   ]
  },
  {
   "cell_type": "code",
   "execution_count": 19,
   "metadata": {},
   "outputs": [],
   "source": [
    "results = {}\n",
    "for patience in early_stopping_patience:\n",
    "    results[str(patience)] = {}\n",
    "    for user in users:\n",
    "        results[str(patience)][user] = {}"
   ]
  },
  {
   "cell_type": "code",
   "execution_count": 19,
   "metadata": {
    "scrolled": true
   },
   "outputs": [
    {
     "name": "stdout",
     "output_type": "stream",
     "text": [
      "Patience: -1\n",
      "User: A\n",
      "Train on 23205 samples, validate on 5814 samples\n",
      "Epoch 1/100\n",
      "23205/23205 [==============================] - 39s 2ms/step - loss: 1.3967 - acc: 0.4452 - val_loss: 1.1047 - val_acc: 0.5526\n",
      "Epoch 2/100\n",
      "23205/23205 [==============================] - 29s 1ms/step - loss: 0.7691 - acc: 0.7142 - val_loss: 0.6216 - val_acc: 0.7773\n",
      "Epoch 3/100\n",
      "23205/23205 [==============================] - 29s 1ms/step - loss: 0.5324 - acc: 0.8082 - val_loss: 0.4098 - val_acc: 0.8244\n",
      "Epoch 4/100\n",
      "23205/23205 [==============================] - 29s 1ms/step - loss: 0.3761 - acc: 0.8659 - val_loss: 0.2400 - val_acc: 0.9021\n",
      "Epoch 5/100\n",
      "23205/23205 [==============================] - 29s 1ms/step - loss: 0.3096 - acc: 0.8899 - val_loss: 0.2018 - val_acc: 0.9257\n",
      "Epoch 6/100\n",
      "13824/23205 [================>.............] - ETA: 10s - loss: 0.2744 - acc: 0.9031"
     ]
    },
    {
     "ename": "KeyboardInterrupt",
     "evalue": "",
     "traceback": [
      "\u001b[1;31m---------------------------------------------------------------------------\u001b[0m",
      "\u001b[1;31mKeyboardInterrupt\u001b[0m                         Traceback (most recent call last)",
      "\u001b[1;32m<ipython-input-19-dc272ba300cc>\u001b[0m in \u001b[0;36m<module>\u001b[1;34m\u001b[0m\n\u001b[0;32m     51\u001b[0m             \u001b[0mshuffle\u001b[0m\u001b[1;33m=\u001b[0m\u001b[1;32mTrue\u001b[0m\u001b[1;33m,\u001b[0m\u001b[1;33m\u001b[0m\u001b[0m\n\u001b[0;32m     52\u001b[0m             \u001b[0mcallbacks\u001b[0m\u001b[1;33m=\u001b[0m\u001b[0mcallback_list\u001b[0m\u001b[1;33m,\u001b[0m\u001b[1;33m\u001b[0m\u001b[0m\n\u001b[1;32m---> 53\u001b[1;33m             verbose=1)\n\u001b[0m\u001b[0;32m     54\u001b[0m \u001b[1;33m\u001b[0m\u001b[0m\n\u001b[0;32m     55\u001b[0m         \u001b[1;32mif\u001b[0m \u001b[0mearly_stopping\u001b[0m \u001b[1;32mis\u001b[0m \u001b[1;32mnot\u001b[0m \u001b[1;32mNone\u001b[0m\u001b[1;33m:\u001b[0m\u001b[1;33m\u001b[0m\u001b[0m\n",
      "\u001b[1;32m~\\Anaconda3\\envs\\dataScience\\lib\\site-packages\\keras\\engine\\training.py\u001b[0m in \u001b[0;36mfit\u001b[1;34m(self, x, y, batch_size, epochs, verbose, callbacks, validation_split, validation_data, shuffle, class_weight, sample_weight, initial_epoch, steps_per_epoch, validation_steps, **kwargs)\u001b[0m\n\u001b[0;32m   1037\u001b[0m                                         \u001b[0minitial_epoch\u001b[0m\u001b[1;33m=\u001b[0m\u001b[0minitial_epoch\u001b[0m\u001b[1;33m,\u001b[0m\u001b[1;33m\u001b[0m\u001b[0m\n\u001b[0;32m   1038\u001b[0m                                         \u001b[0msteps_per_epoch\u001b[0m\u001b[1;33m=\u001b[0m\u001b[0msteps_per_epoch\u001b[0m\u001b[1;33m,\u001b[0m\u001b[1;33m\u001b[0m\u001b[0m\n\u001b[1;32m-> 1039\u001b[1;33m                                         validation_steps=validation_steps)\n\u001b[0m\u001b[0;32m   1040\u001b[0m \u001b[1;33m\u001b[0m\u001b[0m\n\u001b[0;32m   1041\u001b[0m     def evaluate(self, x=None, y=None,\n",
      "\u001b[1;32m~\\Anaconda3\\envs\\dataScience\\lib\\site-packages\\keras\\engine\\training_arrays.py\u001b[0m in \u001b[0;36mfit_loop\u001b[1;34m(model, f, ins, out_labels, batch_size, epochs, verbose, callbacks, val_f, val_ins, shuffle, callback_metrics, initial_epoch, steps_per_epoch, validation_steps)\u001b[0m\n\u001b[0;32m    197\u001b[0m                     \u001b[0mins_batch\u001b[0m\u001b[1;33m[\u001b[0m\u001b[0mi\u001b[0m\u001b[1;33m]\u001b[0m \u001b[1;33m=\u001b[0m \u001b[0mins_batch\u001b[0m\u001b[1;33m[\u001b[0m\u001b[0mi\u001b[0m\u001b[1;33m]\u001b[0m\u001b[1;33m.\u001b[0m\u001b[0mtoarray\u001b[0m\u001b[1;33m(\u001b[0m\u001b[1;33m)\u001b[0m\u001b[1;33m\u001b[0m\u001b[0m\n\u001b[0;32m    198\u001b[0m \u001b[1;33m\u001b[0m\u001b[0m\n\u001b[1;32m--> 199\u001b[1;33m                 \u001b[0mouts\u001b[0m \u001b[1;33m=\u001b[0m \u001b[0mf\u001b[0m\u001b[1;33m(\u001b[0m\u001b[0mins_batch\u001b[0m\u001b[1;33m)\u001b[0m\u001b[1;33m\u001b[0m\u001b[0m\n\u001b[0m\u001b[0;32m    200\u001b[0m                 \u001b[0mouts\u001b[0m \u001b[1;33m=\u001b[0m \u001b[0mto_list\u001b[0m\u001b[1;33m(\u001b[0m\u001b[0mouts\u001b[0m\u001b[1;33m)\u001b[0m\u001b[1;33m\u001b[0m\u001b[0m\n\u001b[0;32m    201\u001b[0m                 \u001b[1;32mfor\u001b[0m \u001b[0ml\u001b[0m\u001b[1;33m,\u001b[0m \u001b[0mo\u001b[0m \u001b[1;32min\u001b[0m \u001b[0mzip\u001b[0m\u001b[1;33m(\u001b[0m\u001b[0mout_labels\u001b[0m\u001b[1;33m,\u001b[0m \u001b[0mouts\u001b[0m\u001b[1;33m)\u001b[0m\u001b[1;33m:\u001b[0m\u001b[1;33m\u001b[0m\u001b[0m\n",
      "\u001b[1;32m~\\Anaconda3\\envs\\dataScience\\lib\\site-packages\\keras\\backend\\tensorflow_backend.py\u001b[0m in \u001b[0;36m__call__\u001b[1;34m(self, inputs)\u001b[0m\n\u001b[0;32m   2713\u001b[0m                 \u001b[1;32mreturn\u001b[0m \u001b[0mself\u001b[0m\u001b[1;33m.\u001b[0m\u001b[0m_legacy_call\u001b[0m\u001b[1;33m(\u001b[0m\u001b[0minputs\u001b[0m\u001b[1;33m)\u001b[0m\u001b[1;33m\u001b[0m\u001b[0m\n\u001b[0;32m   2714\u001b[0m \u001b[1;33m\u001b[0m\u001b[0m\n\u001b[1;32m-> 2715\u001b[1;33m             \u001b[1;32mreturn\u001b[0m \u001b[0mself\u001b[0m\u001b[1;33m.\u001b[0m\u001b[0m_call\u001b[0m\u001b[1;33m(\u001b[0m\u001b[0minputs\u001b[0m\u001b[1;33m)\u001b[0m\u001b[1;33m\u001b[0m\u001b[0m\n\u001b[0m\u001b[0;32m   2716\u001b[0m         \u001b[1;32melse\u001b[0m\u001b[1;33m:\u001b[0m\u001b[1;33m\u001b[0m\u001b[0m\n\u001b[0;32m   2717\u001b[0m             \u001b[1;32mif\u001b[0m \u001b[0mpy_any\u001b[0m\u001b[1;33m(\u001b[0m\u001b[0mis_tensor\u001b[0m\u001b[1;33m(\u001b[0m\u001b[0mx\u001b[0m\u001b[1;33m)\u001b[0m \u001b[1;32mfor\u001b[0m \u001b[0mx\u001b[0m \u001b[1;32min\u001b[0m \u001b[0minputs\u001b[0m\u001b[1;33m)\u001b[0m\u001b[1;33m:\u001b[0m\u001b[1;33m\u001b[0m\u001b[0m\n",
      "\u001b[1;32m~\\Anaconda3\\envs\\dataScience\\lib\\site-packages\\keras\\backend\\tensorflow_backend.py\u001b[0m in \u001b[0;36m_call\u001b[1;34m(self, inputs)\u001b[0m\n\u001b[0;32m   2673\u001b[0m             \u001b[0mfetched\u001b[0m \u001b[1;33m=\u001b[0m \u001b[0mself\u001b[0m\u001b[1;33m.\u001b[0m\u001b[0m_callable_fn\u001b[0m\u001b[1;33m(\u001b[0m\u001b[1;33m*\u001b[0m\u001b[0marray_vals\u001b[0m\u001b[1;33m,\u001b[0m \u001b[0mrun_metadata\u001b[0m\u001b[1;33m=\u001b[0m\u001b[0mself\u001b[0m\u001b[1;33m.\u001b[0m\u001b[0mrun_metadata\u001b[0m\u001b[1;33m)\u001b[0m\u001b[1;33m\u001b[0m\u001b[0m\n\u001b[0;32m   2674\u001b[0m         \u001b[1;32melse\u001b[0m\u001b[1;33m:\u001b[0m\u001b[1;33m\u001b[0m\u001b[0m\n\u001b[1;32m-> 2675\u001b[1;33m             \u001b[0mfetched\u001b[0m \u001b[1;33m=\u001b[0m \u001b[0mself\u001b[0m\u001b[1;33m.\u001b[0m\u001b[0m_callable_fn\u001b[0m\u001b[1;33m(\u001b[0m\u001b[1;33m*\u001b[0m\u001b[0marray_vals\u001b[0m\u001b[1;33m)\u001b[0m\u001b[1;33m\u001b[0m\u001b[0m\n\u001b[0m\u001b[0;32m   2676\u001b[0m         \u001b[1;32mreturn\u001b[0m \u001b[0mfetched\u001b[0m\u001b[1;33m[\u001b[0m\u001b[1;33m:\u001b[0m\u001b[0mlen\u001b[0m\u001b[1;33m(\u001b[0m\u001b[0mself\u001b[0m\u001b[1;33m.\u001b[0m\u001b[0moutputs\u001b[0m\u001b[1;33m)\u001b[0m\u001b[1;33m]\u001b[0m\u001b[1;33m\u001b[0m\u001b[0m\n\u001b[0;32m   2677\u001b[0m \u001b[1;33m\u001b[0m\u001b[0m\n",
      "\u001b[1;32m~\\Anaconda3\\envs\\dataScience\\lib\\site-packages\\tensorflow\\python\\client\\session.py\u001b[0m in \u001b[0;36m__call__\u001b[1;34m(self, *args, **kwargs)\u001b[0m\n\u001b[0;32m   1380\u001b[0m           ret = tf_session.TF_SessionRunCallable(\n\u001b[0;32m   1381\u001b[0m               \u001b[0mself\u001b[0m\u001b[1;33m.\u001b[0m\u001b[0m_session\u001b[0m\u001b[1;33m.\u001b[0m\u001b[0m_session\u001b[0m\u001b[1;33m,\u001b[0m \u001b[0mself\u001b[0m\u001b[1;33m.\u001b[0m\u001b[0m_handle\u001b[0m\u001b[1;33m,\u001b[0m \u001b[0margs\u001b[0m\u001b[1;33m,\u001b[0m \u001b[0mstatus\u001b[0m\u001b[1;33m,\u001b[0m\u001b[1;33m\u001b[0m\u001b[0m\n\u001b[1;32m-> 1382\u001b[1;33m               run_metadata_ptr)\n\u001b[0m\u001b[0;32m   1383\u001b[0m         \u001b[1;32mif\u001b[0m \u001b[0mrun_metadata\u001b[0m\u001b[1;33m:\u001b[0m\u001b[1;33m\u001b[0m\u001b[0m\n\u001b[0;32m   1384\u001b[0m           \u001b[0mproto_data\u001b[0m \u001b[1;33m=\u001b[0m \u001b[0mtf_session\u001b[0m\u001b[1;33m.\u001b[0m\u001b[0mTF_GetBuffer\u001b[0m\u001b[1;33m(\u001b[0m\u001b[0mrun_metadata_ptr\u001b[0m\u001b[1;33m)\u001b[0m\u001b[1;33m\u001b[0m\u001b[0m\n",
      "\u001b[1;31mKeyboardInterrupt\u001b[0m: "
     ],
     "output_type": "error"
    }
   ],
   "source": [
    "for patience in early_stopping_patience:\n",
    "    print(\"Patience:\", patience)\n",
    "    average_accuracy = 0\n",
    "    average_loss = 0\n",
    "    average_stopped_epoch = 0\n",
    "    for user in users:\n",
    "        print(\"User:\", user)\n",
    "        data_split = split_train_validation_test(user)\n",
    "        train_data = data_split[\"train_data\"]\n",
    "        train_labels = data_split[\"train_labels\"]\n",
    "        validation_data = data_split[\"validation_data\"]\n",
    "        validation_labels = data_split[\"validation_labels\"]\n",
    "        test_data = data_split[\"test_data\"]\n",
    "        test_labels = data_split[\"test_labels\"]\n",
    "\n",
    "        model = make_model(\"8-16\", img_rows, img_cols, nb_classes, parameters[2],\n",
    "                       parameters[3], parameters[4], parameters[5],\n",
    "                       parameters[6], parameters[7])\n",
    "        \n",
    "        optimizer = parameters[0] \n",
    "        learning_rate = parameters[1]\n",
    "        if optimizer == 'adam':\n",
    "            selected_optimizer = Adam(lr=learning_rate)\n",
    "            \n",
    "        elif optimizer == 'sgd_standard':\n",
    "            selected_optimizer = SGD(lr=learning_rate)\n",
    "            \n",
    "        else:\n",
    "            # nestrov momentum\n",
    "            selected_optimizer = SGD(lr=learning_rate, decay=1e-6, \n",
    "                                     momentum=0.9, nesterov=True)\n",
    "            \n",
    "        model.compile(loss='categorical_crossentropy',\n",
    "                      optimizer=selected_optimizer,\n",
    "                      metrics=['accuracy'])\n",
    "\n",
    "        callback_list = []\n",
    "        early_stopping = None\n",
    "        # -1 used to represent no early stopping\n",
    "        if patience != -1:\n",
    "            early_stopping = EarlyStopping(monitor='val_acc', patience=patience)\n",
    "            callback_list.append(early_stopping)\n",
    "        \n",
    "        \n",
    "        model.fit(\n",
    "            train_data,\n",
    "            train_labels,\n",
    "            validation_data=(validation_data, validation_labels),\n",
    "            batch_size=parameters[8],\n",
    "            epochs=nb_epoch,\n",
    "            shuffle=True, \n",
    "            callbacks=callback_list,\n",
    "            verbose=0)\n",
    "        \n",
    "        if early_stopping is not None:\n",
    "            print(\"Epoch Stopped:\", early_stopping.stopped_epoch)\n",
    "            results[str(patience)][user][\"stopped_epoch\"] = early_stopping.stopped_epoch\n",
    "            average_stopped_epoch += early_stopping.stopped_epoch\n",
    "\n",
    "        else:\n",
    "            print(\"Epoch Stopped:\", nb_epoch)\n",
    "            results[str(patience)][user][\"stopped_epoch\"] = nb_epoch\n",
    "            average_stopped_epoch += nb_epoch\n",
    "\n",
    "\n",
    "        evaluation = model.evaluate(test_data, test_labels,\n",
    "                                    batch_size=parameters[8], verbose=0)\n",
    "        \n",
    "        results[str(patience)][user][\"loss\"] = evaluation[0]\n",
    "        results[str(patience)][user][\"accuracy\"] = evaluation[1]\n",
    "\n",
    "        average_loss += evaluation[0]\n",
    "        average_accuracy += evaluation[1]\n",
    "        K.clear_session()\n",
    "\n",
    "    print(\"Average Accuracy:\", average_accuracy/len(users))\n",
    "    print(\"Average Epoch Stopped:\", average_stopped_epoch/len(users))\n",
    "    results[str(patience)][\"avg_loss\"] = average_loss/len(users)\n",
    "    results[str(patience)][\"avg_acc\"] = average_accuracy/len(users)\n",
    "    results[str(patience)][\"avg_epoch_stopped\"] = average_stopped_epoch/len(users)"
   ]
  },
  {
   "cell_type": "markdown",
   "metadata": {},
   "source": [
    "### Save results"
   ]
  },
  {
   "cell_type": "code",
   "execution_count": null,
   "metadata": {},
   "outputs": [],
   "source": [
    "if SAVE_RESULTS:\n",
    "    with open(RESULTS_PATH + \"results_dictionary.pkl\", 'wb') as results_file:\n",
    "        pickle.dump(results, results_file)"
   ]
  },
  {
   "cell_type": "markdown",
   "metadata": {},
   "source": [
    "### Load Results"
   ]
  },
  {
   "cell_type": "code",
   "execution_count": 8,
   "metadata": {},
   "outputs": [],
   "source": [
    "with open(RESULTS_PATH + \"results_dictionary.pkl\", 'rb') as results_file:\n",
    "    results = pickle.load(results_file)"
   ]
  },
  {
   "cell_type": "markdown",
   "metadata": {},
   "source": [
    "## Visualize Results"
   ]
  },
  {
   "cell_type": "markdown",
   "metadata": {},
   "source": [
    "### Average Accuracy"
   ]
  },
  {
   "cell_type": "code",
   "execution_count": 28,
   "metadata": {},
   "outputs": [
    {
     "data": {
      "image/png": "[encoded data removed]",
      "text/plain": [
       "<Figure size 432x288 with 1 Axes>"
      ]
     },
     "metadata": {
      "needs_background": "light"
     },
     "output_type": "display_data"
    }
   ],
   "source": [
    "accuracies = []\n",
    "labels = []\n",
    "for patience, value in results.items():\n",
    "    accuracies.append(value[\"avg_acc\"])\n",
    "    if patience == \"-1\":\n",
    "        labels.append(\"No ES\")\n",
    "    else:\n",
    "        labels.append(patience)\n",
    "    \n",
    "plt.bar(range(len(labels)), np.array(accuracies)*100, zorder=3)\n",
    "plt.xticks(range(len(labels)), labels)\n",
    "plt.xlabel(\"Patience\")\n",
    "plt.ylabel(\"Average Classification Accuracy (%)\")\n",
    "plt.title(\"Average Accuracy Comparison from 5-Fold Cross-Validation\")\n",
    "plt.grid(axis='y', zorder=0)\n",
    "if SAVE_GRAPHS:\n",
    "    plt.savefig(RESULTS_PATH + \"average_accuracy_comparison.pdf\", format='pdf')\n",
    "plt.show()"
   ]
  },
  {
   "cell_type": "code",
   "execution_count": 11,
   "metadata": {},
   "outputs": [
    {
     "data": {
      "image/png": "[encoded data removed]",
      "text/plain": [
       "<Figure size 432x288 with 1 Axes>"
      ]
     },
     "metadata": {
      "needs_background": "light"
     },
     "output_type": "display_data"
    }
   ],
   "source": [
    "accuracies = []\n",
    "labels = []\n",
    "for patience, value in results.items():\n",
    "    if patience != \"-1\":\n",
    "        accuracies.append(value[\"avg_acc\"])\n",
    "        labels.append(patience)\n",
    "        \n",
    "labels.append(\"NO ES\")\n",
    "accuracies.append(results[\"-1\"][\"avg_acc\"])\n",
    "    \n",
    "plt.bar(range(len(labels)), np.array(accuracies)*100, zorder=3)\n",
    "plt.xticks(range(len(labels)), labels)\n",
    "plt.xlabel(\"Patience\")\n",
    "plt.ylabel(\"Average Classification Accuracy (%)\")\n",
    "plt.title(\"Average Accuracy from Five-Fold Cross-Validation\")\n",
    "plt.ylim(70, 80)\n",
    "plt.grid(axis='y', zorder=0)\n",
    "if SAVE_GRAPHS:\n",
    "    plt.savefig(RESULTS_PATH + \"average_accuracy_comparison_zoomed.pdf\", format='pdf')\n",
    "plt.show()"
   ]
  },
  {
   "cell_type": "markdown",
   "metadata": {},
   "source": [
    "### Average Loss"
   ]
  },
  {
   "cell_type": "code",
   "execution_count": 22,
   "metadata": {},
   "outputs": [
    {
     "data": {
      "image/png": "[encoded data removed]",
      "text/plain": [
       "<Figure size 432x288 with 1 Axes>"
      ]
     },
     "metadata": {
      "needs_background": "light"
     },
     "output_type": "display_data"
    }
   ],
   "source": [
    "loss = []\n",
    "labels = []\n",
    "for patience, value in results.items():\n",
    "    loss.append(value[\"avg_loss\"])\n",
    "    if patience == \"-1\":\n",
    "        labels.append(\"No ES\")\n",
    "    else:\n",
    "        labels.append(patience)\n",
    "    \n",
    "plt.bar(range(len(labels)), loss, zorder=3)\n",
    "plt.xticks(range(len(labels)), labels)\n",
    "plt.xlabel(\"Patience\")\n",
    "plt.ylabel(\"Average Loss\")\n",
    "plt.title(\"Average Loss Comparison from 5-Fold Cross-Validation\")\n",
    "plt.grid(axis='y', zorder=0)\n",
    "if SAVE_GRAPHS:\n",
    "    plt.savefig(RESULTS_PATH + \"average_loss_comparison.pdf\", format='pdf')\n",
    "plt.show()"
   ]
  },
  {
   "cell_type": "markdown",
   "metadata": {},
   "source": [
    "### Average Epoch Stopped At"
   ]
  },
  {
   "cell_type": "code",
   "execution_count": 23,
   "metadata": {},
   "outputs": [
    {
     "data": {
      "image/png": "[encoded data removed]",
      "text/plain": [
       "<Figure size 432x288 with 1 Axes>"
      ]
     },
     "metadata": {
      "needs_background": "light"
     },
     "output_type": "display_data"
    }
   ],
   "source": [
    "stopped = []\n",
    "labels = []\n",
    "for patience, value in results.items():\n",
    "    stopped.append(value[\"avg_epoch_stopped\"])\n",
    "    if patience == \"-1\":\n",
    "        labels.append(\"No ES\")\n",
    "    else:\n",
    "        labels.append(patience)\n",
    "    \n",
    "plt.bar(range(len(labels)), stopped, zorder=3)\n",
    "plt.xticks(range(len(labels)), labels)\n",
    "plt.xlabel(\"Patience\")\n",
    "plt.ylabel(\"Average Epoch Stopped At\")\n",
    "plt.title(\"Average Epoch Stopped at Comparison from 5-Fold Cross-Validation\")\n",
    "plt.grid(axis='y', zorder=0)\n",
    "if SAVE_GRAPHS:\n",
    "    plt.savefig(RESULTS_PATH + \"average_stopped_epoch_comparison.pdf\", format='pdf')\n",
    "plt.show()"
   ]
  },
  {
   "cell_type": "markdown",
   "metadata": {},
   "source": [
    "### Box Plot Comparison"
   ]
  },
  {
   "cell_type": "code",
   "execution_count": 15,
   "metadata": {},
   "outputs": [],
   "source": [
    "seperated_results = {}\n",
    "for patience, value in results.items():\n",
    "    accuracies = []\n",
    "    for user_label, res in value.items():\n",
    "        if len(user_label) > 1:\n",
    "            continue\n",
    "        accuracies.append(res[\"accuracy\"] * 100)\n",
    "        \n",
    "    if patience == \"-1\":\n",
    "        seperated_results[\"No ES\"] = accuracies\n",
    "\n",
    "    else:\n",
    "        seperated_results[patience] = accuracies\n",
    "\n",
    "labels = []\n",
    "for patience in early_stopping_patience:\n",
    "    if patience == -1:\n",
    "        labels.append(\"No ES\")\n",
    "    else:\n",
    "        labels.append(str(patience))\n",
    "data_to_plot = []\n",
    "for label in labels:\n",
    "    data_to_plot.append(seperated_results[label])"
   ]
  },
  {
   "cell_type": "code",
   "execution_count": 25,
   "metadata": {},
   "outputs": [
    {
     "data": {
      "image/png": "[encoded data removed]",
      "text/plain": [
       "<Figure size 432x288 with 1 Axes>"
      ]
     },
     "metadata": {
      "needs_background": "light"
     },
     "output_type": "display_data"
    }
   ],
   "source": [
    "plt.boxplot(data_to_plot, labels=labels, zorder=3)\n",
    "plt.title(\"Fold Performance Distribution Comparison\")\n",
    "plt.xlabel(\"Patience\")\n",
    "plt.ylabel(\"Classification Accuracy (%)\")\n",
    "plt.grid(axis='y', zorder=0)\n",
    "if SAVE_GRAPHS:\n",
    "     plt.savefig(RESULTS_PATH + \"boxplot.pdf\", format='pdf')"
   ]
  },
  {
   "cell_type": "code",
   "execution_count": 16,
   "metadata": {},
   "outputs": [],
   "source": [
    "ignore = [\"0\", \"1\", \"2\", \"3\", \"4\", \"5\", \"6\", \"9\", \"10\"]"
   ]
  },
  {
   "cell_type": "code",
   "execution_count": 21,
   "metadata": {},
   "outputs": [],
   "source": [
    "seperated_results = {}\n",
    "for patience, value in results.items():\n",
    "    accuracies = []\n",
    "    for user_label, res in value.items():\n",
    "        if len(user_label) > 1:\n",
    "            continue\n",
    "        accuracies.append(res[\"accuracy\"] * 100)\n",
    "        \n",
    "    if patience in ignore:\n",
    "        continue\n",
    "        \n",
    "    if patience == \"-1\":\n",
    "        seperated_results[\"No ES\"] = accuracies\n",
    "\n",
    "    else:\n",
    "        seperated_results[patience] = accuracies\n",
    "\n",
    "labels = []\n",
    "for patience in early_stopping_patience:\n",
    "    if patience != -1:\n",
    "        labels.append(str(patience))\n",
    "        \n",
    "labels.append(\"No ES\")\n",
    "\n",
    "data_to_plot = []\n",
    "new_labels = []\n",
    "for label in labels:\n",
    "    if label in ignore:\n",
    "        continue\n",
    "    data_to_plot.append(seperated_results[label])\n",
    "    new_labels.append(label)"
   ]
  },
  {
   "cell_type": "code",
   "execution_count": 23,
   "metadata": {},
   "outputs": [
    {
     "data": {
      "image/png": "[encoded data removed]",
      "text/plain": [
       "<Figure size 432x288 with 1 Axes>"
      ]
     },
     "metadata": {
      "needs_background": "light"
     },
     "output_type": "display_data"
    }
   ],
   "source": [
    "plt.boxplot(data_to_plot, labels=new_labels, zorder=3)\n",
    "plt.title(\"Five-Fold Cross-Validation Distribution Comparison\")\n",
    "plt.xlabel(\"Patience\")\n",
    "plt.ylabel(\"Classification Accuracy (%)\")\n",
    "plt.grid(axis='y', zorder=0)\n",
    "if SAVE_GRAPHS:\n",
    "     plt.savefig(RESULTS_PATH + \"boxplot_zoomed.pdf\", format='pdf')"
   ]
  },
  {
   "cell_type": "markdown",
   "metadata": {},
   "source": [
    "Patience of 7 chosen for final model evaluation"
   ]
  },
  {
   "cell_type": "code",
   "execution_count": null,
   "metadata": {},
   "outputs": [],
   "source": []
  }
 ],
 "metadata": {
  "colab": {
   "collapsed_sections": [],
   "name": "8_CNN_hyperparameter_search.ipynb",
   "provenance": [],
   "version": "0.3.2"
  },
  "kernelspec": {
   "display_name": "Python 3",
   "language": "python",
   "name": "python3"
  },
  "language_info": {
   "codemirror_mode": {
    "name": "ipython",
    "version": 3
   },
   "file_extension": ".py",
   "mimetype": "text/x-python",
   "name": "python",
   "nbconvert_exporter": "python",
   "pygments_lexer": "ipython3",
   "version": "3.6.6"
  }
 },
 "nbformat": 4,
 "nbformat_minor": 1
}
