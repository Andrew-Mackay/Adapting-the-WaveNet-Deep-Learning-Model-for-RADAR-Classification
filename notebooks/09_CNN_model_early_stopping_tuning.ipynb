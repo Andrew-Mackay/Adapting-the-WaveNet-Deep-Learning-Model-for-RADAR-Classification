{
 "cells": [
  {
   "cell_type": "markdown",
   "metadata": {
    "colab_type": "text",
    "id": "chTLQ4gzP4zb"
   },
   "source": [
    "# Tuning the early stopping patience hyperparameter based on 5-fold cross-validation\n",
    "\n",
    "User c is completely removed as this is the test set.\n",
    "\n",
    "The remaining users A,B,D,E and F make up each fold.\n",
    "\n",
    "For example, fold 1 will train on users B,D,E and F then evaluate on A (and so on for each fold).\n",
    "\n",
    "Choice of model (8-16) justified from \"7_CNN_model_comparison.ipynb\"\n",
    "Other hyperparameters chosen from notebook 8."
   ]
  },
  {
   "cell_type": "markdown",
   "metadata": {
    "colab_type": "text",
    "id": "bZxhO7V0ZHUE"
   },
   "source": [
    "## Notebook setup"
   ]
  },
  {
   "cell_type": "markdown",
   "metadata": {
    "colab_type": "text",
    "id": "x5jAnxaaZLzZ"
   },
   "source": [
    "Allow editing of modules using editor (auto reloading)"
   ]
  },
  {
   "cell_type": "code",
   "execution_count": 1,
   "metadata": {
    "colab": {},
    "colab_type": "code",
    "id": "TGNeUj-JDXhs"
   },
   "outputs": [],
   "source": [
    "# Needed to allow editing using PyCharm etc\n",
    "%load_ext autoreload\n",
    "%autoreload 2"
   ]
  },
  {
   "cell_type": "markdown",
   "metadata": {
    "colab_type": "text",
    "id": "QwLbqieVYIJt"
   },
   "source": [
    "The following cell is needed for compatibility when using both CoLab and Local Jupyter notebook. It sets the appropriate file path for the data and also installs local packages such as models and data_loading."
   ]
  },
  {
   "cell_type": "code",
   "execution_count": 2,
   "metadata": {
    "colab": {
     "base_uri": "https://localhost:8080/",
     "height": 121
    },
    "colab_type": "code",
    "executionInfo": {
     "elapsed": 24113,
     "status": "ok",
     "timestamp": 1549270871541,
     "user": {
      "displayName": "Andrew Mackay",
      "photoUrl": "https://lh3.googleusercontent.com/-24hiGmdxZDE/AAAAAAAAAAI/AAAAAAAAL_I/RW7nqM11LkM/s64/photo.jpg",
      "userId": "06804410358976473893"
     },
     "user_tz": 0
    },
    "id": "3XeU0HtoDXh6",
    "outputId": "1b60d85a-0177-4fb5-f217-e79045886e92"
   },
   "outputs": [],
   "source": [
    "import os\n",
    "path = os.getcwd()\n",
    "if path == '/content':\n",
    "    from google.colab import drive\n",
    "    drive.mount('/content/gdrive')\n",
    "    BASE_PATH = '/content/gdrive/My Drive/Level-4-Project/'\n",
    "#     !cd gdrive/My\\ Drive/Level-4-Project/ && pip install --editable .\n",
    "    os.chdir('gdrive/My Drive/Level-4-Project/')\n",
    "    \n",
    "elif path == 'D:\\\\Google Drive\\\\Level-4-Project\\\\notebooks':\n",
    "    BASE_PATH = \"D:/Google Drive/Level-4-Project/\"\n",
    "    \n",
    "elif path == \"/export/home/2192793m\":\n",
    "    BASE_PATH = \"/export/home/2192793m/Level-4-Project/\"\n",
    "    \n",
    "DATA_PATH = BASE_PATH + 'data/processed/doppler_spectrograms/3/'\n",
    "\n",
    "HYPERPARAMETER_PATH = BASE_PATH + 'results/CNN_hyperparameter_search/'\n",
    "\n",
    "RESULTS_PATH = BASE_PATH + 'results/CNN_early_stopping_tuning/'\n",
    "if not os.path.exists(RESULTS_PATH):\n",
    "    os.makedirs(RESULTS_PATH)\n",
    "   "
   ]
  },
  {
   "cell_type": "code",
   "execution_count": 3,
   "metadata": {},
   "outputs": [],
   "source": [
    "SAVE_RESULTS = False\n",
    "SAVE_GRAPHS = True"
   ]
  },
  {
   "cell_type": "markdown",
   "metadata": {
    "colab_type": "text",
    "id": "rgYwaq1eZb5u"
   },
   "source": [
    "Import remaining packages"
   ]
  },
  {
   "cell_type": "code",
   "execution_count": 4,
   "metadata": {
    "colab": {
     "base_uri": "https://localhost:8080/",
     "height": 34
    },
    "colab_type": "code",
    "executionInfo": {
     "elapsed": 4051,
     "status": "ok",
     "timestamp": 1549270872737,
     "user": {
      "displayName": "Andrew Mackay",
      "photoUrl": "https://lh3.googleusercontent.com/-24hiGmdxZDE/AAAAAAAAAAI/AAAAAAAAL_I/RW7nqM11LkM/s64/photo.jpg",
      "userId": "06804410358976473893"
     },
     "user_tz": 0
    },
    "id": "x8rzmlEhpe_R",
    "outputId": "8681c085-e41a-4e6b-ceda-e23976ef82ae"
   },
   "outputs": [
    {
     "name": "stderr",
     "output_type": "stream",
     "text": [
      "Using TensorFlow backend.\n"
     ]
    }
   ],
   "source": [
    "import numpy as np\n",
    "import sys\n",
    "from keras.preprocessing.image import ImageDataGenerator\n",
    "from keras.optimizers import SGD, Adam\n",
    "from keras.utils import np_utils\n",
    "from sklearn.metrics import classification_report, confusion_matrix\n",
    "import csv\n",
    "from keras.models import load_model\n",
    "import pickle\n",
    "from keras.models import Sequential\n",
    "from keras.layers import Dense, Dropout, Flatten\n",
    "from keras.layers import Convolution2D, MaxPooling2D, ZeroPadding2D\n",
    "from keras.callbacks import EarlyStopping\n",
    "import matplotlib.pyplot as plt"
   ]
  },
  {
   "cell_type": "code",
   "execution_count": 5,
   "metadata": {
    "colab": {
     "base_uri": "https://localhost:8080/",
     "height": 252
    },
    "colab_type": "code",
    "executionInfo": {
     "elapsed": 12708,
     "status": "ok",
     "timestamp": 1549270882241,
     "user": {
      "displayName": "Andrew Mackay",
      "photoUrl": "https://lh3.googleusercontent.com/-24hiGmdxZDE/AAAAAAAAAAI/AAAAAAAAL_I/RW7nqM11LkM/s64/photo.jpg",
      "userId": "06804410358976473893"
     },
     "user_tz": 0
    },
    "id": "tk_HAyYKYrI8",
    "outputId": "fd614d8d-ad72-4341-d75b-c83befe436be"
   },
   "outputs": [],
   "source": [
    "# needed for CheckpointSaver (not in release yet but very useful)\n",
    "# https://github.com/scikit-optimize/scikit-optimize/issues/678\n",
    "# ! pip install git+https://github.com/scikit-optimize/scikit-optimize/ \n",
    "    \n",
    "from skopt import gp_minimize\n",
    "from skopt.space import Real, Integer, Categorical\n",
    "from skopt.utils import use_named_args\n",
    "from skopt.callbacks import CheckpointSaver\n",
    "from skopt import dump, load\n",
    "from skopt.plots import plot_objective, plot_evaluations"
   ]
  },
  {
   "cell_type": "code",
   "execution_count": 6,
   "metadata": {
    "colab": {},
    "colab_type": "code",
    "id": "PsHOJ9lEpe_V"
   },
   "outputs": [],
   "source": [
    "# Needed as originally code was for theano backend but now using tensor flow\n",
    "from keras import backend as K\n",
    "K.set_image_dim_ordering('th')"
   ]
  },
  {
   "cell_type": "markdown",
   "metadata": {
    "colab_type": "text",
    "id": "ssk69nuAiB68"
   },
   "source": [
    "## Experiment Setup"
   ]
  },
  {
   "cell_type": "code",
   "execution_count": 7,
   "metadata": {
    "colab": {},
    "colab_type": "code",
    "id": "5r9302zCpe_j"
   },
   "outputs": [],
   "source": [
    "target_names = [\"walking\", \"pushing\", \"sitting\", \"pulling\",\n",
    "                \"circling\", \"clapping\", \"bending\"]\n",
    "nb_classes = len(target_names)\n",
    "\n",
    "# input image dimensions\n",
    "img_rows, img_cols = 75, 75\n",
    "# user c excluded as this is reserved for final evaluation\n",
    "users = [\"A\", \"B\", \"D\", \"E\", \"F\"] "
   ]
  },
  {
   "cell_type": "code",
   "execution_count": 8,
   "metadata": {
    "colab": {},
    "colab_type": "code",
    "id": "C1f1naWmkElm"
   },
   "outputs": [],
   "source": [
    "def load_data(user_letter):\n",
    "    with open(DATA_PATH + user_letter + \"_data.pkl\", 'rb') as data_file:\n",
    "        data = pickle.load(data_file)\n",
    "        data = data.reshape(data.shape[0], 1, 75, 75)\n",
    "        \n",
    "    with open(DATA_PATH + user_letter + \"_labels.pkl\", 'rb') as labels_file:\n",
    "        labels = pickle.load(labels_file)\n",
    "        labels = np.reshape(labels, (len(labels), 1))\n",
    "     \n",
    "    return data, labels"
   ]
  },
  {
   "cell_type": "code",
   "execution_count": 9,
   "metadata": {
    "colab": {},
    "colab_type": "code",
    "id": "g_bsC10bq026"
   },
   "outputs": [],
   "source": [
    "datasets = {}\n",
    "for user in users:\n",
    "    data, labels = load_data(user)\n",
    "    datasets[user] = {\"data\":data, \"labels\":labels}"
   ]
  },
  {
   "cell_type": "code",
   "execution_count": 13,
   "metadata": {
    "colab": {},
    "colab_type": "code",
    "id": "ymyzQSDQiRL3"
   },
   "outputs": [],
   "source": [
    "def split_train_validation(validation_user):\n",
    "    train_data = []\n",
    "    train_labels = []\n",
    "    validation_data = []\n",
    "    validation_labels = []\n",
    "    for user in users:\n",
    "        data = datasets[user][\"data\"]\n",
    "        labels = datasets[user][\"labels\"]\n",
    "        if user == validation_user:\n",
    "            validation_data = data\n",
    "            validation_labels = labels\n",
    "            \n",
    "        else:\n",
    "            train_data.append(data)\n",
    "            train_labels.append(labels)\n",
    "\n",
    "    train_labels = np.concatenate(train_labels, axis=0)\n",
    "    train_data = np.concatenate(train_data, axis=0)\n",
    "    \n",
    "    train_labels = np_utils.to_categorical(train_labels, nb_classes)\n",
    "    validation_labels = np_utils.to_categorical(validation_labels, nb_classes)\n",
    "    train_data = train_data.astype('float32')\n",
    "    validation_data = validation_data.astype('float32')\n",
    "    train_data /= 255\n",
    "    validation_data /= 255 \n",
    "    \n",
    "    return {\n",
    "        \"train_data\": train_data,\n",
    "        \"train_labels\": train_labels,\n",
    "        \"validation_data\": validation_data,\n",
    "        \"validation_labels\": validation_labels\n",
    "       }"
   ]
  },
  {
   "cell_type": "markdown",
   "metadata": {
    "colab_type": "text",
    "id": "qK0TcJIfsz7q"
   },
   "source": [
    "## Define Model"
   ]
  },
  {
   "cell_type": "code",
   "execution_count": 12,
   "metadata": {
    "colab": {},
    "colab_type": "code",
    "id": "_e0io4rM1O6N"
   },
   "outputs": [],
   "source": [
    "def make_model(nb_filters, img_rows, img_cols, nb_classes, activation,\n",
    "               dropout, num_dense_nodes, num_dense_layers,\n",
    "               kernel_size, pooling_size):\n",
    "    \n",
    "    kernel_size = (kernel_size, kernel_size)\n",
    "    pooling_size = (pooling_size, pooling_size)\n",
    "    \n",
    "    model = Sequential(name=nb_filters)\n",
    "    nb_filters = nb_filters.split(\"-\")\n",
    "    size_1 = int(nb_filters[0])\n",
    "    size_2 = int(nb_filters[1])\n",
    "\n",
    "    model.add(Convolution2D(size_1, kernel_size, padding='same',\n",
    "                            input_shape=(1, img_rows, img_cols),\n",
    "                            activation=activation))\n",
    "    model.add(Convolution2D(size_1, kernel_size, activation=activation))\n",
    "    model.add(MaxPooling2D(pool_size=pooling_size))\n",
    "    model.add(Dropout(dropout))\n",
    "\n",
    "    model.add(Convolution2D(size_2, kernel_size, padding='same',\n",
    "                            activation=activation))\n",
    "    model.add(Convolution2D(size_2, kernel_size, activation=activation))\n",
    "    model.add(MaxPooling2D(pool_size=pooling_size))\n",
    "    model.add(Dropout(dropout))\n",
    "\n",
    "    model.add(Flatten())\n",
    "    for i in range(num_dense_layers):\n",
    "        model.add(Dense(num_dense_nodes, activation=activation))\n",
    "    model.add(Dropout(dropout))\n",
    "    model.add(Dense(nb_classes, activation='softmax'))\n",
    "    return model"
   ]
  },
  {
   "cell_type": "markdown",
   "metadata": {
    "colab_type": "text",
    "id": "rhFcRSbwZCCw"
   },
   "source": [
    "## Hyperparameter Search"
   ]
  },
  {
   "cell_type": "markdown",
   "metadata": {
    "colab_type": "text",
    "id": "DeW2AmQ2ZGFC"
   },
   "source": [
    "### Fixed Parameters"
   ]
  },
  {
   "cell_type": "code",
   "execution_count": 14,
   "metadata": {
    "colab": {},
    "colab_type": "code",
    "id": "3ndLxKnSZEu-"
   },
   "outputs": [],
   "source": [
    "nb_epoch = 100 # large enough to ensure early stopping\n",
    "# nb_epoch = 1 # testing"
   ]
  },
  {
   "cell_type": "markdown",
   "metadata": {
    "colab_type": "text",
    "id": "DEBqFCS9uImJ"
   },
   "source": [
    "### Load gp results"
   ]
  },
  {
   "cell_type": "code",
   "execution_count": 10,
   "metadata": {
    "colab": {},
    "colab_type": "code",
    "id": "AzWFM-axZS2V"
   },
   "outputs": [],
   "source": [
    "# needed for loading results (objective needs to be defined)\n",
    "def objective():\n",
    "    return 0"
   ]
  },
  {
   "cell_type": "code",
   "execution_count": 11,
   "metadata": {
    "colab": {},
    "colab_type": "code",
    "id": "237ErDR_uKsk"
   },
   "outputs": [],
   "source": [
    "res_gp = load(HYPERPARAMETER_PATH + \"res_gp_complete.pkl\")"
   ]
  },
  {
   "cell_type": "markdown",
   "metadata": {
    "colab_type": "text",
    "id": "pDOtEG4rZx-9"
   },
   "source": [
    "## Results from hyperparameter search in notebook 8"
   ]
  },
  {
   "cell_type": "markdown",
   "metadata": {},
   "source": [
    "Best Hyperparameters Discovered"
   ]
  },
  {
   "cell_type": "code",
   "execution_count": 71,
   "metadata": {},
   "outputs": [
    {
     "name": "stdout",
     "output_type": "stream",
     "text": [
      "optimizer: adam\n",
      "learning_rate: 0.0012375685948764468\n",
      "activation: relu\n",
      "dropout: 0.597428888669298\n",
      "num_dense_nodes: 1024\n",
      "num_dense_layers: 3\n",
      "kernel_size: 3\n",
      "pooling_size: 2\n",
      "batch_size: 576\n"
     ]
    }
   ],
   "source": [
    "dimensions = ['optimizer', 'learning_rate', 'activation', 'dropout',\n",
    "              'num_dense_nodes', 'num_dense_layers', 'kernel_size',\n",
    "              'pooling_size','batch_size']\n",
    "parameters = res_gp.x\n",
    "for index, parameter in enumerate(parameters):\n",
    "    print(dimensions[index] + \":\", parameter)"
   ]
  },
  {
   "cell_type": "code",
   "execution_count": 20,
   "metadata": {},
   "outputs": [],
   "source": [
    "early_stopping_patience = np.arange(-1,11)"
   ]
  },
  {
   "cell_type": "code",
   "execution_count": 73,
   "metadata": {},
   "outputs": [],
   "source": [
    "results = {}\n",
    "for patience in early_stopping_patience:\n",
    "    results[str(patience)] = {}\n",
    "    for user in users:\n",
    "        results[str(patience)][user] = {}"
   ]
  },
  {
   "cell_type": "code",
   "execution_count": 76,
   "metadata": {
    "scrolled": true
   },
   "outputs": [
    {
     "name": "stdout",
     "output_type": "stream",
     "text": [
      "Patience: -1\n",
      "User: A\n",
      "Train on 29019 samples, validate on 7966 samples\n",
      "Epoch 1/1\n",
      "29019/29019 [==============================] - 39s 1ms/step - loss: 1.2314 - acc: 0.4988 - val_loss: 0.7000 - val_acc: 0.7812\n",
      "0.15623901542215352\n",
      "Patience: 0\n",
      "User: A\n",
      "Train on 29019 samples, validate on 7966 samples\n",
      "Epoch 1/1\n",
      "29019/29019 [==============================] - 39s 1ms/step - loss: 1.1588 - acc: 0.5393 - val_loss: 0.7596 - val_acc: 0.6560\n",
      "0.13120763195898855\n",
      "Patience: 1\n",
      "User: A\n",
      "Train on 29019 samples, validate on 7966 samples\n",
      "Epoch 1/1\n",
      "29019/29019 [==============================] - 39s 1ms/step - loss: 1.2485 - acc: 0.4968 - val_loss: 0.8752 - val_acc: 0.6157\n",
      "0.12314838111744794\n",
      "Patience: 2\n",
      "User: A\n",
      "Train on 29019 samples, validate on 7966 samples\n",
      "Epoch 1/1\n",
      "29019/29019 [==============================] - 39s 1ms/step - loss: 1.2483 - acc: 0.4977 - val_loss: 0.7860 - val_acc: 0.7499\n",
      "0.1499874474271709\n",
      "Patience: 3\n",
      "User: A\n",
      "Train on 29019 samples, validate on 7966 samples\n",
      "Epoch 1/1\n",
      "29019/29019 [==============================] - 39s 1ms/step - loss: 1.2103 - acc: 0.5197 - val_loss: 0.7407 - val_acc: 0.7113\n",
      "0.1422545820212741\n",
      "Patience: 4\n",
      "User: A\n",
      "Train on 29019 samples, validate on 7966 samples\n",
      "Epoch 1/1\n",
      "29019/29019 [==============================] - 40s 1ms/step - loss: 1.1299 - acc: 0.5439 - val_loss: 0.7608 - val_acc: 0.6639\n",
      "0.1327893544943405\n",
      "Patience: 5\n",
      "User: A\n",
      "Train on 29019 samples, validate on 7966 samples\n",
      "Epoch 1/1\n",
      "29019/29019 [==============================] - 40s 1ms/step - loss: 1.1381 - acc: 0.5418 - val_loss: 0.6167 - val_acc: 0.7921\n",
      "0.15842330004442823\n",
      "Patience: 6\n",
      "User: A\n",
      "Train on 29019 samples, validate on 7966 samples\n",
      "Epoch 1/1\n",
      "29019/29019 [==============================] - 39s 1ms/step - loss: 1.2111 - acc: 0.5055 - val_loss: 0.7211 - val_acc: 0.7326\n",
      "0.14652272171032002\n",
      "Patience: 7\n",
      "User: A\n",
      "Train on 29019 samples, validate on 7966 samples\n",
      "Epoch 1/1\n",
      "29019/29019 [==============================] - 39s 1ms/step - loss: 1.2404 - acc: 0.5033 - val_loss: 0.8973 - val_acc: 0.5995\n",
      "0.11990961641215392\n",
      "Patience: 8\n",
      "User: A\n",
      "Train on 29019 samples, validate on 7966 samples\n",
      "Epoch 1/1\n",
      "29019/29019 [==============================] - 39s 1ms/step - loss: 1.1730 - acc: 0.5302 - val_loss: 0.8267 - val_acc: 0.6569\n",
      "0.13138337950595144\n",
      "Patience: 9\n",
      "User: A\n",
      "Train on 29019 samples, validate on 7966 samples\n",
      "Epoch 1/1\n",
      "29019/29019 [==============================] - 39s 1ms/step - loss: 1.2767 - acc: 0.4820 - val_loss: 0.8954 - val_acc: 0.5984\n",
      "0.11968365663444161\n",
      "Patience: 10\n",
      "User: A\n",
      "Train on 29019 samples, validate on 7966 samples\n",
      "Epoch 1/1\n",
      "29019/29019 [==============================] - 39s 1ms/step - loss: 1.2675 - acc: 0.4877 - val_loss: 0.7640 - val_acc: 0.6499\n",
      "0.12997740397883095\n"
     ]
    }
   ],
   "source": [
    "for patience in early_stopping_patience:\n",
    "    print(\"Patience:\", patience)\n",
    "    average_accuracy = 0\n",
    "    average_loss = 0\n",
    "    average_stopped_epoch = 0\n",
    "    for user in users:\n",
    "        print(\"User:\", user)\n",
    "        data_split = split_train_validation(user)\n",
    "        train_data = data_split[\"train_data\"]\n",
    "        train_labels = data_split[\"train_labels\"]\n",
    "        validation_data = data_split[\"validation_data\"]\n",
    "        validation_labels = data_split[\"validation_labels\"]\n",
    "\n",
    "        model = make_model(\"8-16\", img_rows, img_cols, nb_classes, parameters[2],\n",
    "                       parameters[3], parameters[4], parameters[5],\n",
    "                       parameters[6], parameters[7])\n",
    "        \n",
    "        optimizer = parameters[0] \n",
    "        learning_rate = parameters[1]\n",
    "        if optimizer == 'adam':\n",
    "            selected_optimizer = Adam(lr=learning_rate)\n",
    "            \n",
    "        elif optimizer == 'sgd_standard':\n",
    "            selected_optimizer = SGD(lr=learning_rate)\n",
    "            \n",
    "        else:\n",
    "            #nestrov momentum\n",
    "            selected_optimizer = SGD(lr=learning_rate, decay=1e-6, \n",
    "                                     momentum=0.9, nesterov=True)\n",
    "            \n",
    "        model.compile(loss='categorical_crossentropy',\n",
    "                      optimizer=selected_optimizer,\n",
    "                      metrics=['accuracy'])\n",
    "\n",
    "        callback_list = []\n",
    "        early_stopping = None\n",
    "        # -1 used to represent no early stopping\n",
    "        if patience != -1:\n",
    "            early_stopping = EarlyStopping(monitor='val_acc', patience=patience)\n",
    "            callback_list.append(early_stopping)\n",
    "        \n",
    "        \n",
    "        model.fit(\n",
    "            train_data,\n",
    "            train_labels,\n",
    "            validation_data=(validation_data, validation_labels),\n",
    "            batch_size=parameters[8],\n",
    "            epochs=nb_epoch,\n",
    "            shuffle=True, \n",
    "            callbacks=callback_list,\n",
    "            verbose=0)\n",
    "        \n",
    "        if early_stopping is not None:\n",
    "            print(\"Epoch Stopped:\", early_stopping.stopped_epoch)\n",
    "            results[str(patience)][user][\"stopped_epoch\"] = early_stopping.stopped_epoch\n",
    "            average_stopped_epoch += early_stopping.stopped_epoch\n",
    "\n",
    "        else:\n",
    "            print(\"Epoch Stopped:\", nb_epoch)\n",
    "            results[str(patience)][user][\"stopped_epoch\"] = nb_epoch\n",
    "            average_stopped_epoch += nb_epoch\n",
    "\n",
    "\n",
    "        evaluation = model.evaluate(validation_data, validation_labels,\n",
    "                                    batch_size=parameters[8], verbose=0)\n",
    "        \n",
    "        results[str(patience)][user][\"loss\"] = evaluation[0]\n",
    "        results[str(patience)][user][\"accuracy\"] = evaluation[1]\n",
    "\n",
    "        average_loss += evaluation[0]\n",
    "        average_accuracy += evaluation[1]\n",
    "        K.clear_session()\n",
    "\n",
    "    print(\"Average Accuracy:\", average_accuracy/len(users))\n",
    "    print(\"Average Epoch Stopped:\", average_stopped_epoch/len(users))\n",
    "    results[str(patience)][\"avg_loss\"] = average_loss/len(users)\n",
    "    results[str(patience)][\"avg_acc\"] = average_accuracy/len(users)\n",
    "    results[str(patience)][\"avg_epoch_stopped\"] = average_stopped_epoch/len(users)"
   ]
  },
  {
   "cell_type": "markdown",
   "metadata": {},
   "source": [
    "### Save results"
   ]
  },
  {
   "cell_type": "code",
   "execution_count": 42,
   "metadata": {},
   "outputs": [],
   "source": [
    "if SAVE_RESULTS:\n",
    "    with open(RESULTS_PATH + \"results_dictionary.pkl\", 'wb') as results_file:\n",
    "        pickle.dump(results, results_file)"
   ]
  },
  {
   "cell_type": "markdown",
   "metadata": {},
   "source": [
    "### Load Results"
   ]
  },
  {
   "cell_type": "code",
   "execution_count": 15,
   "metadata": {},
   "outputs": [],
   "source": [
    "with open(RESULTS_PATH + \"results_dictionary.pkl\", 'rb') as results_file:\n",
    "    results = pickle.load(results_file)"
   ]
  },
  {
   "cell_type": "markdown",
   "metadata": {},
   "source": [
    "## Visualize Results"
   ]
  },
  {
   "cell_type": "markdown",
   "metadata": {},
   "source": [
    "### Average Accuracy"
   ]
  },
  {
   "cell_type": "code",
   "execution_count": 16,
   "metadata": {},
   "outputs": [
    {
     "data": {
      "image/png": "[encoded data removed]",
      "text/plain": [
       "<Figure size 432x288 with 1 Axes>"
      ]
     },
     "metadata": {
      "needs_background": "light"
     },
     "output_type": "display_data"
    }
   ],
   "source": [
    "accuracies = []\n",
    "labels = []\n",
    "for patience, value in results.items():\n",
    "    accuracies.append(value[\"avg_acc\"])\n",
    "    if patience == \"-1\":\n",
    "        labels.append(\"No ES\")\n",
    "    else:\n",
    "        labels.append(patience)\n",
    "    \n",
    "plt.bar(range(len(labels)), np.array(accuracies)*100, zorder=3)\n",
    "plt.xticks(range(len(labels)), labels)\n",
    "plt.xlabel(\"Patience\")\n",
    "plt.ylabel(\"Average Classification Accuracy (%)\")\n",
    "plt.title(\"Average Accuracy Comparison from 5-Fold Cross-Validation\")\n",
    "plt.grid(axis='y', zorder=0)\n",
    "if SAVE_GRAPHS:\n",
    "    plt.savefig(RESULTS_PATH + \"average_accuracy_comparison.pdf\", format='pdf')\n",
    "plt.show()"
   ]
  },
  {
   "cell_type": "markdown",
   "metadata": {},
   "source": [
    "### Average Loss"
   ]
  },
  {
   "cell_type": "code",
   "execution_count": 17,
   "metadata": {},
   "outputs": [
    {
     "data": {
      "image/png": "[encoded data removed]",
      "text/plain": [
       "<Figure size 432x288 with 1 Axes>"
      ]
     },
     "metadata": {
      "needs_background": "light"
     },
     "output_type": "display_data"
    }
   ],
   "source": [
    "loss = []\n",
    "labels = []\n",
    "for patience, value in results.items():\n",
    "    loss.append(value[\"avg_loss\"])\n",
    "    if patience == \"-1\":\n",
    "        labels.append(\"No ES\")\n",
    "    else:\n",
    "        labels.append(patience)\n",
    "    \n",
    "plt.bar(range(len(labels)), loss, zorder=3)\n",
    "plt.xticks(range(len(labels)), labels)\n",
    "plt.xlabel(\"Patience\")\n",
    "plt.ylabel(\"Average Loss\")\n",
    "plt.title(\"Average Loss Comparison from 5-Fold Cross-Validation\")\n",
    "plt.grid(axis='y', zorder=0)\n",
    "if SAVE_GRAPHS:\n",
    "    plt.savefig(RESULTS_PATH + \"average_loss_comparison.pdf\", format='pdf')\n",
    "plt.show()"
   ]
  },
  {
   "cell_type": "markdown",
   "metadata": {},
   "source": [
    "### Average Epoch Stopped At"
   ]
  },
  {
   "cell_type": "code",
   "execution_count": 18,
   "metadata": {},
   "outputs": [
    {
     "data": {
      "image/png": "[encoded data removed]",
      "text/plain": [
       "<Figure size 432x288 with 1 Axes>"
      ]
     },
     "metadata": {
      "needs_background": "light"
     },
     "output_type": "display_data"
    }
   ],
   "source": [
    "stopped = []\n",
    "labels = []\n",
    "for patience, value in results.items():\n",
    "    stopped.append(value[\"avg_epoch_stopped\"])\n",
    "    if patience == \"-1\":\n",
    "        labels.append(\"No ES\")\n",
    "    else:\n",
    "        labels.append(patience)\n",
    "    \n",
    "plt.bar(range(len(labels)), stopped, zorder=3)\n",
    "plt.xticks(range(len(labels)), labels)\n",
    "plt.xlabel(\"Patience\")\n",
    "plt.ylabel(\"Average Epoch Stopped At\")\n",
    "plt.title(\"Average Epoch Stopped at Comparison from 5-Fold Cross-Validation\")\n",
    "plt.grid(axis='y', zorder=0)\n",
    "if SAVE_GRAPHS:\n",
    "    plt.savefig(RESULTS_PATH + \"average_stopped_epoch_comparison.pdf\", format='pdf')\n",
    "plt.show()"
   ]
  },
  {
   "cell_type": "markdown",
   "metadata": {},
   "source": [
    "### Box Plot Comparison"
   ]
  },
  {
   "cell_type": "code",
   "execution_count": 21,
   "metadata": {},
   "outputs": [],
   "source": [
    "seperated_results = {}\n",
    "for patience, value in results.items():\n",
    "    accuracies = []\n",
    "    for user_label, res in value.items():\n",
    "        if len(user_label) > 1:\n",
    "            continue\n",
    "        accuracies.append(res[\"accuracy\"] * 100)\n",
    "        \n",
    "    if patience == \"-1\":\n",
    "        seperated_results[\"No ES\"] = accuracies\n",
    "\n",
    "    else:\n",
    "        seperated_results[patience] = accuracies\n",
    "\n",
    "labels = []\n",
    "for patience in early_stopping_patience:\n",
    "    if patience == -1:\n",
    "        labels.append(\"No ES\")\n",
    "    else:\n",
    "        labels.append(str(patience))\n",
    "data_to_plot = []\n",
    "for label in labels:\n",
    "    data_to_plot.append(seperated_results[label])"
   ]
  },
  {
   "cell_type": "code",
   "execution_count": 22,
   "metadata": {},
   "outputs": [
    {
     "data": {
      "image/png": "[encoded data removed]",
      "text/plain": [
       "<Figure size 432x288 with 1 Axes>"
      ]
     },
     "metadata": {
      "needs_background": "light"
     },
     "output_type": "display_data"
    }
   ],
   "source": [
    "plt.boxplot(data_to_plot, labels=labels, zorder=3)\n",
    "plt.title(\"Fold Performance Distribution Comparison\")\n",
    "plt.xlabel(\"Patience\")\n",
    "plt.ylabel(\"Classification Accuracy (%)\")\n",
    "plt.grid(axis='y', zorder=0)\n",
    "if SAVE_GRAPHS:\n",
    "     plt.savefig(RESULTS_PATH + \"boxplot.pdf\", format='pdf')"
   ]
  },
  {
   "cell_type": "markdown",
   "metadata": {},
   "source": [
    "Patience of 8 chosen for final model evaluation"
   ]
  },
  {
   "cell_type": "code",
   "execution_count": null,
   "metadata": {},
   "outputs": [],
   "source": []
  }
 ],
 "metadata": {
  "colab": {
   "collapsed_sections": [],
   "name": "8_CNN_hyperparameter_search.ipynb",
   "provenance": [],
   "version": "0.3.2"
  },
  "kernelspec": {
   "display_name": "Python 3",
   "language": "python",
   "name": "python3"
  },
  "language_info": {
   "codemirror_mode": {
    "name": "ipython",
    "version": 3
   },
   "file_extension": ".py",
   "mimetype": "text/x-python",
   "name": "python",
   "nbconvert_exporter": "python",
   "pygments_lexer": "ipython3",
   "version": "3.6.6"
  }
 },
 "nbformat": 4,
 "nbformat_minor": 1
}
