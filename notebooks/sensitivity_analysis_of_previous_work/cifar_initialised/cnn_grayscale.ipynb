{
 "cells": [
  {
   "cell_type": "markdown",
   "metadata": {
    "colab_type": "text",
    "id": "Xkf4VGCDpe_P"
   },
   "source": [
    "# Sensitivity analysis on previous work "
   ]
  },
  {
   "cell_type": "markdown",
   "metadata": {
    "colab_type": "text",
    "id": "GsYqR_xfpe_P"
   },
   "source": [
    "Training and testing data from all\n",
    "actions and test subjects, but 0 degrees aspect angle."
   ]
  },
  {
   "cell_type": "code",
   "execution_count": 1,
   "metadata": {},
   "outputs": [],
   "source": [
    "# Needed to allow editing using PyCharm\n",
    "%load_ext autoreload\n",
    "%autoreload 2"
   ]
  },
  {
   "cell_type": "markdown",
   "metadata": {},
   "source": [
    "The following cell is needed for compatibility when using both CoLab and Local Jupyter notebook.\n",
    "It sets the appropriate file path for the data and also installs local packages such as models."
   ]
  },
  {
   "cell_type": "code",
   "execution_count": null,
   "metadata": {},
   "outputs": [],
   "source": [
    "import os\n",
    "if os.getcwd() == '/content':\n",
    "    from google.colab import drive\n",
    "    drive.mount('/content/gdrive')\n",
    "    FILE_PATH = '/content/gdrive/My Drive/Level-4-Project/data/'\n",
    "    !cd gdrive/My\\ Drive/Level-4-Project/ && pip install --editable .\n",
    "    os.chdir('gdrive/My Drive/Level-4-Project/')\n",
    "    \n",
    "else:\n",
    "    FILE_PATH = \"C:/Users/macka/Google Drive/Level-4-Project/data/\"\n",
    "    \n",
    "from src.models.original_models import cifar_initialised"
   ]
  },
  {
   "cell_type": "code",
   "execution_count": 2,
   "metadata": {
    "colab": {
     "base_uri": "https://localhost:8080/",
     "height": 34.0
    },
    "colab_type": "code",
    "executionInfo": {
     "elapsed": 1859.0,
     "status": "ok",
     "timestamp": 1.53979378295E12,
     "user": {
      "displayName": "Andrew Mackay",
      "photoUrl": "",
      "userId": "06804410358976473893"
     },
     "user_tz": -60.0
    },
    "id": "x8rzmlEhpe_R",
    "outputId": "640d4317-6e5d-4d2a-97a0-c2570c67cb95"
   },
   "outputs": [
    {
     "name": "stderr",
     "output_type": "stream",
     "text": [
      "Using TensorFlow backend.\n"
     ]
    }
   ],
   "source": [
    "import numpy as np\n",
    "import sys\n",
    "from six.moves import cPickle\n",
    "from keras.preprocessing.image import ImageDataGenerator\n",
    "from keras.optimizers import SGD\n",
    "from keras.utils import np_utils\n",
    "import sys\n",
    "from sklearn.metrics import classification_report, confusion_matrix\n",
    "import csv\n",
    "from keras.models import load_model\n",
    "from src.models.original_models import cifar_initialised"
   ]
  },
  {
   "cell_type": "code",
   "execution_count": null,
   "metadata": {
    "colab": {},
    "colab_type": "code",
    "id": "PsHOJ9lEpe_V"
   },
   "outputs": [],
   "source": [
    "# Needed as originally code was for theano backend but now using tensor flow\n",
    "from keras import backend as K\n",
    "K.set_image_dim_ordering('th')"
   ]
  },
  {
   "cell_type": "code",
   "execution_count": 5,
   "metadata": {
    "colab": {},
    "colab_type": "code",
    "id": "_DJGfljNpe_Z"
   },
   "outputs": [],
   "source": [
    "def load_batch(fpath, label_key='labels'):\n",
    "    f = open(fpath, 'rb')\n",
    "    if sys.version_info < (3,):\n",
    "        d = cPickle.load(f)\n",
    "    else:\n",
    "        d = cPickle.load(f, encoding=\"bytes\")\n",
    "        # decode utf8\n",
    "        for k, v in d.items():\n",
    "            # added check as otherwise tries to decode a string\n",
    "            if type(k) is not str:\n",
    "                del(d[k])\n",
    "                d[k.decode(\"utf8\")] = v\n",
    "    f.close()\n",
    "    data = d[\"data\"]\n",
    "    labels = d[label_key]\n",
    "\n",
    "    data = data.reshape(data.shape[0], 1, 75, 75)\n",
    "    return data, labels"
   ]
  },
  {
   "cell_type": "code",
   "execution_count": 6,
   "metadata": {
    "colab": {},
    "colab_type": "code",
    "id": "T0CcNJdlpe_a"
   },
   "outputs": [],
   "source": [
    "def load_data(data_folder):\n",
    "    path = FILE_PATH + data_folder\n",
    "\n",
    "    nb_train_samples = 35595\n",
    "\n",
    "    X_train = np.zeros((nb_train_samples, 1, 75, 75), dtype=\"uint8\")\n",
    "    y_train = np.zeros((nb_train_samples,), dtype=\"uint8\")\n",
    "\n",
    "    for i in range(1, 6):\n",
    "        fpath = os.path.join(path, 'data_batch_' + str(i))\n",
    "        data, labels = load_batch(fpath)\n",
    "        X_train[(i-1)*7119:i*7119, :, :, :] = data\n",
    "        y_train[(i-1)*7119:i*7119] = labels\n",
    "\n",
    "    fpath = os.path.join(path, 'test_batch')\n",
    "    X_test, y_test = load_batch(fpath)\n",
    "\n",
    "    y_train = np.reshape(y_train, (len(y_train), 1))\n",
    "    y_test = np.reshape(y_test, (len(y_test), 1))\n",
    "\n",
    "    return (X_train, y_train), (X_test, y_test)"
   ]
  },
  {
   "cell_type": "code",
   "execution_count": 14,
   "metadata": {
    "colab": {
     "base_uri": "https://localhost:8080/",
     "height": 68.0
    },
    "colab_type": "code",
    "executionInfo": {
     "elapsed": 19159.0,
     "status": "ok",
     "timestamp": 1.539793906265E12,
     "user": {
      "displayName": "Andrew Mackay",
      "photoUrl": "",
      "userId": "06804410358976473893"
     },
     "user_tz": -60.0
    },
    "id": "5r9302zCpe_j",
    "outputId": "93d4b238-2fc6-422a-b0db-82ae48aab6c1"
   },
   "outputs": [
    {
     "name": "stdout",
     "output_type": "stream",
     "text": [
      "X_train shape: (35595, 1, 75, 75)\n",
      "35595 train samples\n",
      "7119 test samples\n"
     ]
    }
   ],
   "source": [
    "batch_size = 100\n",
    "nb_classes = 7\n",
    "nb_epoch = 100\n",
    "nb_epoch = 2 # originally 100\n",
    "data_augmentation = False\n",
    "\n",
    "# input image dimensions\n",
    "img_rows, img_cols = 75, 75\n",
    "# the CIFAR10 images are RGB\n",
    "\n",
    "\n",
    "# the data, shuffled and split between train and test sets\n",
    "(X_train, y_train), (X_test, y_test) = load_data('cifar_initialised')\n",
    "print('X_train shape:', X_train.shape)\n",
    "print(X_train.shape[0], 'train samples')\n",
    "print(X_test.shape[0], 'test samples')\n",
    "\n",
    "# convert class vectors to binary class matrices\n",
    "Y_train = np_utils.to_categorical(y_train, nb_classes)\n",
    "Y_test = np_utils.to_categorical(y_test, nb_classes)"
   ]
  },
  {
   "cell_type": "code",
   "execution_count": 15,
   "metadata": {
    "colab": {},
    "colab_type": "code",
    "id": "-pQZx1tGpe_e"
   },
   "outputs": [],
   "source": [
    "models = []\n",
    "for version_number in range(1,5):\n",
    "    models.append(cifar_initialised.make_model(version_number, img_rows, img_cols, nb_classes))"
   ]
  },
  {
   "cell_type": "code",
   "execution_count": 16,
   "metadata": {
    "colab": {
     "base_uri": "https://localhost:8080/",
     "height": 2108.0
    },
    "colab_type": "code",
    "executionInfo": {
     "elapsed": 150248.0,
     "status": "ok",
     "timestamp": 1.539794066824E12,
     "user": {
      "displayName": "Andrew Mackay",
      "photoUrl": "",
      "userId": "06804410358976473893"
     },
     "user_tz": -60.0
    },
    "id": "pKdiTJP6pe_n",
    "outputId": "a1cfbac4-d4ab-476e-b5e3-2502192184c2"
   },
   "outputs": [
    {
     "name": "stdout",
     "output_type": "stream",
     "text": [
      "Not using data augmentation.\n",
      "Train on 35595 samples, validate on 7119 samples\n",
      "Epoch 1/2\n",
      "35595/35595 [==============================] - 93s 3ms/step - loss: 0.5997 - acc: 0.7701 - val_loss: 0.0749 - val_acc: 0.9781\n",
      "Epoch 2/2\n",
      "35595/35595 [==============================] - 82s 2ms/step - loss: 0.0997 - acc: 0.9667 - val_loss: 0.0606 - val_acc: 0.9871\n",
      "[6 4 4 ... 5 1 3]\n",
      "CLASSIFICATION REPORT:\n",
      "                  precision    recall  f1-score   support\n",
      "\n",
      "ArmFasterTowards       0.98      0.99      0.99      1017\n",
      "ArmSlowerTowards       1.00      0.98      0.99      1017\n",
      "     CirclingArm       0.99      0.95      0.97      1017\n",
      "        Clapping       0.95      1.00      0.97      1017\n",
      "       PickingUp       1.00      0.99      1.00      1017\n",
      "         Sitting       1.00      1.00      1.00      1017\n",
      "         Walking       1.00      1.00      1.00      1017\n",
      "\n",
      "       micro avg       0.99      0.99      0.99      7119\n",
      "       macro avg       0.99      0.99      0.99      7119\n",
      "    weighted avg       0.99      0.99      0.99      7119\n",
      "\n",
      "\n",
      "\n",
      "CONFUSION MATRIX:\n",
      "[[1006    2    9    0    0    0    0]\n",
      " [  14  998    5    0    0    0    0]\n",
      " [   0    0  964   53    0    0    0]\n",
      " [   0    0    0 1017    0    0    0]\n",
      " [   4    0    0    0 1011    2    0]\n",
      " [   0    0    0    0    3 1014    0]\n",
      " [   0    0    0    0    0    0 1017]]\n",
      "Not using data augmentation.\n",
      "Train on 35595 samples, validate on 7119 samples\n",
      "Epoch 1/2\n",
      "35595/35595 [==============================] - 147s 4ms/step - loss: 1.9462 - acc: 0.1398 - val_loss: 1.9462 - val_acc: 0.1429\n",
      "Epoch 2/2\n",
      "35595/35595 [==============================] - 139s 4ms/step - loss: 1.9461 - acc: 0.1402 - val_loss: 1.9462 - val_acc: 0.1429\n",
      "[3 3 3 ... 3 3 3]\n",
      "CLASSIFICATION REPORT:\n",
      "                  precision    recall  f1-score   support\n",
      "\n",
      "ArmFasterTowards       0.00      0.00      0.00      1017\n",
      "ArmSlowerTowards       0.00      0.00      0.00      1017\n",
      "     CirclingArm       0.00      0.00      0.00      1017\n",
      "        Clapping       0.14      1.00      0.25      1017\n",
      "       PickingUp       0.00      0.00      0.00      1017\n",
      "         Sitting       0.00      0.00      0.00      1017\n",
      "         Walking       0.00      0.00      0.00      1017\n",
      "\n",
      "       micro avg       0.14      0.14      0.14      7119\n",
      "       macro avg       0.02      0.14      0.04      7119\n",
      "    weighted avg       0.02      0.14      0.04      7119\n",
      "\n",
      "\n",
      "\n",
      "CONFUSION MATRIX:\n",
      "[[   0    0    0 1017    0    0    0]\n",
      " [   0    0    0 1017    0    0    0]\n",
      " [   0    0    0 1017    0    0    0]\n",
      " [   0    0    0 1017    0    0    0]\n",
      " [   0    0    0 1017    0    0    0]\n",
      " [   0    0    0 1017    0    0    0]\n",
      " [   0    0    0 1017    0    0    0]]\n"
     ]
    },
    {
     "name": "stderr",
     "output_type": "stream",
     "text": [
      "C:\\Users\\macka\\Anaconda3\\envs\\dataScience\\lib\\site-packages\\sklearn\\metrics\\classification.py:1143: UndefinedMetricWarning: Precision and F-score are ill-defined and being set to 0.0 in labels with no predicted samples.\n",
      "  'precision', 'predicted', average, warn_for)\n"
     ]
    },
    {
     "name": "stdout",
     "output_type": "stream",
     "text": [
      "Not using data augmentation.\n",
      "Train on 35595 samples, validate on 7119 samples\n",
      "Epoch 1/2\n",
      "35595/35595 [==============================] - 42s 1ms/step - loss: 1.9462 - acc: 0.1385 - val_loss: 1.9460 - val_acc: 0.1429\n",
      "Epoch 2/2\n",
      "35595/35595 [==============================] - 42s 1ms/step - loss: 1.9462 - acc: 0.1385 - val_loss: 1.9460 - val_acc: 0.1429\n",
      "[2 2 2 ... 2 2 2]\n",
      "CLASSIFICATION REPORT:\n",
      "                  precision    recall  f1-score   support\n",
      "\n",
      "ArmFasterTowards       0.00      0.00      0.00      1017\n",
      "ArmSlowerTowards       0.00      0.00      0.00      1017\n",
      "     CirclingArm       0.14      1.00      0.25      1017\n",
      "        Clapping       0.00      0.00      0.00      1017\n",
      "       PickingUp       0.00      0.00      0.00      1017\n",
      "         Sitting       0.00      0.00      0.00      1017\n",
      "         Walking       0.00      0.00      0.00      1017\n",
      "\n",
      "       micro avg       0.14      0.14      0.14      7119\n",
      "       macro avg       0.02      0.14      0.04      7119\n",
      "    weighted avg       0.02      0.14      0.04      7119\n",
      "\n",
      "\n",
      "\n",
      "CONFUSION MATRIX:\n",
      "[[   0    0 1017    0    0    0    0]\n",
      " [   0    0 1017    0    0    0    0]\n",
      " [   0    0 1017    0    0    0    0]\n",
      " [   0    0 1017    0    0    0    0]\n",
      " [   0    0 1017    0    0    0    0]\n",
      " [   0    0 1017    0    0    0    0]\n",
      " [   0    0 1017    0    0    0    0]]\n",
      "Not using data augmentation.\n",
      "Train on 35595 samples, validate on 7119 samples\n",
      "Epoch 1/2\n",
      "35595/35595 [==============================] - 64s 2ms/step - loss: 1.9461 - acc: 0.1415 - val_loss: 1.9462 - val_acc: 0.1429\n",
      "Epoch 2/2\n",
      "35595/35595 [==============================] - 64s 2ms/step - loss: 1.9462 - acc: 0.1384 - val_loss: 1.9461 - val_acc: 0.1429\n",
      "[3 3 3 ... 3 3 3]\n",
      "CLASSIFICATION REPORT:\n",
      "                  precision    recall  f1-score   support\n",
      "\n",
      "ArmFasterTowards       0.00      0.00      0.00      1017\n",
      "ArmSlowerTowards       0.00      0.00      0.00      1017\n",
      "     CirclingArm       0.00      0.00      0.00      1017\n",
      "        Clapping       0.14      1.00      0.25      1017\n",
      "       PickingUp       0.00      0.00      0.00      1017\n",
      "         Sitting       0.00      0.00      0.00      1017\n",
      "         Walking       0.00      0.00      0.00      1017\n",
      "\n",
      "       micro avg       0.14      0.14      0.14      7119\n",
      "       macro avg       0.02      0.14      0.04      7119\n",
      "    weighted avg       0.02      0.14      0.04      7119\n",
      "\n",
      "\n",
      "\n",
      "CONFUSION MATRIX:\n",
      "[[   0    0    0 1017    0    0    0]\n",
      " [   0    0    0 1017    0    0    0]\n",
      " [   0    0    0 1017    0    0    0]\n",
      " [   0    0    0 1017    0    0    0]\n",
      " [   0    0    0 1017    0    0    0]\n",
      " [   0    0    0 1017    0    0    0]\n",
      " [   0    0    0 1017    0    0    0]]\n"
     ]
    }
   ],
   "source": [
    "for model in models:\n",
    "    # let's train the model using SGD + momentum (how original).\n",
    "    sgd = SGD(lr=0.01, decay=1e-6, momentum=0.9, nesterov=True)\n",
    "    model.compile(loss='categorical_crossentropy',\n",
    "                  optimizer=sgd,\n",
    "                  metrics=['accuracy'])\n",
    "\n",
    "    X_train = X_train.astype('float32')\n",
    "    X_test = X_test.astype('float32')\n",
    "    X_train /= 255\n",
    "    X_test /= 255 \n",
    "    if not data_augmentation:\n",
    "        print('Not using data augmentation.')\n",
    "        hist = model.fit(X_train, Y_train,\n",
    "                  batch_size=batch_size,\n",
    "                  epochs=nb_epoch,\n",
    "                  validation_data=(X_test, Y_test),\n",
    "                  shuffle=True)\n",
    "\n",
    "        y_pred = model.predict_classes(X_test)\n",
    "        print(y_pred)\n",
    "        target_names = ['ArmFasterTowards', 'ArmSlowerTowards', 'CirclingArm', 'Clapping', 'PickingUp', 'Sitting', 'Walking']\n",
    "#         sys.stdout = open('/home/aleksandar/sets/cifar_initialised/results/report_initialised.txt', \"w\")\n",
    "        print(\"CLASSIFICATION REPORT:\")\n",
    "        print(classification_report(np.argmax(Y_test,axis=1), y_pred,target_names=target_names))\n",
    "        print (\"\\n\")\n",
    "        print(\"CONFUSION MATRIX:\")\n",
    "        print(confusion_matrix(np.argmax(Y_test,axis=1), y_pred))\n",
    "\n",
    "#         with open('/home/aleksandar/sets/cifar_initialised/results/graphs_initialised.csv', \"w\") as f:\n",
    "#            w = csv.writer(f)\n",
    "#            train_loss = hist.history['loss']\n",
    "#            val_loss = hist.history['val_loss']\n",
    "#            train_acc = hist.history['acc']\n",
    "#            val_acc = hist.history['val_acc']\n",
    "#            helplist = list(zip(train_loss, train_acc, val_loss, val_acc))\n",
    "#            w.writerow(\"train_loss, train_acc, val_loss, val_acc\")\n",
    "#            for val in helplist:\n",
    "#               w.writerow([val])\n",
    "\n",
    "\n",
    "#         model.save('/home/aleksandar/sets/cifar_initialised/results/model_initialised.h5')\n",
    "#         #-----------------------\n",
    "\n",
    "    else:\n",
    "        print('Using real-time data augmentation.')\n",
    "\n",
    "        # this will do preprocessing and realtime data augmentation\n",
    "        datagen = ImageDataGenerator(\n",
    "            featurewise_center=False,  # set input mean to 0 over the dataset\n",
    "            samplewise_center=False,  # set each sample mean to 0\n",
    "            featurewise_std_normalization=False,  # divide inputs by std of the dataset\n",
    "            samplewise_std_normalization=False,  # divide each input by its std\n",
    "            zca_whitening=False,  # apply ZCA whitening\n",
    "            rotation_range=0,  # randomly rotate images in the range (degrees, 0 to 180)\n",
    "            width_shift_range=0.1,  # randomly shift images horizontally (fraction of total width)\n",
    "            height_shift_range=0.1,  # randomly shift images vertically (fraction of total height)\n",
    "            horizontal_flip=True,  # randomly flip images\n",
    "            vertical_flip=False)  # randomly flip images\n",
    "\n",
    "        # compute quantities required for featurewise normalization\n",
    "        # (std, mean, and principal components if ZCA whitening is applied)\n",
    "        datagen.fit(X_train)\n",
    "\n",
    "        # fit the model on the batches generated by datagen.flow()\n",
    "        hist = model.fit_generator(datagen.flow(X_train, Y_train,\n",
    "                            batch_size=batch_size),\n",
    "                            samples_per_epoch=X_train.shape[0],\n",
    "                            nb_epoch=nb_epoch,\n",
    "                            validation_data=(X_test, Y_test))\n",
    "\n",
    "        #NEW--------------------\n",
    "        y_pred = model.predict_classes(X_test)\n",
    "        print(y_pred)\n",
    "        target_names = ['ArmFasterTowards', 'ArmSlowerTowards', 'CirclingArm', 'Clapping', 'PickingUp', 'Sitting', 'Walking']\n",
    "#         sys.stdout = open('/home/aleksandar/sets/cifar_initialised/results/report_initialised.txt', \"w\")\n",
    "        print(\"CLASSIFICATION REPORT:\")\n",
    "        print(classification_report(np.argmax(Y_test,axis=1), y_pred,target_names=target_names))\n",
    "        print (\"\\n\")\n",
    "        print(\"CONFUSION MATRIX:\")\n",
    "        print(confusion_matrix(np.argmax(Y_test,axis=1), y_pred))\n",
    "\n",
    "#         with open('/home/aleksandar/sets/cifar_initialised/results/graphs_initialised.csv', \"w\") as f:\n",
    "#            w = csv.writer(f)\n",
    "#            train_loss = hist.history['loss']\n",
    "#            val_loss = hist.history['val_loss']\n",
    "#            train_acc = hist.history['acc']\n",
    "#            val_acc = hist.history['val_acc']\n",
    "#            helplist = list(zip(train_loss, train_acc, val_loss, val_acc))\n",
    "#            w.writerow(\"train_loss, train_acc, val_loss, val_acc\")\n",
    "#            for val in helplist:\n",
    "#               w.writerow([val])\n",
    "\n",
    "\n",
    "#         model.save('/home/aleksandar/sets/cifar_initialised/results/model_initialised.h5')\n",
    "#         #-----------------------"
   ]
  },
  {
   "cell_type": "code",
   "execution_count": 0,
   "metadata": {
    "colab": {},
    "colab_type": "code",
    "id": "_PO4Wg4h3pJz"
   },
   "outputs": [],
   "source": []
  }
 ],
 "metadata": {
  "accelerator": "GPU",
  "colab": {
   "collapsed_sections": [],
   "name": "cnn_grayscale.ipynb",
   "provenance": [],
   "version": "0.3.2"
  },
  "kernelspec": {
   "display_name": "Python 3",
   "language": "python",
   "name": "python3"
  },
  "language_info": {
   "codemirror_mode": {
    "name": "ipython",
    "version": 3
   },
   "file_extension": ".py",
   "mimetype": "text/x-python",
   "name": "python",
   "nbconvert_exporter": "python",
   "pygments_lexer": "ipython3",
   "version": "3.6.6"
  }
 },
 "nbformat": 4,
 "nbformat_minor": 1
}
