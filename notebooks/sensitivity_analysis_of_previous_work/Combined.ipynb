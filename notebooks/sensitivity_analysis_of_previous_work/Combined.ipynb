{
 "cells": [
  {
   "cell_type": "markdown",
   "metadata": {},
   "source": [
    "# Sensitivity analysis of previous work for all experiments and orignal models"
   ]
  },
  {
   "cell_type": "markdown",
   "metadata": {},
   "source": [
    "Allow editing using PyCharm (auto reloading)"
   ]
  },
  {
   "cell_type": "code",
   "execution_count": 1,
   "metadata": {},
   "outputs": [],
   "source": [
    "%load_ext autoreload\n",
    "%autoreload 2"
   ]
  },
  {
   "cell_type": "markdown",
   "metadata": {},
   "source": [
    "Needed for compatibility when using both CoLab and Local Jupyter notebook. It sets the appropriate file path for the data and also installs local packages such as models and data_loading."
   ]
  },
  {
   "cell_type": "code",
   "execution_count": 2,
   "metadata": {},
   "outputs": [
    {
     "name": "stderr",
     "output_type": "stream",
     "text": [
      "Using TensorFlow backend.\n"
     ]
    }
   ],
   "source": [
    "import os\n",
    "import importlib\n",
    "\n",
    "if os.getcwd() == '/content':\n",
    "    from google.colab import drive\n",
    "    drive.mount('/content/gdrive')\n",
    "    FILE_PATH = '/content/gdrive/My Drive/Level-4-Project/data/'\n",
    "    !cd gdrive/My\\ Drive/Level-4-Project/ && pip install --editable .\n",
    "    os.chdir('gdrive/My Drive/Level-4-Project/')\n",
    "    \n",
    "else:\n",
    "    FILE_PATH = \"C:/Users/macka/Google Drive/Level-4-Project/data/\"\n",
    "    \n",
    "from src.models.original_models import cifar_initialised, cifar_xdeg, mixed, mixed_angle_A, non_initialised_X, xs\n",
    "from src.data import load_data"
   ]
  },
  {
   "cell_type": "markdown",
   "metadata": {},
   "source": [
    "Import remaining packages"
   ]
  },
  {
   "cell_type": "code",
   "execution_count": 3,
   "metadata": {},
   "outputs": [],
   "source": [
    "import numpy as np\n",
    "import sys\n",
    "from six.moves import cPickle\n",
    "from keras.preprocessing.image import ImageDataGenerator\n",
    "from keras.optimizers import SGD\n",
    "from keras.utils import np_utils\n",
    "import sys\n",
    "from sklearn.metrics import classification_report, confusion_matrix\n",
    "import csv\n",
    "from keras.models import load_model"
   ]
  },
  {
   "cell_type": "markdown",
   "metadata": {},
   "source": [
    "Needed as originally code was for theano backend but now using tensor flow"
   ]
  },
  {
   "cell_type": "code",
   "execution_count": 4,
   "metadata": {},
   "outputs": [],
   "source": [
    "from keras import backend as K\n",
    "K.set_image_dim_ordering('th')"
   ]
  },
  {
   "cell_type": "code",
   "execution_count": 5,
   "metadata": {
    "scrolled": false
   },
   "outputs": [],
   "source": [
    "experiment_names = [\"cifar_initialised\", \"cifar_xdeg\", \"mixed\", \"mixed_angle_A\", \"non_initialised_X\", \"xs\"]\n",
    "experiments = {}\n",
    "for name in experiment_names:\n",
    "    experiments[name] = {\"models\": [], \"data_folders\":[]}"
   ]
  },
  {
   "cell_type": "code",
   "execution_count": 6,
   "metadata": {},
   "outputs": [],
   "source": [
    "nb_classes = 7\n",
    "img_rows, img_cols = 75, 75"
   ]
  },
  {
   "cell_type": "markdown",
   "metadata": {},
   "source": [
    "TODO:\n",
    "\"cifar_initialised\",   [*]\n",
    "\"cifar_xdeg\",\n",
    "\"mixed\",\n",
    "\"mixed_angle_A\", [*]\n",
    "\"non_initialised_X\", [*]\n",
    "\"xs\" [*]"
   ]
  },
  {
   "cell_type": "code",
   "execution_count": 7,
   "metadata": {},
   "outputs": [],
   "source": [
    "for version_number in range(1,5):\n",
    "    experiments[\"cifar_initialised\"][\"models\"].append(\n",
    "        cifar_initialised.make_model(version_number, img_rows, img_cols, nb_classes))\n",
    "experiments[\"cifar_initialised\"][\"data_folders\"].append(\"cifar_initialised\")"
   ]
  },
  {
   "cell_type": "code",
   "execution_count": null,
   "metadata": {},
   "outputs": [],
   "source": [
    "experiments[\"mixed_angle_A\"][\"models\"].append(\n",
    "    mixed_angle_A.make_model(img_rows, img_cols, nb_classes))\n",
    "experiments[\"mixed_angle_A\"][\"data_folders\"].append(\"mixed_angle_A\")"
   ]
  },
  {
   "cell_type": "code",
   "execution_count": null,
   "metadata": {},
   "outputs": [],
   "source": [
    "experiments[\"non_initialised_X\"][\"models\"].append(\n",
    "    non_initialised_X.make_model(img_rows, img_cols, nb_classes))\n",
    "experiments[\"non_initialised_X\"][\"data_folders\"] = ['noninitialised_A', 'noninitialised_B', 'noninitialised_C', 'noninitialised_D']"
   ]
  },
  {
   "cell_type": "code",
   "execution_count": null,
   "metadata": {},
   "outputs": [],
   "source": [
    "experiments[\"xs\"][\"models\"].append(\n",
    "    xs.make_model(img_rows, img_cols, nb_classes))\n",
    "experiments[\"xs\"][\"data_folders\"] = ['1s', '1_5s', '2s']"
   ]
  }
 ],
 "metadata": {
  "kernelspec": {
   "display_name": "Python 3",
   "language": "python",
   "name": "python3"
  },
  "language_info": {
   "codemirror_mode": {
    "name": "ipython",
    "version": 3
   },
   "file_extension": ".py",
   "mimetype": "text/x-python",
   "name": "python",
   "nbconvert_exporter": "python",
   "pygments_lexer": "ipython3",
   "version": "3.6.6"
  }
 },
 "nbformat": 4,
 "nbformat_minor": 2
}
