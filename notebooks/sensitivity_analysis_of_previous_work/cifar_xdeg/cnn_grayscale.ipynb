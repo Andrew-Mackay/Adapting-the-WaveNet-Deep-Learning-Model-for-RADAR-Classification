{
 "cells": [
  {
   "cell_type": "markdown",
   "metadata": {
    "colab_type": "text",
    "id": "LnU4VGgjH1mW"
   },
   "source": [
    "# Sensitivity analysis on previous work for 30°, 45° and 60° data"
   ]
  },
  {
   "cell_type": "markdown",
   "metadata": {
    "colab_type": "text",
    "id": "2sqmYc1yQb-k"
   },
   "source": [
    "Data with\n",
    "aspect angles of 30, 45 and 60 degrees respectively, training data from\n",
    "5 people, testing on person A, no walking test samples."
   ]
  },
  {
   "cell_type": "code",
   "execution_count": 1,
   "metadata": {},
   "outputs": [],
   "source": [
    "# Needed to allow editing using PyCharm\n",
    "%load_ext autoreload\n",
    "%autoreload 2"
   ]
  },
  {
   "cell_type": "markdown",
   "metadata": {},
   "source": [
    "The following cell is needed for compatibility when using both CoLab and Local Jupyter notebook.\n",
    "It sets the appropriate file path for the data and also installs local packages such as models."
   ]
  },
  {
   "cell_type": "code",
   "execution_count": null,
   "metadata": {},
   "outputs": [],
   "source": [
    "import os\n",
    "if os.getcwd() == '/content':\n",
    "    from google.colab import drive\n",
    "    drive.mount('/content/gdrive')\n",
    "    FILE_PATH = '/content/gdrive/My Drive/Level-4-Project/data/'\n",
    "    !cd gdrive/My\\ Drive/Level-4-Project/ && pip install --editable .\n",
    "    os.chdir('gdrive/My Drive/Level-4-Project/')\n",
    "    \n",
    "else:\n",
    "    FILE_PATH = \"C:/Users/macka/Google Drive/Level-4-Project/data/\"\n",
    "    \n",
    "from src.models.original_models import cifar_xdeg\n",
    "from src.data import load_data"
   ]
  },
  {
   "cell_type": "code",
   "execution_count": 2,
   "metadata": {
    "colab": {},
    "colab_type": "code",
    "id": "_nstHjtlH0vD"
   },
   "outputs": [
    {
     "name": "stderr",
     "output_type": "stream",
     "text": [
      "Using TensorFlow backend.\n"
     ]
    }
   ],
   "source": [
    "import numpy as np\n",
    "import sys\n",
    "from six.moves import cPickle\n",
    "from keras.preprocessing.image import ImageDataGenerator\n",
    "from keras.optimizers import SGD\n",
    "from keras.utils import np_utils\n",
    "import sys\n",
    "from sklearn.metrics import classification_report,confusion_matrix\n",
    "import csv\n",
    "from keras.models import load_model"
   ]
  },
  {
   "cell_type": "code",
   "execution_count": 3,
   "metadata": {
    "colab": {},
    "colab_type": "code",
    "id": "3_F6WuaMJ78g"
   },
   "outputs": [],
   "source": [
    "# Needed as originally code was for theano backend but now using tensor flow\n",
    "from keras import backend as K\n",
    "K.set_image_dim_ordering('th')"
   ]
  },
  {
   "cell_type": "code",
   "execution_count": 7,
   "metadata": {
    "colab": {},
    "colab_type": "code",
    "id": "510V9-2WJ97v"
   },
   "outputs": [],
   "source": [
    "data_folders = ['cifar_30deg', 'cifar_45deg', 'cifar_60deg']"
   ]
  },
  {
   "cell_type": "code",
   "execution_count": 8,
   "metadata": {
    "colab": {},
    "colab_type": "code",
    "id": "xzxLAZjqIsxg"
   },
   "outputs": [],
   "source": [
    "batch_size = 100\n",
    "nb_classes = 6\n",
    "nb_epoch = 100\n",
    "nb_epoch = 1 # originally 100\n",
    "data_augmentation = False\n",
    "nb_train_samples = 34260\n",
    "\n",
    "# input image dimensions\n",
    "img_rows, img_cols = 75, 75\n",
    "# the CIFAR10 images are RGB"
   ]
  },
  {
   "cell_type": "code",
   "execution_count": 9,
   "metadata": {
    "colab": {
     "base_uri": "https://localhost:8080/",
     "height": 1649
    },
    "colab_type": "code",
    "executionInfo": {
     "elapsed": 263176,
     "status": "ok",
     "timestamp": 1539793599655,
     "user": {
      "displayName": "Andrew Mackay",
      "photoUrl": "",
      "userId": "06804410358976473893"
     },
     "user_tz": -60
    },
    "id": "zBSi_XeaSswZ",
    "outputId": "202b576c-9311-4724-98f8-e745f6489ab7"
   },
   "outputs": [
    {
     "name": "stdout",
     "output_type": "stream",
     "text": [
      "X_train shape: (34260, 1, 75, 75)\n",
      "34260 train samples\n",
      "6852 test samples\n",
      "Not using data augmentation.\n",
      "Train on 34260 samples, validate on 6852 samples\n",
      "Epoch 1/1\n",
      "34260/34260 [==============================] - 160s 5ms/step - loss: 0.6041 - acc: 0.7577 - val_loss: 0.2715 - val_acc: 0.9067\n",
      "[4 2 1 ... 3 4 4]\n",
      "CLASSIFICATION REPORT:\n",
      "                  precision    recall  f1-score   support\n",
      "\n",
      "ArmFasterTowards       0.90      0.77      0.83      1142\n",
      "ArmSlowerTowards       0.97      0.97      0.97      1142\n",
      "     CirclingArm       1.00      0.85      0.92      1142\n",
      "        Clapping       1.00      1.00      1.00      1142\n",
      "       PickingUp       0.75      0.84      0.79      1142\n",
      "         Sitting       0.86      1.00      0.93      1142\n",
      "\n",
      "       micro avg       0.91      0.91      0.91      6852\n",
      "       macro avg       0.91      0.91      0.91      6852\n",
      "    weighted avg       0.91      0.91      0.91      6852\n",
      "\n",
      "\n",
      "\n",
      "CONFUSION MATRIX:\n",
      "[[ 884   22    0    0  232    4]\n",
      " [  30 1110    0    0    2    0]\n",
      " [  68   14  971    0   89    0]\n",
      " [   0    0    0 1142    0    0]\n",
      " [   0    0    0    0  964  178]\n",
      " [   0    0    0    0    0 1142]]\n",
      "X_train shape: (34260, 1, 75, 75)\n",
      "34260 train samples\n",
      "6852 test samples\n",
      "Not using data augmentation.\n",
      "Train on 34260 samples, validate on 6852 samples\n",
      "Epoch 1/1\n",
      "34260/34260 [==============================] - 153s 4ms/step - loss: 0.5960 - acc: 0.7633 - val_loss: 1.8866 - val_acc: 0.5431\n",
      "[1 4 3 ... 0 3 4]\n",
      "CLASSIFICATION REPORT:\n",
      "                  precision    recall  f1-score   support\n",
      "\n",
      "ArmFasterTowards       0.19      0.26      0.22      1142\n",
      "ArmSlowerTowards       0.64      0.84      0.73      1142\n",
      "     CirclingArm       0.25      0.00      0.01      1142\n",
      "        Clapping       1.00      1.00      1.00      1142\n",
      "       PickingUp       0.44      0.65      0.53      1142\n",
      "         Sitting       0.61      0.50      0.55      1142\n",
      "\n",
      "       micro avg       0.54      0.54      0.54      6852\n",
      "       macro avg       0.52      0.54      0.50      6852\n",
      "    weighted avg       0.52      0.54      0.50      6852\n",
      "\n",
      "\n",
      "\n",
      "CONFUSION MATRIX:\n",
      "[[ 298  507    0    0  331    6]\n",
      " [  59  962    9    0  112    0]\n",
      " [ 632    5    3    0  502    0]\n",
      " [   0    0    0 1142    0    0]\n",
      " [  33    3    0    0  745  361]\n",
      " [ 554   17    0    0    0  571]]\n",
      "X_train shape: (34260, 1, 75, 75)\n",
      "34260 train samples\n",
      "6852 test samples\n",
      "Not using data augmentation.\n",
      "Train on 34260 samples, validate on 6852 samples\n",
      "Epoch 1/1\n",
      "34260/34260 [==============================] - 154s 5ms/step - loss: 0.5598 - acc: 0.7787 - val_loss: 2.1992 - val_acc: 0.4057\n",
      "[0 1 4 ... 5 3 5]\n",
      "CLASSIFICATION REPORT:\n",
      "                  precision    recall  f1-score   support\n",
      "\n",
      "ArmFasterTowards       0.19      0.41      0.26      1142\n",
      "ArmSlowerTowards       0.25      0.25      0.25      1142\n",
      "     CirclingArm       0.00      0.00      0.00      1142\n",
      "        Clapping       1.00      1.00      1.00      1142\n",
      "       PickingUp       0.23      0.10      0.14      1142\n",
      "         Sitting       0.49      0.68      0.57      1142\n",
      "\n",
      "       micro avg       0.41      0.41      0.41      6852\n",
      "       macro avg       0.36      0.41      0.37      6852\n",
      "    weighted avg       0.36      0.41      0.37      6852\n",
      "\n",
      "\n",
      "\n",
      "CONFUSION MATRIX:\n",
      "[[ 466  547   19    0   46   64]\n",
      " [ 588  283   22    0  228   21]\n",
      " [ 998   10    0    0  107   27]\n",
      " [   0    0    0 1142    0    0]\n",
      " [ 325   15    0    0  114  688]\n",
      " [  98  269    0    0    0  775]]\n"
     ]
    }
   ],
   "source": [
    "for data_folder in data_folders:\n",
    "    # the data, shuffled and split between train and test sets\n",
    "    (X_train, y_train), (X_test, y_test) = load_data.load_data((FILE_PATH + data_folder), nb_train_samples)\n",
    "    print('X_train shape:', X_train.shape)\n",
    "    print(X_train.shape[0], 'train samples')\n",
    "    print(X_test.shape[0], 'test samples')\n",
    "\n",
    "    # convert class vectors to binary class matrices\n",
    "    Y_train = np_utils.to_categorical(y_train, nb_classes)\n",
    "    Y_test = np_utils.to_categorical(y_test, nb_classes)\n",
    "    \n",
    "    model = cifar_xdeg.make_model(img_rows, img_cols, nb_classes)\n",
    "    \n",
    "    # let's train the model using SGD + momentum (how original).\n",
    "    sgd = SGD(lr=0.01, decay=1e-6, momentum=0.9, nesterov=True)\n",
    "    model.compile(loss='categorical_crossentropy', optimizer=sgd, metrics=['accuracy'])\n",
    "\n",
    "    X_train = X_train.astype('float32')\n",
    "    X_test = X_test.astype('float32')\n",
    "    X_train /= 255\n",
    "    X_test /= 255\n",
    "    if not data_augmentation:\n",
    "        print('Not using data augmentation.')\n",
    "        hist = model.fit(X_train, Y_train,\n",
    "                  batch_size=batch_size,\n",
    "                  epochs=nb_epoch,\n",
    "                  validation_data=(X_test, Y_test),\n",
    "                  shuffle=True)\n",
    "\n",
    "        y_pred = model.predict_classes(X_test)\n",
    "        print(y_pred)\n",
    "        target_names = ['ArmFasterTowards', 'ArmSlowerTowards', 'CirclingArm', 'Clapping', 'PickingUp', 'Sitting']\n",
    "        #     sys.stdout = open('/home/aleksandar/sets/cifar_30deg/results/report_30deg.txt', \"w\")\n",
    "        print(\"CLASSIFICATION REPORT:\")\n",
    "        print(classification_report(np.argmax(Y_test,axis=1), y_pred,target_names=target_names))\n",
    "        print (\"\\n\")\n",
    "        print(\"CONFUSION MATRIX:\")\n",
    "        print(confusion_matrix(np.argmax(Y_test,axis=1), y_pred))\n",
    "\n",
    "        #     with open('/home/aleksandar/sets/cifar_30deg/results/graphs_30deg.csv', \"w\") as f:\n",
    "        #        w = csv.writer(f)\n",
    "        #        train_loss = hist.history['loss']\n",
    "        #        val_loss = hist.history['val_loss']\n",
    "        #        train_acc = hist.history['acc']\n",
    "        #        val_acc = hist.history['val_acc']\n",
    "        #        helplist = list(zip(train_loss, train_acc, val_loss, val_acc))\n",
    "        #        w.writerow(\"train_loss, train_acc, val_loss, val_acc\")\n",
    "        #        for val in helplist:\n",
    "        #           w.writerow([val])\n",
    "\n",
    "\n",
    "        #     model.save('/home/aleksandar/sets/cifar_30deg/results/model_30deg.h5')\n",
    "        #-----------------------\n",
    "\n",
    "    else:\n",
    "        print('Using real-time data augmentation.')\n",
    "\n",
    "        # this will do preprocessing and realtime data augmentation\n",
    "        datagen = ImageDataGenerator(\n",
    "          featurewise_center=False,  # set input mean to 0 over the dataset\n",
    "          samplewise_center=False,  # set each sample mean to 0\n",
    "          featurewise_std_normalization=False,  # divide inputs by std of the dataset\n",
    "          samplewise_std_normalization=False,  # divide each input by its std\n",
    "          zca_whitening=False,  # apply ZCA whitening\n",
    "          rotation_range=0,  # randomly rotate images in the range (degrees, 0 to 180)\n",
    "          width_shift_range=0.1,  # randomly shift images horizontally (fraction of total width)\n",
    "          height_shift_range=0.1,  # randomly shift images vertically (fraction of total height)\n",
    "          horizontal_flip=True,  # randomly flip images\n",
    "          vertical_flip=False)  # randomly flip images\n",
    "\n",
    "        # compute quantities required for featurewise normalization\n",
    "        # (std, mean, and principal components if ZCA whitening is applied)\n",
    "        datagen.fit(X_train)\n",
    "\n",
    "        # fit the model on the batches generated by datagen.flow()\n",
    "        hist = model.fit_generator(datagen.flow(X_train, Y_train,\n",
    "                          batch_size=batch_size),\n",
    "                          samples_per_epoch=X_train.shape[0],\n",
    "                          nb_epoch=nb_epoch,\n",
    "                          validation_data=(X_test, Y_test))\n",
    "\n",
    "        y_pred = model.predict_classes(X_test)\n",
    "        print(y_pred)\n",
    "        target_names = ['ArmFasterTowards', 'ArmSlowerTowards', 'CirclingArm', 'Clapping', 'PickingUp', 'Sitting']\n",
    "        #     sys.stdout = open('/home/aleksandar/sets/cifar_30deg/results/report_30deg.txt', \"w\")\n",
    "        print(\"CLASSIFICATION REPORT:\")\n",
    "        print(classification_report(np.argmax(Y_test,axis=1), y_pred,target_names=target_names))\n",
    "        print (\"\\n\")\n",
    "        print(\"CONFUSION MATRIX:\")\n",
    "        print(confusion_matrix(np.argmax(Y_test,axis=1), y_pred))\n",
    "\n",
    "        #     with open('/home/aleksandar/sets/cifar_30deg/results/graphs_30deg.csv', \"w\") as f:\n",
    "        #        w = csv.writer(f)\n",
    "        #        train_loss = hist.history['loss']\n",
    "        #        val_loss = hist.history['val_loss']\n",
    "        #        train_acc = hist.history['acc']\n",
    "        #        val_acc = hist.history['val_acc']\n",
    "        #        helplist = list(zip(train_loss, train_acc, val_loss, val_acc))\n",
    "        #        w.writerow(\"train_loss, train_acc, val_loss, val_acc\")\n",
    "        #        for val in helplist:\n",
    "        #           w.writerow([val])\n",
    "\n",
    "\n",
    "        #     model.save('/home/aleksandar/sets/cifar_30deg/results/model_30deg.h5')"
   ]
  },
  {
   "cell_type": "code",
   "execution_count": null,
   "metadata": {
    "colab": {},
    "colab_type": "code",
    "id": "T-ik5S9ab4o_"
   },
   "outputs": [],
   "source": []
  }
 ],
 "metadata": {
  "accelerator": "GPU",
  "colab": {
   "collapsed_sections": [],
   "name": "cnn_grayscale.ipynb",
   "provenance": [],
   "version": "0.3.2"
  },
  "kernelspec": {
   "display_name": "Python 3",
   "language": "python",
   "name": "python3"
  },
  "language_info": {
   "codemirror_mode": {
    "name": "ipython",
    "version": 3
   },
   "file_extension": ".py",
   "mimetype": "text/x-python",
   "name": "python",
   "nbconvert_exporter": "python",
   "pygments_lexer": "ipython3",
   "version": "3.6.6"
  }
 },
 "nbformat": 4,
 "nbformat_minor": 1
}
