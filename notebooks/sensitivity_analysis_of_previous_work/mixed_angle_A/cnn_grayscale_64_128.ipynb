{
 "cells": [
  {
   "cell_type": "markdown",
   "metadata": {
    "colab_type": "text",
    "id": "I1FwaUEWsZ-Z"
   },
   "source": [
    "# Sensitivity analysis on previous work"
   ]
  },
  {
   "cell_type": "markdown",
   "metadata": {
    "colab_type": "text",
    "id": "tFzzCWs8sZpR"
   },
   "source": [
    "Training data from all actions, test subjects and aspect angles, excluding the data from person A, which\n",
    "is used for testing, and excluding the walking samples."
   ]
  },
  {
   "cell_type": "code",
   "execution_count": 2,
   "metadata": {},
   "outputs": [],
   "source": [
    "# Needed to allow editing using PyCharm\n",
    "%load_ext autoreload\n",
    "%autoreload 2"
   ]
  },
  {
   "cell_type": "markdown",
   "metadata": {},
   "source": [
    "The following cell is needed for compatibility when using both CoLab and Local Jupyter notebook.\n",
    "It sets the appropriate file path for the data and also installs local packages such as models."
   ]
  },
  {
   "cell_type": "code",
   "execution_count": null,
   "metadata": {},
   "outputs": [],
   "source": [
    "import os\n",
    "if os.getcwd() == '/content':\n",
    "    from google.colab import drive\n",
    "    drive.mount('/content/gdrive')\n",
    "    FILE_PATH = '/content/gdrive/My Drive/Level-4-Project/data/'\n",
    "    !cd gdrive/My\\ Drive/Level-4-Project/ && pip install --editable .\n",
    "    os.chdir('gdrive/My Drive/Level-4-Project/')\n",
    "    \n",
    "else:\n",
    "    FILE_PATH = \"C:/Users/macka/Google Drive/Level-4-Project/data/\"\n",
    "    \n",
    "from src.models.original_models import mixed_angle_A"
   ]
  },
  {
   "cell_type": "code",
   "execution_count": 3,
   "metadata": {
    "colab": {
     "base_uri": "https://localhost:8080/",
     "height": 34
    },
    "colab_type": "code",
    "executionInfo": {
     "elapsed": 1961,
     "status": "ok",
     "timestamp": 1539796441867,
     "user": {
      "displayName": "Andrew Mackay",
      "photoUrl": "",
      "userId": "06804410358976473893"
     },
     "user_tz": -60
    },
    "id": "vW42YV4UpCNV",
    "outputId": "3a70a288-b023-4c32-f3b8-0dbc54235773"
   },
   "outputs": [
    {
     "name": "stderr",
     "output_type": "stream",
     "text": [
      "Using TensorFlow backend.\n"
     ]
    }
   ],
   "source": [
    "import numpy as np\n",
    "import sys\n",
    "from six.moves import cPickle\n",
    "from keras.preprocessing.image import ImageDataGenerator\n",
    "from keras.optimizers import SGD\n",
    "from keras.utils import np_utils\n",
    "import sys\n",
    "from sklearn.metrics import classification_report,confusion_matrix\n",
    "import csv\n",
    "from keras.models import load_model"
   ]
  },
  {
   "cell_type": "code",
   "execution_count": 4,
   "metadata": {
    "colab": {},
    "colab_type": "code",
    "id": "Wd9Ax1cGpQXx"
   },
   "outputs": [],
   "source": [
    "# Needed as originally code was for theano backend but now using tensor flow\n",
    "from keras import backend as K\n",
    "K.set_image_dim_ordering('th')"
   ]
  },
  {
   "cell_type": "code",
   "execution_count": 6,
   "metadata": {
    "colab": {},
    "colab_type": "code",
    "id": "Dxbtc3YtpQnx"
   },
   "outputs": [],
   "source": [
    "def load_batch(fpath, label_key='labels'):\n",
    "    f = open(fpath, 'rb')\n",
    "    if sys.version_info < (3,):\n",
    "        d = cPickle.load(f)\n",
    "    else:\n",
    "        d = cPickle.load(f, encoding=\"bytes\")\n",
    "        # decode utf8\n",
    "        for k, v in d.items():\n",
    "            # added check as otherwise tries to decode a string\n",
    "            if type(k) is not str:\n",
    "                del(d[k])\n",
    "                d[k.decode(\"utf8\")] = v\n",
    "    f.close()\n",
    "    data = d[\"data\"]\n",
    "    labels = d[label_key]\n",
    "\n",
    "    data = data.reshape(data.shape[0], 1, 75, 75)\n",
    "    return data, labels"
   ]
  },
  {
   "cell_type": "code",
   "execution_count": 7,
   "metadata": {
    "colab": {},
    "colab_type": "code",
    "id": "cblKM88SpQxR"
   },
   "outputs": [],
   "source": [
    "def load_data(data_folder):\n",
    "    path = FILE_PATH + data_folder\n",
    "\n",
    "    nb_train_samples = 43450\n",
    "\n",
    "    X_train = np.zeros((nb_train_samples, 1, 75, 75), dtype=\"uint8\")\n",
    "    y_train = np.zeros((nb_train_samples,), dtype=\"uint8\")\n",
    "\n",
    "    for i in range(1, 6):\n",
    "        fpath = os.path.join(path, 'data_batch_' + str(i))\n",
    "        data, labels = load_batch(fpath)\n",
    "        X_train[(i-1)*8690:i*8690, :, :, :] = data\n",
    "        y_train[(i-1)*8690:i*8690] = labels\n",
    "\n",
    "    fpath = os.path.join(path, 'test_batch')\n",
    "    X_test, y_test = load_batch(fpath)\n",
    "\n",
    "    y_train = np.reshape(y_train, (len(y_train), 1))\n",
    "    y_test = np.reshape(y_test, (len(y_test), 1))\n",
    "\n",
    "    return (X_train, y_train), (X_test, y_test)"
   ]
  },
  {
   "cell_type": "code",
   "execution_count": 11,
   "metadata": {
    "colab": {
     "base_uri": "https://localhost:8080/",
     "height": 68
    },
    "colab_type": "code",
    "executionInfo": {
     "elapsed": 23410,
     "status": "ok",
     "timestamp": 1539796475389,
     "user": {
      "displayName": "Andrew Mackay",
      "photoUrl": "",
      "userId": "06804410358976473893"
     },
     "user_tz": -60
    },
    "id": "iyKJ2BdopQ4o",
    "outputId": "c308ea43-6aa1-4734-d51e-c3073de07f68"
   },
   "outputs": [
    {
     "name": "stdout",
     "output_type": "stream",
     "text": [
      "X_train shape: (43450, 1, 75, 75)\n",
      "43450 train samples\n",
      "8690 test samples\n"
     ]
    }
   ],
   "source": [
    "batch_size = 100\n",
    "nb_classes = 7\n",
    "nb_epoch = 100\n",
    "nb_epoch = 1  # originally 100\n",
    "data_augmentation = False\n",
    "\n",
    "# input image dimensions\n",
    "img_rows, img_cols = 75, 75\n",
    "# the CIFAR10 images are RGB\n",
    "\n",
    "\n",
    "# the data, shuffled and split between train and test sets\n",
    "(X_train, y_train), (X_test, y_test) = load_data(\"mixed_angle_A\")\n",
    "print('X_train shape:', X_train.shape)\n",
    "print(X_train.shape[0], 'train samples')\n",
    "print(X_test.shape[0], 'test samples')\n",
    "\n",
    "# convert class vectors to binary class matrices\n",
    "Y_train = np_utils.to_categorical(y_train, nb_classes)\n",
    "Y_test = np_utils.to_categorical(y_test, nb_classes)\n",
    "\n",
    "model = mixed_angle_A.make_model(img_rows, img_cols, nb_classes)"
   ]
  },
  {
   "cell_type": "code",
   "execution_count": 12,
   "metadata": {
    "colab": {
     "base_uri": "https://localhost:8080/",
     "height": 578
    },
    "colab_type": "code",
    "executionInfo": {
     "elapsed": 205988,
     "status": "ok",
     "timestamp": 1539796681392,
     "user": {
      "displayName": "Andrew Mackay",
      "photoUrl": "",
      "userId": "06804410358976473893"
     },
     "user_tz": -60
    },
    "id": "kqHt51l1qUxR",
    "outputId": "ddd31d26-a543-4409-e3c0-61b44dc734d3"
   },
   "outputs": [
    {
     "name": "stdout",
     "output_type": "stream",
     "text": [
      "Not using data augmentation.\n",
      "Train on 43450 samples, validate on 8690 samples\n",
      "Epoch 1/1\n",
      "18700/43450 [===========>..................] - ETA: 5:23 - loss: 1.0835 - acc: 0.5616"
     ]
    }
   ],
   "source": [
    "# let's train the model using SGD + momentum (how original).\n",
    "sgd = SGD(lr=0.01, decay=1e-6, momentum=0.9, nesterov=True)\n",
    "model.compile(loss='categorical_crossentropy',\n",
    "              optimizer=sgd,\n",
    "              metrics=['accuracy'])\n",
    "\n",
    "X_train = X_train.astype('float32')\n",
    "X_test = X_test.astype('float32')\n",
    "X_train /= 255\n",
    "X_test /= 255\n",
    "\n",
    "if not data_augmentation:\n",
    "    print('Not using data augmentation.')\n",
    "    hist = model.fit(X_train, Y_train,\n",
    "              batch_size=batch_size,\n",
    "              epochs=nb_epoch,\n",
    "              validation_data=(X_test, Y_test),\n",
    "              shuffle=True)\n",
    "\n",
    "    y_pred = model.predict_classes(X_test)\n",
    "    print(y_pred)\n",
    "    target_names = ['ArmFasterTowards', 'ArmSlowerTowards', 'CirclingArm', 'Clapping', 'PickingUp', 'Sitting', 'Walking']\n",
    "#     sys.stdout = open('/home/aleksandar/new_sets/mixed_angle_A/results/report_mixed_angle_A_64_128_.txt', \"w\")\n",
    "    print(\"CLASSIFICATION REPORT:\")\n",
    "    print(classification_report(np.argmax(Y_test,axis=1), y_pred,target_names=target_names))\n",
    "    print (\"\\n\")\n",
    "    print(\"CONFUSION MATRIX:\")\n",
    "    print(confusion_matrix(np.argmax(Y_test,axis=1), y_pred))\n",
    "\n",
    "#     with open('/home/aleksandar/new_sets/mixed_angle_A/results/graphs_mixed_angle_A_64_128.csv', \"w\") as f:\n",
    "#        w = csv.writer(f)\n",
    "#        train_loss = hist.history['loss']\n",
    "#        val_loss = hist.history['val_loss']\n",
    "#        train_acc = hist.history['acc']\n",
    "#        val_acc = hist.history['val_acc']\n",
    "#        helplist = list(zip(train_loss, train_acc, val_loss, val_acc))\n",
    "#        w.writerow(\"train_loss, train_acc, val_loss, val_acc\")\n",
    "#        for val in helplist:\n",
    "#           w.writerow([val])\n",
    "\n",
    "\t\n",
    "#     model.save('/home/aleksandar/new_sets/mixed_angle_A/results/model_mixed_angle_A_64_128.h5')\n",
    "\n",
    "else:\n",
    "    print('Using real-time data augmentation.')\n",
    "\n",
    "    # this will do preprocessing and realtime data augmentation\n",
    "    datagen = ImageDataGenerator(\n",
    "        featurewise_center=False,  # set input mean to 0 over the dataset\n",
    "        samplewise_center=False,  # set each sample mean to 0\n",
    "        featurewise_std_normalization=False,  # divide inputs by std of the dataset\n",
    "        samplewise_std_normalization=False,  # divide each input by its std\n",
    "        zca_whitening=False,  # apply ZCA whitening\n",
    "        rotation_range=0,  # randomly rotate images in the range (degrees, 0 to 180)\n",
    "        width_shift_range=0.1,  # randomly shift images horizontally (fraction of total width)\n",
    "        height_shift_range=0.1,  # randomly shift images vertically (fraction of total height)\n",
    "        horizontal_flip=True,  # randomly flip images\n",
    "        vertical_flip=False)  # randomly flip images\n",
    "\n",
    "    # compute quantities required for featurewise normalization\n",
    "    # (std, mean, and principal components if ZCA whitening is applied)\n",
    "    datagen.fit(X_train)\n",
    "\n",
    "    # fit the model on the batches generated by datagen.flow()\n",
    "    hist = model.fit_generator(datagen.flow(X_train, Y_train,\n",
    "                        batch_size=batch_size),\n",
    "                        samples_per_epoch=X_train.shape[0],\n",
    "                        nb_epoch=nb_epoch,\n",
    "                        validation_data=(X_test, Y_test))\n",
    "\n",
    "    y_pred = model.predict_classes(X_test)\n",
    "    print(y_pred)\n",
    "    target_names = ['ArmFasterTowards', 'ArmSlowerTowards', 'CirclingArm', 'Clapping', 'PickingUp', 'Sitting', 'Walking']\n",
    "#     sys.stdout = open('/home/aleksandar/sets/cifar_noninitialised_A/results/report_noninitialised_A_2_4.txt', \"w\")\n",
    "    print(\"CLASSIFICATION REPORT:\")\n",
    "    print(classification_report(np.argmax(Y_test,axis=1), y_pred,target_names=target_names))\n",
    "    print(\"\\n\")\n",
    "    print(\"CONFUSION MATRIX:\")\n",
    "    print(confusion_matrix(np.argmax(Y_test,axis=1), y_pred))\n",
    "\n",
    "#     with open('/home/aleksandar/sets/cifar_noninitialised_A/results/graphs_noninitialised_A_2_4.csv', \"w\") as f:\n",
    "#        w = csv.writer(f)\n",
    "#        train_loss = hist.history['loss']\n",
    "#        val_loss = hist.history['val_loss']\n",
    "#        train_acc = hist.history['acc']\n",
    "#        val_acc = hist.history['val_acc']\n",
    "#        helplist = list(zip(train_loss, train_acc, val_loss, val_acc))\n",
    "#        w.writerow(\"train_loss, train_acc, val_loss, val_acc\")\n",
    "#        for val in helplist:\n",
    "#           w.writerow([val])\n",
    "#     model.save('/home/aleksandar/sets/cifar_noninitialised_A/results/model_noninitialised_A_2_4.h5')"
   ]
  },
  {
   "cell_type": "code",
   "execution_count": null,
   "metadata": {},
   "outputs": [],
   "source": []
  }
 ],
 "metadata": {
  "accelerator": "GPU",
  "colab": {
   "collapsed_sections": [],
   "name": "cnn_grayscale_64_128.ipynb",
   "provenance": [],
   "version": "0.3.2"
  },
  "kernelspec": {
   "display_name": "Python 3",
   "language": "python",
   "name": "python3"
  },
  "language_info": {
   "codemirror_mode": {
    "name": "ipython",
    "version": 3
   },
   "file_extension": ".py",
   "mimetype": "text/x-python",
   "name": "python",
   "nbconvert_exporter": "python",
   "pygments_lexer": "ipython3",
   "version": "3.6.6"
  }
 },
 "nbformat": 4,
 "nbformat_minor": 1
}
