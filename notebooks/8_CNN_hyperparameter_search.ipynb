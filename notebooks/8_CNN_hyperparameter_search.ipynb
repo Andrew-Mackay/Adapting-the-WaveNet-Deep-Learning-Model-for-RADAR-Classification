{
 "cells": [
  {
   "cell_type": "markdown",
   "metadata": {
    "colab_type": "text",
    "id": "chTLQ4gzP4zb"
   },
   "source": [
    "# Hyperparameter search over CNN model based on 5-fold cross-validation\n",
    "\n",
    "User c is completely removed as this is the test set.\n",
    "\n",
    "The remaining users A,B,D,E and F make up each fold.\n",
    "\n",
    "For example, fold 1 will train on users B,D,E and F then evaluate on A (and so on for each fold).\n",
    "\n",
    "Choice of model (8-16) justified from \"7_CNN_model_comparison.ipynb\""
   ]
  },
  {
   "cell_type": "markdown",
   "metadata": {
    "colab_type": "text",
    "id": "bZxhO7V0ZHUE"
   },
   "source": [
    "## Notebook setup"
   ]
  },
  {
   "cell_type": "markdown",
   "metadata": {
    "colab_type": "text",
    "id": "x5jAnxaaZLzZ"
   },
   "source": [
    "Allow editing of modules using editor (auto reloading)"
   ]
  },
  {
   "cell_type": "code",
   "execution_count": 1,
   "metadata": {
    "colab": {},
    "colab_type": "code",
    "id": "TGNeUj-JDXhs"
   },
   "outputs": [],
   "source": [
    "# Needed to allow editing using PyCharm etc\n",
    "%load_ext autoreload\n",
    "%autoreload 2"
   ]
  },
  {
   "cell_type": "markdown",
   "metadata": {
    "colab_type": "text",
    "id": "QwLbqieVYIJt"
   },
   "source": [
    "The following cell is needed for compatibility when using both CoLab and Local Jupyter notebook. It sets the appropriate file path for the data and also installs local packages such as models and data_loading."
   ]
  },
  {
   "cell_type": "code",
   "execution_count": 2,
   "metadata": {
    "colab": {
     "base_uri": "https://localhost:8080/",
     "height": 121
    },
    "colab_type": "code",
    "executionInfo": {
     "elapsed": 24113,
     "status": "ok",
     "timestamp": 1549270871541,
     "user": {
      "displayName": "Andrew Mackay",
      "photoUrl": "https://lh3.googleusercontent.com/-24hiGmdxZDE/AAAAAAAAAAI/AAAAAAAAL_I/RW7nqM11LkM/s64/photo.jpg",
      "userId": "06804410358976473893"
     },
     "user_tz": 0
    },
    "id": "3XeU0HtoDXh6",
    "outputId": "1b60d85a-0177-4fb5-f217-e79045886e92"
   },
   "outputs": [],
   "source": [
    "import os\n",
    "path = os.getcwd()\n",
    "if path == '/content':\n",
    "    from google.colab import drive\n",
    "    drive.mount('/content/gdrive')\n",
    "    BASE_PATH = '/content/gdrive/My Drive/Level-4-Project/'\n",
    "#     !cd gdrive/My\\ Drive/Level-4-Project/ && pip install --editable .\n",
    "    os.chdir('gdrive/My Drive/Level-4-Project/')\n",
    "    \n",
    "elif path == 'D:\\\\Google Drive\\\\Level-4-Project\\\\notebooks':\n",
    "    BASE_PATH = \"D:/Google Drive/Level-4-Project/\"\n",
    "    \n",
    "elif path == \"/export/home/2192793m\":\n",
    "    BASE_PATH = \"/export/home/2192793m/Level-4-Project/\"\n",
    "    \n",
    "DATA_PATH = BASE_PATH + 'data/processed/doppler_spectrograms/3/'\n",
    "\n",
    "RESULTS_PATH = BASE_PATH + 'results/CNN_hyperparameter_search/'\n",
    "if not os.path.exists(RESULTS_PATH):\n",
    "    os.makedirs(RESULTS_PATH)\n",
    "   "
   ]
  },
  {
   "cell_type": "markdown",
   "metadata": {
    "colab_type": "text",
    "id": "rgYwaq1eZb5u"
   },
   "source": [
    "Import remaining packages"
   ]
  },
  {
   "cell_type": "code",
   "execution_count": 3,
   "metadata": {
    "colab": {
     "base_uri": "https://localhost:8080/",
     "height": 34
    },
    "colab_type": "code",
    "executionInfo": {
     "elapsed": 4051,
     "status": "ok",
     "timestamp": 1549270872737,
     "user": {
      "displayName": "Andrew Mackay",
      "photoUrl": "https://lh3.googleusercontent.com/-24hiGmdxZDE/AAAAAAAAAAI/AAAAAAAAL_I/RW7nqM11LkM/s64/photo.jpg",
      "userId": "06804410358976473893"
     },
     "user_tz": 0
    },
    "id": "x8rzmlEhpe_R",
    "outputId": "8681c085-e41a-4e6b-ceda-e23976ef82ae"
   },
   "outputs": [
    {
     "name": "stderr",
     "output_type": "stream",
     "text": [
      "Using TensorFlow backend.\n"
     ]
    }
   ],
   "source": [
    "import numpy as np\n",
    "import sys\n",
    "from keras.preprocessing.image import ImageDataGenerator\n",
    "from keras.optimizers import SGD, Adam\n",
    "from keras.utils import np_utils\n",
    "from sklearn.metrics import classification_report, confusion_matrix\n",
    "import csv\n",
    "from keras.models import load_model\n",
    "import pickle\n",
    "from keras.models import Sequential\n",
    "from keras.layers import Dense, Dropout, Flatten\n",
    "from keras.layers import Convolution2D, MaxPooling2D, ZeroPadding2D\n",
    "import matplotlib.pyplot as plt"
   ]
  },
  {
   "cell_type": "code",
   "execution_count": 4,
   "metadata": {
    "colab": {
     "base_uri": "https://localhost:8080/",
     "height": 252
    },
    "colab_type": "code",
    "executionInfo": {
     "elapsed": 12708,
     "status": "ok",
     "timestamp": 1549270882241,
     "user": {
      "displayName": "Andrew Mackay",
      "photoUrl": "https://lh3.googleusercontent.com/-24hiGmdxZDE/AAAAAAAAAAI/AAAAAAAAL_I/RW7nqM11LkM/s64/photo.jpg",
      "userId": "06804410358976473893"
     },
     "user_tz": 0
    },
    "id": "tk_HAyYKYrI8",
    "outputId": "fd614d8d-ad72-4341-d75b-c83befe436be"
   },
   "outputs": [],
   "source": [
    "# needed for CheckpointSaver (not in release yet but very useful)\n",
    "# https://github.com/scikit-optimize/scikit-optimize/issues/678\n",
    "# ! pip install git+https://github.com/scikit-optimize/scikit-optimize/ \n",
    "    \n",
    "from skopt import gp_minimize\n",
    "from skopt.space import Real, Integer, Categorical\n",
    "from skopt.utils import use_named_args\n",
    "from skopt.callbacks import CheckpointSaver\n",
    "from skopt import dump, load\n",
    "from skopt.plots import plot_convergence\n",
    "from skopt.plots import plot_objective, plot_evaluations"
   ]
  },
  {
   "cell_type": "code",
   "execution_count": 5,
   "metadata": {
    "colab": {},
    "colab_type": "code",
    "id": "PsHOJ9lEpe_V"
   },
   "outputs": [],
   "source": [
    "# Needed as originally code was for theano backend but now using tensor flow\n",
    "from keras import backend as K\n",
    "K.set_image_dim_ordering('th')"
   ]
  },
  {
   "cell_type": "markdown",
   "metadata": {
    "colab_type": "text",
    "id": "ssk69nuAiB68"
   },
   "source": [
    "## Experiment Setup"
   ]
  },
  {
   "cell_type": "code",
   "execution_count": 6,
   "metadata": {
    "colab": {},
    "colab_type": "code",
    "id": "5r9302zCpe_j"
   },
   "outputs": [],
   "source": [
    "target_names = [\"walking\", \"pushing\", \"sitting\", \"pulling\",\n",
    "                \"circling\", \"clapping\", \"bending\"]\n",
    "nb_classes = len(target_names)\n",
    "\n",
    "# input image dimensions\n",
    "img_rows, img_cols = 75, 75\n",
    "# user c excluded as this is reserved for final evaluation\n",
    "users = [\"A\", \"B\", \"D\", \"E\", \"F\"] "
   ]
  },
  {
   "cell_type": "code",
   "execution_count": 7,
   "metadata": {
    "colab": {},
    "colab_type": "code",
    "id": "C1f1naWmkElm"
   },
   "outputs": [],
   "source": [
    "def load_data(user_letter):\n",
    "    with open(DATA_PATH + user_letter + \"_data.pkl\", 'rb') as data_file:\n",
    "        data = pickle.load(data_file)\n",
    "        data = data.reshape(data.shape[0], 1, 75, 75)\n",
    "        \n",
    "    with open(DATA_PATH + user_letter + \"_labels.pkl\", 'rb') as labels_file:\n",
    "        labels = pickle.load(labels_file)\n",
    "        labels = np.reshape(labels, (len(labels), 1))\n",
    "\n",
    "        \n",
    "    return data, labels"
   ]
  },
  {
   "cell_type": "code",
   "execution_count": 9,
   "metadata": {
    "colab": {},
    "colab_type": "code",
    "id": "g_bsC10bq026"
   },
   "outputs": [],
   "source": [
    "datasets = {}\n",
    "for user in users:\n",
    "    data, labels = load_data(user)\n",
    "    datasets[user] = {\"data\":data, \"labels\":labels}"
   ]
  },
  {
   "cell_type": "code",
   "execution_count": 8,
   "metadata": {
    "colab": {},
    "colab_type": "code",
    "id": "ymyzQSDQiRL3"
   },
   "outputs": [],
   "source": [
    "def split_train_validation(validation_user):\n",
    "    train_data = None\n",
    "    train_labels = None\n",
    "    first_round = True\n",
    "    validation_data = []\n",
    "    validation_labels = []\n",
    "    for user in users:\n",
    "        data = datasets[user][\"data\"]\n",
    "        labels = datasets[user][\"labels\"]\n",
    "        if user == validation_user:\n",
    "            validation_data = data\n",
    "            validation_labels = labels\n",
    "            \n",
    "        else:\n",
    "            if first_round:\n",
    "                train_data = data\n",
    "                train_labels = labels\n",
    "                first_round = False\n",
    "            else:\n",
    "                train_data = np.concatenate((train_data, data))\n",
    "                train_labels = np.concatenate((train_labels, labels))\n",
    "            \n",
    "    train_labels = np_utils.to_categorical(train_labels, nb_classes)\n",
    "    validation_labels = np_utils.to_categorical(validation_labels, nb_classes)\n",
    "    train_data = train_data.astype('float32')\n",
    "    validation_data = validation_data.astype('float32')\n",
    "    train_data /= 255\n",
    "    validation_data /= 255 \n",
    "    \n",
    "    return {\n",
    "        \"train_data\": train_data,\n",
    "        \"train_labels\": train_labels,\n",
    "        \"validation_data\": validation_data,\n",
    "        \"validation_labels\": validation_labels\n",
    "       }"
   ]
  },
  {
   "cell_type": "markdown",
   "metadata": {
    "colab_type": "text",
    "id": "qK0TcJIfsz7q"
   },
   "source": [
    "## Define Model"
   ]
  },
  {
   "cell_type": "code",
   "execution_count": 10,
   "metadata": {
    "colab": {},
    "colab_type": "code",
    "id": "_e0io4rM1O6N"
   },
   "outputs": [],
   "source": [
    "def make_model(nb_filters, img_rows, img_cols, nb_classes, activation,\n",
    "               dropout, num_dense_nodes, num_dense_layers,\n",
    "               kernel_size, pooling_size):\n",
    "    \n",
    "    kernel_size = (kernel_size, kernel_size)\n",
    "    pooling_size = (pooling_size, pooling_size)\n",
    "    \n",
    "    model = Sequential(name=nb_filters)\n",
    "    nb_filters = nb_filters.split(\"-\")\n",
    "    size_1 = int(nb_filters[0])\n",
    "    size_2 = int(nb_filters[1])\n",
    "\n",
    "    model.add(Convolution2D(size_1, kernel_size, padding='same',\n",
    "                            input_shape=(1, img_rows, img_cols),\n",
    "                            activation=activation))\n",
    "    model.add(Convolution2D(size_1, kernel_size, activation=activation))\n",
    "    model.add(MaxPooling2D(pool_size=pooling_size))\n",
    "    model.add(Dropout(dropout))\n",
    "\n",
    "    model.add(Convolution2D(size_2, kernel_size, padding='same',\n",
    "                            activation=activation))\n",
    "    model.add(Convolution2D(size_2, kernel_size, activation=activation))\n",
    "    model.add(MaxPooling2D(pool_size=pooling_size))\n",
    "    model.add(Dropout(dropout))\n",
    "\n",
    "    model.add(Flatten())\n",
    "    for i in range(num_dense_layers):\n",
    "        model.add(Dense(num_dense_nodes, activation=activation))\n",
    "    model.add(Dropout(dropout))\n",
    "    model.add(Dense(nb_classes, activation='softmax'))\n",
    "    return model"
   ]
  },
  {
   "cell_type": "markdown",
   "metadata": {
    "colab_type": "text",
    "id": "rhFcRSbwZCCw"
   },
   "source": [
    "## Hyperparameter Search"
   ]
  },
  {
   "cell_type": "markdown",
   "metadata": {
    "colab_type": "text",
    "id": "DeW2AmQ2ZGFC"
   },
   "source": [
    "### Fixed Parameters"
   ]
  },
  {
   "cell_type": "code",
   "execution_count": 11,
   "metadata": {
    "colab": {},
    "colab_type": "code",
    "id": "3ndLxKnSZEu-"
   },
   "outputs": [],
   "source": [
    "nb_epoch = 30 # 30"
   ]
  },
  {
   "cell_type": "markdown",
   "metadata": {
    "colab_type": "text",
    "id": "CsyeQlBQZUle"
   },
   "source": [
    "### Parameters to Search"
   ]
  },
  {
   "cell_type": "code",
   "execution_count": 12,
   "metadata": {
    "colab": {},
    "colab_type": "code",
    "id": "OAqGS4oWZXE-"
   },
   "outputs": [],
   "source": [
    "space = [\n",
    "    Categorical(['adam', 'sgd_standard', 'sgd_nestrov'], name='optimizer'),\n",
    "    Real(0.0001, 0.1, \"log-uniform\", name='learning_rate'),\n",
    "    Categorical(['relu', 'sigmoid', 'tanh'], name='activation'),\n",
    "    Real(0.1, 0.9, name='dropout'),\n",
    "    Integer(16, 1024, name='num_dense_nodes'),\n",
    "    Integer(1,3, name='num_dense_layers'),\n",
    "    Integer(2,5, name='kernel_size'),\n",
    "    Integer(2,4, name='pooling_size'),\n",
    "    Integer(8, 1024, name='batch_size')\n",
    "]"
   ]
  },
  {
   "cell_type": "markdown",
   "metadata": {
    "colab_type": "text",
    "id": "GmvMHPqiZP6x"
   },
   "source": [
    "### Objective Function to Minimize"
   ]
  },
  {
   "cell_type": "code",
   "execution_count": 13,
   "metadata": {
    "colab": {},
    "colab_type": "code",
    "id": "AzWFM-axZS2V"
   },
   "outputs": [],
   "source": [
    "@use_named_args(space)\n",
    "def objective(**params):\n",
    "    average_accuracy = 0\n",
    "    average_loss = 0\n",
    "    for user in users:\n",
    "        data_split = split_train_validation(user)\n",
    "        train_data = data_split[\"train_data\"]\n",
    "        train_labels = data_split[\"train_labels\"]\n",
    "        validation_data = data_split[\"validation_data\"]\n",
    "        validation_labels = data_split[\"validation_labels\"]\n",
    "\n",
    "        model = make_model(\"8-16\", img_rows, img_cols, nb_classes,\n",
    "                           params[\"activation\"], params['dropout'],\n",
    "                           params['num_dense_nodes'],\n",
    "                           params['num_dense_layers'], params['kernel_size'],\n",
    "                           params['pooling_size'])\n",
    "        if params['optimizer'] == 'adam':\n",
    "            selected_optimizer = Adam(lr=params['learning_rate'])\n",
    "            \n",
    "        elif params['optimizer'] == 'sgd_standard':\n",
    "            selected_optimizer = SGD(lr=params['learning_rate'])\n",
    "            \n",
    "        else:\n",
    "            #nestrov momentum\n",
    "            selected_optimizer = SGD(lr=params['learning_rate'], decay=1e-6, \n",
    "                                     momentum=0.9, nesterov=True)\n",
    "            \n",
    "        model.compile(loss='categorical_crossentropy',\n",
    "                      optimizer=selected_optimizer,\n",
    "                      metrics=['accuracy'])\n",
    "\n",
    "        model.fit(\n",
    "            train_data,\n",
    "            train_labels,\n",
    "            batch_size=params['batch_size'],\n",
    "            epochs=nb_epoch,\n",
    "            shuffle=True, \n",
    "            verbose=1)\n",
    "\n",
    "        evaluation = model.evaluate(validation_data, validation_labels,\n",
    "                                    batch_size=params['batch_size'], verbose=0)\n",
    "\n",
    "        average_loss += evaluation[0]\n",
    "        average_accuracy += evaluation[1]\n",
    "        \n",
    "    return -(average_accuracy/len(users)) # return negative as minimizing"
   ]
  },
  {
   "cell_type": "markdown",
   "metadata": {
    "colab_type": "text",
    "id": "oU1PMTWxbA8A"
   },
   "source": [
    "### Callbacks"
   ]
  },
  {
   "cell_type": "code",
   "execution_count": 0,
   "metadata": {
    "colab": {},
    "colab_type": "code",
    "id": "kZIFbhblcFTD"
   },
   "outputs": [],
   "source": [
    "checkpoint = CheckpointSaver(RESULTS_PATH + \"res_gp_checkpoint.pkl\")\n",
    "callbacks_list = [checkpoint]"
   ]
  },
  {
   "cell_type": "markdown",
   "metadata": {
    "colab_type": "text",
    "id": "rfd4x0jxsY6S"
   },
   "source": [
    "### Load checkpoint"
   ]
  },
  {
   "cell_type": "code",
   "execution_count": 14,
   "metadata": {
    "colab": {},
    "colab_type": "code",
    "id": "hTA-T_0QsiY2"
   },
   "outputs": [],
   "source": [
    "LOAD_CHECKPOINT = True"
   ]
  },
  {
   "cell_type": "code",
   "execution_count": 15,
   "metadata": {
    "colab": {},
    "colab_type": "code",
    "id": "_jozj15HsfmA"
   },
   "outputs": [
    {
     "name": "stderr",
     "output_type": "stream",
     "text": [
      "C:\\Users\\macka\\Anaconda3\\envs\\dataScience\\lib\\site-packages\\sklearn\\base.py:251: UserWarning: Trying to unpickle estimator LabelBinarizer from version 0.20.2 when using version 0.20.1. This might lead to breaking code or invalid results. Use at your own risk.\n",
      "  UserWarning)\n"
     ]
    }
   ],
   "source": [
    "if LOAD_CHECKPOINT:\n",
    "    res = load(RESULTS_PATH + \"res_gp_checkpoint.pkl\")\n",
    "    x0 = res.x_iters\n",
    "    y0 = res.func_vals\n",
    "    \n",
    "else:\n",
    "    x0 = None\n",
    "    y0 = None"
   ]
  },
  {
   "cell_type": "markdown",
   "metadata": {
    "colab_type": "text",
    "id": "wAFCZnjYU36e"
   },
   "source": [
    "### Perform Search"
   ]
  },
  {
   "cell_type": "code",
   "execution_count": 0,
   "metadata": {
    "colab": {
     "base_uri": "https://localhost:8080/",
     "height": 2406
    },
    "colab_type": "code",
    "executionInfo": {
     "elapsed": 385275,
     "status": "error",
     "timestamp": 1549104003467,
     "user": {
      "displayName": "Andrew Mackay",
      "photoUrl": "https://lh3.googleusercontent.com/-24hiGmdxZDE/AAAAAAAAAAI/AAAAAAAAL_I/RW7nqM11LkM/s64/photo.jpg",
      "userId": "06804410358976473893"
     },
     "user_tz": 0
    },
    "id": "H8_tpC-DZnyh",
    "outputId": "271edac0-d3ac-4240-c1c9-2540599aa5af"
   },
   "outputs": [
    {
     "name": "stdout",
     "output_type": "stream",
     "text": [
      "Iteration No: 1 started. Evaluating function at random point.\n",
      "Iteration No: 1 ended. Evaluation done at random point.\n",
      "Time taken: 0.0011\n",
      "Function value obtained: -0.8426\n",
      "Current minimum: -0.8534\n",
      "Iteration No: 2 started. Evaluating function at random point.\n",
      "Epoch 1/30\n",
      "29019/29019 [==============================] - 13s 464us/step - loss: 1.8181 - acc: 0.2709\n",
      "Epoch 2/30\n",
      "29019/29019 [==============================] - 13s 432us/step - loss: 1.2549 - acc: 0.5061\n",
      "Epoch 3/30\n",
      "29019/29019 [==============================] - 12s 417us/step - loss: 0.9262 - acc: 0.6364\n",
      "Epoch 4/30\n",
      "29019/29019 [==============================] - 12s 412us/step - loss: 0.7285 - acc: 0.7149\n",
      "Epoch 5/30\n",
      "29019/29019 [==============================] - 12s 414us/step - loss: 0.6402 - acc: 0.7583\n",
      "Epoch 6/30\n",
      "29019/29019 [==============================] - 12s 412us/step - loss: 0.5812 - acc: 0.7815\n",
      "Epoch 7/30\n",
      "29019/29019 [==============================] - 12s 412us/step - loss: 0.5432 - acc: 0.7978\n",
      "Epoch 8/30\n",
      "29019/29019 [==============================] - 12s 412us/step - loss: 0.5097 - acc: 0.8130\n",
      "Epoch 9/30\n",
      "29019/29019 [==============================] - 12s 413us/step - loss: 0.4767 - acc: 0.8254\n",
      "Epoch 10/30\n",
      "29019/29019 [==============================] - 12s 412us/step - loss: 0.4486 - acc: 0.8345\n",
      "Epoch 11/30\n",
      "29019/29019 [==============================] - 12s 412us/step - loss: 0.4395 - acc: 0.8378\n",
      "Epoch 12/30\n",
      "29019/29019 [==============================] - 12s 412us/step - loss: 0.4089 - acc: 0.8511\n",
      "Epoch 13/30\n",
      "29019/29019 [==============================] - 12s 412us/step - loss: 0.3911 - acc: 0.8556\n",
      "Epoch 14/30\n",
      "29019/29019 [==============================] - 12s 411us/step - loss: 0.3677 - acc: 0.8659\n",
      "Epoch 15/30\n",
      "29019/29019 [==============================] - 12s 411us/step - loss: 0.3596 - acc: 0.8685\n",
      "Epoch 16/30\n",
      "29019/29019 [==============================] - 12s 411us/step - loss: 0.3356 - acc: 0.8778\n",
      "Epoch 17/30\n",
      "29019/29019 [==============================] - 12s 410us/step - loss: 0.3261 - acc: 0.8816\n",
      "Epoch 18/30\n",
      "29019/29019 [==============================] - 12s 411us/step - loss: 0.3155 - acc: 0.8873\n",
      "Epoch 19/30\n",
      "29019/29019 [==============================] - 12s 412us/step - loss: 0.3041 - acc: 0.8911\n",
      "Epoch 20/30\n",
      "29019/29019 [==============================] - 12s 411us/step - loss: 0.2846 - acc: 0.8984\n",
      "Epoch 21/30\n",
      "29019/29019 [==============================] - 12s 412us/step - loss: 0.2766 - acc: 0.9025\n",
      "Epoch 22/30\n",
      "29019/29019 [==============================] - 12s 411us/step - loss: 0.2693 - acc: 0.9045\n",
      "Epoch 23/30\n",
      "29019/29019 [==============================] - 12s 411us/step - loss: 0.2594 - acc: 0.9104\n",
      "Epoch 24/30\n",
      "29019/29019 [==============================] - 12s 410us/step - loss: 0.2439 - acc: 0.9136\n",
      "Epoch 25/30\n",
      "29019/29019 [==============================] - 12s 411us/step - loss: 0.2420 - acc: 0.9154\n",
      "Epoch 26/30\n",
      "29019/29019 [==============================] - 12s 410us/step - loss: 0.2324 - acc: 0.9182\n",
      "Epoch 27/30\n",
      "29019/29019 [==============================] - 12s 411us/step - loss: 0.2234 - acc: 0.9202\n",
      "Epoch 28/30\n",
      "29019/29019 [==============================] - 12s 412us/step - loss: 0.2170 - acc: 0.9248\n",
      "Epoch 29/30\n",
      "29019/29019 [==============================] - 12s 412us/step - loss: 0.2098 - acc: 0.9267\n",
      "Epoch 30/30\n",
      "29019/29019 [==============================] - 12s 412us/step - loss: 0.2054 - acc: 0.9266\n",
      "Epoch 1/30\n",
      "29019/29019 [==============================] - 12s 430us/step - loss: 1.8003 - acc: 0.2704\n",
      "Epoch 2/30\n",
      "15105/29019 [==============>...............] - ETA: 5s - loss: 1.2117 - acc: 0.5155"
     ]
    },
    {
     "ename": "KeyboardInterrupt",
     "evalue": "ignored",
     "output_type": "error",
     "traceback": [
      "\u001b[0;31m---------------------------------------------------------------------------\u001b[0m",
      "\u001b[0;31mKeyboardInterrupt\u001b[0m                         Traceback (most recent call last)",
      "\u001b[0;32m<ipython-input-19-2c43f9c15ffa>\u001b[0m in \u001b[0;36m<module>\u001b[0;34m()\u001b[0m\n\u001b[1;32m      1\u001b[0m res_gp = gp_minimize(objective, space, x0=x0, y0=y0,\n\u001b[1;32m      2\u001b[0m                      \u001b[0mn_calls\u001b[0m\u001b[0;34m=\u001b[0m\u001b[0;36m130\u001b[0m\u001b[0;34m,\u001b[0m \u001b[0mn_random_starts\u001b[0m\u001b[0;34m=\u001b[0m\u001b[0;36m10\u001b[0m\u001b[0;34m,\u001b[0m\u001b[0;34m\u001b[0m\u001b[0;34m\u001b[0m\u001b[0m\n\u001b[0;32m----> 3\u001b[0;31m                      random_state=0, verbose=True)\n\u001b[0m",
      "\u001b[0;32m/usr/local/lib/python3.6/dist-packages/skopt/optimizer/gp.py\u001b[0m in \u001b[0;36mgp_minimize\u001b[0;34m(func, dimensions, base_estimator, n_calls, n_random_starts, acq_func, acq_optimizer, x0, y0, random_state, verbose, callback, n_points, n_restarts_optimizer, xi, kappa, noise, n_jobs)\u001b[0m\n\u001b[1;32m    226\u001b[0m         \u001b[0mn_restarts_optimizer\u001b[0m\u001b[0;34m=\u001b[0m\u001b[0mn_restarts_optimizer\u001b[0m\u001b[0;34m,\u001b[0m\u001b[0;34m\u001b[0m\u001b[0;34m\u001b[0m\u001b[0m\n\u001b[1;32m    227\u001b[0m         \u001b[0mx0\u001b[0m\u001b[0;34m=\u001b[0m\u001b[0mx0\u001b[0m\u001b[0;34m,\u001b[0m \u001b[0my0\u001b[0m\u001b[0;34m=\u001b[0m\u001b[0my0\u001b[0m\u001b[0;34m,\u001b[0m \u001b[0mrandom_state\u001b[0m\u001b[0;34m=\u001b[0m\u001b[0mrng\u001b[0m\u001b[0;34m,\u001b[0m \u001b[0mverbose\u001b[0m\u001b[0;34m=\u001b[0m\u001b[0mverbose\u001b[0m\u001b[0;34m,\u001b[0m\u001b[0;34m\u001b[0m\u001b[0;34m\u001b[0m\u001b[0m\n\u001b[0;32m--> 228\u001b[0;31m         callback=callback, n_jobs=n_jobs)\n\u001b[0m",
      "\u001b[0;32m/usr/local/lib/python3.6/dist-packages/skopt/optimizer/base.py\u001b[0m in \u001b[0;36mbase_minimize\u001b[0;34m(func, dimensions, base_estimator, n_calls, n_random_starts, acq_func, acq_optimizer, x0, y0, random_state, verbose, callback, n_points, n_restarts_optimizer, xi, kappa, n_jobs)\u001b[0m\n\u001b[1;32m    255\u001b[0m     \u001b[0;32mfor\u001b[0m \u001b[0mn\u001b[0m \u001b[0;32min\u001b[0m \u001b[0mrange\u001b[0m\u001b[0;34m(\u001b[0m\u001b[0mn_calls\u001b[0m\u001b[0;34m)\u001b[0m\u001b[0;34m:\u001b[0m\u001b[0;34m\u001b[0m\u001b[0;34m\u001b[0m\u001b[0m\n\u001b[1;32m    256\u001b[0m         \u001b[0mnext_x\u001b[0m \u001b[0;34m=\u001b[0m \u001b[0moptimizer\u001b[0m\u001b[0;34m.\u001b[0m\u001b[0mask\u001b[0m\u001b[0;34m(\u001b[0m\u001b[0;34m)\u001b[0m\u001b[0;34m\u001b[0m\u001b[0;34m\u001b[0m\u001b[0m\n\u001b[0;32m--> 257\u001b[0;31m         \u001b[0mnext_y\u001b[0m \u001b[0;34m=\u001b[0m \u001b[0mfunc\u001b[0m\u001b[0;34m(\u001b[0m\u001b[0mnext_x\u001b[0m\u001b[0;34m)\u001b[0m\u001b[0;34m\u001b[0m\u001b[0;34m\u001b[0m\u001b[0m\n\u001b[0m\u001b[1;32m    258\u001b[0m         \u001b[0mresult\u001b[0m \u001b[0;34m=\u001b[0m \u001b[0moptimizer\u001b[0m\u001b[0;34m.\u001b[0m\u001b[0mtell\u001b[0m\u001b[0;34m(\u001b[0m\u001b[0mnext_x\u001b[0m\u001b[0;34m,\u001b[0m \u001b[0mnext_y\u001b[0m\u001b[0;34m)\u001b[0m\u001b[0;34m\u001b[0m\u001b[0;34m\u001b[0m\u001b[0m\n\u001b[1;32m    259\u001b[0m         \u001b[0mresult\u001b[0m\u001b[0;34m.\u001b[0m\u001b[0mspecs\u001b[0m \u001b[0;34m=\u001b[0m \u001b[0mspecs\u001b[0m\u001b[0;34m\u001b[0m\u001b[0;34m\u001b[0m\u001b[0m\n",
      "\u001b[0;32m/usr/local/lib/python3.6/dist-packages/skopt/utils.py\u001b[0m in \u001b[0;36mwrapper\u001b[0;34m(x)\u001b[0m\n\u001b[1;32m    638\u001b[0m \u001b[0;34m\u001b[0m\u001b[0m\n\u001b[1;32m    639\u001b[0m             \u001b[0;31m# Call the wrapped objective function with the named arguments.\u001b[0m\u001b[0;34m\u001b[0m\u001b[0;34m\u001b[0m\u001b[0;34m\u001b[0m\u001b[0m\n\u001b[0;32m--> 640\u001b[0;31m             \u001b[0mobjective_value\u001b[0m \u001b[0;34m=\u001b[0m \u001b[0mfunc\u001b[0m\u001b[0;34m(\u001b[0m\u001b[0;34m**\u001b[0m\u001b[0marg_dict\u001b[0m\u001b[0;34m)\u001b[0m\u001b[0;34m\u001b[0m\u001b[0;34m\u001b[0m\u001b[0m\n\u001b[0m\u001b[1;32m    641\u001b[0m \u001b[0;34m\u001b[0m\u001b[0m\n\u001b[1;32m    642\u001b[0m             \u001b[0;32mreturn\u001b[0m \u001b[0mobjective_value\u001b[0m\u001b[0;34m\u001b[0m\u001b[0;34m\u001b[0m\u001b[0m\n",
      "\u001b[0;32m<ipython-input-14-bb271ad33696>\u001b[0m in \u001b[0;36mobjective\u001b[0;34m(**params)\u001b[0m\n\u001b[1;32m     36\u001b[0m             \u001b[0mepochs\u001b[0m\u001b[0;34m=\u001b[0m\u001b[0mnb_epoch\u001b[0m\u001b[0;34m,\u001b[0m\u001b[0;34m\u001b[0m\u001b[0;34m\u001b[0m\u001b[0m\n\u001b[1;32m     37\u001b[0m             \u001b[0mshuffle\u001b[0m\u001b[0;34m=\u001b[0m\u001b[0;32mTrue\u001b[0m\u001b[0;34m,\u001b[0m\u001b[0;34m\u001b[0m\u001b[0;34m\u001b[0m\u001b[0m\n\u001b[0;32m---> 38\u001b[0;31m             verbose=1)\n\u001b[0m\u001b[1;32m     39\u001b[0m \u001b[0;34m\u001b[0m\u001b[0m\n\u001b[1;32m     40\u001b[0m         evaluation = model.evaluate(validation_data, validation_labels,\n",
      "\u001b[0;32m/usr/local/lib/python3.6/dist-packages/keras/engine/training.py\u001b[0m in \u001b[0;36mfit\u001b[0;34m(self, x, y, batch_size, epochs, verbose, callbacks, validation_split, validation_data, shuffle, class_weight, sample_weight, initial_epoch, steps_per_epoch, validation_steps, **kwargs)\u001b[0m\n\u001b[1;32m   1037\u001b[0m                                         \u001b[0minitial_epoch\u001b[0m\u001b[0;34m=\u001b[0m\u001b[0minitial_epoch\u001b[0m\u001b[0;34m,\u001b[0m\u001b[0;34m\u001b[0m\u001b[0;34m\u001b[0m\u001b[0m\n\u001b[1;32m   1038\u001b[0m                                         \u001b[0msteps_per_epoch\u001b[0m\u001b[0;34m=\u001b[0m\u001b[0msteps_per_epoch\u001b[0m\u001b[0;34m,\u001b[0m\u001b[0;34m\u001b[0m\u001b[0;34m\u001b[0m\u001b[0m\n\u001b[0;32m-> 1039\u001b[0;31m                                         validation_steps=validation_steps)\n\u001b[0m\u001b[1;32m   1040\u001b[0m \u001b[0;34m\u001b[0m\u001b[0m\n\u001b[1;32m   1041\u001b[0m     def evaluate(self, x=None, y=None,\n",
      "\u001b[0;32m/usr/local/lib/python3.6/dist-packages/keras/engine/training_arrays.py\u001b[0m in \u001b[0;36mfit_loop\u001b[0;34m(model, f, ins, out_labels, batch_size, epochs, verbose, callbacks, val_f, val_ins, shuffle, callback_metrics, initial_epoch, steps_per_epoch, validation_steps)\u001b[0m\n\u001b[1;32m    197\u001b[0m                     \u001b[0mins_batch\u001b[0m\u001b[0;34m[\u001b[0m\u001b[0mi\u001b[0m\u001b[0;34m]\u001b[0m \u001b[0;34m=\u001b[0m \u001b[0mins_batch\u001b[0m\u001b[0;34m[\u001b[0m\u001b[0mi\u001b[0m\u001b[0;34m]\u001b[0m\u001b[0;34m.\u001b[0m\u001b[0mtoarray\u001b[0m\u001b[0;34m(\u001b[0m\u001b[0;34m)\u001b[0m\u001b[0;34m\u001b[0m\u001b[0;34m\u001b[0m\u001b[0m\n\u001b[1;32m    198\u001b[0m \u001b[0;34m\u001b[0m\u001b[0m\n\u001b[0;32m--> 199\u001b[0;31m                 \u001b[0mouts\u001b[0m \u001b[0;34m=\u001b[0m \u001b[0mf\u001b[0m\u001b[0;34m(\u001b[0m\u001b[0mins_batch\u001b[0m\u001b[0;34m)\u001b[0m\u001b[0;34m\u001b[0m\u001b[0;34m\u001b[0m\u001b[0m\n\u001b[0m\u001b[1;32m    200\u001b[0m                 \u001b[0mouts\u001b[0m \u001b[0;34m=\u001b[0m \u001b[0mto_list\u001b[0m\u001b[0;34m(\u001b[0m\u001b[0mouts\u001b[0m\u001b[0;34m)\u001b[0m\u001b[0;34m\u001b[0m\u001b[0;34m\u001b[0m\u001b[0m\n\u001b[1;32m    201\u001b[0m                 \u001b[0;32mfor\u001b[0m \u001b[0ml\u001b[0m\u001b[0;34m,\u001b[0m \u001b[0mo\u001b[0m \u001b[0;32min\u001b[0m \u001b[0mzip\u001b[0m\u001b[0;34m(\u001b[0m\u001b[0mout_labels\u001b[0m\u001b[0;34m,\u001b[0m \u001b[0mouts\u001b[0m\u001b[0;34m)\u001b[0m\u001b[0;34m:\u001b[0m\u001b[0;34m\u001b[0m\u001b[0;34m\u001b[0m\u001b[0m\n",
      "\u001b[0;32m/usr/local/lib/python3.6/dist-packages/keras/backend/tensorflow_backend.py\u001b[0m in \u001b[0;36m__call__\u001b[0;34m(self, inputs)\u001b[0m\n\u001b[1;32m   2713\u001b[0m                 \u001b[0;32mreturn\u001b[0m \u001b[0mself\u001b[0m\u001b[0;34m.\u001b[0m\u001b[0m_legacy_call\u001b[0m\u001b[0;34m(\u001b[0m\u001b[0minputs\u001b[0m\u001b[0;34m)\u001b[0m\u001b[0;34m\u001b[0m\u001b[0;34m\u001b[0m\u001b[0m\n\u001b[1;32m   2714\u001b[0m \u001b[0;34m\u001b[0m\u001b[0m\n\u001b[0;32m-> 2715\u001b[0;31m             \u001b[0;32mreturn\u001b[0m \u001b[0mself\u001b[0m\u001b[0;34m.\u001b[0m\u001b[0m_call\u001b[0m\u001b[0;34m(\u001b[0m\u001b[0minputs\u001b[0m\u001b[0;34m)\u001b[0m\u001b[0;34m\u001b[0m\u001b[0;34m\u001b[0m\u001b[0m\n\u001b[0m\u001b[1;32m   2716\u001b[0m         \u001b[0;32melse\u001b[0m\u001b[0;34m:\u001b[0m\u001b[0;34m\u001b[0m\u001b[0;34m\u001b[0m\u001b[0m\n\u001b[1;32m   2717\u001b[0m             \u001b[0;32mif\u001b[0m \u001b[0mpy_any\u001b[0m\u001b[0;34m(\u001b[0m\u001b[0mis_tensor\u001b[0m\u001b[0;34m(\u001b[0m\u001b[0mx\u001b[0m\u001b[0;34m)\u001b[0m \u001b[0;32mfor\u001b[0m \u001b[0mx\u001b[0m \u001b[0;32min\u001b[0m \u001b[0minputs\u001b[0m\u001b[0;34m)\u001b[0m\u001b[0;34m:\u001b[0m\u001b[0;34m\u001b[0m\u001b[0;34m\u001b[0m\u001b[0m\n",
      "\u001b[0;32m/usr/local/lib/python3.6/dist-packages/keras/backend/tensorflow_backend.py\u001b[0m in \u001b[0;36m_call\u001b[0;34m(self, inputs)\u001b[0m\n\u001b[1;32m   2673\u001b[0m             \u001b[0mfetched\u001b[0m \u001b[0;34m=\u001b[0m \u001b[0mself\u001b[0m\u001b[0;34m.\u001b[0m\u001b[0m_callable_fn\u001b[0m\u001b[0;34m(\u001b[0m\u001b[0;34m*\u001b[0m\u001b[0marray_vals\u001b[0m\u001b[0;34m,\u001b[0m \u001b[0mrun_metadata\u001b[0m\u001b[0;34m=\u001b[0m\u001b[0mself\u001b[0m\u001b[0;34m.\u001b[0m\u001b[0mrun_metadata\u001b[0m\u001b[0;34m)\u001b[0m\u001b[0;34m\u001b[0m\u001b[0;34m\u001b[0m\u001b[0m\n\u001b[1;32m   2674\u001b[0m         \u001b[0;32melse\u001b[0m\u001b[0;34m:\u001b[0m\u001b[0;34m\u001b[0m\u001b[0;34m\u001b[0m\u001b[0m\n\u001b[0;32m-> 2675\u001b[0;31m             \u001b[0mfetched\u001b[0m \u001b[0;34m=\u001b[0m \u001b[0mself\u001b[0m\u001b[0;34m.\u001b[0m\u001b[0m_callable_fn\u001b[0m\u001b[0;34m(\u001b[0m\u001b[0;34m*\u001b[0m\u001b[0marray_vals\u001b[0m\u001b[0;34m)\u001b[0m\u001b[0;34m\u001b[0m\u001b[0;34m\u001b[0m\u001b[0m\n\u001b[0m\u001b[1;32m   2676\u001b[0m         \u001b[0;32mreturn\u001b[0m \u001b[0mfetched\u001b[0m\u001b[0;34m[\u001b[0m\u001b[0;34m:\u001b[0m\u001b[0mlen\u001b[0m\u001b[0;34m(\u001b[0m\u001b[0mself\u001b[0m\u001b[0;34m.\u001b[0m\u001b[0moutputs\u001b[0m\u001b[0;34m)\u001b[0m\u001b[0;34m]\u001b[0m\u001b[0;34m\u001b[0m\u001b[0;34m\u001b[0m\u001b[0m\n\u001b[1;32m   2677\u001b[0m \u001b[0;34m\u001b[0m\u001b[0m\n",
      "\u001b[0;32m/usr/local/lib/python3.6/dist-packages/tensorflow/python/client/session.py\u001b[0m in \u001b[0;36m__call__\u001b[0;34m(self, *args, **kwargs)\u001b[0m\n\u001b[1;32m   1437\u001b[0m           ret = tf_session.TF_SessionRunCallable(\n\u001b[1;32m   1438\u001b[0m               \u001b[0mself\u001b[0m\u001b[0;34m.\u001b[0m\u001b[0m_session\u001b[0m\u001b[0;34m.\u001b[0m\u001b[0m_session\u001b[0m\u001b[0;34m,\u001b[0m \u001b[0mself\u001b[0m\u001b[0;34m.\u001b[0m\u001b[0m_handle\u001b[0m\u001b[0;34m,\u001b[0m \u001b[0margs\u001b[0m\u001b[0;34m,\u001b[0m \u001b[0mstatus\u001b[0m\u001b[0;34m,\u001b[0m\u001b[0;34m\u001b[0m\u001b[0;34m\u001b[0m\u001b[0m\n\u001b[0;32m-> 1439\u001b[0;31m               run_metadata_ptr)\n\u001b[0m\u001b[1;32m   1440\u001b[0m         \u001b[0;32mif\u001b[0m \u001b[0mrun_metadata\u001b[0m\u001b[0;34m:\u001b[0m\u001b[0;34m\u001b[0m\u001b[0;34m\u001b[0m\u001b[0m\n\u001b[1;32m   1441\u001b[0m           \u001b[0mproto_data\u001b[0m \u001b[0;34m=\u001b[0m \u001b[0mtf_session\u001b[0m\u001b[0;34m.\u001b[0m\u001b[0mTF_GetBuffer\u001b[0m\u001b[0;34m(\u001b[0m\u001b[0mrun_metadata_ptr\u001b[0m\u001b[0;34m)\u001b[0m\u001b[0;34m\u001b[0m\u001b[0;34m\u001b[0m\u001b[0m\n",
      "\u001b[0;31mKeyboardInterrupt\u001b[0m: "
     ]
    }
   ],
   "source": [
    "res_gp = gp_minimize(objective, space, x0=x0, y0=y0,\n",
    "                     n_calls=130, n_random_starts=10,\n",
    "                     random_state=0, callback=callbacks_list)"
   ]
  },
  {
   "cell_type": "markdown",
   "metadata": {
    "colab_type": "text",
    "id": "gsCe4ugZt2Yt"
   },
   "source": [
    "### Save gp results"
   ]
  },
  {
   "cell_type": "code",
   "execution_count": 0,
   "metadata": {
    "colab": {},
    "colab_type": "code",
    "id": "lS-st190t2GS"
   },
   "outputs": [],
   "source": [
    "dump(res_gp, RESULTS_PATH + \"res_gp_complete.pkl\")"
   ]
  },
  {
   "cell_type": "markdown",
   "metadata": {
    "colab_type": "text",
    "id": "DEBqFCS9uImJ"
   },
   "source": [
    "### Load gp results"
   ]
  },
  {
   "cell_type": "code",
   "execution_count": 0,
   "metadata": {
    "colab": {},
    "colab_type": "code",
    "id": "237ErDR_uKsk"
   },
   "outputs": [],
   "source": [
    "res_gp = load(RESULTS_PATH + \"res_gp_complete.pkl\")"
   ]
  },
  {
   "cell_type": "markdown",
   "metadata": {
    "colab_type": "text",
    "id": "pDOtEG4rZx-9"
   },
   "source": [
    "## Results"
   ]
  },
  {
   "cell_type": "code",
   "execution_count": 11,
   "metadata": {
    "colab": {},
    "colab_type": "code",
    "id": "kNtsWK6Qu9OG"
   },
   "outputs": [
    {
     "ename": "NameError",
     "evalue": "name 'res_gp' is not defined",
     "output_type": "error",
     "traceback": [
      "\u001b[1;31m---------------------------------------------------------------------------\u001b[0m",
      "\u001b[1;31mNameError\u001b[0m                                 Traceback (most recent call last)",
      "\u001b[1;32m<ipython-input-11-6f36e611ba9d>\u001b[0m in \u001b[0;36m<module>\u001b[1;34m\u001b[0m\n\u001b[0;32m      1\u001b[0m \u001b[1;31m# params at minimum\u001b[0m\u001b[1;33m\u001b[0m\u001b[1;33m\u001b[0m\u001b[0m\n\u001b[1;32m----> 2\u001b[1;33m \u001b[0mres_gp\u001b[0m\u001b[1;33m.\u001b[0m\u001b[0mx\u001b[0m\u001b[1;33m\u001b[0m\u001b[0m\n\u001b[0m",
      "\u001b[1;31mNameError\u001b[0m: name 'res_gp' is not defined"
     ]
    }
   ],
   "source": [
    "# params at minimum\n",
    "res_gp.x"
   ]
  },
  {
   "cell_type": "code",
   "execution_count": 12,
   "metadata": {
    "colab": {},
    "colab_type": "code",
    "id": "iTZfDeBLvG50"
   },
   "outputs": [
    {
     "ename": "NameError",
     "evalue": "name 'res_gp' is not defined",
     "output_type": "error",
     "traceback": [
      "\u001b[1;31m---------------------------------------------------------------------------\u001b[0m",
      "\u001b[1;31mNameError\u001b[0m                                 Traceback (most recent call last)",
      "\u001b[1;32m<ipython-input-12-a5c7f7faa87d>\u001b[0m in \u001b[0;36m<module>\u001b[1;34m\u001b[0m\n\u001b[1;32m----> 1\u001b[1;33m \u001b[0mprint\u001b[0m\u001b[1;33m(\u001b[0m\u001b[1;34m\"Accuracy:\"\u001b[0m\u001b[1;33m,\u001b[0m \u001b[1;33m-\u001b[0m\u001b[0mres_gp\u001b[0m\u001b[1;33m.\u001b[0m\u001b[0mfun\u001b[0m\u001b[1;33m)\u001b[0m\u001b[1;33m\u001b[0m\u001b[0m\n\u001b[0m",
      "\u001b[1;31mNameError\u001b[0m: name 'res_gp' is not defined"
     ]
    }
   ],
   "source": [
    "print(\"Accuracy:\", -res_gp.fun)"
   ]
  },
  {
   "cell_type": "code",
   "execution_count": 16,
   "metadata": {
    "colab": {
     "base_uri": "https://localhost:8080/",
     "height": 394
    },
    "colab_type": "code",
    "executionInfo": {
     "elapsed": 973,
     "status": "ok",
     "timestamp": 1549270895435,
     "user": {
      "displayName": "Andrew Mackay",
      "photoUrl": "https://lh3.googleusercontent.com/-24hiGmdxZDE/AAAAAAAAAAI/AAAAAAAAL_I/RW7nqM11LkM/s64/photo.jpg",
      "userId": "06804410358976473893"
     },
     "user_tz": 0
    },
    "id": "GrAu-AsZwJzE",
    "outputId": "b620fe2e-8f41-4dd2-8a12-1b48b8e16ea3"
   },
   "outputs": [
    {
     "data": {
      "text/plain": [
       "<matplotlib.axes._subplots.AxesSubplot at 0x2bec20ce208>"
      ]
     },
     "execution_count": 16,
     "metadata": {},
     "output_type": "execute_result"
    },
    {
     "data": {
      "image/png": "[encoded data removed]",
      "text/plain": [
       "<Figure size 432x288 with 1 Axes>"
      ]
     },
     "metadata": {
      "needs_background": "light"
     },
     "output_type": "display_data"
    }
   ],
   "source": [
    "plot_convergence(res)"
   ]
  },
  {
   "cell_type": "code",
   "execution_count": 20,
   "metadata": {
    "colab": {
     "base_uri": "https://localhost:8080/",
     "height": 34
    },
    "colab_type": "code",
    "executionInfo": {
     "elapsed": 1351,
     "status": "ok",
     "timestamp": 1549125173135,
     "user": {
      "displayName": "Andrew Mackay",
      "photoUrl": "https://lh3.googleusercontent.com/-24hiGmdxZDE/AAAAAAAAAAI/AAAAAAAAL_I/RW7nqM11LkM/s64/photo.jpg",
      "userId": "06804410358976473893"
     },
     "user_tz": 0
    },
    "id": "hCkKruT8wS_a",
    "outputId": "e791dfb5-8655-4479-cd27-0c6195a5c0c7"
   },
   "outputs": [
    {
     "data": {
      "text/plain": [
       "['adam', 0.0012375685948764468, 'relu', 0.597428888669298, 1024, 3, 3, 2, 576]"
      ]
     },
     "execution_count": 20,
     "metadata": {},
     "output_type": "execute_result"
    }
   ],
   "source": [
    "res.x"
   ]
  },
  {
   "cell_type": "code",
   "execution_count": 18,
   "metadata": {
    "colab": {
     "base_uri": "https://localhost:8080/",
     "height": 34
    },
    "colab_type": "code",
    "executionInfo": {
     "elapsed": 837,
     "status": "ok",
     "timestamp": 1549125173465,
     "user": {
      "displayName": "Andrew Mackay",
      "photoUrl": "https://lh3.googleusercontent.com/-24hiGmdxZDE/AAAAAAAAAAI/AAAAAAAAL_I/RW7nqM11LkM/s64/photo.jpg",
      "userId": "06804410358976473893"
     },
     "user_tz": 0
    },
    "id": "G11rXhxlwbvm",
    "outputId": "bd2bf5e5-3863-488a-fdc2-a14aa20c9555"
   },
   "outputs": [
    {
     "data": {
      "text/plain": [
       "0.7840405067187172"
      ]
     },
     "execution_count": 18,
     "metadata": {},
     "output_type": "execute_result"
    }
   ],
   "source": [
    "-res.fun"
   ]
  },
  {
   "cell_type": "code",
   "execution_count": 17,
   "metadata": {
    "colab": {
     "base_uri": "https://localhost:8080/",
     "height": 364
    },
    "colab_type": "code",
    "executionInfo": {
     "elapsed": 790,
     "status": "ok",
     "timestamp": 1549270903225,
     "user": {
      "displayName": "Andrew Mackay",
      "photoUrl": "https://lh3.googleusercontent.com/-24hiGmdxZDE/AAAAAAAAAAI/AAAAAAAAL_I/RW7nqM11LkM/s64/photo.jpg",
      "userId": "06804410358976473893"
     },
     "user_tz": 0
    },
    "id": "ilGWuq3DCKpr",
    "outputId": "8fc64abc-b7f8-43c9-8c7e-ee6e1c79f374"
   },
   "outputs": [
    {
     "data": {
      "image/png": "[encoded data removed]",
      "text/plain": [
       "<Figure size 432x288 with 1 Axes>"
      ]
     },
     "metadata": {
      "needs_background": "light"
     },
     "output_type": "display_data"
    }
   ],
   "source": [
    "plt.plot(-(np.array(res.func_vals)*100), marker='x')\n",
    "plt.plot(np.full((len(res.func_vals)), -res.fun*100), label=\"Best Accuracy: \" + str(round(-res.fun*100, 2))+\"%\")\n",
    "plt.legend(bbox_to_anchor=(1.04,1), loc=\"upper left\")\n",
    "plt.ylabel(\"Classification Accuracy (%)\")\n",
    "plt.xlabel(\"Number of calls n\")\n",
    "plt.grid(axis=\"y\")"
   ]
  },
  {
   "cell_type": "code",
   "execution_count": 0,
   "metadata": {
    "colab": {
     "base_uri": "https://localhost:8080/",
     "height": 14178
    },
    "colab_type": "code",
    "executionInfo": {
     "elapsed": 436,
     "status": "ok",
     "timestamp": 1549228231456,
     "user": {
      "displayName": "Andrew Mackay",
      "photoUrl": "https://lh3.googleusercontent.com/-24hiGmdxZDE/AAAAAAAAAAI/AAAAAAAAL_I/RW7nqM11LkM/s64/photo.jpg",
      "userId": "06804410358976473893"
     },
     "user_tz": 0
    },
    "id": "1i7KpGZhDqxr",
    "outputId": "b2842fd1-d78e-414e-9032-bef53970d69d"
   },
   "outputs": [
    {
     "data": {
      "text/plain": [
       "[['sgd_standard',\n",
       "  0.0341033659841376,\n",
       "  'tanh',\n",
       "  0.7778013910273005,\n",
       "  645,\n",
       "  2,\n",
       "  3,\n",
       "  2,\n",
       "  285],\n",
       " ['sgd_standard',\n",
       "  0.027321603619774242,\n",
       "  'sigmoid',\n",
       "  0.4142278368806639,\n",
       "  859,\n",
       "  2,\n",
       "  4,\n",
       "  3,\n",
       "  980],\n",
       " ['adam',\n",
       "  0.040762590410962536,\n",
       "  'sigmoid',\n",
       "  0.7407286015837156,\n",
       "  541,\n",
       "  2,\n",
       "  4,\n",
       "  3,\n",
       "  554],\n",
       " ['sgd_nestrov',\n",
       "  0.00020783697921338129,\n",
       "  'sigmoid',\n",
       "  0.249065874661408,\n",
       "  759,\n",
       "  1,\n",
       "  2,\n",
       "  3,\n",
       "  160],\n",
       " ['adam',\n",
       "  0.0014436667144263008,\n",
       "  'tanh',\n",
       "  0.4599599919289822,\n",
       "  634,\n",
       "  3,\n",
       "  2,\n",
       "  4,\n",
       "  672],\n",
       " ['adam',\n",
       "  0.0011870158031597254,\n",
       "  'tanh',\n",
       "  0.5862645349723743,\n",
       "  344,\n",
       "  1,\n",
       "  4,\n",
       "  4,\n",
       "  671],\n",
       " ['sgd_standard',\n",
       "  0.09680520367410021,\n",
       "  'sigmoid',\n",
       "  0.43149487058109515,\n",
       "  494,\n",
       "  2,\n",
       "  3,\n",
       "  3,\n",
       "  330],\n",
       " ['sgd_nestrov',\n",
       "  0.07058512048254183,\n",
       "  'sigmoid',\n",
       "  0.11085730848968788,\n",
       "  644,\n",
       "  2,\n",
       "  5,\n",
       "  4,\n",
       "  526],\n",
       " ['adam',\n",
       "  0.0022567198219888875,\n",
       "  'relu',\n",
       "  0.4533687369990764,\n",
       "  1003,\n",
       "  2,\n",
       "  3,\n",
       "  3,\n",
       "  903],\n",
       " ['sgd_nestrov',\n",
       "  0.0004471635680750561,\n",
       "  'sigmoid',\n",
       "  0.7920820490443082,\n",
       "  529,\n",
       "  3,\n",
       "  5,\n",
       "  2,\n",
       "  290],\n",
       " ['adam', 0.0001, 'relu', 0.8267338189305841, 16, 1, 5, 4, 1024],\n",
       " ['sgd_standard', 0.1, 'tanh', 0.9, 16, 3, 2, 2, 8],\n",
       " ['sgd_standard', 0.1, 'relu', 0.9, 447, 1, 5, 2, 8],\n",
       " ['sgd_standard', 0.1, 'tanh', 0.9, 1024, 1, 5, 2, 8],\n",
       " ['adam', 0.006685612326762435, 'relu', 0.630757067749603, 642, 1, 5, 3, 821],\n",
       " ['adam',\n",
       "  0.002933546438159744,\n",
       "  'relu',\n",
       "  0.2883990263525013,\n",
       "  1024,\n",
       "  2,\n",
       "  3,\n",
       "  4,\n",
       "  888],\n",
       " ['sgd_standard', 0.1, 'relu', 0.9, 16, 1, 5, 2, 449],\n",
       " ['sgd_nestrov',\n",
       "  0.009705606423799428,\n",
       "  'relu',\n",
       "  0.5106805646866998,\n",
       "  865,\n",
       "  1,\n",
       "  5,\n",
       "  2,\n",
       "  735],\n",
       " ['adam',\n",
       "  0.0007259608918391947,\n",
       "  'relu',\n",
       "  0.8546993417610013,\n",
       "  946,\n",
       "  2,\n",
       "  3,\n",
       "  2,\n",
       "  1024],\n",
       " ['sgd_nestrov', 0.0001, 'tanh', 0.9, 468, 1, 3, 2, 474],\n",
       " ['adam',\n",
       "  0.0020861289589138845,\n",
       "  'relu',\n",
       "  0.5709219432428068,\n",
       "  912,\n",
       "  1,\n",
       "  4,\n",
       "  3,\n",
       "  964],\n",
       " ['adam',\n",
       "  0.002586891558089494,\n",
       "  'relu',\n",
       "  0.29288127820830423,\n",
       "  1024,\n",
       "  3,\n",
       "  2,\n",
       "  3,\n",
       "  816],\n",
       " ['adam',\n",
       "  0.0009429370576615554,\n",
       "  'tanh',\n",
       "  0.4240323786897292,\n",
       "  310,\n",
       "  1,\n",
       "  2,\n",
       "  4,\n",
       "  192],\n",
       " ['sgd_standard',\n",
       "  0.010002060392916677,\n",
       "  'tanh',\n",
       "  0.6913839623695397,\n",
       "  1024,\n",
       "  1,\n",
       "  3,\n",
       "  2,\n",
       "  8],\n",
       " ['sgd_nestrov', 0.01986606715216799, 'relu', 0.1, 1024, 3, 5, 4, 786],\n",
       " ['sgd_nestrov',\n",
       "  0.011931174732585864,\n",
       "  'tanh',\n",
       "  0.6457415912492891,\n",
       "  1024,\n",
       "  2,\n",
       "  3,\n",
       "  2,\n",
       "  8],\n",
       " ['sgd_nestrov',\n",
       "  0.009181412692113528,\n",
       "  'relu',\n",
       "  0.2632865933017364,\n",
       "  582,\n",
       "  1,\n",
       "  3,\n",
       "  2,\n",
       "  937],\n",
       " ['sgd_standard',\n",
       "  0.0341033659841376,\n",
       "  'tanh',\n",
       "  0.7778013910273005,\n",
       "  645,\n",
       "  2,\n",
       "  3,\n",
       "  2,\n",
       "  285],\n",
       " ['sgd_standard',\n",
       "  0.027321603619774242,\n",
       "  'sigmoid',\n",
       "  0.4142278368806639,\n",
       "  859,\n",
       "  2,\n",
       "  4,\n",
       "  3,\n",
       "  980],\n",
       " ['adam',\n",
       "  0.040762590410962536,\n",
       "  'sigmoid',\n",
       "  0.7407286015837156,\n",
       "  541,\n",
       "  2,\n",
       "  4,\n",
       "  3,\n",
       "  554],\n",
       " ['sgd_nestrov',\n",
       "  0.00020783697921338129,\n",
       "  'sigmoid',\n",
       "  0.249065874661408,\n",
       "  759,\n",
       "  1,\n",
       "  2,\n",
       "  3,\n",
       "  160],\n",
       " ['adam',\n",
       "  0.0014436667144263008,\n",
       "  'tanh',\n",
       "  0.4599599919289822,\n",
       "  634,\n",
       "  3,\n",
       "  2,\n",
       "  4,\n",
       "  672],\n",
       " ['adam',\n",
       "  0.0011870158031597254,\n",
       "  'tanh',\n",
       "  0.5862645349723743,\n",
       "  344,\n",
       "  1,\n",
       "  4,\n",
       "  4,\n",
       "  671],\n",
       " ['sgd_standard',\n",
       "  0.09680520367410021,\n",
       "  'sigmoid',\n",
       "  0.43149487058109515,\n",
       "  494,\n",
       "  2,\n",
       "  3,\n",
       "  3,\n",
       "  330],\n",
       " ['sgd_nestrov',\n",
       "  0.07058512048254183,\n",
       "  'sigmoid',\n",
       "  0.11085730848968788,\n",
       "  644,\n",
       "  2,\n",
       "  5,\n",
       "  4,\n",
       "  526],\n",
       " ['adam',\n",
       "  0.0022567198219888875,\n",
       "  'relu',\n",
       "  0.4533687369990764,\n",
       "  1003,\n",
       "  2,\n",
       "  3,\n",
       "  3,\n",
       "  903],\n",
       " ['sgd_nestrov',\n",
       "  0.0004471635680750561,\n",
       "  'sigmoid',\n",
       "  0.7920820490443082,\n",
       "  529,\n",
       "  3,\n",
       "  5,\n",
       "  2,\n",
       "  290],\n",
       " ['sgd_nestrov',\n",
       "  0.0034783254373945962,\n",
       "  'relu',\n",
       "  0.29257947668648543,\n",
       "  16,\n",
       "  1,\n",
       "  2,\n",
       "  2,\n",
       "  1024],\n",
       " ['sgd_standard',\n",
       "  0.0017126448388640806,\n",
       "  'relu',\n",
       "  0.31794113582986316,\n",
       "  625,\n",
       "  2,\n",
       "  4,\n",
       "  3,\n",
       "  1024],\n",
       " ['sgd_standard',\n",
       "  0.01393930963529934,\n",
       "  'relu',\n",
       "  0.30795404794133124,\n",
       "  1024,\n",
       "  1,\n",
       "  5,\n",
       "  2,\n",
       "  796],\n",
       " ['sgd_nestrov', 0.0002155151898145924, 'relu', 0.9, 235, 1, 5, 2, 100],\n",
       " ['sgd_standard', 0.018231141831966072, 'tanh', 0.1, 1024, 1, 4, 3, 8],\n",
       " ['adam',\n",
       "  0.0010448541357473706,\n",
       "  'tanh',\n",
       "  0.6293312196533879,\n",
       "  522,\n",
       "  1,\n",
       "  4,\n",
       "  3,\n",
       "  1024],\n",
       " ['adam', 0.024663302694594675, 'tanh', 0.22867159777389445, 16, 1, 3, 4, 227],\n",
       " ['sgd_standard', 0.0001, 'sigmoid', 0.9, 1024, 2, 3, 2, 302],\n",
       " ['adam',\n",
       "  0.0010840661193013787,\n",
       "  'relu',\n",
       "  0.5828515894408479,\n",
       "  595,\n",
       "  1,\n",
       "  4,\n",
       "  4,\n",
       "  259],\n",
       " ['sgd_standard',\n",
       "  0.016667591377423928,\n",
       "  'relu',\n",
       "  0.534580748451625,\n",
       "  1024,\n",
       "  3,\n",
       "  3,\n",
       "  2,\n",
       "  336],\n",
       " ['adam',\n",
       "  0.0025093955895875227,\n",
       "  'relu',\n",
       "  0.3050420391559615,\n",
       "  1024,\n",
       "  1,\n",
       "  5,\n",
       "  3,\n",
       "  770],\n",
       " ['sgd_nestrov',\n",
       "  0.008833262101524382,\n",
       "  'relu',\n",
       "  0.41343817762938595,\n",
       "  16,\n",
       "  2,\n",
       "  2,\n",
       "  3,\n",
       "  684],\n",
       " ['sgd_standard',\n",
       "  0.011427857210581292,\n",
       "  'relu',\n",
       "  0.8432066000808922,\n",
       "  675,\n",
       "  2,\n",
       "  4,\n",
       "  2,\n",
       "  1024],\n",
       " ['sgd_nestrov',\n",
       "  0.004709311843315841,\n",
       "  'relu',\n",
       "  0.4285557750254344,\n",
       "  859,\n",
       "  3,\n",
       "  2,\n",
       "  4,\n",
       "  992],\n",
       " ['adam',\n",
       "  0.0015313946850321926,\n",
       "  'relu',\n",
       "  0.49214543246681697,\n",
       "  1024,\n",
       "  3,\n",
       "  2,\n",
       "  4,\n",
       "  1024],\n",
       " ['adam', 0.012011667767644502, 'relu', 0.9, 574, 1, 4, 2, 8],\n",
       " ['sgd_standard', 0.017439136889327612, 'relu', 0.1, 1024, 1, 5, 3, 618],\n",
       " ['adam',\n",
       "  0.011166727577444786,\n",
       "  'relu',\n",
       "  0.5401705654848915,\n",
       "  1024,\n",
       "  2,\n",
       "  5,\n",
       "  4,\n",
       "  1024],\n",
       " ['sgd_nestrov',\n",
       "  0.009800402113440033,\n",
       "  'relu',\n",
       "  0.4986211485860571,\n",
       "  256,\n",
       "  2,\n",
       "  5,\n",
       "  2,\n",
       "  973],\n",
       " ['adam', 0.005116680997730767, 'relu', 0.5799261714800578, 465, 1, 4, 2, 823],\n",
       " ['sgd_standard',\n",
       "  0.005403704953739808,\n",
       "  'tanh',\n",
       "  0.6222071103660929,\n",
       "  776,\n",
       "  1,\n",
       "  4,\n",
       "  2,\n",
       "  614],\n",
       " ['sgd_standard',\n",
       "  0.01686492541073691,\n",
       "  'sigmoid',\n",
       "  0.8740836565480973,\n",
       "  576,\n",
       "  1,\n",
       "  5,\n",
       "  4,\n",
       "  195],\n",
       " ['sgd_standard',\n",
       "  0.013506515601644847,\n",
       "  'tanh',\n",
       "  0.1348996397904222,\n",
       "  681,\n",
       "  1,\n",
       "  4,\n",
       "  2,\n",
       "  645],\n",
       " ['sgd_standard',\n",
       "  0.0341033659841376,\n",
       "  'tanh',\n",
       "  0.7778013910273005,\n",
       "  645,\n",
       "  2,\n",
       "  3,\n",
       "  2,\n",
       "  285],\n",
       " ['sgd_standard',\n",
       "  0.027321603619774242,\n",
       "  'sigmoid',\n",
       "  0.4142278368806639,\n",
       "  859,\n",
       "  2,\n",
       "  4,\n",
       "  3,\n",
       "  980],\n",
       " ['adam',\n",
       "  0.040762590410962536,\n",
       "  'sigmoid',\n",
       "  0.7407286015837156,\n",
       "  541,\n",
       "  2,\n",
       "  4,\n",
       "  3,\n",
       "  554],\n",
       " ['sgd_nestrov',\n",
       "  0.00020783697921338129,\n",
       "  'sigmoid',\n",
       "  0.249065874661408,\n",
       "  759,\n",
       "  1,\n",
       "  2,\n",
       "  3,\n",
       "  160],\n",
       " ['adam',\n",
       "  0.0014436667144263008,\n",
       "  'tanh',\n",
       "  0.4599599919289822,\n",
       "  634,\n",
       "  3,\n",
       "  2,\n",
       "  4,\n",
       "  672],\n",
       " ['adam',\n",
       "  0.0011870158031597254,\n",
       "  'tanh',\n",
       "  0.5862645349723743,\n",
       "  344,\n",
       "  1,\n",
       "  4,\n",
       "  4,\n",
       "  671],\n",
       " ['sgd_standard',\n",
       "  0.09680520367410021,\n",
       "  'sigmoid',\n",
       "  0.43149487058109515,\n",
       "  494,\n",
       "  2,\n",
       "  3,\n",
       "  3,\n",
       "  330],\n",
       " ['sgd_nestrov',\n",
       "  0.07058512048254183,\n",
       "  'sigmoid',\n",
       "  0.11085730848968788,\n",
       "  644,\n",
       "  2,\n",
       "  5,\n",
       "  4,\n",
       "  526],\n",
       " ['adam',\n",
       "  0.0022567198219888875,\n",
       "  'relu',\n",
       "  0.4533687369990764,\n",
       "  1003,\n",
       "  2,\n",
       "  3,\n",
       "  3,\n",
       "  903],\n",
       " ['sgd_nestrov',\n",
       "  0.0004471635680750561,\n",
       "  'sigmoid',\n",
       "  0.7920820490443082,\n",
       "  529,\n",
       "  3,\n",
       "  5,\n",
       "  2,\n",
       "  290],\n",
       " ['adam',\n",
       "  0.0006213275682964822,\n",
       "  'relu',\n",
       "  0.4039332761748621,\n",
       "  929,\n",
       "  2,\n",
       "  5,\n",
       "  3,\n",
       "  737],\n",
       " ['sgd_nestrov',\n",
       "  0.001068442349873466,\n",
       "  'tanh',\n",
       "  0.6260467259472724,\n",
       "  178,\n",
       "  1,\n",
       "  5,\n",
       "  2,\n",
       "  506],\n",
       " ['adam',\n",
       "  0.0016266156838570388,\n",
       "  'sigmoid',\n",
       "  0.7207080134016646,\n",
       "  635,\n",
       "  1,\n",
       "  5,\n",
       "  3,\n",
       "  942],\n",
       " ['sgd_standard',\n",
       "  0.005432720172746963,\n",
       "  'relu',\n",
       "  0.5946889595410307,\n",
       "  1024,\n",
       "  1,\n",
       "  4,\n",
       "  4,\n",
       "  169],\n",
       " ['sgd_standard',\n",
       "  0.01707573530039931,\n",
       "  'tanh',\n",
       "  0.870047504971151,\n",
       "  492,\n",
       "  1,\n",
       "  5,\n",
       "  2,\n",
       "  196],\n",
       " ['sgd_nestrov',\n",
       "  0.00843117267426372,\n",
       "  'tanh',\n",
       "  0.5605875405923295,\n",
       "  668,\n",
       "  1,\n",
       "  5,\n",
       "  3,\n",
       "  837],\n",
       " ['sgd_standard',\n",
       "  0.0010330150333113684,\n",
       "  'relu',\n",
       "  0.4492116673193576,\n",
       "  891,\n",
       "  1,\n",
       "  3,\n",
       "  4,\n",
       "  294],\n",
       " ['sgd_standard',\n",
       "  0.007029844664328729,\n",
       "  'tanh',\n",
       "  0.23429194444840004,\n",
       "  407,\n",
       "  2,\n",
       "  4,\n",
       "  2,\n",
       "  591],\n",
       " ['sgd_nestrov',\n",
       "  0.007852757239094331,\n",
       "  'relu',\n",
       "  0.49919932866961103,\n",
       "  1024,\n",
       "  1,\n",
       "  5,\n",
       "  2,\n",
       "  850],\n",
       " ['adam',\n",
       "  0.0007737539586104981,\n",
       "  'relu',\n",
       "  0.8294253686330628,\n",
       "  1024,\n",
       "  2,\n",
       "  5,\n",
       "  4,\n",
       "  452],\n",
       " ['sgd_standard',\n",
       "  0.011935627250266853,\n",
       "  'relu',\n",
       "  0.35706817130502944,\n",
       "  164,\n",
       "  1,\n",
       "  5,\n",
       "  2,\n",
       "  119],\n",
       " ['sgd_standard',\n",
       "  0.024970130591773193,\n",
       "  'relu',\n",
       "  0.44031820341633043,\n",
       "  1024,\n",
       "  2,\n",
       "  5,\n",
       "  2,\n",
       "  8],\n",
       " ['adam', 0.004301812983096963, 'relu', 0.9, 379, 3, 5, 4, 743],\n",
       " ['adam', 0.005786395279512588, 'relu', 0.48172898692735, 58, 1, 4, 2, 874],\n",
       " ['adam',\n",
       "  0.0024902887200441196,\n",
       "  'relu',\n",
       "  0.39466895798505497,\n",
       "  715,\n",
       "  1,\n",
       "  3,\n",
       "  3,\n",
       "  1024],\n",
       " ['sgd_standard',\n",
       "  0.01966677542725376,\n",
       "  'tanh',\n",
       "  0.45931972555847833,\n",
       "  1024,\n",
       "  2,\n",
       "  3,\n",
       "  2,\n",
       "  97],\n",
       " ['sgd_standard',\n",
       "  0.01189830274758373,\n",
       "  'relu',\n",
       "  0.39131157963367447,\n",
       "  1024,\n",
       "  2,\n",
       "  5,\n",
       "  2,\n",
       "  454],\n",
       " ['sgd_standard',\n",
       "  0.02861555113638092,\n",
       "  'relu',\n",
       "  0.47694813095573585,\n",
       "  272,\n",
       "  2,\n",
       "  5,\n",
       "  2,\n",
       "  32],\n",
       " ['sgd_nestrov',\n",
       "  0.005818162122301174,\n",
       "  'relu',\n",
       "  0.48544840630400454,\n",
       "  1024,\n",
       "  2,\n",
       "  3,\n",
       "  3,\n",
       "  873],\n",
       " ['sgd_nestrov',\n",
       "  0.0033310325959335133,\n",
       "  'relu',\n",
       "  0.27185002323982094,\n",
       "  1005,\n",
       "  2,\n",
       "  5,\n",
       "  4,\n",
       "  1024],\n",
       " ['sgd_nestrov',\n",
       "  0.009274680961319805,\n",
       "  'relu',\n",
       "  0.21456736737400575,\n",
       "  1024,\n",
       "  3,\n",
       "  5,\n",
       "  2,\n",
       "  975],\n",
       " ['sgd_standard',\n",
       "  0.0341033659841376,\n",
       "  'tanh',\n",
       "  0.7778013910273005,\n",
       "  645,\n",
       "  2,\n",
       "  3,\n",
       "  2,\n",
       "  285],\n",
       " ['sgd_standard',\n",
       "  0.027321603619774242,\n",
       "  'sigmoid',\n",
       "  0.4142278368806639,\n",
       "  859,\n",
       "  2,\n",
       "  4,\n",
       "  3,\n",
       "  980],\n",
       " ['adam',\n",
       "  0.040762590410962536,\n",
       "  'sigmoid',\n",
       "  0.7407286015837156,\n",
       "  541,\n",
       "  2,\n",
       "  4,\n",
       "  3,\n",
       "  554],\n",
       " ['sgd_nestrov',\n",
       "  0.00020783697921338129,\n",
       "  'sigmoid',\n",
       "  0.249065874661408,\n",
       "  759,\n",
       "  1,\n",
       "  2,\n",
       "  3,\n",
       "  160],\n",
       " ['adam',\n",
       "  0.0014436667144263008,\n",
       "  'tanh',\n",
       "  0.4599599919289822,\n",
       "  634,\n",
       "  3,\n",
       "  2,\n",
       "  4,\n",
       "  672],\n",
       " ['adam',\n",
       "  0.0011870158031597254,\n",
       "  'tanh',\n",
       "  0.5862645349723743,\n",
       "  344,\n",
       "  1,\n",
       "  4,\n",
       "  4,\n",
       "  671],\n",
       " ['sgd_standard',\n",
       "  0.09680520367410021,\n",
       "  'sigmoid',\n",
       "  0.43149487058109515,\n",
       "  494,\n",
       "  2,\n",
       "  3,\n",
       "  3,\n",
       "  330],\n",
       " ['sgd_nestrov',\n",
       "  0.07058512048254183,\n",
       "  'sigmoid',\n",
       "  0.11085730848968788,\n",
       "  644,\n",
       "  2,\n",
       "  5,\n",
       "  4,\n",
       "  526],\n",
       " ['adam',\n",
       "  0.0022567198219888875,\n",
       "  'relu',\n",
       "  0.4533687369990764,\n",
       "  1003,\n",
       "  2,\n",
       "  3,\n",
       "  3,\n",
       "  903],\n",
       " ['sgd_nestrov',\n",
       "  0.0004471635680750561,\n",
       "  'sigmoid',\n",
       "  0.7920820490443082,\n",
       "  529,\n",
       "  3,\n",
       "  5,\n",
       "  2,\n",
       "  290],\n",
       " ['sgd_standard',\n",
       "  0.009030568967188917,\n",
       "  'tanh',\n",
       "  0.47447142637434636,\n",
       "  583,\n",
       "  3,\n",
       "  5,\n",
       "  3,\n",
       "  8],\n",
       " ['sgd_nestrov', 0.02281840065394768, 'relu', 0.1, 730, 1, 2, 2, 1024],\n",
       " ['sgd_nestrov', 0.0005263010579722746, 'relu', 0.1, 755, 1, 5, 4, 1024],\n",
       " ['sgd_standard',\n",
       "  0.015482787962249034,\n",
       "  'tanh',\n",
       "  0.2428273962352463,\n",
       "  66,\n",
       "  1,\n",
       "  2,\n",
       "  2,\n",
       "  906],\n",
       " ['sgd_nestrov', 0.006264152110426391, 'relu', 0.1, 598, 1, 2, 3, 948],\n",
       " ['sgd_nestrov',\n",
       "  0.0030485435091231047,\n",
       "  'relu',\n",
       "  0.3201720783364144,\n",
       "  682,\n",
       "  2,\n",
       "  2,\n",
       "  4,\n",
       "  934],\n",
       " ['adam', 0.003938956409237887, 'relu', 0.4654999621270707, 638, 1, 3, 2, 8],\n",
       " ['adam', 0.0006546527673965759, 'relu', 0.1, 758, 3, 3, 2, 1024],\n",
       " ['sgd_nestrov',\n",
       "  0.010653626072366843,\n",
       "  'relu',\n",
       "  0.4170808652054062,\n",
       "  415,\n",
       "  1,\n",
       "  3,\n",
       "  2,\n",
       "  948],\n",
       " ['sgd_standard',\n",
       "  0.004464950536097379,\n",
       "  'relu',\n",
       "  0.4721898555852616,\n",
       "  1024,\n",
       "  1,\n",
       "  4,\n",
       "  2,\n",
       "  8],\n",
       " ['adam', 0.0027808706573707064, 'relu', 0.1, 1024, 3, 5, 4, 1024],\n",
       " ['adam',\n",
       "  0.004659043576737048,\n",
       "  'relu',\n",
       "  0.38071577065232365,\n",
       "  1024,\n",
       "  1,\n",
       "  5,\n",
       "  3,\n",
       "  914]]"
      ]
     },
     "execution_count": 21,
     "metadata": {
      "tags": []
     },
     "output_type": "execute_result"
    }
   ],
   "source": [
    "res.x_iters"
   ]
  },
  {
   "cell_type": "code",
   "execution_count": 0,
   "metadata": {
    "colab": {
     "base_uri": "https://localhost:8080/",
     "height": 394
    },
    "colab_type": "code",
    "executionInfo": {
     "elapsed": 1361,
     "status": "ok",
     "timestamp": 1549104056738,
     "user": {
      "displayName": "Andrew Mackay",
      "photoUrl": "https://lh3.googleusercontent.com/-24hiGmdxZDE/AAAAAAAAAAI/AAAAAAAAL_I/RW7nqM11LkM/s64/photo.jpg",
      "userId": "06804410358976473893"
     },
     "user_tz": 0
    },
    "id": "zobZQaLnvUDm",
    "outputId": "16c0325f-c16d-48ce-f401-ab8a5a81f616"
   },
   "outputs": [
    {
     "data": {
      "text/plain": [
       "<matplotlib.axes._subplots.AxesSubplot at 0x7f63ce9e6ba8>"
      ]
     },
     "execution_count": 22,
     "metadata": {
      "tags": []
     },
     "output_type": "execute_result"
    },
    {
     "data": {
      "image/png": "[encoded data removed]",
      "text/plain": [
       "<Figure size 576x396 with 1 Axes>"
      ]
     },
     "metadata": {
      "tags": []
     },
     "output_type": "display_data"
    }
   ],
   "source": [
    "plot_convergence(res_gp)"
   ]
  },
  {
   "cell_type": "code",
   "execution_count": 0,
   "metadata": {
    "colab": {},
    "colab_type": "code",
    "id": "JSHDkZVtwAyX"
   },
   "outputs": [],
   "source": [
    "# dimensions = ['optimizer', 'learning_rate', 'activation', 'dropout',\n",
    "#               'num_dense_nodes', 'num_dense_layers', 'kernel_size',\n",
    "#               'pooling_size','batch_size']\n",
    "\n",
    "# for dimension in dimensions:\n",
    "#     plot_histogram(result=res_gp,\n",
    "#                    dimension_name=dimension)"
   ]
  },
  {
   "cell_type": "code",
   "execution_count": 0,
   "metadata": {
    "colab": {},
    "colab_type": "code",
    "id": "D7_DgFjv0lhQ"
   },
   "outputs": [],
   "source": []
  }
 ],
 "metadata": {
  "colab": {
   "collapsed_sections": [],
   "name": "8_CNN_hyperparameter_search.ipynb",
   "provenance": [],
   "version": "0.3.2"
  },
  "kernelspec": {
   "display_name": "Python 3",
   "language": "python",
   "name": "python3"
  },
  "language_info": {
   "codemirror_mode": {
    "name": "ipython",
    "version": 3
   },
   "file_extension": ".py",
   "mimetype": "text/x-python",
   "name": "python",
   "nbconvert_exporter": "python",
   "pygments_lexer": "ipython3",
   "version": "3.6.6"
  }
 },
 "nbformat": 4,
 "nbformat_minor": 1
}
