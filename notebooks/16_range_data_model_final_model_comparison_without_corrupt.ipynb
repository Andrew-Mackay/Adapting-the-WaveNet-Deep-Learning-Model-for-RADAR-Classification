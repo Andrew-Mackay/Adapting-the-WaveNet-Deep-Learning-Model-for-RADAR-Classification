{
 "cells": [
  {
   "cell_type": "markdown",
   "metadata": {
    "colab_type": "text",
    "id": "znku3TNhZY2m"
   },
   "source": [
    "# Final Evalaution of range data model\n",
    "\n",
    "## Evaluation 1:\n",
    "First the model is trained on subjects A, B, D, E, F. The model is then evaluated on the test subject C. Up until this point the model has not been exposed to this data.\n",
    "\n",
    "## Evaluation 2:\n",
    "Expose the model to a set of data from all subjects during the training/validation process then use a different set, also containing data from all the subjects for testing. The data was split 60% training, 20% validation and 20% testing. Five-fold cross-validation was used.\n",
    "\n",
    "## Evaluation 3:\n",
    "Six-fold subject-wise cross-validation (one fold for each subject).\n",
    "\n",
    "The model was chosen in notebook 11, the data input in notebook 12, the causal vs non-causal design compared in notebook 13, regularization investigated in notebook 14 and the hyperparameters chosen from 15.\n"
   ]
  },
  {
   "cell_type": "markdown",
   "metadata": {
    "colab_type": "text",
    "id": "pzQ2KCGPKEix"
   },
   "source": [
    "From inspection of the dataset it was found that the last 14% of mesuremtns from each recording of subject F was corrpupted and contained only zero values. This notebook reruns the work conducted in notebook 16 but excludes subject F. This corrupt data is removed for this evaluation."
   ]
  },
  {
   "cell_type": "markdown",
   "metadata": {
    "colab_type": "text",
    "id": "bZxhO7V0ZHUE"
   },
   "source": [
    "## Notebook setup"
   ]
  },
  {
   "cell_type": "code",
   "execution_count": 1,
   "metadata": {
    "colab": {},
    "colab_type": "code",
    "id": "TGNeUj-JDXhs"
   },
   "outputs": [],
   "source": [
    "# Plot graphs inline\n",
    "%matplotlib inline"
   ]
  },
  {
   "cell_type": "markdown",
   "metadata": {
    "colab_type": "text",
    "id": "QwLbqieVYIJt"
   },
   "source": [
    "The following cell is needed for compatibility when using both CoLab and Local Jupyter notebook. It sets the appropriate file path for the data."
   ]
  },
  {
   "cell_type": "code",
   "execution_count": 2,
   "metadata": {
    "colab": {
     "base_uri": "https://localhost:8080/",
     "height": 127
    },
    "colab_type": "code",
    "executionInfo": {
     "elapsed": 21897,
     "status": "ok",
     "timestamp": 1552727330419,
     "user": {
      "displayName": "Andrew Mackay",
      "photoUrl": "https://lh3.googleusercontent.com/-24hiGmdxZDE/AAAAAAAAAAI/AAAAAAAAL_I/RW7nqM11LkM/s64/photo.jpg",
      "userId": "06804410358976473893"
     },
     "user_tz": 0
    },
    "id": "3XeU0HtoDXh6",
    "outputId": "8dfc45b7-3faa-4512-e838-ebbdab31921c"
   },
   "outputs": [],
   "source": [
    "import os\n",
    "path = os.getcwd()\n",
    "if path == '/content':\n",
    "    from google.colab import drive\n",
    "    drive.mount('/content/gdrive')\n",
    "    BASE_PATH = '/content/gdrive/My Drive/Level-4-Project/'\n",
    "    os.chdir('gdrive/My Drive/Level-4-Project/')\n",
    "    \n",
    "elif path == 'D:\\\\Google Drive\\\\Level-4-Project\\\\notebooks':\n",
    "    BASE_PATH = \"D:/Google Drive/Level-4-Project/\"\n",
    "    \n",
    "elif path == \"/export/home/2192793m\":\n",
    "    BASE_PATH = \"/export/home/2192793m/Level-4-Project/\"\n",
    "    \n",
    "    \n",
    "DATA_PATH_MTI = BASE_PATH + 'data/processed/range_FFT/3/MTI_applied/' # not used\n",
    "DATA_PATH_NO_MTI = BASE_PATH + 'data/processed/range_FFT/3/MTI_not_applied/'\n",
    "\n",
    "RESULTS_PATH = BASE_PATH + 'results/range_data_model_final_evaluation_without_corrupt/'\n",
    "HYPERPARAMETER_PATH = BASE_PATH + 'results/range_data_model_hyperparameter_search/'\n",
    "\n",
    "if not os.path.exists(RESULTS_PATH):\n",
    "    os.makedirs(RESULTS_PATH)"
   ]
  },
  {
   "cell_type": "code",
   "execution_count": 3,
   "metadata": {
    "colab": {
     "base_uri": "https://localhost:8080/",
     "height": 35
    },
    "colab_type": "code",
    "executionInfo": {
     "elapsed": 2338,
     "status": "ok",
     "timestamp": 1552727334006,
     "user": {
      "displayName": "Andrew Mackay",
      "photoUrl": "https://lh3.googleusercontent.com/-24hiGmdxZDE/AAAAAAAAAAI/AAAAAAAAL_I/RW7nqM11LkM/s64/photo.jpg",
      "userId": "06804410358976473893"
     },
     "user_tz": 0
    },
    "id": "QW7Fa5jTCDXo",
    "outputId": "61b090c1-defe-4731-b643-abd3c815ec1f"
   },
   "outputs": [
    {
     "name": "stderr",
     "output_type": "stream",
     "text": [
      "Using TensorFlow backend.\n"
     ]
    }
   ],
   "source": [
    "from keras import backend as K \n",
    "import numpy as np\n",
    "import matplotlib.pyplot as plt\n",
    "import pickle\n",
    "from sklearn.metrics import confusion_matrix\n",
    "from keras.utils import Sequence, to_categorical\n",
    "from keras.layers import Input, Conv1D, Multiply, Add, Activation, AveragePooling1D, Flatten, Dense\n",
    "from keras.layers import BatchNormalization\n",
    "from keras.regularizers import l2\n",
    "from keras.models import Model\n",
    "from keras.callbacks import EarlyStopping\n",
    "import sys"
   ]
  },
  {
   "cell_type": "code",
   "execution_count": 4,
   "metadata": {
    "colab": {
     "base_uri": "https://localhost:8080/",
     "height": 269
    },
    "colab_type": "code",
    "executionInfo": {
     "elapsed": 8167,
     "status": "ok",
     "timestamp": 1552561654675,
     "user": {
      "displayName": "Andrew Mackay",
      "photoUrl": "https://lh3.googleusercontent.com/-24hiGmdxZDE/AAAAAAAAAAI/AAAAAAAAL_I/RW7nqM11LkM/s64/photo.jpg",
      "userId": "06804410358976473893"
     },
     "user_tz": 0
    },
    "id": "tk_HAyYKYrI8",
    "outputId": "f7763203-aa7a-4bce-efec-9c1f9b2781b1"
   },
   "outputs": [],
   "source": [
    "# needed for CheckpointSaver\n",
    "# https://github.com/scikit-optimize/scikit-optimize/issues/678\n",
    "# ! pip install git+https://github.com/scikit-optimize/scikit-optimize/ \n",
    "from skopt import load"
   ]
  },
  {
   "cell_type": "markdown",
   "metadata": {
    "colab_type": "text",
    "id": "vxIKU3-fTUy7"
   },
   "source": [
    "## Data Setup"
   ]
  },
  {
   "cell_type": "code",
   "execution_count": 5,
   "metadata": {
    "colab": {},
    "colab_type": "code",
    "id": "sj59Pvxv5CX9"
   },
   "outputs": [],
   "source": [
    "# Load in data dictionary.\n",
    "# This does not load in any actual data,\n",
    "# just the dictionary with the names of the files and their associated labels\n",
    "with open(DATA_PATH_NO_MTI + \"index.pkl\", \"rb\") as file:\n",
    "    data = pickle.load(file)"
   ]
  },
  {
   "cell_type": "code",
   "execution_count": 6,
   "metadata": {
    "colab": {},
    "colab_type": "code",
    "id": "TQIwQ8EACdIQ"
   },
   "outputs": [],
   "source": [
    "def convert_label_to_int(label):\n",
    "    \"\"\"\n",
    "    Convert each label to an integer\n",
    "    :param label: action label to convert\n",
    "    :return: integer representation of the action\n",
    "    \"\"\"\n",
    "    if label == \"walking\":\n",
    "        return 0\n",
    "    if label == \"pushing\":\n",
    "        return 1\n",
    "    if label == \"sitting\":\n",
    "        return 2\n",
    "    if label == \"pulling\":\n",
    "        return 3\n",
    "    if label == \"circling\":\n",
    "        return 4\n",
    "    if label == \"clapping\":\n",
    "        return 5\n",
    "    if label == \"bending\":\n",
    "        return 6"
   ]
  },
  {
   "cell_type": "code",
   "execution_count": 7,
   "metadata": {
    "colab": {},
    "colab_type": "code",
    "id": "n4fd5mwu11f9"
   },
   "outputs": [],
   "source": [
    "target_names = [\"walking\", \"pushing\", \"sitting\", \"pulling\", \"circling\", \"clapping\", \"bending\"]\n",
    "nb_classes = len(target_names)"
   ]
  },
  {
   "cell_type": "code",
   "execution_count": 8,
   "metadata": {
    "colab": {},
    "colab_type": "code",
    "id": "ujCL5w0oKEkF"
   },
   "outputs": [],
   "source": [
    "# Remove corrupt data from F\n",
    "# 570 files per 60s recording\n",
    "# From investigating the files, final 14% is corrupted\n",
    "# T0 be sure, remove final 20%\n",
    "# 570 * 0.2 = 114\n",
    "# slice :456\n",
    "for target in target_names:\n",
    "    for i in range(len(data['F'][target])):\n",
    "        data['F'][target][i] = data['F'][target][i][:456]"
   ]
  },
  {
   "cell_type": "markdown",
   "metadata": {
    "colab_type": "text",
    "id": "0ah1RGSSTYfQ"
   },
   "source": [
    "## DataGenerator"
   ]
  },
  {
   "cell_type": "code",
   "execution_count": 9,
   "metadata": {
    "colab": {},
    "colab_type": "code",
    "id": "_gOcp1JeSop2"
   },
   "outputs": [],
   "source": [
    "class DataGenerator(Sequence):\n",
    "    \"\"\"\n",
    "    Based on code from https://stanford.edu/~shervine/blog/keras-how-to-generate-data-on-the-fly\n",
    "    Keras data generator\n",
    "    \"\"\"\n",
    "    def __init__(self, list_IDs, labels, batch_size=32, dim=(3000),\n",
    "                 n_classes=7, shuffle=False, data_directory='data/',\n",
    "                 bin_range=(0,60), take_average=False, every_second_cell=False):\n",
    "        \"\"\"\n",
    "        Initialization\n",
    "        :param list_IDs: IDs of files to train with\n",
    "        :param labels: index to get associated label from file id\n",
    "        :param batch_size: batch size\n",
    "        :param dim: dimension of the input data\n",
    "        :param n_classes: number of classes\n",
    "        :param shuffle: shuffle data after each epoch toggle\n",
    "        :param data_directory: path to the data\n",
    "        :param bin_range: which range bins to use\n",
    "        :param take_average: use the average of all cells toggle\n",
    "        :param every_second_cell: use every second cell toggle\n",
    "        \"\"\"\n",
    "        self.dim = dim\n",
    "        self.batch_size = batch_size\n",
    "        self.labels = labels\n",
    "        self.list_IDs = list_IDs\n",
    "        self.n_classes = n_classes\n",
    "        self.shuffle = shuffle\n",
    "        self.data_directory = data_directory\n",
    "        self.bin_range=bin_range\n",
    "        self.take_average = take_average\n",
    "        self.every_second_cell = every_second_cell\n",
    "        self.indexes = None\n",
    "        self.on_epoch_end()\n",
    "\n",
    "    def __len__(self):\n",
    "        \"\"\"Denotes the number of batches per epoch\"\"\"\n",
    "        return int(np.floor(len(self.list_IDs) / self.batch_size))\n",
    "\n",
    "    def __getitem__(self, index):\n",
    "        \"\"\"Generate one batch of data\"\"\"\n",
    "\n",
    "        # Generate indexes of the batch\n",
    "        indexes = self.indexes[index*self.batch_size:(index+1)*self.batch_size]\n",
    "\n",
    "        # Find list of IDs\n",
    "        list_IDs_temp = [self.list_IDs[k] for k in indexes]\n",
    "\n",
    "        # Generate data\n",
    "        X, y = self.__data_generation(list_IDs_temp)\n",
    "\n",
    "        return X, y\n",
    "\n",
    "    def on_epoch_end(self):\n",
    "        \"\"\"Updates indexes after each epoch\"\"\"\n",
    "        self.indexes = np.arange(len(self.list_IDs))\n",
    "        if self.shuffle:\n",
    "            np.random.shuffle(self.indexes)\n",
    "\n",
    "    def __data_generation(self, list_IDs_temp):\n",
    "        \"\"\"Generates data containing batch_size samples\"\"\"\n",
    "        # Initialization\n",
    "        X = np.empty((self.batch_size, *self.dim))\n",
    "\n",
    "        y = np.empty((self.batch_size), dtype=int)\n",
    "\n",
    "        # Generate data\n",
    "        for i, ID in enumerate(list_IDs_temp):\n",
    "            # Store sample\n",
    "            if self.take_average:\n",
    "                X[i,] = abs(np.average(np.load(self.data_directory + ID), axis=1)[:,np.newaxis])\n",
    "                \n",
    "            elif self.every_second_cell:\n",
    "                X[i,] = abs(np.load(self.data_directory + ID))[:,::2]\n",
    "                \n",
    "            else:\n",
    "                X[i,] = abs(np.load(self.data_directory + ID))[:,self.bin_range[0]:self.bin_range[1]]\n",
    "                \n",
    "            # Store class\n",
    "            y[i] = self.labels[ID]\n",
    "\n",
    "        return X, to_categorical(y, num_classes=self.n_classes)"
   ]
  },
  {
   "cell_type": "markdown",
   "metadata": {
    "colab_type": "text",
    "id": "88LpWZJeTfj2"
   },
   "source": [
    "## Model: Wavenet model with classification adaption from the original paper\n",
    "Keras implementation of the WaveNet model based on implementations by\n",
    "https://github.com/basveeling/wavenet and https://github.com/mjpyeon/wavenet-classifier\n",
    "\n",
    "This model has then been adapted to the classification task based on the\n",
    "instructions from the paper \"WAVENET: A GENERATIVE MODEL FOR RAW AUDIO\" \n",
    "(https://arxiv.org/pdf/1609.03499.pdf)\n",
    "\n",
    "Specifically:\n",
    "\"For this task we added a mean-pooling layer after the dilated convolutions that aggregated the activations to coarser frames spanning 10 milliseconds (160× downsampling).  The pooling layer was followed by a few non-causal convolutions.\""
   ]
  },
  {
   "cell_type": "code",
   "execution_count": 10,
   "metadata": {
    "colab": {},
    "colab_type": "code",
    "id": "6NQPywYkKEkm"
   },
   "outputs": [],
   "source": [
    "class WaveNetClassifier:\n",
    "    \"\"\"\n",
    "    Keras implementation of the WaveNet model based on implementations by\n",
    "    https://github.com/basveeling/wavenet and https://github.com/mjpyeon/wavenet-classifier\n",
    "    \n",
    "    This model has then been adapted to the classification task based on the\n",
    "    instructions from the paper \"WAVENET: A GENERATIVE MODEL FOR RAW AUDIO\" \n",
    "    (https://arxiv.org/pdf/1609.03499.pdf)\n",
    "    \"\"\"\n",
    "    def __init__(self, input_shape, output_shape, kernel_size=2, dilation_depth=9, nb_stacks=1, nb_filters=40,\n",
    "                 pool_size=80, kernel_size_2=100, use_skip_connections=True, causal=True, residual_l2=0.001,\n",
    "                 conv_l2=0.001, fully_l2=0.001, use_batch_norm=True, num_dense_nodes=512):\n",
    "        \"\"\"\n",
    "        Initialization\n",
    "        :param input_shape: input shape of the data\n",
    "        :param output_shape: number of classes\n",
    "        :param kernel_size: kernel size for conv layers in stacks\n",
    "        :param dilation_depth: number of dilated CNN layers per stack\n",
    "        :param nb_stacks: number of stacks of dilated blocks\n",
    "        :param nb_filters: number of filters for each conv layer\n",
    "        :param pool_size: pooling size for average pooling layer\n",
    "        :param kernel_size_2: kernel size for conv layers after stacks\n",
    "        :param use_skip_connections: use skip connections toggle\n",
    "        :param causal: use causal variant of model toggle\n",
    "        :param residual_l2: value for l2 regularization in residual block\n",
    "        :param conv_l2: l2 value for stack of standard conv layers\n",
    "        :param fully_l2: l2 value for fully connected layer\n",
    "        :param use_batch_norm: use batch norm toggle\n",
    "        :param num_dense_nodes: number of dense nodes in fully connected layer\n",
    "        \"\"\"\n",
    "        self.activation = 'softmax'\n",
    "        self.pool_size = pool_size\n",
    "        self.kernel_size_2 = kernel_size_2 # kernel size for later conV 1d (not dilated)\n",
    "        self.nb_stacks = nb_stacks\n",
    "        self.kernel_size = kernel_size # kernel size for dilated  layers\n",
    "        self.dilation_depth = dilation_depth\n",
    "        self.nb_filters = nb_filters\n",
    "        self.residual_l2 = residual_l2 # l2 value for residual layers\n",
    "        self.conv_l2 = conv_l2 # l2 value for stack of standard conv layers\n",
    "        self.fully_l2 = fully_l2 # l2 value for fully connected layer\n",
    "        self.use_skip_connections = use_skip_connections\n",
    "        self.use_batch_norm = use_batch_norm\n",
    "        self.num_dense_nodes = num_dense_nodes\n",
    "        self.input_shape = input_shape\n",
    "        self.output_shape = output_shape\n",
    "        if causal:\n",
    "            self.padding = 'causal'\n",
    "        else:\n",
    "            self.padding = 'same'\n",
    "\n",
    "        if len(input_shape) == 1:\n",
    "            self.expand_dims = True\n",
    "        elif len(input_shape) == 2:\n",
    "            self.expand_dims = False\n",
    "        else:\n",
    "            print('ERROR: wrong input shape')\n",
    "            sys.exit()\n",
    "\n",
    "        self.model = self.build_model()\n",
    "\n",
    "    def residual_block(self, x, i, stack_nb):\n",
    "        \"\"\"\n",
    "        add a residual block\n",
    "        :param x: current model\n",
    "        :param i: dilation rate modifier\n",
    "        :param stack_nb: stack number\n",
    "        :return: model with residual block added, model for skip connection link\n",
    "        \"\"\"\n",
    "        original_x = x\n",
    "        tanh_out = Conv1D(self.nb_filters, self.kernel_size, dilation_rate=2 ** i, padding=self.padding,\n",
    "                          name='dilated_conv_%d_tanh_s%d' % (2 ** i, stack_nb), activation='tanh',\n",
    "                          kernel_regularizer=l2(self.residual_l2))(x)\n",
    "        sigm_out = Conv1D(self.nb_filters, self.kernel_size, dilation_rate=2 ** i, padding=self.padding,\n",
    "                          name='dilated_conv_%d_sigm_s%d' % (2 ** i, stack_nb), activation='sigmoid',\n",
    "                          kernel_regularizer=l2(self.residual_l2))(x)\n",
    "        x = Multiply(name='gated_activation_%d_s%d' % (i, stack_nb))([tanh_out, sigm_out])\n",
    "\n",
    "        res_x = Conv1D(self.nb_filters, 1, padding='same', kernel_regularizer=l2(self.residual_l2))(x)\n",
    "        skip_x = Conv1D(self.nb_filters, 1, padding='same', kernel_regularizer=l2(self.residual_l2))(x)\n",
    "        res_x = Add()([original_x, res_x])\n",
    "        return res_x, skip_x\n",
    "\n",
    "    def build_model(self):\n",
    "        \"\"\"\n",
    "        Build the model\n",
    "        :return: keras model\n",
    "        \"\"\"\n",
    "        input_layer = Input(shape=self.input_shape, name='input_part')\n",
    "        out = input_layer\n",
    "        skip_connections = []\n",
    "        out = Conv1D(self.nb_filters, self.kernel_size,\n",
    "                     dilation_rate=1,\n",
    "                     padding=self.padding,\n",
    "                     name='initial_causal_conv'\n",
    "                     )(out)\n",
    "        for stack_nb in range(self.nb_stacks):\n",
    "            for i in range(0, self.dilation_depth + 1):\n",
    "                out, skip_out = self.residual_block(out, i, stack_nb)\n",
    "                skip_connections.append(skip_out)\n",
    "\n",
    "        if self.use_skip_connections:\n",
    "            out = Add()(skip_connections)\n",
    "        out = Activation('relu')(out)\n",
    "        # added a mean-pooling layer after the dilated convolutions that aggregated the activations to coarser frames\n",
    "        # spanning 10 milliseconds (160× downsampling)\n",
    "        # mean pooling layer adjust pool_size_1 to change downsampling\n",
    "                \n",
    "        out = AveragePooling1D(self.pool_size, padding='same', name='mean_pooling_layer_downsampling')(out)\n",
    "\n",
    "        # few non-causal convolutions\n",
    "        # In notebooks 11, 12 and 13 self.kernel_size_2 was incorrectly represented as pooling sizes.\n",
    "        out = Conv1D(self.nb_filters, self.kernel_size_2, strides=2, padding='same', activation='relu',\n",
    "                     kernel_regularizer=l2(self.conv_l2))(out)\n",
    "        \n",
    "        if self.use_batch_norm:\n",
    "            out = BatchNormalization()(out)\n",
    "        \n",
    "        out = Conv1D(self.nb_filters, self.kernel_size_2, strides=2, padding='same', activation='relu',\n",
    "                     kernel_regularizer=l2(self.conv_l2))(out)\n",
    "        \n",
    "        if self.use_batch_norm:\n",
    "            out = BatchNormalization()(out)\n",
    "        \n",
    "        out = Conv1D(self.output_shape, self.kernel_size_2, strides=2, padding='same', activation='relu',\n",
    "                     kernel_regularizer=l2(self.conv_l2))(out)\n",
    "        \n",
    "        if self.use_batch_norm:\n",
    "            out = BatchNormalization()(out)\n",
    "        \n",
    "        out = Conv1D(self.output_shape, self.kernel_size_2, strides=2, padding='same', activation='relu',\n",
    "                     kernel_regularizer=l2(self.conv_l2))(out)\n",
    "\n",
    "        if self.use_batch_norm:\n",
    "            out = BatchNormalization()(out)\n",
    "            \n",
    "        out = Flatten()(out)\n",
    "        out = Dense(num_dense_nodes, activation='relu', kernel_regularizer=l2(self.fully_l2))(out)\n",
    "        out = Dense(self.output_shape, activation='softmax')(out)\n",
    "\n",
    "        return Model(input_layer, out)\n",
    "\n",
    "    def get_model(self):\n",
    "        return self.model\n",
    "\n",
    "    def get_summary(self):\n",
    "        self.model.summary()\n",
    "\n",
    "    def get_receptive_field(self):\n",
    "        \"\"\"\n",
    "        Compute the receptive field of the model\n",
    "        :return: receptive field\n",
    "        \"\"\"\n",
    "        k = self.kernel_size\n",
    "        n = self.dilation_depth\n",
    "        s = self.nb_stacks\n",
    "        r_s = k + (2*(k-1)*((2**(n-1))-1))  # receptive field for one stack\n",
    "        return (s*r_s) - (s-1)  # total receptive field for 's' number of stacks"
   ]
  },
  {
   "cell_type": "markdown",
   "metadata": {
    "colab_type": "text",
    "id": "g5MbyKPnKEks"
   },
   "source": [
    "# Experiment Setup"
   ]
  },
  {
   "cell_type": "code",
   "execution_count": 11,
   "metadata": {
    "colab": {},
    "colab_type": "code",
    "id": "QltC7_2nKEkw"
   },
   "outputs": [],
   "source": [
    "RUN_EVALUATION = False\n",
    "\n",
    "SAVE_RESULTS_TEST_C = False\n",
    "SAVE_GRAPHS_TEST_C = False\n",
    "\n",
    "SAVE_RESULTS_20 = False\n",
    "SAVE_GRAPHS_20 = False\n",
    "\n",
    "SAVE_RESULTS_6_FOLD = False\n",
    "SAVE_GRAPHS_6_FOLD = False"
   ]
  },
  {
   "cell_type": "markdown",
   "metadata": {
    "colab_type": "text",
    "id": "IqTqWciEKEk0"
   },
   "source": [
    "## Load Hyperparameters"
   ]
  },
  {
   "cell_type": "code",
   "execution_count": 12,
   "metadata": {
    "colab": {},
    "colab_type": "code",
    "id": "e2eM2CsVKEk2"
   },
   "outputs": [],
   "source": [
    "# needed for loading results (objective needs to be defined)\n",
    "def objective():\n",
    "    \"\"\"\n",
    "    Dummy objective function to be able to load hyperparameter search results.\n",
    "    (objective needs to be defined)\n",
    "    \"\"\"\n",
    "    return 0"
   ]
  },
  {
   "cell_type": "code",
   "execution_count": 13,
   "metadata": {
    "colab": {},
    "colab_type": "code",
    "id": "Gq8KkLYOKElB"
   },
   "outputs": [],
   "source": [
    "dimensions = ['n_filters', 'kernel_size', 'dilation_depth', 'number_of_stacks',\n",
    "              'pool_size', 'kernel_size_2', 'early_stopping_patience']\n",
    "\n",
    "res_gp = load(HYPERPARAMETER_PATH + \"res_gp_complete.pkl\")\n",
    "\n",
    "parameters = res_gp.x"
   ]
  },
  {
   "cell_type": "code",
   "execution_count": 14,
   "metadata": {
    "colab": {},
    "colab_type": "code",
    "id": "cqYdcGNXKElJ",
    "outputId": "7d959132-b665-44e0-8459-6b09dce2e390"
   },
   "outputs": [
    {
     "name": "stdout",
     "output_type": "stream",
     "text": [
      "n_filters: 32\n",
      "kernel_size: 3\n",
      "dilation_depth: 3\n",
      "number_of_stacks: 2\n",
      "pool_size: 6\n",
      "kernel_size_2: 2\n",
      "early_stopping_patience: 4\n"
     ]
    }
   ],
   "source": [
    "for index, parameter in enumerate(parameters):\n",
    "    print(dimensions[index] + \":\", parameter)"
   ]
  },
  {
   "cell_type": "code",
   "execution_count": 15,
   "metadata": {
    "colab": {},
    "colab_type": "code",
    "id": "iUCE_TQJKElU"
   },
   "outputs": [],
   "source": [
    "n_filters = int(parameters[0])\n",
    "kernel_size = int(parameters[1])\n",
    "dilation_depth = int(parameters[2])\n",
    "number_of_stacks = int(parameters[3])\n",
    "pool_size = int(parameters[4])\n",
    "kernel_size_2 = int(parameters[5])\n",
    "early_stopping_patience = int(parameters[6])"
   ]
  },
  {
   "cell_type": "markdown",
   "metadata": {
    "colab_type": "text",
    "id": "qZ-4qF_zKElj"
   },
   "source": [
    "## Set Params"
   ]
  },
  {
   "cell_type": "code",
   "execution_count": 16,
   "metadata": {
    "colab": {},
    "colab_type": "code",
    "id": "CxXVIaedsPxK"
   },
   "outputs": [],
   "source": [
    "bin_range = (0, 63)\n",
    "data_shape = (3000, 32)\n",
    "\n",
    "activation = 'softmax'\n",
    "\n",
    "epochs = 10\n",
    "batch_size = 16\n",
    "\n",
    "num_dense_nodes = 512\n",
    "\n",
    "residual_l2 = 0.001\n",
    "conv_l2 = 0.001\n",
    "fully_l2 = 0.001\n",
    "use_batch_norm = False\n",
    "\n",
    "# Parameters for data generators\n",
    "data_gen_params = {'dim': data_shape,\n",
    "                   'batch_size': batch_size,\n",
    "                   'n_classes': nb_classes,\n",
    "                   'data_directory': DATA_PATH_NO_MTI,\n",
    "                   'bin_range': bin_range,\n",
    "                   'every_second_cell': True}"
   ]
  },
  {
   "cell_type": "markdown",
   "metadata": {
    "colab_type": "text",
    "id": "Yf-JGxSXKElz"
   },
   "source": [
    "## Create Classifier"
   ]
  },
  {
   "cell_type": "code",
   "execution_count": 17,
   "metadata": {
    "colab": {},
    "colab_type": "code",
    "id": "uXM8Ty55KEl3"
   },
   "outputs": [],
   "source": [
    "wnc = WaveNetClassifier((data_shape), (nb_classes), kernel_size=kernel_size,\n",
    "                        dilation_depth=dilation_depth, nb_stacks=number_of_stacks,\n",
    "                        nb_filters=n_filters,\n",
    "                        pool_size=pool_size, kernel_size_2=kernel_size_2,\n",
    "                        residual_l2=residual_l2, conv_l2=conv_l2, fully_l2=fully_l2,\n",
    "                        use_batch_norm=use_batch_norm)"
   ]
  },
  {
   "cell_type": "markdown",
   "metadata": {
    "colab_type": "text",
    "id": "rhFcRSbwZCCw"
   },
   "source": [
    "# Evaluating on subject C"
   ]
  },
  {
   "cell_type": "code",
   "execution_count": 18,
   "metadata": {
    "colab": {},
    "colab_type": "code",
    "id": "9XWzNGmxKEmE"
   },
   "outputs": [],
   "source": [
    "def split_train_val_test_by_subject(data, test_subject):\n",
    "    \"\"\"\n",
    "    Split dataset into train set consisting of 80% of all subjects except \n",
    "    the test subject, the remaining 20% is used for the validation set and 100% of the \n",
    "    test subject is used for the test set\n",
    "    :param data: data\n",
    "    :param test_subject: subject to use for test set\n",
    "    :return: partitioned datasets\n",
    "    \"\"\"\n",
    "    labels = {}\n",
    "    partition = {'train': [], 'validation': [], 'test': []}  # contains list of training and validation ID's\n",
    "\n",
    "    for subject_letter, actions in data.items():\n",
    "        for action, results in actions.items():\n",
    "            for result in results:\n",
    "                # do not split the test subject\n",
    "                if subject_letter == test_subject:\n",
    "                    for row in result:\n",
    "                        partition[\"test\"].append(row)\n",
    "                        labels[row] = convert_label_to_int(action)\n",
    "                        \n",
    "                # if not test subject split data 80:20 (in consectutive chunks)\n",
    "                else:            \n",
    "                    res = np.array(result)\n",
    "                    # Split into 5 folds then take 1 fold for 20%\n",
    "                    split_actions = np.array_split(res, 5)\n",
    "                    for fold in range(5):\n",
    "                        data = split_actions[fold]\n",
    "                        if fold == 0:\n",
    "                            for row in data:\n",
    "                                partition[\"validation\"].append(row)\n",
    "                                labels[row] = convert_label_to_int(action)\n",
    "\n",
    "                        else:\n",
    "                            for row in data:\n",
    "                                partition[\"train\"].append(row)\n",
    "                                labels[row] = convert_label_to_int(action)       \n",
    "                                \n",
    "    return {\"complete_index\": labels, \"partition\":partition}"
   ]
  },
  {
   "cell_type": "code",
   "execution_count": 19,
   "metadata": {
    "colab": {},
    "colab_type": "code",
    "id": "PJ0jgb9GKEmP"
   },
   "outputs": [],
   "source": [
    "data_split = split_train_val_test_by_subject(data, \"C\")\n",
    "complete_index = data_split[\"complete_index\"]\n",
    "partition = data_split[\"partition\"]"
   ]
  },
  {
   "cell_type": "markdown",
   "metadata": {
    "colab_type": "text",
    "id": "mfCK-ywZKEmZ"
   },
   "source": [
    "### Train Model"
   ]
  },
  {
   "cell_type": "code",
   "execution_count": 20,
   "metadata": {
    "colab": {},
    "colab_type": "code",
    "id": "zX08HFliKEmi",
    "outputId": "b16fbe50-d18d-481f-a4f2-b1c22b71483b"
   },
   "outputs": [],
   "source": [
    "wnc.build_model()\n",
    "model = wnc.get_model()\n",
    "\n",
    "training_generator = DataGenerator(partition['train'], complete_index, **data_gen_params, shuffle=True)\n",
    "validation_generator = DataGenerator(partition['validation'], complete_index, **data_gen_params, shuffle=False)\n",
    "\n",
    "model.compile('adam', loss='categorical_crossentropy', metrics=['accuracy'])\n",
    "\n",
    "callback_list = []\n",
    "# -1 used to represent no early stopping\n",
    "if early_stopping_patience != -1:\n",
    "    early_stopping = EarlyStopping(monitor='val_loss', patience=early_stopping_patience)\n",
    "    callback_list.append(early_stopping)\n",
    "\n",
    "if RUN_EVALUATION:\n",
    "    history = model.fit_generator(generator=training_generator,\n",
    "                                  validation_data=validation_generator,\n",
    "                                  epochs=epochs,\n",
    "                                  callbacks=callback_list)"
   ]
  },
  {
   "cell_type": "markdown",
   "metadata": {
    "colab_type": "text",
    "id": "HJRGYt85KEmz"
   },
   "source": [
    "### Evaluate Model"
   ]
  },
  {
   "cell_type": "code",
   "execution_count": 21,
   "metadata": {
    "colab": {},
    "colab_type": "code",
    "id": "9ExQQkA8KEm2"
   },
   "outputs": [],
   "source": [
    "if RUN_EVALUATION:\n",
    "    test_generator = DataGenerator(partition['test'], complete_index, **data_gen_params, shuffle=False)\n",
    "\n",
    "    predictions = model.predict_generator(test_generator)\n",
    "    predictions = np.argmax(predictions,axis=1)\n",
    "    true_labels = []\n",
    "    for ID in test_generator.list_IDs:\n",
    "        true_labels.append(complete_index[ID])\n",
    "\n",
    "    true_labels = np.array(true_labels)\n",
    "    true_labels = true_labels[:len(predictions)]\n",
    "\n",
    "    cm = confusion_matrix(true_labels, predictions)\n",
    "\n",
    "    evaluation = model.evaluate_generator(test_generator)\n",
    "\n",
    "    results = {\n",
    "        \"confusion_matrix\": cm,\n",
    "        \"loss\": evaluation[0],\n",
    "        \"accuracy\": evaluation[1],\n",
    "        \"history\": history.history\n",
    "    }"
   ]
  },
  {
   "cell_type": "markdown",
   "metadata": {
    "colab_type": "text",
    "id": "svG3ybc3KEm7"
   },
   "source": [
    "### Save Results"
   ]
  },
  {
   "cell_type": "code",
   "execution_count": 22,
   "metadata": {
    "colab": {},
    "colab_type": "code",
    "id": "1S2PsgxmKEm8"
   },
   "outputs": [],
   "source": [
    "if SAVE_RESULTS_TEST_C:\n",
    "    with open(RESULTS_PATH + \"results_test_c.pkl\", 'wb') as results_file:\n",
    "        pickle.dump(results, results_file)"
   ]
  },
  {
   "cell_type": "markdown",
   "metadata": {
    "colab_type": "text",
    "id": "jGE8J9BQKEnE"
   },
   "source": [
    "### Load Results"
   ]
  },
  {
   "cell_type": "code",
   "execution_count": 23,
   "metadata": {
    "colab": {},
    "colab_type": "code",
    "id": "YqeDsGoyKEnG"
   },
   "outputs": [],
   "source": [
    "with open(RESULTS_PATH + \"results_c.pkl\", 'rb') as results_file:\n",
    "    results = pickle.load(results_file)"
   ]
  },
  {
   "cell_type": "markdown",
   "metadata": {
    "colab_type": "text",
    "id": "M4Wp_tBZKEnJ"
   },
   "source": [
    "### Visualize Results"
   ]
  },
  {
   "cell_type": "code",
   "execution_count": 24,
   "metadata": {
    "colab": {},
    "colab_type": "code",
    "id": "cdjrMBQGKEnP"
   },
   "outputs": [],
   "source": [
    "K.clear_session()"
   ]
  },
  {
   "cell_type": "code",
   "execution_count": 25,
   "metadata": {
    "colab": {
     "base_uri": "https://localhost:8080/",
     "height": 35
    },
    "colab_type": "code",
    "executionInfo": {
     "elapsed": 712,
     "status": "ok",
     "timestamp": 1552561682689,
     "user": {
      "displayName": "Andrew Mackay",
      "photoUrl": "https://lh3.googleusercontent.com/-24hiGmdxZDE/AAAAAAAAAAI/AAAAAAAAL_I/RW7nqM11LkM/s64/photo.jpg",
      "userId": "06804410358976473893"
     },
     "user_tz": 0
    },
    "id": "5ZpMQeoQKEnQ",
    "outputId": "c4c85c8f-ccd2-4df7-c4b9-85fa2b919d27"
   },
   "outputs": [
    {
     "name": "stdout",
     "output_type": "stream",
     "text": [
      "Accuracy: 74.32228915662651\n"
     ]
    }
   ],
   "source": [
    "print(\"Accuracy:\",results[\"accuracy\"]*100)"
   ]
  },
  {
   "cell_type": "code",
   "execution_count": 26,
   "metadata": {
    "colab": {
     "base_uri": "https://localhost:8080/",
     "height": 376
    },
    "colab_type": "code",
    "executionInfo": {
     "elapsed": 705,
     "status": "ok",
     "timestamp": 1552561738984,
     "user": {
      "displayName": "Andrew Mackay",
      "photoUrl": "https://lh3.googleusercontent.com/-24hiGmdxZDE/AAAAAAAAAAI/AAAAAAAAL_I/RW7nqM11LkM/s64/photo.jpg",
      "userId": "06804410358976473893"
     },
     "user_tz": 0
    },
    "id": "wcAl-X0xKEnW",
    "outputId": "350bf2ec-c710-49cf-baa2-bb0150316c0c",
    "scrolled": true
   },
   "outputs": [
    {
     "data": {
      "image/png": "[encoded data removed]",
      "text/plain": [
       "<Figure size 432x288 with 1 Axes>"
      ]
     },
     "metadata": {
      "needs_background": "light"
     },
     "output_type": "display_data"
    }
   ],
   "source": [
    "training_acc = results[\"history\"]['acc']\n",
    "test_acc = results[\"history\"]['val_acc']\n",
    "\n",
    "# Create count of the number of epochs\n",
    "epoch_count = range(1, len(training_acc) + 1)\n",
    "\n",
    "# Visualize loss history\n",
    "plt.plot(epoch_count, training_acc, 'b--')\n",
    "plt.plot(epoch_count, test_acc, 'r-')\n",
    "plt.legend(['Training Accuracy', 'Test Accuracy'])\n",
    "plt.xlabel('Epoch')\n",
    "plt.ylabel('Accuracy')\n",
    "plt.title(\"Comparison of Training vs Test Accuracy\")\n",
    "plt.grid()\n",
    "if SAVE_GRAPHS_TEST_C:\n",
    "    plt.savefig(RESULTS_PATH + \"training_vs_test_acc.pdf\", format='pdf')\n",
    "plt.show()"
   ]
  },
  {
   "cell_type": "code",
   "execution_count": 27,
   "metadata": {
    "colab": {},
    "colab_type": "code",
    "id": "gMWQx6nUKEnb"
   },
   "outputs": [],
   "source": [
    "def plot_confusion_matrix(cm, classes, title=\"Confusion Matrix\", normalized=True, save=False, path='/'):\n",
    "    \"\"\"\n",
    "    Plot the confusion matrix, code taken from:\n",
    "     https://scikit-learn.org/stable/auto_examples/model_selection/plot_confusion_matrix.html\n",
    "    :param cm: confusion matrix to plot\n",
    "    :param classes: class labels\n",
    "    :param title: title of the plot\n",
    "    :param normalized: use normalized version or not\n",
    "    :param save: save the graph toggle\n",
    "    :param path: path to save the graph to\n",
    "    \"\"\"\n",
    "    if normalized:\n",
    "        cm = cm.astype('float') / cm.sum(axis=1)[:, np.newaxis]\n",
    "    plt.imshow(cm, interpolation='nearest', cmap=plt.cm.Blues)\n",
    "    plt.title(title)\n",
    "    plt.colorbar()\n",
    "    tick_marks = np.arange(len(classes))\n",
    "    plt.xticks(tick_marks, classes, rotation=45)\n",
    "    plt.yticks(tick_marks, classes)\n",
    "    plt.ylabel('True label')\n",
    "    plt.xlabel('Predicted label')\n",
    "    plt.tight_layout()\n",
    "    if save:\n",
    "        plt.savefig(path, format='pdf')\n",
    "    plt.show()"
   ]
  },
  {
   "cell_type": "code",
   "execution_count": 28,
   "metadata": {
    "colab": {
     "base_uri": "https://localhost:8080/",
     "height": 401
    },
    "colab_type": "code",
    "executionInfo": {
     "elapsed": 880,
     "status": "ok",
     "timestamp": 1552561745783,
     "user": {
      "displayName": "Andrew Mackay",
      "photoUrl": "https://lh3.googleusercontent.com/-24hiGmdxZDE/AAAAAAAAAAI/AAAAAAAAL_I/RW7nqM11LkM/s64/photo.jpg",
      "userId": "06804410358976473893"
     },
     "user_tz": 0
    },
    "id": "qD9FJYLCKEni",
    "outputId": "a8fbafcb-fef6-449d-eff4-3e84ea3f0397"
   },
   "outputs": [
    {
     "data": {
      "image/png": "[encoded data removed]",
      "text/plain": [
       "<Figure size 432x288 with 2 Axes>"
      ]
     },
     "metadata": {
      "needs_background": "light"
     },
     "output_type": "display_data"
    }
   ],
   "source": [
    "plot_confusion_matrix(results[\"confusion_matrix\"], target_names)"
   ]
  },
  {
   "cell_type": "markdown",
   "metadata": {
    "colab_type": "text",
    "id": "F9MzD4q9KEnp"
   },
   "source": [
    "# Evaluating on subset of the data (all subjects) 5-Fold\n",
    "use 60% for training, 20% for validation (early stopping) and the final 20% for testing."
   ]
  },
  {
   "cell_type": "code",
   "execution_count": 29,
   "metadata": {
    "colab": {},
    "colab_type": "code",
    "id": "BZcwvY6TKEnr"
   },
   "outputs": [],
   "source": [
    "def split_data_by_fold(data, test_fold, validation_fold, total_folds=5):\n",
    "    \"\"\"\n",
    "    Split the data into folds then use whole folds for the test and validation\n",
    "    set whilst using the remaining folds for the training set\n",
    "    :param data: data\n",
    "    :param test_fold: fold to use for the test set\n",
    "    :param validation_fold: fold to use for the validation set\n",
    "    :param total_folds: number of folds to split the data into\n",
    "    :return: train, validation and test datasets\n",
    "    \"\"\"\n",
    "    labels = {}\n",
    "    partition = {'train':[], 'validation':[], 'test':[]}\n",
    "\n",
    "    for user_letter, actions in data.items():\n",
    "        for action, results in actions.items():\n",
    "            for result in results:\n",
    "                res = np.array(result)\n",
    "                # Split into 5 folds then take 1 fold for 20%\n",
    "                split_actions = np.array_split(res, 5)\n",
    "                for fold in range(total_folds):\n",
    "                    data = split_actions[fold]\n",
    "                    if fold == test_fold:\n",
    "                        for row in data:\n",
    "                            partition[\"test\"].append(row)\n",
    "                            labels[row] = convert_label_to_int(action)\n",
    "                            \n",
    "                    elif fold == validation_fold:\n",
    "                        for row in data:\n",
    "                            partition[\"validation\"].append(row)\n",
    "                            labels[row] = convert_label_to_int(action)\n",
    "\n",
    "                    else:\n",
    "                        for row in data:\n",
    "                            partition[\"train\"].append(row)\n",
    "                            labels[row] = convert_label_to_int(action) \n",
    "                            \n",
    "    return {\"complete_index\": labels, \"partition\":partition}"
   ]
  },
  {
   "cell_type": "code",
   "execution_count": 30,
   "metadata": {
    "colab": {},
    "colab_type": "code",
    "id": "wgVZjKZEKEn2"
   },
   "outputs": [],
   "source": [
    "k_fold_results = {}\n",
    "number_of_folds = 5\n",
    "for fold in range(number_of_folds):\n",
    "    k_fold_results[str(fold)] = {}"
   ]
  },
  {
   "cell_type": "code",
   "execution_count": 31,
   "metadata": {
    "colab": {},
    "colab_type": "code",
    "id": "N6VOiowyKEn6"
   },
   "outputs": [],
   "source": [
    "if RUN_EVALUATION:\n",
    "    average_accuracy = 0\n",
    "    average_loss = 0\n",
    "    for fold in range(number_of_folds):\n",
    "        test_fold = fold\n",
    "        validation_fold = (test_fold + 1) % number_of_folds\n",
    "        print(\"Fold:\", fold)\n",
    "\n",
    "        data_split = split_data_by_fold(data, test_fold, validation_fold, number_of_folds)\n",
    "        complete_index = data_split[\"complete_index\"]\n",
    "        partition = data_split[\"partition\"]\n",
    "\n",
    "        wnc.build_model()\n",
    "        model = wnc.get_model()\n",
    "\n",
    "        training_generator = DataGenerator(partition['train'], complete_index, **data_gen_params, shuffle=True)\n",
    "        validation_generator = DataGenerator(partition['validation'], complete_index, **data_gen_params, shuffle=False)\n",
    "        test_generator = DataGenerator(partition['test'], complete_index, **data_gen_params, shuffle=False)\n",
    "\n",
    "        model.compile('adam', loss='categorical_crossentropy', metrics=['accuracy'])\n",
    "\n",
    "        callback_list = []\n",
    "        # -1 used to represent no early stopping\n",
    "        if early_stopping_patience != -1:\n",
    "            early_stopping = EarlyStopping(monitor='val_loss', patience=early_stopping_patience)\n",
    "            callback_list.append(early_stopping)\n",
    "\n",
    "        model.fit_generator(generator=training_generator,\n",
    "                            validation_data=validation_generator,\n",
    "                            epochs=epochs,\n",
    "                            callbacks=callback_list)\n",
    "\n",
    "        evaluation = model.evaluate_generator(test_generator)\n",
    "        loss = evaluation[0]\n",
    "        accuracy = evaluation[1]\n",
    "\n",
    "        average_accuracy += accuracy\n",
    "        average_loss += loss\n",
    "        k_fold_results[str(fold)][\"accuracy\"] = accuracy\n",
    "        k_fold_results[str(fold)][\"loss\"] = loss\n",
    "\n",
    "    k_fold_results[\"average_accuracy\"] = average_accuracy/number_of_folds\n",
    "    k_fold_results[\"average_loss\"] = average_loss/number_of_folds"
   ]
  },
  {
   "cell_type": "markdown",
   "metadata": {
    "colab_type": "text",
    "id": "e4GTgTSXKEn9"
   },
   "source": [
    "## Save Results"
   ]
  },
  {
   "cell_type": "code",
   "execution_count": 32,
   "metadata": {
    "colab": {},
    "colab_type": "code",
    "id": "Blz86CEsKEn_"
   },
   "outputs": [],
   "source": [
    "if SAVE_RESULTS_20:\n",
    "    with open(RESULTS_PATH + \"results_test_20.pkl\", 'wb') as results_file:\n",
    "        pickle.dump(k_fold_results, results_file)"
   ]
  },
  {
   "cell_type": "markdown",
   "metadata": {
    "colab_type": "text",
    "id": "gi40vficKEoB"
   },
   "source": [
    "## Load Results"
   ]
  },
  {
   "cell_type": "code",
   "execution_count": 33,
   "metadata": {
    "colab": {},
    "colab_type": "code",
    "id": "RxTPAEG8KEoC"
   },
   "outputs": [],
   "source": [
    "with open(RESULTS_PATH + \"results_20.pkl\", 'rb') as results_file:\n",
    "    k_fold_results = pickle.load(results_file)"
   ]
  },
  {
   "cell_type": "markdown",
   "metadata": {
    "colab_type": "text",
    "id": "4uJhjBeQKEoj"
   },
   "source": [
    "## Visualize Results"
   ]
  },
  {
   "cell_type": "code",
   "execution_count": 34,
   "metadata": {
    "colab": {
     "base_uri": "https://localhost:8080/",
     "height": 53
    },
    "colab_type": "code",
    "executionInfo": {
     "elapsed": 763,
     "status": "ok",
     "timestamp": 1552727347527,
     "user": {
      "displayName": "Andrew Mackay",
      "photoUrl": "https://lh3.googleusercontent.com/-24hiGmdxZDE/AAAAAAAAAAI/AAAAAAAAL_I/RW7nqM11LkM/s64/photo.jpg",
      "userId": "06804410358976473893"
     },
     "user_tz": 0
    },
    "id": "wTKO3CgnKEok",
    "outputId": "49b812c8-af27-4683-a6e3-fb4dd90eb132"
   },
   "outputs": [
    {
     "name": "stdout",
     "output_type": "stream",
     "text": [
      "Average Accuracy: 97.94383226981441\n",
      "Average Loss: 0.17315185022966728\n"
     ]
    }
   ],
   "source": [
    "print(\"Average Accuracy:\", k_fold_results[\"average_accuracy\"]*100)\n",
    "print(\"Average Loss:\", k_fold_results[\"average_loss\"])"
   ]
  },
  {
   "cell_type": "markdown",
   "metadata": {
    "colab_type": "text",
    "id": "iPkC2S5tKEow"
   },
   "source": [
    "### Accuracy Fold Distribution"
   ]
  },
  {
   "cell_type": "code",
   "execution_count": 35,
   "metadata": {
    "colab": {
     "base_uri": "https://localhost:8080/",
     "height": 571
    },
    "colab_type": "code",
    "executionInfo": {
     "elapsed": 887,
     "status": "error",
     "timestamp": 1552727368126,
     "user": {
      "displayName": "Andrew Mackay",
      "photoUrl": "https://lh3.googleusercontent.com/-24hiGmdxZDE/AAAAAAAAAAI/AAAAAAAAL_I/RW7nqM11LkM/s64/photo.jpg",
      "userId": "06804410358976473893"
     },
     "user_tz": 0
    },
    "id": "XrjBcR14KEox",
    "outputId": "f91666c5-8aef-42ad-caa0-9af5dc257e4b"
   },
   "outputs": [
    {
     "data": {
      "image/png": "[encoded data removed]",
      "text/plain": [
       "<Figure size 432x288 with 1 Axes>"
      ]
     },
     "metadata": {
      "needs_background": "light"
     },
     "output_type": "display_data"
    }
   ],
   "source": [
    "accuracies = []\n",
    "for fold in range(number_of_folds):\n",
    "    accuracies.append(k_fold_results[str(fold)][\"accuracy\"]*100)\n",
    "\n",
    "plt.boxplot(accuracies, zorder=3)\n",
    "plt.title(\"Fold Performance Distribution Comparison\")\n",
    "# plt.xlabel(\"Model\")\n",
    "plt.ylabel(\"Classification Accuracy (%)\")\n",
    "plt.grid(axis='y', zorder=0)\n",
    "if SAVE_GRAPHS_20:\n",
    "     plt.savefig(RESULTS_PATH + \"boxplot_20.pdf\", format='pdf')"
   ]
  },
  {
   "cell_type": "code",
   "execution_count": 36,
   "metadata": {
    "colab": {},
    "colab_type": "code",
    "id": "I7EKwnJSKEo2"
   },
   "outputs": [],
   "source": [
    "K.clear_session()"
   ]
  },
  {
   "cell_type": "markdown",
   "metadata": {
    "colab_type": "text",
    "id": "tRxVfRgBKEo5"
   },
   "source": [
    "# Six-Fold Cross-Validation\n",
    "One fold for each subject"
   ]
  },
  {
   "cell_type": "code",
   "execution_count": 37,
   "metadata": {
    "colab": {},
    "colab_type": "code",
    "id": "Jq6oKB5oKEo5"
   },
   "outputs": [],
   "source": [
    "subjects = [\"A\", \"B\", \"C\", \"D\", \"E\", \"F\"]"
   ]
  },
  {
   "cell_type": "code",
   "execution_count": 38,
   "metadata": {
    "colab": {},
    "colab_type": "code",
    "id": "CTd2aSHyKEo7"
   },
   "outputs": [],
   "source": [
    "results_six_fold = {}\n",
    "for subject in subjects:\n",
    "    results_six_fold[subject] = {}"
   ]
  },
  {
   "cell_type": "code",
   "execution_count": 39,
   "metadata": {
    "colab": {},
    "colab_type": "code",
    "id": "y-9fruvPKEo-"
   },
   "outputs": [],
   "source": [
    "if RUN_EVALUATION:\n",
    "    average_accuracy = 0\n",
    "    average_loss = 0\n",
    "    for subject in subjects:\n",
    "        data_split = split_train_val_test_by_subject(data, subject)\n",
    "        complete_index = data_split[\"complete_index\"]\n",
    "        partition = data_split[\"partition\"]\n",
    "\n",
    "        wnc.build_model()\n",
    "        model = wnc.get_model()\n",
    "\n",
    "        training_generator = DataGenerator(partition['train'], complete_index, **data_gen_params, shuffle=True)\n",
    "        validation_generator = DataGenerator(partition['validation'], complete_index, **data_gen_params, shuffle=False)\n",
    "        test_generator = DataGenerator(partition['test'], complete_index, **data_gen_params, shuffle=False)\n",
    "\n",
    "        model.compile('adam', loss='categorical_crossentropy', metrics=['accuracy'])\n",
    "\n",
    "        callback_list = []\n",
    "        # -1 used to represent no early stopping\n",
    "        if early_stopping_patience != -1:\n",
    "            early_stopping = EarlyStopping(monitor='val_loss', patience=early_stopping_patience)\n",
    "            callback_list.append(early_stopping)\n",
    "\n",
    "        model.fit_generator(generator=training_generator,\n",
    "                            validation_data=validation_generator,\n",
    "                            epochs=epochs,\n",
    "                            callbacks=callback_list)\n",
    "\n",
    "        evaluation = model.evaluate_generator(test_generator)\n",
    "        loss = evaluation[0]\n",
    "        accuracy = evaluation[1]\n",
    "\n",
    "        average_accuracy += accuracy\n",
    "        average_loss += loss\n",
    "        results_six_fold[subject][\"accuracy\"] = accuracy\n",
    "        results_six_fold[subject][\"loss\"] = loss\n",
    "\n",
    "    results_six_fold[\"avg_loss\"] = average_loss/len(subjects)\n",
    "    results_six_fold[\"avg_acc\"] = average_accuracy/len(subjects)\n",
    "    print(\"Average Loss:\", average_loss/len(subjects))\n",
    "    print(\"Average Accuracy:\", average_accuracy/len(subjects))"
   ]
  },
  {
   "cell_type": "markdown",
   "metadata": {
    "colab_type": "text",
    "id": "VbXeQijvKEpM"
   },
   "source": [
    "## Save Results"
   ]
  },
  {
   "cell_type": "code",
   "execution_count": 40,
   "metadata": {
    "colab": {},
    "colab_type": "code",
    "id": "6HEqRuluKEpN"
   },
   "outputs": [],
   "source": [
    "if SAVE_RESULTS_6_FOLD:\n",
    "    with open(RESULTS_PATH + \"results_6_fold.pkl\", 'wb') as results_file:\n",
    "        pickle.dump(results_six_fold, results_file)"
   ]
  },
  {
   "cell_type": "markdown",
   "metadata": {
    "colab_type": "text",
    "id": "pieUI0MSKEpR"
   },
   "source": [
    "## Load Results"
   ]
  },
  {
   "cell_type": "code",
   "execution_count": 41,
   "metadata": {
    "colab": {},
    "colab_type": "code",
    "id": "IywQMhNtKEpS"
   },
   "outputs": [],
   "source": [
    "with open(RESULTS_PATH + \"results_6_fold.pkl\", 'rb') as results_file:\n",
    "    results_six_fold = pickle.load(results_file)"
   ]
  },
  {
   "cell_type": "markdown",
   "metadata": {
    "colab_type": "text",
    "id": "h_kQNMphKEpX"
   },
   "source": [
    "## Visualize Results"
   ]
  },
  {
   "cell_type": "code",
   "execution_count": 42,
   "metadata": {
    "colab": {},
    "colab_type": "code",
    "id": "Rog3S8M_KEpY",
    "outputId": "d26f2eb6-1aaa-4ad4-e45f-536e4ca96ec0"
   },
   "outputs": [
    {
     "name": "stdout",
     "output_type": "stream",
     "text": [
      "Average Accuracy: 56.23100976116243\n",
      "Average Loss: 3.9531040180912265\n"
     ]
    }
   ],
   "source": [
    "print(\"Average Accuracy:\", results_six_fold[\"avg_acc\"]*100)\n",
    "print(\"Average Loss:\", results_six_fold[\"avg_loss\"])"
   ]
  },
  {
   "cell_type": "code",
   "execution_count": 43,
   "metadata": {
    "colab": {},
    "colab_type": "code",
    "id": "v5BgH2VZKEpu",
    "outputId": "dccdc29f-7624-4246-dcc5-47cf5750fe09",
    "scrolled": false
   },
   "outputs": [
    {
     "data": {
      "image/png": "[encoded data removed]",
      "text/plain": [
       "<Figure size 432x288 with 1 Axes>"
      ]
     },
     "metadata": {
      "needs_background": "light"
     },
     "output_type": "display_data"
    }
   ],
   "source": [
    "accuracies = []\n",
    "for subject in subjects:\n",
    "    accuracies.append(results_six_fold[subject][\"accuracy\"]*100)\n",
    "\n",
    "plt.boxplot(accuracies, zorder=3)\n",
    "plt.title(\"Fold Performance Distribution Comparison\")\n",
    "plt.xlabel(\"Model\")\n",
    "plt.ylabel(\"Classification Accuracy (%)\")\n",
    "plt.grid(axis='y', zorder=0)\n",
    "if SAVE_GRAPHS_6_FOLD:\n",
    "     plt.savefig(RESULTS_PATH + \"boxplot_6_fold.pdf\", format='pdf')"
   ]
  },
  {
   "cell_type": "code",
   "execution_count": 44,
   "metadata": {
    "colab": {},
    "colab_type": "code",
    "id": "IkFbrcIYKEp2",
    "outputId": "9977d74c-ddaa-4187-c08a-882da2d42c35"
   },
   "outputs": [
    {
     "data": {
      "image/png": "[encoded data removed]",
      "text/plain": [
       "<Figure size 432x288 with 1 Axes>"
      ]
     },
     "metadata": {
      "needs_background": "light"
     },
     "output_type": "display_data"
    }
   ],
   "source": [
    "plt.bar(range(len(subjects)), accuracies, zorder=3)\n",
    "plt.xticks(range(len(subjects)), subjects)\n",
    "plt.xlabel(\"Subject (fold)\")\n",
    "plt.ylabel(\"Classification Accuracy (%)\")\n",
    "plt.title(\" Fold Accuracy Distribution\")\n",
    "plt.grid(axis='y', zorder=0)\n",
    "if SAVE_GRAPHS_6_FOLD:\n",
    "    plt.savefig(RESULTS_PATH + \"fold_accuracy_distribution_6_fold.pdf\", format='pdf')\n",
    "plt.show()"
   ]
  },
  {
   "cell_type": "code",
   "execution_count": 0,
   "metadata": {
    "colab": {},
    "colab_type": "code",
    "id": "OtYTRe9hKEp6"
   },
   "outputs": [],
   "source": []
  }
 ],
 "metadata": {
  "accelerator": "GPU",
  "colab": {
   "collapsed_sections": [],
   "name": "16_range_data_model_final_model_comparison_without_corrupt.ipynb",
   "provenance": [],
   "version": "0.3.2"
  },
  "kernelspec": {
   "display_name": "Python 3",
   "language": "python",
   "name": "python3"
  },
  "language_info": {
   "codemirror_mode": {
    "name": "ipython",
    "version": 3
   },
   "file_extension": ".py",
   "mimetype": "text/x-python",
   "name": "python",
   "nbconvert_exporter": "python",
   "pygments_lexer": "ipython3",
   "version": "3.6.6"
  }
 },
 "nbformat": 4,
 "nbformat_minor": 1
}
