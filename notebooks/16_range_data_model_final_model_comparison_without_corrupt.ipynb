{
 "cells": [
  {
   "cell_type": "markdown",
   "metadata": {
    "colab_type": "text",
    "id": "znku3TNhZY2m"
   },
   "source": [
    "# Final Evalaution of range data model\n",
    "\n",
    "The model was chosen in 11, the data input in notebook 12, the causal vs non-causal design compared in notebook 13, regularization investigated in notebook 14 and the hyperparameters chosen from 15.\n",
    "\n",
    "First the model is trained on subjects A, B, D, E, F. 80% of this data is used for training whilst the remaining 20% is used for validation which allows the use of erly stopping to prevent overfitting.\n",
    "\n",
    "The model is then evaluated on the test subject C. Up until this point the model has not been exposed to this data.\n"
   ]
  },
  {
   "cell_type": "markdown",
   "metadata": {
    "colab_type": "text",
    "id": "pzQ2KCGPKEix"
   },
   "source": [
    "From inspection of the dataset it was found that the last 14% of mesuremtns from each recording of subject F was corrpupted and contained only zero values. This notebook reruns the work conducted in notebook 16 but excludes subject F. This corrupt data is removed for this evaluation."
   ]
  },
  {
   "cell_type": "markdown",
   "metadata": {
    "colab_type": "text",
    "id": "bZxhO7V0ZHUE"
   },
   "source": [
    "## Notebook setup"
   ]
  },
  {
   "cell_type": "code",
   "execution_count": 0,
   "metadata": {
    "colab": {},
    "colab_type": "code",
    "id": "TGNeUj-JDXhs"
   },
   "outputs": [],
   "source": [
    "# Plot graphs inline\n",
    "%matplotlib inline"
   ]
  },
  {
   "cell_type": "markdown",
   "metadata": {
    "colab_type": "text",
    "id": "QwLbqieVYIJt"
   },
   "source": [
    "The following cell is needed for compatibility when using both CoLab and Local Jupyter notebook. It sets the appropriate file path for the data and also installs local packages such as models and data_loading."
   ]
  },
  {
   "cell_type": "code",
   "execution_count": 1,
   "metadata": {
    "colab": {
     "base_uri": "https://localhost:8080/",
     "height": 127
    },
    "colab_type": "code",
    "executionInfo": {
     "elapsed": 21897,
     "status": "ok",
     "timestamp": 1552727330419,
     "user": {
      "displayName": "Andrew Mackay",
      "photoUrl": "https://lh3.googleusercontent.com/-24hiGmdxZDE/AAAAAAAAAAI/AAAAAAAAL_I/RW7nqM11LkM/s64/photo.jpg",
      "userId": "06804410358976473893"
     },
     "user_tz": 0
    },
    "id": "3XeU0HtoDXh6",
    "outputId": "8dfc45b7-3faa-4512-e838-ebbdab31921c"
   },
   "outputs": [],
   "source": [
    "import os\n",
    "path = os.getcwd()\n",
    "if path == '/content':\n",
    "    from google.colab import drive\n",
    "    drive.mount('/content/gdrive')\n",
    "    BASE_PATH = '/content/gdrive/My Drive/Level-4-Project/'\n",
    "    os.chdir('gdrive/My Drive/Level-4-Project/')\n",
    "    \n",
    "elif path == 'D:\\\\Google Drive\\\\Level-4-Project\\\\notebooks':\n",
    "    BASE_PATH = \"D:/Google Drive/Level-4-Project/\"\n",
    "    \n",
    "elif path == \"/export/home/2192793m\":\n",
    "    BASE_PATH = \"/export/home/2192793m/Level-4-Project/\"\n",
    "    \n",
    "    \n",
    "DATA_PATH_MTI = BASE_PATH + 'data/processed/range_FFT/3/MTI_applied/' # not used\n",
    "DATA_PATH_NO_MTI = BASE_PATH + 'data/processed/range_FFT/3/MTI_not_applied/'\n",
    "\n",
    "RESULTS_PATH = BASE_PATH + 'results/range_data_model_final_evaluation_without_corrupt/'\n",
    "HYPERPARAMETER_PATH = BASE_PATH + 'results/range_data_model_hyperparameter_search/'\n",
    "\n",
    "if not os.path.exists(RESULTS_PATH):\n",
    "    os.makedirs(RESULTS_PATH)\n",
    "    \n",
    "MODEL_PATH = BASE_PATH + 'models/range_data_model_final_evaluation/'\n",
    "if not os.path.exists(MODEL_PATH):\n",
    "    os.makedirs(MODEL_PATH)"
   ]
  },
  {
   "cell_type": "code",
   "execution_count": 2,
   "metadata": {
    "colab": {
     "base_uri": "https://localhost:8080/",
     "height": 35
    },
    "colab_type": "code",
    "executionInfo": {
     "elapsed": 2338,
     "status": "ok",
     "timestamp": 1552727334006,
     "user": {
      "displayName": "Andrew Mackay",
      "photoUrl": "https://lh3.googleusercontent.com/-24hiGmdxZDE/AAAAAAAAAAI/AAAAAAAAL_I/RW7nqM11LkM/s64/photo.jpg",
      "userId": "06804410358976473893"
     },
     "user_tz": 0
    },
    "id": "QW7Fa5jTCDXo",
    "outputId": "61b090c1-defe-4731-b643-abd3c815ec1f"
   },
   "outputs": [
    {
     "name": "stderr",
     "output_type": "stream",
     "text": [
      "Using TensorFlow backend.\n"
     ]
    }
   ],
   "source": [
    "from keras import backend as K \n",
    "import numpy as np\n",
    "import matplotlib.pyplot as plt\n",
    "import pickle\n",
    "from sklearn.metrics import confusion_matrix\n",
    "from keras.utils import Sequence, to_categorical\n",
    "from keras.layers import Input, Conv1D, Multiply, Add, Activation, AveragePooling1D, Flatten, Dense\n",
    "from keras.layers import BatchNormalization\n",
    "from keras.regularizers import l2\n",
    "from keras.models import Model\n",
    "from keras.callbacks import EarlyStopping\n",
    "import sys"
   ]
  },
  {
   "cell_type": "code",
   "execution_count": 0,
   "metadata": {
    "colab": {
     "base_uri": "https://localhost:8080/",
     "height": 269
    },
    "colab_type": "code",
    "executionInfo": {
     "elapsed": 8167,
     "status": "ok",
     "timestamp": 1552561654675,
     "user": {
      "displayName": "Andrew Mackay",
      "photoUrl": "https://lh3.googleusercontent.com/-24hiGmdxZDE/AAAAAAAAAAI/AAAAAAAAL_I/RW7nqM11LkM/s64/photo.jpg",
      "userId": "06804410358976473893"
     },
     "user_tz": 0
    },
    "id": "tk_HAyYKYrI8",
    "outputId": "f7763203-aa7a-4bce-efec-9c1f9b2781b1"
   },
   "outputs": [
    {
     "name": "stdout",
     "output_type": "stream",
     "text": [
      "Collecting git+https://github.com/scikit-optimize/scikit-optimize/\n",
      "  Cloning https://github.com/scikit-optimize/scikit-optimize/ to /tmp/pip-req-build-bowpey8q\n",
      "Collecting pyaml (from scikit-optimize==0.5.2+49.g074ce8e)\n",
      "  Downloading https://files.pythonhosted.org/packages/c5/e1/1523fb1dab744e2c6b1f02446f2139a78726c18c062a8ddd53875abb20f8/pyaml-18.11.0-py2.py3-none-any.whl\n",
      "Requirement already satisfied: numpy in /usr/local/lib/python3.6/dist-packages (from scikit-optimize==0.5.2+49.g074ce8e) (1.14.6)\n",
      "Requirement already satisfied: scipy>=0.14.0 in /usr/local/lib/python3.6/dist-packages (from scikit-optimize==0.5.2+49.g074ce8e) (1.1.0)\n",
      "Requirement already satisfied: scikit-learn>=0.19.1 in /usr/local/lib/python3.6/dist-packages (from scikit-optimize==0.5.2+49.g074ce8e) (0.20.3)\n",
      "Requirement already satisfied: PyYAML in /usr/local/lib/python3.6/dist-packages (from pyaml->scikit-optimize==0.5.2+49.g074ce8e) (3.13)\n",
      "Building wheels for collected packages: scikit-optimize\n",
      "  Building wheel for scikit-optimize (setup.py) ... \u001b[?25ldone\n",
      "\u001b[?25h  Stored in directory: /tmp/pip-ephem-wheel-cache-105qldf1/wheels/66/66/b5/e1160753c1f4d7763be2755539df2c2ebd6e50f987dbea6abf\n",
      "Successfully built scikit-optimize\n",
      "Installing collected packages: pyaml, scikit-optimize\n",
      "Successfully installed pyaml-18.11.0 scikit-optimize-0.5.2+49.g074ce8e\n"
     ]
    }
   ],
   "source": [
    "# needed for CheckpointSaver\n",
    "# https://github.com/scikit-optimize/scikit-optimize/issues/678\n",
    "! pip install git+https://github.com/scikit-optimize/scikit-optimize/ \n",
    "from skopt import load"
   ]
  },
  {
   "cell_type": "markdown",
   "metadata": {
    "colab_type": "text",
    "id": "vxIKU3-fTUy7"
   },
   "source": [
    "## Data Setup"
   ]
  },
  {
   "cell_type": "code",
   "execution_count": 0,
   "metadata": {
    "colab": {},
    "colab_type": "code",
    "id": "sj59Pvxv5CX9"
   },
   "outputs": [],
   "source": [
    "# Load in data dictionary.\n",
    "# This does not load in any actual data,\n",
    "# just the dictionary with the names of the files and their associated labels\n",
    "with open(DATA_PATH_NO_MTI + \"index.pkl\", \"rb\") as file:\n",
    "    data = pickle.load(file)"
   ]
  },
  {
   "cell_type": "code",
   "execution_count": 0,
   "metadata": {
    "colab": {},
    "colab_type": "code",
    "id": "TQIwQ8EACdIQ"
   },
   "outputs": [],
   "source": [
    "def convert_label_to_int(label):\n",
    "    if label == \"walking\":\n",
    "        return 0\n",
    "    if label == \"pushing\":\n",
    "        return 1\n",
    "    if label == \"sitting\":\n",
    "        return 2\n",
    "    if label == \"pulling\":\n",
    "        return 3\n",
    "    if label == \"circling\":\n",
    "        return 4\n",
    "    if label == \"clapping\":\n",
    "        return 5\n",
    "    if label == \"bending\":\n",
    "        return 6"
   ]
  },
  {
   "cell_type": "code",
   "execution_count": 21,
   "metadata": {
    "colab": {},
    "colab_type": "code",
    "id": "n4fd5mwu11f9"
   },
   "outputs": [],
   "source": [
    "target_names = [\"walking\", \"pushing\", \"sitting\", \"pulling\", \"circling\", \"clapping\", \"bending\"]\n",
    "nb_classes = len(target_names)"
   ]
  },
  {
   "cell_type": "code",
   "execution_count": 0,
   "metadata": {
    "colab": {},
    "colab_type": "code",
    "id": "ujCL5w0oKEkF"
   },
   "outputs": [],
   "source": [
    "# Remove corrupt data from F\n",
    "# 570 files per 60s recording\n",
    "# From investigating the files, final 14% is corrupted\n",
    "# T0 be sure, remove final 20%\n",
    "# 570 * 0.2 = 114\n",
    "# slice :456\n",
    "for target in target_names:\n",
    "    for i in range(len(data['F'][target])):\n",
    "        data['F'][target][i] = data['F'][target][i][:456]"
   ]
  },
  {
   "cell_type": "code",
   "execution_count": 0,
   "metadata": {
    "colab": {},
    "colab_type": "code",
    "id": "WwxeTFjDKEkS",
    "outputId": "17e93615-1440-45ea-947e-49552b6b50b7"
   },
   "outputs": [
    {
     "data": {
      "text/plain": [
       "['120_0.npy',\n",
       " '120_1.npy',\n",
       " '120_2.npy',\n",
       " '120_3.npy',\n",
       " '120_4.npy',\n",
       " '120_5.npy',\n",
       " '120_6.npy',\n",
       " '120_7.npy',\n",
       " '120_8.npy',\n",
       " '120_9.npy',\n",
       " '120_10.npy',\n",
       " '120_11.npy',\n",
       " '120_12.npy',\n",
       " '120_13.npy',\n",
       " '120_14.npy',\n",
       " '120_15.npy',\n",
       " '120_16.npy',\n",
       " '120_17.npy',\n",
       " '120_18.npy',\n",
       " '120_19.npy',\n",
       " '120_20.npy',\n",
       " '120_21.npy',\n",
       " '120_22.npy',\n",
       " '120_23.npy',\n",
       " '120_24.npy',\n",
       " '120_25.npy',\n",
       " '120_26.npy',\n",
       " '120_27.npy',\n",
       " '120_28.npy',\n",
       " '120_29.npy',\n",
       " '120_30.npy',\n",
       " '120_31.npy',\n",
       " '120_32.npy',\n",
       " '120_33.npy',\n",
       " '120_34.npy',\n",
       " '120_35.npy',\n",
       " '120_36.npy',\n",
       " '120_37.npy',\n",
       " '120_38.npy',\n",
       " '120_39.npy',\n",
       " '120_40.npy',\n",
       " '120_41.npy',\n",
       " '120_42.npy',\n",
       " '120_43.npy',\n",
       " '120_44.npy',\n",
       " '120_45.npy',\n",
       " '120_46.npy',\n",
       " '120_47.npy',\n",
       " '120_48.npy',\n",
       " '120_49.npy',\n",
       " '120_50.npy',\n",
       " '120_51.npy',\n",
       " '120_52.npy',\n",
       " '120_53.npy',\n",
       " '120_54.npy',\n",
       " '120_55.npy',\n",
       " '120_56.npy',\n",
       " '120_57.npy',\n",
       " '120_58.npy',\n",
       " '120_59.npy',\n",
       " '120_60.npy',\n",
       " '120_61.npy',\n",
       " '120_62.npy',\n",
       " '120_63.npy',\n",
       " '120_64.npy',\n",
       " '120_65.npy',\n",
       " '120_66.npy',\n",
       " '120_67.npy',\n",
       " '120_68.npy',\n",
       " '120_69.npy',\n",
       " '120_70.npy',\n",
       " '120_71.npy',\n",
       " '120_72.npy',\n",
       " '120_73.npy',\n",
       " '120_74.npy',\n",
       " '120_75.npy',\n",
       " '120_76.npy',\n",
       " '120_77.npy',\n",
       " '120_78.npy',\n",
       " '120_79.npy',\n",
       " '120_80.npy',\n",
       " '120_81.npy',\n",
       " '120_82.npy',\n",
       " '120_83.npy',\n",
       " '120_84.npy',\n",
       " '120_85.npy',\n",
       " '120_86.npy',\n",
       " '120_87.npy',\n",
       " '120_88.npy',\n",
       " '120_89.npy',\n",
       " '120_90.npy',\n",
       " '120_91.npy',\n",
       " '120_92.npy',\n",
       " '120_93.npy',\n",
       " '120_94.npy',\n",
       " '120_95.npy',\n",
       " '120_96.npy',\n",
       " '120_97.npy',\n",
       " '120_98.npy',\n",
       " '120_99.npy',\n",
       " '120_100.npy',\n",
       " '120_101.npy',\n",
       " '120_102.npy',\n",
       " '120_103.npy',\n",
       " '120_104.npy',\n",
       " '120_105.npy',\n",
       " '120_106.npy',\n",
       " '120_107.npy',\n",
       " '120_108.npy',\n",
       " '120_109.npy',\n",
       " '120_110.npy',\n",
       " '120_111.npy',\n",
       " '120_112.npy',\n",
       " '120_113.npy',\n",
       " '120_114.npy',\n",
       " '120_115.npy',\n",
       " '120_116.npy',\n",
       " '120_117.npy',\n",
       " '120_118.npy',\n",
       " '120_119.npy',\n",
       " '120_120.npy',\n",
       " '120_121.npy',\n",
       " '120_122.npy',\n",
       " '120_123.npy',\n",
       " '120_124.npy',\n",
       " '120_125.npy',\n",
       " '120_126.npy',\n",
       " '120_127.npy',\n",
       " '120_128.npy',\n",
       " '120_129.npy',\n",
       " '120_130.npy',\n",
       " '120_131.npy',\n",
       " '120_132.npy',\n",
       " '120_133.npy',\n",
       " '120_134.npy',\n",
       " '120_135.npy',\n",
       " '120_136.npy',\n",
       " '120_137.npy',\n",
       " '120_138.npy',\n",
       " '120_139.npy',\n",
       " '120_140.npy',\n",
       " '120_141.npy',\n",
       " '120_142.npy',\n",
       " '120_143.npy',\n",
       " '120_144.npy',\n",
       " '120_145.npy',\n",
       " '120_146.npy',\n",
       " '120_147.npy',\n",
       " '120_148.npy',\n",
       " '120_149.npy',\n",
       " '120_150.npy',\n",
       " '120_151.npy',\n",
       " '120_152.npy',\n",
       " '120_153.npy',\n",
       " '120_154.npy',\n",
       " '120_155.npy',\n",
       " '120_156.npy',\n",
       " '120_157.npy',\n",
       " '120_158.npy',\n",
       " '120_159.npy',\n",
       " '120_160.npy',\n",
       " '120_161.npy',\n",
       " '120_162.npy',\n",
       " '120_163.npy',\n",
       " '120_164.npy',\n",
       " '120_165.npy',\n",
       " '120_166.npy',\n",
       " '120_167.npy',\n",
       " '120_168.npy',\n",
       " '120_169.npy',\n",
       " '120_170.npy',\n",
       " '120_171.npy',\n",
       " '120_172.npy',\n",
       " '120_173.npy',\n",
       " '120_174.npy',\n",
       " '120_175.npy',\n",
       " '120_176.npy',\n",
       " '120_177.npy',\n",
       " '120_178.npy',\n",
       " '120_179.npy',\n",
       " '120_180.npy',\n",
       " '120_181.npy',\n",
       " '120_182.npy',\n",
       " '120_183.npy',\n",
       " '120_184.npy',\n",
       " '120_185.npy',\n",
       " '120_186.npy',\n",
       " '120_187.npy',\n",
       " '120_188.npy',\n",
       " '120_189.npy',\n",
       " '120_190.npy',\n",
       " '120_191.npy',\n",
       " '120_192.npy',\n",
       " '120_193.npy',\n",
       " '120_194.npy',\n",
       " '120_195.npy',\n",
       " '120_196.npy',\n",
       " '120_197.npy',\n",
       " '120_198.npy',\n",
       " '120_199.npy',\n",
       " '120_200.npy',\n",
       " '120_201.npy',\n",
       " '120_202.npy',\n",
       " '120_203.npy',\n",
       " '120_204.npy',\n",
       " '120_205.npy',\n",
       " '120_206.npy',\n",
       " '120_207.npy',\n",
       " '120_208.npy',\n",
       " '120_209.npy',\n",
       " '120_210.npy',\n",
       " '120_211.npy',\n",
       " '120_212.npy',\n",
       " '120_213.npy',\n",
       " '120_214.npy',\n",
       " '120_215.npy',\n",
       " '120_216.npy',\n",
       " '120_217.npy',\n",
       " '120_218.npy',\n",
       " '120_219.npy',\n",
       " '120_220.npy',\n",
       " '120_221.npy',\n",
       " '120_222.npy',\n",
       " '120_223.npy',\n",
       " '120_224.npy',\n",
       " '120_225.npy',\n",
       " '120_226.npy',\n",
       " '120_227.npy',\n",
       " '120_228.npy',\n",
       " '120_229.npy',\n",
       " '120_230.npy',\n",
       " '120_231.npy',\n",
       " '120_232.npy',\n",
       " '120_233.npy',\n",
       " '120_234.npy',\n",
       " '120_235.npy',\n",
       " '120_236.npy',\n",
       " '120_237.npy',\n",
       " '120_238.npy',\n",
       " '120_239.npy',\n",
       " '120_240.npy',\n",
       " '120_241.npy',\n",
       " '120_242.npy',\n",
       " '120_243.npy',\n",
       " '120_244.npy',\n",
       " '120_245.npy',\n",
       " '120_246.npy',\n",
       " '120_247.npy',\n",
       " '120_248.npy',\n",
       " '120_249.npy',\n",
       " '120_250.npy',\n",
       " '120_251.npy',\n",
       " '120_252.npy',\n",
       " '120_253.npy',\n",
       " '120_254.npy',\n",
       " '120_255.npy',\n",
       " '120_256.npy',\n",
       " '120_257.npy',\n",
       " '120_258.npy',\n",
       " '120_259.npy',\n",
       " '120_260.npy',\n",
       " '120_261.npy',\n",
       " '120_262.npy',\n",
       " '120_263.npy',\n",
       " '120_264.npy',\n",
       " '120_265.npy',\n",
       " '120_266.npy',\n",
       " '120_267.npy',\n",
       " '120_268.npy',\n",
       " '120_269.npy',\n",
       " '120_270.npy',\n",
       " '120_271.npy',\n",
       " '120_272.npy',\n",
       " '120_273.npy',\n",
       " '120_274.npy',\n",
       " '120_275.npy',\n",
       " '120_276.npy',\n",
       " '120_277.npy',\n",
       " '120_278.npy',\n",
       " '120_279.npy',\n",
       " '120_280.npy',\n",
       " '120_281.npy',\n",
       " '120_282.npy',\n",
       " '120_283.npy',\n",
       " '120_284.npy',\n",
       " '120_285.npy',\n",
       " '120_286.npy',\n",
       " '120_287.npy',\n",
       " '120_288.npy',\n",
       " '120_289.npy',\n",
       " '120_290.npy',\n",
       " '120_291.npy',\n",
       " '120_292.npy',\n",
       " '120_293.npy',\n",
       " '120_294.npy',\n",
       " '120_295.npy',\n",
       " '120_296.npy',\n",
       " '120_297.npy',\n",
       " '120_298.npy',\n",
       " '120_299.npy',\n",
       " '120_300.npy',\n",
       " '120_301.npy',\n",
       " '120_302.npy',\n",
       " '120_303.npy',\n",
       " '120_304.npy',\n",
       " '120_305.npy',\n",
       " '120_306.npy',\n",
       " '120_307.npy',\n",
       " '120_308.npy',\n",
       " '120_309.npy',\n",
       " '120_310.npy',\n",
       " '120_311.npy',\n",
       " '120_312.npy',\n",
       " '120_313.npy',\n",
       " '120_314.npy',\n",
       " '120_315.npy',\n",
       " '120_316.npy',\n",
       " '120_317.npy',\n",
       " '120_318.npy',\n",
       " '120_319.npy',\n",
       " '120_320.npy',\n",
       " '120_321.npy',\n",
       " '120_322.npy',\n",
       " '120_323.npy',\n",
       " '120_324.npy',\n",
       " '120_325.npy',\n",
       " '120_326.npy',\n",
       " '120_327.npy',\n",
       " '120_328.npy',\n",
       " '120_329.npy',\n",
       " '120_330.npy',\n",
       " '120_331.npy',\n",
       " '120_332.npy',\n",
       " '120_333.npy',\n",
       " '120_334.npy',\n",
       " '120_335.npy',\n",
       " '120_336.npy',\n",
       " '120_337.npy',\n",
       " '120_338.npy',\n",
       " '120_339.npy',\n",
       " '120_340.npy',\n",
       " '120_341.npy',\n",
       " '120_342.npy',\n",
       " '120_343.npy',\n",
       " '120_344.npy',\n",
       " '120_345.npy',\n",
       " '120_346.npy',\n",
       " '120_347.npy',\n",
       " '120_348.npy',\n",
       " '120_349.npy',\n",
       " '120_350.npy',\n",
       " '120_351.npy',\n",
       " '120_352.npy',\n",
       " '120_353.npy',\n",
       " '120_354.npy',\n",
       " '120_355.npy',\n",
       " '120_356.npy',\n",
       " '120_357.npy',\n",
       " '120_358.npy',\n",
       " '120_359.npy',\n",
       " '120_360.npy',\n",
       " '120_361.npy',\n",
       " '120_362.npy',\n",
       " '120_363.npy',\n",
       " '120_364.npy',\n",
       " '120_365.npy',\n",
       " '120_366.npy',\n",
       " '120_367.npy',\n",
       " '120_368.npy',\n",
       " '120_369.npy',\n",
       " '120_370.npy',\n",
       " '120_371.npy',\n",
       " '120_372.npy',\n",
       " '120_373.npy',\n",
       " '120_374.npy',\n",
       " '120_375.npy',\n",
       " '120_376.npy',\n",
       " '120_377.npy',\n",
       " '120_378.npy',\n",
       " '120_379.npy',\n",
       " '120_380.npy',\n",
       " '120_381.npy',\n",
       " '120_382.npy',\n",
       " '120_383.npy',\n",
       " '120_384.npy',\n",
       " '120_385.npy',\n",
       " '120_386.npy',\n",
       " '120_387.npy',\n",
       " '120_388.npy',\n",
       " '120_389.npy',\n",
       " '120_390.npy',\n",
       " '120_391.npy',\n",
       " '120_392.npy',\n",
       " '120_393.npy',\n",
       " '120_394.npy',\n",
       " '120_395.npy',\n",
       " '120_396.npy',\n",
       " '120_397.npy',\n",
       " '120_398.npy',\n",
       " '120_399.npy',\n",
       " '120_400.npy',\n",
       " '120_401.npy',\n",
       " '120_402.npy',\n",
       " '120_403.npy',\n",
       " '120_404.npy',\n",
       " '120_405.npy',\n",
       " '120_406.npy',\n",
       " '120_407.npy',\n",
       " '120_408.npy',\n",
       " '120_409.npy',\n",
       " '120_410.npy',\n",
       " '120_411.npy',\n",
       " '120_412.npy',\n",
       " '120_413.npy',\n",
       " '120_414.npy',\n",
       " '120_415.npy',\n",
       " '120_416.npy',\n",
       " '120_417.npy',\n",
       " '120_418.npy',\n",
       " '120_419.npy',\n",
       " '120_420.npy',\n",
       " '120_421.npy',\n",
       " '120_422.npy',\n",
       " '120_423.npy',\n",
       " '120_424.npy',\n",
       " '120_425.npy',\n",
       " '120_426.npy',\n",
       " '120_427.npy',\n",
       " '120_428.npy',\n",
       " '120_429.npy',\n",
       " '120_430.npy',\n",
       " '120_431.npy',\n",
       " '120_432.npy',\n",
       " '120_433.npy',\n",
       " '120_434.npy',\n",
       " '120_435.npy',\n",
       " '120_436.npy',\n",
       " '120_437.npy',\n",
       " '120_438.npy',\n",
       " '120_439.npy',\n",
       " '120_440.npy',\n",
       " '120_441.npy',\n",
       " '120_442.npy',\n",
       " '120_443.npy',\n",
       " '120_444.npy',\n",
       " '120_445.npy',\n",
       " '120_446.npy',\n",
       " '120_447.npy',\n",
       " '120_448.npy',\n",
       " '120_449.npy',\n",
       " '120_450.npy',\n",
       " '120_451.npy',\n",
       " '120_452.npy',\n",
       " '120_453.npy',\n",
       " '120_454.npy',\n",
       " '120_455.npy']"
      ]
     },
     "execution_count": 9,
     "metadata": {
      "tags": []
     },
     "output_type": "execute_result"
    }
   ],
   "source": [
    "data['F'][target][0]"
   ]
  },
  {
   "cell_type": "markdown",
   "metadata": {
    "colab_type": "text",
    "id": "0ah1RGSSTYfQ"
   },
   "source": [
    "## DataGenerator"
   ]
  },
  {
   "cell_type": "code",
   "execution_count": 0,
   "metadata": {
    "colab": {},
    "colab_type": "code",
    "id": "_gOcp1JeSop2"
   },
   "outputs": [],
   "source": [
    "'''Based on code from https://stanford.edu/~shervine/blog/keras-how-to-generate-data-on-the-fly'''\n",
    "\n",
    "class DataGenerator(Sequence):\n",
    "    \"\"\"Generates data for Keras\"\"\"\n",
    "    def __init__(self, list_IDs, labels, batch_size=32, dim=(3000),\n",
    "                 n_classes=7, shuffle=False, data_directory='data/',\n",
    "                 bin_range=(0,60), take_average=False, every_second_cell=False):\n",
    "        \"\"\"Initialization\"\"\"\n",
    "        self.dim = dim\n",
    "        self.batch_size = batch_size\n",
    "        self.labels = labels\n",
    "        self.list_IDs = list_IDs\n",
    "        self.n_classes = n_classes\n",
    "        self.shuffle = shuffle\n",
    "        self.data_directory = data_directory\n",
    "        self.bin_range=bin_range\n",
    "        self.take_average = take_average\n",
    "        self.every_second_cell = every_second_cell\n",
    "        self.indexes = None\n",
    "        self.on_epoch_end()\n",
    "\n",
    "    def __len__(self):\n",
    "        \"\"\"Denotes the number of batches per epoch\"\"\"\n",
    "        return int(np.floor(len(self.list_IDs) / self.batch_size))\n",
    "\n",
    "    def __getitem__(self, index):\n",
    "        \"\"\"Generate one batch of data\"\"\"\n",
    "\n",
    "        # Generate indexes of the batch\n",
    "        indexes = self.indexes[index*self.batch_size:(index+1)*self.batch_size]\n",
    "\n",
    "        # Find list of IDs\n",
    "        list_IDs_temp = [self.list_IDs[k] for k in indexes]\n",
    "\n",
    "        # Generate data\n",
    "        X, y = self.__data_generation(list_IDs_temp)\n",
    "\n",
    "        return X, y\n",
    "\n",
    "    def on_epoch_end(self):\n",
    "        \"\"\"Updates indexes after each epoch\"\"\"\n",
    "        self.indexes = np.arange(len(self.list_IDs))\n",
    "        if self.shuffle:\n",
    "            np.random.shuffle(self.indexes)\n",
    "\n",
    "    def __data_generation(self, list_IDs_temp):\n",
    "        \"\"\"Generates data containing batch_size samples\"\"\"\n",
    "        # Initialization\n",
    "        X = np.empty((self.batch_size, *self.dim))\n",
    "\n",
    "        y = np.empty((self.batch_size), dtype=int)\n",
    "\n",
    "        # Generate data\n",
    "        for i, ID in enumerate(list_IDs_temp):\n",
    "            # Store sample\n",
    "            if self.take_average:\n",
    "                X[i,] = abs(np.average(np.load(self.data_directory + ID), axis=1)[:,np.newaxis])\n",
    "                \n",
    "            elif self.every_second_cell:\n",
    "                X[i,] = abs(np.load(self.data_directory + ID))[:,::2]\n",
    "                \n",
    "            else:\n",
    "                X[i,] = abs(np.load(self.data_directory + ID))[:,self.bin_range[0]:self.bin_range[1]]\n",
    "                \n",
    "            # Store class\n",
    "            y[i] = self.labels[ID]\n",
    "\n",
    "        return X, to_categorical(y, num_classes=self.n_classes)"
   ]
  },
  {
   "cell_type": "markdown",
   "metadata": {
    "colab_type": "text",
    "id": "88LpWZJeTfj2"
   },
   "source": [
    "## Model: Wavenet model adapted based on interpretation from Wavenet Paper\n",
    "\n",
    "Keras implementation of wavenet model taken from https://github.com/basveeling/wavenet and https://github.com/mjpyeon/wavenet-classifier\n",
    "\n",
    "This model has then been adapted to the classification task based on the intrustions from the paper \"WAVENET: A GENERATIVE MODEL FOR RAW AUDIO\" (https://arxiv.org/pdf/1609.03499.pdf)\n",
    "\n",
    "Specifically:\n",
    "\"For this task we added a mean-pooling layer after the dilated convolutions that aggregated the activations to coarser frames spanning 10 milliseconds (160× downsampling).  The pooling layer was followed by a few non-causal convolutions.\""
   ]
  },
  {
   "cell_type": "code",
   "execution_count": 0,
   "metadata": {
    "colab": {},
    "colab_type": "code",
    "id": "6NQPywYkKEkm"
   },
   "outputs": [],
   "source": [
    "class WaveNetClassifier:\n",
    "    def __init__(self, input_shape, output_shape, kernel_size=2, dilation_depth=9, nb_stacks=1, nb_filters=40,\n",
    "                 pool_size=80, kernel_size_2=100, use_skip_connections=True, causal=True, residual_l2=0.001,\n",
    "                 conv_l2=0.001, fully_l2=0.001, use_batch_norm=True, num_dense_nodes=512):\n",
    "\n",
    "        self.activation = 'softmax'\n",
    "        self.pool_size = pool_size\n",
    "        self.kernel_size_2 = kernel_size_2 # kernel size for later conV 1d (not dilated)\n",
    "        self.nb_stacks = nb_stacks\n",
    "        self.kernel_size = kernel_size # kernel size for dilated  layers\n",
    "        self.dilation_depth = dilation_depth\n",
    "        self.nb_filters = nb_filters\n",
    "        self.residual_l2 = residual_l2 # l2 value for residual layers\n",
    "        self.conv_l2 = conv_l2 # l2 value for stack of standard conv layers\n",
    "        self.fully_l2 = fully_l2 # l2 value for fully connected layer\n",
    "        self.use_skip_connections = use_skip_connections\n",
    "        self.use_batch_norm = use_batch_norm\n",
    "        self.num_dense_nodes = num_dense_nodes\n",
    "        self.input_shape = input_shape\n",
    "        self.output_shape = output_shape\n",
    "        if causal:\n",
    "            self.padding = 'causal'\n",
    "        else:\n",
    "            self.padding = 'same'\n",
    "\n",
    "        if len(input_shape) == 1:\n",
    "            self.expand_dims = True\n",
    "        elif len(input_shape) == 2:\n",
    "            self.expand_dims = False\n",
    "        else:\n",
    "            print('ERROR: wrong input shape')\n",
    "            sys.exit()\n",
    "\n",
    "        self.model = self.build_model()\n",
    "\n",
    "    def residual_block(self, x, i, stack_nb):\n",
    "        original_x = x\n",
    "        tanh_out = Conv1D(self.nb_filters, self.kernel_size, dilation_rate=2 ** i, padding=self.padding,\n",
    "                          name='dilated_conv_%d_tanh_s%d' % (2 ** i, stack_nb), activation='tanh',\n",
    "                          kernel_regularizer=l2(self.residual_l2))(x)\n",
    "        sigm_out = Conv1D(self.nb_filters, self.kernel_size, dilation_rate=2 ** i, padding=self.padding,\n",
    "                          name='dilated_conv_%d_sigm_s%d' % (2 ** i, stack_nb), activation='sigmoid',\n",
    "                          kernel_regularizer=l2(self.residual_l2))(x)\n",
    "        x = Multiply(name='gated_activation_%d_s%d' % (i, stack_nb))([tanh_out, sigm_out])\n",
    "\n",
    "        res_x = Conv1D(self.nb_filters, 1, padding='same', kernel_regularizer=l2(self.residual_l2))(x)\n",
    "        skip_x = Conv1D(self.nb_filters, 1, padding='same', kernel_regularizer=l2(self.residual_l2))(x)\n",
    "        res_x = Add()([original_x, res_x])\n",
    "        return res_x, skip_x\n",
    "\n",
    "    def build_model(self):\n",
    "        input_layer = Input(shape=self.input_shape, name='input_part')\n",
    "        out = input_layer\n",
    "        skip_connections = []\n",
    "        out = Conv1D(self.nb_filters, self.kernel_size,\n",
    "                     dilation_rate=1,\n",
    "                     padding=self.padding,\n",
    "                     name='initial_causal_conv'\n",
    "                     )(out)\n",
    "        for stack_nb in range(self.nb_stacks):\n",
    "            for i in range(0, self.dilation_depth + 1):\n",
    "                out, skip_out = self.residual_block(out, i, stack_nb)\n",
    "                skip_connections.append(skip_out)\n",
    "\n",
    "        if self.use_skip_connections:\n",
    "            out = Add()(skip_connections)\n",
    "        out = Activation('relu')(out)\n",
    "        # added a mean-pooling layer after the dilated convolutions that aggregated the activations to coarser frames\n",
    "        # spanning 10 milliseconds (160× downsampling)\n",
    "        # mean pooling layer adjust pool_size_1 to change downsampling\n",
    "                \n",
    "        out = AveragePooling1D(self.pool_size, padding='same', name='mean_pooling_layer_downsampling')(out)\n",
    "\n",
    "        # few non-causal convolutions\n",
    "        # In notebooks 11, 12 and 13 self.kernel_size_2 was incorrectly represented as pooling sizes.\n",
    "        out = Conv1D(self.nb_filters, self.kernel_size_2, strides=2, padding='same', activation='relu',\n",
    "                     kernel_regularizer=l2(self.conv_l2))(out)\n",
    "        \n",
    "        if self.use_batch_norm:\n",
    "            out = BatchNormalization()(out)\n",
    "        \n",
    "        out = Conv1D(self.nb_filters, self.kernel_size_2, strides=2, padding='same', activation='relu',\n",
    "                     kernel_regularizer=l2(self.conv_l2))(out)\n",
    "        \n",
    "        if self.use_batch_norm:\n",
    "            out = BatchNormalization()(out)\n",
    "        \n",
    "        out = Conv1D(self.output_shape, self.kernel_size_2, strides=2, padding='same', activation='relu',\n",
    "                     kernel_regularizer=l2(self.conv_l2))(out)\n",
    "        \n",
    "        if self.use_batch_norm:\n",
    "            out = BatchNormalization()(out)\n",
    "        \n",
    "        out = Conv1D(self.output_shape, self.kernel_size_2, strides=2, padding='same', activation='relu',\n",
    "                     kernel_regularizer=l2(self.conv_l2))(out)\n",
    "\n",
    "        if self.use_batch_norm:\n",
    "            out = BatchNormalization()(out)\n",
    "            \n",
    "        out = Flatten()(out)\n",
    "        out = Dense(num_dense_nodes, activation='relu', kernel_regularizer=l2(self.fully_l2))(out)\n",
    "        out = Dense(self.output_shape, activation='softmax')(out)\n",
    "\n",
    "        return Model(input_layer, out)\n",
    "\n",
    "    def get_model(self):\n",
    "        return self.model\n",
    "\n",
    "    def get_summary(self):\n",
    "        self.model.summary()\n",
    "\n",
    "    def get_receptive_field(self):\n",
    "        k = self.kernel_size\n",
    "        n = self.dilation_depth\n",
    "        s = self.nb_stacks\n",
    "        r_s = k + (2*(k-1)*((2**(n-1))-1))  # receptive field for one stack\n",
    "        return (s*r_s) - (s-1)  # total receptive field for 's' number of stacks"
   ]
  },
  {
   "cell_type": "markdown",
   "metadata": {
    "colab_type": "text",
    "id": "g5MbyKPnKEks"
   },
   "source": [
    "# Experiment Setup"
   ]
  },
  {
   "cell_type": "code",
   "execution_count": 14,
   "metadata": {
    "colab": {},
    "colab_type": "code",
    "id": "QltC7_2nKEkw"
   },
   "outputs": [],
   "source": [
    "SAVE_RESULTS_TEST_C = False\n",
    "SAVE_GRAPHS_TEST_C = True\n",
    "\n",
    "SAVE_RESULTS_20 = False\n",
    "SAVE_GRAPHS_20 = True\n",
    "\n",
    "SAVE_RESULTS_6_FOLD = False\n",
    "SAVE_GRAPHS_6_FOLD = True"
   ]
  },
  {
   "cell_type": "markdown",
   "metadata": {
    "colab_type": "text",
    "id": "IqTqWciEKEk0"
   },
   "source": [
    "## Load Hyperparameters"
   ]
  },
  {
   "cell_type": "code",
   "execution_count": 0,
   "metadata": {
    "colab": {},
    "colab_type": "code",
    "id": "e2eM2CsVKEk2"
   },
   "outputs": [],
   "source": [
    "# needed for loading results (objective needs to be defined)\n",
    "def objective():\n",
    "    return 0"
   ]
  },
  {
   "cell_type": "code",
   "execution_count": 0,
   "metadata": {
    "colab": {},
    "colab_type": "code",
    "id": "Gq8KkLYOKElB"
   },
   "outputs": [],
   "source": [
    "dimensions = ['n_filters', 'kernel_size', 'dilation_depth', 'number_of_stacks',\n",
    "              'pool_size', 'kernel_size_2', 'early_stopping_patience']\n",
    "\n",
    "# res_gp = load(HYPERPARAMETER_PATH + \"res_gp_complete.pkl\")\n",
    "res_gp = load(HYPERPARAMETER_PATH + \"res_gp_checkpoint.pkl\")\n",
    "\n",
    "parameters = res_gp.x"
   ]
  },
  {
   "cell_type": "code",
   "execution_count": 0,
   "metadata": {
    "colab": {},
    "colab_type": "code",
    "id": "cqYdcGNXKElJ",
    "outputId": "7d959132-b665-44e0-8459-6b09dce2e390"
   },
   "outputs": [
    {
     "name": "stdout",
     "output_type": "stream",
     "text": [
      "n_filters: 32\n",
      "kernel_size: 3\n",
      "dilation_depth: 3\n",
      "number_of_stacks: 2\n",
      "pool_size: 6\n",
      "kernel_size_2: 2\n",
      "early_stopping_patience: 4\n"
     ]
    }
   ],
   "source": [
    "for index, parameter in enumerate(parameters):\n",
    "    print(dimensions[index] + \":\", parameter)"
   ]
  },
  {
   "cell_type": "code",
   "execution_count": 0,
   "metadata": {
    "colab": {},
    "colab_type": "code",
    "id": "iUCE_TQJKElU"
   },
   "outputs": [],
   "source": [
    "n_filters = int(parameters[0])\n",
    "kernel_size = int(parameters[1])\n",
    "dilation_depth = int(parameters[2])\n",
    "number_of_stacks = int(parameters[3])\n",
    "pool_size = int(parameters[4])\n",
    "kernel_size_2 = int(parameters[5])\n",
    "early_stopping_patience = int(parameters[6])"
   ]
  },
  {
   "cell_type": "markdown",
   "metadata": {
    "colab_type": "text",
    "id": "qZ-4qF_zKElj"
   },
   "source": [
    "## Set Params"
   ]
  },
  {
   "cell_type": "code",
   "execution_count": 0,
   "metadata": {
    "colab": {},
    "colab_type": "code",
    "id": "CxXVIaedsPxK"
   },
   "outputs": [],
   "source": [
    "bin_range = (0, 63)\n",
    "data_shape = (3000, 32)\n",
    "\n",
    "activation = 'softmax'\n",
    "\n",
    "epochs = 10\n",
    "batch_size = 16\n",
    "\n",
    "num_dense_nodes = 512\n",
    "\n",
    "residual_l2 = 0.001\n",
    "conv_l2 = 0.001\n",
    "fully_l2 = 0.001\n",
    "use_batch_norm = False\n",
    "\n",
    "# Parameters for data generators\n",
    "data_gen_params = {'dim': data_shape,\n",
    "                   'batch_size': batch_size,\n",
    "                   'n_classes': nb_classes,\n",
    "                   'data_directory': DATA_PATH_NO_MTI,\n",
    "                   'bin_range': bin_range,\n",
    "                   'every_second_cell': True}"
   ]
  },
  {
   "cell_type": "markdown",
   "metadata": {
    "colab_type": "text",
    "id": "Yf-JGxSXKElz"
   },
   "source": [
    "## Create Classifier"
   ]
  },
  {
   "cell_type": "code",
   "execution_count": 0,
   "metadata": {
    "colab": {},
    "colab_type": "code",
    "id": "uXM8Ty55KEl3"
   },
   "outputs": [],
   "source": [
    "wnc = WaveNetClassifier((data_shape), (nb_classes), kernel_size=kernel_size,\n",
    "                        dilation_depth=dilation_depth, nb_stacks=number_of_stacks,\n",
    "                        nb_filters=n_filters,\n",
    "                        pool_size=pool_size, kernel_size_2=kernel_size_2,\n",
    "                        residual_l2=residual_l2, conv_l2=conv_l2, fully_l2=fully_l2,\n",
    "                        use_batch_norm=use_batch_norm)"
   ]
  },
  {
   "cell_type": "markdown",
   "metadata": {
    "colab_type": "text",
    "id": "rhFcRSbwZCCw"
   },
   "source": [
    "# Evaluating on subject C"
   ]
  },
  {
   "cell_type": "code",
   "execution_count": 0,
   "metadata": {
    "colab": {},
    "colab_type": "code",
    "id": "9XWzNGmxKEmE"
   },
   "outputs": [],
   "source": [
    "def split_train_val_test_by_subject(data, test_subject):\n",
    "    labels = {}\n",
    "    partition = {'train': [], 'validation': [], 'test': []}  # contains list of training and validation ID's\n",
    "\n",
    "    for subject_letter, actions in data.items():\n",
    "        for action, results in actions.items():\n",
    "            for result in results:\n",
    "                # do not split the test subject\n",
    "                if subject_letter == test_subject:\n",
    "                    for row in result:\n",
    "                        partition[\"test\"].append(row)\n",
    "                        labels[row] = convert_label_to_int(action)\n",
    "                        \n",
    "                # if not test subject split data 80:20 (in consectutive chunks)\n",
    "                else:            \n",
    "                    res = np.array(result)\n",
    "                    # Split into 5 folds then take 1 fold for 20%\n",
    "                    split_actions = np.array_split(res, 5)\n",
    "                    for fold in range(5):\n",
    "                        data = split_actions[fold]\n",
    "                        if fold == 0:\n",
    "                            for row in data:\n",
    "                                partition[\"validation\"].append(row)\n",
    "                                labels[row] = convert_label_to_int(action)\n",
    "\n",
    "                        else:\n",
    "                            for row in data:\n",
    "                                partition[\"train\"].append(row)\n",
    "                                labels[row] = convert_label_to_int(action)       \n",
    "                                \n",
    "    return {\"complete_index\": labels, \"partition\":partition}"
   ]
  },
  {
   "cell_type": "code",
   "execution_count": 0,
   "metadata": {
    "colab": {},
    "colab_type": "code",
    "id": "PJ0jgb9GKEmP"
   },
   "outputs": [],
   "source": [
    "data_split = split_train_val_test_by_subject(data, \"C\")\n",
    "complete_index = data_split[\"complete_index\"]\n",
    "partition = data_split[\"partition\"]"
   ]
  },
  {
   "cell_type": "markdown",
   "metadata": {
    "colab_type": "text",
    "id": "mfCK-ywZKEmZ"
   },
   "source": [
    "### Train Model"
   ]
  },
  {
   "cell_type": "code",
   "execution_count": 0,
   "metadata": {
    "colab": {},
    "colab_type": "code",
    "id": "zX08HFliKEmi",
    "outputId": "b16fbe50-d18d-481f-a4f2-b1c22b71483b"
   },
   "outputs": [
    {
     "name": "stdout",
     "output_type": "stream",
     "text": [
      "['loss', 'acc']\n"
     ]
    },
    {
     "data": {
      "text/plain": [
       "\"\\ncallback_list = []\\n# -1 used to represent no early stopping\\nif early_stopping_patience != -1:\\n    early_stopping = EarlyStopping(monitor='val_loss', patience=early_stopping_patience)\\n    callback_list.append(early_stopping)\\n\\nhistory = model.fit_generator(generator=training_generator,\\n                              validation_data=validation_generator,\\n                              epochs=epochs,\\n                              callbacks=callback_list)\\n\""
      ]
     },
     "execution_count": 24,
     "metadata": {
      "tags": []
     },
     "output_type": "execute_result"
    }
   ],
   "source": [
    "wnc.build_model()\n",
    "model = wnc.get_model()\n",
    "\n",
    "training_generator = DataGenerator(partition['train'], complete_index, **data_gen_params, shuffle=True)\n",
    "validation_generator = DataGenerator(partition['validation'], complete_index, **data_gen_params, shuffle=False)\n",
    "\n",
    "model.compile('adam', loss='categorical_crossentropy', metrics=['accuracy'])\n",
    "\n",
    "callback_list = []\n",
    "# -1 used to represent no early stopping\n",
    "if early_stopping_patience != -1:\n",
    "    early_stopping = EarlyStopping(monitor='val_loss', patience=early_stopping_patience)\n",
    "    callback_list.append(early_stopping)\n",
    "\n",
    "history = model.fit_generator(generator=training_generator,\n",
    "                              validation_data=validation_generator,\n",
    "                              epochs=epochs,\n",
    "                              callbacks=callback_list)"
   ]
  },
  {
   "cell_type": "markdown",
   "metadata": {
    "colab_type": "text",
    "id": "HJRGYt85KEmz"
   },
   "source": [
    "### Evaluate Model"
   ]
  },
  {
   "cell_type": "code",
   "execution_count": 0,
   "metadata": {
    "colab": {},
    "colab_type": "code",
    "id": "9ExQQkA8KEm2"
   },
   "outputs": [],
   "source": [
    "test_generator = DataGenerator(partition['test'], complete_index, **data_gen_params, shuffle=False)\n",
    "\n",
    "predictions = model.predict_generator(test_generator)\n",
    "predictions = np.argmax(predictions,axis=1)\n",
    "true_labels = []\n",
    "for ID in test_generator.list_IDs:\n",
    "    true_labels.append(complete_index[ID])\n",
    "\n",
    "true_labels = np.array(true_labels)\n",
    "true_labels = true_labels[:len(predictions)]\n",
    "\n",
    "cm = confusion_matrix(true_labels, predictions)\n",
    "\n",
    "evaluation = model.evaluate_generator(test_generator)\n",
    "\n",
    "results = {\n",
    "    \"confusion_matrix\": cm,\n",
    "    \"loss\": evaluation[0],\n",
    "    \"accuracy\": evaluation[1],\n",
    "    \"history\": history.history\n",
    "}"
   ]
  },
  {
   "cell_type": "markdown",
   "metadata": {
    "colab_type": "text",
    "id": "svG3ybc3KEm7"
   },
   "source": [
    "### Save Results"
   ]
  },
  {
   "cell_type": "code",
   "execution_count": 0,
   "metadata": {
    "colab": {},
    "colab_type": "code",
    "id": "1S2PsgxmKEm8"
   },
   "outputs": [],
   "source": [
    "if SAVE_RESULTS_TEST_C:\n",
    "    with open(RESULTS_PATH + \"results_test_c.pkl\", 'wb') as results_file:\n",
    "        pickle.dump(results, results_file)"
   ]
  },
  {
   "cell_type": "markdown",
   "metadata": {
    "colab_type": "text",
    "id": "jGE8J9BQKEnE"
   },
   "source": [
    "### Load Results"
   ]
  },
  {
   "cell_type": "code",
   "execution_count": 15,
   "metadata": {
    "colab": {},
    "colab_type": "code",
    "id": "YqeDsGoyKEnG"
   },
   "outputs": [],
   "source": [
    "with open(RESULTS_PATH + \"results_c.pkl\", 'rb') as results_file:\n",
    "    results = pickle.load(results_file)"
   ]
  },
  {
   "cell_type": "markdown",
   "metadata": {
    "colab_type": "text",
    "id": "M4Wp_tBZKEnJ"
   },
   "source": [
    "### Visualize Results"
   ]
  },
  {
   "cell_type": "code",
   "execution_count": 0,
   "metadata": {
    "colab": {
     "base_uri": "https://localhost:8080/",
     "height": 899
    },
    "colab_type": "code",
    "executionInfo": {
     "elapsed": 586,
     "status": "ok",
     "timestamp": 1552561675580,
     "user": {
      "displayName": "Andrew Mackay",
      "photoUrl": "https://lh3.googleusercontent.com/-24hiGmdxZDE/AAAAAAAAAAI/AAAAAAAAL_I/RW7nqM11LkM/s64/photo.jpg",
      "userId": "06804410358976473893"
     },
     "user_tz": 0
    },
    "id": "Z3ucTYS8KEnK",
    "outputId": "6471da6e-f196-4f1b-8109-f3d47451a51e"
   },
   "outputs": [
    {
     "data": {
      "text/plain": [
       "{'accuracy': 0.7432228915662651,\n",
       " 'confusion_matrix': array([[1138,    0,    0,    0,    2,    0,    0],\n",
       "        [   0,  567,    4,    0,  174,    5,  390],\n",
       "        [   7,   12, 1121,    0,    0,    0,    0],\n",
       "        [   0,    0,   17,    6, 1028,    4,   85],\n",
       "        [   0,    0,    0,    0, 1140,    0,    0],\n",
       "        [   1,    0,    0,    0,  304,  822,   13],\n",
       "        [   0,    0,    0,    0,    0,    0, 1128]]),\n",
       " 'history': {'acc': [0.7236879232505643,\n",
       "   0.9562641083521445,\n",
       "   0.9735468397291196,\n",
       "   0.978096783295711,\n",
       "   0.9874082957110609,\n",
       "   0.9848335214446953,\n",
       "   0.9866676072234764,\n",
       "   0.9933338036117382,\n",
       "   0.9862443566591422,\n",
       "   0.9896303611738149],\n",
       "  'loss': [1.2851749686671434,\n",
       "   0.5325409241575689,\n",
       "   0.37371869874659835,\n",
       "   0.30041091665457387,\n",
       "   0.23029342508174766,\n",
       "   0.2108712672901342,\n",
       "   0.18187170054839238,\n",
       "   0.14703324038543766,\n",
       "   0.15380835301467716,\n",
       "   0.1466344990273496],\n",
       "  'val_acc': [0.8964446952595937,\n",
       "   0.9549943566591422,\n",
       "   0.9497742663656885,\n",
       "   0.9430022573363431,\n",
       "   0.9816591422121896,\n",
       "   0.9483634311512416,\n",
       "   0.9864559819413092,\n",
       "   0.9929458239277652,\n",
       "   0.9877257336343115,\n",
       "   0.9870203160270881],\n",
       "  'val_loss': [0.7769123206154757,\n",
       "   0.4544998461182984,\n",
       "   0.4023777298276096,\n",
       "   0.4640259507614657,\n",
       "   0.22502879293858333,\n",
       "   0.3976614651844141,\n",
       "   0.1914355014839775,\n",
       "   0.11552704734471259,\n",
       "   0.15743956676186072,\n",
       "   0.16285273328457137]},\n",
       " 'loss': 2.306856339356028}"
      ]
     },
     "execution_count": 6,
     "metadata": {
      "tags": []
     },
     "output_type": "execute_result"
    }
   ],
   "source": [
    "results"
   ]
  },
  {
   "cell_type": "code",
   "execution_count": 0,
   "metadata": {
    "colab": {},
    "colab_type": "code",
    "id": "cdjrMBQGKEnP"
   },
   "outputs": [],
   "source": [
    "K.clear_session()"
   ]
  },
  {
   "cell_type": "code",
   "execution_count": 16,
   "metadata": {
    "colab": {
     "base_uri": "https://localhost:8080/",
     "height": 35
    },
    "colab_type": "code",
    "executionInfo": {
     "elapsed": 712,
     "status": "ok",
     "timestamp": 1552561682689,
     "user": {
      "displayName": "Andrew Mackay",
      "photoUrl": "https://lh3.googleusercontent.com/-24hiGmdxZDE/AAAAAAAAAAI/AAAAAAAAL_I/RW7nqM11LkM/s64/photo.jpg",
      "userId": "06804410358976473893"
     },
     "user_tz": 0
    },
    "id": "5ZpMQeoQKEnQ",
    "outputId": "c4c85c8f-ccd2-4df7-c4b9-85fa2b919d27"
   },
   "outputs": [
    {
     "name": "stdout",
     "output_type": "stream",
     "text": [
      "Accuracy: 74.32228915662651\n"
     ]
    }
   ],
   "source": [
    "print(\"Accuracy:\",results[\"accuracy\"]*100)"
   ]
  },
  {
   "cell_type": "code",
   "execution_count": 18,
   "metadata": {
    "colab": {
     "base_uri": "https://localhost:8080/",
     "height": 376
    },
    "colab_type": "code",
    "executionInfo": {
     "elapsed": 705,
     "status": "ok",
     "timestamp": 1552561738984,
     "user": {
      "displayName": "Andrew Mackay",
      "photoUrl": "https://lh3.googleusercontent.com/-24hiGmdxZDE/AAAAAAAAAAI/AAAAAAAAL_I/RW7nqM11LkM/s64/photo.jpg",
      "userId": "06804410358976473893"
     },
     "user_tz": 0
    },
    "id": "wcAl-X0xKEnW",
    "outputId": "350bf2ec-c710-49cf-baa2-bb0150316c0c",
    "scrolled": true
   },
   "outputs": [
    {
     "data": {
      "image/png": "[encoded data removed]",
      "text/plain": [
       "<Figure size 432x288 with 1 Axes>"
      ]
     },
     "metadata": {
      "needs_background": "light"
     },
     "output_type": "display_data"
    }
   ],
   "source": [
    "training_acc = results[\"history\"]['acc']\n",
    "test_acc = results[\"history\"]['val_acc']\n",
    "\n",
    "# Create count of the number of epochs\n",
    "epoch_count = range(1, len(training_acc) + 1)\n",
    "\n",
    "# Visualize loss history\n",
    "plt.plot(epoch_count, training_acc, 'b--')\n",
    "plt.plot(epoch_count, test_acc, 'r-')\n",
    "plt.legend(['Training Accuracy', 'Test Accuracy'])\n",
    "plt.xlabel('Epoch')\n",
    "plt.ylabel('Accuracy')\n",
    "plt.title(\"Comparison of Training vs Test Accuracy\")\n",
    "plt.grid()\n",
    "if SAVE_GRAPHS_TEST_C:\n",
    "    plt.savefig(RESULTS_PATH + \"training_vs_test_acc.pdf\", format='pdf')\n",
    "plt.show()"
   ]
  },
  {
   "cell_type": "code",
   "execution_count": 19,
   "metadata": {
    "colab": {},
    "colab_type": "code",
    "id": "gMWQx6nUKEnb"
   },
   "outputs": [],
   "source": [
    "def plot_confusion_matrix(cm, classes, save=False, path='/'):\n",
    "    plt.imshow(cm, interpolation='nearest', cmap=plt.cm.Blues)\n",
    "    plt.title(\"Confusion Matrix\")\n",
    "    plt.colorbar()\n",
    "    tick_marks = np.arange(len(classes))\n",
    "    plt.xticks(tick_marks, classes, rotation=45)\n",
    "    plt.yticks(tick_marks, classes)\n",
    "    plt.ylabel('True label')\n",
    "    plt.xlabel('Predicted label')\n",
    "    plt.tight_layout()\n",
    "    if save:\n",
    "        plt.savefig(path, format='pdf')\n",
    "    plt.show()"
   ]
  },
  {
   "cell_type": "code",
   "execution_count": 22,
   "metadata": {
    "colab": {
     "base_uri": "https://localhost:8080/",
     "height": 401
    },
    "colab_type": "code",
    "executionInfo": {
     "elapsed": 880,
     "status": "ok",
     "timestamp": 1552561745783,
     "user": {
      "displayName": "Andrew Mackay",
      "photoUrl": "https://lh3.googleusercontent.com/-24hiGmdxZDE/AAAAAAAAAAI/AAAAAAAAL_I/RW7nqM11LkM/s64/photo.jpg",
      "userId": "06804410358976473893"
     },
     "user_tz": 0
    },
    "id": "qD9FJYLCKEni",
    "outputId": "a8fbafcb-fef6-449d-eff4-3e84ea3f0397"
   },
   "outputs": [
    {
     "data": {
      "image/png": "[encoded data removed]",
      "text/plain": [
       "<Figure size 432x288 with 2 Axes>"
      ]
     },
     "metadata": {
      "needs_background": "light"
     },
     "output_type": "display_data"
    }
   ],
   "source": [
    "plot_confusion_matrix(results[\"confusion_matrix\"], target_names)"
   ]
  },
  {
   "cell_type": "markdown",
   "metadata": {
    "colab_type": "text",
    "id": "F9MzD4q9KEnp"
   },
   "source": [
    "# Evaluating on subset of the data (all subjects) 5-Fold\n",
    "use 60% for training, 20% for validation (early stopping) and the final 20% for testing."
   ]
  },
  {
   "cell_type": "code",
   "execution_count": 0,
   "metadata": {
    "colab": {},
    "colab_type": "code",
    "id": "BZcwvY6TKEnr"
   },
   "outputs": [],
   "source": [
    "def split_data_by_fold(data, test_fold, validation_fold, total_folds=5):\n",
    "    labels = {}\n",
    "    partition = {'train':[], 'validation':[], 'test':[]}\n",
    "\n",
    "    for user_letter, actions in data.items():\n",
    "        for action, results in actions.items():\n",
    "            for result in results:\n",
    "                res = np.array(result)\n",
    "                # Split into 5 folds then take 1 fold for 20%\n",
    "                split_actions = np.array_split(res, 5)\n",
    "                for fold in range(total_folds):\n",
    "                    data = split_actions[fold]\n",
    "                    if fold == test_fold:\n",
    "                        for row in data:\n",
    "                            partition[\"test\"].append(row)\n",
    "                            labels[row] = convert_label_to_int(action)\n",
    "                            \n",
    "                    elif fold == validation_fold:\n",
    "                        for row in data:\n",
    "                            partition[\"validation\"].append(row)\n",
    "                            labels[row] = convert_label_to_int(action)\n",
    "\n",
    "                    else:\n",
    "                        for row in data:\n",
    "                            partition[\"train\"].append(row)\n",
    "                            labels[row] = convert_label_to_int(action) \n",
    "                            \n",
    "    return {\"complete_index\": labels, \"partition\":partition}"
   ]
  },
  {
   "cell_type": "code",
   "execution_count": 26,
   "metadata": {
    "colab": {},
    "colab_type": "code",
    "id": "wgVZjKZEKEn2"
   },
   "outputs": [],
   "source": [
    "k_fold_results = {}\n",
    "number_of_folds = 5\n",
    "for fold in range(number_of_folds):\n",
    "    k_fold_results[str(fold)] = {}"
   ]
  },
  {
   "cell_type": "code",
   "execution_count": 0,
   "metadata": {
    "colab": {},
    "colab_type": "code",
    "id": "N6VOiowyKEn6"
   },
   "outputs": [],
   "source": [
    "average_accuracy = 0\n",
    "average_loss = 0\n",
    "for fold in range(number_of_folds):\n",
    "    test_fold = fold\n",
    "    validation_fold = (test_fold + 1) % number_of_folds\n",
    "    print(\"Fold:\", fold)\n",
    "    \n",
    "    data_split = split_data_by_fold(data, test_fold, validation_fold, number_of_folds)\n",
    "    complete_index = data_split[\"complete_index\"]\n",
    "    partition = data_split[\"partition\"]\n",
    "    \n",
    "    wnc.build_model()\n",
    "    model = wnc.get_model()\n",
    "\n",
    "    training_generator = DataGenerator(partition['train'], complete_index, **data_gen_params, shuffle=True)\n",
    "    validation_generator = DataGenerator(partition['validation'], complete_index, **data_gen_params, shuffle=False)\n",
    "    test_generator = DataGenerator(partition['test'], complete_index, **data_gen_params, shuffle=False)\n",
    "\n",
    "    model.compile('adam', loss='categorical_crossentropy', metrics=['accuracy'])\n",
    "\n",
    "    callback_list = []\n",
    "    # -1 used to represent no early stopping\n",
    "    if early_stopping_patience != -1:\n",
    "        early_stopping = EarlyStopping(monitor='val_loss', patience=early_stopping_patience)\n",
    "        callback_list.append(early_stopping)\n",
    "\n",
    "    model.fit_generator(generator=training_generator,\n",
    "                        validation_data=validation_generator,\n",
    "                        epochs=epochs,\n",
    "                        callbacks=callback_list)\n",
    "\n",
    "    evaluation = model.evaluate_generator(test_generator)\n",
    "    loss = evaluation[0]\n",
    "    accuracy = evaluation[1]\n",
    "\n",
    "    average_accuracy += accuracy\n",
    "    average_loss += loss\n",
    "    k_fold_results[str(fold)][\"accuracy\"] = accuracy\n",
    "    k_fold_results[str(fold)][\"loss\"] = loss\n",
    "    \n",
    "k_fold_results[\"average_accuracy\"] = average_accuracy/number_of_folds\n",
    "k_fold_results[\"average_loss\"] = average_loss/number_of_folds"
   ]
  },
  {
   "cell_type": "markdown",
   "metadata": {
    "colab_type": "text",
    "id": "e4GTgTSXKEn9"
   },
   "source": [
    "## Save Results"
   ]
  },
  {
   "cell_type": "code",
   "execution_count": 0,
   "metadata": {
    "colab": {},
    "colab_type": "code",
    "id": "Blz86CEsKEn_"
   },
   "outputs": [],
   "source": [
    "if SAVE_RESULTS_20:\n",
    "    with open(RESULTS_PATH + \"results_test_20.pkl\", 'wb') as results_file:\n",
    "        pickle.dump(k_fold_results, results_file)"
   ]
  },
  {
   "cell_type": "markdown",
   "metadata": {
    "colab_type": "text",
    "id": "gi40vficKEoB"
   },
   "source": [
    "## Load Results"
   ]
  },
  {
   "cell_type": "code",
   "execution_count": 27,
   "metadata": {
    "colab": {},
    "colab_type": "code",
    "id": "RxTPAEG8KEoC"
   },
   "outputs": [],
   "source": [
    "with open(RESULTS_PATH + \"results_20.pkl\", 'rb') as results_file:\n",
    "    k_fold_results = pickle.load(results_file)"
   ]
  },
  {
   "cell_type": "markdown",
   "metadata": {
    "colab_type": "text",
    "id": "4uJhjBeQKEoj"
   },
   "source": [
    "## Visualize Results"
   ]
  },
  {
   "cell_type": "code",
   "execution_count": 24,
   "metadata": {
    "colab": {
     "base_uri": "https://localhost:8080/",
     "height": 53
    },
    "colab_type": "code",
    "executionInfo": {
     "elapsed": 763,
     "status": "ok",
     "timestamp": 1552727347527,
     "user": {
      "displayName": "Andrew Mackay",
      "photoUrl": "https://lh3.googleusercontent.com/-24hiGmdxZDE/AAAAAAAAAAI/AAAAAAAAL_I/RW7nqM11LkM/s64/photo.jpg",
      "userId": "06804410358976473893"
     },
     "user_tz": 0
    },
    "id": "wTKO3CgnKEok",
    "outputId": "49b812c8-af27-4683-a6e3-fb4dd90eb132"
   },
   "outputs": [
    {
     "name": "stdout",
     "output_type": "stream",
     "text": [
      "Average Accuracy: 97.94383226981441\n",
      "Average Loss: 0.17315185022966728\n"
     ]
    }
   ],
   "source": [
    "print(\"Average Accuracy:\", k_fold_results[\"average_accuracy\"]*100)\n",
    "print(\"Average Loss:\", k_fold_results[\"average_loss\"])"
   ]
  },
  {
   "cell_type": "code",
   "execution_count": 5,
   "metadata": {
    "colab": {
     "base_uri": "https://localhost:8080/",
     "height": 143
    },
    "colab_type": "code",
    "executionInfo": {
     "elapsed": 1243,
     "status": "ok",
     "timestamp": 1552727353947,
     "user": {
      "displayName": "Andrew Mackay",
      "photoUrl": "https://lh3.googleusercontent.com/-24hiGmdxZDE/AAAAAAAAAAI/AAAAAAAAL_I/RW7nqM11LkM/s64/photo.jpg",
      "userId": "06804410358976473893"
     },
     "user_tz": 0
    },
    "id": "-IUQ_tA5KEoq",
    "outputId": "60321f5b-1d03-4188-d6c1-46a5396c73a9"
   },
   "outputs": [
    {
     "data": {
      "text/plain": [
       "{'0': {'accuracy': 0.9721454880294659, 'loss': 0.2543782086058436},\n",
       " '1': {'accuracy': 0.9788976014760148, 'loss': 0.17906779756020355},\n",
       " '2': {'accuracy': 0.9890452029520295, 'loss': 0.13335545130101517},\n",
       " '3': {'accuracy': 0.978090405904059, 'loss': 0.12572393371170298},\n",
       " '4': {'accuracy': 0.9790129151291513, 'loss': 0.17323385996957108},\n",
       " 'average_accuracy': 0.9794383226981441,\n",
       " 'average_loss': 0.17315185022966728}"
      ]
     },
     "execution_count": 5,
     "metadata": {
      "tags": []
     },
     "output_type": "execute_result"
    }
   ],
   "source": [
    "k_fold_results"
   ]
  },
  {
   "cell_type": "markdown",
   "metadata": {
    "colab_type": "text",
    "id": "iPkC2S5tKEow"
   },
   "source": [
    "### Accuracy Fold Distribution"
   ]
  },
  {
   "cell_type": "code",
   "execution_count": 28,
   "metadata": {
    "colab": {
     "base_uri": "https://localhost:8080/",
     "height": 571
    },
    "colab_type": "code",
    "executionInfo": {
     "elapsed": 887,
     "status": "error",
     "timestamp": 1552727368126,
     "user": {
      "displayName": "Andrew Mackay",
      "photoUrl": "https://lh3.googleusercontent.com/-24hiGmdxZDE/AAAAAAAAAAI/AAAAAAAAL_I/RW7nqM11LkM/s64/photo.jpg",
      "userId": "06804410358976473893"
     },
     "user_tz": 0
    },
    "id": "XrjBcR14KEox",
    "outputId": "f91666c5-8aef-42ad-caa0-9af5dc257e4b"
   },
   "outputs": [
    {
     "data": {
      "image/png": "[encoded data removed]",
      "text/plain": [
       "<Figure size 432x288 with 1 Axes>"
      ]
     },
     "metadata": {
      "needs_background": "light"
     },
     "output_type": "display_data"
    }
   ],
   "source": [
    "accuracies = []\n",
    "for fold in range(number_of_folds):\n",
    "    accuracies.append(k_fold_results[str(fold)][\"accuracy\"]*100)\n",
    "\n",
    "plt.boxplot(accuracies, zorder=3)\n",
    "plt.title(\"Fold Performance Distribution Comparison\")\n",
    "# plt.xlabel(\"Model\")\n",
    "plt.ylabel(\"Classification Accuracy (%)\")\n",
    "plt.grid(axis='y', zorder=0)\n",
    "if SAVE_GRAPHS_20:\n",
    "     plt.savefig(RESULTS_PATH + \"boxplot_20.pdf\", format='pdf')"
   ]
  },
  {
   "cell_type": "code",
   "execution_count": 0,
   "metadata": {
    "colab": {},
    "colab_type": "code",
    "id": "I7EKwnJSKEo2"
   },
   "outputs": [],
   "source": [
    "K.clear_session()"
   ]
  },
  {
   "cell_type": "markdown",
   "metadata": {
    "colab_type": "text",
    "id": "tRxVfRgBKEo5"
   },
   "source": [
    "# Six-Fold Cross-Validation\n",
    "One fold for each subject"
   ]
  },
  {
   "cell_type": "code",
   "execution_count": 29,
   "metadata": {
    "colab": {},
    "colab_type": "code",
    "id": "Jq6oKB5oKEo5"
   },
   "outputs": [],
   "source": [
    "subjects = [\"A\", \"B\", \"C\", \"D\", \"E\", \"F\"]"
   ]
  },
  {
   "cell_type": "code",
   "execution_count": 0,
   "metadata": {
    "colab": {},
    "colab_type": "code",
    "id": "CTd2aSHyKEo7"
   },
   "outputs": [],
   "source": [
    "results_six_fold = {}\n",
    "for subject in subjects:\n",
    "    results_six_fold[subject] = {}"
   ]
  },
  {
   "cell_type": "code",
   "execution_count": 0,
   "metadata": {
    "colab": {},
    "colab_type": "code",
    "id": "y-9fruvPKEo-"
   },
   "outputs": [],
   "source": [
    "average_accuracy = 0\n",
    "average_loss = 0\n",
    "for subject in subjects:\n",
    "    data_split = split_train_val_test_by_subject(data, subject)\n",
    "    complete_index = data_split[\"complete_index\"]\n",
    "    partition = data_split[\"partition\"]\n",
    "    \n",
    "    wnc.build_model()\n",
    "    model = wnc.get_model()\n",
    "\n",
    "    training_generator = DataGenerator(partition['train'], complete_index, **data_gen_params, shuffle=True)\n",
    "    validation_generator = DataGenerator(partition['validation'], complete_index, **data_gen_params, shuffle=False)\n",
    "    test_generator = DataGenerator(partition['test'], complete_index, **data_gen_params, shuffle=False)\n",
    "\n",
    "    model.compile('adam', loss='categorical_crossentropy', metrics=['accuracy'])\n",
    "\n",
    "    callback_list = []\n",
    "    # -1 used to represent no early stopping\n",
    "    if early_stopping_patience != -1:\n",
    "        early_stopping = EarlyStopping(monitor='val_loss', patience=early_stopping_patience)\n",
    "        callback_list.append(early_stopping)\n",
    "\n",
    "    model.fit_generator(generator=training_generator,\n",
    "                        validation_data=validation_generator,\n",
    "                        epochs=epochs,\n",
    "                        callbacks=callback_list)\n",
    "\n",
    "    evaluation = model.evaluate_generator(test_generator)\n",
    "    loss = evaluation[0]\n",
    "    accuracy = evaluation[1]\n",
    "        \n",
    "    average_accuracy += accuracy\n",
    "    average_loss += loss\n",
    "    results_six_fold[subject][\"accuracy\"] = accuracy\n",
    "    results_six_fold[subject][\"loss\"] = loss\n",
    "\n",
    "results_six_fold[\"avg_loss\"] = average_loss/len(subjects)\n",
    "results_six_fold[\"avg_acc\"] = average_accuracy/len(subjects)\n",
    "print(\"Average Loss:\", average_loss/len(subjects))\n",
    "print(\"Average Accuracy:\", average_accuracy/len(subjects))"
   ]
  },
  {
   "cell_type": "markdown",
   "metadata": {
    "colab_type": "text",
    "id": "VbXeQijvKEpM"
   },
   "source": [
    "## Save Results"
   ]
  },
  {
   "cell_type": "code",
   "execution_count": 0,
   "metadata": {
    "colab": {},
    "colab_type": "code",
    "id": "6HEqRuluKEpN"
   },
   "outputs": [],
   "source": [
    "if SAVE_RESULTS_6_FOLD:\n",
    "    with open(RESULTS_PATH + \"results_6_fold.pkl\", 'wb') as results_file:\n",
    "        pickle.dump(results_six_fold, results_file)"
   ]
  },
  {
   "cell_type": "markdown",
   "metadata": {
    "colab_type": "text",
    "id": "pieUI0MSKEpR"
   },
   "source": [
    "## Load Results"
   ]
  },
  {
   "cell_type": "code",
   "execution_count": 30,
   "metadata": {
    "colab": {},
    "colab_type": "code",
    "id": "IywQMhNtKEpS"
   },
   "outputs": [],
   "source": [
    "with open(RESULTS_PATH + \"results_6_fold.pkl\", 'rb') as results_file:\n",
    "    results_six_fold = pickle.load(results_file)"
   ]
  },
  {
   "cell_type": "markdown",
   "metadata": {
    "colab_type": "text",
    "id": "h_kQNMphKEpX"
   },
   "source": [
    "## Visualize Results"
   ]
  },
  {
   "cell_type": "code",
   "execution_count": 31,
   "metadata": {
    "colab": {},
    "colab_type": "code",
    "id": "Rog3S8M_KEpY",
    "outputId": "d26f2eb6-1aaa-4ad4-e45f-536e4ca96ec0"
   },
   "outputs": [
    {
     "name": "stdout",
     "output_type": "stream",
     "text": [
      "Average Accuracy: 56.23100976116243\n",
      "Average Loss: 3.9531040180912265\n"
     ]
    }
   ],
   "source": [
    "print(\"Average Accuracy:\", results_six_fold[\"avg_acc\"]*100)\n",
    "print(\"Average Loss:\", results_six_fold[\"avg_loss\"])"
   ]
  },
  {
   "cell_type": "code",
   "execution_count": 32,
   "metadata": {
    "colab": {},
    "colab_type": "code",
    "id": "v5BgH2VZKEpu",
    "outputId": "dccdc29f-7624-4246-dcc5-47cf5750fe09",
    "scrolled": false
   },
   "outputs": [
    {
     "data": {
      "image/png": "[encoded data removed]",
      "text/plain": [
       "<Figure size 432x288 with 1 Axes>"
      ]
     },
     "metadata": {
      "needs_background": "light"
     },
     "output_type": "display_data"
    }
   ],
   "source": [
    "accuracies = []\n",
    "for subject in subjects:\n",
    "    accuracies.append(results_six_fold[subject][\"accuracy\"]*100)\n",
    "\n",
    "plt.boxplot(accuracies, zorder=3)\n",
    "plt.title(\"Fold Performance Distribution Comparison\")\n",
    "plt.xlabel(\"Model\")\n",
    "plt.ylabel(\"Classification Accuracy (%)\")\n",
    "plt.grid(axis='y', zorder=0)\n",
    "if SAVE_GRAPHS_6_FOLD:\n",
    "     plt.savefig(RESULTS_PATH + \"boxplot_6_fold.pdf\", format='pdf')"
   ]
  },
  {
   "cell_type": "code",
   "execution_count": 33,
   "metadata": {
    "colab": {},
    "colab_type": "code",
    "id": "IkFbrcIYKEp2",
    "outputId": "9977d74c-ddaa-4187-c08a-882da2d42c35"
   },
   "outputs": [
    {
     "data": {
      "image/png": "[encoded data removed]",
      "text/plain": [
       "<Figure size 432x288 with 1 Axes>"
      ]
     },
     "metadata": {
      "needs_background": "light"
     },
     "output_type": "display_data"
    }
   ],
   "source": [
    "plt.bar(range(len(subjects)), accuracies, zorder=3)\n",
    "plt.xticks(range(len(subjects)), subjects)\n",
    "plt.xlabel(\"Subject (fold)\")\n",
    "plt.ylabel(\"Classification Accuracy (%)\")\n",
    "plt.title(\" Fold Accuracy Distribution\")\n",
    "plt.grid(axis='y', zorder=0)\n",
    "if SAVE_GRAPHS_6_FOLD:\n",
    "    plt.savefig(RESULTS_PATH + \"fold_accuracy_distribution_6_fold.pdf\", format='pdf')\n",
    "plt.show()"
   ]
  },
  {
   "cell_type": "code",
   "execution_count": 0,
   "metadata": {
    "colab": {},
    "colab_type": "code",
    "id": "OtYTRe9hKEp6"
   },
   "outputs": [],
   "source": []
  }
 ],
 "metadata": {
  "accelerator": "GPU",
  "colab": {
   "collapsed_sections": [],
   "name": "16_range_data_model_final_model_comparison_without_corrupt.ipynb",
   "provenance": [],
   "version": "0.3.2"
  },
  "kernelspec": {
   "display_name": "Python 3",
   "language": "python",
   "name": "python3"
  },
  "language_info": {
   "codemirror_mode": {
    "name": "ipython",
    "version": 3
   },
   "file_extension": ".py",
   "mimetype": "text/x-python",
   "name": "python",
   "nbconvert_exporter": "python",
   "pygments_lexer": "ipython3",
   "version": "3.6.6"
  }
 },
 "nbformat": 4,
 "nbformat_minor": 1
}
