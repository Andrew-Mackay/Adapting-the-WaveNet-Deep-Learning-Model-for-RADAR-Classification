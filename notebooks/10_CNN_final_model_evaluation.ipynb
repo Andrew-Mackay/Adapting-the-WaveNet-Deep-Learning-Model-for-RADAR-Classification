{
 "cells": [
  {
   "cell_type": "markdown",
   "metadata": {
    "colab_type": "text",
    "id": "chTLQ4gzP4zb"
   },
   "source": [
    "# Evaluation of the final CNN model\n",
    "\n",
    "The original final evaluation was misleading as the ealry stopping parameter had been used incorrectly. This notebook fixes this issue.\n",
    "\n",
    "The model was chosen in 7_CNN_model_comparison.ipynb and the hyperparameters chosen from 8_CNN_hyperparameter.ipynb.\n",
    "The early stopping patience to use was decided using notebook 9.\n",
    "\n",
    "First the model is trained on subjects A, B, D, E, F.\n",
    "The model is then evaluated on the test subject C. Up until this point the model has not been exposed to this data."
   ]
  },
  {
   "cell_type": "markdown",
   "metadata": {
    "colab_type": "text",
    "id": "bZxhO7V0ZHUE"
   },
   "source": [
    "## Notebook setup"
   ]
  },
  {
   "cell_type": "markdown",
   "metadata": {
    "colab_type": "text",
    "id": "x5jAnxaaZLzZ"
   },
   "source": [
    "Allow editing of modules using editor (auto reloading)"
   ]
  },
  {
   "cell_type": "code",
   "execution_count": 1,
   "metadata": {
    "colab": {},
    "colab_type": "code",
    "id": "TGNeUj-JDXhs"
   },
   "outputs": [],
   "source": [
    "# Plot graphs inline\n",
    "%matplotlib inline"
   ]
  },
  {
   "cell_type": "markdown",
   "metadata": {
    "colab_type": "text",
    "id": "QwLbqieVYIJt"
   },
   "source": [
    "The following cell is needed for compatibility when using both CoLab and Local Jupyter notebook. It sets the appropriate file path for the data and also installs local packages such as models and data_loading."
   ]
  },
  {
   "cell_type": "code",
   "execution_count": 2,
   "metadata": {
    "colab": {
     "base_uri": "https://localhost:8080/",
     "height": 122.0
    },
    "colab_type": "code",
    "executionInfo": {
     "elapsed": 25189.0,
     "status": "ok",
     "timestamp": 1.552071652711E12,
     "user": {
      "displayName": "Andrew Mackay",
      "photoUrl": "https://lh3.googleusercontent.com/-24hiGmdxZDE/AAAAAAAAAAI/AAAAAAAAL_I/RW7nqM11LkM/s64/photo.jpg",
      "userId": "06804410358976473893"
     },
     "user_tz": 0.0
    },
    "id": "3XeU0HtoDXh6",
    "outputId": "70a22e40-8a58-4f97-b1c5-2db0a9f04624"
   },
   "outputs": [],
   "source": [
    "import os\n",
    "path = os.getcwd()\n",
    "if path == '/content':\n",
    "    from google.colab import drive\n",
    "    drive.mount('/content/gdrive')\n",
    "    BASE_PATH = '/content/gdrive/My Drive/Level-4-Project/'\n",
    "    os.chdir('gdrive/My Drive/Level-4-Project/')\n",
    "    \n",
    "elif path == 'D:\\\\Google Drive\\\\Level-4-Project\\\\notebooks':\n",
    "    BASE_PATH = \"D:/Google Drive/Level-4-Project/\"\n",
    "    \n",
    "elif path == \"/export/home/2192793m\":\n",
    "    BASE_PATH = \"/export/home/2192793m/Level-4-Project/\"\n",
    "    \n",
    "DATA_PATH = BASE_PATH + 'data/processed/doppler_spectrograms/3/'\n",
    "\n",
    "RESULTS_PATH = BASE_PATH + 'results/CNN_final_model_evaluation/'\n",
    "HYPERPARAMETER_PATH = BASE_PATH + 'results/CNN_hyperparameter_search/'\n",
    "MODEL_PATH = BASE_PATH + 'models/CNN_final_model_evaluation/'\n",
    "\n",
    "if not os.path.exists(RESULTS_PATH):\n",
    "    os.makedirs(RESULTS_PATH)\n",
    "    \n",
    "if not os.path.exists(MODEL_PATH):\n",
    "    os.makedirs(MODEL_PATH)"
   ]
  },
  {
   "cell_type": "markdown",
   "metadata": {
    "colab_type": "text",
    "id": "rgYwaq1eZb5u"
   },
   "source": [
    "Import remaining packages"
   ]
  },
  {
   "cell_type": "code",
   "execution_count": 3,
   "metadata": {
    "colab": {
     "base_uri": "https://localhost:8080/",
     "height": 34.0
    },
    "colab_type": "code",
    "executionInfo": {
     "elapsed": 5298.0,
     "status": "ok",
     "timestamp": 1.552071654173E12,
     "user": {
      "displayName": "Andrew Mackay",
      "photoUrl": "https://lh3.googleusercontent.com/-24hiGmdxZDE/AAAAAAAAAAI/AAAAAAAAL_I/RW7nqM11LkM/s64/photo.jpg",
      "userId": "06804410358976473893"
     },
     "user_tz": 0.0
    },
    "id": "x8rzmlEhpe_R",
    "outputId": "12937d2c-fb2b-4395-e0fb-6ec0f20fd913"
   },
   "outputs": [
    {
     "name": "stderr",
     "output_type": "stream",
     "text": [
      "Using TensorFlow backend.\n"
     ]
    }
   ],
   "source": [
    "import numpy as np\n",
    "from keras.optimizers import SGD, Adam\n",
    "from keras.utils import np_utils\n",
    "from sklearn.metrics import classification_report, confusion_matrix\n",
    "import pickle\n",
    "from keras.models import Sequential\n",
    "from keras.layers import Dense, Dropout, Flatten\n",
    "from keras.layers import Convolution2D, MaxPooling2D\n",
    "import matplotlib.pyplot as plt\n",
    "from keras.callbacks import EarlyStopping"
   ]
  },
  {
   "cell_type": "code",
   "execution_count": 4,
   "metadata": {
    "colab": {
     "base_uri": "https://localhost:8080/",
     "height": 173.0
    },
    "colab_type": "code",
    "executionInfo": {
     "elapsed": 6880.0,
     "status": "ok",
     "timestamp": 1.552071662696E12,
     "user": {
      "displayName": "Andrew Mackay",
      "photoUrl": "https://lh3.googleusercontent.com/-24hiGmdxZDE/AAAAAAAAAAI/AAAAAAAAL_I/RW7nqM11LkM/s64/photo.jpg",
      "userId": "06804410358976473893"
     },
     "user_tz": 0.0
    },
    "id": "tk_HAyYKYrI8",
    "outputId": "56fbe2f8-3302-48c5-82b1-0a444ad0f7a7"
   },
   "outputs": [],
   "source": [
    "# ! pip install git+https://github.com/scikit-optimize/scikit-optimize/ \n",
    "from skopt import load"
   ]
  },
  {
   "cell_type": "code",
   "execution_count": 5,
   "metadata": {
    "colab": {},
    "colab_type": "code",
    "id": "PsHOJ9lEpe_V"
   },
   "outputs": [],
   "source": [
    "# Needed as originally code was for theano backend but now using tensor flow\n",
    "from keras import backend as K\n",
    "K.set_image_dim_ordering('th')"
   ]
  },
  {
   "cell_type": "markdown",
   "metadata": {
    "colab_type": "text",
    "id": "ssk69nuAiB68"
   },
   "source": [
    "## Experiment Setup"
   ]
  },
  {
   "cell_type": "code",
   "execution_count": 6,
   "metadata": {
    "colab": {},
    "colab_type": "code",
    "id": "H_1QDAZ3sBek"
   },
   "outputs": [],
   "source": [
    "SAVE_RESULTS_TEST_C = False\n",
    "SAVE_GRAPHS_TEST_C = True\n",
    "\n",
    "SAVE_RESULTS_20 = False\n",
    "SAVE_GRAPHS_20 = True\n",
    "\n",
    "SAVE_RESULTS_6_FOLD = False\n",
    "SAVE_GRAPHS_6_FOLD = True"
   ]
  },
  {
   "cell_type": "code",
   "execution_count": 0,
   "metadata": {
    "colab": {},
    "colab_type": "code",
    "id": "3ndLxKnSZEu-"
   },
   "outputs": [],
   "source": [
    "# Patience chosen from notebook 9\n",
    "nb_epoch = 100\n",
    "# nb_epoch = 1 #testing\n",
    "patience = 7"
   ]
  },
  {
   "cell_type": "code",
   "execution_count": 0,
   "metadata": {
    "colab": {},
    "colab_type": "code",
    "id": "5r9302zCpe_j"
   },
   "outputs": [],
   "source": [
    "target_names = [\"walking\", \"pushing\", \"sitting\", \"pulling\", \"circling\", \"clapping\", \"bending\"]\n",
    "nb_classes = len(target_names)\n",
    "\n",
    "# input image dimensions\n",
    "img_rows, img_cols = 75, 75\n",
    "\n",
    "users = [\"A\", \"B\", \"C\", \"D\", \"E\", \"F\"] "
   ]
  },
  {
   "cell_type": "code",
   "execution_count": 0,
   "metadata": {
    "colab": {},
    "colab_type": "code",
    "id": "C1f1naWmkElm"
   },
   "outputs": [],
   "source": [
    "def load_data(user_letter):\n",
    "    \"\"\"\n",
    "    load the data and labels associated with a particular user/subject (interchangeable)\n",
    "    :param user_letter: Letter representing subject/user (A-F)\n",
    "    :type user_letter: str\n",
    "    :return: data and labels\n",
    "    :rtype: tuple of the form (data, labels)\n",
    "    \"\"\"\n",
    "    with open(DATA_PATH + user_letter + \"_data.pkl\", 'rb') as data_file:\n",
    "        data = pickle.load(data_file)\n",
    "        data = data.reshape(data.shape[0], 1, 75, 75)\n",
    "        \n",
    "    with open(DATA_PATH + user_letter + \"_labels.pkl\", 'rb') as labels_file:\n",
    "        labels = pickle.load(labels_file)\n",
    "        labels = np.reshape(labels, (len(labels), 1))\n",
    "\n",
    "    return data, labels"
   ]
  },
  {
   "cell_type": "code",
   "execution_count": 0,
   "metadata": {
    "colab": {},
    "colab_type": "code",
    "id": "g_bsC10bq026"
   },
   "outputs": [],
   "source": [
    "datasets = {}\n",
    "for user in users:\n",
    "    data, labels = load_data(user)\n",
    "    datasets[user] = {\"data\":data, \"labels\":labels}"
   ]
  },
  {
   "cell_type": "markdown",
   "metadata": {
    "colab_type": "text",
    "id": "qK0TcJIfsz7q"
   },
   "source": [
    "## Define Model"
   ]
  },
  {
   "cell_type": "code",
   "execution_count": 0,
   "metadata": {
    "colab": {},
    "colab_type": "code",
    "id": "_e0io4rM1O6N"
   },
   "outputs": [],
   "source": [
    "def make_model(nb_filters, img_rows, img_cols, nb_classes, activation,\n",
    "               dropout, num_dense_nodes, num_dense_layers,\n",
    "               kernel_size, pooling_size):\n",
    "    \"\"\"\n",
    "    Make and return the CNN model\n",
    "    :param nb_filters: Number of filters to use in layers 1,2 and 3,4 respectively\n",
    "    :type nb_filters: str containing the number of filters for the first two layers followed by \n",
    "    the last two layers, for example: \"16-32\"\n",
    "    :param img_rows: image height\n",
    "    :type img_rows: int\n",
    "    :param img_cols: image width\n",
    "    :type img_cols: int\n",
    "    :param nb_classes: Number of classes to be predicted\n",
    "    :type nb_classes: int\n",
    "    :param activation: Activation function to use after each conv and dense layer\n",
    "    :type activation: Keras activation function\n",
    "    :param dropout: dropout rate for dropout layers\n",
    "    :type dropout: float\n",
    "    :param num_dense_nodes: number of dense nodes in dense layer\n",
    "    :type num_dense_nodes: int\n",
    "    :param num_dense_layers: number of dense layers\n",
    "    :type num_dense_layers: int\n",
    "    :param kernel_size: kernel size to use\n",
    "    :type kernel_size: int but will be converted to tuple (int, int) \n",
    "                        internally as kernel is a square\n",
    "    :param pooling_size: pool size\n",
    "    :type pooling_size: int but will be converted to tuple (int, int)\n",
    "                        internally as requires vertical and horizontal\n",
    "    :return: CNN model\n",
    "    :rtype: Keras sequential model\n",
    "    \"\"\"\n",
    "    kernel_size = (kernel_size, kernel_size)\n",
    "    pooling_size = (pooling_size, pooling_size)\n",
    "    \n",
    "    model = Sequential(name=nb_filters)\n",
    "    nb_filters = nb_filters.split(\"-\")\n",
    "    size_1 = int(nb_filters[0])\n",
    "    size_2 = int(nb_filters[1])\n",
    "\n",
    "    model.add(Convolution2D(size_1, kernel_size, padding='same', input_shape=(1, img_rows, img_cols), activation=activation))\n",
    "    model.add(Convolution2D(size_1, kernel_size, activation=activation))\n",
    "    model.add(MaxPooling2D(pool_size=pooling_size))\n",
    "    model.add(Dropout(dropout))\n",
    "\n",
    "    model.add(Convolution2D(size_2, kernel_size, padding='same', activation=activation))\n",
    "    model.add(Convolution2D(size_2, kernel_size, activation=activation))\n",
    "    model.add(MaxPooling2D(pool_size=pooling_size))\n",
    "    model.add(Dropout(dropout))\n",
    "\n",
    "    model.add(Flatten())\n",
    "    for i in range(num_dense_layers):\n",
    "        model.add(Dense(num_dense_nodes, activation=activation))\n",
    "    model.add(Dropout(dropout))\n",
    "    model.add(Dense(nb_classes, activation='softmax'))\n",
    "    return model"
   ]
  },
  {
   "cell_type": "markdown",
   "metadata": {
    "colab_type": "text",
    "id": "dUGILJ8_sBfA"
   },
   "source": [
    "## Train Model Function"
   ]
  },
  {
   "cell_type": "code",
   "execution_count": 0,
   "metadata": {
    "colab": {},
    "colab_type": "code",
    "id": "jCCTt2KdsBfC"
   },
   "outputs": [],
   "source": [
    "def train_model(train_data, train_labels, validation_data, validation_labels, hyperparameters, epochs, patience):\n",
    "    \"\"\"\n",
    "    Make and train the CNN model\n",
    "    :param train_data: Data to train the model on\n",
    "    :type train_data: array of images represented as numpy arrays\n",
    "    :param train_labels: Labels corresponding to the training data\n",
    "    :type train_labels: array of integers representing the labels in the same order as train_data\n",
    "    :param validation_data: Data to validate the model on\n",
    "    :type validation_data: array of images represented as numpy arrays\n",
    "    :param validation_labels: Labels corresponding to the validation data\n",
    "    :type validation_labels: array of integers representing the labels in the same order as validation_data\n",
    "    :param hyperparameters: Selected hyperparameters \n",
    "    :type hyperparameters: dictionary\n",
    "    :param epochs: number of epochs to train for\n",
    "    :type epochs: int\n",
    "    :param patience: patience value for early stopping (-1 for no early stopping)\n",
    "    :type patience: int\n",
    "    :return: training history and trained model\n",
    "    :rtype: tuple of the form (history, model)\n",
    "    \"\"\"\n",
    "    parameters = hyperparameters\n",
    "    model = make_model(\"8-16\", img_rows, img_cols, nb_classes, parameters[2],\n",
    "               parameters[3], parameters[4], parameters[5],\n",
    "               parameters[6], parameters[7])\n",
    "    \n",
    "    optimizer = parameters[0] \n",
    "    learning_rate = parameters[1]\n",
    "    if optimizer == 'adam':\n",
    "        selected_optimizer = Adam(lr=learning_rate)\n",
    "\n",
    "    elif optimizer == 'sgd_standard':\n",
    "        selected_optimizer = SGD(lr=learning_rate)\n",
    "\n",
    "    else:\n",
    "        # nestrov momentum\n",
    "        selected_optimizer = SGD(lr=learning_rate, decay=1e-6, momentum=0.9,\n",
    "                                 nesterov=True)\n",
    "\n",
    "    model.compile(loss='categorical_crossentropy',\n",
    "                  optimizer=selected_optimizer,\n",
    "                  metrics=['accuracy'])\n",
    "    \n",
    "    callback_list = []\n",
    "    if patience != -1:\n",
    "        early_stopping = EarlyStopping(monitor='val_acc', patience=patience)\n",
    "        callback_list.append(early_stopping)\n",
    "        \n",
    "    history = model.fit(train_data, train_labels,\n",
    "                        batch_size=parameters[8],\n",
    "                        epochs=epochs,\n",
    "                        shuffle=True, \n",
    "                        validation_data=(validation_data, validation_labels),\n",
    "                        callbacks=callback_list,\n",
    "                        verbose=0)\n",
    "    \n",
    "    return history, model"
   ]
  },
  {
   "cell_type": "markdown",
   "metadata": {
    "colab_type": "text",
    "id": "VcVxk4D8sBfG"
   },
   "source": [
    "## Evaluate Model function"
   ]
  },
  {
   "cell_type": "code",
   "execution_count": 0,
   "metadata": {
    "colab": {},
    "colab_type": "code",
    "id": "g3V7RXOcsBfH"
   },
   "outputs": [],
   "source": [
    "def evaluate_model(model, test_data, test_labels, batch_size, target_names):\n",
    "    evaluation = model.evaluate(test_data, test_labels,\n",
    "                                batch_size=batch_size, verbose=1)\n",
    "\n",
    "    loss = evaluation[0]\n",
    "    accuracy = evaluation[1]\n",
    "\n",
    "    test_pred = model.predict_classes(test_data)\n",
    "    report = classification_report(np.argmax(test_labels,axis=1),\n",
    "                                   test_pred, target_names=target_names)\n",
    "    conf_matrix = confusion_matrix(np.argmax(test_labels,axis=1), test_pred)\n",
    "    return {\n",
    "        \"loss\": loss,\n",
    "        \"accuracy\": accuracy,\n",
    "        \"classification_report\": report,\n",
    "        \"confusion_matrix\": conf_matrix\n",
    "    }"
   ]
  },
  {
   "cell_type": "markdown",
   "metadata": {
    "colab_type": "text",
    "id": "DEBqFCS9uImJ"
   },
   "source": [
    "### Load hyperparameter results"
   ]
  },
  {
   "cell_type": "code",
   "execution_count": 0,
   "metadata": {
    "colab": {},
    "colab_type": "code",
    "id": "TwrjNudLsBfO"
   },
   "outputs": [],
   "source": [
    "# needed for loading results (objective needs to be defined)\n",
    "def objective():\n",
    "    return 0"
   ]
  },
  {
   "cell_type": "code",
   "execution_count": 14,
   "metadata": {
    "colab": {
     "base_uri": "https://localhost:8080/",
     "height": 982.0
    },
    "colab_type": "code",
    "executionInfo": {
     "elapsed": 2321.0,
     "status": "error",
     "timestamp": 1.552055183985E12,
     "user": {
      "displayName": "Andrew Mackay",
      "photoUrl": "https://lh3.googleusercontent.com/-24hiGmdxZDE/AAAAAAAAAAI/AAAAAAAAL_I/RW7nqM11LkM/s64/photo.jpg",
      "userId": "06804410358976473893"
     },
     "user_tz": 0.0
    },
    "id": "237ErDR_uKsk",
    "outputId": "abcbd3c5-9b84-42ad-bb20-9bd23ade1960"
   },
   "outputs": [
    {
     "name": "stderr",
     "output_type": "stream",
     "text": [
      "/usr/local/lib/python3.6/dist-packages/sklearn/base.py:253: UserWarning: Trying to unpickle estimator LabelBinarizer from version 0.20.1 when using version 0.20.3. This might lead to breaking code or invalid results. Use at your own risk.\n",
      "  UserWarning)\n"
     ]
    },
    {
     "ename": "AttributeError",
     "evalue": "ignored",
     "traceback": [
      "\u001b[0;31m---------------------------------------------------------------------------\u001b[0m",
      "\u001b[0;31mAttributeError\u001b[0m                            Traceback (most recent call last)",
      "\u001b[0;32m<ipython-input-14-36f4682e9d07>\u001b[0m in \u001b[0;36m<module>\u001b[0;34m()\u001b[0m\n\u001b[1;32m      3\u001b[0m               'pooling_size','batch_size']\n\u001b[1;32m      4\u001b[0m \u001b[0;34m\u001b[0m\u001b[0m\n\u001b[0;32m----> 5\u001b[0;31m \u001b[0mres_gp\u001b[0m \u001b[0;34m=\u001b[0m \u001b[0mload\u001b[0m\u001b[0;34m(\u001b[0m\u001b[0mHYPERPARAMETER_PATH\u001b[0m \u001b[0;34m+\u001b[0m \u001b[0;34m\"res_gp_complete.pkl\"\u001b[0m\u001b[0;34m)\u001b[0m\u001b[0;34m\u001b[0m\u001b[0;34m\u001b[0m\u001b[0m\n\u001b[0m\u001b[1;32m      6\u001b[0m \u001b[0mparameters\u001b[0m \u001b[0;34m=\u001b[0m \u001b[0mres_gp\u001b[0m\u001b[0;34m.\u001b[0m\u001b[0mx\u001b[0m\u001b[0;34m\u001b[0m\u001b[0;34m\u001b[0m\u001b[0m\n",
      "\u001b[0;32m/usr/local/lib/python3.6/dist-packages/skopt/utils.py\u001b[0m in \u001b[0;36mload\u001b[0;34m(filename, **kwargs)\u001b[0m\n\u001b[1;32m    170\u001b[0m         \u001b[0mReconstructed\u001b[0m \u001b[0mOptimizeResult\u001b[0m \u001b[0minstance\u001b[0m\u001b[0;34m.\u001b[0m\u001b[0;34m\u001b[0m\u001b[0;34m\u001b[0m\u001b[0m\n\u001b[1;32m    171\u001b[0m     \"\"\"\n\u001b[0;32m--> 172\u001b[0;31m     \u001b[0;32mreturn\u001b[0m \u001b[0mload_\u001b[0m\u001b[0;34m(\u001b[0m\u001b[0mfilename\u001b[0m\u001b[0;34m,\u001b[0m \u001b[0;34m**\u001b[0m\u001b[0mkwargs\u001b[0m\u001b[0;34m)\u001b[0m\u001b[0;34m\u001b[0m\u001b[0;34m\u001b[0m\u001b[0m\n\u001b[0m\u001b[1;32m    173\u001b[0m \u001b[0;34m\u001b[0m\u001b[0m\n\u001b[1;32m    174\u001b[0m \u001b[0;34m\u001b[0m\u001b[0m\n",
      "\u001b[0;32m/usr/local/lib/python3.6/dist-packages/sklearn/externals/joblib/numpy_pickle.py\u001b[0m in \u001b[0;36mload\u001b[0;34m(filename, mmap_mode)\u001b[0m\n\u001b[1;32m    596\u001b[0m                     \u001b[0;32mreturn\u001b[0m \u001b[0mload_compatibility\u001b[0m\u001b[0;34m(\u001b[0m\u001b[0mfobj\u001b[0m\u001b[0;34m)\u001b[0m\u001b[0;34m\u001b[0m\u001b[0;34m\u001b[0m\u001b[0m\n\u001b[1;32m    597\u001b[0m \u001b[0;34m\u001b[0m\u001b[0m\n\u001b[0;32m--> 598\u001b[0;31m                 \u001b[0mobj\u001b[0m \u001b[0;34m=\u001b[0m \u001b[0m_unpickle\u001b[0m\u001b[0;34m(\u001b[0m\u001b[0mfobj\u001b[0m\u001b[0;34m,\u001b[0m \u001b[0mfilename\u001b[0m\u001b[0;34m,\u001b[0m \u001b[0mmmap_mode\u001b[0m\u001b[0;34m)\u001b[0m\u001b[0;34m\u001b[0m\u001b[0;34m\u001b[0m\u001b[0m\n\u001b[0m\u001b[1;32m    599\u001b[0m \u001b[0;34m\u001b[0m\u001b[0m\n\u001b[1;32m    600\u001b[0m     \u001b[0;32mreturn\u001b[0m \u001b[0mobj\u001b[0m\u001b[0;34m\u001b[0m\u001b[0;34m\u001b[0m\u001b[0m\n",
      "\u001b[0;32m/usr/local/lib/python3.6/dist-packages/sklearn/externals/joblib/numpy_pickle.py\u001b[0m in \u001b[0;36m_unpickle\u001b[0;34m(fobj, filename, mmap_mode)\u001b[0m\n\u001b[1;32m    524\u001b[0m     \u001b[0mobj\u001b[0m \u001b[0;34m=\u001b[0m \u001b[0;32mNone\u001b[0m\u001b[0;34m\u001b[0m\u001b[0;34m\u001b[0m\u001b[0m\n\u001b[1;32m    525\u001b[0m     \u001b[0;32mtry\u001b[0m\u001b[0;34m:\u001b[0m\u001b[0;34m\u001b[0m\u001b[0;34m\u001b[0m\u001b[0m\n\u001b[0;32m--> 526\u001b[0;31m         \u001b[0mobj\u001b[0m \u001b[0;34m=\u001b[0m \u001b[0munpickler\u001b[0m\u001b[0;34m.\u001b[0m\u001b[0mload\u001b[0m\u001b[0;34m(\u001b[0m\u001b[0;34m)\u001b[0m\u001b[0;34m\u001b[0m\u001b[0;34m\u001b[0m\u001b[0m\n\u001b[0m\u001b[1;32m    527\u001b[0m         \u001b[0;32mif\u001b[0m \u001b[0munpickler\u001b[0m\u001b[0;34m.\u001b[0m\u001b[0mcompat_mode\u001b[0m\u001b[0;34m:\u001b[0m\u001b[0;34m\u001b[0m\u001b[0;34m\u001b[0m\u001b[0m\n\u001b[1;32m    528\u001b[0m             warnings.warn(\"The file '%s' has been generated with a \"\n",
      "\u001b[0;32m/usr/lib/python3.6/pickle.py\u001b[0m in \u001b[0;36mload\u001b[0;34m(self)\u001b[0m\n\u001b[1;32m   1048\u001b[0m                     \u001b[0;32mraise\u001b[0m \u001b[0mEOFError\u001b[0m\u001b[0;34m\u001b[0m\u001b[0;34m\u001b[0m\u001b[0m\n\u001b[1;32m   1049\u001b[0m                 \u001b[0;32massert\u001b[0m \u001b[0misinstance\u001b[0m\u001b[0;34m(\u001b[0m\u001b[0mkey\u001b[0m\u001b[0;34m,\u001b[0m \u001b[0mbytes_types\u001b[0m\u001b[0;34m)\u001b[0m\u001b[0;34m\u001b[0m\u001b[0;34m\u001b[0m\u001b[0m\n\u001b[0;32m-> 1050\u001b[0;31m                 \u001b[0mdispatch\u001b[0m\u001b[0;34m[\u001b[0m\u001b[0mkey\u001b[0m\u001b[0;34m[\u001b[0m\u001b[0;36m0\u001b[0m\u001b[0;34m]\u001b[0m\u001b[0;34m]\u001b[0m\u001b[0;34m(\u001b[0m\u001b[0mself\u001b[0m\u001b[0;34m)\u001b[0m\u001b[0;34m\u001b[0m\u001b[0;34m\u001b[0m\u001b[0m\n\u001b[0m\u001b[1;32m   1051\u001b[0m         \u001b[0;32mexcept\u001b[0m \u001b[0m_Stop\u001b[0m \u001b[0;32mas\u001b[0m \u001b[0mstopinst\u001b[0m\u001b[0;34m:\u001b[0m\u001b[0;34m\u001b[0m\u001b[0;34m\u001b[0m\u001b[0m\n\u001b[1;32m   1052\u001b[0m             \u001b[0;32mreturn\u001b[0m \u001b[0mstopinst\u001b[0m\u001b[0;34m.\u001b[0m\u001b[0mvalue\u001b[0m\u001b[0;34m\u001b[0m\u001b[0;34m\u001b[0m\u001b[0m\n",
      "\u001b[0;32m/usr/lib/python3.6/pickle.py\u001b[0m in \u001b[0;36mload_global\u001b[0;34m(self)\u001b[0m\n\u001b[1;32m   1336\u001b[0m         \u001b[0mmodule\u001b[0m \u001b[0;34m=\u001b[0m \u001b[0mself\u001b[0m\u001b[0;34m.\u001b[0m\u001b[0mreadline\u001b[0m\u001b[0;34m(\u001b[0m\u001b[0;34m)\u001b[0m\u001b[0;34m[\u001b[0m\u001b[0;34m:\u001b[0m\u001b[0;34m-\u001b[0m\u001b[0;36m1\u001b[0m\u001b[0;34m]\u001b[0m\u001b[0;34m.\u001b[0m\u001b[0mdecode\u001b[0m\u001b[0;34m(\u001b[0m\u001b[0;34m\"utf-8\"\u001b[0m\u001b[0;34m)\u001b[0m\u001b[0;34m\u001b[0m\u001b[0;34m\u001b[0m\u001b[0m\n\u001b[1;32m   1337\u001b[0m         \u001b[0mname\u001b[0m \u001b[0;34m=\u001b[0m \u001b[0mself\u001b[0m\u001b[0;34m.\u001b[0m\u001b[0mreadline\u001b[0m\u001b[0;34m(\u001b[0m\u001b[0;34m)\u001b[0m\u001b[0;34m[\u001b[0m\u001b[0;34m:\u001b[0m\u001b[0;34m-\u001b[0m\u001b[0;36m1\u001b[0m\u001b[0;34m]\u001b[0m\u001b[0;34m.\u001b[0m\u001b[0mdecode\u001b[0m\u001b[0;34m(\u001b[0m\u001b[0;34m\"utf-8\"\u001b[0m\u001b[0;34m)\u001b[0m\u001b[0;34m\u001b[0m\u001b[0;34m\u001b[0m\u001b[0m\n\u001b[0;32m-> 1338\u001b[0;31m         \u001b[0mklass\u001b[0m \u001b[0;34m=\u001b[0m \u001b[0mself\u001b[0m\u001b[0;34m.\u001b[0m\u001b[0mfind_class\u001b[0m\u001b[0;34m(\u001b[0m\u001b[0mmodule\u001b[0m\u001b[0;34m,\u001b[0m \u001b[0mname\u001b[0m\u001b[0;34m)\u001b[0m\u001b[0;34m\u001b[0m\u001b[0;34m\u001b[0m\u001b[0m\n\u001b[0m\u001b[1;32m   1339\u001b[0m         \u001b[0mself\u001b[0m\u001b[0;34m.\u001b[0m\u001b[0mappend\u001b[0m\u001b[0;34m(\u001b[0m\u001b[0mklass\u001b[0m\u001b[0;34m)\u001b[0m\u001b[0;34m\u001b[0m\u001b[0;34m\u001b[0m\u001b[0m\n\u001b[1;32m   1340\u001b[0m     \u001b[0mdispatch\u001b[0m\u001b[0;34m[\u001b[0m\u001b[0mGLOBAL\u001b[0m\u001b[0;34m[\u001b[0m\u001b[0;36m0\u001b[0m\u001b[0;34m]\u001b[0m\u001b[0;34m]\u001b[0m \u001b[0;34m=\u001b[0m \u001b[0mload_global\u001b[0m\u001b[0;34m\u001b[0m\u001b[0;34m\u001b[0m\u001b[0m\n",
      "\u001b[0;32m/usr/lib/python3.6/pickle.py\u001b[0m in \u001b[0;36mfind_class\u001b[0;34m(self, module, name)\u001b[0m\n\u001b[1;32m   1390\u001b[0m             \u001b[0;32mreturn\u001b[0m \u001b[0m_getattribute\u001b[0m\u001b[0;34m(\u001b[0m\u001b[0msys\u001b[0m\u001b[0;34m.\u001b[0m\u001b[0mmodules\u001b[0m\u001b[0;34m[\u001b[0m\u001b[0mmodule\u001b[0m\u001b[0;34m]\u001b[0m\u001b[0;34m,\u001b[0m \u001b[0mname\u001b[0m\u001b[0;34m)\u001b[0m\u001b[0;34m[\u001b[0m\u001b[0;36m0\u001b[0m\u001b[0;34m]\u001b[0m\u001b[0;34m\u001b[0m\u001b[0;34m\u001b[0m\u001b[0m\n\u001b[1;32m   1391\u001b[0m         \u001b[0;32melse\u001b[0m\u001b[0;34m:\u001b[0m\u001b[0;34m\u001b[0m\u001b[0;34m\u001b[0m\u001b[0m\n\u001b[0;32m-> 1392\u001b[0;31m             \u001b[0;32mreturn\u001b[0m \u001b[0mgetattr\u001b[0m\u001b[0;34m(\u001b[0m\u001b[0msys\u001b[0m\u001b[0;34m.\u001b[0m\u001b[0mmodules\u001b[0m\u001b[0;34m[\u001b[0m\u001b[0mmodule\u001b[0m\u001b[0;34m]\u001b[0m\u001b[0;34m,\u001b[0m \u001b[0mname\u001b[0m\u001b[0;34m)\u001b[0m\u001b[0;34m\u001b[0m\u001b[0;34m\u001b[0m\u001b[0m\n\u001b[0m\u001b[1;32m   1393\u001b[0m \u001b[0;34m\u001b[0m\u001b[0m\n\u001b[1;32m   1394\u001b[0m     \u001b[0;32mdef\u001b[0m \u001b[0mload_reduce\u001b[0m\u001b[0;34m(\u001b[0m\u001b[0mself\u001b[0m\u001b[0;34m)\u001b[0m\u001b[0;34m:\u001b[0m\u001b[0;34m\u001b[0m\u001b[0;34m\u001b[0m\u001b[0m\n",
      "\u001b[0;31mAttributeError\u001b[0m: module 'skopt.callbacks' has no attribute 'CheckpointSaver'"
     ],
     "output_type": "error"
    }
   ],
   "source": [
    "dimensions = ['optimizer', 'learning_rate', 'activation', 'dropout',\n",
    "              'num_dense_nodes', 'num_dense_layers', 'kernel_size',\n",
    "              'pooling_size', 'batch_size']\n",
    "\n",
    "res_gp = load(HYPERPARAMETER_PATH + \"res_gp_complete.pkl\")\n",
    "parameters = res_gp.x"
   ]
  },
  {
   "cell_type": "code",
   "execution_count": 0,
   "metadata": {
    "colab": {},
    "colab_type": "code",
    "id": "REWSu0eOVxMR"
   },
   "outputs": [],
   "source": [
    "for index, parameter in enumerate(parameters):\n",
    "    print(dimensions[index] + \":\", parameter)"
   ]
  },
  {
   "cell_type": "markdown",
   "metadata": {
    "colab_type": "text",
    "id": "2sK8LErIsBfm"
   },
   "source": [
    "# Evaluating on subject C"
   ]
  },
  {
   "cell_type": "code",
   "execution_count": 0,
   "metadata": {
    "colab": {},
    "colab_type": "code",
    "id": "Ha1tZshusBfn"
   },
   "outputs": [],
   "source": [
    "def split_train_validation_test(test_user, total_folds=5, validation_fold=0):\n",
    "    # split by user then action\n",
    "    labels = np.arange(0, 7)\n",
    "    actions = {}\n",
    "    for user in users:\n",
    "        actions[user] = {}\n",
    "        for label in labels:\n",
    "            actions[user][str(label)] = []\n",
    "        \n",
    "    for user in users:\n",
    "        data = datasets[user][\"data\"]\n",
    "        labels = datasets[user][\"labels\"]\n",
    "        for index, label in enumerate(labels):\n",
    "            actions[user][str(label[0])].append(data[index])\n",
    "        \n",
    "    # convert to numpy array\n",
    "    labels = np.arange(0, 7)\n",
    "    for user in users:\n",
    "        for label in labels:\n",
    "            actions[user][str(label)] = np.array(actions[user][str(label)])\n",
    "            \n",
    "    train_labels = []\n",
    "    train_data = []\n",
    "    validation_labels = []\n",
    "    validation_data = []\n",
    "    test_labels = []\n",
    "    test_data = []\n",
    "    # each user A->F\n",
    "    for user in users:\n",
    "        # 0 -> 6\n",
    "        for label in labels:            \n",
    "            if user == test_user:\n",
    "                testing_data = actions[user][str(label)]\n",
    "                testing_labels = np.full(testing_data.shape[0], label)\n",
    "                test_data.append(testing_data)\n",
    "                test_labels.append(testing_labels)  \n",
    "                \n",
    "            else:\n",
    "                # for example, if using 5 folds splits data into 5 subsets\n",
    "                split_actions = np.array_split(actions[user][str(label)], total_folds)\n",
    "                training_data = []\n",
    "                validating_data = []\n",
    "                for fold in range(total_folds):\n",
    "                    if fold == validation_fold:\n",
    "                        validating_data.append(split_actions[fold])\n",
    "                    else:\n",
    "                        training_data.append(split_actions[fold])\n",
    "\n",
    "                training_data = np.concatenate(training_data, axis=0)\n",
    "                training_labels = np.full(training_data.shape[0], label)\n",
    "                validating_data = np.concatenate(validating_data, axis=0)\n",
    "                validating_labels = np.full(validating_data.shape[0], label)\n",
    "\n",
    "                train_data.append(training_data)\n",
    "                train_labels.append(training_labels)\n",
    "                validation_data.append(validating_data)\n",
    "                validation_labels.append(validating_labels)   \n",
    "            \n",
    "    train_labels = np.concatenate(train_labels, axis=0)\n",
    "    train_data = np.concatenate(train_data, axis=0)\n",
    "    validation_labels = np.concatenate(validation_labels, axis=0)\n",
    "    validation_data = np.concatenate(validation_data, axis=0)\n",
    "    test_labels = np.concatenate(test_labels, axis=0)\n",
    "    test_data = np.concatenate(test_data, axis=0)\n",
    "    \n",
    "    train_labels = np_utils.to_categorical(train_labels, nb_classes)\n",
    "    validation_labels = np_utils.to_categorical(validation_labels, nb_classes)\n",
    "    test_labels = np_utils.to_categorical(test_labels, nb_classes)\n",
    "    \n",
    "    train_data = train_data.astype('float32')/255\n",
    "    validation_data = validation_data.astype('float32')/255\n",
    "    test_data = test_data.astype('float32')/255\n",
    "    \n",
    "    return {\n",
    "        \"train_data\": train_data,\n",
    "        \"train_labels\": train_labels,\n",
    "        \"validation_data\": validation_data,\n",
    "        \"validation_labels\": validation_labels,\n",
    "        \"test_data\": test_data,\n",
    "        \"test_labels\": test_labels\n",
    "       }"
   ]
  },
  {
   "cell_type": "markdown",
   "metadata": {
    "colab_type": "text",
    "id": "xUFmx9viVI7z"
   },
   "source": [
    "## Train Model"
   ]
  },
  {
   "cell_type": "code",
   "execution_count": 0,
   "metadata": {
    "colab": {},
    "colab_type": "code",
    "id": "kKw8W26uW029"
   },
   "outputs": [],
   "source": [
    "data_split = split_train_validation_test(\"C\") # subject c is test subject\n",
    "\n",
    "# 80% of each subject (excluding C)\n",
    "train_data = data_split[\"train_data\"]\n",
    "train_labels = data_split[\"train_labels\"]\n",
    "\n",
    "# 20% taken from each subject (excluding C)\n",
    "validation_data = data_split[\"validation_data\"]\n",
    "validation_labels = data_split[\"validation_labels\"]\n",
    "\n",
    "# subject C\n",
    "test_data = data_split[\"test_data\"]\n",
    "test_labels = data_split[\"test_labels\"]"
   ]
  },
  {
   "cell_type": "code",
   "execution_count": 0,
   "metadata": {
    "colab": {},
    "colab_type": "code",
    "id": "JMYZIHC4sBfw",
    "outputId": "372087f0-89ab-4551-a5fc-54e769cdb7e7"
   },
   "outputs": [
    {
     "name": "stdout",
     "output_type": "stream",
     "text": [
      "(29575, 1, 75, 75)\n",
      "(7410, 1, 75, 75)\n",
      "(7966, 1, 75, 75)\n"
     ]
    }
   ],
   "source": [
    "print(train_data.shape)\n",
    "print(validation_data.shape)\n",
    "print(test_data.shape)"
   ]
  },
  {
   "cell_type": "code",
   "execution_count": 0,
   "metadata": {
    "colab": {},
    "colab_type": "code",
    "id": "QCDgL2pgsBfz",
    "outputId": "550a20b7-95ed-4b41-abcf-3ffa4425e9c1"
   },
   "outputs": [
    {
     "name": "stdout",
     "output_type": "stream",
     "text": [
      "Train on 36985 samples, validate on 7966 samples\n",
      "Epoch 1/1\n",
      "36985/36985 [==============================] - 57s 2ms/step - loss: 1.0214 - acc: 0.6000 - val_loss: 0.9798 - val_acc: 0.5357\n"
     ]
    }
   ],
   "source": [
    "history, model = train_model(train_data, train_labels,\n",
    "                             validation_data, validation_labels,\n",
    "                             parameters, nb_epoch, patience)"
   ]
  },
  {
   "cell_type": "markdown",
   "metadata": {
    "colab_type": "text",
    "id": "-UiKUBcWZTMl"
   },
   "source": [
    "## Evaluate Model"
   ]
  },
  {
   "cell_type": "code",
   "execution_count": 0,
   "metadata": {
    "colab": {},
    "colab_type": "code",
    "id": "Nhg74UlvZO0R",
    "outputId": "f936f390-9b6b-4f93-c935-8b88e2a2661d"
   },
   "outputs": [
    {
     "name": "stdout",
     "output_type": "stream",
     "text": [
      "7966/7966 [==============================] - 3s 385us/step\n"
     ]
    }
   ],
   "source": [
    "results = evaluate_model(model, test_data, test_labels, parameters[8], target_names)\n",
    "results[\"history\"] = history.history"
   ]
  },
  {
   "cell_type": "markdown",
   "metadata": {
    "colab_type": "text",
    "id": "s_fDcgsnZWmO"
   },
   "source": [
    "## Save Results"
   ]
  },
  {
   "cell_type": "code",
   "execution_count": 0,
   "metadata": {
    "colab": {},
    "colab_type": "code",
    "id": "FvfALPe4ZViU"
   },
   "outputs": [],
   "source": [
    "if SAVE_RESULTS_TEST_C:\n",
    "    with open(RESULTS_PATH + \"results_test_c.pkl\", 'wb') as results_file:\n",
    "        pickle.dump(results, results_file)"
   ]
  },
  {
   "cell_type": "markdown",
   "metadata": {
    "colab_type": "text",
    "id": "jvU7qrKvZilk"
   },
   "source": [
    "## Load Results"
   ]
  },
  {
   "cell_type": "code",
   "execution_count": 0,
   "metadata": {
    "colab": {},
    "colab_type": "code",
    "id": "F2uKXbW7dx8-"
   },
   "outputs": [],
   "source": [
    "with open(RESULTS_PATH + \"results_test_c.pkl\", 'rb') as results_file:\n",
    "    results = pickle.load(results_file)"
   ]
  },
  {
   "cell_type": "markdown",
   "metadata": {
    "colab_type": "text",
    "id": "Xo1MQX8HZdEM"
   },
   "source": [
    "## Visualize Results"
   ]
  },
  {
   "cell_type": "code",
   "execution_count": 0,
   "metadata": {
    "colab": {},
    "colab_type": "code",
    "id": "IIXL7VSfsBgJ",
    "outputId": "77581bd0-5bab-4427-a1af-95c9ed69a47b"
   },
   "outputs": [
    {
     "name": "stdout",
     "output_type": "stream",
     "text": [
      "Accuracy: 77.32864703600532\n"
     ]
    }
   ],
   "source": [
    "print(\"Accuracy:\",results[\"accuracy\"]*100)"
   ]
  },
  {
   "cell_type": "markdown",
   "metadata": {
    "colab_type": "text",
    "id": "ZAQT0GUGehoN"
   },
   "source": [
    "### Accuracy"
   ]
  },
  {
   "cell_type": "code",
   "execution_count": 0,
   "metadata": {
    "colab": {},
    "colab_type": "code",
    "id": "3TG23dv0ZiER",
    "outputId": "23a58a05-0b1f-4586-97a8-43aa68e4d2b2"
   },
   "outputs": [
    {
     "data": {
      "image/png": "[encoded data removed]",
      "text/plain": [
       "<Figure size 432x288 with 1 Axes>"
      ]
     },
     "metadata": {
      "needs_background": "light",
      "tags": []
     },
     "output_type": "display_data"
    }
   ],
   "source": [
    "training_acc = results[\"history\"]['acc']\n",
    "test_acc = results[\"history\"]['val_acc']\n",
    "\n",
    "# Create count of the number of epochs\n",
    "epoch_count = range(1, len(training_acc) + 1)\n",
    "\n",
    "# Visualize loss history\n",
    "plt.plot(epoch_count, training_acc, 'b--')\n",
    "plt.plot(epoch_count, test_acc, 'r-')\n",
    "plt.legend(['Training Accuracy', 'Test Accuracy'])\n",
    "plt.xlabel('Epoch')\n",
    "plt.ylabel('Accuracy')\n",
    "plt.title(\"Comparison of Training vs Test Accuracy\")\n",
    "plt.grid()\n",
    "if SAVE_GRAPHS_TEST_C:\n",
    "    plt.savefig(RESULTS_PATH + \"training_vs_test_acc.pdf\", format='pdf')\n",
    "plt.show()"
   ]
  },
  {
   "cell_type": "markdown",
   "metadata": {
    "colab_type": "text",
    "id": "8w4V_UCpek2w"
   },
   "source": [
    "### Loss"
   ]
  },
  {
   "cell_type": "code",
   "execution_count": 0,
   "metadata": {
    "colab": {},
    "colab_type": "code",
    "id": "9gOHRHu1eoZa",
    "outputId": "2af5bdda-38f9-4b65-8785-db2dfa99f7ce"
   },
   "outputs": [
    {
     "data": {
      "image/png": "[encoded data removed]",
      "text/plain": [
       "<Figure size 432x288 with 1 Axes>"
      ]
     },
     "metadata": {
      "needs_background": "light",
      "tags": []
     },
     "output_type": "display_data"
    }
   ],
   "source": [
    "training_loss = results[\"history\"]['loss']\n",
    "test_loss = results[\"history\"]['val_loss']\n",
    "\n",
    "# Create count of the number of epochs\n",
    "epoch_count = range(1, len(training_loss) + 1)\n",
    "\n",
    "# Visualize loss history\n",
    "plt.plot(epoch_count, training_loss, 'b--')\n",
    "plt.plot(epoch_count, test_loss, 'r-')\n",
    "plt.legend(['Training Loss', 'Test Loss'])\n",
    "plt.xlabel('Epoch')\n",
    "plt.ylabel('Loss')\n",
    "plt.title(\"Comparison of Training vs Test Loss\")\n",
    "plt.grid()\n",
    "if SAVE_GRAPHS_TEST_C:\n",
    "    plt.savefig(RESULTS_PATH + \"training_vs_test_loss.pdf\", format='pdf')\n",
    "plt.show()"
   ]
  },
  {
   "cell_type": "markdown",
   "metadata": {
    "colab_type": "text",
    "id": "Lj9PbHEyepnH"
   },
   "source": [
    "### Confusion Matrix"
   ]
  },
  {
   "cell_type": "code",
   "execution_count": 0,
   "metadata": {
    "colab": {},
    "colab_type": "code",
    "id": "CGvi00vuZf9G"
   },
   "outputs": [],
   "source": [
    "def plot_confusion_matrix(cm, classes, save=False, path='/'):\n",
    "    plt.imshow(cm, interpolation='nearest', cmap=plt.cm.Blues)\n",
    "    plt.title(\"Confusion Matrix\")\n",
    "    plt.colorbar()\n",
    "    tick_marks = np.arange(len(classes))\n",
    "    plt.xticks(tick_marks, classes, rotation=45)\n",
    "    plt.yticks(tick_marks, classes)\n",
    "    plt.ylabel('True label')\n",
    "    plt.xlabel('Predicted label')\n",
    "    plt.tight_layout()\n",
    "    if save:\n",
    "        plt.savefig(path, format='pdf')\n",
    "    plt.show()"
   ]
  },
  {
   "cell_type": "code",
   "execution_count": 0,
   "metadata": {
    "colab": {},
    "colab_type": "code",
    "id": "cHUVuo_rcOis",
    "outputId": "e6626c5b-902a-41d0-8ed5-de884b13526d",
    "scrolled": true
   },
   "outputs": [
    {
     "data": {
      "image/png": "[encoded data removed]",
      "text/plain": [
       "<Figure size 432x288 with 2 Axes>"
      ]
     },
     "metadata": {
      "needs_background": "light",
      "tags": []
     },
     "output_type": "display_data"
    }
   ],
   "source": [
    "plot_confusion_matrix(results[\"confusion_matrix\"], target_names,\n",
    "                      save=SAVE_GRAPHS_TEST_C, path=RESULTS_PATH + \"confusion_matrix.pdf\")"
   ]
  },
  {
   "cell_type": "code",
   "execution_count": 0,
   "metadata": {
    "colab": {},
    "colab_type": "code",
    "id": "k0_K54rdsBgm"
   },
   "outputs": [],
   "source": [
    "K.clear_session()"
   ]
  },
  {
   "cell_type": "markdown",
   "metadata": {
    "colab_type": "text",
    "id": "qPZEQaFJsBgq"
   },
   "source": [
    "# Evaluating on subset of the data (all subjects) 5-Fold\n",
    "use 60% for training, 20% for validation (early stopping) and the final 20% for testing."
   ]
  },
  {
   "cell_type": "code",
   "execution_count": 0,
   "metadata": {
    "colab": {},
    "colab_type": "code",
    "id": "XPOIc2KOsBgt"
   },
   "outputs": [],
   "source": [
    "# pass in percentage to make test set\n",
    "# fold = 0,1,2,3,4\n",
    "def split_data(test_fold, validation_fold, total_folds):\n",
    "    # split by user then action\n",
    "    labels = np.arange(0, 7)\n",
    "    actions = {}\n",
    "    for user in users:\n",
    "        actions[user] = {}\n",
    "        for label in labels:\n",
    "            actions[user][str(label)] = []\n",
    "        \n",
    "    for user in users:\n",
    "        data = datasets[user][\"data\"]\n",
    "        labels = datasets[user][\"labels\"]\n",
    "        for index, label in enumerate(labels):\n",
    "            actions[user][str(label[0])].append(data[index])        \n",
    "        \n",
    "    labels = np.arange(0, 7)\n",
    "    for user in users:\n",
    "        for label in labels:\n",
    "            actions[user][str(label)] = np.array(actions[user][str(label)])\n",
    "            \n",
    "    train_labels = []\n",
    "    train_data = []\n",
    "    validation_labels = []\n",
    "    validation_data = []\n",
    "    test_labels = []\n",
    "    test_data = []\n",
    "    # each user A->F\n",
    "    for user in users:\n",
    "        # 0 -> 6\n",
    "        for label in labels:\n",
    "            # for example, if using 5 folds splits data into 5 subsets\n",
    "            split_actions = np.array_split(actions[user][str(label)], total_folds)\n",
    "            training_data = []\n",
    "            validating_data = []\n",
    "            testing_data = []\n",
    "            for fold in range(total_folds):\n",
    "                if fold == test_fold:\n",
    "                    testing_data.append(split_actions[fold])\n",
    "                    \n",
    "                elif fold == validation_fold:\n",
    "                    validating_data.append(split_actions[fold])\n",
    "                    \n",
    "                else:\n",
    "                    training_data.append(split_actions[fold])\n",
    "                    \n",
    "            training_data = np.concatenate(training_data, axis=0)\n",
    "            training_labels = np.full(training_data.shape[0], label)\n",
    "            validating_data = np.concatenate(validating_data, axis=0)\n",
    "            validating_labels = np.full(validating_data.shape[0], label)\n",
    "            testing_data = np.concatenate(testing_data, axis=0)\n",
    "            testing_labels = np.full(testing_data.shape[0], label)\n",
    "            \n",
    "            train_data.append(training_data)\n",
    "            train_labels.append(training_labels)\n",
    "            validation_data.append(validating_data)\n",
    "            validation_labels.append(validating_labels)\n",
    "            test_data.append(testing_data)\n",
    "            test_labels.append(testing_labels)   \n",
    "            \n",
    "    train_labels = np.concatenate(train_labels, axis=0)\n",
    "    train_data = np.concatenate(train_data, axis=0)\n",
    "    validation_labels = np.concatenate(validation_labels, axis=0)\n",
    "    validation_data = np.concatenate(validation_data, axis=0)\n",
    "    test_labels = np.concatenate(test_labels, axis=0)\n",
    "    test_data = np.concatenate(test_data, axis=0)\n",
    "    \n",
    "    train_labels = np_utils.to_categorical(train_labels, nb_classes)\n",
    "    validation_labels = np_utils.to_categorical(validation_labels, nb_classes)\n",
    "    test_labels = np_utils.to_categorical(test_labels, nb_classes)\n",
    "    \n",
    "    train_data = train_data.astype('float32')/255\n",
    "    validation_data = validation_data.astype('float32')/255\n",
    "    test_data = test_data.astype('float32')/255\n",
    "    \n",
    "    return {\n",
    "        \"train_data\": train_data,\n",
    "        \"train_labels\": train_labels,\n",
    "        \"validation_data\": validation_data,\n",
    "        \"validation_labels\": validation_labels,\n",
    "        \"test_data\": test_data,\n",
    "        \"test_labels\": test_labels\n",
    "       }"
   ]
  },
  {
   "cell_type": "code",
   "execution_count": 0,
   "metadata": {
    "colab": {},
    "colab_type": "code",
    "id": "yCqMeR0zsBgw"
   },
   "outputs": [],
   "source": [
    "k_fold_results = {}\n",
    "number_of_folds = 5\n",
    "for fold in range(number_of_folds):\n",
    "    k_fold_results[str(fold)] = {}"
   ]
  },
  {
   "cell_type": "code",
   "execution_count": 0,
   "metadata": {
    "colab": {},
    "colab_type": "code",
    "id": "dtu3aOQ8sBg1",
    "outputId": "290038b8-74ec-476d-f791-5af1c2541af4",
    "scrolled": true
   },
   "outputs": [
    {
     "name": "stdout",
     "output_type": "stream",
     "text": [
      "Fold: 0\n",
      "(35945, 1, 75, 75) (35945, 7) (9006, 1, 75, 75) (9006, 7)\n",
      "Train on 35945 samples, validate on 9006 samples\n",
      "Epoch 1/1\n",
      "35945/35945 [==============================] - 52s 1ms/step - loss: 1.1379 - acc: 0.5404 - val_loss: 0.5723 - val_acc: 0.7818\n",
      "9006/9006 [==============================] - 3s 354us/step\n",
      "Fold: 1\n",
      "(35945, 1, 75, 75) (35945, 7) (9006, 1, 75, 75) (9006, 7)\n",
      "Train on 35945 samples, validate on 9006 samples\n",
      "Epoch 1/1\n",
      "35945/35945 [==============================] - 49s 1ms/step - loss: 1.0984 - acc: 0.5591 - val_loss: 0.5243 - val_acc: 0.7868\n",
      "9006/9006 [==============================] - 3s 354us/step\n",
      "Fold: 2\n",
      "(35945, 1, 75, 75) (35945, 7) (9006, 1, 75, 75) (9006, 7)\n",
      "Train on 35945 samples, validate on 9006 samples\n",
      "Epoch 1/1\n",
      "35945/35945 [==============================] - 48s 1ms/step - loss: 1.1736 - acc: 0.5373 - val_loss: 0.8965 - val_acc: 0.6758\n",
      "9006/9006 [==============================] - 3s 377us/step\n",
      "Fold: 3\n",
      "(35982, 1, 75, 75) (35982, 7) (8969, 1, 75, 75) (8969, 7)\n",
      "Train on 35982 samples, validate on 8969 samples\n",
      "Epoch 1/1\n",
      "35982/35982 [==============================] - 52s 1ms/step - loss: 1.0932 - acc: 0.5661 - val_loss: 0.8050 - val_acc: 0.6787\n",
      "8969/8969 [==============================] - 3s 358us/step\n",
      "Fold: 4\n",
      "(35987, 1, 75, 75) (35987, 7) (8964, 1, 75, 75) (8964, 7)\n",
      "Train on 35987 samples, validate on 8964 samples\n",
      "Epoch 1/1\n",
      "35987/35987 [==============================] - 52s 1ms/step - loss: 1.1733 - acc: 0.5195 - val_loss: 0.7714 - val_acc: 0.7344\n",
      "8964/8964 [==============================] - 3s 371us/step\n"
     ]
    }
   ],
   "source": [
    "average_accuracy = 0\n",
    "average_loss = 0\n",
    "for fold in range(number_of_folds):\n",
    "    test_fold = fold\n",
    "    validation_fold = (test_fold + 1) % number_of_folds\n",
    "    print(\"Fold:\", fold)\n",
    "    \n",
    "    data_split = split_data(test_fold, validation_fold, number_of_folds)\n",
    "    \n",
    "    train_data = data_split[\"train_data\"]\n",
    "    train_labels = data_split[\"train_labels\"]\n",
    "    validation_data = data_split[\"validation_data\"]\n",
    "    validation_labels = data_split[\"validation_labels\"]\n",
    "    test_data = data_split[\"test_data\"]\n",
    "    test_labels = data_split[\"test_labels\"]\n",
    "\n",
    "    history, model = train_model(train_data, train_labels,\n",
    "                                 validation_data, validation_labels,\n",
    "                                 parameters, nb_epoch, patience)\n",
    "    \n",
    "    results = evaluate_model(model, test_data, test_labels, parameters[8], target_names)\n",
    "    average_accuracy += results[\"accuracy\"]\n",
    "    average_loss += results[\"loss\"]\n",
    "    k_fold_results[str(fold)][\"accuracy\"] = results[\"accuracy\"]\n",
    "    k_fold_results[str(fold)][\"loss\"] = results[\"loss\"]\n",
    "    \n",
    "k_fold_results[\"average_accuracy\"] = average_accuracy/number_of_folds\n",
    "k_fold_results[\"average_loss\"] = average_loss/number_of_folds"
   ]
  },
  {
   "cell_type": "markdown",
   "metadata": {
    "colab_type": "text",
    "id": "gpNlLduW1a-t"
   },
   "source": [
    "## Save Results"
   ]
  },
  {
   "cell_type": "code",
   "execution_count": 0,
   "metadata": {
    "colab": {},
    "colab_type": "code",
    "id": "wMAawsyJ1a-w"
   },
   "outputs": [],
   "source": [
    "if SAVE_RESULTS_20:\n",
    "    with open(RESULTS_PATH + \"results_test_20.pkl\", 'wb') as results_file:\n",
    "        pickle.dump(k_fold_results, results_file)"
   ]
  },
  {
   "cell_type": "markdown",
   "metadata": {
    "colab_type": "text",
    "id": "bXVJBhXg1a-3"
   },
   "source": [
    "## Load Results"
   ]
  },
  {
   "cell_type": "code",
   "execution_count": 0,
   "metadata": {
    "colab": {},
    "colab_type": "code",
    "id": "lAjlWXID1a-5"
   },
   "outputs": [],
   "source": [
    "with open(RESULTS_PATH + \"results_test_20.pkl\", 'rb') as results_file:\n",
    "    k_fold_results = pickle.load(results_file)"
   ]
  },
  {
   "cell_type": "markdown",
   "metadata": {
    "colab_type": "text",
    "id": "zG96Vl0C1a_D"
   },
   "source": [
    "## Visualize Results"
   ]
  },
  {
   "cell_type": "code",
   "execution_count": 0,
   "metadata": {
    "colab": {},
    "colab_type": "code",
    "id": "WgXYn1ONsBhc",
    "outputId": "c66b0ab2-7ef8-450f-cab5-3ce85a0340cd"
   },
   "outputs": [
    {
     "name": "stdout",
     "output_type": "stream",
     "text": [
      "Average Accuracy: 93.84664399196652\n",
      "Average Loss: 0.20795073051906865\n"
     ]
    }
   ],
   "source": [
    "print(\"Average Accuracy:\", k_fold_results[\"average_accuracy\"]*100)\n",
    "print(\"Average Loss:\", k_fold_results[\"average_loss\"])"
   ]
  },
  {
   "cell_type": "markdown",
   "metadata": {
    "colab_type": "text",
    "id": "XmZhUB_lsBhf"
   },
   "source": [
    "### Accuracy Fold Distribution"
   ]
  },
  {
   "cell_type": "code",
   "execution_count": 0,
   "metadata": {
    "colab": {},
    "colab_type": "code",
    "id": "JG4lyQXfsBhg",
    "outputId": "5ee19622-ed55-4409-f5f5-a975a3aa08a3"
   },
   "outputs": [
    {
     "data": {
      "image/png": "[encoded data removed]",
      "text/plain": [
       "<Figure size 432x288 with 1 Axes>"
      ]
     },
     "metadata": {
      "needs_background": "light",
      "tags": []
     },
     "output_type": "display_data"
    }
   ],
   "source": [
    "accuracies = []\n",
    "for fold in range(number_of_folds):\n",
    "    accuracies.append(k_fold_results[str(fold)][\"accuracy\"]*100)\n",
    "\n",
    "plt.boxplot(accuracies, zorder=3)\n",
    "plt.title(\"Fold Performance Distribution Comparison\")\n",
    "# plt.xlabel(\"Model\")\n",
    "plt.ylabel(\"Classification Accuracy (%)\")\n",
    "plt.grid(axis='y', zorder=0)\n",
    "if SAVE_GRAPHS_20:\n",
    "     plt.savefig(RESULTS_PATH + \"boxplot_20.pdf\", format='pdf')"
   ]
  },
  {
   "cell_type": "code",
   "execution_count": 0,
   "metadata": {
    "colab": {},
    "colab_type": "code",
    "id": "V8GVpM3GsBhm"
   },
   "outputs": [],
   "source": [
    "K.clear_session()"
   ]
  },
  {
   "cell_type": "markdown",
   "metadata": {
    "colab_type": "text",
    "id": "EuOkMVMvsBhq"
   },
   "source": [
    "# Six-Fold Cross-Validation\n",
    "Same method as employed when comparing the original model except this time user all users."
   ]
  },
  {
   "cell_type": "code",
   "execution_count": 0,
   "metadata": {
    "colab": {},
    "colab_type": "code",
    "id": "Enp87uIpsBhr"
   },
   "outputs": [],
   "source": [
    "results_six_fold = {}\n",
    "for user in users:\n",
    "    results_six_fold[user] = {}"
   ]
  },
  {
   "cell_type": "code",
   "execution_count": 0,
   "metadata": {
    "colab": {},
    "colab_type": "code",
    "id": "dZmmBc_qsBht",
    "outputId": "6730e012-5e1e-4049-88c9-3f59ea15a239"
   },
   "outputs": [
    {
     "ename": "ResourceExhaustedError",
     "evalue": "OOM when allocating tensor with shape[576,8,75,75] and type float on /job:localhost/replica:0/task:0/device:GPU:0 by allocator GPU_0_bfc\n\t [[Node: training_7/Adam/gradients/conv2d_30/convolution_grad/Conv2DBackpropInput = Conv2DBackpropInput[T=DT_FLOAT, _class=[\"loc:@training_7/Adam/gradients/conv2d_30/convolution_grad/Conv2DBackpropFilter\"], data_format=\"NCHW\", dilations=[1, 1, 1, 1], padding=\"VALID\", strides=[1, 1, 1, 1], use_cudnn_on_gpu=true, _device=\"/job:localhost/replica:0/task:0/device:GPU:0\"](training_7/Adam/gradients/conv2d_30/convolution_grad/ShapeN, conv2d_30/kernel/read, training_7/Adam/gradients/conv2d_30/Relu_grad/ReluGrad)]]\nHint: If you want to see a list of allocated tensors when OOM happens, add report_tensor_allocations_upon_oom to RunOptions for current allocation info.\n",
     "traceback": [
      "\u001b[1;31m---------------------------------------------------------------------------\u001b[0m",
      "\u001b[1;31mResourceExhaustedError\u001b[0m                    Traceback (most recent call last)",
      "\u001b[1;32m<ipython-input-100-ad4ae22ae1f2>\u001b[0m in \u001b[0;36m<module>\u001b[1;34m\u001b[0m\n\u001b[0;32m      8\u001b[0m     \u001b[0mvalidation_labels\u001b[0m \u001b[1;33m=\u001b[0m \u001b[0mdata_split\u001b[0m\u001b[1;33m[\u001b[0m\u001b[1;34m\"validation_labels\"\u001b[0m\u001b[1;33m]\u001b[0m\u001b[1;33m\u001b[0m\u001b[0m\n\u001b[0;32m      9\u001b[0m \u001b[1;33m\u001b[0m\u001b[0m\n\u001b[1;32m---> 10\u001b[1;33m     \u001b[0mhistory\u001b[0m\u001b[1;33m,\u001b[0m \u001b[0mmodel\u001b[0m \u001b[1;33m=\u001b[0m \u001b[0mtrain_model\u001b[0m\u001b[1;33m(\u001b[0m\u001b[0mtrain_data\u001b[0m\u001b[1;33m,\u001b[0m \u001b[0mtrain_labels\u001b[0m\u001b[1;33m,\u001b[0m \u001b[0mvalidation_data\u001b[0m\u001b[1;33m,\u001b[0m \u001b[0mvalidation_labels\u001b[0m\u001b[1;33m,\u001b[0m \u001b[0mparameters\u001b[0m\u001b[1;33m,\u001b[0m \u001b[0mnb_epoch\u001b[0m\u001b[1;33m,\u001b[0m \u001b[0mpatience\u001b[0m\u001b[1;33m)\u001b[0m\u001b[1;33m\u001b[0m\u001b[0m\n\u001b[0m\u001b[0;32m     11\u001b[0m \u001b[1;33m\u001b[0m\u001b[0m\n\u001b[0;32m     12\u001b[0m     \u001b[0mresults\u001b[0m \u001b[1;33m=\u001b[0m \u001b[0mevaluate_model\u001b[0m\u001b[1;33m(\u001b[0m\u001b[0mmodel\u001b[0m\u001b[1;33m,\u001b[0m \u001b[0mvalidation_data\u001b[0m\u001b[1;33m,\u001b[0m \u001b[0mvalidation_labels\u001b[0m\u001b[1;33m,\u001b[0m \u001b[0mparameters\u001b[0m\u001b[1;33m[\u001b[0m\u001b[1;36m8\u001b[0m\u001b[1;33m]\u001b[0m\u001b[1;33m,\u001b[0m \u001b[0mtarget_names\u001b[0m\u001b[1;33m)\u001b[0m\u001b[1;33m\u001b[0m\u001b[0m\n",
      "\u001b[1;32m<ipython-input-54-b6885931a6b0>\u001b[0m in \u001b[0;36mtrain_model\u001b[1;34m(train_data, train_labels, test_data, test_labels, hyperparameters, epochs, patience)\u001b[0m\n\u001b[0;32m     33\u001b[0m                         \u001b[0mvalidation_data\u001b[0m\u001b[1;33m=\u001b[0m\u001b[1;33m(\u001b[0m\u001b[0mtest_data\u001b[0m\u001b[1;33m,\u001b[0m \u001b[0mtest_labels\u001b[0m\u001b[1;33m)\u001b[0m\u001b[1;33m,\u001b[0m\u001b[1;33m\u001b[0m\u001b[0m\n\u001b[0;32m     34\u001b[0m                         \u001b[0mcallbacks\u001b[0m\u001b[1;33m=\u001b[0m\u001b[0mcallback_list\u001b[0m\u001b[1;33m,\u001b[0m\u001b[1;33m\u001b[0m\u001b[0m\n\u001b[1;32m---> 35\u001b[1;33m                         verbose=0)\n\u001b[0m\u001b[0;32m     36\u001b[0m \u001b[1;33m\u001b[0m\u001b[0m\n\u001b[0;32m     37\u001b[0m     \u001b[1;32mreturn\u001b[0m \u001b[0mhistory\u001b[0m\u001b[1;33m,\u001b[0m \u001b[0mmodel\u001b[0m\u001b[1;33m\u001b[0m\u001b[0m\n",
      "\u001b[1;32m~\\Anaconda3\\envs\\dataScience\\lib\\site-packages\\keras\\engine\\training.py\u001b[0m in \u001b[0;36mfit\u001b[1;34m(self, x, y, batch_size, epochs, verbose, callbacks, validation_split, validation_data, shuffle, class_weight, sample_weight, initial_epoch, steps_per_epoch, validation_steps, **kwargs)\u001b[0m\n\u001b[0;32m   1037\u001b[0m                                         \u001b[0minitial_epoch\u001b[0m\u001b[1;33m=\u001b[0m\u001b[0minitial_epoch\u001b[0m\u001b[1;33m,\u001b[0m\u001b[1;33m\u001b[0m\u001b[0m\n\u001b[0;32m   1038\u001b[0m                                         \u001b[0msteps_per_epoch\u001b[0m\u001b[1;33m=\u001b[0m\u001b[0msteps_per_epoch\u001b[0m\u001b[1;33m,\u001b[0m\u001b[1;33m\u001b[0m\u001b[0m\n\u001b[1;32m-> 1039\u001b[1;33m                                         validation_steps=validation_steps)\n\u001b[0m\u001b[0;32m   1040\u001b[0m \u001b[1;33m\u001b[0m\u001b[0m\n\u001b[0;32m   1041\u001b[0m     def evaluate(self, x=None, y=None,\n",
      "\u001b[1;32m~\\Anaconda3\\envs\\dataScience\\lib\\site-packages\\keras\\engine\\training_arrays.py\u001b[0m in \u001b[0;36mfit_loop\u001b[1;34m(model, f, ins, out_labels, batch_size, epochs, verbose, callbacks, val_f, val_ins, shuffle, callback_metrics, initial_epoch, steps_per_epoch, validation_steps)\u001b[0m\n\u001b[0;32m    197\u001b[0m                     \u001b[0mins_batch\u001b[0m\u001b[1;33m[\u001b[0m\u001b[0mi\u001b[0m\u001b[1;33m]\u001b[0m \u001b[1;33m=\u001b[0m \u001b[0mins_batch\u001b[0m\u001b[1;33m[\u001b[0m\u001b[0mi\u001b[0m\u001b[1;33m]\u001b[0m\u001b[1;33m.\u001b[0m\u001b[0mtoarray\u001b[0m\u001b[1;33m(\u001b[0m\u001b[1;33m)\u001b[0m\u001b[1;33m\u001b[0m\u001b[0m\n\u001b[0;32m    198\u001b[0m \u001b[1;33m\u001b[0m\u001b[0m\n\u001b[1;32m--> 199\u001b[1;33m                 \u001b[0mouts\u001b[0m \u001b[1;33m=\u001b[0m \u001b[0mf\u001b[0m\u001b[1;33m(\u001b[0m\u001b[0mins_batch\u001b[0m\u001b[1;33m)\u001b[0m\u001b[1;33m\u001b[0m\u001b[0m\n\u001b[0m\u001b[0;32m    200\u001b[0m                 \u001b[0mouts\u001b[0m \u001b[1;33m=\u001b[0m \u001b[0mto_list\u001b[0m\u001b[1;33m(\u001b[0m\u001b[0mouts\u001b[0m\u001b[1;33m)\u001b[0m\u001b[1;33m\u001b[0m\u001b[0m\n\u001b[0;32m    201\u001b[0m                 \u001b[1;32mfor\u001b[0m \u001b[0ml\u001b[0m\u001b[1;33m,\u001b[0m \u001b[0mo\u001b[0m \u001b[1;32min\u001b[0m \u001b[0mzip\u001b[0m\u001b[1;33m(\u001b[0m\u001b[0mout_labels\u001b[0m\u001b[1;33m,\u001b[0m \u001b[0mouts\u001b[0m\u001b[1;33m)\u001b[0m\u001b[1;33m:\u001b[0m\u001b[1;33m\u001b[0m\u001b[0m\n",
      "\u001b[1;32m~\\Anaconda3\\envs\\dataScience\\lib\\site-packages\\keras\\backend\\tensorflow_backend.py\u001b[0m in \u001b[0;36m__call__\u001b[1;34m(self, inputs)\u001b[0m\n\u001b[0;32m   2713\u001b[0m                 \u001b[1;32mreturn\u001b[0m \u001b[0mself\u001b[0m\u001b[1;33m.\u001b[0m\u001b[0m_legacy_call\u001b[0m\u001b[1;33m(\u001b[0m\u001b[0minputs\u001b[0m\u001b[1;33m)\u001b[0m\u001b[1;33m\u001b[0m\u001b[0m\n\u001b[0;32m   2714\u001b[0m \u001b[1;33m\u001b[0m\u001b[0m\n\u001b[1;32m-> 2715\u001b[1;33m             \u001b[1;32mreturn\u001b[0m \u001b[0mself\u001b[0m\u001b[1;33m.\u001b[0m\u001b[0m_call\u001b[0m\u001b[1;33m(\u001b[0m\u001b[0minputs\u001b[0m\u001b[1;33m)\u001b[0m\u001b[1;33m\u001b[0m\u001b[0m\n\u001b[0m\u001b[0;32m   2716\u001b[0m         \u001b[1;32melse\u001b[0m\u001b[1;33m:\u001b[0m\u001b[1;33m\u001b[0m\u001b[0m\n\u001b[0;32m   2717\u001b[0m             \u001b[1;32mif\u001b[0m \u001b[0mpy_any\u001b[0m\u001b[1;33m(\u001b[0m\u001b[0mis_tensor\u001b[0m\u001b[1;33m(\u001b[0m\u001b[0mx\u001b[0m\u001b[1;33m)\u001b[0m \u001b[1;32mfor\u001b[0m \u001b[0mx\u001b[0m \u001b[1;32min\u001b[0m \u001b[0minputs\u001b[0m\u001b[1;33m)\u001b[0m\u001b[1;33m:\u001b[0m\u001b[1;33m\u001b[0m\u001b[0m\n",
      "\u001b[1;32m~\\Anaconda3\\envs\\dataScience\\lib\\site-packages\\keras\\backend\\tensorflow_backend.py\u001b[0m in \u001b[0;36m_call\u001b[1;34m(self, inputs)\u001b[0m\n\u001b[0;32m   2673\u001b[0m             \u001b[0mfetched\u001b[0m \u001b[1;33m=\u001b[0m \u001b[0mself\u001b[0m\u001b[1;33m.\u001b[0m\u001b[0m_callable_fn\u001b[0m\u001b[1;33m(\u001b[0m\u001b[1;33m*\u001b[0m\u001b[0marray_vals\u001b[0m\u001b[1;33m,\u001b[0m \u001b[0mrun_metadata\u001b[0m\u001b[1;33m=\u001b[0m\u001b[0mself\u001b[0m\u001b[1;33m.\u001b[0m\u001b[0mrun_metadata\u001b[0m\u001b[1;33m)\u001b[0m\u001b[1;33m\u001b[0m\u001b[0m\n\u001b[0;32m   2674\u001b[0m         \u001b[1;32melse\u001b[0m\u001b[1;33m:\u001b[0m\u001b[1;33m\u001b[0m\u001b[0m\n\u001b[1;32m-> 2675\u001b[1;33m             \u001b[0mfetched\u001b[0m \u001b[1;33m=\u001b[0m \u001b[0mself\u001b[0m\u001b[1;33m.\u001b[0m\u001b[0m_callable_fn\u001b[0m\u001b[1;33m(\u001b[0m\u001b[1;33m*\u001b[0m\u001b[0marray_vals\u001b[0m\u001b[1;33m)\u001b[0m\u001b[1;33m\u001b[0m\u001b[0m\n\u001b[0m\u001b[0;32m   2676\u001b[0m         \u001b[1;32mreturn\u001b[0m \u001b[0mfetched\u001b[0m\u001b[1;33m[\u001b[0m\u001b[1;33m:\u001b[0m\u001b[0mlen\u001b[0m\u001b[1;33m(\u001b[0m\u001b[0mself\u001b[0m\u001b[1;33m.\u001b[0m\u001b[0moutputs\u001b[0m\u001b[1;33m)\u001b[0m\u001b[1;33m]\u001b[0m\u001b[1;33m\u001b[0m\u001b[0m\n\u001b[0;32m   2677\u001b[0m \u001b[1;33m\u001b[0m\u001b[0m\n",
      "\u001b[1;32m~\\Anaconda3\\envs\\dataScience\\lib\\site-packages\\tensorflow\\python\\client\\session.py\u001b[0m in \u001b[0;36m__call__\u001b[1;34m(self, *args, **kwargs)\u001b[0m\n\u001b[0;32m   1380\u001b[0m           ret = tf_session.TF_SessionRunCallable(\n\u001b[0;32m   1381\u001b[0m               \u001b[0mself\u001b[0m\u001b[1;33m.\u001b[0m\u001b[0m_session\u001b[0m\u001b[1;33m.\u001b[0m\u001b[0m_session\u001b[0m\u001b[1;33m,\u001b[0m \u001b[0mself\u001b[0m\u001b[1;33m.\u001b[0m\u001b[0m_handle\u001b[0m\u001b[1;33m,\u001b[0m \u001b[0margs\u001b[0m\u001b[1;33m,\u001b[0m \u001b[0mstatus\u001b[0m\u001b[1;33m,\u001b[0m\u001b[1;33m\u001b[0m\u001b[0m\n\u001b[1;32m-> 1382\u001b[1;33m               run_metadata_ptr)\n\u001b[0m\u001b[0;32m   1383\u001b[0m         \u001b[1;32mif\u001b[0m \u001b[0mrun_metadata\u001b[0m\u001b[1;33m:\u001b[0m\u001b[1;33m\u001b[0m\u001b[0m\n\u001b[0;32m   1384\u001b[0m           \u001b[0mproto_data\u001b[0m \u001b[1;33m=\u001b[0m \u001b[0mtf_session\u001b[0m\u001b[1;33m.\u001b[0m\u001b[0mTF_GetBuffer\u001b[0m\u001b[1;33m(\u001b[0m\u001b[0mrun_metadata_ptr\u001b[0m\u001b[1;33m)\u001b[0m\u001b[1;33m\u001b[0m\u001b[0m\n",
      "\u001b[1;32m~\\Anaconda3\\envs\\dataScience\\lib\\site-packages\\tensorflow\\python\\framework\\errors_impl.py\u001b[0m in \u001b[0;36m__exit__\u001b[1;34m(self, type_arg, value_arg, traceback_arg)\u001b[0m\n\u001b[0;32m    517\u001b[0m             \u001b[1;32mNone\u001b[0m\u001b[1;33m,\u001b[0m \u001b[1;32mNone\u001b[0m\u001b[1;33m,\u001b[0m\u001b[1;33m\u001b[0m\u001b[0m\n\u001b[0;32m    518\u001b[0m             \u001b[0mcompat\u001b[0m\u001b[1;33m.\u001b[0m\u001b[0mas_text\u001b[0m\u001b[1;33m(\u001b[0m\u001b[0mc_api\u001b[0m\u001b[1;33m.\u001b[0m\u001b[0mTF_Message\u001b[0m\u001b[1;33m(\u001b[0m\u001b[0mself\u001b[0m\u001b[1;33m.\u001b[0m\u001b[0mstatus\u001b[0m\u001b[1;33m.\u001b[0m\u001b[0mstatus\u001b[0m\u001b[1;33m)\u001b[0m\u001b[1;33m)\u001b[0m\u001b[1;33m,\u001b[0m\u001b[1;33m\u001b[0m\u001b[0m\n\u001b[1;32m--> 519\u001b[1;33m             c_api.TF_GetCode(self.status.status))\n\u001b[0m\u001b[0;32m    520\u001b[0m     \u001b[1;31m# Delete the underlying status object from memory otherwise it stays alive\u001b[0m\u001b[1;33m\u001b[0m\u001b[1;33m\u001b[0m\u001b[0m\n\u001b[0;32m    521\u001b[0m     \u001b[1;31m# as there is a reference to status from this from the traceback due to\u001b[0m\u001b[1;33m\u001b[0m\u001b[1;33m\u001b[0m\u001b[0m\n",
      "\u001b[1;31mResourceExhaustedError\u001b[0m: OOM when allocating tensor with shape[576,8,75,75] and type float on /job:localhost/replica:0/task:0/device:GPU:0 by allocator GPU_0_bfc\n\t [[Node: training_7/Adam/gradients/conv2d_30/convolution_grad/Conv2DBackpropInput = Conv2DBackpropInput[T=DT_FLOAT, _class=[\"loc:@training_7/Adam/gradients/conv2d_30/convolution_grad/Conv2DBackpropFilter\"], data_format=\"NCHW\", dilations=[1, 1, 1, 1], padding=\"VALID\", strides=[1, 1, 1, 1], use_cudnn_on_gpu=true, _device=\"/job:localhost/replica:0/task:0/device:GPU:0\"](training_7/Adam/gradients/conv2d_30/convolution_grad/ShapeN, conv2d_30/kernel/read, training_7/Adam/gradients/conv2d_30/Relu_grad/ReluGrad)]]\nHint: If you want to see a list of allocated tensors when OOM happens, add report_tensor_allocations_upon_oom to RunOptions for current allocation info.\n"
     ],
     "output_type": "error"
    }
   ],
   "source": [
    "average_accuracy = 0\n",
    "average_loss = 0\n",
    "for user in users:\n",
    "    data_split = split_train_validation_test(user)\n",
    "    train_data = data_split[\"train_data\"]\n",
    "    train_labels = data_split[\"train_labels\"]\n",
    "    validation_data = data_split[\"validation_data\"]\n",
    "    validation_labels = data_split[\"validation_labels\"]\n",
    "    test_data = data_split[\"test_data\"]\n",
    "    test_labels = data_split[\"test_labels\"]\n",
    "    \n",
    "    history, model = train_model(train_data, train_labels, validation_data, validation_labels, parameters, nb_epoch, patience)\n",
    "    \n",
    "    results = evaluate_model(model, test_data, test_labels, parameters[8], target_names)\n",
    "    average_accuracy += results[\"accuracy\"]\n",
    "    average_loss += results[\"loss\"]\n",
    "    results_six_fold[user][\"accuracy\"] = results[\"accuracy\"]\n",
    "    results_six_fold[user][\"loss\"] = results[\"loss\"]\n",
    "\n",
    "results_six_fold[\"avg_loss\"] = average_loss/len(users)\n",
    "results_six_fold[\"avg_acc\"] = average_accuracy/len(users)\n",
    "print(\"Average Loss:\", average_loss/len(users))\n",
    "print(\"Average Accuracy:\", average_accuracy/len(users))"
   ]
  },
  {
   "cell_type": "markdown",
   "metadata": {
    "colab_type": "text",
    "id": "FJoBqNfPsBhx"
   },
   "source": [
    "## Save Results"
   ]
  },
  {
   "cell_type": "code",
   "execution_count": 0,
   "metadata": {
    "colab": {},
    "colab_type": "code",
    "id": "hnAwgC5DsBhy"
   },
   "outputs": [],
   "source": [
    "if SAVE_RESULTS_6_FOLD:\n",
    "    with open(RESULTS_PATH + \"results_6_fold.pkl\", 'wb') as results_file:\n",
    "        pickle.dump(results_six_fold, results_file)"
   ]
  },
  {
   "cell_type": "markdown",
   "metadata": {
    "colab_type": "text",
    "id": "c5OTSf4csBh2"
   },
   "source": [
    "## Load Results"
   ]
  },
  {
   "cell_type": "code",
   "execution_count": 0,
   "metadata": {
    "colab": {},
    "colab_type": "code",
    "id": "OL-r8gzfsBh3"
   },
   "outputs": [],
   "source": [
    "with open(RESULTS_PATH + \"results_6_fold.pkl\", 'rb') as results_file:\n",
    "    results_six_fold = pickle.load(results_file)"
   ]
  },
  {
   "cell_type": "markdown",
   "metadata": {
    "colab_type": "text",
    "id": "WIcBEAsKsBh7"
   },
   "source": [
    "## Visualize Results"
   ]
  },
  {
   "cell_type": "code",
   "execution_count": 0,
   "metadata": {
    "colab": {},
    "colab_type": "code",
    "id": "LxKxFnrYsBh8",
    "outputId": "23ebe00f-174f-4fc6-f8eb-f99ee0feb703"
   },
   "outputs": [
    {
     "name": "stdout",
     "output_type": "stream",
     "text": [
      "Average Accuracy: 76.80047597558102\n",
      "Average Loss: 1.616423382245684\n"
     ]
    }
   ],
   "source": [
    "print(\"Average Accuracy:\", results_six_fold[\"avg_acc\"]*100)\n",
    "print(\"Average Loss:\", results_six_fold[\"avg_loss\"])"
   ]
  },
  {
   "cell_type": "code",
   "execution_count": 0,
   "metadata": {
    "colab": {},
    "colab_type": "code",
    "id": "G1nkUBDDsBiF",
    "outputId": "10f1a9bf-07e8-4e9e-f960-71d83dc7830b",
    "scrolled": true
   },
   "outputs": [
    {
     "data": {
      "image/png": "[encoded data removed]",
      "text/plain": [
       "<Figure size 432x288 with 1 Axes>"
      ]
     },
     "metadata": {
      "needs_background": "light",
      "tags": []
     },
     "output_type": "display_data"
    }
   ],
   "source": [
    "accuracies = []\n",
    "for user in users:\n",
    "    accuracies.append(results_six_fold[user][\"accuracy\"]*100)\n",
    "\n",
    "plt.boxplot(accuracies, zorder=3)\n",
    "plt.title(\"Fold Performance Distribution Comparison\")\n",
    "plt.xlabel(\"Model\")\n",
    "plt.ylabel(\"Classification Accuracy (%)\")\n",
    "plt.grid(axis='y', zorder=0)\n",
    "if SAVE_GRAPHS_6_FOLD:\n",
    "     plt.savefig(RESULTS_PATH + \"boxplot_6_fold.pdf\", format='pdf')"
   ]
  },
  {
   "cell_type": "code",
   "execution_count": 0,
   "metadata": {
    "colab": {},
    "colab_type": "code",
    "id": "q-xScbY7sBiK",
    "outputId": "9b041b1e-3613-4480-cedc-1eecd1ebe32e",
    "scrolled": false
   },
   "outputs": [
    {
     "data": {
      "image/png": "[encoded data removed]",
      "text/plain": [
       "<Figure size 432x288 with 1 Axes>"
      ]
     },
     "metadata": {
      "needs_background": "light",
      "tags": []
     },
     "output_type": "display_data"
    }
   ],
   "source": [
    "plt.bar(range(len(users)), accuracies, zorder=3)\n",
    "plt.xticks(range(len(users)), users)\n",
    "plt.xlabel(\"Subject (fold)\")\n",
    "plt.ylabel(\"Classification Accuracy (%)\")\n",
    "plt.title(\" Fold Accuracy Distribution\")\n",
    "plt.grid(axis='y', zorder=0)\n",
    "if SAVE_GRAPHS_6_FOLD:\n",
    "    plt.savefig(RESULTS_PATH + \"fold_accuracy_distribution_6_fold.pdf\", format='pdf')\n",
    "plt.show()"
   ]
  },
  {
   "cell_type": "markdown",
   "metadata": {
    "colab_type": "text",
    "id": "DH8NXUtIsBiO"
   },
   "source": [
    "# Original Model Parameters"
   ]
  },
  {
   "cell_type": "code",
   "execution_count": 0,
   "metadata": {
    "colab": {},
    "colab_type": "code",
    "id": "nzg7iLoPsBiP"
   },
   "outputs": [],
   "source": [
    "SAVE_RESULTS_TEST_C_BASE = False\n",
    "SAVE_GRAPHS_TEST_C_BASE = True\n",
    "\n",
    "SAVE_RESULTS_20_BASE = False\n",
    "SAVE_GRAPHS_20_BASE = True\n",
    "\n",
    "SAVE_RESULTS_6_FOLD_BASE = True\n",
    "SAVE_GRAPHS_6_FOLD_BASE = True"
   ]
  },
  {
   "cell_type": "code",
   "execution_count": 0,
   "metadata": {
    "colab": {},
    "colab_type": "code",
    "id": "cVUpSOIysBiT"
   },
   "outputs": [],
   "source": [
    "nb_epochs = 20\n",
    "batch_size = 64"
   ]
  },
  {
   "cell_type": "code",
   "execution_count": 0,
   "metadata": {
    "colab": {},
    "colab_type": "code",
    "id": "8OImgCdJsBiV"
   },
   "outputs": [],
   "source": [
    "def make_base_model():   \n",
    "    model = Sequential(name=\"Base\")\n",
    "\n",
    "    model.add(Convolution2D(64, (3, 3), padding='same',\n",
    "                            input_shape=(1, img_rows, img_cols), activation='relu'))\n",
    "    model.add(Convolution2D(64, (3, 3), activation='relu'))\n",
    "    model.add(MaxPooling2D(pool_size=(2, 2)))\n",
    "    model.add(Dropout(0.25))\n",
    "\n",
    "    model.add(Convolution2D(128, (3, 3), padding='same', activation='relu'))\n",
    "    model.add(Convolution2D(128, (3, 3), activation='relu'))\n",
    "    model.add(MaxPooling2D(pool_size=(2, 2)))\n",
    "    model.add(Dropout(0.25))\n",
    "\n",
    "    model.add(Flatten())\n",
    "    model.add(Dense(512, activation='relu'))\n",
    "    model.add(Dropout(0.5))\n",
    "    model.add(Dense(nb_classes, activation='softmax'))\n",
    "    \n",
    "    optimizer = SGD(lr=0.01, decay=1e-6, momentum=0.9,\n",
    "                    nesterov=True)\n",
    "\n",
    "    model.compile(loss='categorical_crossentropy',\n",
    "                  optimizer=optimizer,\n",
    "                  metrics=['accuracy'])\n",
    "    return model"
   ]
  },
  {
   "cell_type": "markdown",
   "metadata": {
    "colab_type": "text",
    "id": "9ZEvUvdGsBic"
   },
   "source": [
    "## Evaluate on Subject C"
   ]
  },
  {
   "cell_type": "code",
   "execution_count": 0,
   "metadata": {
    "colab": {},
    "colab_type": "code",
    "id": "3dnZntKrsBic"
   },
   "outputs": [],
   "source": [
    "data_split = split_train_validation_test(\"C\") # subject c is test subject\n",
    "\n",
    "# 80% of each subject (excluding C)\n",
    "train_data = data_split[\"train_data\"]\n",
    "train_labels = data_split[\"train_labels\"]\n",
    "\n",
    "# 20% taken from each subject (excluding C)\n",
    "validation_data = data_split[\"validation_data\"]\n",
    "validation_labels = data_split[\"validation_labels\"]\n",
    "\n",
    "# subject C\n",
    "test_data = data_split[\"test_data\"]\n",
    "test_labels = data_split[\"test_labels\"]"
   ]
  },
  {
   "cell_type": "code",
   "execution_count": 24,
   "metadata": {
    "colab": {
     "base_uri": "https://localhost:8080/",
     "height": 714.0
    },
    "colab_type": "code",
    "executionInfo": {
     "elapsed": 1250294.0,
     "status": "ok",
     "timestamp": 1.552056658916E12,
     "user": {
      "displayName": "Andrew Mackay",
      "photoUrl": "https://lh3.googleusercontent.com/-24hiGmdxZDE/AAAAAAAAAAI/AAAAAAAAL_I/RW7nqM11LkM/s64/photo.jpg",
      "userId": "06804410358976473893"
     },
     "user_tz": 0.0
    },
    "id": "lQNuCdRysBif",
    "outputId": "cacb7345-fb78-4c9c-ad1d-80b481f190ad"
   },
   "outputs": [
    {
     "name": "stdout",
     "output_type": "stream",
     "text": [
      "Train on 29575 samples, validate on 7410 samples\n",
      "Epoch 1/20\n",
      "29575/29575 [==============================] - 64s 2ms/step - loss: 0.8306 - acc: 0.6913 - val_loss: 0.3613 - val_acc: 0.8565\n",
      "Epoch 2/20\n",
      "29575/29575 [==============================] - 63s 2ms/step - loss: 0.3524 - acc: 0.8841 - val_loss: 0.2348 - val_acc: 0.9035\n",
      "Epoch 3/20\n",
      "29575/29575 [==============================] - 63s 2ms/step - loss: 0.2380 - acc: 0.9213 - val_loss: 0.1403 - val_acc: 0.9506\n",
      "Epoch 4/20\n",
      "29575/29575 [==============================] - 63s 2ms/step - loss: 0.1859 - acc: 0.9360 - val_loss: 0.1336 - val_acc: 0.9536\n",
      "Epoch 5/20\n",
      "29575/29575 [==============================] - 62s 2ms/step - loss: 0.1564 - acc: 0.9449 - val_loss: 0.1070 - val_acc: 0.9638\n",
      "Epoch 6/20\n",
      "29575/29575 [==============================] - 62s 2ms/step - loss: 0.1405 - acc: 0.9506 - val_loss: 0.1054 - val_acc: 0.9638\n",
      "Epoch 7/20\n",
      "29575/29575 [==============================] - 62s 2ms/step - loss: 0.1285 - acc: 0.9541 - val_loss: 0.0943 - val_acc: 0.9653\n",
      "Epoch 8/20\n",
      "29575/29575 [==============================] - 62s 2ms/step - loss: 0.1149 - acc: 0.9582 - val_loss: 0.1234 - val_acc: 0.9601\n",
      "Epoch 9/20\n",
      "29575/29575 [==============================] - 62s 2ms/step - loss: 0.1223 - acc: 0.9556 - val_loss: 0.0881 - val_acc: 0.9691\n",
      "Epoch 10/20\n",
      "29575/29575 [==============================] - 62s 2ms/step - loss: 0.1031 - acc: 0.9621 - val_loss: 0.1086 - val_acc: 0.9683\n",
      "Epoch 11/20\n",
      "29575/29575 [==============================] - 62s 2ms/step - loss: 0.0991 - acc: 0.9636 - val_loss: 0.1155 - val_acc: 0.9625\n",
      "Epoch 12/20\n",
      "29575/29575 [==============================] - 62s 2ms/step - loss: 0.0955 - acc: 0.9637 - val_loss: 0.1076 - val_acc: 0.9655\n",
      "Epoch 13/20\n",
      "29575/29575 [==============================] - 62s 2ms/step - loss: 0.0927 - acc: 0.9649 - val_loss: 0.1046 - val_acc: 0.9672\n",
      "Epoch 14/20\n",
      "29575/29575 [==============================] - 62s 2ms/step - loss: 0.0859 - acc: 0.9676 - val_loss: 0.1655 - val_acc: 0.9548\n",
      "Epoch 15/20\n",
      "29575/29575 [==============================] - 62s 2ms/step - loss: 0.0872 - acc: 0.9670 - val_loss: 0.1124 - val_acc: 0.9648\n",
      "Epoch 16/20\n",
      "29575/29575 [==============================] - 62s 2ms/step - loss: 0.0839 - acc: 0.9677 - val_loss: 0.1471 - val_acc: 0.9561\n",
      "Epoch 17/20\n",
      "29575/29575 [==============================] - 62s 2ms/step - loss: 0.0846 - acc: 0.9681 - val_loss: 0.1454 - val_acc: 0.9596\n",
      "Epoch 18/20\n",
      "29575/29575 [==============================] - 62s 2ms/step - loss: 0.0807 - acc: 0.9678 - val_loss: 0.1089 - val_acc: 0.9675\n",
      "Epoch 19/20\n",
      "29575/29575 [==============================] - 62s 2ms/step - loss: 0.0774 - acc: 0.9696 - val_loss: 0.1230 - val_acc: 0.9710\n",
      "Epoch 20/20\n",
      "29575/29575 [==============================] - 62s 2ms/step - loss: 0.0769 - acc: 0.9693 - val_loss: 0.1205 - val_acc: 0.9717\n"
     ]
    }
   ],
   "source": [
    "model = make_base_model()\n",
    "\n",
    "history = model.fit(train_data, train_labels,\n",
    "                    batch_size=batch_size,\n",
    "                    epochs=nb_epochs,\n",
    "                    shuffle=True, \n",
    "                    validation_data=(validation_data, validation_labels),\n",
    "                    verbose=1)"
   ]
  },
  {
   "cell_type": "code",
   "execution_count": 27,
   "metadata": {
    "colab": {
     "base_uri": "https://localhost:8080/",
     "height": 34.0
    },
    "colab_type": "code",
    "executionInfo": {
     "elapsed": 11534.0,
     "status": "ok",
     "timestamp": 1.552056837139E12,
     "user": {
      "displayName": "Andrew Mackay",
      "photoUrl": "https://lh3.googleusercontent.com/-24hiGmdxZDE/AAAAAAAAAAI/AAAAAAAAL_I/RW7nqM11LkM/s64/photo.jpg",
      "userId": "06804410358976473893"
     },
     "user_tz": 0.0
    },
    "id": "qCJVE9hNsBim",
    "outputId": "057d6be5-08c6-4eec-db10-61bf68bb3515"
   },
   "outputs": [
    {
     "name": "stdout",
     "output_type": "stream",
     "text": [
      "7966/7966 [==============================] - 5s 670us/step\n"
     ]
    }
   ],
   "source": [
    "results = evaluate_model(model, test_data, test_labels, batch_size, target_names)\n",
    "results[\"history\"] = history.history"
   ]
  },
  {
   "cell_type": "markdown",
   "metadata": {
    "colab_type": "text",
    "id": "gtkdinzjtTv0"
   },
   "source": [
    "## Save Results"
   ]
  },
  {
   "cell_type": "code",
   "execution_count": 0,
   "metadata": {
    "colab": {},
    "colab_type": "code",
    "id": "GTLXfvAhtOU7"
   },
   "outputs": [],
   "source": [
    "if SAVE_RESULTS_TEST_C_BASE:\n",
    "    with open(RESULTS_PATH + \"results_test_c_base.pkl\", 'wb') as results_file:\n",
    "        pickle.dump(results, results_file)"
   ]
  },
  {
   "cell_type": "markdown",
   "metadata": {
    "colab_type": "text",
    "id": "ijkgdcz-tOVH"
   },
   "source": [
    "## Load Results"
   ]
  },
  {
   "cell_type": "code",
   "execution_count": 0,
   "metadata": {
    "colab": {},
    "colab_type": "code",
    "id": "xPDwwpo0tOVK"
   },
   "outputs": [],
   "source": [
    "with open(RESULTS_PATH + \"results_test_c_base.pkl\", 'rb') as results_file:\n",
    "    results = pickle.load(results_file)"
   ]
  },
  {
   "cell_type": "markdown",
   "metadata": {
    "colab_type": "text",
    "id": "f9XGRt0PtOVX"
   },
   "source": [
    "## Visualize Results"
   ]
  },
  {
   "cell_type": "code",
   "execution_count": 30,
   "metadata": {
    "colab": {
     "base_uri": "https://localhost:8080/",
     "height": 34.0
    },
    "colab_type": "code",
    "executionInfo": {
     "elapsed": 575.0,
     "status": "ok",
     "timestamp": 1.552056846044E12,
     "user": {
      "displayName": "Andrew Mackay",
      "photoUrl": "https://lh3.googleusercontent.com/-24hiGmdxZDE/AAAAAAAAAAI/AAAAAAAAL_I/RW7nqM11LkM/s64/photo.jpg",
      "userId": "06804410358976473893"
     },
     "user_tz": 0.0
    },
    "id": "Uw-srbUAsBi_",
    "outputId": "07b6b251-5cd3-4419-a74e-e5a516b2649f"
   },
   "outputs": [
    {
     "name": "stdout",
     "output_type": "stream",
     "text": [
      "Accuracy: 77.26587998995733\n"
     ]
    }
   ],
   "source": [
    "print(\"Accuracy:\", results[\"accuracy\"]*100)"
   ]
  },
  {
   "cell_type": "code",
   "execution_count": 0,
   "metadata": {
    "colab": {},
    "colab_type": "code",
    "id": "Dde-vCn5sBjb"
   },
   "outputs": [],
   "source": [
    "K.clear_session()"
   ]
  },
  {
   "cell_type": "markdown",
   "metadata": {
    "colab_type": "text",
    "id": "oVIApBO7sBjf"
   },
   "source": [
    "# Evaluating on subset of the data (all subjects) 5-Fold\n",
    "use 60% for training, 20% for validation (early stopping) and the final 20% for testing."
   ]
  },
  {
   "cell_type": "code",
   "execution_count": 0,
   "metadata": {
    "colab": {},
    "colab_type": "code",
    "id": "QT5KP8pksBjg"
   },
   "outputs": [],
   "source": [
    "k_fold_results = {}\n",
    "number_of_folds = 5\n",
    "for fold in range(number_of_folds):\n",
    "    k_fold_results[str(fold)] = {}"
   ]
  },
  {
   "cell_type": "code",
   "execution_count": 33,
   "metadata": {
    "colab": {
     "base_uri": "https://localhost:8080/",
     "height": 3672.0
    },
    "colab_type": "code",
    "executionInfo": {
     "elapsed": 5881270.0,
     "status": "ok",
     "timestamp": 1.552062826867E12,
     "user": {
      "displayName": "Andrew Mackay",
      "photoUrl": "https://lh3.googleusercontent.com/-24hiGmdxZDE/AAAAAAAAAAI/AAAAAAAAL_I/RW7nqM11LkM/s64/photo.jpg",
      "userId": "06804410358976473893"
     },
     "user_tz": 0.0
    },
    "id": "u5_dId2vsBjj",
    "outputId": "0134d324-5002-4cae-e775-82dd09583318",
    "scrolled": true
   },
   "outputs": [
    {
     "name": "stdout",
     "output_type": "stream",
     "text": [
      "Fold: 0\n",
      "Train on 26939 samples, validate on 9006 samples\n",
      "Epoch 1/20\n",
      "26939/26939 [==============================] - 60s 2ms/step - loss: 0.9433 - acc: 0.6470 - val_loss: 0.4038 - val_acc: 0.8558\n",
      "Epoch 2/20\n",
      "26939/26939 [==============================] - 58s 2ms/step - loss: 0.4286 - acc: 0.8546 - val_loss: 0.2754 - val_acc: 0.8945\n",
      "Epoch 3/20\n",
      "26939/26939 [==============================] - 58s 2ms/step - loss: 0.2815 - acc: 0.9048 - val_loss: 0.2656 - val_acc: 0.9057\n",
      "Epoch 4/20\n",
      "26939/26939 [==============================] - 58s 2ms/step - loss: 0.2131 - acc: 0.9271 - val_loss: 0.2299 - val_acc: 0.9218\n",
      "Epoch 5/20\n",
      "26939/26939 [==============================] - 58s 2ms/step - loss: 0.1824 - acc: 0.9353 - val_loss: 0.2276 - val_acc: 0.9284\n",
      "Epoch 6/20\n",
      "26939/26939 [==============================] - 58s 2ms/step - loss: 0.1567 - acc: 0.9447 - val_loss: 0.1896 - val_acc: 0.9352\n",
      "Epoch 7/20\n",
      "26939/26939 [==============================] - 58s 2ms/step - loss: 0.1373 - acc: 0.9510 - val_loss: 0.1616 - val_acc: 0.9480\n",
      "Epoch 8/20\n",
      "26939/26939 [==============================] - 58s 2ms/step - loss: 0.1282 - acc: 0.9541 - val_loss: 0.1704 - val_acc: 0.9479\n",
      "Epoch 9/20\n",
      "26939/26939 [==============================] - 58s 2ms/step - loss: 0.1136 - acc: 0.9572 - val_loss: 0.1917 - val_acc: 0.9437\n",
      "Epoch 10/20\n",
      "26939/26939 [==============================] - 58s 2ms/step - loss: 0.1134 - acc: 0.9582 - val_loss: 0.1851 - val_acc: 0.9473\n",
      "Epoch 11/20\n",
      "26939/26939 [==============================] - 58s 2ms/step - loss: 0.1002 - acc: 0.9631 - val_loss: 0.1804 - val_acc: 0.9525\n",
      "Epoch 12/20\n",
      "26939/26939 [==============================] - 58s 2ms/step - loss: 0.0958 - acc: 0.9639 - val_loss: 0.2086 - val_acc: 0.9443\n",
      "Epoch 13/20\n",
      "26939/26939 [==============================] - 58s 2ms/step - loss: 0.0928 - acc: 0.9638 - val_loss: 0.1476 - val_acc: 0.9601\n",
      "Epoch 14/20\n",
      "26939/26939 [==============================] - 58s 2ms/step - loss: 0.0922 - acc: 0.9637 - val_loss: 0.1939 - val_acc: 0.9491\n",
      "Epoch 15/20\n",
      "26939/26939 [==============================] - 58s 2ms/step - loss: 0.0859 - acc: 0.9668 - val_loss: 0.1674 - val_acc: 0.9551\n",
      "Epoch 16/20\n",
      "26939/26939 [==============================] - 58s 2ms/step - loss: 0.0844 - acc: 0.9670 - val_loss: 0.1835 - val_acc: 0.9540\n",
      "Epoch 17/20\n",
      "26939/26939 [==============================] - 58s 2ms/step - loss: 0.0805 - acc: 0.9681 - val_loss: 0.1718 - val_acc: 0.9563\n",
      "Epoch 18/20\n",
      "26939/26939 [==============================] - 58s 2ms/step - loss: 0.0777 - acc: 0.9693 - val_loss: 0.1907 - val_acc: 0.9518\n",
      "Epoch 19/20\n",
      "26939/26939 [==============================] - 58s 2ms/step - loss: 0.0758 - acc: 0.9697 - val_loss: 0.1914 - val_acc: 0.9565\n",
      "Epoch 20/20\n",
      "26939/26939 [==============================] - 58s 2ms/step - loss: 0.0769 - acc: 0.9690 - val_loss: 0.2017 - val_acc: 0.9530\n",
      "9006/9006 [==============================] - 6s 628us/step\n",
      "Fold: 1\n",
      "Train on 26939 samples, validate on 9006 samples\n",
      "Epoch 1/20\n",
      "26939/26939 [==============================] - 59s 2ms/step - loss: 0.9015 - acc: 0.6605 - val_loss: 0.5298 - val_acc: 0.8300\n",
      "Epoch 2/20\n",
      "26939/26939 [==============================] - 58s 2ms/step - loss: 0.3939 - acc: 0.8663 - val_loss: 0.3600 - val_acc: 0.8813\n",
      "Epoch 3/20\n",
      "26939/26939 [==============================] - 58s 2ms/step - loss: 0.2607 - acc: 0.9102 - val_loss: 0.2882 - val_acc: 0.9074\n",
      "Epoch 4/20\n",
      "26939/26939 [==============================] - 58s 2ms/step - loss: 0.1960 - acc: 0.9331 - val_loss: 0.2621 - val_acc: 0.9133\n",
      "Epoch 5/20\n",
      "26939/26939 [==============================] - 58s 2ms/step - loss: 0.1588 - acc: 0.9448 - val_loss: 0.2673 - val_acc: 0.9172\n",
      "Epoch 6/20\n",
      "26939/26939 [==============================] - 58s 2ms/step - loss: 0.1360 - acc: 0.9537 - val_loss: 0.2426 - val_acc: 0.9206\n",
      "Epoch 7/20\n",
      "26939/26939 [==============================] - 58s 2ms/step - loss: 0.1142 - acc: 0.9615 - val_loss: 0.2214 - val_acc: 0.9256\n",
      "Epoch 8/20\n",
      "26939/26939 [==============================] - 58s 2ms/step - loss: 0.0971 - acc: 0.9665 - val_loss: 0.2783 - val_acc: 0.9145\n",
      "Epoch 9/20\n",
      "26939/26939 [==============================] - 58s 2ms/step - loss: 0.0922 - acc: 0.9683 - val_loss: 0.2360 - val_acc: 0.9247\n",
      "Epoch 10/20\n",
      "26939/26939 [==============================] - 58s 2ms/step - loss: 0.0829 - acc: 0.9710 - val_loss: 0.2522 - val_acc: 0.9255\n",
      "Epoch 11/20\n",
      "26939/26939 [==============================] - 58s 2ms/step - loss: 0.0764 - acc: 0.9737 - val_loss: 0.2588 - val_acc: 0.9212\n",
      "Epoch 12/20\n",
      "26939/26939 [==============================] - 58s 2ms/step - loss: 0.0708 - acc: 0.9749 - val_loss: 0.2433 - val_acc: 0.9277\n",
      "Epoch 13/20\n",
      "26939/26939 [==============================] - 58s 2ms/step - loss: 0.0660 - acc: 0.9769 - val_loss: 0.2367 - val_acc: 0.9264\n",
      "Epoch 14/20\n",
      "26939/26939 [==============================] - 58s 2ms/step - loss: 0.0638 - acc: 0.9769 - val_loss: 0.2375 - val_acc: 0.9282\n",
      "Epoch 15/20\n",
      "26939/26939 [==============================] - 58s 2ms/step - loss: 0.0591 - acc: 0.9792 - val_loss: 0.2492 - val_acc: 0.9270\n",
      "Epoch 16/20\n",
      "26939/26939 [==============================] - 58s 2ms/step - loss: 0.0556 - acc: 0.9798 - val_loss: 0.2154 - val_acc: 0.9319\n",
      "Epoch 17/20\n",
      "26939/26939 [==============================] - 58s 2ms/step - loss: 0.0531 - acc: 0.9809 - val_loss: 0.2624 - val_acc: 0.9306\n",
      "Epoch 18/20\n",
      "26939/26939 [==============================] - 58s 2ms/step - loss: 0.0539 - acc: 0.9800 - val_loss: 0.2387 - val_acc: 0.9316\n",
      "Epoch 19/20\n",
      "26939/26939 [==============================] - 58s 2ms/step - loss: 0.0513 - acc: 0.9808 - val_loss: 0.2707 - val_acc: 0.9309\n",
      "Epoch 20/20\n",
      "26939/26939 [==============================] - 58s 2ms/step - loss: 0.0491 - acc: 0.9815 - val_loss: 0.2500 - val_acc: 0.9332\n",
      "9006/9006 [==============================] - 6s 629us/step\n",
      "Fold: 2\n",
      "Train on 26976 samples, validate on 8969 samples\n",
      "Epoch 1/20\n",
      "26976/26976 [==============================] - 59s 2ms/step - loss: 0.8822 - acc: 0.6644 - val_loss: 0.4347 - val_acc: 0.8449\n",
      "Epoch 2/20\n",
      "26976/26976 [==============================] - 58s 2ms/step - loss: 0.3987 - acc: 0.8647 - val_loss: 0.2645 - val_acc: 0.9101\n",
      "Epoch 3/20\n",
      "26976/26976 [==============================] - 58s 2ms/step - loss: 0.2644 - acc: 0.9106 - val_loss: 0.2041 - val_acc: 0.9271\n",
      "Epoch 4/20\n",
      "26976/26976 [==============================] - 58s 2ms/step - loss: 0.1996 - acc: 0.9306 - val_loss: 0.2276 - val_acc: 0.9223\n",
      "Epoch 5/20\n",
      "26976/26976 [==============================] - 58s 2ms/step - loss: 0.1616 - acc: 0.9432 - val_loss: 0.1695 - val_acc: 0.9449\n",
      "Epoch 6/20\n",
      "26976/26976 [==============================] - 58s 2ms/step - loss: 0.1301 - acc: 0.9541 - val_loss: 0.1342 - val_acc: 0.9572\n",
      "Epoch 7/20\n",
      "26976/26976 [==============================] - 58s 2ms/step - loss: 0.1188 - acc: 0.9585 - val_loss: 0.1165 - val_acc: 0.9611\n",
      "Epoch 8/20\n",
      "26976/26976 [==============================] - 58s 2ms/step - loss: 0.1083 - acc: 0.9619 - val_loss: 0.1488 - val_acc: 0.9537\n",
      "Epoch 9/20\n",
      "26976/26976 [==============================] - 58s 2ms/step - loss: 0.0967 - acc: 0.9650 - val_loss: 0.0965 - val_acc: 0.9703\n",
      "Epoch 10/20\n",
      "26976/26976 [==============================] - 58s 2ms/step - loss: 0.0847 - acc: 0.9698 - val_loss: 0.0866 - val_acc: 0.9712\n",
      "Epoch 11/20\n",
      "26976/26976 [==============================] - 58s 2ms/step - loss: 0.0809 - acc: 0.9721 - val_loss: 0.1039 - val_acc: 0.9725\n",
      "Epoch 12/20\n",
      "26976/26976 [==============================] - 58s 2ms/step - loss: 0.0759 - acc: 0.9732 - val_loss: 0.0883 - val_acc: 0.9731\n",
      "Epoch 13/20\n",
      "26976/26976 [==============================] - 58s 2ms/step - loss: 0.0701 - acc: 0.9749 - val_loss: 0.0927 - val_acc: 0.9713\n",
      "Epoch 14/20\n",
      "26976/26976 [==============================] - 58s 2ms/step - loss: 0.0707 - acc: 0.9749 - val_loss: 0.1048 - val_acc: 0.9709\n",
      "Epoch 15/20\n",
      "26976/26976 [==============================] - 58s 2ms/step - loss: 0.0686 - acc: 0.9756 - val_loss: 0.1140 - val_acc: 0.9691\n",
      "Epoch 16/20\n",
      "26976/26976 [==============================] - 58s 2ms/step - loss: 0.0641 - acc: 0.9774 - val_loss: 0.0883 - val_acc: 0.9742\n",
      "Epoch 17/20\n",
      "26976/26976 [==============================] - 58s 2ms/step - loss: 0.0593 - acc: 0.9784 - val_loss: 0.0966 - val_acc: 0.9756\n",
      "Epoch 18/20\n",
      "26976/26976 [==============================] - 58s 2ms/step - loss: 0.0593 - acc: 0.9783 - val_loss: 0.0968 - val_acc: 0.9760\n",
      "Epoch 19/20\n",
      "26976/26976 [==============================] - 58s 2ms/step - loss: 0.0539 - acc: 0.9801 - val_loss: 0.1208 - val_acc: 0.9742\n",
      "Epoch 20/20\n",
      "26976/26976 [==============================] - 58s 2ms/step - loss: 0.0559 - acc: 0.9794 - val_loss: 0.0828 - val_acc: 0.9769\n",
      "9006/9006 [==============================] - 6s 627us/step\n",
      "Fold: 3\n",
      "Train on 27018 samples, validate on 8964 samples\n",
      "Epoch 1/20\n",
      "27018/27018 [==============================] - 60s 2ms/step - loss: 0.8997 - acc: 0.6529 - val_loss: 0.6476 - val_acc: 0.7385\n",
      "Epoch 2/20\n",
      "27018/27018 [==============================] - 58s 2ms/step - loss: 0.4051 - acc: 0.8590 - val_loss: 0.3795 - val_acc: 0.8816\n",
      "Epoch 3/20\n",
      "27018/27018 [==============================] - 58s 2ms/step - loss: 0.2707 - acc: 0.9067 - val_loss: 0.2939 - val_acc: 0.8910\n",
      "Epoch 4/20\n",
      "27018/27018 [==============================] - 58s 2ms/step - loss: 0.2116 - acc: 0.9265 - val_loss: 0.2759 - val_acc: 0.9085\n",
      "Epoch 5/20\n",
      "27018/27018 [==============================] - 58s 2ms/step - loss: 0.1757 - acc: 0.9376 - val_loss: 0.2429 - val_acc: 0.9125\n",
      "Epoch 6/20\n",
      "27018/27018 [==============================] - 58s 2ms/step - loss: 0.1524 - acc: 0.9476 - val_loss: 0.2212 - val_acc: 0.9164\n",
      "Epoch 7/20\n",
      "27018/27018 [==============================] - 58s 2ms/step - loss: 0.1288 - acc: 0.9548 - val_loss: 0.2153 - val_acc: 0.9181\n",
      "Epoch 8/20\n",
      "27018/27018 [==============================] - 58s 2ms/step - loss: 0.1180 - acc: 0.9595 - val_loss: 0.2082 - val_acc: 0.9185\n",
      "Epoch 9/20\n",
      "27018/27018 [==============================] - 58s 2ms/step - loss: 0.1048 - acc: 0.9623 - val_loss: 0.1879 - val_acc: 0.9356\n",
      "Epoch 10/20\n",
      "27018/27018 [==============================] - 58s 2ms/step - loss: 0.0985 - acc: 0.9657 - val_loss: 0.1995 - val_acc: 0.9238\n",
      "Epoch 11/20\n",
      "27018/27018 [==============================] - 58s 2ms/step - loss: 0.0897 - acc: 0.9676 - val_loss: 0.1896 - val_acc: 0.9278\n",
      "Epoch 12/20\n",
      "27018/27018 [==============================] - 58s 2ms/step - loss: 0.0838 - acc: 0.9706 - val_loss: 0.2093 - val_acc: 0.9219\n",
      "Epoch 13/20\n",
      "27018/27018 [==============================] - 58s 2ms/step - loss: 0.0817 - acc: 0.9705 - val_loss: 0.1840 - val_acc: 0.9332\n",
      "Epoch 14/20\n",
      "27018/27018 [==============================] - 58s 2ms/step - loss: 0.0777 - acc: 0.9726 - val_loss: 0.1878 - val_acc: 0.9306\n",
      "Epoch 15/20\n",
      "27018/27018 [==============================] - 58s 2ms/step - loss: 0.0732 - acc: 0.9742 - val_loss: 0.2156 - val_acc: 0.9283\n",
      "Epoch 16/20\n",
      "27018/27018 [==============================] - 58s 2ms/step - loss: 0.0697 - acc: 0.9756 - val_loss: 0.2099 - val_acc: 0.9260\n",
      "Epoch 17/20\n",
      "27018/27018 [==============================] - 58s 2ms/step - loss: 0.0661 - acc: 0.9768 - val_loss: 0.1907 - val_acc: 0.9287\n",
      "Epoch 18/20\n",
      "27018/27018 [==============================] - 58s 2ms/step - loss: 0.0636 - acc: 0.9767 - val_loss: 0.2111 - val_acc: 0.9186\n",
      "Epoch 19/20\n",
      "27018/27018 [==============================] - 58s 2ms/step - loss: 0.0604 - acc: 0.9777 - val_loss: 0.2023 - val_acc: 0.9285\n",
      "Epoch 20/20\n",
      "27018/27018 [==============================] - 58s 2ms/step - loss: 0.0595 - acc: 0.9783 - val_loss: 0.1821 - val_acc: 0.9330\n",
      "8969/8969 [==============================] - 6s 627us/step\n",
      "Fold: 4\n",
      "Train on 26981 samples, validate on 9006 samples\n",
      "Epoch 1/20\n",
      "26981/26981 [==============================] - 60s 2ms/step - loss: 0.8949 - acc: 0.6568 - val_loss: 0.3748 - val_acc: 0.8782\n",
      "Epoch 2/20\n",
      "26981/26981 [==============================] - 58s 2ms/step - loss: 0.4149 - acc: 0.8581 - val_loss: 0.2193 - val_acc: 0.9234\n",
      "Epoch 3/20\n",
      "26981/26981 [==============================] - 58s 2ms/step - loss: 0.2794 - acc: 0.9075 - val_loss: 0.1886 - val_acc: 0.9340\n",
      "Epoch 4/20\n",
      "26981/26981 [==============================] - 58s 2ms/step - loss: 0.2144 - acc: 0.9258 - val_loss: 0.1379 - val_acc: 0.9515\n",
      "Epoch 5/20\n",
      "26981/26981 [==============================] - 58s 2ms/step - loss: 0.1718 - acc: 0.9418 - val_loss: 0.1286 - val_acc: 0.9528\n",
      "Epoch 6/20\n",
      "26981/26981 [==============================] - 58s 2ms/step - loss: 0.1449 - acc: 0.9506 - val_loss: 0.1322 - val_acc: 0.9521\n",
      "Epoch 7/20\n",
      "26981/26981 [==============================] - 58s 2ms/step - loss: 0.1405 - acc: 0.9532 - val_loss: 0.1220 - val_acc: 0.9595\n",
      "Epoch 8/20\n",
      "26981/26981 [==============================] - 58s 2ms/step - loss: 0.1131 - acc: 0.9625 - val_loss: 0.1259 - val_acc: 0.9617\n",
      "Epoch 9/20\n",
      "26981/26981 [==============================] - 58s 2ms/step - loss: 0.1008 - acc: 0.9653 - val_loss: 0.1059 - val_acc: 0.9649\n",
      "Epoch 10/20\n",
      "26981/26981 [==============================] - 58s 2ms/step - loss: 0.0960 - acc: 0.9668 - val_loss: 0.1142 - val_acc: 0.9619\n",
      "Epoch 11/20\n",
      "26981/26981 [==============================] - 58s 2ms/step - loss: 0.0886 - acc: 0.9695 - val_loss: 0.1061 - val_acc: 0.9672\n",
      "Epoch 12/20\n",
      "26981/26981 [==============================] - 58s 2ms/step - loss: 0.0841 - acc: 0.9713 - val_loss: 0.1115 - val_acc: 0.9644\n",
      "Epoch 13/20\n",
      "26981/26981 [==============================] - 58s 2ms/step - loss: 0.0793 - acc: 0.9710 - val_loss: 0.0984 - val_acc: 0.9672\n",
      "Epoch 14/20\n",
      "26981/26981 [==============================] - 58s 2ms/step - loss: 0.0739 - acc: 0.9746 - val_loss: 0.1159 - val_acc: 0.9668\n",
      "Epoch 15/20\n",
      "26981/26981 [==============================] - 58s 2ms/step - loss: 0.0696 - acc: 0.9749 - val_loss: 0.1077 - val_acc: 0.9669\n",
      "Epoch 16/20\n",
      "26981/26981 [==============================] - 58s 2ms/step - loss: 0.0669 - acc: 0.9767 - val_loss: 0.1037 - val_acc: 0.9707\n",
      "Epoch 17/20\n",
      "26981/26981 [==============================] - 58s 2ms/step - loss: 0.0610 - acc: 0.9782 - val_loss: 0.1020 - val_acc: 0.9669\n",
      "Epoch 18/20\n",
      "26981/26981 [==============================] - 58s 2ms/step - loss: 0.0603 - acc: 0.9781 - val_loss: 0.1303 - val_acc: 0.9651\n",
      "Epoch 19/20\n",
      "26981/26981 [==============================] - 58s 2ms/step - loss: 0.0577 - acc: 0.9790 - val_loss: 0.0999 - val_acc: 0.9720\n",
      "Epoch 20/20\n",
      "26981/26981 [==============================] - 58s 2ms/step - loss: 0.0566 - acc: 0.9797 - val_loss: 0.1095 - val_acc: 0.9675\n",
      "8964/8964 [==============================] - 6s 628us/step\n"
     ]
    }
   ],
   "source": [
    "average_accuracy = 0\n",
    "average_loss = 0\n",
    "for fold in range(number_of_folds):\n",
    "    test_fold = fold\n",
    "    validation_fold = (test_fold + 1) % number_of_folds\n",
    "    print(\"Fold:\", fold)\n",
    "    \n",
    "    data_split = split_data(test_fold, validation_fold, number_of_folds)\n",
    "    \n",
    "    train_data = data_split[\"train_data\"]\n",
    "    train_labels = data_split[\"train_labels\"]\n",
    "    validation_data = data_split[\"validation_data\"]\n",
    "    validation_labels = data_split[\"validation_labels\"]\n",
    "    test_data = data_split[\"test_data\"]\n",
    "    test_labels = data_split[\"test_labels\"]\n",
    "    \n",
    "    model = make_base_model()\n",
    "\n",
    "    history = model.fit(train_data, train_labels,\n",
    "                        batch_size=batch_size,\n",
    "                        epochs=nb_epochs,\n",
    "                        shuffle=True, \n",
    "                        validation_data=(validation_data, validation_labels),\n",
    "                        verbose=1)\n",
    "    \n",
    "    results = evaluate_model(model, test_data, test_labels, batch_size, target_names)\n",
    "    average_accuracy += results[\"accuracy\"]\n",
    "    average_loss += results[\"loss\"]\n",
    "    k_fold_results[str(fold)][\"accuracy\"] = results[\"accuracy\"]\n",
    "    k_fold_results[str(fold)][\"loss\"] = results[\"loss\"]\n",
    "    \n",
    "k_fold_results[\"average_accuracy\"] = average_accuracy/number_of_folds\n",
    "k_fold_results[\"average_loss\"] = average_loss/number_of_folds"
   ]
  },
  {
   "cell_type": "markdown",
   "metadata": {
    "colab_type": "text",
    "id": "6yz4eV0h07l3"
   },
   "source": [
    "## Save Results"
   ]
  },
  {
   "cell_type": "code",
   "execution_count": 0,
   "metadata": {
    "colab": {},
    "colab_type": "code",
    "id": "XmQDR76R1HYA"
   },
   "outputs": [],
   "source": [
    "if SAVE_RESULTS_20_BASE:\n",
    "    with open(RESULTS_PATH + \"results_test_20_base.pkl\", 'wb') as results_file:\n",
    "        pickle.dump(k_fold_results, results_file)"
   ]
  },
  {
   "cell_type": "markdown",
   "metadata": {
    "colab_type": "text",
    "id": "ecH9-LzN07wB"
   },
   "source": [
    "## Load Results"
   ]
  },
  {
   "cell_type": "code",
   "execution_count": 0,
   "metadata": {
    "colab": {},
    "colab_type": "code",
    "id": "6sRKOOMg1NNW"
   },
   "outputs": [],
   "source": [
    "with open(RESULTS_PATH + \"results_test_20_base.pkl\", 'rb') as results_file:\n",
    "    k_fold_results = pickle.load(results_file)"
   ]
  },
  {
   "cell_type": "markdown",
   "metadata": {
    "colab_type": "text",
    "id": "wot77Dja08UF"
   },
   "source": [
    "## Visualize Results"
   ]
  },
  {
   "cell_type": "markdown",
   "metadata": {
    "colab_type": "text",
    "id": "I3Y7gER3sBj7"
   },
   "source": [
    "### Accuracy Fold Distribution"
   ]
  },
  {
   "cell_type": "code",
   "execution_count": 24,
   "metadata": {
    "colab": {
     "base_uri": "https://localhost:8080/",
     "height": 51.0
    },
    "colab_type": "code",
    "executionInfo": {
     "elapsed": 861.0,
     "status": "ok",
     "timestamp": 1.552071751852E12,
     "user": {
      "displayName": "Andrew Mackay",
      "photoUrl": "https://lh3.googleusercontent.com/-24hiGmdxZDE/AAAAAAAAAAI/AAAAAAAAL_I/RW7nqM11LkM/s64/photo.jpg",
      "userId": "06804410358976473893"
     },
     "user_tz": 0.0
    },
    "id": "tqU3R6EHsBj5",
    "outputId": "4be35cc7-ccfc-43a1-87c6-f7625755bc88"
   },
   "outputs": [
    {
     "name": "stdout",
     "output_type": "stream",
     "text": [
      "Average Accuracy: 95.22222271006763\n",
      "Average Loss: 0.17260923809344053\n"
     ]
    }
   ],
   "source": [
    "print(\"Average Accuracy:\", k_fold_results[\"average_accuracy\"]*100)\n",
    "print(\"Average Loss:\", k_fold_results[\"average_loss\"])"
   ]
  },
  {
   "cell_type": "code",
   "execution_count": 25,
   "metadata": {
    "colab": {
     "base_uri": "https://localhost:8080/",
     "height": 362.0
    },
    "colab_type": "code",
    "executionInfo": {
     "elapsed": 924.0,
     "status": "ok",
     "timestamp": 1.552071755652E12,
     "user": {
      "displayName": "Andrew Mackay",
      "photoUrl": "https://lh3.googleusercontent.com/-24hiGmdxZDE/AAAAAAAAAAI/AAAAAAAAL_I/RW7nqM11LkM/s64/photo.jpg",
      "userId": "06804410358976473893"
     },
     "user_tz": 0.0
    },
    "id": "L_gtcCrxsBj8",
    "outputId": "ba765885-9441-4685-cb45-28338a0b180f"
   },
   "outputs": [
    {
     "data": {
      "image/png": "[encoded data removed]",
      "text/plain": [
       "<Figure size 576x396 with 1 Axes>"
      ]
     },
     "metadata": {
      "tags": []
     },
     "output_type": "display_data"
    }
   ],
   "source": [
    "accuracies = []\n",
    "for fold in range(number_of_folds):\n",
    "    accuracies.append(k_fold_results[str(fold)][\"accuracy\"]*100)\n",
    "\n",
    "plt.boxplot(accuracies, zorder=3)\n",
    "plt.title(\"Fold Performance Distribution Comparison\")\n",
    "# plt.xlabel(\"Model\")\n",
    "plt.ylabel(\"Classification Accuracy (%)\")\n",
    "plt.grid(axis='y', zorder=0)\n",
    "if SAVE_GRAPHS_20_BASE:\n",
    "     plt.savefig(RESULTS_PATH + \"boxplot_20_base.pdf\", format='pdf')"
   ]
  },
  {
   "cell_type": "code",
   "execution_count": 0,
   "metadata": {
    "colab": {},
    "colab_type": "code",
    "id": "kKVhIMYMsBj-"
   },
   "outputs": [],
   "source": [
    "K.clear_session()"
   ]
  },
  {
   "cell_type": "markdown",
   "metadata": {
    "colab_type": "text",
    "id": "_s0EB8RxsBkE"
   },
   "source": [
    "# Six-Fold Cross-Validation\n",
    "Same method as employed when comparing the original model except this time user all users."
   ]
  },
  {
   "cell_type": "code",
   "execution_count": 0,
   "metadata": {
    "colab": {},
    "colab_type": "code",
    "id": "8CeNbtdisBkE"
   },
   "outputs": [],
   "source": [
    "results_six_fold = {}\n",
    "for user in users:\n",
    "    results_six_fold[user] = {}"
   ]
  },
  {
   "cell_type": "code",
   "execution_count": 28,
   "metadata": {
    "colab": {
     "base_uri": "https://localhost:8080/",
     "height": 4335.0
    },
    "colab_type": "code",
    "executionInfo": {
     "elapsed": 7725681.0,
     "status": "ok",
     "timestamp": 1.552079529697E12,
     "user": {
      "displayName": "Andrew Mackay",
      "photoUrl": "https://lh3.googleusercontent.com/-24hiGmdxZDE/AAAAAAAAAAI/AAAAAAAAL_I/RW7nqM11LkM/s64/photo.jpg",
      "userId": "06804410358976473893"
     },
     "user_tz": 0.0
    },
    "id": "Xg-3mxa6sBkH",
    "outputId": "8bddf6ee-a8da-45fa-96ae-dfd2ae809e58"
   },
   "outputs": [
    {
     "name": "stdout",
     "output_type": "stream",
     "text": [
      "Train on 29575 samples, validate on 7410 samples\n",
      "Epoch 1/20\n",
      "29575/29575 [==============================] - 65s 2ms/step - loss: 0.9011 - acc: 0.6571 - val_loss: 0.5397 - val_acc: 0.8050\n",
      "Epoch 2/20\n",
      "29575/29575 [==============================] - 63s 2ms/step - loss: 0.4181 - acc: 0.8531 - val_loss: 0.2271 - val_acc: 0.9167\n",
      "Epoch 3/20\n",
      "29575/29575 [==============================] - 63s 2ms/step - loss: 0.2831 - acc: 0.8997 - val_loss: 0.1906 - val_acc: 0.9271\n",
      "Epoch 4/20\n",
      "29575/29575 [==============================] - 63s 2ms/step - loss: 0.2120 - acc: 0.9216 - val_loss: 0.1401 - val_acc: 0.9487\n",
      "Epoch 5/20\n",
      "29575/29575 [==============================] - 63s 2ms/step - loss: 0.1756 - acc: 0.9376 - val_loss: 0.1449 - val_acc: 0.9435\n",
      "Epoch 6/20\n",
      "29575/29575 [==============================] - 63s 2ms/step - loss: 0.1522 - acc: 0.9445 - val_loss: 0.1195 - val_acc: 0.9567\n",
      "Epoch 7/20\n",
      "29575/29575 [==============================] - 63s 2ms/step - loss: 0.1307 - acc: 0.9526 - val_loss: 0.1225 - val_acc: 0.9555\n",
      "Epoch 8/20\n",
      "29575/29575 [==============================] - 63s 2ms/step - loss: 0.1241 - acc: 0.9550 - val_loss: 0.1244 - val_acc: 0.9547\n",
      "Epoch 9/20\n",
      "29575/29575 [==============================] - 63s 2ms/step - loss: 0.1099 - acc: 0.9594 - val_loss: 0.0997 - val_acc: 0.9641\n",
      "Epoch 10/20\n",
      "29575/29575 [==============================] - 63s 2ms/step - loss: 0.1009 - acc: 0.9630 - val_loss: 0.0934 - val_acc: 0.9659\n",
      "Epoch 11/20\n",
      "29575/29575 [==============================] - 63s 2ms/step - loss: 0.1016 - acc: 0.9620 - val_loss: 0.1007 - val_acc: 0.9667\n",
      "Epoch 12/20\n",
      "29575/29575 [==============================] - 63s 2ms/step - loss: 0.0934 - acc: 0.9648 - val_loss: 0.1256 - val_acc: 0.9583\n",
      "Epoch 13/20\n",
      "29575/29575 [==============================] - 63s 2ms/step - loss: 0.0932 - acc: 0.9653 - val_loss: 0.0912 - val_acc: 0.9676\n",
      "Epoch 14/20\n",
      "29575/29575 [==============================] - 63s 2ms/step - loss: 0.0863 - acc: 0.9673 - val_loss: 0.1169 - val_acc: 0.9632\n",
      "Epoch 15/20\n",
      "29575/29575 [==============================] - 63s 2ms/step - loss: 0.0801 - acc: 0.9700 - val_loss: 0.1115 - val_acc: 0.9683\n",
      "Epoch 16/20\n",
      "29575/29575 [==============================] - 63s 2ms/step - loss: 0.0769 - acc: 0.9702 - val_loss: 0.1000 - val_acc: 0.9659\n",
      "Epoch 17/20\n",
      "29575/29575 [==============================] - 63s 2ms/step - loss: 0.0776 - acc: 0.9701 - val_loss: 0.1158 - val_acc: 0.9663\n",
      "Epoch 18/20\n",
      "29575/29575 [==============================] - 63s 2ms/step - loss: 0.0759 - acc: 0.9704 - val_loss: 0.1247 - val_acc: 0.9680\n",
      "Epoch 19/20\n",
      "29575/29575 [==============================] - 63s 2ms/step - loss: 0.0734 - acc: 0.9710 - val_loss: 0.1376 - val_acc: 0.9637\n",
      "Epoch 20/20\n",
      "29575/29575 [==============================] - 63s 2ms/step - loss: 0.0722 - acc: 0.9717 - val_loss: 0.1358 - val_acc: 0.9667\n",
      "7966/7966 [==============================] - 5s 668us/step\n",
      "Train on 29575 samples, validate on 7410 samples\n",
      "Epoch 1/20\n",
      "29575/29575 [==============================] - 64s 2ms/step - loss: 0.8371 - acc: 0.6901 - val_loss: 0.3515 - val_acc: 0.8729\n",
      "Epoch 2/20\n",
      "29575/29575 [==============================] - 63s 2ms/step - loss: 0.3519 - acc: 0.8841 - val_loss: 0.2357 - val_acc: 0.9175\n",
      "Epoch 3/20\n",
      "29575/29575 [==============================] - 63s 2ms/step - loss: 0.2343 - acc: 0.9210 - val_loss: 0.1869 - val_acc: 0.9356\n",
      "Epoch 4/20\n",
      "29575/29575 [==============================] - 63s 2ms/step - loss: 0.1821 - acc: 0.9369 - val_loss: 0.1782 - val_acc: 0.9449\n",
      "Epoch 5/20\n",
      "29575/29575 [==============================] - 63s 2ms/step - loss: 0.1530 - acc: 0.9464 - val_loss: 0.1278 - val_acc: 0.9622\n",
      "Epoch 6/20\n",
      "29575/29575 [==============================] - 63s 2ms/step - loss: 0.1368 - acc: 0.9516 - val_loss: 0.1268 - val_acc: 0.9568\n",
      "Epoch 7/20\n",
      "29575/29575 [==============================] - 63s 2ms/step - loss: 0.1247 - acc: 0.9558 - val_loss: 0.1165 - val_acc: 0.9574\n",
      "Epoch 8/20\n",
      "29575/29575 [==============================] - 63s 2ms/step - loss: 0.1144 - acc: 0.9591 - val_loss: 0.1149 - val_acc: 0.9646\n",
      "Epoch 9/20\n",
      "29575/29575 [==============================] - 63s 2ms/step - loss: 0.1038 - acc: 0.9625 - val_loss: 0.1234 - val_acc: 0.9669\n",
      "Epoch 10/20\n",
      "29575/29575 [==============================] - 63s 2ms/step - loss: 0.1002 - acc: 0.9638 - val_loss: 0.1021 - val_acc: 0.9684\n",
      "Epoch 11/20\n",
      "29575/29575 [==============================] - 63s 2ms/step - loss: 0.0937 - acc: 0.9653 - val_loss: 0.1327 - val_acc: 0.9625\n",
      "Epoch 12/20\n",
      "29575/29575 [==============================] - 63s 2ms/step - loss: 0.0910 - acc: 0.9664 - val_loss: 0.1121 - val_acc: 0.9661\n",
      "Epoch 13/20\n",
      "29575/29575 [==============================] - 63s 2ms/step - loss: 0.0849 - acc: 0.9684 - val_loss: 0.1046 - val_acc: 0.9687\n",
      "Epoch 14/20\n",
      "29575/29575 [==============================] - 63s 2ms/step - loss: 0.0832 - acc: 0.9687 - val_loss: 0.1117 - val_acc: 0.9669\n",
      "Epoch 15/20\n",
      "29575/29575 [==============================] - 63s 2ms/step - loss: 0.0801 - acc: 0.9693 - val_loss: 0.0986 - val_acc: 0.9714\n",
      "Epoch 16/20\n",
      "29575/29575 [==============================] - 63s 2ms/step - loss: 0.0829 - acc: 0.9689 - val_loss: 0.1070 - val_acc: 0.9688\n",
      "Epoch 17/20\n",
      "29575/29575 [==============================] - 63s 2ms/step - loss: 0.0771 - acc: 0.9708 - val_loss: 0.1096 - val_acc: 0.9677\n",
      "Epoch 18/20\n",
      "29575/29575 [==============================] - 63s 2ms/step - loss: 0.0747 - acc: 0.9713 - val_loss: 0.1234 - val_acc: 0.9661\n",
      "Epoch 19/20\n",
      "29575/29575 [==============================] - 63s 2ms/step - loss: 0.0727 - acc: 0.9716 - val_loss: 0.1269 - val_acc: 0.9722\n",
      "Epoch 20/20\n",
      "29575/29575 [==============================] - 63s 2ms/step - loss: 0.0719 - acc: 0.9720 - val_loss: 0.1298 - val_acc: 0.9628\n",
      "7966/7966 [==============================] - 5s 636us/step\n",
      "Train on 29575 samples, validate on 7410 samples\n",
      "Epoch 1/20\n",
      "29575/29575 [==============================] - 64s 2ms/step - loss: 0.8487 - acc: 0.6824 - val_loss: 0.3947 - val_acc: 0.8650\n",
      "Epoch 2/20\n",
      "29575/29575 [==============================] - 63s 2ms/step - loss: 0.3673 - acc: 0.8768 - val_loss: 0.1899 - val_acc: 0.9336\n",
      "Epoch 3/20\n",
      "29575/29575 [==============================] - 63s 2ms/step - loss: 0.2441 - acc: 0.9199 - val_loss: 0.1344 - val_acc: 0.9499\n",
      "Epoch 4/20\n",
      "29575/29575 [==============================] - 63s 2ms/step - loss: 0.1898 - acc: 0.9354 - val_loss: 0.1319 - val_acc: 0.9466\n",
      "Epoch 5/20\n",
      "29575/29575 [==============================] - 63s 2ms/step - loss: 0.1596 - acc: 0.9449 - val_loss: 0.1054 - val_acc: 0.9599\n",
      "Epoch 6/20\n",
      "29575/29575 [==============================] - 63s 2ms/step - loss: 0.1449 - acc: 0.9496 - val_loss: 0.1197 - val_acc: 0.9517\n",
      "Epoch 7/20\n",
      "29575/29575 [==============================] - 63s 2ms/step - loss: 0.1329 - acc: 0.9524 - val_loss: 0.1037 - val_acc: 0.9619\n",
      "Epoch 8/20\n",
      "29575/29575 [==============================] - 63s 2ms/step - loss: 0.1267 - acc: 0.9544 - val_loss: 0.1109 - val_acc: 0.9611\n",
      "Epoch 9/20\n",
      "29575/29575 [==============================] - 63s 2ms/step - loss: 0.1165 - acc: 0.9589 - val_loss: 0.0958 - val_acc: 0.9677\n",
      "Epoch 10/20\n",
      "29575/29575 [==============================] - 63s 2ms/step - loss: 0.1073 - acc: 0.9608 - val_loss: 0.0940 - val_acc: 0.9690\n",
      "Epoch 11/20\n",
      "29575/29575 [==============================] - 63s 2ms/step - loss: 0.1025 - acc: 0.9621 - val_loss: 0.0975 - val_acc: 0.9667\n",
      "Epoch 12/20\n",
      "29575/29575 [==============================] - 63s 2ms/step - loss: 0.1010 - acc: 0.9625 - val_loss: 0.0914 - val_acc: 0.9718\n",
      "Epoch 13/20\n",
      "29575/29575 [==============================] - 63s 2ms/step - loss: 0.0968 - acc: 0.9638 - val_loss: 0.0950 - val_acc: 0.9699\n",
      "Epoch 14/20\n",
      "29575/29575 [==============================] - 63s 2ms/step - loss: 0.0928 - acc: 0.9649 - val_loss: 0.1317 - val_acc: 0.9625\n",
      "Epoch 15/20\n",
      "29575/29575 [==============================] - 63s 2ms/step - loss: 0.0918 - acc: 0.9648 - val_loss: 0.1059 - val_acc: 0.9676\n",
      "Epoch 16/20\n",
      "29575/29575 [==============================] - 63s 2ms/step - loss: 0.0836 - acc: 0.9683 - val_loss: 0.1227 - val_acc: 0.9690\n",
      "Epoch 17/20\n",
      "29575/29575 [==============================] - 63s 2ms/step - loss: 0.0828 - acc: 0.9680 - val_loss: 0.1169 - val_acc: 0.9653\n",
      "Epoch 18/20\n",
      "29575/29575 [==============================] - 63s 2ms/step - loss: 0.0804 - acc: 0.9689 - val_loss: 0.1271 - val_acc: 0.9656\n",
      "Epoch 19/20\n",
      "29575/29575 [==============================] - 63s 2ms/step - loss: 0.0799 - acc: 0.9688 - val_loss: 0.1284 - val_acc: 0.9677\n",
      "Epoch 20/20\n",
      "29575/29575 [==============================] - 63s 2ms/step - loss: 0.0784 - acc: 0.9697 - val_loss: 0.1035 - val_acc: 0.9717\n",
      "7966/7966 [==============================] - 5s 635us/step\n",
      "Train on 29575 samples, validate on 7410 samples\n",
      "Epoch 1/20\n",
      "29575/29575 [==============================] - 64s 2ms/step - loss: 0.8567 - acc: 0.6808 - val_loss: 0.3535 - val_acc: 0.8664\n",
      "Epoch 2/20\n",
      "29575/29575 [==============================] - 63s 2ms/step - loss: 0.3560 - acc: 0.8805 - val_loss: 0.1854 - val_acc: 0.9383\n",
      "Epoch 3/20\n",
      "29575/29575 [==============================] - 63s 2ms/step - loss: 0.2208 - acc: 0.9230 - val_loss: 0.1375 - val_acc: 0.9506\n",
      "Epoch 4/20\n",
      "29575/29575 [==============================] - 63s 2ms/step - loss: 0.1630 - acc: 0.9414 - val_loss: 0.1134 - val_acc: 0.9592\n",
      "Epoch 5/20\n",
      "29575/29575 [==============================] - 63s 2ms/step - loss: 0.1316 - acc: 0.9512 - val_loss: 0.0779 - val_acc: 0.9704\n",
      "Epoch 6/20\n",
      "29575/29575 [==============================] - 63s 2ms/step - loss: 0.1140 - acc: 0.9578 - val_loss: 0.0796 - val_acc: 0.9722\n",
      "Epoch 7/20\n",
      "29575/29575 [==============================] - 63s 2ms/step - loss: 0.0990 - acc: 0.9624 - val_loss: 0.0884 - val_acc: 0.9742\n",
      "Epoch 8/20\n",
      "29575/29575 [==============================] - 63s 2ms/step - loss: 0.0897 - acc: 0.9652 - val_loss: 0.0769 - val_acc: 0.9761\n",
      "Epoch 9/20\n",
      "29575/29575 [==============================] - 63s 2ms/step - loss: 0.0878 - acc: 0.9656 - val_loss: 0.0617 - val_acc: 0.9802\n",
      "Epoch 10/20\n",
      "29575/29575 [==============================] - 63s 2ms/step - loss: 0.0775 - acc: 0.9696 - val_loss: 0.0688 - val_acc: 0.9788\n",
      "Epoch 11/20\n",
      "29575/29575 [==============================] - 63s 2ms/step - loss: 0.0751 - acc: 0.9702 - val_loss: 0.0624 - val_acc: 0.9772\n",
      "Epoch 12/20\n",
      "29575/29575 [==============================] - 63s 2ms/step - loss: 0.0710 - acc: 0.9714 - val_loss: 0.0638 - val_acc: 0.9776\n",
      "Epoch 13/20\n",
      "29575/29575 [==============================] - 63s 2ms/step - loss: 0.0721 - acc: 0.9706 - val_loss: 0.0728 - val_acc: 0.9771\n",
      "Epoch 14/20\n",
      "29575/29575 [==============================] - 63s 2ms/step - loss: 0.0666 - acc: 0.9718 - val_loss: 0.0466 - val_acc: 0.9854\n",
      "Epoch 15/20\n",
      "29575/29575 [==============================] - 63s 2ms/step - loss: 0.0662 - acc: 0.9731 - val_loss: 0.0547 - val_acc: 0.9841\n",
      "Epoch 16/20\n",
      "29575/29575 [==============================] - 63s 2ms/step - loss: 0.0670 - acc: 0.9726 - val_loss: 0.0519 - val_acc: 0.9848\n",
      "Epoch 17/20\n",
      "29575/29575 [==============================] - 63s 2ms/step - loss: 0.0642 - acc: 0.9739 - val_loss: 0.0642 - val_acc: 0.9810\n",
      "Epoch 18/20\n",
      "29575/29575 [==============================] - 63s 2ms/step - loss: 0.0608 - acc: 0.9747 - val_loss: 0.0644 - val_acc: 0.9825\n",
      "Epoch 19/20\n",
      "29575/29575 [==============================] - 63s 2ms/step - loss: 0.0620 - acc: 0.9742 - val_loss: 0.0615 - val_acc: 0.9826\n",
      "Epoch 20/20\n",
      "29575/29575 [==============================] - 63s 2ms/step - loss: 0.0616 - acc: 0.9746 - val_loss: 0.0472 - val_acc: 0.9862\n",
      "7966/7966 [==============================] - 5s 638us/step\n",
      "Train on 31850 samples, validate on 7980 samples\n",
      "Epoch 1/20\n",
      "31850/31850 [==============================] - 70s 2ms/step - loss: 0.8501 - acc: 0.6788 - val_loss: 0.3902 - val_acc: 0.8536\n",
      "Epoch 2/20\n",
      "31850/31850 [==============================] - 68s 2ms/step - loss: 0.3703 - acc: 0.8750 - val_loss: 0.2057 - val_acc: 0.9312\n",
      "Epoch 3/20\n",
      "31850/31850 [==============================] - 68s 2ms/step - loss: 0.2432 - acc: 0.9164 - val_loss: 0.1701 - val_acc: 0.9380\n",
      "Epoch 4/20\n",
      "31850/31850 [==============================] - 68s 2ms/step - loss: 0.1861 - acc: 0.9348 - val_loss: 0.1399 - val_acc: 0.9505\n",
      "Epoch 5/20\n",
      "31850/31850 [==============================] - 68s 2ms/step - loss: 0.1599 - acc: 0.9436 - val_loss: 0.1237 - val_acc: 0.9524\n",
      "Epoch 6/20\n",
      "31850/31850 [==============================] - 68s 2ms/step - loss: 0.1404 - acc: 0.9505 - val_loss: 0.1270 - val_acc: 0.9559\n",
      "Epoch 7/20\n",
      "31850/31850 [==============================] - 68s 2ms/step - loss: 0.1258 - acc: 0.9552 - val_loss: 0.1448 - val_acc: 0.9513\n",
      "Epoch 8/20\n",
      "31850/31850 [==============================] - 68s 2ms/step - loss: 0.1144 - acc: 0.9592 - val_loss: 0.1472 - val_acc: 0.9519\n",
      "Epoch 9/20\n",
      "31850/31850 [==============================] - 68s 2ms/step - loss: 0.1123 - acc: 0.9601 - val_loss: 0.1251 - val_acc: 0.9584\n",
      "Epoch 10/20\n",
      "31850/31850 [==============================] - 68s 2ms/step - loss: 0.1016 - acc: 0.9623 - val_loss: 0.1327 - val_acc: 0.9585\n",
      "Epoch 11/20\n",
      "31850/31850 [==============================] - 68s 2ms/step - loss: 0.0981 - acc: 0.9646 - val_loss: 0.1250 - val_acc: 0.9593\n",
      "Epoch 12/20\n",
      "31850/31850 [==============================] - 68s 2ms/step - loss: 0.0898 - acc: 0.9661 - val_loss: 0.1159 - val_acc: 0.9610\n",
      "Epoch 13/20\n",
      "31850/31850 [==============================] - 68s 2ms/step - loss: 0.0868 - acc: 0.9675 - val_loss: 0.1552 - val_acc: 0.9531\n",
      "Epoch 14/20\n",
      "31850/31850 [==============================] - 68s 2ms/step - loss: 0.0843 - acc: 0.9693 - val_loss: 0.1155 - val_acc: 0.9627\n",
      "Epoch 15/20\n",
      "31850/31850 [==============================] - 67s 2ms/step - loss: 0.0790 - acc: 0.9692 - val_loss: 0.1308 - val_acc: 0.9593\n",
      "Epoch 16/20\n",
      "31850/31850 [==============================] - 67s 2ms/step - loss: 0.0765 - acc: 0.9713 - val_loss: 0.1190 - val_acc: 0.9614\n",
      "Epoch 17/20\n",
      "31850/31850 [==============================] - 67s 2ms/step - loss: 0.0734 - acc: 0.9716 - val_loss: 0.1306 - val_acc: 0.9619\n",
      "Epoch 18/20\n",
      "31850/31850 [==============================] - 67s 2ms/step - loss: 0.0730 - acc: 0.9716 - val_loss: 0.1243 - val_acc: 0.9602\n",
      "Epoch 19/20\n",
      "31850/31850 [==============================] - 67s 2ms/step - loss: 0.0685 - acc: 0.9735 - val_loss: 0.1499 - val_acc: 0.9618\n",
      "Epoch 20/20\n",
      "31850/31850 [==============================] - 67s 2ms/step - loss: 0.0705 - acc: 0.9721 - val_loss: 0.1213 - val_acc: 0.9673\n",
      "5121/5121 [==============================] - 3s 649us/step\n",
      "Train on 29575 samples, validate on 7410 samples\n",
      "Epoch 1/20\n",
      "29575/29575 [==============================] - 64s 2ms/step - loss: 0.6935 - acc: 0.7119 - val_loss: 0.3432 - val_acc: 0.8655\n",
      "Epoch 2/20\n",
      "29575/29575 [==============================] - 63s 2ms/step - loss: 0.3100 - acc: 0.8865 - val_loss: 0.2171 - val_acc: 0.9144\n",
      "Epoch 3/20\n",
      "29575/29575 [==============================] - 63s 2ms/step - loss: 0.2098 - acc: 0.9223 - val_loss: 0.1773 - val_acc: 0.9362\n",
      "Epoch 4/20\n",
      "29575/29575 [==============================] - 63s 2ms/step - loss: 0.1560 - acc: 0.9435 - val_loss: 0.2761 - val_acc: 0.9115\n",
      "Epoch 5/20\n",
      "29575/29575 [==============================] - 63s 2ms/step - loss: 0.1246 - acc: 0.9556 - val_loss: 0.1360 - val_acc: 0.9497\n",
      "Epoch 6/20\n",
      "29575/29575 [==============================] - 63s 2ms/step - loss: 0.0989 - acc: 0.9646 - val_loss: 0.1376 - val_acc: 0.9525\n",
      "Epoch 7/20\n",
      "29575/29575 [==============================] - 63s 2ms/step - loss: 0.0867 - acc: 0.9703 - val_loss: 0.1344 - val_acc: 0.9595\n",
      "Epoch 8/20\n",
      "29575/29575 [==============================] - 63s 2ms/step - loss: 0.0680 - acc: 0.9762 - val_loss: 0.1137 - val_acc: 0.9644\n",
      "Epoch 9/20\n",
      "29575/29575 [==============================] - 63s 2ms/step - loss: 0.0616 - acc: 0.9787 - val_loss: 0.1147 - val_acc: 0.9619\n",
      "Epoch 10/20\n",
      "29575/29575 [==============================] - 63s 2ms/step - loss: 0.0560 - acc: 0.9806 - val_loss: 0.0969 - val_acc: 0.9671\n",
      "Epoch 11/20\n",
      "29575/29575 [==============================] - 63s 2ms/step - loss: 0.0483 - acc: 0.9832 - val_loss: 0.0948 - val_acc: 0.9677\n",
      "Epoch 12/20\n",
      "29575/29575 [==============================] - 63s 2ms/step - loss: 0.0450 - acc: 0.9841 - val_loss: 0.1250 - val_acc: 0.9663\n",
      "Epoch 13/20\n",
      "29575/29575 [==============================] - 63s 2ms/step - loss: 0.0373 - acc: 0.9869 - val_loss: 0.1011 - val_acc: 0.9657\n",
      "Epoch 14/20\n",
      "29575/29575 [==============================] - 63s 2ms/step - loss: 0.0381 - acc: 0.9863 - val_loss: 0.0897 - val_acc: 0.9706\n",
      "Epoch 15/20\n",
      "29575/29575 [==============================] - 63s 2ms/step - loss: 0.0350 - acc: 0.9875 - val_loss: 0.1173 - val_acc: 0.9700\n",
      "Epoch 16/20\n",
      "29575/29575 [==============================] - 63s 2ms/step - loss: 0.0286 - acc: 0.9900 - val_loss: 0.0924 - val_acc: 0.9714\n",
      "Epoch 17/20\n",
      "29575/29575 [==============================] - 63s 2ms/step - loss: 0.0293 - acc: 0.9895 - val_loss: 0.0916 - val_acc: 0.9718\n",
      "Epoch 18/20\n",
      "29575/29575 [==============================] - 63s 2ms/step - loss: 0.0270 - acc: 0.9900 - val_loss: 0.0917 - val_acc: 0.9757\n",
      "Epoch 19/20\n",
      "29575/29575 [==============================] - 63s 2ms/step - loss: 0.0204 - acc: 0.9928 - val_loss: 0.1256 - val_acc: 0.9695\n",
      "Epoch 20/20\n",
      "29575/29575 [==============================] - 63s 2ms/step - loss: 0.0243 - acc: 0.9920 - val_loss: 0.1026 - val_acc: 0.9718\n",
      "7966/7966 [==============================] - 5s 635us/step\n",
      "Average Loss: 2.056575826932806\n",
      "Average Accuracy: 0.7700016737802327\n"
     ]
    }
   ],
   "source": [
    "average_accuracy = 0\n",
    "average_loss = 0\n",
    "for user in users:\n",
    "    data_split = split_train_validation_test(user)\n",
    "    train_data = data_split[\"train_data\"]\n",
    "    train_labels = data_split[\"train_labels\"]\n",
    "    validation_data = data_split[\"validation_data\"]\n",
    "    validation_labels = data_split[\"validation_labels\"]\n",
    "    test_data = data_split[\"test_data\"]\n",
    "    test_labels = data_split[\"test_labels\"]\n",
    "    \n",
    "    model = make_base_model()\n",
    "\n",
    "    history = model.fit(train_data, train_labels,\n",
    "                        batch_size=batch_size,\n",
    "                        epochs=nb_epochs,\n",
    "                        shuffle=True, \n",
    "                        validation_data=(validation_data, validation_labels),\n",
    "                        verbose=1)\n",
    "    \n",
    "    results = evaluate_model(model, test_data, test_labels, batch_size, target_names)\n",
    "    average_accuracy += results[\"accuracy\"]\n",
    "    average_loss += results[\"loss\"]\n",
    "    results_six_fold[user][\"accuracy\"] = results[\"accuracy\"]\n",
    "    results_six_fold[user][\"loss\"] = results[\"loss\"]\n",
    "\n",
    "results_six_fold[\"avg_loss\"] = average_loss/len(users)\n",
    "results_six_fold[\"avg_acc\"] = average_accuracy/len(users)\n",
    "print(\"Average Loss:\", average_loss/len(users))\n",
    "print(\"Average Accuracy:\", average_accuracy/len(users))"
   ]
  },
  {
   "cell_type": "markdown",
   "metadata": {
    "colab_type": "text",
    "id": "bvM5zfQNsBkJ"
   },
   "source": [
    "## Save Results"
   ]
  },
  {
   "cell_type": "code",
   "execution_count": 0,
   "metadata": {
    "colab": {},
    "colab_type": "code",
    "id": "ivkx9iXKsBkK"
   },
   "outputs": [],
   "source": [
    "if SAVE_RESULTS_6_FOLD_BASE:\n",
    "    with open(RESULTS_PATH + \"results_6_fold_base.pkl\", 'wb') as results_file:\n",
    "        pickle.dump(results_six_fold, results_file)"
   ]
  },
  {
   "cell_type": "markdown",
   "metadata": {
    "colab_type": "text",
    "id": "B1ijhm7MsBkL"
   },
   "source": [
    "## Load Results"
   ]
  },
  {
   "cell_type": "code",
   "execution_count": 0,
   "metadata": {
    "colab": {},
    "colab_type": "code",
    "id": "x6BSW-J7sBkN"
   },
   "outputs": [],
   "source": [
    "with open(RESULTS_PATH + \"results_6_fold_base.pkl\", 'rb') as results_file:\n",
    "    results_six_fold = pickle.load(results_file)"
   ]
  },
  {
   "cell_type": "markdown",
   "metadata": {
    "colab_type": "text",
    "id": "vpVGmOQisBkQ"
   },
   "source": [
    "## Visualize Results"
   ]
  },
  {
   "cell_type": "code",
   "execution_count": 30,
   "metadata": {
    "colab": {
     "base_uri": "https://localhost:8080/",
     "height": 51.0
    },
    "colab_type": "code",
    "executionInfo": {
     "elapsed": 1377127.0,
     "status": "ok",
     "timestamp": 1.552079530514E12,
     "user": {
      "displayName": "Andrew Mackay",
      "photoUrl": "https://lh3.googleusercontent.com/-24hiGmdxZDE/AAAAAAAAAAI/AAAAAAAAL_I/RW7nqM11LkM/s64/photo.jpg",
      "userId": "06804410358976473893"
     },
     "user_tz": 0.0
    },
    "id": "VpVcD6BGsBkT",
    "outputId": "8c037c78-e2cd-4735-9778-768bcfdbb30f"
   },
   "outputs": [
    {
     "name": "stdout",
     "output_type": "stream",
     "text": [
      "Average Accuracy: 77.00016737802326\n",
      "Average Loss: 2.056575826932806\n"
     ]
    }
   ],
   "source": [
    "print(\"Average Accuracy:\", results_six_fold[\"avg_acc\"]*100)\n",
    "print(\"Average Loss:\", results_six_fold[\"avg_loss\"])"
   ]
  },
  {
   "cell_type": "code",
   "execution_count": 31,
   "metadata": {
    "colab": {
     "base_uri": "https://localhost:8080/",
     "height": 376.0
    },
    "colab_type": "code",
    "executionInfo": {
     "elapsed": 1445.0,
     "status": "ok",
     "timestamp": 1.55208005284E12,
     "user": {
      "displayName": "Andrew Mackay",
      "photoUrl": "https://lh3.googleusercontent.com/-24hiGmdxZDE/AAAAAAAAAAI/AAAAAAAAL_I/RW7nqM11LkM/s64/photo.jpg",
      "userId": "06804410358976473893"
     },
     "user_tz": 0.0
    },
    "id": "SGlz-i9IsBkZ",
    "outputId": "2db122c1-881c-4f3b-e6a5-3742d6393677",
    "scrolled": true
   },
   "outputs": [
    {
     "data": {
      "image/png": "[encoded data removed]",
      "text/plain": [
       "<Figure size 576x396 with 1 Axes>"
      ]
     },
     "metadata": {
      "tags": []
     },
     "output_type": "display_data"
    }
   ],
   "source": [
    "accuracies = []\n",
    "for user in users:\n",
    "    accuracies.append(results_six_fold[user][\"accuracy\"]*100)\n",
    "\n",
    "plt.boxplot(accuracies, zorder=3)\n",
    "plt.title(\"Fold Performance Distribution Comparison\")\n",
    "plt.xlabel(\"Model\")\n",
    "plt.ylabel(\"Classification Accuracy (%)\")\n",
    "plt.grid(axis='y', zorder=0)\n",
    "if SAVE_GRAPHS_6_FOLD:\n",
    "     plt.savefig(RESULTS_PATH + \"boxplot_6_fold_base.pdf\", format='pdf')"
   ]
  },
  {
   "cell_type": "code",
   "execution_count": 0,
   "metadata": {
    "colab": {},
    "colab_type": "code",
    "id": "Y1eZivnDsBkc",
    "outputId": "4317bc71-2009-4d5c-e982-b2a125754c6d",
    "scrolled": false
   },
   "outputs": [
    {
     "data": {
      "image/png": "[encoded data removed]",
      "text/plain": [
       "<Figure size 432x288 with 1 Axes>"
      ]
     },
     "metadata": {
      "needs_background": "light",
      "tags": []
     },
     "output_type": "display_data"
    }
   ],
   "source": [
    "plt.bar(range(len(users)), accuracies, zorder=3)\n",
    "plt.xticks(range(len(users)), users)\n",
    "plt.xlabel(\"Subject (fold)\")\n",
    "plt.ylabel(\"Classification Accuracy (%)\")\n",
    "plt.title(\" Fold Accuracy Distribution\")\n",
    "plt.grid(axis='y', zorder=0)\n",
    "if SAVE_GRAPHS_6_FOLD_BASE:\n",
    "    plt.savefig(RESULTS_PATH + \"fold_accuracy_distribution_6_fold_base.pdf\", format='pdf')\n",
    "plt.show()"
   ]
  }
 ],
 "metadata": {
  "accelerator": "GPU",
  "colab": {
   "collapsed_sections": [],
   "name": "10_CNN_final_model_evaluation.ipynb",
   "provenance": [],
   "version": "0.3.2"
  },
  "kernelspec": {
   "display_name": "Python 3",
   "language": "python",
   "name": "python3"
  },
  "language_info": {
   "codemirror_mode": {
    "name": "ipython",
    "version": 3
   },
   "file_extension": ".py",
   "mimetype": "text/x-python",
   "name": "python",
   "nbconvert_exporter": "python",
   "pygments_lexer": "ipython3",
   "version": "3.6.6"
  }
 },
 "nbformat": 4,
 "nbformat_minor": 1
}
