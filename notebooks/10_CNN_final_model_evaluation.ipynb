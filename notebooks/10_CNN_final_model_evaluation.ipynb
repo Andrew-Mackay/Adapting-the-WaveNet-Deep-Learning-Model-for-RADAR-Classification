{
 "cells": [
  {
   "cell_type": "markdown",
   "metadata": {
    "colab_type": "text",
    "id": "chTLQ4gzP4zb"
   },
   "source": [
    "# Evaluation of the final CNN model\n",
    "\n",
    "## Evaluation 1:\n",
    "First the model is trained on subjects A, B, D, E, F.\n",
    "The model is then evaluated on the test subject C. Up until this point the model has not been exposed to this data.\n",
    "\n",
    "## Evaluation 2:\n",
    "Expose the model to a set of data from all subjects during the training/validation process then use a different set, also containing data from all the subjects for testing. The data was split 60% training, 20% validation and 20% testing. Five-fold cross-validation was used.\n",
    "\n",
    "## Evaluation 3:\n",
    "Six-fold subject-wise cross-validation (one fold for each subject)."
   ]
  },
  {
   "cell_type": "markdown",
   "metadata": {
    "colab_type": "text",
    "id": "bZxhO7V0ZHUE"
   },
   "source": [
    "## Notebook setup"
   ]
  },
  {
   "cell_type": "code",
   "execution_count": 1,
   "metadata": {
    "colab": {},
    "colab_type": "code",
    "id": "TGNeUj-JDXhs"
   },
   "outputs": [],
   "source": [
    "# Plot graphs inline\n",
    "%matplotlib inline"
   ]
  },
  {
   "cell_type": "markdown",
   "metadata": {
    "colab_type": "text",
    "id": "QwLbqieVYIJt"
   },
   "source": [
    "The following cell is needed for compatibility when using both CoLab and Local Jupyter notebook. It sets the appropriate file path for the data."
   ]
  },
  {
   "cell_type": "code",
   "execution_count": 2,
   "metadata": {
    "colab": {
     "base_uri": "https://localhost:8080/",
     "height": 122
    },
    "colab_type": "code",
    "executionInfo": {
     "elapsed": 25189,
     "status": "ok",
     "timestamp": 1552071652711,
     "user": {
      "displayName": "Andrew Mackay",
      "photoUrl": "https://lh3.googleusercontent.com/-24hiGmdxZDE/AAAAAAAAAAI/AAAAAAAAL_I/RW7nqM11LkM/s64/photo.jpg",
      "userId": "06804410358976473893"
     },
     "user_tz": 0
    },
    "id": "3XeU0HtoDXh6",
    "outputId": "70a22e40-8a58-4f97-b1c5-2db0a9f04624"
   },
   "outputs": [],
   "source": [
    "import os\n",
    "path = os.getcwd()\n",
    "if path == '/content':\n",
    "    from google.colab import drive\n",
    "    drive.mount('/content/gdrive')\n",
    "    BASE_PATH = '/content/gdrive/My Drive/Level-4-Project/'\n",
    "    os.chdir('gdrive/My Drive/Level-4-Project/')\n",
    "    \n",
    "elif path == 'D:\\\\Google Drive\\\\Level-4-Project\\\\notebooks':\n",
    "    BASE_PATH = \"D:/Google Drive/Level-4-Project/\"\n",
    "    \n",
    "elif path == \"/export/home/2192793m\":\n",
    "    BASE_PATH = \"/export/home/2192793m/Level-4-Project/\"\n",
    "    \n",
    "DATA_PATH = BASE_PATH + 'data/processed/doppler_spectrograms/3/'\n",
    "\n",
    "RESULTS_PATH = BASE_PATH + 'results/CNN_final_model_evaluation/'\n",
    "HYPERPARAMETER_PATH = BASE_PATH + 'results/CNN_hyperparameter_search/'\n",
    "\n",
    "if not os.path.exists(RESULTS_PATH):\n",
    "    os.makedirs(RESULTS_PATH)"
   ]
  },
  {
   "cell_type": "markdown",
   "metadata": {
    "colab_type": "text",
    "id": "rgYwaq1eZb5u"
   },
   "source": [
    "Import remaining packages"
   ]
  },
  {
   "cell_type": "code",
   "execution_count": 3,
   "metadata": {
    "colab": {
     "base_uri": "https://localhost:8080/",
     "height": 34
    },
    "colab_type": "code",
    "executionInfo": {
     "elapsed": 5298,
     "status": "ok",
     "timestamp": 1552071654173,
     "user": {
      "displayName": "Andrew Mackay",
      "photoUrl": "https://lh3.googleusercontent.com/-24hiGmdxZDE/AAAAAAAAAAI/AAAAAAAAL_I/RW7nqM11LkM/s64/photo.jpg",
      "userId": "06804410358976473893"
     },
     "user_tz": 0
    },
    "id": "x8rzmlEhpe_R",
    "outputId": "12937d2c-fb2b-4395-e0fb-6ec0f20fd913"
   },
   "outputs": [
    {
     "name": "stderr",
     "output_type": "stream",
     "text": [
      "Using TensorFlow backend.\n"
     ]
    }
   ],
   "source": [
    "import numpy as np\n",
    "from keras.optimizers import SGD, Adam\n",
    "from keras.utils import np_utils\n",
    "from sklearn.metrics import classification_report, confusion_matrix\n",
    "import pickle\n",
    "from keras.models import Sequential\n",
    "from keras.layers import Dense, Dropout, Flatten\n",
    "from keras.layers import Convolution2D, MaxPooling2D\n",
    "import matplotlib.pyplot as plt\n",
    "from keras.callbacks import EarlyStopping"
   ]
  },
  {
   "cell_type": "code",
   "execution_count": 4,
   "metadata": {
    "colab": {
     "base_uri": "https://localhost:8080/",
     "height": 173
    },
    "colab_type": "code",
    "executionInfo": {
     "elapsed": 6880,
     "status": "ok",
     "timestamp": 1552071662696,
     "user": {
      "displayName": "Andrew Mackay",
      "photoUrl": "https://lh3.googleusercontent.com/-24hiGmdxZDE/AAAAAAAAAAI/AAAAAAAAL_I/RW7nqM11LkM/s64/photo.jpg",
      "userId": "06804410358976473893"
     },
     "user_tz": 0
    },
    "id": "tk_HAyYKYrI8",
    "outputId": "56fbe2f8-3302-48c5-82b1-0a444ad0f7a7"
   },
   "outputs": [],
   "source": [
    "# uncomment to install scikit-optimize\n",
    "# ! pip install git+https://github.com/scikit-optimize/scikit-optimize/ \n",
    "from skopt import load"
   ]
  },
  {
   "cell_type": "code",
   "execution_count": 5,
   "metadata": {
    "colab": {},
    "colab_type": "code",
    "id": "PsHOJ9lEpe_V"
   },
   "outputs": [],
   "source": [
    "# Needed as originally code was for theano backend but now using tensor flow\n",
    "from keras import backend as K\n",
    "K.set_image_dim_ordering('th')"
   ]
  },
  {
   "cell_type": "markdown",
   "metadata": {
    "colab_type": "text",
    "id": "ssk69nuAiB68"
   },
   "source": [
    "## Experiment Setup"
   ]
  },
  {
   "cell_type": "code",
   "execution_count": 6,
   "metadata": {
    "colab": {},
    "colab_type": "code",
    "id": "H_1QDAZ3sBek"
   },
   "outputs": [],
   "source": [
    "RUN_EVALUATIONS = False\n",
    "\n",
    "SAVE_RESULTS_TEST_C = False\n",
    "SAVE_GRAPHS_TEST_C = False\n",
    "\n",
    "SAVE_RESULTS_20 = False\n",
    "SAVE_GRAPHS_20 = False\n",
    "\n",
    "SAVE_RESULTS_6_FOLD = False\n",
    "SAVE_GRAPHS_6_FOLD = False"
   ]
  },
  {
   "cell_type": "code",
   "execution_count": 7,
   "metadata": {
    "colab": {},
    "colab_type": "code",
    "id": "3ndLxKnSZEu-"
   },
   "outputs": [],
   "source": [
    "# Patience chosen from notebook 9\n",
    "nb_epoch = 100\n",
    "# nb_epoch = 1 #testing\n",
    "patience = 7"
   ]
  },
  {
   "cell_type": "code",
   "execution_count": 8,
   "metadata": {
    "colab": {},
    "colab_type": "code",
    "id": "5r9302zCpe_j"
   },
   "outputs": [],
   "source": [
    "target_names = [\"walking\", \"pushing\", \"sitting\", \"pulling\", \"circling\", \"clapping\", \"bending\"]\n",
    "nb_classes = len(target_names)\n",
    "\n",
    "# input image dimensions\n",
    "img_rows, img_cols = 75, 75\n",
    "\n",
    "users = [\"A\", \"B\", \"C\", \"D\", \"E\", \"F\"] "
   ]
  },
  {
   "cell_type": "code",
   "execution_count": 9,
   "metadata": {
    "colab": {},
    "colab_type": "code",
    "id": "C1f1naWmkElm"
   },
   "outputs": [],
   "source": [
    "def load_data(user_letter):\n",
    "    \"\"\"\n",
    "    load the data and labels associated with a particular user/subject (interchangeable)\n",
    "    :param user_letter: Letter representing subject/user (A-F)\n",
    "    :type user_letter: str\n",
    "    :return: data and labels\n",
    "    :rtype: tuple of the form (data, labels)\n",
    "    \"\"\"\n",
    "    with open(DATA_PATH + user_letter + \"_data.pkl\", 'rb') as data_file:\n",
    "        data = pickle.load(data_file)\n",
    "        data = data.reshape(data.shape[0], 1, 75, 75)\n",
    "        \n",
    "    with open(DATA_PATH + user_letter + \"_labels.pkl\", 'rb') as labels_file:\n",
    "        labels = pickle.load(labels_file)\n",
    "        labels = np.reshape(labels, (len(labels), 1))\n",
    "\n",
    "    return data, labels"
   ]
  },
  {
   "cell_type": "code",
   "execution_count": 10,
   "metadata": {
    "colab": {},
    "colab_type": "code",
    "id": "g_bsC10bq026"
   },
   "outputs": [],
   "source": [
    "datasets = {}\n",
    "for user in users:\n",
    "    data, labels = load_data(user)\n",
    "    datasets[user] = {\"data\": data, \"labels\": labels}"
   ]
  },
  {
   "cell_type": "markdown",
   "metadata": {
    "colab_type": "text",
    "id": "qK0TcJIfsz7q"
   },
   "source": [
    "## Define Model"
   ]
  },
  {
   "cell_type": "code",
   "execution_count": 11,
   "metadata": {
    "colab": {},
    "colab_type": "code",
    "id": "_e0io4rM1O6N"
   },
   "outputs": [],
   "source": [
    "def make_model(nb_filters, img_rows, img_cols, nb_classes, activation,\n",
    "               dropout, num_dense_nodes, num_dense_layers,\n",
    "               kernel_size, pooling_size):\n",
    "    \"\"\"\n",
    "    Make and return the CNN model\n",
    "    :param nb_filters: Number of filters to use in layers 1,2 and 3,4 respectively\n",
    "    :type nb_filters: str containing the number of filters for the first two layers followed by \n",
    "    the last two layers, for example: \"16-32\"\n",
    "    :param img_rows: image height\n",
    "    :type img_rows: int\n",
    "    :param img_cols: image width\n",
    "    :type img_cols: int\n",
    "    :param nb_classes: Number of classes to be predicted\n",
    "    :type nb_classes: int\n",
    "    :param activation: Activation function to use after each conv and dense layer\n",
    "    :type activation: Keras activation function\n",
    "    :param dropout: dropout rate for dropout layers\n",
    "    :type dropout: float\n",
    "    :param num_dense_nodes: number of dense nodes in dense layer\n",
    "    :type num_dense_nodes: int\n",
    "    :param num_dense_layers: number of dense layers\n",
    "    :type num_dense_layers: int\n",
    "    :param kernel_size: kernel size to use\n",
    "    :type kernel_size: int but will be converted to tuple (int, int) \n",
    "                        internally as kernel is a square\n",
    "    :param pooling_size: pool size\n",
    "    :type pooling_size: int but will be converted to tuple (int, int)\n",
    "                        internally as requires vertical and horizontal\n",
    "    :return: CNN model\n",
    "    :rtype: Keras sequential model\n",
    "    \"\"\"\n",
    "    kernel_size = (kernel_size, kernel_size)\n",
    "    pooling_size = (pooling_size, pooling_size)\n",
    "    \n",
    "    model = Sequential(name=nb_filters)\n",
    "    nb_filters = nb_filters.split(\"-\")\n",
    "    size_1 = int(nb_filters[0])\n",
    "    size_2 = int(nb_filters[1])\n",
    "\n",
    "    model.add(Convolution2D(size_1, kernel_size, padding='same', input_shape=(1, img_rows, img_cols), activation=activation))\n",
    "    model.add(Convolution2D(size_1, kernel_size, activation=activation))\n",
    "    model.add(MaxPooling2D(pool_size=pooling_size))\n",
    "    model.add(Dropout(dropout))\n",
    "\n",
    "    model.add(Convolution2D(size_2, kernel_size, padding='same', activation=activation))\n",
    "    model.add(Convolution2D(size_2, kernel_size, activation=activation))\n",
    "    model.add(MaxPooling2D(pool_size=pooling_size))\n",
    "    model.add(Dropout(dropout))\n",
    "\n",
    "    model.add(Flatten())\n",
    "    for i in range(num_dense_layers):\n",
    "        model.add(Dense(num_dense_nodes, activation=activation))\n",
    "    model.add(Dropout(dropout))\n",
    "    model.add(Dense(nb_classes, activation='softmax'))\n",
    "    return model"
   ]
  },
  {
   "cell_type": "markdown",
   "metadata": {
    "colab_type": "text",
    "id": "dUGILJ8_sBfA"
   },
   "source": [
    "## Train Model Function"
   ]
  },
  {
   "cell_type": "code",
   "execution_count": 12,
   "metadata": {
    "colab": {},
    "colab_type": "code",
    "id": "jCCTt2KdsBfC"
   },
   "outputs": [],
   "source": [
    "def train_model(train_data, train_labels, validation_data, validation_labels, hyperparameters, epochs, patience):\n",
    "    \"\"\"\n",
    "    Make and train the CNN model\n",
    "    :param train_data: Data to train the model on\n",
    "    :type train_data: array of images represented as numpy arrays\n",
    "    :param train_labels: Labels corresponding to the training data\n",
    "    :type train_labels: array of integers representing the labels in the same order as train_data\n",
    "    :param validation_data: Data to validate the model on\n",
    "    :type validation_data: array of images represented as numpy arrays\n",
    "    :param validation_labels: Labels corresponding to the validation data\n",
    "    :type validation_labels: array of integers representing the labels in the same order as validation_data\n",
    "    :param hyperparameters: Selected hyperparameters \n",
    "    :type hyperparameters: dictionary\n",
    "    :param epochs: number of epochs to train for\n",
    "    :type epochs: int\n",
    "    :param patience: patience value for early stopping (-1 for no early stopping)\n",
    "    :type patience: int\n",
    "    :return: training history and trained model\n",
    "    :rtype: tuple of the form (history, model)\n",
    "    \"\"\"\n",
    "    parameters = hyperparameters\n",
    "    model = make_model(\"8-16\", img_rows, img_cols, nb_classes, parameters[2],\n",
    "               parameters[3], parameters[4], parameters[5],\n",
    "               parameters[6], parameters[7])\n",
    "    \n",
    "    optimizer = parameters[0] \n",
    "    learning_rate = parameters[1]\n",
    "    if optimizer == 'adam':\n",
    "        selected_optimizer = Adam(lr=learning_rate)\n",
    "\n",
    "    elif optimizer == 'sgd_standard':\n",
    "        selected_optimizer = SGD(lr=learning_rate)\n",
    "\n",
    "    else:\n",
    "        # nestrov momentum\n",
    "        selected_optimizer = SGD(lr=learning_rate, decay=1e-6, momentum=0.9,\n",
    "                                 nesterov=True)\n",
    "\n",
    "    model.compile(loss='categorical_crossentropy',\n",
    "                  optimizer=selected_optimizer,\n",
    "                  metrics=['accuracy'])\n",
    "    \n",
    "    callback_list = []\n",
    "    if patience != -1:\n",
    "        early_stopping = EarlyStopping(monitor='val_acc', patience=patience)\n",
    "        callback_list.append(early_stopping)\n",
    "        \n",
    "    history = model.fit(train_data, train_labels,\n",
    "                        batch_size=parameters[8],\n",
    "                        epochs=epochs,\n",
    "                        shuffle=True, \n",
    "                        validation_data=(validation_data, validation_labels),\n",
    "                        callbacks=callback_list,\n",
    "                        verbose=0)\n",
    "    \n",
    "    return history, model"
   ]
  },
  {
   "cell_type": "markdown",
   "metadata": {
    "colab_type": "text",
    "id": "VcVxk4D8sBfG"
   },
   "source": [
    "## Evaluate Model function"
   ]
  },
  {
   "cell_type": "code",
   "execution_count": 13,
   "metadata": {
    "colab": {},
    "colab_type": "code",
    "id": "g3V7RXOcsBfH"
   },
   "outputs": [],
   "source": [
    "def evaluate_model(model, test_data, test_labels, batch_size, target_names):\n",
    "    \"\"\"\n",
    "    Evaluate the trained model\n",
    "    :param model: trained keras model\n",
    "    :type model: keras model\n",
    "    :param test_data: data to evaluate the model with\n",
    "    :type test_data: array of images represented as numpy arrays\n",
    "    :param test_labels: labels for the test data\n",
    "    :type test_labels: array of integers representing the labels in the same order as test_data\n",
    "    :param batch_size: batch size to use during the evaluation\n",
    "    :type batch_size: int\n",
    "    :param target_names: Names of the classes for confusion matrix\n",
    "    :type target_names: string array\n",
    "    :return: loss, accuracy, classification report and confusion matrix\n",
    "    :rtype: dictionary with the keys \"loss\", \"accuracy\", \"classification_report\" and \"confusion_matrix\"\n",
    "    \"\"\"\n",
    "    evaluation = model.evaluate(test_data, test_labels,\n",
    "                                batch_size=batch_size, verbose=1)\n",
    "\n",
    "    loss = evaluation[0]\n",
    "    accuracy = evaluation[1]\n",
    "\n",
    "    test_pred = model.predict_classes(test_data)\n",
    "    report = classification_report(np.argmax(test_labels,axis=1),\n",
    "                                   test_pred, target_names=target_names)\n",
    "    conf_matrix = confusion_matrix(np.argmax(test_labels,axis=1), test_pred)\n",
    "    return {\n",
    "        \"loss\": loss,\n",
    "        \"accuracy\": accuracy,\n",
    "        \"classification_report\": report,\n",
    "        \"confusion_matrix\": conf_matrix\n",
    "    }"
   ]
  },
  {
   "cell_type": "markdown",
   "metadata": {
    "colab_type": "text",
    "id": "DEBqFCS9uImJ"
   },
   "source": [
    "### Load hyperparameter results"
   ]
  },
  {
   "cell_type": "code",
   "execution_count": 14,
   "metadata": {
    "colab": {},
    "colab_type": "code",
    "id": "TwrjNudLsBfO"
   },
   "outputs": [],
   "source": [
    "# needed for loading results (objective needs to be defined)\n",
    "def objective():\n",
    "    \"\"\"\n",
    "    Dummy objective function to be able to load hyperparameter search results.\n",
    "    (objective needs to be defined)\n",
    "    \"\"\"\n",
    "    return 0"
   ]
  },
  {
   "cell_type": "code",
   "execution_count": 15,
   "metadata": {
    "colab": {
     "base_uri": "https://localhost:8080/",
     "height": 982
    },
    "colab_type": "code",
    "executionInfo": {
     "elapsed": 2321,
     "status": "error",
     "timestamp": 1552055183985,
     "user": {
      "displayName": "Andrew Mackay",
      "photoUrl": "https://lh3.googleusercontent.com/-24hiGmdxZDE/AAAAAAAAAAI/AAAAAAAAL_I/RW7nqM11LkM/s64/photo.jpg",
      "userId": "06804410358976473893"
     },
     "user_tz": 0
    },
    "id": "237ErDR_uKsk",
    "outputId": "abcbd3c5-9b84-42ad-bb20-9bd23ade1960"
   },
   "outputs": [],
   "source": [
    "dimensions = ['optimizer', 'learning_rate', 'activation', 'dropout',\n",
    "              'num_dense_nodes', 'num_dense_layers', 'kernel_size',\n",
    "              'pooling_size', 'batch_size']\n",
    "\n",
    "res_gp = load(HYPERPARAMETER_PATH + \"res_gp_complete.pkl\")\n",
    "parameters = res_gp.x"
   ]
  },
  {
   "cell_type": "code",
   "execution_count": 16,
   "metadata": {
    "colab": {},
    "colab_type": "code",
    "id": "REWSu0eOVxMR"
   },
   "outputs": [
    {
     "name": "stdout",
     "output_type": "stream",
     "text": [
      "optimizer: adam\n",
      "learning_rate: 0.0012375685948764468\n",
      "activation: relu\n",
      "dropout: 0.597428888669298\n",
      "num_dense_nodes: 1024\n",
      "num_dense_layers: 3\n",
      "kernel_size: 3\n",
      "pooling_size: 2\n",
      "batch_size: 576\n"
     ]
    }
   ],
   "source": [
    "for index, parameter in enumerate(parameters):\n",
    "    print(dimensions[index] + \":\", parameter)"
   ]
  },
  {
   "cell_type": "markdown",
   "metadata": {
    "colab_type": "text",
    "id": "2sK8LErIsBfm"
   },
   "source": [
    "# Evaluating on subject C"
   ]
  },
  {
   "cell_type": "code",
   "execution_count": 17,
   "metadata": {
    "colab": {},
    "colab_type": "code",
    "id": "Ha1tZshusBfn"
   },
   "outputs": [],
   "source": [
    "def split_train_validation_test(test_user, total_folds=5, validation_fold=0):\n",
    "    \"\"\"\n",
    "    split the data into:\n",
    "        a test set composed of all data from test subject\n",
    "        a train set composed of 80% (depending on total folds) of remaining subjects\n",
    "        a validation set composed of the remaining 20%\n",
    "    :param test_user: \n",
    "    :param total_folds: \n",
    "    :param validation_fold: \n",
    "    :return: \n",
    "    \"\"\"\n",
    "    # split by user then action\n",
    "    labels = np.arange(0, 7)\n",
    "    actions = {}\n",
    "    for user in users:\n",
    "        actions[user] = {}\n",
    "        for label in labels:\n",
    "            actions[user][str(label)] = []\n",
    "        \n",
    "    for user in users:\n",
    "        data = datasets[user][\"data\"]\n",
    "        labels = datasets[user][\"labels\"]\n",
    "        for index, label in enumerate(labels):\n",
    "            actions[user][str(label[0])].append(data[index])\n",
    "        \n",
    "    # convert to numpy array\n",
    "    labels = np.arange(0, 7)\n",
    "    for user in users:\n",
    "        for label in labels:\n",
    "            actions[user][str(label)] = np.array(actions[user][str(label)])\n",
    "            \n",
    "    train_labels = []\n",
    "    train_data = []\n",
    "    validation_labels = []\n",
    "    validation_data = []\n",
    "    test_labels = []\n",
    "    test_data = []\n",
    "    # each user A->F\n",
    "    for user in users:\n",
    "        # 0 -> 6\n",
    "        for label in labels:            \n",
    "            if user == test_user:\n",
    "                testing_data = actions[user][str(label)]\n",
    "                testing_labels = np.full(testing_data.shape[0], label)\n",
    "                test_data.append(testing_data)\n",
    "                test_labels.append(testing_labels)  \n",
    "                \n",
    "            else:\n",
    "                # for example, if using 5 folds splits data into 5 subsets\n",
    "                split_actions = np.array_split(actions[user][str(label)], total_folds)\n",
    "                training_data = []\n",
    "                validating_data = []\n",
    "                for fold in range(total_folds):\n",
    "                    if fold == validation_fold:\n",
    "                        validating_data.append(split_actions[fold])\n",
    "                    else:\n",
    "                        training_data.append(split_actions[fold])\n",
    "\n",
    "                training_data = np.concatenate(training_data, axis=0)\n",
    "                training_labels = np.full(training_data.shape[0], label)\n",
    "                validating_data = np.concatenate(validating_data, axis=0)\n",
    "                validating_labels = np.full(validating_data.shape[0], label)\n",
    "\n",
    "                train_data.append(training_data)\n",
    "                train_labels.append(training_labels)\n",
    "                validation_data.append(validating_data)\n",
    "                validation_labels.append(validating_labels)   \n",
    "            \n",
    "    train_labels = np.concatenate(train_labels, axis=0)\n",
    "    train_data = np.concatenate(train_data, axis=0)\n",
    "    validation_labels = np.concatenate(validation_labels, axis=0)\n",
    "    validation_data = np.concatenate(validation_data, axis=0)\n",
    "    test_labels = np.concatenate(test_labels, axis=0)\n",
    "    test_data = np.concatenate(test_data, axis=0)\n",
    "    \n",
    "    train_labels = np_utils.to_categorical(train_labels, nb_classes)\n",
    "    validation_labels = np_utils.to_categorical(validation_labels, nb_classes)\n",
    "    test_labels = np_utils.to_categorical(test_labels, nb_classes)\n",
    "    \n",
    "    train_data = train_data.astype('float32')/255\n",
    "    validation_data = validation_data.astype('float32')/255\n",
    "    test_data = test_data.astype('float32')/255\n",
    "    \n",
    "    return {\n",
    "        \"train_data\": train_data,\n",
    "        \"train_labels\": train_labels,\n",
    "        \"validation_data\": validation_data,\n",
    "        \"validation_labels\": validation_labels,\n",
    "        \"test_data\": test_data,\n",
    "        \"test_labels\": test_labels\n",
    "       }"
   ]
  },
  {
   "cell_type": "markdown",
   "metadata": {
    "colab_type": "text",
    "id": "xUFmx9viVI7z"
   },
   "source": [
    "## Train Model"
   ]
  },
  {
   "cell_type": "code",
   "execution_count": 18,
   "metadata": {
    "colab": {},
    "colab_type": "code",
    "id": "kKw8W26uW029"
   },
   "outputs": [],
   "source": [
    "data_split = split_train_validation_test(\"C\") # subject c is test subject\n",
    "\n",
    "# 80% of each subject (excluding C)\n",
    "train_data = data_split[\"train_data\"]\n",
    "train_labels = data_split[\"train_labels\"]\n",
    "\n",
    "# 20% taken from each subject (excluding C)\n",
    "validation_data = data_split[\"validation_data\"]\n",
    "validation_labels = data_split[\"validation_labels\"]\n",
    "\n",
    "# subject C\n",
    "test_data = data_split[\"test_data\"]\n",
    "test_labels = data_split[\"test_labels\"]"
   ]
  },
  {
   "cell_type": "code",
   "execution_count": 19,
   "metadata": {
    "colab": {},
    "colab_type": "code",
    "id": "JMYZIHC4sBfw",
    "outputId": "372087f0-89ab-4551-a5fc-54e769cdb7e7"
   },
   "outputs": [
    {
     "name": "stdout",
     "output_type": "stream",
     "text": [
      "(29575, 1, 75, 75)\n",
      "(7410, 1, 75, 75)\n",
      "(7966, 1, 75, 75)\n"
     ]
    }
   ],
   "source": [
    "print(train_data.shape)\n",
    "print(validation_data.shape)\n",
    "print(test_data.shape)"
   ]
  },
  {
   "cell_type": "code",
   "execution_count": 20,
   "metadata": {
    "colab": {},
    "colab_type": "code",
    "id": "QCDgL2pgsBfz",
    "outputId": "550a20b7-95ed-4b41-abcf-3ffa4425e9c1"
   },
   "outputs": [],
   "source": [
    "if RUN_EVALUATIONS:\n",
    "    history, model = train_model(train_data, train_labels,\n",
    "                                 validation_data, validation_labels,\n",
    "                                 parameters, nb_epoch, patience)"
   ]
  },
  {
   "cell_type": "markdown",
   "metadata": {
    "colab_type": "text",
    "id": "-UiKUBcWZTMl"
   },
   "source": [
    "## Evaluate Model"
   ]
  },
  {
   "cell_type": "code",
   "execution_count": 21,
   "metadata": {
    "colab": {},
    "colab_type": "code",
    "id": "Nhg74UlvZO0R",
    "outputId": "f936f390-9b6b-4f93-c935-8b88e2a2661d"
   },
   "outputs": [],
   "source": [
    "if RUN_EVALUATIONS:\n",
    "    results = evaluate_model(model, test_data, test_labels, parameters[8], target_names)\n",
    "    results[\"history\"] = history.history"
   ]
  },
  {
   "cell_type": "markdown",
   "metadata": {
    "colab_type": "text",
    "id": "s_fDcgsnZWmO"
   },
   "source": [
    "## Save Results"
   ]
  },
  {
   "cell_type": "code",
   "execution_count": 22,
   "metadata": {
    "colab": {},
    "colab_type": "code",
    "id": "FvfALPe4ZViU"
   },
   "outputs": [],
   "source": [
    "if SAVE_RESULTS_TEST_C:\n",
    "    with open(RESULTS_PATH + \"results_test_c.pkl\", 'wb') as results_file:\n",
    "        pickle.dump(results, results_file)"
   ]
  },
  {
   "cell_type": "markdown",
   "metadata": {
    "colab_type": "text",
    "id": "jvU7qrKvZilk"
   },
   "source": [
    "## Load Results"
   ]
  },
  {
   "cell_type": "code",
   "execution_count": 23,
   "metadata": {
    "colab": {},
    "colab_type": "code",
    "id": "F2uKXbW7dx8-"
   },
   "outputs": [],
   "source": [
    "with open(RESULTS_PATH + \"results_test_c.pkl\", 'rb') as results_file:\n",
    "    results = pickle.load(results_file)"
   ]
  },
  {
   "cell_type": "markdown",
   "metadata": {
    "colab_type": "text",
    "id": "Xo1MQX8HZdEM"
   },
   "source": [
    "## Visualize Results"
   ]
  },
  {
   "cell_type": "code",
   "execution_count": 24,
   "metadata": {
    "colab": {},
    "colab_type": "code",
    "id": "IIXL7VSfsBgJ",
    "outputId": "77581bd0-5bab-4427-a1af-95c9ed69a47b"
   },
   "outputs": [
    {
     "name": "stdout",
     "output_type": "stream",
     "text": [
      "Accuracy: 77.32864703600532\n"
     ]
    }
   ],
   "source": [
    "print(\"Accuracy:\",results[\"accuracy\"]*100)"
   ]
  },
  {
   "cell_type": "markdown",
   "metadata": {
    "colab_type": "text",
    "id": "ZAQT0GUGehoN"
   },
   "source": [
    "### Accuracy"
   ]
  },
  {
   "cell_type": "code",
   "execution_count": 25,
   "metadata": {
    "colab": {},
    "colab_type": "code",
    "id": "3TG23dv0ZiER",
    "outputId": "23a58a05-0b1f-4586-97a8-43aa68e4d2b2"
   },
   "outputs": [
    {
     "data": {
      "image/png": "[encoded data removed]",
      "text/plain": [
       "<Figure size 432x288 with 1 Axes>"
      ]
     },
     "metadata": {
      "needs_background": "light"
     },
     "output_type": "display_data"
    }
   ],
   "source": [
    "training_acc = results[\"history\"]['acc']\n",
    "test_acc = results[\"history\"]['val_acc']\n",
    "\n",
    "# Create count of the number of epochs\n",
    "epoch_count = range(1, len(training_acc) + 1)\n",
    "\n",
    "# Visualize loss history\n",
    "plt.plot(epoch_count, training_acc, 'b--')\n",
    "plt.plot(epoch_count, test_acc, 'r-')\n",
    "plt.legend(['Training Accuracy', 'Test Accuracy'])\n",
    "plt.xlabel('Epoch')\n",
    "plt.ylabel('Accuracy')\n",
    "plt.title(\"Comparison of Training vs Test Accuracy\")\n",
    "plt.grid()\n",
    "if SAVE_GRAPHS_TEST_C:\n",
    "    plt.savefig(RESULTS_PATH + \"training_vs_test_acc.pdf\", format='pdf')\n",
    "plt.show()"
   ]
  },
  {
   "cell_type": "markdown",
   "metadata": {
    "colab_type": "text",
    "id": "8w4V_UCpek2w"
   },
   "source": [
    "### Loss"
   ]
  },
  {
   "cell_type": "code",
   "execution_count": 26,
   "metadata": {
    "colab": {},
    "colab_type": "code",
    "id": "9gOHRHu1eoZa",
    "outputId": "2af5bdda-38f9-4b65-8785-db2dfa99f7ce"
   },
   "outputs": [
    {
     "data": {
      "image/png": "[encoded data removed]",
      "text/plain": [
       "<Figure size 432x288 with 1 Axes>"
      ]
     },
     "metadata": {
      "needs_background": "light"
     },
     "output_type": "display_data"
    }
   ],
   "source": [
    "training_loss = results[\"history\"]['loss']\n",
    "test_loss = results[\"history\"]['val_loss']\n",
    "\n",
    "# Create count of the number of epochs\n",
    "epoch_count = range(1, len(training_loss) + 1)\n",
    "\n",
    "# Visualize loss history\n",
    "plt.plot(epoch_count, training_loss, 'b--')\n",
    "plt.plot(epoch_count, test_loss, 'r-')\n",
    "plt.legend(['Training Loss', 'Test Loss'])\n",
    "plt.xlabel('Epoch')\n",
    "plt.ylabel('Loss')\n",
    "plt.title(\"Comparison of Training vs Test Loss\")\n",
    "plt.grid()\n",
    "if SAVE_GRAPHS_TEST_C:\n",
    "    plt.savefig(RESULTS_PATH + \"training_vs_test_loss.pdf\", format='pdf')\n",
    "plt.show()"
   ]
  },
  {
   "cell_type": "markdown",
   "metadata": {
    "colab_type": "text",
    "id": "Lj9PbHEyepnH"
   },
   "source": [
    "### Confusion Matrix"
   ]
  },
  {
   "cell_type": "code",
   "execution_count": 27,
   "metadata": {
    "colab": {},
    "colab_type": "code",
    "id": "CGvi00vuZf9G"
   },
   "outputs": [],
   "source": [
    "def plot_confusion_matrix(cm, classes, title=\"Confusion Matrix\", normalized=True, save=False, path='/'):\n",
    "    \"\"\"\n",
    "    Plot the confusion matrix, code taken from:\n",
    "     https://scikit-learn.org/stable/auto_examples/model_selection/plot_confusion_matrix.html\n",
    "    :param cm: confusion matrix to plot\n",
    "    :param classes: class labels\n",
    "    :param title: title of the plot\n",
    "    :param normalized: use normalized version or not\n",
    "    :param save: save the graph toggle\n",
    "    :param path: path to save the graph to\n",
    "    \"\"\"\n",
    "    if normalized:\n",
    "        cm = cm.astype('float') / cm.sum(axis=1)[:, np.newaxis]\n",
    "    plt.imshow(cm, interpolation='nearest', cmap=plt.cm.Blues)\n",
    "    plt.title(title)\n",
    "    plt.colorbar()\n",
    "    tick_marks = np.arange(len(classes))\n",
    "    plt.xticks(tick_marks, classes, rotation=45)\n",
    "    plt.yticks(tick_marks, classes)\n",
    "    plt.ylabel('True label')\n",
    "    plt.xlabel('Predicted label')\n",
    "    plt.tight_layout()\n",
    "    if save:\n",
    "        plt.savefig(path, format='pdf')\n",
    "    plt.show()"
   ]
  },
  {
   "cell_type": "code",
   "execution_count": 28,
   "metadata": {
    "colab": {},
    "colab_type": "code",
    "id": "cHUVuo_rcOis",
    "outputId": "e6626c5b-902a-41d0-8ed5-de884b13526d",
    "scrolled": true
   },
   "outputs": [
    {
     "data": {
      "image/png": "[encoded data removed]",
      "text/plain": [
       "<Figure size 432x288 with 2 Axes>"
      ]
     },
     "metadata": {
      "needs_background": "light"
     },
     "output_type": "display_data"
    }
   ],
   "source": [
    "plot_confusion_matrix(results[\"confusion_matrix\"], target_names,\n",
    "                      save=SAVE_GRAPHS_TEST_C, path=RESULTS_PATH + \"confusion_matrix.pdf\")"
   ]
  },
  {
   "cell_type": "code",
   "execution_count": 29,
   "metadata": {
    "colab": {},
    "colab_type": "code",
    "id": "k0_K54rdsBgm"
   },
   "outputs": [],
   "source": [
    "K.clear_session()"
   ]
  },
  {
   "cell_type": "markdown",
   "metadata": {
    "colab_type": "text",
    "id": "qPZEQaFJsBgq"
   },
   "source": [
    "# Evaluating on subset of the data (all subjects) 5-Fold\n",
    "use 60% for training, 20% for validation (early stopping) and the final 20% for testing."
   ]
  },
  {
   "cell_type": "code",
   "execution_count": 30,
   "metadata": {
    "colab": {},
    "colab_type": "code",
    "id": "XPOIc2KOsBgt"
   },
   "outputs": [],
   "source": [
    "# pass in percentage to make test set\n",
    "# fold = 0,1,2,3,4\n",
    "def split_data(test_fold, validation_fold, total_folds):\n",
    "    \"\"\"\n",
    "    Split the data into folds then use whole folds for the test and validation\n",
    "    set whilst using the remaining folds for the training set\n",
    "    :param test_fold: fold to use for the test set\n",
    "    :param validation_fold: fold to use for the validation set\n",
    "    :param total_folds: number of folds to split the data into\n",
    "    :return: train, validation and test datasets\n",
    "    \"\"\"\n",
    "    # split by user then action\n",
    "    labels = np.arange(0, 7)\n",
    "    actions = {}\n",
    "    for user in users:\n",
    "        actions[user] = {}\n",
    "        for label in labels:\n",
    "            actions[user][str(label)] = []\n",
    "        \n",
    "    for user in users:\n",
    "        data = datasets[user][\"data\"]\n",
    "        labels = datasets[user][\"labels\"]\n",
    "        for index, label in enumerate(labels):\n",
    "            actions[user][str(label[0])].append(data[index])        \n",
    "        \n",
    "    labels = np.arange(0, 7)\n",
    "    for user in users:\n",
    "        for label in labels:\n",
    "            actions[user][str(label)] = np.array(actions[user][str(label)])\n",
    "            \n",
    "    train_labels = []\n",
    "    train_data = []\n",
    "    validation_labels = []\n",
    "    validation_data = []\n",
    "    test_labels = []\n",
    "    test_data = []\n",
    "    # each user A->F\n",
    "    for user in users:\n",
    "        # 0 -> 6\n",
    "        for label in labels:\n",
    "            # for example, if using 5 folds splits data into 5 subsets\n",
    "            split_actions = np.array_split(actions[user][str(label)], total_folds)\n",
    "            training_data = []\n",
    "            validating_data = []\n",
    "            testing_data = []\n",
    "            for fold in range(total_folds):\n",
    "                if fold == test_fold:\n",
    "                    testing_data.append(split_actions[fold])\n",
    "                    \n",
    "                elif fold == validation_fold:\n",
    "                    validating_data.append(split_actions[fold])\n",
    "                    \n",
    "                else:\n",
    "                    training_data.append(split_actions[fold])\n",
    "                    \n",
    "            training_data = np.concatenate(training_data, axis=0)\n",
    "            training_labels = np.full(training_data.shape[0], label)\n",
    "            validating_data = np.concatenate(validating_data, axis=0)\n",
    "            validating_labels = np.full(validating_data.shape[0], label)\n",
    "            testing_data = np.concatenate(testing_data, axis=0)\n",
    "            testing_labels = np.full(testing_data.shape[0], label)\n",
    "            \n",
    "            train_data.append(training_data)\n",
    "            train_labels.append(training_labels)\n",
    "            validation_data.append(validating_data)\n",
    "            validation_labels.append(validating_labels)\n",
    "            test_data.append(testing_data)\n",
    "            test_labels.append(testing_labels)   \n",
    "            \n",
    "    train_labels = np.concatenate(train_labels, axis=0)\n",
    "    train_data = np.concatenate(train_data, axis=0)\n",
    "    validation_labels = np.concatenate(validation_labels, axis=0)\n",
    "    validation_data = np.concatenate(validation_data, axis=0)\n",
    "    test_labels = np.concatenate(test_labels, axis=0)\n",
    "    test_data = np.concatenate(test_data, axis=0)\n",
    "    \n",
    "    train_labels = np_utils.to_categorical(train_labels, nb_classes)\n",
    "    validation_labels = np_utils.to_categorical(validation_labels, nb_classes)\n",
    "    test_labels = np_utils.to_categorical(test_labels, nb_classes)\n",
    "    \n",
    "    train_data = train_data.astype('float32')/255\n",
    "    validation_data = validation_data.astype('float32')/255\n",
    "    test_data = test_data.astype('float32')/255\n",
    "    \n",
    "    return {\n",
    "        \"train_data\": train_data,\n",
    "        \"train_labels\": train_labels,\n",
    "        \"validation_data\": validation_data,\n",
    "        \"validation_labels\": validation_labels,\n",
    "        \"test_data\": test_data,\n",
    "        \"test_labels\": test_labels\n",
    "       }"
   ]
  },
  {
   "cell_type": "code",
   "execution_count": 31,
   "metadata": {
    "colab": {},
    "colab_type": "code",
    "id": "yCqMeR0zsBgw"
   },
   "outputs": [],
   "source": [
    "k_fold_results = {}\n",
    "number_of_folds = 5\n",
    "for fold in range(number_of_folds):\n",
    "    k_fold_results[str(fold)] = {}"
   ]
  },
  {
   "cell_type": "code",
   "execution_count": 32,
   "metadata": {
    "colab": {},
    "colab_type": "code",
    "id": "dtu3aOQ8sBg1",
    "outputId": "290038b8-74ec-476d-f791-5af1c2541af4",
    "scrolled": true
   },
   "outputs": [],
   "source": [
    "if RUN_EVALUATIONS:\n",
    "    average_accuracy = 0\n",
    "    average_loss = 0\n",
    "    for fold in range(number_of_folds):\n",
    "        test_fold = fold\n",
    "        validation_fold = (test_fold + 1) % number_of_folds\n",
    "        print(\"Fold:\", fold)\n",
    "\n",
    "        data_split = split_data(test_fold, validation_fold, number_of_folds)\n",
    "\n",
    "        train_data = data_split[\"train_data\"]\n",
    "        train_labels = data_split[\"train_labels\"]\n",
    "        validation_data = data_split[\"validation_data\"]\n",
    "        validation_labels = data_split[\"validation_labels\"]\n",
    "        test_data = data_split[\"test_data\"]\n",
    "        test_labels = data_split[\"test_labels\"]\n",
    "\n",
    "        history, model = train_model(train_data, train_labels,\n",
    "                                     validation_data, validation_labels,\n",
    "                                     parameters, nb_epoch, patience)\n",
    "\n",
    "        results = evaluate_model(model, test_data, test_labels, parameters[8], target_names)\n",
    "        average_accuracy += results[\"accuracy\"]\n",
    "        average_loss += results[\"loss\"]\n",
    "        k_fold_results[str(fold)][\"accuracy\"] = results[\"accuracy\"]\n",
    "        k_fold_results[str(fold)][\"loss\"] = results[\"loss\"]\n",
    "\n",
    "    k_fold_results[\"average_accuracy\"] = average_accuracy/number_of_folds\n",
    "    k_fold_results[\"average_loss\"] = average_loss/number_of_folds"
   ]
  },
  {
   "cell_type": "markdown",
   "metadata": {
    "colab_type": "text",
    "id": "gpNlLduW1a-t"
   },
   "source": [
    "## Save Results"
   ]
  },
  {
   "cell_type": "code",
   "execution_count": 33,
   "metadata": {
    "colab": {},
    "colab_type": "code",
    "id": "wMAawsyJ1a-w"
   },
   "outputs": [],
   "source": [
    "if SAVE_RESULTS_20:\n",
    "    with open(RESULTS_PATH + \"results_test_20.pkl\", 'wb') as results_file:\n",
    "        pickle.dump(k_fold_results, results_file)"
   ]
  },
  {
   "cell_type": "markdown",
   "metadata": {
    "colab_type": "text",
    "id": "bXVJBhXg1a-3"
   },
   "source": [
    "## Load Results"
   ]
  },
  {
   "cell_type": "code",
   "execution_count": 34,
   "metadata": {
    "colab": {},
    "colab_type": "code",
    "id": "lAjlWXID1a-5"
   },
   "outputs": [],
   "source": [
    "with open(RESULTS_PATH + \"results_test_20.pkl\", 'rb') as results_file:\n",
    "    k_fold_results = pickle.load(results_file)"
   ]
  },
  {
   "cell_type": "markdown",
   "metadata": {
    "colab_type": "text",
    "id": "zG96Vl0C1a_D"
   },
   "source": [
    "## Visualize Results"
   ]
  },
  {
   "cell_type": "code",
   "execution_count": 35,
   "metadata": {
    "colab": {},
    "colab_type": "code",
    "id": "WgXYn1ONsBhc",
    "outputId": "c66b0ab2-7ef8-450f-cab5-3ce85a0340cd"
   },
   "outputs": [
    {
     "name": "stdout",
     "output_type": "stream",
     "text": [
      "Average Accuracy: 93.84664399196652\n",
      "Average Loss: 0.20795073051906865\n"
     ]
    }
   ],
   "source": [
    "print(\"Average Accuracy:\", k_fold_results[\"average_accuracy\"]*100)\n",
    "print(\"Average Loss:\", k_fold_results[\"average_loss\"])"
   ]
  },
  {
   "cell_type": "markdown",
   "metadata": {
    "colab_type": "text",
    "id": "XmZhUB_lsBhf"
   },
   "source": [
    "### Accuracy Fold Distribution"
   ]
  },
  {
   "cell_type": "code",
   "execution_count": 36,
   "metadata": {
    "colab": {},
    "colab_type": "code",
    "id": "JG4lyQXfsBhg",
    "outputId": "5ee19622-ed55-4409-f5f5-a975a3aa08a3"
   },
   "outputs": [
    {
     "data": {
      "image/png": "[encoded data removed]",
      "text/plain": [
       "<Figure size 432x288 with 1 Axes>"
      ]
     },
     "metadata": {
      "needs_background": "light"
     },
     "output_type": "display_data"
    }
   ],
   "source": [
    "accuracies = []\n",
    "for fold in range(number_of_folds):\n",
    "    accuracies.append(k_fold_results[str(fold)][\"accuracy\"]*100)\n",
    "\n",
    "plt.boxplot(accuracies, zorder=3)\n",
    "plt.title(\"Fold Performance Distribution Comparison\")\n",
    "# plt.xlabel(\"Model\")\n",
    "plt.ylabel(\"Classification Accuracy (%)\")\n",
    "plt.grid(axis='y', zorder=0)\n",
    "if SAVE_GRAPHS_20:\n",
    "     plt.savefig(RESULTS_PATH + \"boxplot_20.pdf\", format='pdf')"
   ]
  },
  {
   "cell_type": "code",
   "execution_count": 37,
   "metadata": {
    "colab": {},
    "colab_type": "code",
    "id": "V8GVpM3GsBhm"
   },
   "outputs": [],
   "source": [
    "K.clear_session()"
   ]
  },
  {
   "cell_type": "markdown",
   "metadata": {
    "colab_type": "text",
    "id": "EuOkMVMvsBhq"
   },
   "source": [
    "# Six-Fold Cross-Validation\n",
    "Same method as employed when comparing the original model except this time user all users."
   ]
  },
  {
   "cell_type": "code",
   "execution_count": 38,
   "metadata": {
    "colab": {},
    "colab_type": "code",
    "id": "Enp87uIpsBhr"
   },
   "outputs": [],
   "source": [
    "results_six_fold = {}\n",
    "for user in users:\n",
    "    results_six_fold[user] = {}"
   ]
  },
  {
   "cell_type": "code",
   "execution_count": 39,
   "metadata": {
    "colab": {},
    "colab_type": "code",
    "id": "dZmmBc_qsBht",
    "outputId": "6730e012-5e1e-4049-88c9-3f59ea15a239"
   },
   "outputs": [],
   "source": [
    "if RUN_EVALUATIONS:\n",
    "    average_accuracy = 0\n",
    "    average_loss = 0\n",
    "    for user in users:\n",
    "        data_split = split_train_validation_test(user)\n",
    "        train_data = data_split[\"train_data\"]\n",
    "        train_labels = data_split[\"train_labels\"]\n",
    "        validation_data = data_split[\"validation_data\"]\n",
    "        validation_labels = data_split[\"validation_labels\"]\n",
    "        test_data = data_split[\"test_data\"]\n",
    "        test_labels = data_split[\"test_labels\"]\n",
    "\n",
    "        history, model = train_model(train_data, train_labels, validation_data, validation_labels, parameters, nb_epoch, patience)\n",
    "\n",
    "        results = evaluate_model(model, test_data, test_labels, parameters[8], target_names)\n",
    "        average_accuracy += results[\"accuracy\"]\n",
    "        average_loss += results[\"loss\"]\n",
    "        results_six_fold[user][\"accuracy\"] = results[\"accuracy\"]\n",
    "        results_six_fold[user][\"loss\"] = results[\"loss\"]\n",
    "\n",
    "    results_six_fold[\"avg_loss\"] = average_loss/len(users)\n",
    "    results_six_fold[\"avg_acc\"] = average_accuracy/len(users)\n",
    "    print(\"Average Loss:\", average_loss/len(users))\n",
    "    print(\"Average Accuracy:\", average_accuracy/len(users))"
   ]
  },
  {
   "cell_type": "markdown",
   "metadata": {
    "colab_type": "text",
    "id": "FJoBqNfPsBhx"
   },
   "source": [
    "## Save Results"
   ]
  },
  {
   "cell_type": "code",
   "execution_count": 40,
   "metadata": {
    "colab": {},
    "colab_type": "code",
    "id": "hnAwgC5DsBhy"
   },
   "outputs": [],
   "source": [
    "if SAVE_RESULTS_6_FOLD:\n",
    "    with open(RESULTS_PATH + \"results_6_fold.pkl\", 'wb') as results_file:\n",
    "        pickle.dump(results_six_fold, results_file)"
   ]
  },
  {
   "cell_type": "markdown",
   "metadata": {
    "colab_type": "text",
    "id": "c5OTSf4csBh2"
   },
   "source": [
    "## Load Results"
   ]
  },
  {
   "cell_type": "code",
   "execution_count": 41,
   "metadata": {
    "colab": {},
    "colab_type": "code",
    "id": "OL-r8gzfsBh3"
   },
   "outputs": [],
   "source": [
    "with open(RESULTS_PATH + \"results_6_fold.pkl\", 'rb') as results_file:\n",
    "    results_six_fold = pickle.load(results_file)"
   ]
  },
  {
   "cell_type": "markdown",
   "metadata": {
    "colab_type": "text",
    "id": "WIcBEAsKsBh7"
   },
   "source": [
    "## Visualize Results"
   ]
  },
  {
   "cell_type": "code",
   "execution_count": 42,
   "metadata": {
    "colab": {},
    "colab_type": "code",
    "id": "LxKxFnrYsBh8",
    "outputId": "23ebe00f-174f-4fc6-f8eb-f99ee0feb703"
   },
   "outputs": [
    {
     "name": "stdout",
     "output_type": "stream",
     "text": [
      "Average Accuracy: 76.80047597558102\n",
      "Average Loss: 1.616423382245684\n"
     ]
    }
   ],
   "source": [
    "print(\"Average Accuracy:\", results_six_fold[\"avg_acc\"]*100)\n",
    "print(\"Average Loss:\", results_six_fold[\"avg_loss\"])"
   ]
  },
  {
   "cell_type": "code",
   "execution_count": 43,
   "metadata": {
    "colab": {},
    "colab_type": "code",
    "id": "G1nkUBDDsBiF",
    "outputId": "10f1a9bf-07e8-4e9e-f960-71d83dc7830b",
    "scrolled": true
   },
   "outputs": [
    {
     "data": {
      "image/png": "[encoded data removed]",
      "text/plain": [
       "<Figure size 432x288 with 1 Axes>"
      ]
     },
     "metadata": {
      "needs_background": "light"
     },
     "output_type": "display_data"
    }
   ],
   "source": [
    "accuracies = []\n",
    "for user in users:\n",
    "    accuracies.append(results_six_fold[user][\"accuracy\"]*100)\n",
    "\n",
    "plt.boxplot(accuracies, zorder=3)\n",
    "plt.title(\"Fold Performance Distribution Comparison\")\n",
    "plt.xlabel(\"Model\")\n",
    "plt.ylabel(\"Classification Accuracy (%)\")\n",
    "plt.grid(axis='y', zorder=0)\n",
    "if SAVE_GRAPHS_6_FOLD:\n",
    "     plt.savefig(RESULTS_PATH + \"boxplot_6_fold.pdf\", format='pdf')"
   ]
  },
  {
   "cell_type": "code",
   "execution_count": 44,
   "metadata": {
    "colab": {},
    "colab_type": "code",
    "id": "q-xScbY7sBiK",
    "outputId": "9b041b1e-3613-4480-cedc-1eecd1ebe32e",
    "scrolled": false
   },
   "outputs": [
    {
     "data": {
      "image/png": "[encoded data removed]",
      "text/plain": [
       "<Figure size 432x288 with 1 Axes>"
      ]
     },
     "metadata": {
      "needs_background": "light"
     },
     "output_type": "display_data"
    }
   ],
   "source": [
    "plt.bar(range(len(users)), accuracies, zorder=3)\n",
    "plt.xticks(range(len(users)), users)\n",
    "plt.xlabel(\"Subject (fold)\")\n",
    "plt.ylabel(\"Classification Accuracy (%)\")\n",
    "plt.title(\" Fold Accuracy Distribution\")\n",
    "plt.grid(axis='y', zorder=0)\n",
    "if SAVE_GRAPHS_6_FOLD:\n",
    "    plt.savefig(RESULTS_PATH + \"fold_accuracy_distribution_6_fold.pdf\", format='pdf')\n",
    "plt.show()"
   ]
  },
  {
   "cell_type": "markdown",
   "metadata": {
    "colab_type": "text",
    "id": "DH8NXUtIsBiO"
   },
   "source": [
    "# Original Model Parameters\n",
    "Re-run the evaluation using the orignal model parameters found by A. Angelov"
   ]
  },
  {
   "cell_type": "code",
   "execution_count": 45,
   "metadata": {
    "colab": {},
    "colab_type": "code",
    "id": "nzg7iLoPsBiP"
   },
   "outputs": [],
   "source": [
    "SAVE_RESULTS_TEST_C_BASE = False\n",
    "SAVE_GRAPHS_TEST_C_BASE = False\n",
    "\n",
    "SAVE_RESULTS_20_BASE = False\n",
    "SAVE_GRAPHS_20_BASE = False\n",
    "\n",
    "SAVE_RESULTS_6_FOLD_BASE = False\n",
    "SAVE_GRAPHS_6_FOLD_BASE = False"
   ]
  },
  {
   "cell_type": "code",
   "execution_count": 46,
   "metadata": {
    "colab": {},
    "colab_type": "code",
    "id": "cVUpSOIysBiT"
   },
   "outputs": [],
   "source": [
    "nb_epochs = 20\n",
    "batch_size = 64"
   ]
  },
  {
   "cell_type": "code",
   "execution_count": 47,
   "metadata": {
    "colab": {},
    "colab_type": "code",
    "id": "8OImgCdJsBiV"
   },
   "outputs": [],
   "source": [
    "def make_base_model(): \n",
    "    \"\"\"\n",
    "    Create the CNN model with parameters found by A. Angelov\n",
    "    :return: Sequential model\n",
    "    \"\"\"\n",
    "    model = Sequential(name=\"Base\")\n",
    "\n",
    "    model.add(Convolution2D(64, (3, 3), padding='same',\n",
    "                            input_shape=(1, img_rows, img_cols), activation='relu'))\n",
    "    model.add(Convolution2D(64, (3, 3), activation='relu'))\n",
    "    model.add(MaxPooling2D(pool_size=(2, 2)))\n",
    "    model.add(Dropout(0.25))\n",
    "\n",
    "    model.add(Convolution2D(128, (3, 3), padding='same', activation='relu'))\n",
    "    model.add(Convolution2D(128, (3, 3), activation='relu'))\n",
    "    model.add(MaxPooling2D(pool_size=(2, 2)))\n",
    "    model.add(Dropout(0.25))\n",
    "\n",
    "    model.add(Flatten())\n",
    "    model.add(Dense(512, activation='relu'))\n",
    "    model.add(Dropout(0.5))\n",
    "    model.add(Dense(nb_classes, activation='softmax'))\n",
    "    \n",
    "    optimizer = SGD(lr=0.01, decay=1e-6, momentum=0.9,\n",
    "                    nesterov=True)\n",
    "\n",
    "    model.compile(loss='categorical_crossentropy',\n",
    "                  optimizer=optimizer,\n",
    "                  metrics=['accuracy'])\n",
    "    return model"
   ]
  },
  {
   "cell_type": "markdown",
   "metadata": {
    "colab_type": "text",
    "id": "9ZEvUvdGsBic"
   },
   "source": [
    "## Evaluate on Subject C"
   ]
  },
  {
   "cell_type": "code",
   "execution_count": 48,
   "metadata": {
    "colab": {},
    "colab_type": "code",
    "id": "3dnZntKrsBic"
   },
   "outputs": [],
   "source": [
    "data_split = split_train_validation_test(\"C\") # subject c is test subject\n",
    "\n",
    "# 80% of each subject (excluding C)\n",
    "train_data = data_split[\"train_data\"]\n",
    "train_labels = data_split[\"train_labels\"]\n",
    "\n",
    "# 20% taken from each subject (excluding C)\n",
    "validation_data = data_split[\"validation_data\"]\n",
    "validation_labels = data_split[\"validation_labels\"]\n",
    "\n",
    "# subject C\n",
    "test_data = data_split[\"test_data\"]\n",
    "test_labels = data_split[\"test_labels\"]"
   ]
  },
  {
   "cell_type": "code",
   "execution_count": 49,
   "metadata": {
    "colab": {
     "base_uri": "https://localhost:8080/",
     "height": 714
    },
    "colab_type": "code",
    "executionInfo": {
     "elapsed": 1250294,
     "status": "ok",
     "timestamp": 1552056658916,
     "user": {
      "displayName": "Andrew Mackay",
      "photoUrl": "https://lh3.googleusercontent.com/-24hiGmdxZDE/AAAAAAAAAAI/AAAAAAAAL_I/RW7nqM11LkM/s64/photo.jpg",
      "userId": "06804410358976473893"
     },
     "user_tz": 0
    },
    "id": "lQNuCdRysBif",
    "outputId": "cacb7345-fb78-4c9c-ad1d-80b481f190ad"
   },
   "outputs": [],
   "source": [
    "if RUN_EVALUATIONS:\n",
    "    model = make_base_model()\n",
    "\n",
    "    history = model.fit(train_data, train_labels,\n",
    "                        batch_size=batch_size,\n",
    "                        epochs=nb_epochs,\n",
    "                        shuffle=True, \n",
    "                        validation_data=(validation_data, validation_labels),\n",
    "                        verbose=1)"
   ]
  },
  {
   "cell_type": "code",
   "execution_count": 50,
   "metadata": {
    "colab": {
     "base_uri": "https://localhost:8080/",
     "height": 34
    },
    "colab_type": "code",
    "executionInfo": {
     "elapsed": 11534,
     "status": "ok",
     "timestamp": 1552056837139,
     "user": {
      "displayName": "Andrew Mackay",
      "photoUrl": "https://lh3.googleusercontent.com/-24hiGmdxZDE/AAAAAAAAAAI/AAAAAAAAL_I/RW7nqM11LkM/s64/photo.jpg",
      "userId": "06804410358976473893"
     },
     "user_tz": 0
    },
    "id": "qCJVE9hNsBim",
    "outputId": "057d6be5-08c6-4eec-db10-61bf68bb3515"
   },
   "outputs": [],
   "source": [
    "if RUN_EVALUATIONS:\n",
    "    results = evaluate_model(model, test_data, test_labels, batch_size, target_names)\n",
    "    results[\"history\"] = history.history"
   ]
  },
  {
   "cell_type": "markdown",
   "metadata": {
    "colab_type": "text",
    "id": "gtkdinzjtTv0"
   },
   "source": [
    "## Save Results"
   ]
  },
  {
   "cell_type": "code",
   "execution_count": 51,
   "metadata": {
    "colab": {},
    "colab_type": "code",
    "id": "GTLXfvAhtOU7"
   },
   "outputs": [],
   "source": [
    "if SAVE_RESULTS_TEST_C_BASE:\n",
    "    with open(RESULTS_PATH + \"results_test_c_base.pkl\", 'wb') as results_file:\n",
    "        pickle.dump(results, results_file)"
   ]
  },
  {
   "cell_type": "markdown",
   "metadata": {
    "colab_type": "text",
    "id": "ijkgdcz-tOVH"
   },
   "source": [
    "## Load Results"
   ]
  },
  {
   "cell_type": "code",
   "execution_count": 52,
   "metadata": {
    "colab": {},
    "colab_type": "code",
    "id": "xPDwwpo0tOVK"
   },
   "outputs": [],
   "source": [
    "with open(RESULTS_PATH + \"results_test_c_base.pkl\", 'rb') as results_file:\n",
    "    results = pickle.load(results_file)"
   ]
  },
  {
   "cell_type": "markdown",
   "metadata": {
    "colab_type": "text",
    "id": "f9XGRt0PtOVX"
   },
   "source": [
    "## Visualize Results"
   ]
  },
  {
   "cell_type": "code",
   "execution_count": 53,
   "metadata": {
    "colab": {
     "base_uri": "https://localhost:8080/",
     "height": 34
    },
    "colab_type": "code",
    "executionInfo": {
     "elapsed": 575,
     "status": "ok",
     "timestamp": 1552056846044,
     "user": {
      "displayName": "Andrew Mackay",
      "photoUrl": "https://lh3.googleusercontent.com/-24hiGmdxZDE/AAAAAAAAAAI/AAAAAAAAL_I/RW7nqM11LkM/s64/photo.jpg",
      "userId": "06804410358976473893"
     },
     "user_tz": 0
    },
    "id": "Uw-srbUAsBi_",
    "outputId": "07b6b251-5cd3-4419-a74e-e5a516b2649f"
   },
   "outputs": [
    {
     "name": "stdout",
     "output_type": "stream",
     "text": [
      "Accuracy: 77.26587998995733\n"
     ]
    }
   ],
   "source": [
    "print(\"Accuracy:\", results[\"accuracy\"]*100)"
   ]
  },
  {
   "cell_type": "markdown",
   "metadata": {
    "colab_type": "text",
    "id": "ZAQT0GUGehoN"
   },
   "source": [
    "### Accuracy"
   ]
  },
  {
   "cell_type": "code",
   "execution_count": 54,
   "metadata": {
    "colab": {},
    "colab_type": "code",
    "id": "3TG23dv0ZiER",
    "outputId": "23a58a05-0b1f-4586-97a8-43aa68e4d2b2"
   },
   "outputs": [
    {
     "data": {
      "image/png": "[encoded data removed]",
      "text/plain": [
       "<Figure size 432x288 with 1 Axes>"
      ]
     },
     "metadata": {
      "needs_background": "light"
     },
     "output_type": "display_data"
    }
   ],
   "source": [
    "training_acc = results[\"history\"]['acc']\n",
    "test_acc = results[\"history\"]['val_acc']\n",
    "\n",
    "# Create count of the number of epochs\n",
    "epoch_count = range(1, len(training_acc) + 1)\n",
    "\n",
    "# Visualize loss history\n",
    "plt.plot(epoch_count, training_acc, 'b--')\n",
    "plt.plot(epoch_count, test_acc, 'r-')\n",
    "plt.legend(['Training Accuracy', 'Test Accuracy'])\n",
    "plt.xlabel('Epoch')\n",
    "plt.ylabel('Accuracy')\n",
    "plt.title(\"Comparison of Training vs Test Accuracy\")\n",
    "plt.grid()\n",
    "if SAVE_GRAPHS_TEST_C:\n",
    "    plt.savefig(RESULTS_PATH + \"training_vs_test_acc_base.pdf\", format='pdf')\n",
    "plt.show()"
   ]
  },
  {
   "cell_type": "markdown",
   "metadata": {
    "colab_type": "text",
    "id": "8w4V_UCpek2w"
   },
   "source": [
    "### Loss"
   ]
  },
  {
   "cell_type": "code",
   "execution_count": 55,
   "metadata": {
    "colab": {},
    "colab_type": "code",
    "id": "9gOHRHu1eoZa",
    "outputId": "2af5bdda-38f9-4b65-8785-db2dfa99f7ce"
   },
   "outputs": [
    {
     "data": {
      "image/png": "[encoded data removed]",
      "text/plain": [
       "<Figure size 432x288 with 1 Axes>"
      ]
     },
     "metadata": {
      "needs_background": "light"
     },
     "output_type": "display_data"
    }
   ],
   "source": [
    "training_loss = results[\"history\"]['loss']\n",
    "test_loss = results[\"history\"]['val_loss']\n",
    "\n",
    "# Create count of the number of epochs\n",
    "epoch_count = range(1, len(training_loss) + 1)\n",
    "\n",
    "# Visualize loss history\n",
    "plt.plot(epoch_count, training_loss, 'b--')\n",
    "plt.plot(epoch_count, test_loss, 'r-')\n",
    "plt.legend(['Training Loss', 'Test Loss'])\n",
    "plt.xlabel('Epoch')\n",
    "plt.ylabel('Loss')\n",
    "plt.title(\"Comparison of Training vs Test Loss\")\n",
    "plt.grid()\n",
    "if SAVE_GRAPHS_TEST_C:\n",
    "    plt.savefig(RESULTS_PATH + \"training_vs_test_loss_base.pdf\", format='pdf')\n",
    "plt.show()"
   ]
  },
  {
   "cell_type": "markdown",
   "metadata": {
    "colab_type": "text",
    "id": "Lj9PbHEyepnH"
   },
   "source": [
    "### Confusion Matrix"
   ]
  },
  {
   "cell_type": "code",
   "execution_count": 56,
   "metadata": {
    "colab": {},
    "colab_type": "code",
    "id": "cHUVuo_rcOis",
    "outputId": "e6626c5b-902a-41d0-8ed5-de884b13526d",
    "scrolled": true
   },
   "outputs": [
    {
     "data": {
      "image/png": "[encoded data removed]",
      "text/plain": [
       "<Figure size 432x288 with 2 Axes>"
      ]
     },
     "metadata": {
      "needs_background": "light"
     },
     "output_type": "display_data"
    }
   ],
   "source": [
    "plot_confusion_matrix(results[\"confusion_matrix\"], target_names,\n",
    "                      save=SAVE_GRAPHS_TEST_C, path=RESULTS_PATH + \"confusion_matrix_base.pdf\")"
   ]
  },
  {
   "cell_type": "code",
   "execution_count": 57,
   "metadata": {
    "colab": {},
    "colab_type": "code",
    "id": "Dde-vCn5sBjb"
   },
   "outputs": [],
   "source": [
    "K.clear_session()"
   ]
  },
  {
   "cell_type": "markdown",
   "metadata": {
    "colab_type": "text",
    "id": "oVIApBO7sBjf"
   },
   "source": [
    "# Evaluating on subset of the data (all subjects) 5-Fold\n",
    "use 60% for training, 20% for validation (early stopping) and the final 20% for testing."
   ]
  },
  {
   "cell_type": "code",
   "execution_count": 58,
   "metadata": {
    "colab": {},
    "colab_type": "code",
    "id": "QT5KP8pksBjg"
   },
   "outputs": [],
   "source": [
    "k_fold_results = {}\n",
    "number_of_folds = 5\n",
    "for fold in range(number_of_folds):\n",
    "    k_fold_results[str(fold)] = {}"
   ]
  },
  {
   "cell_type": "code",
   "execution_count": 59,
   "metadata": {
    "colab": {
     "base_uri": "https://localhost:8080/",
     "height": 3672
    },
    "colab_type": "code",
    "executionInfo": {
     "elapsed": 5881270,
     "status": "ok",
     "timestamp": 1552062826867,
     "user": {
      "displayName": "Andrew Mackay",
      "photoUrl": "https://lh3.googleusercontent.com/-24hiGmdxZDE/AAAAAAAAAAI/AAAAAAAAL_I/RW7nqM11LkM/s64/photo.jpg",
      "userId": "06804410358976473893"
     },
     "user_tz": 0
    },
    "id": "u5_dId2vsBjj",
    "outputId": "0134d324-5002-4cae-e775-82dd09583318",
    "scrolled": true
   },
   "outputs": [],
   "source": [
    "if RUN_EVALUATIONS:\n",
    "    average_accuracy = 0\n",
    "    average_loss = 0\n",
    "    for fold in range(number_of_folds):\n",
    "        test_fold = fold\n",
    "        validation_fold = (test_fold + 1) % number_of_folds\n",
    "        print(\"Fold:\", fold)\n",
    "\n",
    "        data_split = split_data(test_fold, validation_fold, number_of_folds)\n",
    "\n",
    "        train_data = data_split[\"train_data\"]\n",
    "        train_labels = data_split[\"train_labels\"]\n",
    "        validation_data = data_split[\"validation_data\"]\n",
    "        validation_labels = data_split[\"validation_labels\"]\n",
    "        test_data = data_split[\"test_data\"]\n",
    "        test_labels = data_split[\"test_labels\"]\n",
    "\n",
    "        model = make_base_model()\n",
    "\n",
    "        history = model.fit(train_data, train_labels,\n",
    "                            batch_size=batch_size,\n",
    "                            epochs=nb_epochs,\n",
    "                            shuffle=True, \n",
    "                            validation_data=(validation_data, validation_labels),\n",
    "                            verbose=1)\n",
    "\n",
    "        results = evaluate_model(model, test_data, test_labels, batch_size, target_names)\n",
    "        average_accuracy += results[\"accuracy\"]\n",
    "        average_loss += results[\"loss\"]\n",
    "        k_fold_results[str(fold)][\"accuracy\"] = results[\"accuracy\"]\n",
    "        k_fold_results[str(fold)][\"loss\"] = results[\"loss\"]\n",
    "\n",
    "    k_fold_results[\"average_accuracy\"] = average_accuracy/number_of_folds\n",
    "    k_fold_results[\"average_loss\"] = average_loss/number_of_folds"
   ]
  },
  {
   "cell_type": "markdown",
   "metadata": {
    "colab_type": "text",
    "id": "6yz4eV0h07l3"
   },
   "source": [
    "## Save Results"
   ]
  },
  {
   "cell_type": "code",
   "execution_count": 60,
   "metadata": {
    "colab": {},
    "colab_type": "code",
    "id": "XmQDR76R1HYA"
   },
   "outputs": [],
   "source": [
    "if SAVE_RESULTS_20_BASE:\n",
    "    with open(RESULTS_PATH + \"results_test_20_base.pkl\", 'wb') as results_file:\n",
    "        pickle.dump(k_fold_results, results_file)"
   ]
  },
  {
   "cell_type": "markdown",
   "metadata": {
    "colab_type": "text",
    "id": "ecH9-LzN07wB"
   },
   "source": [
    "## Load Results"
   ]
  },
  {
   "cell_type": "code",
   "execution_count": 61,
   "metadata": {
    "colab": {},
    "colab_type": "code",
    "id": "6sRKOOMg1NNW"
   },
   "outputs": [],
   "source": [
    "with open(RESULTS_PATH + \"results_test_20_base.pkl\", 'rb') as results_file:\n",
    "    k_fold_results = pickle.load(results_file)"
   ]
  },
  {
   "cell_type": "markdown",
   "metadata": {
    "colab_type": "text",
    "id": "wot77Dja08UF"
   },
   "source": [
    "## Visualize Results"
   ]
  },
  {
   "cell_type": "markdown",
   "metadata": {
    "colab_type": "text",
    "id": "I3Y7gER3sBj7"
   },
   "source": [
    "### Accuracy Fold Distribution"
   ]
  },
  {
   "cell_type": "code",
   "execution_count": 62,
   "metadata": {
    "colab": {
     "base_uri": "https://localhost:8080/",
     "height": 51
    },
    "colab_type": "code",
    "executionInfo": {
     "elapsed": 861,
     "status": "ok",
     "timestamp": 1552071751852,
     "user": {
      "displayName": "Andrew Mackay",
      "photoUrl": "https://lh3.googleusercontent.com/-24hiGmdxZDE/AAAAAAAAAAI/AAAAAAAAL_I/RW7nqM11LkM/s64/photo.jpg",
      "userId": "06804410358976473893"
     },
     "user_tz": 0
    },
    "id": "tqU3R6EHsBj5",
    "outputId": "4be35cc7-ccfc-43a1-87c6-f7625755bc88"
   },
   "outputs": [
    {
     "name": "stdout",
     "output_type": "stream",
     "text": [
      "Average Accuracy: 95.22222271006763\n",
      "Average Loss: 0.17260923809344053\n"
     ]
    }
   ],
   "source": [
    "print(\"Average Accuracy:\", k_fold_results[\"average_accuracy\"]*100)\n",
    "print(\"Average Loss:\", k_fold_results[\"average_loss\"])"
   ]
  },
  {
   "cell_type": "code",
   "execution_count": 63,
   "metadata": {
    "colab": {
     "base_uri": "https://localhost:8080/",
     "height": 362
    },
    "colab_type": "code",
    "executionInfo": {
     "elapsed": 924,
     "status": "ok",
     "timestamp": 1552071755652,
     "user": {
      "displayName": "Andrew Mackay",
      "photoUrl": "https://lh3.googleusercontent.com/-24hiGmdxZDE/AAAAAAAAAAI/AAAAAAAAL_I/RW7nqM11LkM/s64/photo.jpg",
      "userId": "06804410358976473893"
     },
     "user_tz": 0
    },
    "id": "L_gtcCrxsBj8",
    "outputId": "ba765885-9441-4685-cb45-28338a0b180f"
   },
   "outputs": [
    {
     "data": {
      "image/png": "[encoded data removed]",
      "text/plain": [
       "<Figure size 432x288 with 1 Axes>"
      ]
     },
     "metadata": {
      "needs_background": "light"
     },
     "output_type": "display_data"
    }
   ],
   "source": [
    "accuracies = []\n",
    "for fold in range(number_of_folds):\n",
    "    accuracies.append(k_fold_results[str(fold)][\"accuracy\"]*100)\n",
    "\n",
    "plt.boxplot(accuracies, zorder=3)\n",
    "plt.title(\"Fold Performance Distribution Comparison\")\n",
    "# plt.xlabel(\"Model\")\n",
    "plt.ylabel(\"Classification Accuracy (%)\")\n",
    "plt.grid(axis='y', zorder=0)\n",
    "if SAVE_GRAPHS_20_BASE:\n",
    "     plt.savefig(RESULTS_PATH + \"boxplot_20_base.pdf\", format='pdf')"
   ]
  },
  {
   "cell_type": "code",
   "execution_count": 64,
   "metadata": {
    "colab": {},
    "colab_type": "code",
    "id": "kKVhIMYMsBj-"
   },
   "outputs": [],
   "source": [
    "K.clear_session()"
   ]
  },
  {
   "cell_type": "markdown",
   "metadata": {
    "colab_type": "text",
    "id": "_s0EB8RxsBkE"
   },
   "source": [
    "# Six-Fold Cross-Validation\n",
    "Same method as employed when comparing the original model except this time user all users."
   ]
  },
  {
   "cell_type": "code",
   "execution_count": 65,
   "metadata": {
    "colab": {},
    "colab_type": "code",
    "id": "8CeNbtdisBkE"
   },
   "outputs": [],
   "source": [
    "results_six_fold = {}\n",
    "for user in users:\n",
    "    results_six_fold[user] = {}"
   ]
  },
  {
   "cell_type": "code",
   "execution_count": 66,
   "metadata": {
    "colab": {
     "base_uri": "https://localhost:8080/",
     "height": 4335
    },
    "colab_type": "code",
    "executionInfo": {
     "elapsed": 7725681,
     "status": "ok",
     "timestamp": 1552079529697,
     "user": {
      "displayName": "Andrew Mackay",
      "photoUrl": "https://lh3.googleusercontent.com/-24hiGmdxZDE/AAAAAAAAAAI/AAAAAAAAL_I/RW7nqM11LkM/s64/photo.jpg",
      "userId": "06804410358976473893"
     },
     "user_tz": 0
    },
    "id": "Xg-3mxa6sBkH",
    "outputId": "8bddf6ee-a8da-45fa-96ae-dfd2ae809e58"
   },
   "outputs": [],
   "source": [
    "if RUN_EVALUATIONS:\n",
    "    average_accuracy = 0\n",
    "    average_loss = 0\n",
    "    for user in users:\n",
    "        data_split = split_train_validation_test(user)\n",
    "        train_data = data_split[\"train_data\"]\n",
    "        train_labels = data_split[\"train_labels\"]\n",
    "        validation_data = data_split[\"validation_data\"]\n",
    "        validation_labels = data_split[\"validation_labels\"]\n",
    "        test_data = data_split[\"test_data\"]\n",
    "        test_labels = data_split[\"test_labels\"]\n",
    "\n",
    "        model = make_base_model()\n",
    "\n",
    "        history = model.fit(train_data, train_labels,\n",
    "                            batch_size=batch_size,\n",
    "                            epochs=nb_epochs,\n",
    "                            shuffle=True, \n",
    "                            validation_data=(validation_data, validation_labels),\n",
    "                            verbose=1)\n",
    "\n",
    "        results = evaluate_model(model, test_data, test_labels, batch_size, target_names)\n",
    "        average_accuracy += results[\"accuracy\"]\n",
    "        average_loss += results[\"loss\"]\n",
    "        results_six_fold[user][\"accuracy\"] = results[\"accuracy\"]\n",
    "        results_six_fold[user][\"loss\"] = results[\"loss\"]\n",
    "\n",
    "    results_six_fold[\"avg_loss\"] = average_loss/len(users)\n",
    "    results_six_fold[\"avg_acc\"] = average_accuracy/len(users)\n",
    "    print(\"Average Loss:\", average_loss/len(users))\n",
    "    print(\"Average Accuracy:\", average_accuracy/len(users))"
   ]
  },
  {
   "cell_type": "markdown",
   "metadata": {
    "colab_type": "text",
    "id": "bvM5zfQNsBkJ"
   },
   "source": [
    "## Save Results"
   ]
  },
  {
   "cell_type": "code",
   "execution_count": 67,
   "metadata": {
    "colab": {},
    "colab_type": "code",
    "id": "ivkx9iXKsBkK"
   },
   "outputs": [],
   "source": [
    "if SAVE_RESULTS_6_FOLD_BASE:\n",
    "    with open(RESULTS_PATH + \"results_6_fold_base.pkl\", 'wb') as results_file:\n",
    "        pickle.dump(results_six_fold, results_file)"
   ]
  },
  {
   "cell_type": "markdown",
   "metadata": {
    "colab_type": "text",
    "id": "B1ijhm7MsBkL"
   },
   "source": [
    "## Load Results"
   ]
  },
  {
   "cell_type": "code",
   "execution_count": 68,
   "metadata": {
    "colab": {},
    "colab_type": "code",
    "id": "x6BSW-J7sBkN"
   },
   "outputs": [],
   "source": [
    "with open(RESULTS_PATH + \"results_6_fold_base.pkl\", 'rb') as results_file:\n",
    "    results_six_fold = pickle.load(results_file)"
   ]
  },
  {
   "cell_type": "markdown",
   "metadata": {
    "colab_type": "text",
    "id": "vpVGmOQisBkQ"
   },
   "source": [
    "## Visualize Results"
   ]
  },
  {
   "cell_type": "code",
   "execution_count": 69,
   "metadata": {
    "colab": {
     "base_uri": "https://localhost:8080/",
     "height": 51
    },
    "colab_type": "code",
    "executionInfo": {
     "elapsed": 1377127,
     "status": "ok",
     "timestamp": 1552079530514,
     "user": {
      "displayName": "Andrew Mackay",
      "photoUrl": "https://lh3.googleusercontent.com/-24hiGmdxZDE/AAAAAAAAAAI/AAAAAAAAL_I/RW7nqM11LkM/s64/photo.jpg",
      "userId": "06804410358976473893"
     },
     "user_tz": 0
    },
    "id": "VpVcD6BGsBkT",
    "outputId": "8c037c78-e2cd-4735-9778-768bcfdbb30f"
   },
   "outputs": [
    {
     "name": "stdout",
     "output_type": "stream",
     "text": [
      "Average Accuracy: 77.00016737802326\n",
      "Average Loss: 2.056575826932806\n"
     ]
    }
   ],
   "source": [
    "print(\"Average Accuracy:\", results_six_fold[\"avg_acc\"]*100)\n",
    "print(\"Average Loss:\", results_six_fold[\"avg_loss\"])"
   ]
  },
  {
   "cell_type": "code",
   "execution_count": 70,
   "metadata": {
    "colab": {
     "base_uri": "https://localhost:8080/",
     "height": 376
    },
    "colab_type": "code",
    "executionInfo": {
     "elapsed": 1445,
     "status": "ok",
     "timestamp": 1552080052840,
     "user": {
      "displayName": "Andrew Mackay",
      "photoUrl": "https://lh3.googleusercontent.com/-24hiGmdxZDE/AAAAAAAAAAI/AAAAAAAAL_I/RW7nqM11LkM/s64/photo.jpg",
      "userId": "06804410358976473893"
     },
     "user_tz": 0
    },
    "id": "SGlz-i9IsBkZ",
    "outputId": "2db122c1-881c-4f3b-e6a5-3742d6393677",
    "scrolled": true
   },
   "outputs": [
    {
     "data": {
      "image/png": "[encoded data removed]",
      "text/plain": [
       "<Figure size 432x288 with 1 Axes>"
      ]
     },
     "metadata": {
      "needs_background": "light"
     },
     "output_type": "display_data"
    }
   ],
   "source": [
    "accuracies = []\n",
    "for user in users:\n",
    "    accuracies.append(results_six_fold[user][\"accuracy\"]*100)\n",
    "\n",
    "plt.boxplot(accuracies, zorder=3)\n",
    "plt.title(\"Fold Performance Distribution Comparison\")\n",
    "plt.xlabel(\"Model\")\n",
    "plt.ylabel(\"Classification Accuracy (%)\")\n",
    "plt.grid(axis='y', zorder=0)\n",
    "if SAVE_GRAPHS_6_FOLD:\n",
    "     plt.savefig(RESULTS_PATH + \"boxplot_6_fold_base.pdf\", format='pdf')"
   ]
  },
  {
   "cell_type": "code",
   "execution_count": 71,
   "metadata": {
    "colab": {},
    "colab_type": "code",
    "id": "Y1eZivnDsBkc",
    "outputId": "4317bc71-2009-4d5c-e982-b2a125754c6d",
    "scrolled": false
   },
   "outputs": [
    {
     "data": {
      "image/png": "[encoded data removed]",
      "text/plain": [
       "<Figure size 432x288 with 1 Axes>"
      ]
     },
     "metadata": {
      "needs_background": "light"
     },
     "output_type": "display_data"
    }
   ],
   "source": [
    "plt.bar(range(len(users)), accuracies, zorder=3)\n",
    "plt.xticks(range(len(users)), users)\n",
    "plt.xlabel(\"Subject (fold)\")\n",
    "plt.ylabel(\"Classification Accuracy (%)\")\n",
    "plt.title(\" Fold Accuracy Distribution\")\n",
    "plt.grid(axis='y', zorder=0)\n",
    "if SAVE_GRAPHS_6_FOLD_BASE:\n",
    "    plt.savefig(RESULTS_PATH + \"fold_accuracy_distribution_6_fold_base.pdf\", format='pdf')\n",
    "plt.show()"
   ]
  },
  {
   "cell_type": "code",
   "execution_count": null,
   "metadata": {},
   "outputs": [],
   "source": []
  }
 ],
 "metadata": {
  "accelerator": "GPU",
  "colab": {
   "collapsed_sections": [],
   "name": "10_CNN_final_model_evaluation.ipynb",
   "provenance": [],
   "version": "0.3.2"
  },
  "kernelspec": {
   "display_name": "Python 3",
   "language": "python",
   "name": "python3"
  },
  "language_info": {
   "codemirror_mode": {
    "name": "ipython",
    "version": 3
   },
   "file_extension": ".py",
   "mimetype": "text/x-python",
   "name": "python",
   "nbconvert_exporter": "python",
   "pygments_lexer": "ipython3",
   "version": "3.6.6"
  }
 },
 "nbformat": 4,
 "nbformat_minor": 1
}
