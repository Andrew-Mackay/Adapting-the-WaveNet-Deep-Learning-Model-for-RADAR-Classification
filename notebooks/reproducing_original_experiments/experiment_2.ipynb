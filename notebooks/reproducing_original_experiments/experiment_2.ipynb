{
 "cells": [
  {
   "cell_type": "markdown",
   "metadata": {
    "colab_type": "text",
    "id": "LnU4VGgjH1mW"
   },
   "source": [
    "# Experiment 2: Three different depths of models, trained on 5 of the 6 subjects then evaluated on the 6th. Increased number of epochs from experiment 1"
   ]
  },
  {
   "cell_type": "markdown",
   "metadata": {
    "colab_type": "text",
    "id": "2sqmYc1yQb-k"
   },
   "source": [
    "*   0 degree aspect angle\n",
    "*   Models:\n",
    "    *  2-4\n",
    "    *  8-16\n",
    "    *  32-64\n",
    "\n",
    "\n"
   ]
  },
  {
   "cell_type": "markdown",
   "metadata": {
    "colab_type": "text",
    "id": "bZxhO7V0ZHUE"
   },
   "source": [
    "## Notebook setup"
   ]
  },
  {
   "cell_type": "markdown",
   "metadata": {
    "colab_type": "text",
    "id": "x5jAnxaaZLzZ"
   },
   "source": [
    "Allow editing of modules using editor (auto reloading)"
   ]
  },
  {
   "cell_type": "code",
   "execution_count": 1,
   "metadata": {
    "colab": {},
    "colab_type": "code",
    "id": "TGNeUj-JDXhs"
   },
   "outputs": [],
   "source": [
    "# Needed to allow editing using PyCharm\n",
    "%load_ext autoreload\n",
    "%autoreload 2"
   ]
  },
  {
   "cell_type": "markdown",
   "metadata": {
    "colab_type": "text",
    "id": "QwLbqieVYIJt"
   },
   "source": [
    "Needed for compatibility when using both CoLab and Local Jupyter notebook. It sets the appropriate file path for the data and also installs local packages such as models and data_loading."
   ]
  },
  {
   "cell_type": "code",
   "execution_count": 2,
   "metadata": {
    "colab": {
     "base_uri": "https://localhost:8080/",
     "height": 166
    },
    "colab_type": "code",
    "executionInfo": {
     "elapsed": 5426,
     "status": "ok",
     "timestamp": 1540500334216,
     "user": {
      "displayName": "Andrew Mackay",
      "photoUrl": "https://lh3.googleusercontent.com/-24hiGmdxZDE/AAAAAAAAAAI/AAAAAAAAL_I/RW7nqM11LkM/s64/photo.jpg",
      "userId": "06804410358976473893"
     },
     "user_tz": -60
    },
    "id": "3XeU0HtoDXh6",
    "outputId": "3d6f6a45-aff4-4dde-add7-5533aa505549"
   },
   "outputs": [
    {
     "name": "stderr",
     "output_type": "stream",
     "text": [
      "Using TensorFlow backend.\n"
     ]
    }
   ],
   "source": [
    "import os\n",
    "if os.getcwd() == '/content':\n",
    "    from google.colab import drive\n",
    "    drive.mount('/content/gdrive')\n",
    "    BASE_PATH = '/content/gdrive/My Drive/Level-4-Project/'\n",
    "    !cd gdrive/My\\ Drive/Level-4-Project/ && pip install --editable .\n",
    "    os.chdir('gdrive/My Drive/Level-4-Project/')\n",
    "\n",
    "elif os.getcwd() == 'C:\\\\Users\\\\macka\\\\Google Drive\\\\Level-4-Project\\\\notebooks\\\\reproducing_original_experiments':\n",
    "    BASE_PATH = \"C:/Users/macka/Google Drive/Level-4-Project/\"\n",
    "    \n",
    "else:\n",
    "    BASE_PATH = \"/export/home/2192793m/Level-4-Project/\"\n",
    "    \n",
    "DATA_PATH = BASE_PATH + 'data/cifar_initialised/'\n",
    "MODEL_PATH = BASE_PATH + 'models/original_experiments/experiment_2/'\n",
    "FIGURE_PATH = BASE_PATH + 'reports/figures/original_experiments/experiment_2/'\n",
    "REPORT_PATH = BASE_PATH + 'reports/original_experiments/experiment_2/'\n",
    "    \n",
    "from src.models.original_models import cnn_various_depths\n",
    "from src.data import load_data\n",
    "from src.visualization import multiple_plots"
   ]
  },
  {
   "cell_type": "markdown",
   "metadata": {
    "colab_type": "text",
    "id": "rgYwaq1eZb5u"
   },
   "source": [
    "Import remaining packages"
   ]
  },
  {
   "cell_type": "code",
   "execution_count": 3,
   "metadata": {
    "colab": {},
    "colab_type": "code",
    "id": "x8rzmlEhpe_R"
   },
   "outputs": [],
   "source": [
    "import numpy as np\n",
    "import sys\n",
    "from six.moves import cPickle\n",
    "from keras.preprocessing.image import ImageDataGenerator\n",
    "from keras.optimizers import SGD\n",
    "from keras.utils import np_utils\n",
    "import sys\n",
    "from sklearn.metrics import classification_report, confusion_matrix\n",
    "import csv\n",
    "from keras.models import load_model"
   ]
  },
  {
   "cell_type": "code",
   "execution_count": 4,
   "metadata": {
    "colab": {},
    "colab_type": "code",
    "id": "PsHOJ9lEpe_V"
   },
   "outputs": [],
   "source": [
    "# Needed as originally code was for theano backend but now using tensor flow\n",
    "from keras import backend as K\n",
    "K.set_image_dim_ordering('th')"
   ]
  },
  {
   "cell_type": "markdown",
   "metadata": {
    "colab_type": "text",
    "id": "Oqq9LWY5ZiIB"
   },
   "source": [
    "## Experiment Setup and Parameter Definition"
   ]
  },
  {
   "cell_type": "code",
   "execution_count": null,
   "metadata": {
    "colab": {},
    "colab_type": "code",
    "id": "5r9302zCpe_j"
   },
   "outputs": [],
   "source": [
    "load_models = True\n",
    "\n",
    "batch_size = 100\n",
    "nb_classes = 7\n",
    "nb_epoch = 500\n",
    "# nb_epoch = 1\n",
    "nb_train_samples = 35595\n",
    "\n",
    "# input image dimensions\n",
    "img_rows, img_cols = 75, 75\n",
    "# the CIFAR10 images are RGB\n",
    "\n",
    "\n",
    "# the data, shuffled and split between train and test sets\n",
    "(X_train, y_train), (X_test, y_test) = load_data.load_data(DATA_PATH, nb_train_samples)\n",
    "\n",
    "# convert class vectors to binary class matrices\n",
    "Y_train = np_utils.to_categorical(y_train, nb_classes)\n",
    "Y_test = np_utils.to_categorical(y_test, nb_classes)\n",
    "X_train = X_train.astype('float32')\n",
    "X_test = X_test.astype('float32')\n",
    "X_train /= 255\n",
    "X_test /= 255 \n",
    "\n",
    "target_names = ['ArmFasterTowards', 'ArmSlowerTowards', 'CirclingArm', 'Clapping', 'PickingUp', 'Sitting', 'Walking']\n",
    "    \n",
    "models = {\"2-4\": {}, \"8-16\": {}, \"32-64\": {}}\n",
    "for name, model in models.items():\n",
    "    if load_models:\n",
    "        model[\"model\"] = load_model(MODEL_PATH + name + '.h5')\n",
    "    else:\n",
    "        model[\"model\"] = cnn_various_depths.make_model(name, img_rows, img_cols, nb_classes)"
   ]
  },
  {
   "cell_type": "markdown",
   "metadata": {
    "colab_type": "text",
    "id": "mjJ4B23bZz47"
   },
   "source": [
    "## Training and Evaluating Models"
   ]
  },
  {
   "cell_type": "code",
   "execution_count": null,
   "metadata": {
    "colab": {
     "base_uri": "https://localhost:8080/",
     "height": 224
    },
    "colab_type": "code",
    "executionInfo": {
     "elapsed": 67361,
     "status": "ok",
     "timestamp": 1540500410409,
     "user": {
      "displayName": "Andrew Mackay",
      "photoUrl": "https://lh3.googleusercontent.com/-24hiGmdxZDE/AAAAAAAAAAI/AAAAAAAAL_I/RW7nqM11LkM/s64/photo.jpg",
      "userId": "06804410358976473893"
     },
     "user_tz": -60
    },
    "id": "pKdiTJP6pe_n",
    "outputId": "a383d2c5-00b1-4b06-a1e1-1a3429ec5b3d"
   },
   "outputs": [],
   "source": [
    "for name, model_data in models.items():\n",
    "    if not load_models:\n",
    "        # train the model using SGD + momentum.\n",
    "        sgd = SGD(lr=0.01, decay=1e-6, momentum=0.9, nesterov=True)\n",
    "        model_data[\"model\"].compile(loss='categorical_crossentropy',\n",
    "                      optimizer=sgd,\n",
    "                      metrics=['accuracy'])\n",
    "\n",
    "        history = model_data[\"model\"].fit(\n",
    "            X_train,\n",
    "            Y_train,\n",
    "            batch_size=batch_size,\n",
    "            epochs=nb_epoch,\n",
    "            validation_data=(X_test, Y_test),\n",
    "            shuffle=True, \n",
    "            verbose=1)\n",
    "        model_data[\"history\"] = history\n",
    "\n",
    "    y_pred = model_data[\"model\"].predict_classes(X_test)\n",
    "    model_data[\"classification_report\"] = classification_report(np.argmax(Y_test,axis=1), y_pred,target_names=target_names)\n",
    "    model_data[\"confusion_matrix\"] = confusion_matrix(np.argmax(Y_test,axis=1), y_pred)\n"
   ]
  },
  {
   "cell_type": "markdown",
   "metadata": {
    "colab_type": "text",
    "id": "uU-i7-ijaNu-"
   },
   "source": [
    "## Analysis and Saving of Results"
   ]
  },
  {
   "cell_type": "code",
   "execution_count": 0,
   "metadata": {
    "colab": {},
    "colab_type": "code",
    "id": "k-h2_F9X0Y2I"
   },
   "outputs": [],
   "source": [
    "save_graph = True\n",
    "save_model = True\n",
    "save_report = True"
   ]
  },
  {
   "cell_type": "markdown",
   "metadata": {
    "colab_type": "text",
    "id": "uPtUcrLbU9VN"
   },
   "source": [
    "### Plot and Save graph"
   ]
  },
  {
   "cell_type": "code",
   "execution_count": 8,
   "metadata": {
    "colab": {
     "base_uri": "https://localhost:8080/",
     "height": 376
    },
    "colab_type": "code",
    "executionInfo": {
     "elapsed": 1419,
     "status": "ok",
     "timestamp": 1540500412830,
     "user": {
      "displayName": "Andrew Mackay",
      "photoUrl": "https://lh3.googleusercontent.com/-24hiGmdxZDE/AAAAAAAAAAI/AAAAAAAAL_I/RW7nqM11LkM/s64/photo.jpg",
      "userId": "06804410358976473893"
     },
     "user_tz": -60
    },
    "id": "G1tBPxtSU8qW",
    "outputId": "72275fbf-626c-4185-bbfc-ce8f8205b485"
   },
   "outputs": [
    {
     "data": {
      "image/png": "[encoded data removed]",
      "text/plain": [
       "<matplotlib.figure.Figure at 0x7fb3aabd6048>"
      ]
     },
     "metadata": {
      "tags": []
     },
     "output_type": "display_data"
    }
   ],
   "source": [
    "if not load_models:\n",
    "    multiple_plots.plot_multiple_val_acc(\n",
    "        models,\n",
    "        \"Model Depth Comparison\",\n",
    "        save=save_graph,\n",
    "        path=FIGURE_PATH + \"different_depths.svg\")"
   ]
  },
  {
   "cell_type": "markdown",
   "metadata": {
    "colab_type": "text",
    "id": "oKjaNI1Dezgg"
   },
   "source": [
    "### Save Models"
   ]
  },
  {
   "cell_type": "code",
   "execution_count": 0,
   "metadata": {
    "colab": {},
    "colab_type": "code",
    "id": "96xDrgFnVJxG"
   },
   "outputs": [],
   "source": [
    "if not load_models and save_model:\n",
    "    for name, model_data in models.items():\n",
    "        model_data['model'].save(MODEL_PATH + name + '.h5')"
   ]
  },
  {
   "cell_type": "markdown",
   "metadata": {
    "colab_type": "text",
    "id": "478w01d1xuFs"
   },
   "source": [
    "### Display and Save Classification Report and Confusion Matricies"
   ]
  },
  {
   "cell_type": "code",
   "execution_count": 0,
   "metadata": {
    "colab": {},
    "colab_type": "code",
    "id": "WE2MBBFdxnlR"
   },
   "outputs": [],
   "source": [
    "if save_report:\n",
    "    file = open(REPORT_PATH + 'Classification_and_Confusion.txt', 'w') \n",
    "\n",
    "    for name, model_data in models.items():\n",
    "        file.write(\"--------------------------------------------------\\n\") \n",
    "        file.write(\"Model Name: \" + name + \"\\n\") \n",
    "        file.write(\"Classification Report:\\n\") \n",
    "        file.write(model_data['classification_report'])\n",
    "        file.write(\"Confusion Matrix:\\n\") \n",
    "        file.write(np.array2string(model_data['confusion_matrix']) + \"\\n\")\n",
    "\n",
    "    file.close() "
   ]
  },
  {
   "cell_type": "code",
   "execution_count": 0,
   "metadata": {
    "colab": {},
    "colab_type": "code",
    "id": "_PO4Wg4h3pJz"
   },
   "outputs": [],
   "source": []
  }
 ],
 "metadata": {
  "accelerator": "GPU",
  "colab": {
   "collapsed_sections": [],
   "name": "experiment_2.ipynb",
   "provenance": [
    {
     "file_id": "1OzeyuUfiee5SHRUquqZwbmtuXG-9Mxc5",
     "timestamp": 1540411581062
    }
   ],
   "toc_visible": true,
   "version": "0.3.2"
  },
  "kernelspec": {
   "display_name": "Python 3",
   "language": "python",
   "name": "python3"
  },
  "language_info": {
   "codemirror_mode": {
    "name": "ipython",
    "version": 3
   },
   "file_extension": ".py",
   "mimetype": "text/x-python",
   "name": "python",
   "nbconvert_exporter": "python",
   "pygments_lexer": "ipython3",
   "version": "3.6.6"
  }
 },
 "nbformat": 4,
 "nbformat_minor": 1
}
