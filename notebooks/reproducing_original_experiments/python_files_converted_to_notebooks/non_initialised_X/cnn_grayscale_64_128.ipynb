{
 "cells": [
  {
   "cell_type": "markdown",
   "metadata": {
    "colab_type": "text",
    "id": "LnU4VGgjH1mW"
   },
   "source": [
    "# Sensitivity analysis on previous work"
   ]
  },
  {
   "cell_type": "markdown",
   "metadata": {
    "colab_type": "text",
    "id": "2sqmYc1yQb-k"
   },
   "source": [
    "Training data from 5 people and testing data\n",
    "from 1 person, with 0 degree aspect angle, all actions.  The letter (A, B, C or D)\n",
    "signifies the person whose data is used for the test samples."
   ]
  },
  {
   "cell_type": "code",
   "execution_count": 1,
   "metadata": {},
   "outputs": [],
   "source": [
    "# Needed to allow editing using PyCharm\n",
    "%load_ext autoreload\n",
    "%autoreload 2"
   ]
  },
  {
   "cell_type": "markdown",
   "metadata": {},
   "source": [
    "The following cell is needed for compatibility when using both CoLab and Local Jupyter notebook.\n",
    "It sets the appropriate file path for the data and also installs local packages such as models."
   ]
  },
  {
   "cell_type": "code",
   "execution_count": 2,
   "metadata": {},
   "outputs": [
    {
     "name": "stderr",
     "output_type": "stream",
     "text": [
      "Using TensorFlow backend.\n"
     ]
    }
   ],
   "source": [
    "import os\n",
    "if os.getcwd() == '/content':\n",
    "    from google.colab import drive\n",
    "    drive.mount('/content/gdrive')\n",
    "    FILE_PATH = '/content/gdrive/My Drive/Level-4-Project/data/'\n",
    "    !cd gdrive/My\\ Drive/Level-4-Project/ && pip install --editable .\n",
    "    os.chdir('gdrive/My Drive/Level-4-Project/')\n",
    "    \n",
    "else:\n",
    "    FILE_PATH = \"C:/Users/macka/Google Drive/Level-4-Project/data/\"\n",
    "    \n",
    "from src.models.original_models import non_initialised_X\n",
    "from src.data import load_data"
   ]
  },
  {
   "cell_type": "code",
   "execution_count": 3,
   "metadata": {
    "colab": {
     "base_uri": "https://localhost:8080/",
     "height": 34
    },
    "colab_type": "code",
    "executionInfo": {
     "elapsed": 2687,
     "status": "ok",
     "timestamp": 1539796792520,
     "user": {
      "displayName": "Andrew Mackay",
      "photoUrl": "",
      "userId": "06804410358976473893"
     },
     "user_tz": -60
    },
    "id": "_nstHjtlH0vD",
    "outputId": "faf4d395-9282-4339-af00-f87992f499a6"
   },
   "outputs": [],
   "source": [
    "import numpy as np\n",
    "import sys\n",
    "from six.moves import cPickle\n",
    "from keras.preprocessing.image import ImageDataGenerator\n",
    "from keras.optimizers import SGD\n",
    "from keras.utils import np_utils\n",
    "import sys\n",
    "from sklearn.metrics import classification_report,confusion_matrix\n",
    "import csv\n",
    "from keras.models import load_model"
   ]
  },
  {
   "cell_type": "code",
   "execution_count": 4,
   "metadata": {
    "colab": {},
    "colab_type": "code",
    "id": "3_F6WuaMJ78g"
   },
   "outputs": [],
   "source": [
    "# Needed as originally code was for theano backend but now using tensor flow\n",
    "from keras import backend as K\n",
    "K.set_image_dim_ordering('th')"
   ]
  },
  {
   "cell_type": "code",
   "execution_count": 5,
   "metadata": {
    "colab": {},
    "colab_type": "code",
    "id": "510V9-2WJ97v"
   },
   "outputs": [],
   "source": [
    "data_folders = ['noninitialised_A', 'noninitialised_B', 'noninitialised_C', 'noninitialised_D']"
   ]
  },
  {
   "cell_type": "code",
   "execution_count": 6,
   "metadata": {
    "colab": {},
    "colab_type": "code",
    "id": "xzxLAZjqIsxg"
   },
   "outputs": [],
   "source": [
    "batch_size = 100\n",
    "nb_classes = 7\n",
    "nb_epoch = 150\n",
    "nb_epoch = 1 # orignally 150\n",
    "data_augmentation = False\n",
    "nb_train_samples = 34720\n",
    "# input image dimensions\n",
    "img_rows, img_cols = 75, 75\n",
    "# the CIFAR10 images are RGB"
   ]
  },
  {
   "cell_type": "code",
   "execution_count": null,
   "metadata": {
    "colab": {
     "base_uri": "https://localhost:8080/",
     "height": 2278
    },
    "colab_type": "code",
    "executionInfo": {
     "elapsed": 658193,
     "status": "ok",
     "timestamp": 1539797486037,
     "user": {
      "displayName": "Andrew Mackay",
      "photoUrl": "",
      "userId": "06804410358976473893"
     },
     "user_tz": -60
    },
    "id": "zBSi_XeaSswZ",
    "outputId": "a79ada09-b2a1-4f27-c6df-3f4e70888c65"
   },
   "outputs": [
    {
     "name": "stdout",
     "output_type": "stream",
     "text": [
      "load data called\n",
      "load batch called\n",
      "34720 6944.0\n",
      "load batch called\n",
      "34720 6944.0\n",
      "load batch called\n",
      "34720 6944.0\n",
      "load batch called\n",
      "34720 6944.0\n",
      "load batch called\n",
      "34720 6944.0\n",
      "load batch called\n",
      "X_train shape: (34720, 1, 75, 75)\n",
      "34720 train samples\n",
      "6944 test samples\n",
      "Not using data augmentation.\n",
      "Train on 34720 samples, validate on 6944 samples\n",
      "Epoch 1/1\n"
     ]
    }
   ],
   "source": [
    "for data_folder in data_folders:\n",
    "    # the data, shuffled and split between train and test sets\n",
    "    (X_train, y_train), (X_test, y_test) = load_data.load_data((FILE_PATH + data_folder), nb_train_samples)\n",
    "    print('X_train shape:', X_train.shape)\n",
    "    print(X_train.shape[0], 'train samples')\n",
    "    print(X_test.shape[0], 'test samples')\n",
    "\n",
    "    # convert class vectors to binary class matrices\n",
    "    Y_train = np_utils.to_categorical(y_train, nb_classes)\n",
    "    Y_test = np_utils.to_categorical(y_test, nb_classes)\n",
    "\n",
    "    model = non_initialised_X.make_model(img_rows, img_cols, nb_classes)\n",
    "    \n",
    "    # let's train the model using SGD + momentum (how original).\n",
    "    sgd = SGD(lr=0.01, decay=1e-6, momentum=0.9, nesterov=True)\n",
    "    model.compile(loss='categorical_crossentropy',\n",
    "                  optimizer=sgd,\n",
    "                  metrics=['accuracy'])\n",
    "\n",
    "    X_train = X_train.astype('float32')\n",
    "    X_test = X_test.astype('float32')\n",
    "    X_train /= 255\n",
    "    X_test /= 255\n",
    "\n",
    "    if not data_augmentation:\n",
    "        print('Not using data augmentation.')\n",
    "        hist = model.fit(X_train, Y_train,\n",
    "                  batch_size=batch_size,\n",
    "                  epochs=nb_epoch,\n",
    "                  validation_data=(X_test, Y_test),\n",
    "                  shuffle=True)\n",
    "\n",
    "        y_pred = model.predict_classes(X_test)\n",
    "        print(y_pred)\n",
    "        target_names = ['ArmFasterTowards', 'ArmSlowerTowards', 'CirclingArm', 'Clapping', 'PickingUp', 'Sitting', 'Walking']\n",
    "#         sys.stdout = open('/home/aleksandar/newest_sets/noninitialised_A/results/report_noninitialised_A_64_128_.txt', \"w\")\n",
    "        print(\"CLASSIFICATION REPORT:\")\n",
    "        print(classification_report(np.argmax(Y_test,axis=1), y_pred,target_names=target_names))\n",
    "        print (\"\\n\")\n",
    "        print(\"CONFUSION MATRIX:\")\n",
    "        print(confusion_matrix(np.argmax(Y_test,axis=1), y_pred))\n",
    "\n",
    "#         with open('/home/aleksandar/newest_sets/noninitialised_A/results/graphs_noninitialised_A_64_128.csv', \"w\") as f:\n",
    "#            w = csv.writer(f)\n",
    "#            train_loss = hist.history['loss']\n",
    "#            val_loss = hist.history['val_loss']\n",
    "#            train_acc = hist.history['acc']\n",
    "#            val_acc = hist.history['val_acc']\n",
    "#            helplist = list(zip(train_loss, train_acc, val_loss, val_acc))\n",
    "#            w.writerow(\"train_loss, train_acc, val_loss, val_acc\")\n",
    "#            for val in helplist:\n",
    "#               w.writerow([val])\n",
    "#         model.save('/home/aleksandar/newest_sets/noninitialised_A/results/model_noninitialised_A_64_128.h5')\n",
    "\n",
    "    else:\n",
    "        print('Using real-time data augmentation.')\n",
    "\n",
    "        # this will do preprocessing and realtime data augmentation\n",
    "        datagen = ImageDataGenerator(\n",
    "            featurewise_center=False,  # set input mean to 0 over the dataset\n",
    "            samplewise_center=False,  # set each sample mean to 0\n",
    "            featurewise_std_normalization=False,  # divide inputs by std of the dataset\n",
    "            samplewise_std_normalization=False,  # divide each input by its std\n",
    "            zca_whitening=False,  # apply ZCA whitening\n",
    "            rotation_range=0,  # randomly rotate images in the range (degrees, 0 to 180)\n",
    "            width_shift_range=0.1,  # randomly shift images horizontally (fraction of total width)\n",
    "            height_shift_range=0.1,  # randomly shift images vertically (fraction of total height)\n",
    "            horizontal_flip=True,  # randomly flip images\n",
    "            vertical_flip=False)  # randomly flip images\n",
    "\n",
    "        # compute quantities required for featurewise normalization\n",
    "        # (std, mean, and principal components if ZCA whitening is applied)\n",
    "        datagen.fit(X_train)\n",
    "\n",
    "        # fit the model on the batches generated by datagen.flow()\n",
    "        hist = model.fit_generator(datagen.flow(X_train, Y_train,\n",
    "                            batch_size=batch_size),\n",
    "                            samples_per_epoch=X_train.shape[0],\n",
    "                            nb_epoch=nb_epoch,\n",
    "                            validation_data=(X_test, Y_test))\n",
    "\n",
    "        y_pred = model.predict_classes(X_test)\n",
    "        print(y_pred)\n",
    "        target_names = ['ArmFasterTowards', 'ArmSlowerTowards', 'CirclingArm', 'Clapping', 'PickingUp', 'Sitting', 'Walking']\n",
    "#         sys.stdout = open('/home/aleksandar/sets/cifar_noninitialised_A/results/report_noninitialised_A_2_4.txt', \"w\")\n",
    "        print(\"CLASSIFICATION REPORT:\")\n",
    "        print(classification_report(np.argmax(Y_test,axis=1), y_pred,target_names=target_names))\n",
    "        print (\"\\n\")\n",
    "        print(\"CONFUSION MATRIX:\")\n",
    "        print(confusion_matrix(np.argmax(Y_test,axis=1), y_pred))\n",
    "\n",
    "#         with open('/home/aleksandar/sets/cifar_noninitialised_A/results/graphs_noninitialised_A_2_4.csv', \"w\") as f:\n",
    "#            w = csv.writer(f)\n",
    "#            train_loss = hist.history['loss']\n",
    "#            val_loss = hist.history['val_loss']\n",
    "#            train_acc = hist.history['acc']\n",
    "#            val_acc = hist.history['val_acc']\n",
    "#            helplist = list(zip(train_loss, train_acc, val_loss, val_acc))\n",
    "#            w.writerow(\"train_loss, train_acc, val_loss, val_acc\")\n",
    "#            for val in helplist:\n",
    "#               w.writerow([val])\n",
    "\n",
    "\n",
    "#         model.save('/home/aleksandar/sets/cifar_noninitialised_A/results/model_noninitialised_A_2_4.h5')"
   ]
  },
  {
   "cell_type": "code",
   "execution_count": 0,
   "metadata": {
    "colab": {},
    "colab_type": "code",
    "id": "T-ik5S9ab4o_"
   },
   "outputs": [],
   "source": []
  }
 ],
 "metadata": {
  "accelerator": "GPU",
  "colab": {
   "collapsed_sections": [],
   "name": "cnn_grayscale_64_128.ipynb",
   "provenance": [],
   "version": "0.3.2"
  },
  "kernelspec": {
   "display_name": "Python 3",
   "language": "python",
   "name": "python3"
  },
  "language_info": {
   "codemirror_mode": {
    "name": "ipython",
    "version": 3
   },
   "file_extension": ".py",
   "mimetype": "text/x-python",
   "name": "python",
   "nbconvert_exporter": "python",
   "pygments_lexer": "ipython3",
   "version": "3.6.6"
  }
 },
 "nbformat": 4,
 "nbformat_minor": 1
}
