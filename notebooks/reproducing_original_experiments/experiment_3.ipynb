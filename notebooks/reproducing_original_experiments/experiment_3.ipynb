{
 "cells": [
  {
   "cell_type": "markdown",
   "metadata": {
    "colab_type": "text",
    "id": "LnU4VGgjH1mW"
   },
   "source": [
    "# Experiment 3: Trained the network with 5 subjects at aspect angle 0 degree then tested on the 6th subject at aspect angles 0, 30, 45 and 60 degrees"
   ]
  },
  {
   "cell_type": "markdown",
   "metadata": {
    "colab_type": "text",
    "id": "KsxFbtxjrEa5"
   },
   "source": [
    "\n",
    "\n",
    "*   Trained with 5 subjects at aspect angle 0 degrees\n",
    "*   Tested on the 6th subject for 0, 30, 45 and 60 degrees\n",
    "*   Modified from original paper to not validate on every test set for each epoch as Keras does not provide this functionality\n",
    "*   **Possibly no walking?** **Wrong 0degrees test data**\n"
   ]
  },
  {
   "cell_type": "markdown",
   "metadata": {
    "colab_type": "text",
    "id": "Mr7QseaRVsjZ"
   },
   "source": [
    "## Notebook setup"
   ]
  },
  {
   "cell_type": "markdown",
   "metadata": {
    "colab_type": "text",
    "id": "H1gtP-TvVy1v"
   },
   "source": [
    "Allow editing of modules using editor (auto reloading)"
   ]
  },
  {
   "cell_type": "code",
   "execution_count": 1,
   "metadata": {
    "colab": {},
    "colab_type": "code",
    "id": "jNRvXhO5p_5k"
   },
   "outputs": [],
   "source": [
    "# Needed to allow editing using PyCharm\n",
    "%load_ext autoreload\n",
    "%autoreload 2"
   ]
  },
  {
   "cell_type": "markdown",
   "metadata": {
    "colab_type": "text",
    "id": "pzqNZXFvkSuo"
   },
   "source": [
    "Needed for compatibility when using both CoLab and Local Jupyter notebook. It sets the appropriate file path for the data and also installs local packages such as models and data_loading."
   ]
  },
  {
   "cell_type": "code",
   "execution_count": 2,
   "metadata": {
    "colab": {
     "base_uri": "https://localhost:8080/",
     "height": 166
    },
    "colab_type": "code",
    "executionInfo": {
     "elapsed": 6765,
     "status": "ok",
     "timestamp": 1540845241843,
     "user": {
      "displayName": "Andrew Mackay",
      "photoUrl": "https://lh3.googleusercontent.com/-24hiGmdxZDE/AAAAAAAAAAI/AAAAAAAAL_I/RW7nqM11LkM/s64/photo.jpg",
      "userId": "06804410358976473893"
     },
     "user_tz": 0
    },
    "id": "DXjJ363Vp_5y",
    "outputId": "e2fd5927-1ad4-4418-b47c-f193e917d440"
   },
   "outputs": [
    {
     "name": "stderr",
     "output_type": "stream",
     "text": [
      "Using TensorFlow backend.\n"
     ]
    }
   ],
   "source": [
    "import os\n",
    "if os.getcwd() == '/content':\n",
    "    from google.colab import drive\n",
    "    drive.mount('/content/gdrive')\n",
    "    BASE_PATH = '/content/gdrive/My Drive/Level-4-Project/'\n",
    "    !cd gdrive/My\\ Drive/Level-4-Project/ && pip install --editable .\n",
    "    os.chdir('gdrive/My Drive/Level-4-Project/')\n",
    "    \n",
    "elif os.getcwd() == 'C:\\\\Users\\\\macka\\\\Google Drive\\\\Level-4-Project\\\\notebooks\\\\reproducing_original_experiments':\n",
    "    BASE_PATH = \"C:/Users/macka/Google Drive/Level-4-Project/\"\n",
    "    \n",
    "else:\n",
    "    BASE_PATH = \"/export/home/2192793m/Level-4-Project/\"\n",
    "    \n",
    "DATA_PATH = BASE_PATH + 'data/'\n",
    "MODEL_PATH = BASE_PATH + 'models/original_experiments/experiment_3/'\n",
    "FIGURE_PATH = BASE_PATH + 'reports/figures/original_experiments/experiment_3/'\n",
    "REPORT_PATH = BASE_PATH + 'reports/original_experiments/experiment_3/'\n",
    "    \n",
    "from src.models.original_models import cnn_64_128\n",
    "from src.data import load_data\n",
    "from src.visualization import visualize"
   ]
  },
  {
   "cell_type": "markdown",
   "metadata": {
    "colab_type": "text",
    "id": "9gDPGJcAl3XL"
   },
   "source": [
    "Import remaining packages"
   ]
  },
  {
   "cell_type": "code",
   "execution_count": 3,
   "metadata": {
    "colab": {},
    "colab_type": "code",
    "id": "_nstHjtlH0vD"
   },
   "outputs": [],
   "source": [
    "import numpy as np\n",
    "import sys\n",
    "from six.moves import cPickle\n",
    "from keras.preprocessing.image import ImageDataGenerator\n",
    "from keras.optimizers import SGD\n",
    "from keras.utils import np_utils\n",
    "import sys\n",
    "from sklearn.metrics import classification_report,confusion_matrix\n",
    "import csv\n",
    "from keras.models import load_model"
   ]
  },
  {
   "cell_type": "code",
   "execution_count": 4,
   "metadata": {
    "colab": {},
    "colab_type": "code",
    "id": "3_F6WuaMJ78g"
   },
   "outputs": [],
   "source": [
    "# Needed as originally code was for theano backend but now using tensor flow\n",
    "from keras import backend as K\n",
    "K.set_image_dim_ordering('th')"
   ]
  },
  {
   "cell_type": "markdown",
   "metadata": {
    "colab_type": "text",
    "id": "FTg4Xkl2l63B"
   },
   "source": [
    "## Experiment Setup and Parameter Definition"
   ]
  },
  {
   "cell_type": "code",
   "execution_count": 5,
   "metadata": {
    "colab": {},
    "colab_type": "code",
    "id": "510V9-2WJ97v"
   },
   "outputs": [],
   "source": [
    "data_folders = {'mixed_angle_A':{}, 'cifar_30deg':{}, 'cifar_45deg':{}, 'cifar_60deg':{}}\n",
    "for key, value in data_folders.items():\n",
    "    value[\"acc\"] = None\n",
    "    value[\"loss\"] = None\n",
    "    value[\"classification_report\"] = None\n",
    "    value[\"confusion_matrix\"] = None\n",
    "    \n",
    "target_names = ['ArmFasterTowards', 'ArmSlowerTowards', 'CirclingArm', 'Clapping', 'PickingUp', 'Sitting']"
   ]
  },
  {
   "cell_type": "code",
   "execution_count": 6,
   "metadata": {
    "colab": {},
    "colab_type": "code",
    "id": "xzxLAZjqIsxg"
   },
   "outputs": [],
   "source": [
    "load_model_flag = True\n",
    "\n",
    "batch_size = 100\n",
    "nb_classes = 6\n",
    "nb_epoch = 100\n",
    "# nb_epoch = 1\n",
    "nb_train_samples = 34260\n",
    "\n",
    "# input image dimensions\n",
    "img_rows, img_cols = 75, 75\n",
    "# the CIFAR10 images are RGB"
   ]
  },
  {
   "cell_type": "code",
   "execution_count": 7,
   "metadata": {
    "colab": {},
    "colab_type": "code",
    "id": "shFS3vIk1YJW"
   },
   "outputs": [],
   "source": [
    "# the data, shuffled and split between train and test sets\n",
    "(X_train, y_train), (X_test, y_test) = load_data.load_data((DATA_PATH + 'cifar_30deg'), nb_train_samples)\n",
    "Y_train = np_utils.to_categorical(y_train, nb_classes)"
   ]
  },
  {
   "cell_type": "markdown",
   "metadata": {
    "colab_type": "text",
    "id": "mjJ4B23bZz47"
   },
   "source": [
    "## Training and Evaluating Models"
   ]
  },
  {
   "cell_type": "markdown",
   "metadata": {
    "colab_type": "text",
    "id": "AE9zHQHta8l3"
   },
   "source": [
    "### Train"
   ]
  },
  {
   "cell_type": "code",
   "execution_count": 8,
   "metadata": {
    "colab": {},
    "colab_type": "code",
    "id": "WQEQBNz_XYYr"
   },
   "outputs": [],
   "source": [
    "from keras.models import Sequential\n",
    "from keras.layers import Dense, Dropout, Flatten\n",
    "from keras.layers import Convolution2D, MaxPooling2D, ZeroPadding2D"
   ]
  },
  {
   "cell_type": "code",
   "execution_count": 9,
   "metadata": {
    "colab": {
     "base_uri": "https://localhost:8080/",
     "height": 56
    },
    "colab_type": "code",
    "executionInfo": {
     "elapsed": 4912,
     "status": "ok",
     "timestamp": 1540845260899,
     "user": {
      "displayName": "Andrew Mackay",
      "photoUrl": "https://lh3.googleusercontent.com/-24hiGmdxZDE/AAAAAAAAAAI/AAAAAAAAL_I/RW7nqM11LkM/s64/photo.jpg",
      "userId": "06804410358976473893"
     },
     "user_tz": 0
    },
    "id": "ZIFqpJWKa7gm",
    "outputId": "6996e4f7-f966-442f-cbb7-ac8a386b631a"
   },
   "outputs": [],
   "source": [
    "if load_model_flag:\n",
    "    model = load_model(MODEL_PATH + \"64-128.h5\")\n",
    "else:\n",
    "    model = cnn_64_128.make_model(img_rows, img_cols, nb_classes)\n",
    "    # Train the model using SGD + momentum.\n",
    "    sgd = SGD(lr=0.01, decay=1e-6, momentum=0.9, nesterov=True)\n",
    "    model.compile(loss='categorical_crossentropy', optimizer=sgd, metrics=['accuracy'])\n",
    "\n",
    "    X_train = X_train.astype('float32')\n",
    "    X_train /= 255\n",
    "\n",
    "    history = model.fit(\n",
    "        X_train,\n",
    "        Y_train,\n",
    "        batch_size=batch_size,\n",
    "        epochs=nb_epoch,\n",
    "        shuffle=True, \n",
    "        verbose=1)"
   ]
  },
  {
   "cell_type": "markdown",
   "metadata": {
    "colab_type": "text",
    "id": "Ts4XJ5VQbalz"
   },
   "source": [
    "### Evaluate for each Aspect Angle"
   ]
  },
  {
   "cell_type": "code",
   "execution_count": 10,
   "metadata": {
    "colab": {
     "base_uri": "https://localhost:8080/",
     "height": 224
    },
    "colab_type": "code",
    "executionInfo": {
     "elapsed": 46868,
     "status": "ok",
     "timestamp": 1540845307822,
     "user": {
      "displayName": "Andrew Mackay",
      "photoUrl": "https://lh3.googleusercontent.com/-24hiGmdxZDE/AAAAAAAAAAI/AAAAAAAAL_I/RW7nqM11LkM/s64/photo.jpg",
      "userId": "06804410358976473893"
     },
     "user_tz": 0
    },
    "id": "zBSi_XeaSswZ",
    "outputId": "7460b484-06da-49ca-ad01-8fa6bdb4e5a4"
   },
   "outputs": [
    {
     "name": "stdout",
     "output_type": "stream",
     "text": [
      "mixed_angle_A\n",
      "8690/8690 [==============================] - 36s 4ms/step\n"
     ]
    },
    {
     "name": "stderr",
     "output_type": "stream",
     "text": [
      "C:\\Users\\macka\\Anaconda3\\envs\\dataScience\\lib\\site-packages\\sklearn\\metrics\\classification.py:1143: UndefinedMetricWarning: Precision and F-score are ill-defined and being set to 0.0 in labels with no predicted samples.\n",
      "  'precision', 'predicted', average, warn_for)\n"
     ]
    },
    {
     "name": "stdout",
     "output_type": "stream",
     "text": [
      "cifar_30deg\n",
      "6852/6852 [==============================] - 22s 3ms/step\n",
      "cifar_45deg\n",
      "6852/6852 [==============================] - 20s 3ms/step\n",
      "cifar_60deg\n",
      "6852/6852 [==============================] - 20s 3ms/step\n"
     ]
    }
   ],
   "source": [
    "for folder_name, value in data_folders.items():    \n",
    "    X_test, y_test = load_data.load_batch(DATA_PATH + folder_name + '/test_batch')\n",
    "    y_test = np.reshape(y_test, (len(y_test), 1))\n",
    "    Y_test = np_utils.to_categorical(y_test, nb_classes)\n",
    "    print(folder_name)\n",
    "    evaluation = model.evaluate(X_test, Y_test, batch_size=batch_size, verbose=1)\n",
    "    value[\"loss\"] = evaluation[0]\n",
    "    value[\"accuracy\"] = evaluation[1]\n",
    "\n",
    "    y_pred = model.predict_classes(X_test)\n",
    "    value[\"classification_report\"] = classification_report(\n",
    "        np.argmax(Y_test,axis=1),\n",
    "        y_pred,target_names=target_names)\n",
    "    value[\"confusion_matrix\"] = confusion_matrix(\n",
    "        np.argmax(Y_test,axis=1), y_pred)"
   ]
  },
  {
   "cell_type": "markdown",
   "metadata": {
    "colab_type": "text",
    "id": "NOGmtRK55fBu"
   },
   "source": [
    "## Analysis and Saving of Results"
   ]
  },
  {
   "cell_type": "code",
   "execution_count": 11,
   "metadata": {
    "colab": {},
    "colab_type": "code",
    "id": "jNasTpt0yHzz"
   },
   "outputs": [],
   "source": [
    "save_graphs = True\n",
    "save_training_graph = False\n",
    "save_model = False\n",
    "save_report = False"
   ]
  },
  {
   "cell_type": "markdown",
   "metadata": {
    "colab_type": "text",
    "id": "IkMbhNuSlgg-"
   },
   "source": [
    "### Plot and Save graphs"
   ]
  },
  {
   "cell_type": "code",
   "execution_count": 12,
   "metadata": {
    "colab": {},
    "colab_type": "code",
    "id": "-0t1zknjymT_"
   },
   "outputs": [],
   "source": [
    "if not load_model_flag:\n",
    "    visualize.plot_train_acc(\n",
    "        history, \"Training Accuracy\", save=save_training_graph,\n",
    "        path=FIGURE_PATH + \"model_train_accuracy.svg\")\n",
    "    visualize.plot_train_loss(\n",
    "        history, \"Training Loss\", save=save_training_graph,\n",
    "        path=FIGURE_PATH + \"model_train_loss.svg\")"
   ]
  },
  {
   "cell_type": "code",
   "execution_count": 13,
   "metadata": {
    "colab": {
     "base_uri": "https://localhost:8080/",
     "height": 376
    },
    "colab_type": "code",
    "executionInfo": {
     "elapsed": 1284,
     "status": "ok",
     "timestamp": 1540845312130,
     "user": {
      "displayName": "Andrew Mackay",
      "photoUrl": "https://lh3.googleusercontent.com/-24hiGmdxZDE/AAAAAAAAAAI/AAAAAAAAL_I/RW7nqM11LkM/s64/photo.jpg",
      "userId": "06804410358976473893"
     },
     "user_tz": 0
    },
    "id": "Xl4fYSzlnyMQ",
    "outputId": "4b5edf4e-b325-4d16-fafb-55515be97c53"
   },
   "outputs": [
    {
     "data": {
      "image/png": "[encoded data removed]",
      "text/plain": [
       "<Figure size 432x288 with 1 Axes>"
      ]
     },
     "metadata": {
      "needs_background": "light"
     },
     "output_type": "display_data"
    }
   ],
   "source": [
    "visualize.plot_evaluation_bar(\n",
    "    data_folders,\n",
    "    ['0°','30°', '45°', '60°'],\n",
    "    \"Effect of Aspect Angle on Classification\",\n",
    "    'Aspect Angle',\n",
    "    'Test Accuracy',\n",
    "    save=save_graphs,\n",
    "    path=FIGURE_PATH + \"accuracy.svg\")"
   ]
  },
  {
   "cell_type": "code",
   "execution_count": 14,
   "metadata": {
    "colab": {
     "base_uri": "https://localhost:8080/",
     "height": 376
    },
    "colab_type": "code",
    "executionInfo": {
     "elapsed": 1738,
     "status": "ok",
     "timestamp": 1540845314335,
     "user": {
      "displayName": "Andrew Mackay",
      "photoUrl": "https://lh3.googleusercontent.com/-24hiGmdxZDE/AAAAAAAAAAI/AAAAAAAAL_I/RW7nqM11LkM/s64/photo.jpg",
      "userId": "06804410358976473893"
     },
     "user_tz": 0
    },
    "id": "4xK5z2XNiCBG",
    "outputId": "f60d0563-a96c-467c-cae5-16c4789f45aa"
   },
   "outputs": [
    {
     "data": {
      "image/png": "[encoded data removed]",
      "text/plain": [
       "<Figure size 432x288 with 1 Axes>"
      ]
     },
     "metadata": {
      "needs_background": "light"
     },
     "output_type": "display_data"
    }
   ],
   "source": [
    "visualize.plot_evaluation_bar(\n",
    "    data_folders,\n",
    "    ['0°','30°', '45°', '60°'],\n",
    "    \"Effect of Aspect Angle on Classification\",\n",
    "    'Aspect Angle',\n",
    "    'Test Loss',\n",
    "    metric=\"loss\",\n",
    "    save=save_graphs,\n",
    "    path=FIGURE_PATH + \"loss.svg\")"
   ]
  },
  {
   "cell_type": "markdown",
   "metadata": {
    "colab_type": "text",
    "id": "3RbO87Khlm4p"
   },
   "source": [
    "### Save Model"
   ]
  },
  {
   "cell_type": "code",
   "execution_count": null,
   "metadata": {
    "colab": {},
    "colab_type": "code",
    "id": "_PO4Wg4h3pJz"
   },
   "outputs": [],
   "source": [
    "if not load_model_flag and save_model:\n",
    "    model.save(MODEL_PATH + \"cnn_64_128.h5\")"
   ]
  },
  {
   "cell_type": "markdown",
   "metadata": {
    "colab_type": "text",
    "id": "478w01d1xuFs"
   },
   "source": [
    "### Save Classification Report and Confusion Matricies"
   ]
  },
  {
   "cell_type": "code",
   "execution_count": null,
   "metadata": {
    "colab": {},
    "colab_type": "code",
    "id": "WE2MBBFdxnlR"
   },
   "outputs": [],
   "source": [
    "if save_report:\n",
    "    file = open(REPORT_PATH + 'Classification_and_Confusion.txt', 'w') \n",
    "\n",
    "    for folder_name, value in data_folders.items():    \n",
    "        file.write(\"--------------------------------------------------\\n\") \n",
    "        file.write(\"Test set name: \" + folder_name + \"\\n\") \n",
    "        file.write(\"Accuracy: \" + str(np.round(value[\"accuracy\"], 2)) + \"\\n\")\n",
    "        file.write(\"Loss: \" + str(np.round(value[\"loss\"], 2)) + \"\\n\")\n",
    "        file.write(\"Classification Report:\\n\") \n",
    "        file.write(value['classification_report'])\n",
    "        file.write(\"Confusion Matrix:\\n\") \n",
    "        file.write(np.array2string(value['confusion_matrix']) + \"\\n\")\n",
    "\n",
    "    file.close() "
   ]
  },
  {
   "cell_type": "code",
   "execution_count": null,
   "metadata": {
    "colab": {},
    "colab_type": "code",
    "id": "T-ik5S9ab4o_"
   },
   "outputs": [],
   "source": []
  }
 ],
 "metadata": {
  "accelerator": "GPU",
  "colab": {
   "collapsed_sections": [],
   "name": "experiment_3.ipynb",
   "provenance": [
    {
     "file_id": "1Oj1RXokuUxggDxhwR3Fn6YkDp0hxAsWk",
     "timestamp": 1540411649066
    }
   ],
   "toc_visible": true,
   "version": "0.3.2"
  },
  "kernelspec": {
   "display_name": "Python 3",
   "language": "python",
   "name": "python3"
  },
  "language_info": {
   "codemirror_mode": {
    "name": "ipython",
    "version": 3
   },
   "file_extension": ".py",
   "mimetype": "text/x-python",
   "name": "python",
   "nbconvert_exporter": "python",
   "pygments_lexer": "ipython3",
   "version": "3.6.6"
  }
 },
 "nbformat": 4,
 "nbformat_minor": 1
}
