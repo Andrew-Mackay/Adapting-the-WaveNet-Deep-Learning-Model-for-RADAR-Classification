{
 "cells": [
  {
   "cell_type": "markdown",
   "metadata": {
    "colab_type": "text",
    "id": "aKiZGaZYFoY_"
   },
   "source": [
    "# Experiment 5: The model is trained on 3s long samples then evaluated for 1s, 1.5s and 2s data. \n"
   ]
  },
  {
   "cell_type": "markdown",
   "metadata": {
    "colab_type": "text",
    "id": "vRyozSxpQIn1"
   },
   "source": [
    "*   Training data from 5 subjects\n",
    "*   Test data from remaining subject\n",
    "*   0 degree aspect angle\n",
    "*   64-128 model"
   ]
  },
  {
   "cell_type": "markdown",
   "metadata": {
    "colab_type": "text",
    "id": "0kxOQxK7lqGN"
   },
   "source": [
    "## Notebook setup"
   ]
  },
  {
   "cell_type": "markdown",
   "metadata": {
    "colab_type": "text",
    "id": "B4DxR7RIlons"
   },
   "source": [
    "Allow editing of modules using editor (auto reloading)"
   ]
  },
  {
   "cell_type": "code",
   "execution_count": 1,
   "metadata": {
    "colab": {},
    "colab_type": "code",
    "id": "THkZhmuukSuW"
   },
   "outputs": [],
   "source": [
    "%load_ext autoreload\n",
    "%autoreload 2"
   ]
  },
  {
   "cell_type": "markdown",
   "metadata": {
    "colab_type": "text",
    "id": "pzqNZXFvkSuo"
   },
   "source": [
    "Needed for compatibility when using both CoLab and Local Jupyter notebook. It sets the appropriate file path for the data and also installs local packages such as models and data_loading."
   ]
  },
  {
   "cell_type": "code",
   "execution_count": 2,
   "metadata": {
    "colab": {
     "base_uri": "https://localhost:8080/",
     "height": 166
    },
    "colab_type": "code",
    "executionInfo": {
     "elapsed": 6037,
     "status": "ok",
     "timestamp": 1540501487010,
     "user": {
      "displayName": "Andrew Mackay",
      "photoUrl": "https://lh3.googleusercontent.com/-24hiGmdxZDE/AAAAAAAAAAI/AAAAAAAAL_I/RW7nqM11LkM/s64/photo.jpg",
      "userId": "06804410358976473893"
     },
     "user_tz": -60
    },
    "id": "nUodEZamkSut",
    "outputId": "278c0e50-600e-4db7-f5f7-f143cab0b5ca"
   },
   "outputs": [
    {
     "name": "stderr",
     "output_type": "stream",
     "text": [
      "Using TensorFlow backend.\n"
     ]
    }
   ],
   "source": [
    "import os\n",
    "if os.getcwd() == '/content':\n",
    "    from google.colab import drive\n",
    "    drive.mount('/content/gdrive')\n",
    "    BASE_PATH = '/content/gdrive/My Drive/Level-4-Project/'\n",
    "    !cd gdrive/My\\ Drive/Level-4-Project/ && pip install --editable .\n",
    "    os.chdir('gdrive/My Drive/Level-4-Project/')\n",
    "    \n",
    "elif os.getcwd() == 'C:\\\\Users\\\\macka\\\\Google Drive\\\\Level-4-Project\\\\notebooks\\\\reproducing_original_experiments':\n",
    "    BASE_PATH = \"C:/Users/macka/Google Drive/Level-4-Project/\"\n",
    "    \n",
    "else:\n",
    "    BASE_PATH = \"/export/home/2192793m/Level-4-Project/\"\n",
    "    \n",
    "DATA_PATH = BASE_PATH + 'data/'\n",
    "MODEL_PATH = BASE_PATH + 'models/original_experiments/experiment_5/'\n",
    "FIGURE_PATH = BASE_PATH + 'reports/figures/original_experiments/experiment_5/'\n",
    "REPORT_PATH = BASE_PATH + 'reports/original_experiments/experiment_5/'\n",
    "\n",
    "from src.models.original_models import cnn_64_128\n",
    "from src.data import load_data\n",
    "from src.visualization import visualize"
   ]
  },
  {
   "cell_type": "markdown",
   "metadata": {
    "colab_type": "text",
    "id": "9gDPGJcAl3XL"
   },
   "source": [
    "Import remaining packages"
   ]
  },
  {
   "cell_type": "code",
   "execution_count": 3,
   "metadata": {
    "colab": {},
    "colab_type": "code",
    "id": "uG34HRWVWhlh"
   },
   "outputs": [],
   "source": [
    "import numpy as np\n",
    "import sys\n",
    "from six.moves import cPickle\n",
    "from keras.preprocessing.image import ImageDataGenerator\n",
    "from keras.optimizers import SGD\n",
    "from keras.utils import np_utils\n",
    "import sys\n",
    "from sklearn.metrics import classification_report, confusion_matrix\n",
    "import csv\n",
    "from keras.models import load_model"
   ]
  },
  {
   "cell_type": "code",
   "execution_count": 4,
   "metadata": {
    "colab": {},
    "colab_type": "code",
    "id": "Pj4f4FHhWhlv"
   },
   "outputs": [],
   "source": [
    "# Needed as originally code was for theano backend but now using tensor flow\n",
    "from keras import backend as K\n",
    "K.set_image_dim_ordering('th')"
   ]
  },
  {
   "cell_type": "markdown",
   "metadata": {
    "colab_type": "text",
    "id": "FTg4Xkl2l63B"
   },
   "source": [
    "## Experiment Setup and Parameter Definition"
   ]
  },
  {
   "cell_type": "code",
   "execution_count": 5,
   "metadata": {
    "colab": {},
    "colab_type": "code",
    "id": "510V9-2WJ97v"
   },
   "outputs": [],
   "source": [
    "data_folders = {'1s':{}, '1_5s':{}, '2s':{}, 'noninitialised_A':{}}\n",
    "for key, value in data_folders.items():\n",
    "    value[\"acc\"] = None\n",
    "    value[\"loss\"] = None\n",
    "    value[\"classification_report\"] = None\n",
    "    value[\"confusion_matrix\"] = None\n",
    "    \n",
    "target_names = ['ArmFasterTowards', 'ArmSlowerTowards', 'CirclingArm', 'Clapping', 'PickingUp', 'Sitting', 'Walking']"
   ]
  },
  {
   "cell_type": "code",
   "execution_count": 6,
   "metadata": {
    "colab": {},
    "colab_type": "code",
    "id": "VViMxboMWhmH"
   },
   "outputs": [],
   "source": [
    "load_model_flag = True\n",
    "\n",
    "batch_size = 100\n",
    "nb_classes = 7\n",
    "nb_epoch = 100\n",
    "# nb_epoch = 1\n",
    "nb_train_samples = 34720\n",
    "# input image dimensions\n",
    "img_rows, img_cols = 75, 75\n",
    "# the CIFAR10 images are RGB"
   ]
  },
  {
   "cell_type": "code",
   "execution_count": 7,
   "metadata": {
    "colab": {},
    "colab_type": "code",
    "id": "zqNjNCRLb6yR"
   },
   "outputs": [],
   "source": [
    "(X_train, y_train), (X_test, y_test) = load_data.load_data((DATA_PATH + '1s'), nb_train_samples)\n",
    "Y_train = np_utils.to_categorical(y_train, nb_classes)"
   ]
  },
  {
   "cell_type": "code",
   "execution_count": 8,
   "metadata": {
    "colab": {},
    "colab_type": "code",
    "id": "W_5-9U0GmBZS"
   },
   "outputs": [],
   "source": [
    "if load_model_flag:\n",
    "    model = load_model(MODEL_PATH + \"cnn_64_128.h5\")\n",
    "else:\n",
    "    model = cnn_64_128.make_model(img_rows, img_cols, nb_classes)"
   ]
  },
  {
   "cell_type": "markdown",
   "metadata": {
    "colab_type": "text",
    "id": "-tYML-iRmDPl"
   },
   "source": [
    "## Training and Evaluating Models\n"
   ]
  },
  {
   "cell_type": "markdown",
   "metadata": {
    "colab_type": "text",
    "id": "20tdqMyQc6_y"
   },
   "source": [
    "### Train"
   ]
  },
  {
   "cell_type": "code",
   "execution_count": 9,
   "metadata": {
    "colab": {
     "base_uri": "https://localhost:8080/",
     "height": 93
    },
    "colab_type": "code",
    "executionInfo": {
     "elapsed": 71505,
     "status": "ok",
     "timestamp": 1540501580022,
     "user": {
      "displayName": "Andrew Mackay",
      "photoUrl": "https://lh3.googleusercontent.com/-24hiGmdxZDE/AAAAAAAAAAI/AAAAAAAAL_I/RW7nqM11LkM/s64/photo.jpg",
      "userId": "06804410358976473893"
     },
     "user_tz": -60
    },
    "id": "VYYfkvRrc_Pi",
    "outputId": "70d2fc38-1fa5-4005-d31e-f6bcebc16564"
   },
   "outputs": [],
   "source": [
    "if not load_model_flag:\n",
    "    # Train the model using SGD + momentum.\n",
    "    sgd = SGD(lr=0.01, decay=1e-6, momentum=0.9, nesterov=True)\n",
    "    model.compile(loss='categorical_crossentropy', optimizer=sgd, metrics=['accuracy'])\n",
    "\n",
    "    X_train = X_train.astype('float32')\n",
    "    X_train /= 255\n",
    "\n",
    "    history = model.fit(\n",
    "        X_train,\n",
    "        Y_train,\n",
    "        batch_size=batch_size,\n",
    "        epochs=nb_epoch,\n",
    "        shuffle=True, \n",
    "        verbose=1)"
   ]
  },
  {
   "cell_type": "markdown",
   "metadata": {
    "colab_type": "text",
    "id": "Ts4XJ5VQbalz"
   },
   "source": [
    "### Evaluate for each dataset"
   ]
  },
  {
   "cell_type": "code",
   "execution_count": 10,
   "metadata": {
    "colab": {
     "base_uri": "https://localhost:8080/",
     "height": 92
    },
    "colab_type": "code",
    "executionInfo": {
     "elapsed": 46600,
     "status": "ok",
     "timestamp": 1540501626703,
     "user": {
      "displayName": "Andrew Mackay",
      "photoUrl": "https://lh3.googleusercontent.com/-24hiGmdxZDE/AAAAAAAAAAI/AAAAAAAAL_I/RW7nqM11LkM/s64/photo.jpg",
      "userId": "06804410358976473893"
     },
     "user_tz": -60
    },
    "id": "zBSi_XeaSswZ",
    "outputId": "b2c57dd0-45e0-4253-ba7b-afb61b7c2551"
   },
   "outputs": [
    {
     "name": "stdout",
     "output_type": "stream",
     "text": [
      "6944/6944 [==============================] - 25s 4ms/step\n",
      "6944/6944 [==============================] - 21s 3ms/step\n",
      "6944/6944 [==============================] - 20s 3ms/step\n",
      "6944/6944 [==============================] - 20s 3ms/step\n"
     ]
    }
   ],
   "source": [
    "for folder_name, value in data_folders.items():    \n",
    "    X_test, y_test = load_data.load_batch(DATA_PATH + folder_name + '/test_batch')\n",
    "    y_test = np.reshape(y_test, (len(y_test), 1))\n",
    "    Y_test = np_utils.to_categorical(y_test, nb_classes)\n",
    "    evaluation = model.evaluate(X_test, Y_test, batch_size=batch_size, verbose=1)\n",
    "    value[\"loss\"] = evaluation[0]\n",
    "    value[\"accuracy\"] = evaluation[1]\n",
    "\n",
    "    y_pred = model.predict_classes(X_test)\n",
    "    value[\"classification_report\"] = classification_report(\n",
    "        np.argmax(Y_test,axis=1),\n",
    "        y_pred,target_names=target_names)\n",
    "    value[\"confusion_matrix\"] = confusion_matrix(\n",
    "        np.argmax(Y_test,axis=1), y_pred)"
   ]
  },
  {
   "cell_type": "markdown",
   "metadata": {
    "colab_type": "text",
    "id": "8qeSf-Uedjei"
   },
   "source": [
    "## Analysis and Saving of Results"
   ]
  },
  {
   "cell_type": "code",
   "execution_count": 11,
   "metadata": {
    "colab": {},
    "colab_type": "code",
    "id": "Rt25C-mPpgP5"
   },
   "outputs": [],
   "source": [
    "save_graphs = True\n",
    "save_model = False\n",
    "save_report = False"
   ]
  },
  {
   "cell_type": "markdown",
   "metadata": {
    "colab_type": "text",
    "id": "IkMbhNuSlgg-"
   },
   "source": [
    "### Plot and Save graphs"
   ]
  },
  {
   "cell_type": "code",
   "execution_count": 12,
   "metadata": {
    "colab": {
     "base_uri": "https://localhost:8080/",
     "height": 735
    },
    "colab_type": "code",
    "executionInfo": {
     "elapsed": 1483,
     "status": "ok",
     "timestamp": 1540501629144,
     "user": {
      "displayName": "Andrew Mackay",
      "photoUrl": "https://lh3.googleusercontent.com/-24hiGmdxZDE/AAAAAAAAAAI/AAAAAAAAL_I/RW7nqM11LkM/s64/photo.jpg",
      "userId": "06804410358976473893"
     },
     "user_tz": -60
    },
    "id": "nn0qwfjodpRc",
    "outputId": "e8cf7211-56dd-40de-d63b-d431ea5f31e3"
   },
   "outputs": [],
   "source": [
    "if not load_model_flag:\n",
    "    visualize.plot_train_acc(\n",
    "        history, \"Training Accuracy\", save=save_graphs,\n",
    "        path=FIGURE_PATH + \"model_train_accuracy.svg\")\n",
    "    visualize.plot_train_loss(\n",
    "        history, \"Training Loss\", save=save_graphs,\n",
    "        path=FIGURE_PATH + \"model_train_loss.svg\")"
   ]
  },
  {
   "cell_type": "code",
   "execution_count": 13,
   "metadata": {
    "colab": {
     "base_uri": "https://localhost:8080/",
     "height": 376
    },
    "colab_type": "code",
    "executionInfo": {
     "elapsed": 1164,
     "status": "ok",
     "timestamp": 1540501630360,
     "user": {
      "displayName": "Andrew Mackay",
      "photoUrl": "https://lh3.googleusercontent.com/-24hiGmdxZDE/AAAAAAAAAAI/AAAAAAAAL_I/RW7nqM11LkM/s64/photo.jpg",
      "userId": "06804410358976473893"
     },
     "user_tz": -60
    },
    "id": "Xl4fYSzlnyMQ",
    "outputId": "a1c42f61-2647-40d9-aace-511cf9e86c88"
   },
   "outputs": [
    {
     "data": {
      "image/png": "[encoded data removed]",
      "text/plain": [
       "<Figure size 432x288 with 1 Axes>"
      ]
     },
     "metadata": {
      "needs_background": "light"
     },
     "output_type": "display_data"
    }
   ],
   "source": [
    "visualize.plot_evaluation_bar(\n",
    "    data_folders,\n",
    "    ['1','1.5', '2', '3'],\n",
    "    \"Effect of Spectrogram Duration on Classification\",\n",
    "    'Spectrogram Duration (s)',\n",
    "    'Test Accuracy',\n",
    "    save=save_graphs,\n",
    "    path=FIGURE_PATH + \"accuracy.svg\")"
   ]
  },
  {
   "cell_type": "code",
   "execution_count": 14,
   "metadata": {
    "colab": {
     "base_uri": "https://localhost:8080/",
     "height": 376
    },
    "colab_type": "code",
    "executionInfo": {
     "elapsed": 1225,
     "status": "ok",
     "timestamp": 1540501632482,
     "user": {
      "displayName": "Andrew Mackay",
      "photoUrl": "https://lh3.googleusercontent.com/-24hiGmdxZDE/AAAAAAAAAAI/AAAAAAAAL_I/RW7nqM11LkM/s64/photo.jpg",
      "userId": "06804410358976473893"
     },
     "user_tz": -60
    },
    "id": "4xK5z2XNiCBG",
    "outputId": "ae606ec3-cca7-4293-ce61-3ccf14944b29"
   },
   "outputs": [
    {
     "data": {
      "image/png": "[encoded data removed]",
      "text/plain": [
       "<Figure size 432x288 with 1 Axes>"
      ]
     },
     "metadata": {
      "needs_background": "light"
     },
     "output_type": "display_data"
    }
   ],
   "source": [
    "visualize.plot_evaluation_bar(\n",
    "    data_folders,\n",
    "    ['1','1.5', '2', '3'],\n",
    "    \"Effect of Spectrogram Duration on Classification\",\n",
    "    'Spectrogram Duration (s)',\n",
    "    'Test Loss',\n",
    "    metric=\"loss\",\n",
    "    save=save_graphs,\n",
    "    path=FIGURE_PATH + \"loss.svg\")"
   ]
  },
  {
   "cell_type": "markdown",
   "metadata": {
    "colab_type": "text",
    "id": "3RbO87Khlm4p"
   },
   "source": [
    "### Save Model"
   ]
  },
  {
   "cell_type": "code",
   "execution_count": null,
   "metadata": {
    "colab": {},
    "colab_type": "code",
    "id": "_PO4Wg4h3pJz"
   },
   "outputs": [],
   "source": [
    "if save_model and not load_model_flag:\n",
    "    model.save(MODEL_PATH + \"cnn_64_128.h5\")"
   ]
  },
  {
   "cell_type": "markdown",
   "metadata": {
    "colab_type": "text",
    "id": "478w01d1xuFs"
   },
   "source": [
    "### Save Classification Report and Confusion Matricies"
   ]
  },
  {
   "cell_type": "code",
   "execution_count": null,
   "metadata": {
    "colab": {},
    "colab_type": "code",
    "id": "WE2MBBFdxnlR"
   },
   "outputs": [],
   "source": [
    "if save_report:\n",
    "    file = open(REPORT_PATH + 'Classification_and_Confusion.txt', 'w') \n",
    "\n",
    "    for folder_name, value in data_folders.items():    \n",
    "        file.write(\"--------------------------------------------------\\n\") \n",
    "        file.write(\"Test set name: \" + folder_name + \"\\n\") \n",
    "        file.write(\"Accuracy: \" + str(np.round(value[\"accuracy\"], 2)) + \"\\n\")\n",
    "        file.write(\"Loss: \" + str(np.round(value[\"loss\"], 2)) + \"\\n\")\n",
    "        file.write(\"Classification Report:\\n\") \n",
    "        file.write(value['classification_report'])\n",
    "        file.write(\"Confusion Matrix:\\n\") \n",
    "        file.write(np.array2string(value['confusion_matrix']) + \"\\n\")\n",
    "\n",
    "    file.close() "
   ]
  },
  {
   "cell_type": "code",
   "execution_count": null,
   "metadata": {
    "colab": {},
    "colab_type": "code",
    "id": "SdRUWDox-yVN"
   },
   "outputs": [],
   "source": []
  }
 ],
 "metadata": {
  "accelerator": "GPU",
  "colab": {
   "collapsed_sections": [],
   "name": "experiment_5.ipynb",
   "provenance": [],
   "toc_visible": true,
   "version": "0.3.2"
  },
  "kernelspec": {
   "display_name": "Python 3",
   "language": "python",
   "name": "python3"
  },
  "language_info": {
   "codemirror_mode": {
    "name": "ipython",
    "version": 3
   },
   "file_extension": ".py",
   "mimetype": "text/x-python",
   "name": "python",
   "nbconvert_exporter": "python",
   "pygments_lexer": "ipython3",
   "version": "3.6.6"
  }
 },
 "nbformat": 4,
 "nbformat_minor": 1
}
