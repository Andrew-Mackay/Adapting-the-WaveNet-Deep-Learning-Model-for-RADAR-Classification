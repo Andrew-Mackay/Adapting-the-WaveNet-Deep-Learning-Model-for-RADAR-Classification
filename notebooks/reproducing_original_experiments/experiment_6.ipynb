{
 "cells": [
  {
   "cell_type": "markdown",
   "metadata": {
    "colab_type": "text",
    "id": "LnU4VGgjH1mW"
   },
   "source": [
    "# Experiment 6: The model is trained on 5 of the 6 subjects then evaluated on the 6th. This is done for each subject."
   ]
  },
  {
   "cell_type": "markdown",
   "metadata": {
    "colab_type": "text",
    "id": "2sqmYc1yQb-k"
   },
   "source": [
    "*   0 degree aspect angle\n",
    "*   All actions\n",
    "*   The letter (A, B, C or D) signifies the person whose data is used for the test samples\n",
    "*   64-128 model\n",
    "\n",
    "\n"
   ]
  },
  {
   "cell_type": "markdown",
   "metadata": {
    "colab_type": "text",
    "id": "bZxhO7V0ZHUE"
   },
   "source": [
    "## Notebook setup"
   ]
  },
  {
   "cell_type": "markdown",
   "metadata": {
    "colab_type": "text",
    "id": "x5jAnxaaZLzZ"
   },
   "source": [
    "Allow editing of modules using editor (auto reloading)"
   ]
  },
  {
   "cell_type": "code",
   "execution_count": 0,
   "metadata": {
    "colab": {},
    "colab_type": "code",
    "id": "B0BUpP5MYIJh"
   },
   "outputs": [],
   "source": [
    "%load_ext autoreload\n",
    "%autoreload 2"
   ]
  },
  {
   "cell_type": "markdown",
   "metadata": {
    "colab_type": "text",
    "id": "QwLbqieVYIJt"
   },
   "source": [
    "Needed for compatibility when using both CoLab and Local Jupyter notebook. It sets the appropriate file path for the data and also installs local packages such as models and data_loading."
   ]
  },
  {
   "cell_type": "code",
   "execution_count": 2,
   "metadata": {
    "colab": {
     "base_uri": "https://localhost:8080/",
     "height": 166
    },
    "colab_type": "code",
    "executionInfo": {
     "elapsed": 5855,
     "status": "ok",
     "timestamp": 1540501713641,
     "user": {
      "displayName": "Andrew Mackay",
      "photoUrl": "https://lh3.googleusercontent.com/-24hiGmdxZDE/AAAAAAAAAAI/AAAAAAAAL_I/RW7nqM11LkM/s64/photo.jpg",
      "userId": "06804410358976473893"
     },
     "user_tz": -60
    },
    "id": "R4gyouWAYIJw",
    "outputId": "e1b248d8-e447-4dd1-edba-bfbc7db3adbe"
   },
   "outputs": [
    {
     "name": "stdout",
     "output_type": "stream",
     "text": [
      "Drive already mounted at /content/gdrive; to attempt to forcibly remount, call drive.mount(\"/content/gdrive\", force_remount=True).\n",
      "Obtaining file:///content/gdrive/My%20Drive/Level-4-Project\n",
      "Installing collected packages: src\n",
      "  Found existing installation: src 0.1.0\n",
      "    Can't uninstall 'src'. No files were found to uninstall.\n",
      "  Running setup.py develop for src\n",
      "Successfully installed src\n"
     ]
    },
    {
     "name": "stderr",
     "output_type": "stream",
     "text": [
      "Using TensorFlow backend.\n"
     ]
    }
   ],
   "source": [
    "import os\n",
    "if os.getcwd() == '/content':\n",
    "    from google.colab import drive\n",
    "    drive.mount('/content/gdrive')\n",
    "    BASE_PATH = '/content/gdrive/My Drive/Level-4-Project/'\n",
    "    !cd gdrive/My\\ Drive/Level-4-Project/ && pip install --editable .\n",
    "    os.chdir('gdrive/My Drive/Level-4-Project/')\n",
    "    \n",
    "elif os.getcwd() == 'C:\\\\Users\\\\macka\\\\Google Drive\\\\Level-4-Project\\\\notebooks\\\\reproducing_original_experiments':\n",
    "    BASE_PATH = \"C:/Users/macka/Google Drive/Level-4-Project/\"\n",
    "    \n",
    "else:\n",
    "    BASE_PATH = \"/export/home/2192793m/Level-4-Project/\"\n",
    "\n",
    "DATA_PATH = BASE_PATH + 'data/'\n",
    "MODEL_PATH = BASE_PATH + 'models/original_experiments/experiment_6/'\n",
    "FIGURE_PATH = BASE_PATH + 'reports/figures/original_experiments/experiment_6/'\n",
    "REPORT_PATH = BASE_PATH + 'reports/original_experiments/experiment_6/'  \n",
    "\n",
    "from src.models.original_models import cnn_64_128\n",
    "from src.data import load_data\n",
    "from src.visualization import multiple_plots"
   ]
  },
  {
   "cell_type": "markdown",
   "metadata": {
    "colab_type": "text",
    "id": "rgYwaq1eZb5u"
   },
   "source": [
    "Import remaining packages"
   ]
  },
  {
   "cell_type": "code",
   "execution_count": 0,
   "metadata": {
    "colab": {},
    "colab_type": "code",
    "id": "_nstHjtlH0vD"
   },
   "outputs": [],
   "source": [
    "import numpy as np\n",
    "import sys\n",
    "from six.moves import cPickle\n",
    "from keras.preprocessing.image import ImageDataGenerator\n",
    "from keras.optimizers import SGD\n",
    "from keras.utils import np_utils\n",
    "import sys\n",
    "from sklearn.metrics import classification_report,confusion_matrix\n",
    "import csv\n",
    "from keras.models import load_model"
   ]
  },
  {
   "cell_type": "code",
   "execution_count": 0,
   "metadata": {
    "colab": {},
    "colab_type": "code",
    "id": "3_F6WuaMJ78g"
   },
   "outputs": [],
   "source": [
    "# Needed as originally code was for theano backend but now using tensor flow\n",
    "from keras import backend as K\n",
    "K.set_image_dim_ordering('th')"
   ]
  },
  {
   "cell_type": "markdown",
   "metadata": {
    "colab_type": "text",
    "id": "Oqq9LWY5ZiIB"
   },
   "source": [
    "## Experiment Setup and Parameter Definition"
   ]
  },
  {
   "cell_type": "code",
   "execution_count": 0,
   "metadata": {
    "colab": {},
    "colab_type": "code",
    "id": "510V9-2WJ97v"
   },
   "outputs": [],
   "source": [
    "# data_folders = ['noninitialised_A', 'noninitialised_B', 'noninitialised_C', 'noninitialised_D']"
   ]
  },
  {
   "cell_type": "code",
   "execution_count": 0,
   "metadata": {
    "colab": {},
    "colab_type": "code",
    "id": "xzxLAZjqIsxg"
   },
   "outputs": [],
   "source": [
    "load_models = False\n",
    "\n",
    "batch_size = 100\n",
    "nb_classes = 7\n",
    "nb_epoch = 150\n",
    "# nb_epoch = 1\n",
    "nb_train_samples = 34720\n",
    "# input image dimensions\n",
    "img_rows, img_cols = 75, 75\n",
    "# the CIFAR10 images are RGB\n",
    "\n",
    "target_names = ['ArmFasterTowards', 'ArmSlowerTowards', 'CirclingArm', 'Clapping', 'PickingUp', 'Sitting', 'Walking']\n",
    "\n",
    "data_folders = {\"noninitialised_A\": {}, \"noninitialised_B\": {}, \"noninitialised_C\": {}, \"noninitialised_D\": {}}\n",
    "for name, data_folder in data_folders.items():\n",
    "    if load_models:\n",
    "        data_folder[\"model\"] = load_model(MODEL_PATH + name + '.h5')\n",
    "    else:\n",
    "        data_folder[\"model\"] = cnn_64_128.make_model(img_rows, img_cols, nb_classes)"
   ]
  },
  {
   "cell_type": "markdown",
   "metadata": {
    "colab_type": "text",
    "id": "mjJ4B23bZz47"
   },
   "source": [
    "## Training and Evaluating Models"
   ]
  },
  {
   "cell_type": "code",
   "execution_count": 7,
   "metadata": {
    "colab": {
     "base_uri": "https://localhost:8080/",
     "height": 280
    },
    "colab_type": "code",
    "executionInfo": {
     "elapsed": 380979,
     "status": "ok",
     "timestamp": 1540502100074,
     "user": {
      "displayName": "Andrew Mackay",
      "photoUrl": "https://lh3.googleusercontent.com/-24hiGmdxZDE/AAAAAAAAAAI/AAAAAAAAL_I/RW7nqM11LkM/s64/photo.jpg",
      "userId": "06804410358976473893"
     },
     "user_tz": -60
    },
    "id": "zBSi_XeaSswZ",
    "outputId": "7123930b-1c29-49df-99dd-5fefdd184f7a"
   },
   "outputs": [
    {
     "name": "stdout",
     "output_type": "stream",
     "text": [
      "WARNING:tensorflow:Variable *= will be deprecated. Use `var.assign(var * other)` if you want assignment to the variable value or `x = x * y` if you want a new python Tensor object.\n",
      "Train on 34720 samples, validate on 6944 samples\n",
      "Epoch 1/1\n",
      "34720/34720 [==============================] - 75s 2ms/step - loss: 0.5679 - acc: 0.7791 - val_loss: 0.0222 - val_acc: 0.9974\n",
      "Train on 34720 samples, validate on 6944 samples\n",
      "Epoch 1/1\n",
      "34720/34720 [==============================] - 71s 2ms/step - loss: 0.4496 - acc: 0.8260 - val_loss: 1.8661 - val_acc: 0.7105\n",
      "Train on 34720 samples, validate on 6944 samples\n",
      "Epoch 1/1\n",
      "34720/34720 [==============================] - 71s 2ms/step - loss: 0.5122 - acc: 0.7983 - val_loss: 0.1686 - val_acc: 0.9427\n",
      "Train on 34720 samples, validate on 6944 samples\n",
      "Epoch 1/1\n",
      "34720/34720 [==============================] - 71s 2ms/step - loss: 0.6073 - acc: 0.7677 - val_loss: 0.3329 - val_acc: 0.8871\n"
     ]
    }
   ],
   "source": [
    "for name, data_folder in data_folders.items():\n",
    "    # the data, shuffled and split between train and test sets\n",
    "    (X_train, y_train), (X_test, y_test) = load_data.load_data((DATA_PATH + name), nb_train_samples)\n",
    "\n",
    "    # convert class vectors to binary class matrices\n",
    "    Y_train = np_utils.to_categorical(y_train, nb_classes)\n",
    "    Y_test = np_utils.to_categorical(y_test, nb_classes)\n",
    "    if not load_models:    \n",
    "        # train the model using SGD + momentum.\n",
    "        sgd = SGD(lr=0.01, decay=1e-6, momentum=0.9, nesterov=True)\n",
    "        data_folder[\"model\"].compile(loss='categorical_crossentropy',\n",
    "                      optimizer=sgd,\n",
    "                      metrics=['accuracy'])\n",
    "\n",
    "        X_train = X_train.astype('float32')\n",
    "        X_test = X_test.astype('float32')\n",
    "        X_train /= 255\n",
    "        X_test /= 255\n",
    "\n",
    "        history = data_folder[\"model\"].fit(\n",
    "            X_train,\n",
    "            Y_train,\n",
    "            batch_size=batch_size,\n",
    "            epochs=nb_epoch,\n",
    "            validation_data=(X_test, Y_test),\n",
    "            shuffle=True,\n",
    "            verbose=1)\n",
    "        data_folder[\"history\"] = history\n",
    "\n",
    "\n",
    "    y_pred = data_folder[\"model\"].predict_classes(X_test)\n",
    "    data_folder[\"classification_report\"] = classification_report(\n",
    "        np.argmax(Y_test,axis=1),\n",
    "        y_pred,\n",
    "        target_names=target_names)\n",
    "    data_folder[\"confusion_matrix\"] = confusion_matrix(\n",
    "        np.argmax(Y_test,axis=1), y_pred)"
   ]
  },
  {
   "cell_type": "markdown",
   "metadata": {
    "colab_type": "text",
    "id": "uQM5If7oiwM8"
   },
   "source": [
    "## Analysis and Saving of Results"
   ]
  },
  {
   "cell_type": "code",
   "execution_count": 0,
   "metadata": {
    "colab": {},
    "colab_type": "code",
    "id": "x8jWeydUrPVD"
   },
   "outputs": [],
   "source": [
    "save_graph = True\n",
    "save_model = True\n",
    "save_report = True"
   ]
  },
  {
   "cell_type": "markdown",
   "metadata": {
    "colab_type": "text",
    "id": "NeE9uly2XOTp"
   },
   "source": [
    "### Plot and Save graph"
   ]
  },
  {
   "cell_type": "code",
   "execution_count": 9,
   "metadata": {
    "colab": {
     "base_uri": "https://localhost:8080/",
     "height": 376
    },
    "colab_type": "code",
    "executionInfo": {
     "elapsed": 1217,
     "status": "ok",
     "timestamp": 1540502103693,
     "user": {
      "displayName": "Andrew Mackay",
      "photoUrl": "https://lh3.googleusercontent.com/-24hiGmdxZDE/AAAAAAAAAAI/AAAAAAAAL_I/RW7nqM11LkM/s64/photo.jpg",
      "userId": "06804410358976473893"
     },
     "user_tz": -60
    },
    "id": "oNLxC8quhbYf",
    "outputId": "1d762b78-012e-499b-c045-634f175f6bf6"
   },
   "outputs": [
    {
     "data": {
      "image/png": "[encoded data removed]",
      "text/plain": [
       "<matplotlib.figure.Figure at 0x7f05eb154c50>"
      ]
     },
     "metadata": {
      "tags": []
     },
     "output_type": "display_data"
    }
   ],
   "source": [
    "if not load_models:\n",
    "    multiple_plots.plot_multiple_val_acc(\n",
    "        data_folders,\n",
    "        \"Robustness Test\",\n",
    "        save=save_graph,\n",
    "        path=FIGURE_PATH + \"comparison.svg\")"
   ]
  },
  {
   "cell_type": "markdown",
   "metadata": {
    "colab_type": "text",
    "id": "oKjaNI1Dezgg"
   },
   "source": [
    "### Save Models"
   ]
  },
  {
   "cell_type": "code",
   "execution_count": 0,
   "metadata": {
    "colab": {},
    "colab_type": "code",
    "id": "_PO4Wg4h3pJz"
   },
   "outputs": [],
   "source": [
    "if not load_models and save_model:\n",
    "    for name, data_folder in data_folders.items():\n",
    "        data_folder['model'].save(MODEL_PATH + name + '.h5')"
   ]
  },
  {
   "cell_type": "markdown",
   "metadata": {
    "colab_type": "text",
    "id": "478w01d1xuFs"
   },
   "source": [
    "### Save Classification Report and Confusion Matricies"
   ]
  },
  {
   "cell_type": "code",
   "execution_count": 0,
   "metadata": {
    "colab": {},
    "colab_type": "code",
    "id": "WE2MBBFdxnlR"
   },
   "outputs": [],
   "source": [
    "if save_report:\n",
    "    file = open(REPORT_PATH + 'Classification_and_Confusion.txt', 'w') \n",
    "\n",
    "    for name, data_folder in data_folders.items():\n",
    "        file.write(\"--------------------------------------------------\\n\") \n",
    "        file.write(\"Data Name: \" + name + \"\\n\") \n",
    "        file.write(\"Classification Report:\\n\") \n",
    "        file.write(data_folder['classification_report'])\n",
    "        file.write(\"Confusion Matrix:\\n\") \n",
    "        file.write(np.array2string(data_folder['confusion_matrix']) + \"\\n\")\n",
    "\n",
    "    file.close() "
   ]
  },
  {
   "cell_type": "code",
   "execution_count": 0,
   "metadata": {
    "colab": {},
    "colab_type": "code",
    "id": "uIx0CH1inVBq"
   },
   "outputs": [],
   "source": []
  }
 ],
 "metadata": {
  "accelerator": "GPU",
  "colab": {
   "collapsed_sections": [],
   "name": "experiment_6.ipynb",
   "provenance": [],
   "toc_visible": true,
   "version": "0.3.2"
  },
  "kernelspec": {
   "display_name": "Python 3",
   "language": "python",
   "name": "python3"
  },
  "language_info": {
   "codemirror_mode": {
    "name": "ipython",
    "version": 3
   },
   "file_extension": ".py",
   "mimetype": "text/x-python",
   "name": "python",
   "nbconvert_exporter": "python",
   "pygments_lexer": "ipython3",
   "version": "3.6.6"
  }
 },
 "nbformat": 4,
 "nbformat_minor": 1
}
