{
 "cells": [
  {
   "cell_type": "code",
   "execution_count": 1,
   "metadata": {},
   "outputs": [],
   "source": [
    "# Needed for notebook version\n",
    "%matplotlib inline\n",
    "# Needed to allow editing using PyCharm\n",
    "%load_ext autoreload\n",
    "%autoreload 2"
   ]
  },
  {
   "cell_type": "code",
   "execution_count": 2,
   "metadata": {},
   "outputs": [],
   "source": [
    "import os\n",
    "if os.getcwd() == '/content':\n",
    "    from google.colab import drive\n",
    "    drive.mount('/content/gdrive')\n",
    "    BASE_PATH = '/content/gdrive/My Drive/Level-4-Project/'\n",
    "    !cd gdrive/My\\ Drive/Level-4-Project/ && pip install --editable .\n",
    "    os.chdir('gdrive/My Drive/Level-4-Project/')\n",
    "    \n",
    "elif os.getcwd() == 'C:\\\\Users\\\\macka\\\\Google Drive\\\\Level-4-Project\\\\notebooks\\\\data_processing' or os.getcwd() == 'C:\\\\Users\\\\macka\\\\Google Drive\\\\Level-4-Project\\\\src\\\\features':\n",
    "    BASE_PATH = \"C:/Users/macka/Google Drive/Level-4-Project/\"\n",
    "    \n",
    "else:\n",
    "    BASE_PATH = \"/export/home/2192793m/Level-4-Project/\"\n",
    "    \n",
    "DATA_PATH = BASE_PATH + 'data/'\n",
    "INTERIM_PATH = DATA_PATH + 'interim/'\n",
    "PROCESSED_PATH = DATA_PATH + 'processed/'"
   ]
  },
  {
   "cell_type": "code",
   "execution_count": 4,
   "metadata": {},
   "outputs": [],
   "source": [
    "import numpy as np\n",
    "import matplotlib.pyplot as plt\n",
    "import pickle\n",
    "from PIL import Image\n",
    "import glob\n",
    "from src.features import make_directory"
   ]
  },
  {
   "cell_type": "code",
   "execution_count": 28,
   "metadata": {},
   "outputs": [],
   "source": [
    "IMAGE_SIZE = (75, 75)"
   ]
  },
  {
   "cell_type": "code",
   "execution_count": 45,
   "metadata": {},
   "outputs": [],
   "source": [
    "def process_image(path):\n",
    "    img = Image.open(path)  # open image 150x150\n",
    "    img = img.resize(IMAGE_SIZE, Image.ANTIALIAS) # resize to 75x75\n",
    "    img = img.convert('L') # convert to grayscale\n",
    "    img = (np.array(img)) # convert to numpy array \n",
    "    return img"
   ]
  },
  {
   "cell_type": "markdown",
   "metadata": {},
   "source": [
    "# Split by User\n",
    "* 3 seconds\n",
    "* 0 degrees\n",
    "* All movemnets\n",
    "* Train on all but one user, test on remaining user"
   ]
  },
  {
   "cell_type": "code",
   "execution_count": 58,
   "metadata": {},
   "outputs": [],
   "source": [
    "user_a_data = []\n",
    "user_a_labels = []\n",
    "user_b_data = []\n",
    "user_b_labels = []\n",
    "user_c_data = []\n",
    "user_c_labels = []\n",
    "user_d_data = []\n",
    "user_d_labels = []\n",
    "user_e_data = []\n",
    "user_e_labels = []\n",
    "user_f_data = []\n",
    "user_f_labels = []"
   ]
  },
  {
   "cell_type": "code",
   "execution_count": 59,
   "metadata": {},
   "outputs": [],
   "source": [
    "for path in glob.glob(INTERIM_PATH + \"3/*/0/*/*.png\"):\n",
    "    split_path = path.split(\"\\\\\")\n",
    "    user = split_path[-4]\n",
    "    label = split_path[-2]\n",
    "    if user == \"A\":\n",
    "        user_a_labels.append(label)\n",
    "        user_a_data.append(process_image(path))\n",
    "    \n",
    "    elif user == \"B\":\n",
    "        user_b_labels.append(label)\n",
    "        user_b_data.append(process_image(path))\n",
    "        \n",
    "    elif user == \"C\":\n",
    "        user_c_labels.append(label)\n",
    "        user_c_data.append(process_image(path))        \n",
    "\n",
    "    elif user == \"D\":\n",
    "        user_d_labels.append(label)\n",
    "        user_d_data.append(process_image(path)) \n",
    "        \n",
    "    elif user == \"E\":\n",
    "        user_e_labels.append(label)\n",
    "        user_e_data.append(process_image(path)) \n",
    "        \n",
    "    elif user == \"F\":\n",
    "        user_f_labels.append(label)\n",
    "        user_f_data.append(process_image(path)) "
   ]
  },
  {
   "cell_type": "code",
   "execution_count": 60,
   "metadata": {},
   "outputs": [],
   "source": [
    "def save_set(train_data, train_labels, test_data, test_labels, dataset_name):\n",
    "    save_path = PROCESSED_PATH + dataset_name\n",
    "    if not os.path.exists(save_path):\n",
    "        os.makedirs(save_path)\n",
    "    pickle.dump(np.array(train_data, np.uint8), open(save_path + \"/train_data.pkl\", \"wb\"))\n",
    "    pickle.dump(np.array(test_data, np.uint8), open(save_path + \"/test_data.pkl\", \"wb\"))\n",
    "    pickle.dump(np.array(train_labels), open(save_path + \"/train_labels.pkl\", \"wb\"))\n",
    "    pickle.dump(np.array(test_labels), open(save_path + \"/test_labels.pkl\", \"wb\"))"
   ]
  },
  {
   "cell_type": "markdown",
   "metadata": {},
   "source": [
    "## Dataset 1: All But A"
   ]
  },
  {
   "cell_type": "code",
   "execution_count": 61,
   "metadata": {},
   "outputs": [],
   "source": [
    "train_data = [*user_b_data, *user_c_data, *user_d_data, *user_e_data, *user_f_data]\n",
    "train_labels = [*user_b_labels, *user_c_labels, *user_d_labels, *user_e_labels, *user_f_labels]\n",
    "save_set(train_data, train_labels, user_a_data, user_a_labels, \"dataset_1\")"
   ]
  },
  {
   "cell_type": "markdown",
   "metadata": {},
   "source": [
    "## Dataset 2: All But B\n"
   ]
  },
  {
   "cell_type": "code",
   "execution_count": 62,
   "metadata": {},
   "outputs": [],
   "source": [
    "train_data = [*user_a_data, *user_c_data, *user_d_data, *user_e_data, *user_f_data]\n",
    "train_labels = [*user_a_labels, *user_c_labels, *user_d_labels, *user_e_labels, *user_f_labels]\n",
    "save_set(train_data, train_labels, user_b_data, user_b_labels, \"dataset_2\")"
   ]
  },
  {
   "cell_type": "markdown",
   "metadata": {},
   "source": [
    "## Dataset 3: All But C\n"
   ]
  },
  {
   "cell_type": "code",
   "execution_count": 63,
   "metadata": {},
   "outputs": [],
   "source": [
    "train_data = [*user_a_data, *user_b_data, *user_d_data, *user_e_data, *user_f_data]\n",
    "train_labels = [*user_a_labels, *user_b_labels, *user_d_labels, *user_e_labels, *user_f_labels]\n",
    "save_set(train_data, train_labels, user_c_data, user_c_labels, \"dataset_3\")"
   ]
  },
  {
   "cell_type": "markdown",
   "metadata": {},
   "source": [
    "## Dataset 4: All But D\n"
   ]
  },
  {
   "cell_type": "code",
   "execution_count": 64,
   "metadata": {},
   "outputs": [],
   "source": [
    "train_data = [*user_a_data, *user_b_data, *user_c_data, *user_e_data, *user_f_data]\n",
    "train_labels = [*user_a_labels, *user_b_labels, *user_c_labels, *user_e_labels, *user_f_labels]\n",
    "save_set(train_data, train_labels, user_d_data, user_d_labels, \"dataset_4\")"
   ]
  },
  {
   "cell_type": "markdown",
   "metadata": {},
   "source": [
    "## Dataset 5: All But E"
   ]
  },
  {
   "cell_type": "code",
   "execution_count": 65,
   "metadata": {},
   "outputs": [],
   "source": [
    "train_data = [*user_a_data, *user_b_data, *user_c_data, *user_d_data, *user_f_data]\n",
    "train_labels = [*user_a_labels, *user_b_labels, *user_c_labels, *user_d_labels, *user_f_labels]\n",
    "save_set(train_data, train_labels, user_e_data, user_e_labels, \"dataset_5\")"
   ]
  },
  {
   "cell_type": "markdown",
   "metadata": {},
   "source": [
    "## Dataset 6: All But F"
   ]
  },
  {
   "cell_type": "code",
   "execution_count": 66,
   "metadata": {},
   "outputs": [],
   "source": [
    "train_data = [*user_a_data, *user_b_data, *user_c_data, *user_d_data, *user_e_data]\n",
    "train_labels = [*user_a_labels, *user_b_labels, *user_c_labels, *user_d_labels, *user_e_labels]\n",
    "save_set(train_data, train_labels, user_f_data, user_f_labels, \"dataset_6\")"
   ]
  },
  {
   "cell_type": "markdown",
   "metadata": {},
   "source": [
    "# Next Dataset Type"
   ]
  },
  {
   "cell_type": "code",
   "execution_count": 0,
   "metadata": {
    "colab": {},
    "colab_type": "code",
    "id": "r0cyu9elMfO2"
   },
   "outputs": [],
   "source": []
  }
 ],
 "metadata": {
  "colab": {
   "name": "cifar_creation_and_image_processing.ipynb",
   "provenance": [],
   "version": "0.3.2"
  },
  "kernelspec": {
   "display_name": "Python 3",
   "language": "python",
   "name": "python3"
  },
  "language_info": {
   "codemirror_mode": {
    "name": "ipython",
    "version": 3
   },
   "file_extension": ".py",
   "mimetype": "text/x-python",
   "name": "python",
   "nbconvert_exporter": "python",
   "pygments_lexer": "ipython3",
   "version": "3.6.6"
  }
 },
 "nbformat": 4,
 "nbformat_minor": 1
}
