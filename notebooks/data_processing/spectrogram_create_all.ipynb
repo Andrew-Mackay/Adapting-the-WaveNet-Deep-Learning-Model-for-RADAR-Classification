{
 "cells": [
  {
   "cell_type": "code",
   "execution_count": null,
   "metadata": {},
   "outputs": [],
   "source": [
    "# Set matplotlib backend (much more efficient as no longer showing plot)\n",
    "import matplotlib\n",
    "matplotlib.use('Agg')"
   ]
  },
  {
   "cell_type": "code",
   "execution_count": 8,
   "metadata": {},
   "outputs": [
    {
     "name": "stdout",
     "output_type": "stream",
     "text": [
      "The autoreload extension is already loaded. To reload it, use:\n",
      "  %reload_ext autoreload\n"
     ]
    }
   ],
   "source": [
    "# Needed for notebook version\n",
    "%matplotlib inline\n",
    "# Needed to allow editing using PyCharm\n",
    "%load_ext autoreload\n",
    "%autoreload 2"
   ]
  },
  {
   "cell_type": "code",
   "execution_count": 9,
   "metadata": {},
   "outputs": [],
   "source": [
    "WINDOW_LENGTH = 3"
   ]
  },
  {
   "cell_type": "code",
   "execution_count": 10,
   "metadata": {},
   "outputs": [],
   "source": [
    "import os\n",
    "if os.getcwd() == '/content':\n",
    "    from google.colab import drive\n",
    "    drive.mount('/content/gdrive')\n",
    "    BASE_PATH = '/content/gdrive/My Drive/Level-4-Project/'\n",
    "    !cd gdrive/My\\ Drive/Level-4-Project/ && pip install --editable .\n",
    "    os.chdir('gdrive/My Drive/Level-4-Project/')\n",
    "    \n",
    "elif os.getcwd() == 'C:\\\\Users\\\\macka\\\\Google Drive\\\\Level-4-Project\\\\notebooks\\\\data_processing' or os.getcwd() == 'C:\\\\Users\\\\macka\\\\Google Drive\\\\Level-4-Project\\\\src\\\\features':\n",
    "    BASE_PATH = \"C:/Users/macka/Google Drive/Level-4-Project/\"\n",
    "    \n",
    "else:\n",
    "    BASE_PATH = \"/export/home/2192793m/Level-4-Project/\"\n",
    "    \n",
    "DATA_PATH = BASE_PATH + 'data/'\n",
    "RAW_PATH = DATA_PATH + 'raw/'\n",
    "INTERIM_PATH = DATA_PATH + 'interim/'"
   ]
  },
  {
   "cell_type": "code",
   "execution_count": 11,
   "metadata": {},
   "outputs": [],
   "source": [
    "from src.features import make_spectrograms, process_labels, make_directory"
   ]
  },
  {
   "cell_type": "code",
   "execution_count": 12,
   "metadata": {},
   "outputs": [],
   "source": [
    "import pandas as pd\n",
    "import numpy as np\n",
    "import matplotlib.pyplot as plt\n",
    "from matplotlib import mlab\n",
    "from matplotlib import colors\n",
    "from scipy.signal import butter, freqz, lfilter, spectrogram\n",
    "import time"
   ]
  },
  {
   "cell_type": "code",
   "execution_count": 13,
   "metadata": {},
   "outputs": [],
   "source": [
    "df_labels = pd.read_csv(RAW_PATH + 'Labels.csv')\n",
    "df_labels.rename(columns={'dataset ID':'dataset_id'}, inplace=True)"
   ]
  },
  {
   "cell_type": "code",
   "execution_count": 14,
   "metadata": {},
   "outputs": [],
   "source": [
    "df_labels = process_labels.process_labels(df_labels)"
   ]
  },
  {
   "cell_type": "code",
   "execution_count": null,
   "metadata": {},
   "outputs": [],
   "source": [
    "image_width = 150\n",
    "image_height = 150\n",
    "minimum_value = 35\n",
    "norm = colors.Normalize(vmin=minimum_value, vmax=None, clip=True)"
   ]
  },
  {
   "cell_type": "code",
   "execution_count": 32,
   "metadata": {
    "scrolled": false
   },
   "outputs": [
    {
     "name": "stdout",
     "output_type": "stream",
     "text": [
      "Processing row 11 of 123\n"
     ]
    }
   ],
   "source": [
    "number_of_rows = df_labels.shape[0]\n",
    "current_row = 1\n",
    "for row in df_labels.itertuples():\n",
    "    start_time = time.time()\n",
    "    print(\"Processing row\", current_row, \"of\", number_of_rows)\n",
    "    file_name = RAW_PATH + \"Dataset_\" + str(row.dataset_id) + \".dat\"\n",
    "    file_path = make_directory.make_directory(\n",
    "        INTERIM_PATH, WINDOW_LENGTH, row.user_label, row.aspect_angle, row.label)\n",
    "    \n",
    "    radar_df = pd.read_table(file_name, sep=\"\\n\", header=None)\n",
    "    spectrograms = make_spectrograms.make_spectrograms(radar_df)\n",
    "    np.save(file_path + \"/\" + str(current_row) + \"_numpy_spectrogram.npy\", spectrograms)  # save matrix version of spectrograms\n",
    "    current_row += 1\n",
    "    count = 1\n",
    "    for spectrogram in spectrograms:\n",
    "        fig = plt.figure(frameon=False)\n",
    "        fig.set_size_inches(image_width, image_height)\n",
    "        ax = plt.Axes(fig, [0., 0., 1., 1.])\n",
    "        ax.set_axis_off()\n",
    "        fig.add_axes(ax)\n",
    "        ax.imshow(20 * np.log10(abs(spectrogram)), cmap='jet', norm=norm)\n",
    "        fig.savefig(file_path + \"/\" + str(current_row) + \"_\" + str(count)+\".png\", dpi=1)\n",
    "        plt.close(fig)\n",
    "        count += 1\n",
    "\n",
    "    current_row += 1\n",
    "    time_for_row = (time.time() - start_time)/60\n",
    "    print(\"---Row took %s minutes ---\" % (int(time_for_row)))"
   ]
  }
 ],
 "metadata": {
  "kernelspec": {
   "display_name": "Python 3",
   "language": "python",
   "name": "python3"
  },
  "language_info": {
   "codemirror_mode": {
    "name": "ipython",
    "version": 3
   },
   "file_extension": ".py",
   "mimetype": "text/x-python",
   "name": "python",
   "nbconvert_exporter": "python",
   "pygments_lexer": "ipython3",
   "version": "3.6.6"
  }
 },
 "nbformat": 4,
 "nbformat_minor": 2
}
